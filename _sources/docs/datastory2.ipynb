{
 "cells": [
  {
   "cell_type": "markdown",
   "id": "8d3512d3",
   "metadata": {},
   "source": [
    "# Datastory 2"
   ]
  },
  {
   "cell_type": "code",
   "execution_count": null,
   "id": "92ade6ac",
   "metadata": {},
   "outputs": [],
   "source": [
    "%run nuclear_energy_incidents.ipynb"
   ]
  },
  {
   "cell_type": "markdown",
   "id": "646f3b94",
   "metadata": {},
   "source": [
    "This is a choropleth map showing nuclear energy usage (as a percentage of total energy production) by country, alongside nuclear incident locations, for the year 2000, with a time slider at the bottom suggesting that this visualization is part of an animated timeline from 2000 to 2020. "
   ]
  },
  {
   "cell_type": "markdown",
   "id": "0c91342a",
   "metadata": {},
   "source": [
    "As part of our research on nuclear energy, we created a dynamic map that visualizes both global nuclear energy usage and historical nuclear incidents. This map isn’t just a static snapshot; it includes an interactive time slider that allows us to track how each country's reliance on nuclear power changed year by year from 2000 to 2020.\n",
    "\n",
    "The countries are color-coded based on the percentage of their electricity generated from nuclear sources. The color gradient runs from deep red, representing zero nuclear energy use, to bright green, showing countries where nuclear made up nearly 100% of their electricity generation. By moving the slider, we can watch how these colors shift over time—showing which countries expanded their nuclear programs and which reduced their reliance.\n",
    "\n",
    "<!-- For example, in the year 2000, countries like France already stood out in dark green, reflecting their heavy dependence on nuclear energy. Other nations, including Belgium, Sweden, Switzerland, and Japan, appeared in shades of yellow and light green, indicating moderate to high levels of nuclear contribution to their energy mix. In contrast, most of Africa, the Middle East, and large parts of Asia were deep red, showing little to no nuclear energy production. -->\n",
    "\n",
    "In addition to tracking energy trends, we included markers on the map to show where significant nuclear incidents occurred. These incidents span a longer historical range, from 1957 up until 2011. Each incident is represented by an “X” on the map, remaining visible throughout the entire timeline as a constant reminder of the risks associated with nuclear power. Some of the most recognizable locations include Ukraine, marking the site of the Chernobyl disaster in 1986, and Japan, highlighting the Tokaimura accident in 1999 and later the Fukushima disaster in 2011. There are also markers scattered across parts of Western Europe and Russia, showing a history of smaller but still significant nuclear events.\n",
    "\n",
    "Together, the evolving color gradients and the static incident markers tell a complex story. This map allows us to visually explore the growth and decline of nuclear power in different regions, set against the backdrop of the industry’s most critical moments in safety history. It serves as both a tool for analysis and a visual narrative of how the world has navigated the promises and perils of nuclear energy over the past several decades.\n"
   ]
  }
 ],
 "metadata": {
  "kernelspec": {
   "display_name": "global-dev",
   "language": "python",
   "name": "python3"
  },
  "language_info": {
   "codemirror_mode": {
    "name": "ipython",
    "version": 3
   },
   "file_extension": ".py",
   "mimetype": "text/x-python",
   "name": "python",
   "nbconvert_exporter": "python",
   "pygments_lexer": "ipython3",
   "version": "3.12.5"
  }
 },
 "nbformat": 4,
 "nbformat_minor": 5
}
