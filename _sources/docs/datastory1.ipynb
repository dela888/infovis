{
 "cells": [
  {
   "cell_type": "markdown",
   "id": "4876aecb",
   "metadata": {},
   "source": [
    "# Economics and Environment"
   ]
  },
  {
   "cell_type": "markdown",
   "id": "87dfeb55",
   "metadata": {},
   "source": [
    "In our first perspective we look at the low environmental impact of nuclear energy and its low costs in comparison with other energy sources.\n"
   ]
  },
  {
   "cell_type": "markdown",
   "id": "5d1848e1",
   "metadata": {},
   "source": [
    "## The Costs of Nuclear Energy\n",
    "\n",
    "Nuclear Energy is often seen as a good alternative due to its potential lower long-term costs. In this section we will look into the economic costs of nuclear energy relative to other forms of energy production.\n",
    "\n",
    "To do this we will use the *Levelised Cost of Electricity* (LCOE) which is a way of representing the cost of energy production in dollars per MWh. The LCOE takes the whole lifetime of a power plant into account, such as capital costs, operation, maintenance, fuel and other expenses.\n"
   ]
  },
  {
   "cell_type": "markdown",
   "id": "b3f24bc6",
   "metadata": {},
   "source": [
    "### Costs per Energy Source\n",
    "\n",
    "The following graph shows the *Levelised Cost of Electricity* for a number of different energy sources. "
   ]
  },
  {
   "cell_type": "code",
   "execution_count": null,
   "id": "cd58ea4e",
   "metadata": {},
   "outputs": [],
   "source": [
    "%run avg_lcoe.ipynb"
   ]
  },
  {
   "cell_type": "markdown",
   "id": "ff193477",
   "metadata": {},
   "source": [
    "<!-- - The chart displays that nuclear energy is the cheapest form of energy by far, whilst taking into account all potientially costly aspects of nuclear energy like the storage of nuclear waste. Gas is the second cheapest form of energy, being the cheapest fossil fuel, and it is followed by wind and solar.\n",
    "\n",
    "- We will now examine the advantage of nuclear energy over the other major energy sources. \n",
    "\n",
    "- Moving toward the mid-range, we find Combined Heat and Power (CHP), lignite, and geothermal energy, which represent transitional solutions with moderate costs. On the other end of the spectrum, coal, hydro, bioenergy, and especially fuel cell technology are significantly more expensive. Notably, fuel cells are nearly four times more costly than nuclear energy, which highlights how economically efficient nuclear power is. This cost advantage makes nuclear energy a strong contender in the global shift toward affordable low-carbon energy sources. -->\n",
    "\n",
    "- The chart shows that nuclear energy is by far the cheapest energy source, even when including costs like nuclear waste storage. Gas follows as the most affordable fossil fuel, with wind and solar trailing behind. \n",
    "\n",
    "- Combined Heat and Power (CHP), lignite, and geothermal occupy the mid-cost range. \n",
    "\n",
    "- In contrast, coal, hydro, and bioenergy are more expensive, with fuel cells nearly four times costlier than nuclear. This highlights nuclear’s strong economic advantage in low-carbon energy production."
   ]
  },
  {
   "cell_type": "markdown",
   "id": "d745997e",
   "metadata": {},
   "source": [
    "### Nuclear Energy Cost Advantage\n",
    "\n",
    "<!-- This graph shows the percentage cost advantage of nuclear energy compared to four common electricity generation sources: Wind, Solar, Gas and Coal. Each bar represents how much cheaper nuclear energy is on avarage compared to the other technology, based on their Levelised Cost of Electricity(LCOE). \n",
    "\n",
    "The graph is defided by y-axis and x-axis, where the y-axis shows the percentage by which nuclear is cheaper, while the x-asis shows the different energy sources. -->\n",
    "\n",
    "The graph highlights the cost advantage of nuclear energy compared to four common electricity sources: Wind, Solar, Gas, and Coal. The x-axis lists these energy types, while the y-axis shows the percentage by which nuclear is cheaper, based on the Levelised Cost of Electricity (LCOE).\n"
   ]
  },
  {
   "cell_type": "code",
   "execution_count": null,
   "id": "4762347b",
   "metadata": {},
   "outputs": [],
   "source": [
    "%run cost_advantage.ipynb"
   ]
  },
  {
   "cell_type": "markdown",
   "id": "66ed9090",
   "metadata": {},
   "source": [
    "The above graph shows: \n",
    "- Nuclear is consistently more affordable than all four alternatives.\n",
    "- The largest cost gap is with coal, where nuclear is 51.4% cheaper on average.\n",
    "- The smallest gap is with gas, yet nuclear still shows a 38.9% advantage.\n",
    "Hover text provides the absolute dollar difference per megawatt-hour, showing the actual price gap.\n",
    "This makes nuclear a highly economical low-carbon energy source and a strong alternative to fossil fuels."
   ]
  },
  {
   "cell_type": "markdown",
   "id": "4faea2de",
   "metadata": {},
   "source": [
    "## Environmental Impacts\n",
    "\n",
    "In the figure ‘Energy Source Environmental Impact Comparison’, energy sources are evaluated across multiple graphs, each representing a specific category of environmental impact.\n",
    "\n",
    "- The first graph shows greenhouse gas emission per energy source. These emissions contributes to global warming by trapping heat in the atmosphere causing rising temperatures, extreme weather events and sea level rising (Houghton, J., 2005). Nuclear energy emits the least greenhouse gases, thus having the lowest impact in this category.\n",
    "\n",
    "- The second graph presents excessive nutrients in water by energy source. Excessive nutrients causes ecological imbalances, eutrophication, algal blooms and oxygen depletion  (Wang, M., et al., 2019). Nuclear energy results in the lowest nutrient pollution.\n",
    "\n",
    "- The third graph shows ionising radiation levels per energy source. Radiation can damage DNA in cells which can lead to cellular malfunction, mutations, and cause illnesses like cancer (Dartnell, L. R., 2011). Populations decrease and biodiversity reduces, impacting the environment. Nuclear energy emits the second highest level, making it highly impactful in this area.\n",
    "\n",
    "- The fourth graph shows water usage per energy source. High water usage impacts the environment especially in urban environments and locations that deal with drought and water scarcity (Liu, J., et al., 2017). Nuclear energy has the second highest usage, however it uses less than half as much as the highest energy source ‘Coal’.\n",
    "\n",
    "- The fifth graph compares land use per energy source. Land use disrupts the structure and function of natural ecosystems, leading to habitat loss, causes long-term ecological imbalance and reduces biodiversity (National Research Council, 2005). Nuclear energy uses relatively little land, ranking near the bottom in impact.\n",
    "\n",
    "- The sixth graph shows the human toxicity of each energy resource. Toxicity stands for the harmful effects on human health, like cancer or other illnesses. Again nuclear energy causes the least amount of toxicity.\n",
    "\n",
    "- The seventh graph shows minerals and metals usage. Mining minerals and metals can lead to habitat destruction, polluting of water sources and the release of harmful substances into the environment (Aleksandrova, A. Y., & Timofeeva, S. S., 2021). Nuclear energy uses the least, minimizing its impact here.\n",
    "\n",
    "- The final graph covers uranium usage. Mining this radioactive element can cause water and soil contamination, potential health risks, and disruptions to ecosystems (Rankin, W. J., 2011). These impacts include Nuclear energy uses the most amount of uranium compared to the other energy sources.\n",
    "\n",
    "These graphs show that nuclear energy is better for the environment in many ways. In three of the graphs nuclear energy has a high impact on the environment, of which one of them is still less than half as much as the highest scoring energy source. However, in the remaining four graphs it is shown that nuclear energy has one of the least amount of impact. Looking at all these graphs it shows that nuclear energy has significantly less environmental impacts in most of the topics. In the figure ‘Energy Source Environmental Impact Comparison’, energy sources are evaluated across multiple graphs, each representing a specific category of environmental impact.\n",
    "\n",
    "The first graph shows greenhouse gas emission per energy source. These emissions contributes to global warming by trapping heat in the atmosphere causing rising temperatures, extreme weather events and sea level rising (Houghton, J., 2005). Nuclear energy emits the least greenhouse gases, thus having the lowest impact in this category.\n",
    "\n",
    "The second graph presents excessive nutrients in water by energy source. Excessive nutrients causes ecological imbalances, eutrophication, algal blooms and oxygen depletion  (Wang, M., et al., 2019). Nuclear energy results in the lowest nutrient pollution.\n",
    "\n",
    "The third graph shows ionising radiation levels per energy source. Radiation can damage DNA in cells which can lead to cellular malfunction, mutations, and cause illnesses like cancer (Dartnell, L. R., 2011). Populations decrease and biodiversity reduces, impacting the environment. Nuclear energy emits the second highest level, making it highly impactful in this area.\n",
    "\n",
    "The fourth graph shows water usage per energy source. High water usage impacts the environment especially in urban environments and locations that deal with drought and water scarcity (Liu, J., et al., 2017). Nuclear energy has the second highest usage, however it uses less than half as much as the highest energy source ‘Coal’.\n",
    "\n",
    "The fifth graph compares land use per energy source. Land use disrupts the structure and function of natural ecosystems, leading to habitat loss, causes long-term ecological imbalance and reduces biodiversity (National Research Council, 2005). Nuclear energy uses relatively little land, ranking near the bottom in impact.\n",
    "\n",
    "The sixth graph shows the human toxicity of each energy resource. Toxicity stands for the harmful effects on human health, like cancer or other illnesses. Again nuclear energy causes the least amount of toxicity.\n",
    "\n",
    "The seventh graph shows minerals and metals usage. Mining minerals and metals can lead to habitat destruction, polluting of water sources and the release of harmful substances into the environment (Aleksandrova, A. Y., & Timofeeva, S. S., 2021). Nuclear energy uses the least, minimizing its impact here.\n",
    "\n",
    "The final graph covers uranium usage. Mining this radioactive element can cause water and soil contamination, potential health risks, and disruptions to ecosystems (Rankin, W. J., 2011). These impacts include Nuclear energy uses the most amount of uranium compared to the other energy sources.\n",
    "\n",
    "These graphs show that nuclear energy is better for the environment in many ways. In three of the graphs nuclear energy has a high impact on the environment, of which one of them is still less than half as much as the highest scoring energy source. However, in the remaining four graphs it is shown that nuclear energy has one of the least amount of impact. Looking at all these graphs it shows that nuclear energy has significantly less environmental impacts in most of the topics."
   ]
  },
  {
   "cell_type": "code",
   "execution_count": null,
   "id": "abc8747a",
   "metadata": {},
   "outputs": [],
   "source": [
    "%run environment.ipynb  "
   ]
  },
  {
   "cell_type": "markdown",
   "id": "ac84421c",
   "metadata": {},
   "source": [
    "\n",
    "## Summary\n",
    "\n",
    "- Nuclear energy is the cheapest energy source by far. It is $51.4\\%$ cheaper than coal, and substantially cheaper than all other sources of energy, even sustainable ones. This makes nuclear energy the best economic choice for energy production.\n",
    "\n",
    "- Nuclear energy is also environmentally friendly. It is the best option in terms of $CO2$ emissions, freshwater eutrophication, land use, and metal and mineral requirements. Nuclear energy is the worst energy source in terms of uranium usage, which is understandable. It scores averagely on water usage, and is the second worst in terms of ionising radiation, in which solar is the worst. The upsides of nuclear energy in terms of environment outweigh the downsides, making it one of the greenest energy sources "
   ]
  }
 ],
 "metadata": {
  "kernelspec": {
   "display_name": "global-dev",
   "language": "python",
   "name": "python3"
  },
  "language_info": {
   "codemirror_mode": {
    "name": "ipython",
    "version": 3
   },
   "file_extension": ".py",
   "mimetype": "text/x-python",
   "name": "python",
   "nbconvert_exporter": "python",
   "pygments_lexer": "ipython3",
   "version": "3.12.5"
  }
 },
 "nbformat": 4,
 "nbformat_minor": 5
}
