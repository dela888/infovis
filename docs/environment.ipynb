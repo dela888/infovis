{
 "cells": [
  {
   "cell_type": "code",
   "execution_count": 5,
   "id": "d47f9e47",
   "metadata": {},
   "outputs": [
    {
     "data": {
      "application/vnd.plotly.v1+json": {
       "config": {
        "plotlyServerURL": "https://plot.ly"
       },
       "data": [
        {
         "marker": {
          "color": "#636EFA"
         },
         "name": "Coal",
         "showlegend": true,
         "type": "bar",
         "x": [
          "Coal"
         ],
         "xaxis": "x",
         "y": {
          "bdata": "AAAAAADAk0A=",
          "dtype": "f8"
         },
         "yaxis": "y"
        },
        {
         "marker": {
          "color": "#EF553B"
         },
         "name": "Concentrating Solar",
         "showlegend": true,
         "type": "bar",
         "x": [
          "Concentrating Solar"
         ],
         "xaxis": "x",
         "y": {
          "bdata": "AAAAAAAAV0A=",
          "dtype": "f8"
         },
         "yaxis": "y"
        },
        {
         "marker": {
          "color": "#00CC96"
         },
         "name": "Gas",
         "showlegend": true,
         "type": "bar",
         "x": [
          "Gas"
         ],
         "xaxis": "x",
         "y": {
          "bdata": "AAAAAADogUA=",
          "dtype": "f8"
         },
         "yaxis": "y"
        },
        {
         "marker": {
          "color": "#AB63FA"
         },
         "name": "Hydropower",
         "showlegend": true,
         "type": "bar",
         "x": [
          "Hydropower"
         ],
         "xaxis": "x",
         "y": {
          "bdata": "AAAAAABAXUA=",
          "dtype": "f8"
         },
         "yaxis": "y"
        },
        {
         "marker": {
          "color": "#FFA15A"
         },
         "name": "Nuclear",
         "showlegend": true,
         "type": "bar",
         "x": [
          "Nuclear"
         ],
         "xaxis": "x",
         "y": {
          "bdata": "ZmZmZmZmFkA=",
          "dtype": "f8"
         },
         "yaxis": "y"
        },
        {
         "marker": {
          "color": "#19D3F3"
         },
         "name": "Solar PV",
         "showlegend": true,
         "type": "bar",
         "x": [
          "Solar PV"
         ],
         "xaxis": "x",
         "y": {
          "bdata": "AAAAAACAYUA=",
          "dtype": "f8"
         },
         "yaxis": "y"
        },
        {
         "marker": {
          "color": "#FF6692"
         },
         "name": "Wind",
         "showlegend": true,
         "type": "bar",
         "x": [
          "Wind"
         ],
         "xaxis": "x",
         "y": {
          "bdata": "AAAAAAAAPEA=",
          "dtype": "f8"
         },
         "yaxis": "y"
        },
        {
         "marker": {
          "color": "#636EFA"
         },
         "name": "Coal",
         "showlegend": false,
         "type": "bar",
         "x": [
          "Coal"
         ],
         "xaxis": "x2",
         "y": {
          "bdata": "XAU=",
          "dtype": "i2"
         },
         "yaxis": "y2"
        },
        {
         "marker": {
          "color": "#EF553B"
         },
         "name": "Concentrating Solar",
         "showlegend": false,
         "type": "bar",
         "x": [
          "Concentrating Solar"
         ],
         "xaxis": "x2",
         "y": {
          "bdata": "IQ==",
          "dtype": "i1"
         },
         "yaxis": "y2"
        },
        {
         "marker": {
          "color": "#00CC96"
         },
         "name": "Gas",
         "showlegend": false,
         "type": "bar",
         "x": [
          "Gas"
         ],
         "xaxis": "x2",
         "y": {
          "bdata": "Gg==",
          "dtype": "i1"
         },
         "yaxis": "y2"
        },
        {
         "marker": {
          "color": "#AB63FA"
         },
         "name": "Hydropower",
         "showlegend": false,
         "type": "bar",
         "x": [
          "Hydropower"
         ],
         "xaxis": "x2",
         "y": {
          "bdata": "Cg==",
          "dtype": "i1"
         },
         "yaxis": "y2"
        },
        {
         "marker": {
          "color": "#FFA15A"
         },
         "name": "Nuclear",
         "showlegend": false,
         "type": "bar",
         "x": [
          "Nuclear"
         ],
         "xaxis": "x2",
         "y": {
          "bdata": "Bg==",
          "dtype": "i1"
         },
         "yaxis": "y2"
        },
        {
         "marker": {
          "color": "#19D3F3"
         },
         "name": "Solar PV",
         "showlegend": false,
         "type": "bar",
         "x": [
          "Solar PV"
         ],
         "xaxis": "x2",
         "y": {
          "bdata": "cQ==",
          "dtype": "i1"
         },
         "yaxis": "y2"
        },
        {
         "marker": {
          "color": "#FF6692"
         },
         "name": "Wind",
         "showlegend": false,
         "type": "bar",
         "x": [
          "Wind"
         ],
         "xaxis": "x2",
         "y": {
          "bdata": "Dg==",
          "dtype": "i1"
         },
         "yaxis": "y2"
        },
        {
         "marker": {
          "color": "#636EFA"
         },
         "name": "Coal",
         "showlegend": false,
         "type": "bar",
         "x": [
          "Coal"
         ],
         "xaxis": "x3",
         "y": {
          "bdata": "mpmZmZmZJ0A=",
          "dtype": "f8"
         },
         "yaxis": "y3"
        },
        {
         "marker": {
          "color": "#EF553B"
         },
         "name": "Concentrating Solar",
         "showlegend": false,
         "type": "bar",
         "x": [
          "Concentrating Solar"
         ],
         "xaxis": "x3",
         "y": {
          "bdata": "zczMzMzMI0A=",
          "dtype": "f8"
         },
         "yaxis": "y3"
        },
        {
         "marker": {
          "color": "#00CC96"
         },
         "name": "Gas",
         "showlegend": false,
         "type": "bar",
         "x": [
          "Gas"
         ],
         "xaxis": "x3",
         "y": {
          "bdata": "MzMzMzMzIUA=",
          "dtype": "f8"
         },
         "yaxis": "y3"
        },
        {
         "marker": {
          "color": "#AB63FA"
         },
         "name": "Hydropower",
         "showlegend": false,
         "type": "bar",
         "x": [
          "Hydropower"
         ],
         "xaxis": "x3",
         "y": {
          "bdata": "ZmZmZmZmIkA=",
          "dtype": "f8"
         },
         "yaxis": "y3"
        },
        {
         "marker": {
          "color": "#FFA15A"
         },
         "name": "Nuclear",
         "showlegend": false,
         "type": "bar",
         "x": [
          "Nuclear"
         ],
         "xaxis": "x3",
         "y": {
          "bdata": "AAAAAAAALEA=",
          "dtype": "f8"
         },
         "yaxis": "y3"
        },
        {
         "marker": {
          "color": "#19D3F3"
         },
         "name": "Solar PV",
         "showlegend": false,
         "type": "bar",
         "x": [
          "Solar PV"
         ],
         "xaxis": "x3",
         "y": {
          "bdata": "MzMzMzOzMkA=",
          "dtype": "f8"
         },
         "yaxis": "y3"
        },
        {
         "marker": {
          "color": "#FF6692"
         },
         "name": "Wind",
         "showlegend": false,
         "type": "bar",
         "x": [
          "Wind"
         ],
         "xaxis": "x3",
         "y": {
          "bdata": "zczMzMzMAEA=",
          "dtype": "f8"
         },
         "yaxis": "y3"
        },
        {
         "marker": {
          "color": "#636EFA"
         },
         "name": "Coal",
         "showlegend": false,
         "type": "bar",
         "x": [
          "Coal"
         ],
         "xaxis": "x4",
         "y": {
          "bdata": "TgE=",
          "dtype": "i2"
         },
         "yaxis": "y4"
        },
        {
         "marker": {
          "color": "#EF553B"
         },
         "name": "Concentrating Solar",
         "showlegend": false,
         "type": "bar",
         "x": [
          "Concentrating Solar"
         ],
         "xaxis": "x4",
         "y": {
          "bdata": "Ig==",
          "dtype": "i1"
         },
         "yaxis": "y4"
        },
        {
         "marker": {
          "color": "#00CC96"
         },
         "name": "Gas",
         "showlegend": false,
         "type": "bar",
         "x": [
          "Gas"
         ],
         "xaxis": "x4",
         "y": {
          "bdata": "fA==",
          "dtype": "i1"
         },
         "yaxis": "y4"
        },
        {
         "marker": {
          "color": "#AB63FA"
         },
         "name": "Hydropower",
         "showlegend": false,
         "type": "bar",
         "x": [
          "Hydropower"
         ],
         "xaxis": "x4",
         "y": {
          "bdata": "DQ==",
          "dtype": "i1"
         },
         "yaxis": "y4"
        },
        {
         "marker": {
          "color": "#FFA15A"
         },
         "name": "Nuclear",
         "showlegend": false,
         "type": "bar",
         "x": [
          "Nuclear"
         ],
         "xaxis": "x4",
         "y": {
          "bdata": "hAA=",
          "dtype": "i2"
         },
         "yaxis": "y4"
        },
        {
         "marker": {
          "color": "#19D3F3"
         },
         "name": "Solar PV",
         "showlegend": false,
         "type": "bar",
         "x": [
          "Solar PV"
         ],
         "xaxis": "x4",
         "y": {
          "bdata": "Ww==",
          "dtype": "i1"
         },
         "yaxis": "y4"
        },
        {
         "marker": {
          "color": "#FF6692"
         },
         "name": "Wind",
         "showlegend": false,
         "type": "bar",
         "x": [
          "Wind"
         ],
         "xaxis": "x4",
         "y": {
          "bdata": "Dw==",
          "dtype": "i1"
         },
         "yaxis": "y4"
        },
        {
         "marker": {
          "color": "#636EFA"
         },
         "name": "Coal",
         "showlegend": false,
         "type": "bar",
         "x": [
          "Coal"
         ],
         "xaxis": "x5",
         "y": {
          "bdata": "PzAN5NX3QUA=",
          "dtype": "f8"
         },
         "yaxis": "y5"
        },
        {
         "marker": {
          "color": "#EF553B"
         },
         "name": "Concentrating Solar",
         "showlegend": false,
         "type": "bar",
         "x": [
          "Concentrating Solar"
         ],
         "xaxis": "x5",
         "y": {
          "bdata": "lpG8a7caQ0A=",
          "dtype": "f8"
         },
         "yaxis": "y5"
        },
        {
         "marker": {
          "color": "#00CC96"
         },
         "name": "Gas",
         "showlegend": false,
         "type": "bar",
         "x": [
          "Gas"
         ],
         "xaxis": "x5",
         "y": {
          "bdata": "wyWzuetyAkA=",
          "dtype": "f8"
         },
         "yaxis": "y5"
        },
        {
         "marker": {
          "color": "#AB63FA"
         },
         "name": "Hydropower",
         "showlegend": false,
         "type": "bar",
         "x": [
          "Hydropower"
         ],
         "xaxis": "x5",
         "y": {
          "bdata": "fXoqr66xQEA=",
          "dtype": "f8"
         },
         "yaxis": "y5"
        },
        {
         "marker": {
          "color": "#FFA15A"
         },
         "name": "Nuclear",
         "showlegend": false,
         "type": "bar",
         "x": [
          "Nuclear"
         ],
         "xaxis": "x5",
         "y": {
          "bdata": "pFhXzb8S1T8=",
          "dtype": "f8"
         },
         "yaxis": "y5"
        },
        {
         "marker": {
          "color": "#19D3F3"
         },
         "name": "Solar PV",
         "showlegend": false,
         "type": "bar",
         "x": [
          "Solar PV"
         ],
         "xaxis": "x5",
         "y": {
          "bdata": "mMFIyn4QQkA=",
          "dtype": "f8"
         },
         "yaxis": "y5"
        },
        {
         "marker": {
          "color": "#FF6692"
         },
         "name": "Wind",
         "showlegend": false,
         "type": "bar",
         "x": [
          "Wind"
         ],
         "xaxis": "x5",
         "y": {
          "bdata": "AAAAAAAAAAA=",
          "dtype": "f8"
         },
         "yaxis": "y5"
        },
        {
         "marker": {
          "color": "#636EFA"
         },
         "name": "Coal",
         "showlegend": false,
         "type": "bar",
         "x": [
          "Coal"
         ],
         "xaxis": "x6",
         "y": {
          "bdata": "ECndyAK0ZkA=",
          "dtype": "f8"
         },
         "yaxis": "y6"
        },
        {
         "marker": {
          "color": "#EF553B"
         },
         "name": "Concentrating Solar",
         "showlegend": false,
         "type": "bar",
         "x": [
          "Concentrating Solar"
         ],
         "xaxis": "x6",
         "y": {
          "bdata": "pGWxCFYbNUA=",
          "dtype": "f8"
         },
         "yaxis": "y6"
        },
        {
         "marker": {
          "color": "#00CC96"
         },
         "name": "Gas",
         "showlegend": false,
         "type": "bar",
         "x": [
          "Gas"
         ],
         "xaxis": "x6",
         "y": {
          "bdata": "nibGQajUPkA=",
          "dtype": "f8"
         },
         "yaxis": "y6"
        },
        {
         "marker": {
          "color": "#AB63FA"
         },
         "name": "Hydropower",
         "showlegend": false,
         "type": "bar",
         "x": [
          "Hydropower"
         ],
         "xaxis": "x6",
         "y": {
          "bdata": "EC7Jc5A6M0A=",
          "dtype": "f8"
         },
         "yaxis": "y6"
        },
        {
         "marker": {
          "color": "#FFA15A"
         },
         "name": "Nuclear",
         "showlegend": false,
         "type": "bar",
         "x": [
          "Nuclear"
         ],
         "xaxis": "x6",
         "y": {
          "bdata": "NQACc4BqGEA=",
          "dtype": "f8"
         },
         "yaxis": "y6"
        },
        {
         "marker": {
          "color": "#19D3F3"
         },
         "name": "Solar PV",
         "showlegend": false,
         "type": "bar",
         "x": [
          "Solar PV"
         ],
         "xaxis": "x6",
         "y": {
          "bdata": "iyUDRc6kS0A=",
          "dtype": "f8"
         },
         "yaxis": "y6"
        },
        {
         "marker": {
          "color": "#FF6692"
         },
         "name": "Wind",
         "showlegend": false,
         "type": "bar",
         "x": [
          "Wind"
         ],
         "xaxis": "x6",
         "y": {
          "bdata": "FLufG+ZuMkA=",
          "dtype": "f8"
         },
         "yaxis": "y6"
        },
        {
         "marker": {
          "color": "#636EFA"
         },
         "name": "Coal",
         "showlegend": false,
         "type": "bar",
         "x": [
          "Coal"
         ],
         "xaxis": "x7",
         "y": {
          "bdata": "exSuR+F68D8=",
          "dtype": "f8"
         },
         "yaxis": "y7"
        },
        {
         "marker": {
          "color": "#EF553B"
         },
         "name": "Concentrating Solar",
         "showlegend": false,
         "type": "bar",
         "x": [
          "Concentrating Solar"
         ],
         "xaxis": "x7",
         "y": {
          "bdata": "9ihcj8L19D8=",
          "dtype": "f8"
         },
         "yaxis": "y7"
        },
        {
         "marker": {
          "color": "#00CC96"
         },
         "name": "Gas",
         "showlegend": false,
         "type": "bar",
         "x": [
          "Gas"
         ],
         "xaxis": "x7",
         "y": {
          "bdata": "KVyPwvUo3D8=",
          "dtype": "f8"
         },
         "yaxis": "y7"
        },
        {
         "marker": {
          "color": "#AB63FA"
         },
         "name": "Hydropower",
         "showlegend": false,
         "type": "bar",
         "x": [
          "Hydropower"
         ],
         "xaxis": "x7",
         "y": {
          "bdata": "uB6F61G43j8=",
          "dtype": "f8"
         },
         "yaxis": "y7"
        },
        {
         "marker": {
          "color": "#FFA15A"
         },
         "name": "Nuclear",
         "showlegend": false,
         "type": "bar",
         "x": [
          "Nuclear"
         ],
         "xaxis": "x7",
         "y": {
          "bdata": "w/UoXI/C1T8=",
          "dtype": "f8"
         },
         "yaxis": "y7"
        },
        {
         "marker": {
          "color": "#19D3F3"
         },
         "name": "Solar PV",
         "showlegend": false,
         "type": "bar",
         "x": [
          "Solar PV"
         ],
         "xaxis": "x7",
         "y": {
          "bdata": "SOF6FK4HNEA=",
          "dtype": "f8"
         },
         "yaxis": "y7"
        },
        {
         "marker": {
          "color": "#FF6692"
         },
         "name": "Wind",
         "showlegend": false,
         "type": "bar",
         "x": [
          "Wind"
         ],
         "xaxis": "x7",
         "y": {
          "bdata": "rkfhehSu+z8=",
          "dtype": "f8"
         },
         "yaxis": "y7"
        },
        {
         "marker": {
          "color": "#636EFA"
         },
         "name": "Coal",
         "showlegend": false,
         "type": "bar",
         "x": [
          "Coal"
         ],
         "xaxis": "x8",
         "y": {
          "bdata": "J5xAheFL2z8=",
          "dtype": "f8"
         },
         "yaxis": "y8"
        },
        {
         "marker": {
          "color": "#EF553B"
         },
         "name": "Concentrating Solar",
         "showlegend": false,
         "type": "bar",
         "x": [
          "Concentrating Solar"
         ],
         "xaxis": "x8",
         "y": {
          "bdata": "KUfJ9wHy0D8=",
          "dtype": "f8"
         },
         "yaxis": "y8"
        },
        {
         "marker": {
          "color": "#00CC96"
         },
         "name": "Gas",
         "showlegend": false,
         "type": "bar",
         "x": [
          "Gas"
         ],
         "xaxis": "x8",
         "y": {
          "bdata": "8CO5Jwjx2T8=",
          "dtype": "f8"
         },
         "yaxis": "y8"
        },
        {
         "marker": {
          "color": "#AB63FA"
         },
         "name": "Hydropower",
         "showlegend": false,
         "type": "bar",
         "x": [
          "Hydropower"
         ],
         "xaxis": "x8",
         "y": {
          "bdata": "jDDYHAZEdz8=",
          "dtype": "f8"
         },
         "yaxis": "y8"
        },
        {
         "marker": {
          "color": "#FFA15A"
         },
         "name": "Nuclear",
         "showlegend": false,
         "type": "bar",
         "x": [
          "Nuclear"
         ],
         "xaxis": "x8",
         "y": {
          "bdata": "ftW6os42PUA=",
          "dtype": "f8"
         },
         "yaxis": "y8"
        },
        {
         "marker": {
          "color": "#19D3F3"
         },
         "name": "Solar PV",
         "showlegend": false,
         "type": "bar",
         "x": [
          "Solar PV"
         ],
         "xaxis": "x8",
         "y": {
          "bdata": "feLsFZec4z8=",
          "dtype": "f8"
         },
         "yaxis": "y8"
        },
        {
         "marker": {
          "color": "#FF6692"
         },
         "name": "Wind",
         "showlegend": false,
         "type": "bar",
         "x": [
          "Wind"
         ],
         "xaxis": "x8",
         "y": {
          "bdata": "nmh6MPkErz8=",
          "dtype": "f8"
         },
         "yaxis": "y8"
        }
       ],
       "layout": {
        "annotations": [
         {
          "font": {
           "size": 16
          },
          "showarrow": false,
          "text": "Greenhouse gas emissions (kg CO2 eq.)",
          "x": 0.11666666666666665,
          "xanchor": "center",
          "xref": "paper",
          "y": 1,
          "yanchor": "bottom",
          "yref": "paper"
         },
         {
          "font": {
           "size": 16
          },
          "showarrow": false,
          "text": "Freshwater eutrophication (kg P eq.)",
          "x": 0.49999999999999994,
          "xanchor": "center",
          "xref": "paper",
          "y": 1,
          "yanchor": "bottom",
          "yref": "paper"
         },
         {
          "font": {
           "size": 16
          },
          "showarrow": false,
          "text": "Ionising radiation (kBq 235U eq)",
          "x": 0.8833333333333333,
          "xanchor": "center",
          "xref": "paper",
          "y": 1,
          "yanchor": "bottom",
          "yref": "paper"
         },
         {
          "font": {
           "size": 16
          },
          "showarrow": false,
          "text": "Water use (m3)",
          "x": 0.11666666666666665,
          "xanchor": "center",
          "xref": "paper",
          "y": 0.6,
          "yanchor": "bottom",
          "yref": "paper"
         },
         {
          "font": {
           "size": 16
          },
          "showarrow": false,
          "text": "Total land use (points)",
          "x": 0.49999999999999994,
          "xanchor": "center",
          "xref": "paper",
          "y": 0.6,
          "yanchor": "bottom",
          "yref": "paper"
         },
         {
          "font": {
           "size": 16
          },
          "showarrow": false,
          "text": "Human toxicity (CTUh)",
          "x": 0.8833333333333333,
          "xanchor": "center",
          "xref": "paper",
          "y": 0.6,
          "yanchor": "bottom",
          "yref": "paper"
         },
         {
          "font": {
           "size": 16
          },
          "showarrow": false,
          "text": "Metal and mineral requirements (kg Sb eq.)",
          "x": 0.11666666666666665,
          "xanchor": "center",
          "xref": "paper",
          "y": 0.19999999999999998,
          "yanchor": "bottom",
          "yref": "paper"
         },
         {
          "font": {
           "size": 16
          },
          "showarrow": false,
          "text": "Uranium (kg Sb eq.)",
          "x": 0.49999999999999994,
          "xanchor": "center",
          "xref": "paper",
          "y": 0.19999999999999998,
          "yanchor": "bottom",
          "yref": "paper"
         }
        ],
        "height": 1300,
        "legend": {
         "title": {
          "text": "Energy Source"
         }
        },
        "template": {
         "data": {
          "bar": [
           {
            "error_x": {
             "color": "#2a3f5f"
            },
            "error_y": {
             "color": "#2a3f5f"
            },
            "marker": {
             "line": {
              "color": "#E5ECF6",
              "width": 0.5
             },
             "pattern": {
              "fillmode": "overlay",
              "size": 10,
              "solidity": 0.2
             }
            },
            "type": "bar"
           }
          ],
          "barpolar": [
           {
            "marker": {
             "line": {
              "color": "#E5ECF6",
              "width": 0.5
             },
             "pattern": {
              "fillmode": "overlay",
              "size": 10,
              "solidity": 0.2
             }
            },
            "type": "barpolar"
           }
          ],
          "carpet": [
           {
            "aaxis": {
             "endlinecolor": "#2a3f5f",
             "gridcolor": "white",
             "linecolor": "white",
             "minorgridcolor": "white",
             "startlinecolor": "#2a3f5f"
            },
            "baxis": {
             "endlinecolor": "#2a3f5f",
             "gridcolor": "white",
             "linecolor": "white",
             "minorgridcolor": "white",
             "startlinecolor": "#2a3f5f"
            },
            "type": "carpet"
           }
          ],
          "choropleth": [
           {
            "colorbar": {
             "outlinewidth": 0,
             "ticks": ""
            },
            "type": "choropleth"
           }
          ],
          "contour": [
           {
            "colorbar": {
             "outlinewidth": 0,
             "ticks": ""
            },
            "colorscale": [
             [
              0,
              "#0d0887"
             ],
             [
              0.1111111111111111,
              "#46039f"
             ],
             [
              0.2222222222222222,
              "#7201a8"
             ],
             [
              0.3333333333333333,
              "#9c179e"
             ],
             [
              0.4444444444444444,
              "#bd3786"
             ],
             [
              0.5555555555555556,
              "#d8576b"
             ],
             [
              0.6666666666666666,
              "#ed7953"
             ],
             [
              0.7777777777777778,
              "#fb9f3a"
             ],
             [
              0.8888888888888888,
              "#fdca26"
             ],
             [
              1,
              "#f0f921"
             ]
            ],
            "type": "contour"
           }
          ],
          "contourcarpet": [
           {
            "colorbar": {
             "outlinewidth": 0,
             "ticks": ""
            },
            "type": "contourcarpet"
           }
          ],
          "heatmap": [
           {
            "colorbar": {
             "outlinewidth": 0,
             "ticks": ""
            },
            "colorscale": [
             [
              0,
              "#0d0887"
             ],
             [
              0.1111111111111111,
              "#46039f"
             ],
             [
              0.2222222222222222,
              "#7201a8"
             ],
             [
              0.3333333333333333,
              "#9c179e"
             ],
             [
              0.4444444444444444,
              "#bd3786"
             ],
             [
              0.5555555555555556,
              "#d8576b"
             ],
             [
              0.6666666666666666,
              "#ed7953"
             ],
             [
              0.7777777777777778,
              "#fb9f3a"
             ],
             [
              0.8888888888888888,
              "#fdca26"
             ],
             [
              1,
              "#f0f921"
             ]
            ],
            "type": "heatmap"
           }
          ],
          "histogram": [
           {
            "marker": {
             "pattern": {
              "fillmode": "overlay",
              "size": 10,
              "solidity": 0.2
             }
            },
            "type": "histogram"
           }
          ],
          "histogram2d": [
           {
            "colorbar": {
             "outlinewidth": 0,
             "ticks": ""
            },
            "colorscale": [
             [
              0,
              "#0d0887"
             ],
             [
              0.1111111111111111,
              "#46039f"
             ],
             [
              0.2222222222222222,
              "#7201a8"
             ],
             [
              0.3333333333333333,
              "#9c179e"
             ],
             [
              0.4444444444444444,
              "#bd3786"
             ],
             [
              0.5555555555555556,
              "#d8576b"
             ],
             [
              0.6666666666666666,
              "#ed7953"
             ],
             [
              0.7777777777777778,
              "#fb9f3a"
             ],
             [
              0.8888888888888888,
              "#fdca26"
             ],
             [
              1,
              "#f0f921"
             ]
            ],
            "type": "histogram2d"
           }
          ],
          "histogram2dcontour": [
           {
            "colorbar": {
             "outlinewidth": 0,
             "ticks": ""
            },
            "colorscale": [
             [
              0,
              "#0d0887"
             ],
             [
              0.1111111111111111,
              "#46039f"
             ],
             [
              0.2222222222222222,
              "#7201a8"
             ],
             [
              0.3333333333333333,
              "#9c179e"
             ],
             [
              0.4444444444444444,
              "#bd3786"
             ],
             [
              0.5555555555555556,
              "#d8576b"
             ],
             [
              0.6666666666666666,
              "#ed7953"
             ],
             [
              0.7777777777777778,
              "#fb9f3a"
             ],
             [
              0.8888888888888888,
              "#fdca26"
             ],
             [
              1,
              "#f0f921"
             ]
            ],
            "type": "histogram2dcontour"
           }
          ],
          "mesh3d": [
           {
            "colorbar": {
             "outlinewidth": 0,
             "ticks": ""
            },
            "type": "mesh3d"
           }
          ],
          "parcoords": [
           {
            "line": {
             "colorbar": {
              "outlinewidth": 0,
              "ticks": ""
             }
            },
            "type": "parcoords"
           }
          ],
          "pie": [
           {
            "automargin": true,
            "type": "pie"
           }
          ],
          "scatter": [
           {
            "fillpattern": {
             "fillmode": "overlay",
             "size": 10,
             "solidity": 0.2
            },
            "type": "scatter"
           }
          ],
          "scatter3d": [
           {
            "line": {
             "colorbar": {
              "outlinewidth": 0,
              "ticks": ""
             }
            },
            "marker": {
             "colorbar": {
              "outlinewidth": 0,
              "ticks": ""
             }
            },
            "type": "scatter3d"
           }
          ],
          "scattercarpet": [
           {
            "marker": {
             "colorbar": {
              "outlinewidth": 0,
              "ticks": ""
             }
            },
            "type": "scattercarpet"
           }
          ],
          "scattergeo": [
           {
            "marker": {
             "colorbar": {
              "outlinewidth": 0,
              "ticks": ""
             }
            },
            "type": "scattergeo"
           }
          ],
          "scattergl": [
           {
            "marker": {
             "colorbar": {
              "outlinewidth": 0,
              "ticks": ""
             }
            },
            "type": "scattergl"
           }
          ],
          "scattermap": [
           {
            "marker": {
             "colorbar": {
              "outlinewidth": 0,
              "ticks": ""
             }
            },
            "type": "scattermap"
           }
          ],
          "scattermapbox": [
           {
            "marker": {
             "colorbar": {
              "outlinewidth": 0,
              "ticks": ""
             }
            },
            "type": "scattermapbox"
           }
          ],
          "scatterpolar": [
           {
            "marker": {
             "colorbar": {
              "outlinewidth": 0,
              "ticks": ""
             }
            },
            "type": "scatterpolar"
           }
          ],
          "scatterpolargl": [
           {
            "marker": {
             "colorbar": {
              "outlinewidth": 0,
              "ticks": ""
             }
            },
            "type": "scatterpolargl"
           }
          ],
          "scatterternary": [
           {
            "marker": {
             "colorbar": {
              "outlinewidth": 0,
              "ticks": ""
             }
            },
            "type": "scatterternary"
           }
          ],
          "surface": [
           {
            "colorbar": {
             "outlinewidth": 0,
             "ticks": ""
            },
            "colorscale": [
             [
              0,
              "#0d0887"
             ],
             [
              0.1111111111111111,
              "#46039f"
             ],
             [
              0.2222222222222222,
              "#7201a8"
             ],
             [
              0.3333333333333333,
              "#9c179e"
             ],
             [
              0.4444444444444444,
              "#bd3786"
             ],
             [
              0.5555555555555556,
              "#d8576b"
             ],
             [
              0.6666666666666666,
              "#ed7953"
             ],
             [
              0.7777777777777778,
              "#fb9f3a"
             ],
             [
              0.8888888888888888,
              "#fdca26"
             ],
             [
              1,
              "#f0f921"
             ]
            ],
            "type": "surface"
           }
          ],
          "table": [
           {
            "cells": {
             "fill": {
              "color": "#EBF0F8"
             },
             "line": {
              "color": "white"
             }
            },
            "header": {
             "fill": {
              "color": "#C8D4E3"
             },
             "line": {
              "color": "white"
             }
            },
            "type": "table"
           }
          ]
         },
         "layout": {
          "annotationdefaults": {
           "arrowcolor": "#2a3f5f",
           "arrowhead": 0,
           "arrowwidth": 1
          },
          "autotypenumbers": "strict",
          "coloraxis": {
           "colorbar": {
            "outlinewidth": 0,
            "ticks": ""
           }
          },
          "colorscale": {
           "diverging": [
            [
             0,
             "#8e0152"
            ],
            [
             0.1,
             "#c51b7d"
            ],
            [
             0.2,
             "#de77ae"
            ],
            [
             0.3,
             "#f1b6da"
            ],
            [
             0.4,
             "#fde0ef"
            ],
            [
             0.5,
             "#f7f7f7"
            ],
            [
             0.6,
             "#e6f5d0"
            ],
            [
             0.7,
             "#b8e186"
            ],
            [
             0.8,
             "#7fbc41"
            ],
            [
             0.9,
             "#4d9221"
            ],
            [
             1,
             "#276419"
            ]
           ],
           "sequential": [
            [
             0,
             "#0d0887"
            ],
            [
             0.1111111111111111,
             "#46039f"
            ],
            [
             0.2222222222222222,
             "#7201a8"
            ],
            [
             0.3333333333333333,
             "#9c179e"
            ],
            [
             0.4444444444444444,
             "#bd3786"
            ],
            [
             0.5555555555555556,
             "#d8576b"
            ],
            [
             0.6666666666666666,
             "#ed7953"
            ],
            [
             0.7777777777777778,
             "#fb9f3a"
            ],
            [
             0.8888888888888888,
             "#fdca26"
            ],
            [
             1,
             "#f0f921"
            ]
           ],
           "sequentialminus": [
            [
             0,
             "#0d0887"
            ],
            [
             0.1111111111111111,
             "#46039f"
            ],
            [
             0.2222222222222222,
             "#7201a8"
            ],
            [
             0.3333333333333333,
             "#9c179e"
            ],
            [
             0.4444444444444444,
             "#bd3786"
            ],
            [
             0.5555555555555556,
             "#d8576b"
            ],
            [
             0.6666666666666666,
             "#ed7953"
            ],
            [
             0.7777777777777778,
             "#fb9f3a"
            ],
            [
             0.8888888888888888,
             "#fdca26"
            ],
            [
             1,
             "#f0f921"
            ]
           ]
          },
          "colorway": [
           "#636efa",
           "#EF553B",
           "#00cc96",
           "#ab63fa",
           "#FFA15A",
           "#19d3f3",
           "#FF6692",
           "#B6E880",
           "#FF97FF",
           "#FECB52"
          ],
          "font": {
           "color": "#2a3f5f"
          },
          "geo": {
           "bgcolor": "white",
           "lakecolor": "white",
           "landcolor": "#E5ECF6",
           "showlakes": true,
           "showland": true,
           "subunitcolor": "white"
          },
          "hoverlabel": {
           "align": "left"
          },
          "hovermode": "closest",
          "mapbox": {
           "style": "light"
          },
          "paper_bgcolor": "white",
          "plot_bgcolor": "#E5ECF6",
          "polar": {
           "angularaxis": {
            "gridcolor": "white",
            "linecolor": "white",
            "ticks": ""
           },
           "bgcolor": "#E5ECF6",
           "radialaxis": {
            "gridcolor": "white",
            "linecolor": "white",
            "ticks": ""
           }
          },
          "scene": {
           "xaxis": {
            "backgroundcolor": "#E5ECF6",
            "gridcolor": "white",
            "gridwidth": 2,
            "linecolor": "white",
            "showbackground": true,
            "ticks": "",
            "zerolinecolor": "white"
           },
           "yaxis": {
            "backgroundcolor": "#E5ECF6",
            "gridcolor": "white",
            "gridwidth": 2,
            "linecolor": "white",
            "showbackground": true,
            "ticks": "",
            "zerolinecolor": "white"
           },
           "zaxis": {
            "backgroundcolor": "#E5ECF6",
            "gridcolor": "white",
            "gridwidth": 2,
            "linecolor": "white",
            "showbackground": true,
            "ticks": "",
            "zerolinecolor": "white"
           }
          },
          "shapedefaults": {
           "line": {
            "color": "#2a3f5f"
           }
          },
          "ternary": {
           "aaxis": {
            "gridcolor": "white",
            "linecolor": "white",
            "ticks": ""
           },
           "baxis": {
            "gridcolor": "white",
            "linecolor": "white",
            "ticks": ""
           },
           "bgcolor": "#E5ECF6",
           "caxis": {
            "gridcolor": "white",
            "linecolor": "white",
            "ticks": ""
           }
          },
          "title": {
           "x": 0.05
          },
          "xaxis": {
           "automargin": true,
           "gridcolor": "white",
           "linecolor": "white",
           "ticks": "",
           "title": {
            "standoff": 15
           },
           "zerolinecolor": "white",
           "zerolinewidth": 2
          },
          "yaxis": {
           "automargin": true,
           "gridcolor": "white",
           "linecolor": "white",
           "ticks": "",
           "title": {
            "standoff": 15
           },
           "zerolinecolor": "white",
           "zerolinewidth": 2
          }
         }
        },
        "title": {
         "text": "Energy Source Environmental Impact Comparison"
        },
        "width": 1200,
        "xaxis": {
         "anchor": "y",
         "domain": [
          0,
          0.2333333333333333
         ]
        },
        "xaxis2": {
         "anchor": "y2",
         "domain": [
          0.3833333333333333,
          0.6166666666666666
         ]
        },
        "xaxis3": {
         "anchor": "y3",
         "domain": [
          0.7666666666666666,
          0.9999999999999999
         ]
        },
        "xaxis4": {
         "anchor": "y4",
         "domain": [
          0,
          0.2333333333333333
         ]
        },
        "xaxis5": {
         "anchor": "y5",
         "domain": [
          0.3833333333333333,
          0.6166666666666666
         ]
        },
        "xaxis6": {
         "anchor": "y6",
         "domain": [
          0.7666666666666666,
          0.9999999999999999
         ]
        },
        "xaxis7": {
         "anchor": "y7",
         "domain": [
          0,
          0.2333333333333333
         ]
        },
        "xaxis8": {
         "anchor": "y8",
         "domain": [
          0.3833333333333333,
          0.6166666666666666
         ]
        },
        "xaxis9": {
         "anchor": "y9",
         "domain": [
          0.7666666666666666,
          0.9999999999999999
         ]
        },
        "yaxis": {
         "anchor": "x",
         "domain": [
          0.8,
          1
         ]
        },
        "yaxis2": {
         "anchor": "x2",
         "domain": [
          0.8,
          1
         ]
        },
        "yaxis3": {
         "anchor": "x3",
         "domain": [
          0.8,
          1
         ]
        },
        "yaxis4": {
         "anchor": "x4",
         "domain": [
          0.4,
          0.6
         ]
        },
        "yaxis5": {
         "anchor": "x5",
         "domain": [
          0.4,
          0.6
         ]
        },
        "yaxis6": {
         "anchor": "x6",
         "domain": [
          0.4,
          0.6
         ]
        },
        "yaxis7": {
         "anchor": "x7",
         "domain": [
          0,
          0.19999999999999998
         ]
        },
        "yaxis8": {
         "anchor": "x8",
         "domain": [
          0,
          0.19999999999999998
         ]
        },
        "yaxis9": {
         "anchor": "x9",
         "domain": [
          0,
          0.19999999999999998
         ],
         "type": "log"
        }
       }
      }
     },
     "metadata": {},
     "output_type": "display_data"
    }
   ],
   "source": [
    "\n",
    "import pandas as pd\n",
    "import plotly.graph_objects as go\n",
    "from plotly.subplots import make_subplots\n",
    "\n",
    "df = pd.read_csv('nuclear_data/impacts-of-energy-sources.csv')\n",
    "\n",
    "df = df.drop(['Agricultural land use', 'Urban land use', 'Death rates', 'Year'], axis=1)\n",
    "\n",
    "df = df.rename(columns={'Greenhouse gas emissions': 'Greenhouse gas emissions (kg CO2 eq.)', \n",
    "                        'Freshwater eutrophication': 'Freshwater eutrophication (kg P eq.)', \n",
    "                        'Ionising radiation':'Ionising radiation (kBq 235U eq)', \n",
    "                        'Water use':'Water use (m3)',\n",
    "                        'Metal and mineral requirements':'Metal and mineral requirements (kg Sb eq.)',\n",
    "                        'Non-carcinogenic toxicity':'Non-carcinogenic toxicity (CTUh)',\n",
    "                        'Carcinogenic toxicity':'Carcinogenic toxicity (CTUh)',\n",
    "                        'Total land use':'Total land use (points)',\n",
    "                        'Uranium':'Uranium (kg Sb eq.)'})\n",
    "\n",
    "df['Entity'] = df['Entity'].replace('Coal with carbon capture (CCS)', 'Coal')\n",
    "\n",
    "df['Entity'] = df['Entity'].replace('Concentrating solar (tower)', 'Concentrating Solar')\n",
    "df['Entity'] = df['Entity'].replace('Concentrating solar (trough)', 'Concentrating Solar')\n",
    "\n",
    "df['Entity'] = df['Entity'].replace('Solar PV, cadmium (roof)', 'Solar PV')\n",
    "df['Entity'] = df['Entity'].replace('Solar PV, cadmium (on-ground)', 'Solar PV')\n",
    "df['Entity'] = df['Entity'].replace('Solar PV, silicon (on-ground)', 'Solar PV')\n",
    "df['Entity'] = df['Entity'].replace('Solar PV, silicon (roof)', 'Solar PV')\n",
    "\n",
    "df['Entity'] = df['Entity'].replace('Gas with carbon capture (CCS)', 'Gas')\n",
    "\n",
    "df['Entity'] = df['Entity'].replace('Offshore wind', 'Wind')\n",
    "df['Entity'] = df['Entity'].replace('Onshore wind', 'Wind')\n",
    "\n",
    "df_combined = df.drop(columns=['Aluminium', 'Chromium', 'Cobalt', 'Copper', 'Manganese', 'Molybdenum', 'Nickel', 'Silicon', 'Zinc'])\n",
    "df_combined['Human toxicity (CTUh)'] = df_combined['Non-carcinogenic toxicity (CTUh)'] + df_combined['Carcinogenic toxicity (CTUh)']\n",
    "df_combined = df_combined.drop(columns=['Non-carcinogenic toxicity (CTUh)', 'Carcinogenic toxicity (CTUh)'])\n",
    "df_combined = df_combined[['Entity', 'Greenhouse gas emissions (kg CO2 eq.)', \n",
    "                           'Freshwater eutrophication (kg P eq.)', \n",
    "                           'Ionising radiation (kBq 235U eq)', \n",
    "                           'Water use (m3)', \n",
    "                           'Total land use (points)', \n",
    "                           'Human toxicity (CTUh)', \n",
    "                           'Metal and mineral requirements (kg Sb eq.)', \n",
    "                           'Uranium (kg Sb eq.)']]\n",
    "\n",
    "df_combined = df_combined.groupby('Entity', as_index=False).sum()\n",
    "\n",
    "color_map = {\n",
    "    'Coal': '#636EFA',\n",
    "    'Concentrating Solar': '#EF553B',\n",
    "    'Gas': '#00CC96',\n",
    "    'Hydropower': '#AB63FA',\n",
    "    'Nuclear': '#FFA15A',\n",
    "    'Solar PV': '#19D3F3',\n",
    "    'Wind': '#FF6692'\n",
    "}\n",
    "\n",
    "metrics6 = df_combined.columns[1:]\n",
    "fig11 = make_subplots(\n",
    "    rows=3, \n",
    "    cols=3,\n",
    "    subplot_titles=metrics6,\n",
    "    horizontal_spacing=0.15,\n",
    "    vertical_spacing=0.2\n",
    ")\n",
    "\n",
    "for i, metric in enumerate(metrics6, 1):\n",
    "    row = (i-1) // 3 + 1\n",
    "    col = (i-1) % 3 + 1\n",
    "    \n",
    "    for entity in df_combined['Entity']:\n",
    "        fig11.add_trace(\n",
    "            go.Bar(\n",
    "                x=[entity],\n",
    "                y=df_combined[df_combined['Entity']==entity][metric],\n",
    "                name=entity,\n",
    "                marker_color=color_map[entity],\n",
    "                showlegend=(i == 1)\n",
    "            ),\n",
    "            row=row,\n",
    "            col=col\n",
    "        )\n",
    "\n",
    "fig11.update_layout(\n",
    "    title_text='Energy Source Environmental Impact Comparison',\n",
    "    height=1300,\n",
    "    width=1200,\n",
    "    legend_title_text='Energy Source'\n",
    ")\n",
    "\n",
    "fig11.update_yaxes(type=\"log\", row=3, col=3) \n",
    "\n",
    "fig11.show()"
   ]
  }
 ],
 "metadata": {
  "kernelspec": {
   "display_name": "global-dev",
   "language": "python",
   "name": "python3"
  },
  "language_info": {
   "codemirror_mode": {
    "name": "ipython",
    "version": 3
   },
   "file_extension": ".py",
   "mimetype": "text/x-python",
   "name": "python",
   "nbconvert_exporter": "python",
   "pygments_lexer": "ipython3",
   "version": "3.12.5"
  }
 },
 "nbformat": 4,
 "nbformat_minor": 5
}
