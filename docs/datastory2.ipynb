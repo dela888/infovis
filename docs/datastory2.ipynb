{
 "cells": [
  {
   "cell_type": "markdown",
   "id": "8d3512d3",
   "metadata": {},
   "source": [
    "# Safety\n",
    "\n",
    "One of the primary reasons nuclear energy has not been widely implemented and remains politically divisive is safety concerns. These safety concerns are not unfounded. Well known nuclear energy incidents like Chernobyl and Fukushima, which were catastrophic in their region, are often cited as reasons why widely implementing nuclear energy is a damning suggestion. \n",
    "\n",
    "In this section we will analyse the safety of nuclear energy looking at nuclear incidents, general death-rate, and nuclear waste. "
   ]
  },
  {
   "cell_type": "code",
   "execution_count": null,
   "id": "92ade6ac",
   "metadata": {},
   "outputs": [],
   "source": [
    "%run nuclear_energy_incidents.ipynb"
   ]
  },
  {
   "cell_type": "markdown",
   "id": "dcd61a47",
   "metadata": {},
   "source": [
    "\n",
    "## Nuclear energy death-rate\n",
    "\n",
    "In this section we analyse the total death-rate of different energy sources. This section ties into perspective 2. Consider the following bar graph:"
   ]
  },
  {
   "cell_type": "code",
   "execution_count": null,
   "id": "4a603b9d",
   "metadata": {},
   "outputs": [],
   "source": [
    "%run death_rate.ipynb"
   ]
  },
  {
   "cell_type": "markdown",
   "id": "5a15e0b4",
   "metadata": {},
   "source": [
    "\n",
    "## Nuclear Waste\n",
    "\n",
    "An important aspect of nuclear energy is nuclear waste. Nuclear reactors produce highly radioactive waste that needs to be stored for decades on end. In this section we will focus on radioactive waste and how the creation of radioactive waste is increasing. The data in this section is from the **U.S. Energy Information Administration**. This means that this section does not represent the whole globe but only the **U.S.**.\n",
    "\n",
    "### Average Burnup\n",
    "\n",
    "The 'burnup' of a nuclear reactor is a term for the efficiency of a reactor in GigaWatt days per metric ton of uranium (GWd / MTU). The first graph shows the average burnup of powerplants in the U.S. through time."
   ]
  },
  {
   "cell_type": "code",
   "execution_count": null,
   "id": "7ad13667",
   "metadata": {},
   "outputs": [],
   "source": [
    "%run burnup.ipynb"
   ]
  },
  {
   "cell_type": "markdown",
   "id": "1f881a97",
   "metadata": {},
   "source": [
    "\n",
    "We see that the efficiency of the reactors increases from the 1970s tot the mid 2000s. In the mid 2000s however, the efficiency seems to plateu around 45 GWd/MTU"
   ]
  },
  {
   "cell_type": "markdown",
   "id": "f131ae51",
   "metadata": {},
   "source": []
  }
 ],
 "metadata": {
  "kernelspec": {
   "display_name": "global-dev",
   "language": "python",
   "name": "python3"
  },
  "language_info": {
   "codemirror_mode": {
    "name": "ipython",
    "version": 3
   },
   "file_extension": ".py",
   "mimetype": "text/x-python",
   "name": "python",
   "nbconvert_exporter": "python",
   "pygments_lexer": "ipython3",
   "version": "3.12.5"
  }
 },
 "nbformat": 4,
 "nbformat_minor": 5
}
