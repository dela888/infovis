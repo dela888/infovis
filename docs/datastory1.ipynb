{
 "cells": [
  {
   "cell_type": "markdown",
   "id": "4876aecb",
   "metadata": {},
   "source": [
    "# Perpective 1"
   ]
  }
 ],
 "metadata": {
  "language_info": {
   "name": "python"
  }
 },
 "nbformat": 4,
 "nbformat_minor": 5
}
