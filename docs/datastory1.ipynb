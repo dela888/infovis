{
 "cells": [
  {
   "cell_type": "markdown",
   "id": "4876aecb",
   "metadata": {},
   "source": [
    "# Economics and Environment"
   ]
  },
  {
   "cell_type": "markdown",
   "id": "87dfeb55",
   "metadata": {},
   "source": [
    "In our first perspective we look at the low environmental impact of nuclear energy and its low costs in comparison with other energy sources.\n"
   ]
  },
  {
   "cell_type": "markdown",
   "id": "5d1848e1",
   "metadata": {},
   "source": [
    "## The Costs of Nuclear Energy\n",
    "\n",
    "Nuclear Energy is often seen as a good alternative due to its potential lower long-term costs. In this section we will look into the economic costs of nuclear energy relative to other forms of energy production.\n",
    "\n",
    "To do this we will use the *Levelised Cost of Electricity* (LCOE) which is a way of representing the cost of energy production in dollars per MWh. The LCOE takes the whole lifetime of a power plant into account, such as capital costs, operation, maintenance, fuel and other expenses.\n"
   ]
  },
  {
   "cell_type": "markdown",
   "id": "b3f24bc6",
   "metadata": {},
   "source": [
    "### Costs per Energy Source\n",
    "\n",
    "The following graph shows the *Levelised Cost of Electricity* for a number of different energy sources. "
   ]
  },
  {
   "cell_type": "code",
   "execution_count": null,
   "id": "cd58ea4e",
   "metadata": {},
   "outputs": [],
   "source": [
    "%run avg_lcoe.ipynb"
   ]
  },
  {
   "cell_type": "markdown",
   "id": "ff193477",
   "metadata": {},
   "source": [
    "- The chart displays that nuclear energy is the cheapest form of energy by far, whilst taking into account all potientially costly aspects of nuclear energy like the storage of nuclear waste. Gas is the second cheapest form of energy, being the cheapest fossil fuel, and it is followed by wind and solar.\n",
    "\n",
    "- We will now examine the advantage of nuclear energy over the other major energy sources. \n",
    "\n",
    "- Moving toward the mid-range, we find Combined Heat and Power (CHP), lignite, and geothermal energy, which represent transitional solutions with moderate costs. On the other end of the spectrum, coal, hydro, bioenergy, and especially fuel cell technology are significantly more expensive. Notably, fuel cells are nearly four times more costly than nuclear energy, which highlights how economically efficient nuclear power is. This cost advantage makes nuclear energy a strong contender in the global shift toward affordable low-carbon energy sources."
   ]
  },
  {
   "cell_type": "markdown",
   "id": "d745997e",
   "metadata": {},
   "source": [
    "### Nuclear Energy Cost Advantage\n",
    "\n",
    "The graph shows the percentage cost advantage of nuclear energy compared to four common electricity generation sources: Wind, Solar, Gas and Coal. Each bar represents how much cheaper nuclear energy is on avarage compared to the other technology, based on their Levelised Cost of Electricity(LCOE). \n",
    "\n",
    "The graph is defided by y-axis and x-axis, where the y-axis shows the percentage by which nuclear is cheaper, while the x-asis shows the different energy sources."
   ]
  },
  {
   "cell_type": "code",
   "execution_count": null,
   "id": "4762347b",
   "metadata": {},
   "outputs": [],
   "source": [
    "%run cost_advantage.ipynb"
   ]
  },
  {
   "cell_type": "markdown",
   "id": "66ed9090",
   "metadata": {},
   "source": [
    "\n",
    "While looking at the graph we can see that nuclear energy is consistently more affortable than the other energy types. The greatest cost advantage is compared coal, with nuclear being 51.4% cheaper on avarage. The smallest cost advantage is compared to gas, where nuclear is still 38.9% cheaper. \n",
    "\n",
    "The hover text shows the absolute difference, which is how many dollars each energy source costs more or less per megawatt-hour compared to nuclear energy. It shows the actual price gap and not just the percentage difference.\n",
    "\n",
    "We see that nuclear energy is by far the cheapest form of electricity and has a significant advantage over all other forms of energy production. This means that it is an econimically viable alternative to fossil fuels."
   ]
  },
  {
   "cell_type": "markdown",
   "id": "4faea2de",
   "metadata": {},
   "source": [
    "## Environmental Impacts\n",
    "\n",
    "In the figure ‘Energy Source Environmental Impact Comparison’, various energy sources, shown on the x -axis, are evaluated across multiple graphs, each representing a specific category of environmental impact wich is shown on the y-axis.\n",
    "\n",
    "Energy production can have a large impact on the environment. These graphs show that nuclear energy is better for the environment in many ways.\n",
    "\n",
    "- The first graph shows the impact on the environment by **greenhouse gas emission** per energy source. The emission of greenhouse gasses such as CO2 contributes highly to global warming (Houghton, 2005). When greenhouse gasses are released into the atmosphere it can trap heat and warm the planet. This leads to climate related impacts such as rising temperatures, extreme weather events and sea level rising. In the graph it shows that nuclear energy has the least amount of greenhouse gas emission and thus has the lowest impact on the environment in this field compared to the other energy sources.\n",
    "\n",
    "- The second graph shows the excessive **nutrients in water** due to each energy source. Excessive nutrients in water have a high impact on the environment because it causes ecological imbalances (Wang et al., 2019). Water with a high concentration of nutrients can lead to eutrophication, this causes harmful algal blooms and oxygen depletion, which is a harm to aquatic life. Nuclear energy causes the least amount of excessive nutrients in water compared with the other energy sources, making it have the least environmental impact in this field.\n",
    "\n",
    "- In the third graph the amount of **ionising radiation** per energy source is shown. High-energy radiation can cause potential health and environmental risks. Ionizing radiation can damage DNA in cells. This can lead to cellular malfunction, mutations, and cause illnesses like cancer (Dartnell, 2011). These damages can kill organisms immediately or cause long-term health problems and reduced reproductive success. Populations decrease and biodiversity reduces, impacting the environment. The amount of ionising radiation by nuclear energy is the second most of all energy sources making it one the most impactful energy sources in this field.\n",
    "\n",
    "- The fourth graph shows **water usage** per energy source. When a lot of water is used it can have a big impact on the environment especially in urban environments and locations that deal with a lot of drought and water scarcity (Liuet al., 2017). Nuclear energy uses the second highest amount of water however it uses less than half as much as the highest energy source ‘Coal’.\n",
    "\n",
    "- The fifth graph shows the amount of **land use** per energy source. Consider urban development and infrastructure or land devoted to production activities. These types of land use impacts the environment by disrupting the structure and function of natural ecosystems, leading to habitat loss, causes long-term ecological imbalance and reduces biodiversity (National Research Council, 2005). The graph shows that nuclear energy uses substantially less land compared to the other energy sources, having the second to last environmental impact in this field.\n",
    "\n",
    "- The sixth graph shows the **human toxicity** of each energy resource. Toxicity stands for the harmful effects on human health, like cancer or other illnesses. Again nuclear energy causes the least amount of toxicity.\n",
    "\n",
    "- In the seventh graph the **use of minerals and metals** per energy source is shown. Energy sources use metals and minerals in industrial processes, these metals and minerals are extracted by mining activities which can lead to habitat destruction, polluting of water sources and the release of harmful substances into the environment (Aleksandrova & Timofeeva,, 2021). The processing of metals also requires energy and water, further worsening these impacts. The graph shows that nuclear energy has the least amount of minerals and metals used and thus having the least amount of impact on the environment.\n",
    "\n",
    "- In the last graph the **use of uranium** is shown. Uranium is a radioactive element that has a lot of environmental impact. The mining and processing of this element can have long-lasting environmental impacts, primarily due to its radioactive and toxic nature (Rankin 2011). These impacts include water and soil contamination, potential health risks, and disruptions to ecosystems. Nuclear energy uses the most amount of uranium compared to the other energy sources.\n",
    "\n",
    "In one graph nuclear energy has the highest impact on the environment, in two graphs nuclear energy scores the second highest of which one of them is still less than half as much as the highest scoring energy source. However, in the remaining four graphs it is shown that nuclear energy has the least or second least amount of impact. Looking at all these graphs it shows that nuclear energy has significantly less environmental impacts in most of the topics."
   ]
  },
  {
   "cell_type": "code",
   "execution_count": null,
   "id": "abc8747a",
   "metadata": {},
   "outputs": [],
   "source": [
    "%run environment.ipynb  "
   ]
  },
  {
   "cell_type": "markdown",
   "id": "ac84421c",
   "metadata": {},
   "source": [
    "\n",
    "## Summary\n",
    "\n",
    "- Nuclear energy is the cheapest energy source by far. It is $51.4\\%$ cheaper than coal, and substantially cheaper than all other sources of energy, even sustainable ones. This makes nuclear energy the best economic choice for energy production.\n",
    "\n",
    "- Nuclear energy is also environmentally friendly. It is the best option in terms of $CO2$ emissions, freshwater eutrophication, land use, and metal and mineral requirements. Nuclear energy is the worst energy source in terms of uranium usage, which is understandable. It scores averagely on water usage, and is the second worst in terms of ionising radiation, in which solar is the worst. The upsides of nuclear energy in terms of environment outweigh the downsides, making it one of the greenest energy sources "
   ]
  }
 ],
 "metadata": {
  "kernelspec": {
   "display_name": "global-dev",
   "language": "python",
   "name": "python3"
  },
  "language_info": {
   "codemirror_mode": {
    "name": "ipython",
    "version": 3
   },
   "file_extension": ".py",
   "mimetype": "text/x-python",
   "name": "python",
   "nbconvert_exporter": "python",
   "pygments_lexer": "ipython3",
   "version": "3.12.5"
  }
 },
 "nbformat": 4,
 "nbformat_minor": 5
}
