{
 "cells": [
  {
   "cell_type": "markdown",
   "id": "34b30999",
   "metadata": {},
   "source": []
  },
  {
   "cell_type": "markdown",
   "id": "4876aecb",
   "metadata": {},
   "source": [
    "# Perpective 1"
   ]
  },
  {
   "cell_type": "markdown",
   "id": "87dfeb55",
   "metadata": {},
   "source": [
    "In our first perspective we look at the low environmental impact of nuclear energy and its low costs in comparison with other energy sources.\n",
    "\n",
    "- Argument 1.1 Nuclear energy is a clean and efficient energy source. \n",
    "Nuclear energy can play a large role in fighting climate change because of its minimal co2 emission and low environmental impact among other factors. While still producing large amounts of energy.\n",
    "\n",
    "- Argument 1.2 Nuclear energy is cheap\n",
    "In addition, nuclear energy is cheap in comparison to other energy sources. Nuclear power plants have high construction costs however their operating costs are relatively low and can result in long-term cost-effectiveness."
   ]
  },
  {
   "cell_type": "markdown",
   "id": "5d1848e1",
   "metadata": {},
   "source": [
    "## The Costs of Nuclear Energy\n",
    "\n",
    "Nuclear Energy is often seen as a good alternative due to its potential lower long-term costs. In this section we will look into the economic costs of nuclear energy relative to other forms of energy production. This ties directly into Perspective 1.\n",
    "\n",
    "To do this we will use the Levelised Cost of Electricity (LCOE) which is a method that represents the cost of energy production in dollars per MWh of a power plant. It takes the whole lifetime of a power plant into account, such as capital costs, operation, maintenance, fuel and other expenses.\n"
   ]
  },
  {
   "cell_type": "markdown",
   "id": "43193dd8",
   "metadata": {},
   "source": [
    "The graph shows the percentage cost advantage of nuclear energy compared to four common electricity generation sources: Wind, Solar, Gas and Coal. Each bar represents how much cheaper nuclear energy is on avarage compared to the other technology, based on their Levelised Cost of Electricity(LCOE). \n",
    "\n",
    "The graph is defided by y-axis and x-axis, where the y-axis shows the percentage by which nuclear is cheaper, while the x-asis shows the different energy sources.\n",
    "\n",
    "While looking at the graph we can see that nuclear energy is consistently more affortable than the other energy types. The greatest cost advantage is compared coal, with nuclear being 51.4% cheaper on avarage. The smallest cost advantage is compared to gas, where nuclear is still 38.9% cheaper. \n",
    "\n",
    "We see that nuclear energy is by far the cheapest form of electricity and has a significant advantage over all other forms of energy production. This means that it is an econimically viable alternative to fossil fuels."
   ]
  },
  {
   "cell_type": "code",
   "execution_count": null,
   "id": "4762347b",
   "metadata": {},
   "outputs": [],
   "source": [
    "%run cost_advantage.ipynb"
   ]
  },
  {
   "cell_type": "markdown",
   "id": "3d0c25f1",
   "metadata": {},
   "source": [
    "This graph represents the average LCOE sorted by different energy categories. On the y-axis we see diffeerent energy categories and the x-axis displays their avarage cost in USD per MWh. The bars are color coded from green to red, with green indicating lower costs and red indicating higher costs. It is calculated by average LCOE of multiple countries in the database. \n",
    "\n",
    "From the graph, we can see that nuclear energy has the lowest avarage LCOE, meaning it\n"
   ]
  },
  {
   "cell_type": "code",
   "execution_count": null,
   "id": "cd58ea4e",
   "metadata": {},
   "outputs": [],
   "source": [
    "%run avg_lcoe.ipynb"
   ]
  }
 ],
 "metadata": {
  "kernelspec": {
   "display_name": "global-dev",
   "language": "python",
   "name": "python3"
  },
  "language_info": {
   "codemirror_mode": {
    "name": "ipython",
    "version": 3
   },
   "file_extension": ".py",
   "mimetype": "text/x-python",
   "name": "python",
   "nbconvert_exporter": "python",
   "pygments_lexer": "ipython3",
   "version": "3.12.5"
  }
 },
 "nbformat": 4,
 "nbformat_minor": 5
}
