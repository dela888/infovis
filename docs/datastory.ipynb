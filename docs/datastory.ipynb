{
 "cells": [
  {
   "cell_type": "markdown",
   "id": "9a55bcbd",
   "metadata": {},
   "source": [
    "# Nuclear energy - the future, or a danger to society"
   ]
  },
  {
   "cell_type": "markdown",
   "id": "3246ed5c",
   "metadata": {},
   "source": [
    "Nuclear energy has been on the rise in the current decade, as there has been a growing interest in a more sustainable energy source. This is due to the fact that nuclear energy's ability to generate large amounts of energy with a minimal carbon footprint. However, it is still quite a controversial form of power generation.\n",
    "\n",
    "Due to historical accidents, such as Chernobyl, concerns over radioactive waste management and other issues, public opinion has become divided on whether nuclear energy should be used as a primary energy source. It could be seen as a powerful source of clean energy but also as one with potential safety risks.\n",
    "\n",
    "In a time with increasing demand for global energy and urgent climate goals, nuclear energy is gaining attention again as a possible solution to the problems. Our data story aims to explore and show the two sides of nuclear energy and to demonstrate that nuclear energy could be the start of a cleaner power generation, while also showing the challenges of receiving the energy.\n"
   ]
  },
  {
   "cell_type": "markdown",
   "id": "c6a98848",
   "metadata": {},
   "source": [
    "## Perspective 1\n",
    "In our first perspective we look at the low environmental impact of nuclear energy and its low costs in comparison with other energy sources.\n",
    "- Argument 1.1 Nuclear energy is a clean and efficient energy source. \n",
    "Nuclear energy can play a large role in fighting climate change because of its minimal co2 emission and low environmental impact among other factors. While still producing large amounts of energy.\n",
    "\n",
    "- Argument 1.2 Nuclear energy is cheap\n",
    "In addition, nuclear energy is cheap in comparison to other energy sources. Nuclear power plants have high construction costs however their operating costs are relatively low and can result in long-term cost-effectiveness.\n",
    "\n",
    "## Perspective 2\n",
    "In our second perspective we look at how Nuclear energy can be harmful to humans and the environment.\n",
    "- Argument 2.1 Nuclear energy is a safety hazard and could harm humans\n",
    "Nuclear energy plants can be very dangerous, especially when accidents happen. These accidents can cause the release of radioactive materials into the environment. This can cause a lot of danger to humans, like causing illnesses such as cancer. \n",
    "\n",
    "- Argument 2.2 Nuclear energy plants produce a lot of nuclear waste\n",
    "When making nuclear energy nuclear waste is a byproduct. This nuclear waste is highly radioactive and hard to discard. Because of its radioactivity it can cause harm to humans and the environment. \n"
   ]
  },
  {
   "cell_type": "code",
   "execution_count": 18,
   "id": "c2ffdce3",
   "metadata": {},
   "outputs": [],
   "source": [
    "import pandas as pd\n",
    "import plotly.express as px\n",
    "import plotly.graph_objects as go\n",
    "import matplotlib.pyplot as plt\n",
    "import seaborn as sns\n",
    "import numpy as np\n",
    "from plotly.subplots import make_subplots"
   ]
  },
  {
   "cell_type": "code",
   "execution_count": 19,
   "id": "281722d3",
   "metadata": {},
   "outputs": [],
   "source": [
    "df = pd.read_csv('nuclear_data/impacts-of-energy-sources.csv')\n",
    "\n",
    "df = df.drop(['Agricultural land use', 'Urban land use', 'Death rates', 'Year'], axis=1)\n",
    "\n",
    "df = df.rename(columns={'Greenhouse gas emissions': 'Greenhouse gas emissions (kg CO2 eq.)', \n",
    "                        'Freshwater eutrophication': 'Freshwater eutrophication (kg P eq.)', \n",
    "                        'Ionising radiation':'Ionising radiation (kBq 235U eq)', \n",
    "                        'Water use':'Water use (m3)',\n",
    "                        'Metal and mineral requirements':'Metal and mineral requirements (kg Sb eq.)',\n",
    "                        'Non-carcinogenic toxicity':'Non-carcinogenic toxicity (CTUh)',\n",
    "                        'Carcinogenic toxicity':'Carcinogenic toxicity (CTUh)',\n",
    "                        'Total land use':'Total land use (points)',\n",
    "                        'Uranium':'Uranium (kg Sb eq.)'})\n",
    "\n",
    "df['Entity'] = df['Entity'].replace('Coal with carbon capture (CCS)', 'Coal')\n",
    "\n",
    "df['Entity'] = df['Entity'].replace('Concentrating solar (tower)', 'Concentrating Solar')\n",
    "df['Entity'] = df['Entity'].replace('Concentrating solar (trough)', 'Concentrating Solar')\n",
    "\n",
    "df['Entity'] = df['Entity'].replace('Solar PV, cadmium (roof)', 'Solar PV')\n",
    "df['Entity'] = df['Entity'].replace('Solar PV, cadmium (on-ground)', 'Solar PV')\n",
    "df['Entity'] = df['Entity'].replace('Solar PV, silicon (on-ground)', 'Solar PV')\n",
    "df['Entity'] = df['Entity'].replace('Solar PV, silicon (roof)', 'Solar PV')\n",
    "\n",
    "df['Entity'] = df['Entity'].replace('Gas with carbon capture (CCS)', 'Gas')\n",
    "\n",
    "df['Entity'] = df['Entity'].replace('Offshore wind', 'Wind')\n",
    "df['Entity'] = df['Entity'].replace('Onshore wind', 'Wind')\n",
    "\n",
    "df_combined = df.drop(columns=['Aluminium', 'Chromium', 'Cobalt', 'Copper', 'Manganese', 'Molybdenum', 'Nickel', 'Silicon', 'Zinc'])\n",
    "df_combined['Human toxicity (CTUh)'] = df_combined['Non-carcinogenic toxicity (CTUh)'] + df_combined['Carcinogenic toxicity (CTUh)']\n",
    "df_combined = df_combined.drop(columns=['Non-carcinogenic toxicity (CTUh)', 'Carcinogenic toxicity (CTUh)'])\n",
    "df_combined = df_combined[['Entity', 'Greenhouse gas emissions (kg CO2 eq.)', \n",
    "                           'Freshwater eutrophication (kg P eq.)', \n",
    "                           'Ionising radiation (kBq 235U eq)', \n",
    "                           'Water use (m3)', \n",
    "                           'Total land use (points)', \n",
    "                           'Human toxicity (CTUh)', \n",
    "                           'Metal and mineral requirements (kg Sb eq.)', \n",
    "                           'Uranium (kg Sb eq.)']]\n",
    "\n",
    "df_combined = df_combined.groupby('Entity', as_index=False).sum()"
   ]
  },
  {
   "cell_type": "code",
   "execution_count": 20,
   "id": "7dc986ca",
   "metadata": {},
   "outputs": [
    {
     "data": {
      "application/vnd.plotly.v1+json": {
       "config": {
        "plotlyServerURL": "https://plot.ly"
       },
       "data": [
        {
         "marker": {
          "color": "#636EFA"
         },
         "name": "Coal",
         "showlegend": true,
         "type": "bar",
         "x": [
          "Coal"
         ],
         "xaxis": "x",
         "y": {
          "bdata": "AAAAAADAk0A=",
          "dtype": "f8"
         },
         "yaxis": "y"
        },
        {
         "marker": {
          "color": "#EF553B"
         },
         "name": "Concentrating Solar",
         "showlegend": true,
         "type": "bar",
         "x": [
          "Concentrating Solar"
         ],
         "xaxis": "x",
         "y": {
          "bdata": "AAAAAAAAV0A=",
          "dtype": "f8"
         },
         "yaxis": "y"
        },
        {
         "marker": {
          "color": "#00CC96"
         },
         "name": "Gas",
         "showlegend": true,
         "type": "bar",
         "x": [
          "Gas"
         ],
         "xaxis": "x",
         "y": {
          "bdata": "AAAAAADogUA=",
          "dtype": "f8"
         },
         "yaxis": "y"
        },
        {
         "marker": {
          "color": "#AB63FA"
         },
         "name": "Hydropower",
         "showlegend": true,
         "type": "bar",
         "x": [
          "Hydropower"
         ],
         "xaxis": "x",
         "y": {
          "bdata": "AAAAAABAXUA=",
          "dtype": "f8"
         },
         "yaxis": "y"
        },
        {
         "marker": {
          "color": "#FFA15A"
         },
         "name": "Nuclear",
         "showlegend": true,
         "type": "bar",
         "x": [
          "Nuclear"
         ],
         "xaxis": "x",
         "y": {
          "bdata": "ZmZmZmZmFkA=",
          "dtype": "f8"
         },
         "yaxis": "y"
        },
        {
         "marker": {
          "color": "#19D3F3"
         },
         "name": "Solar PV",
         "showlegend": true,
         "type": "bar",
         "x": [
          "Solar PV"
         ],
         "xaxis": "x",
         "y": {
          "bdata": "AAAAAACAYUA=",
          "dtype": "f8"
         },
         "yaxis": "y"
        },
        {
         "marker": {
          "color": "#FF6692"
         },
         "name": "Wind",
         "showlegend": true,
         "type": "bar",
         "x": [
          "Wind"
         ],
         "xaxis": "x",
         "y": {
          "bdata": "AAAAAAAAPEA=",
          "dtype": "f8"
         },
         "yaxis": "y"
        },
        {
         "marker": {
          "color": "#636EFA"
         },
         "name": "Coal",
         "showlegend": false,
         "type": "bar",
         "x": [
          "Coal"
         ],
         "xaxis": "x2",
         "y": {
          "bdata": "XAU=",
          "dtype": "i2"
         },
         "yaxis": "y2"
        },
        {
         "marker": {
          "color": "#EF553B"
         },
         "name": "Concentrating Solar",
         "showlegend": false,
         "type": "bar",
         "x": [
          "Concentrating Solar"
         ],
         "xaxis": "x2",
         "y": {
          "bdata": "IQ==",
          "dtype": "i1"
         },
         "yaxis": "y2"
        },
        {
         "marker": {
          "color": "#00CC96"
         },
         "name": "Gas",
         "showlegend": false,
         "type": "bar",
         "x": [
          "Gas"
         ],
         "xaxis": "x2",
         "y": {
          "bdata": "Gg==",
          "dtype": "i1"
         },
         "yaxis": "y2"
        },
        {
         "marker": {
          "color": "#AB63FA"
         },
         "name": "Hydropower",
         "showlegend": false,
         "type": "bar",
         "x": [
          "Hydropower"
         ],
         "xaxis": "x2",
         "y": {
          "bdata": "Cg==",
          "dtype": "i1"
         },
         "yaxis": "y2"
        },
        {
         "marker": {
          "color": "#FFA15A"
         },
         "name": "Nuclear",
         "showlegend": false,
         "type": "bar",
         "x": [
          "Nuclear"
         ],
         "xaxis": "x2",
         "y": {
          "bdata": "Bg==",
          "dtype": "i1"
         },
         "yaxis": "y2"
        },
        {
         "marker": {
          "color": "#19D3F3"
         },
         "name": "Solar PV",
         "showlegend": false,
         "type": "bar",
         "x": [
          "Solar PV"
         ],
         "xaxis": "x2",
         "y": {
          "bdata": "cQ==",
          "dtype": "i1"
         },
         "yaxis": "y2"
        },
        {
         "marker": {
          "color": "#FF6692"
         },
         "name": "Wind",
         "showlegend": false,
         "type": "bar",
         "x": [
          "Wind"
         ],
         "xaxis": "x2",
         "y": {
          "bdata": "Dg==",
          "dtype": "i1"
         },
         "yaxis": "y2"
        },
        {
         "marker": {
          "color": "#636EFA"
         },
         "name": "Coal",
         "showlegend": false,
         "type": "bar",
         "x": [
          "Coal"
         ],
         "xaxis": "x3",
         "y": {
          "bdata": "mpmZmZmZJ0A=",
          "dtype": "f8"
         },
         "yaxis": "y3"
        },
        {
         "marker": {
          "color": "#EF553B"
         },
         "name": "Concentrating Solar",
         "showlegend": false,
         "type": "bar",
         "x": [
          "Concentrating Solar"
         ],
         "xaxis": "x3",
         "y": {
          "bdata": "zczMzMzMI0A=",
          "dtype": "f8"
         },
         "yaxis": "y3"
        },
        {
         "marker": {
          "color": "#00CC96"
         },
         "name": "Gas",
         "showlegend": false,
         "type": "bar",
         "x": [
          "Gas"
         ],
         "xaxis": "x3",
         "y": {
          "bdata": "MzMzMzMzIUA=",
          "dtype": "f8"
         },
         "yaxis": "y3"
        },
        {
         "marker": {
          "color": "#AB63FA"
         },
         "name": "Hydropower",
         "showlegend": false,
         "type": "bar",
         "x": [
          "Hydropower"
         ],
         "xaxis": "x3",
         "y": {
          "bdata": "ZmZmZmZmIkA=",
          "dtype": "f8"
         },
         "yaxis": "y3"
        },
        {
         "marker": {
          "color": "#FFA15A"
         },
         "name": "Nuclear",
         "showlegend": false,
         "type": "bar",
         "x": [
          "Nuclear"
         ],
         "xaxis": "x3",
         "y": {
          "bdata": "AAAAAAAALEA=",
          "dtype": "f8"
         },
         "yaxis": "y3"
        },
        {
         "marker": {
          "color": "#19D3F3"
         },
         "name": "Solar PV",
         "showlegend": false,
         "type": "bar",
         "x": [
          "Solar PV"
         ],
         "xaxis": "x3",
         "y": {
          "bdata": "MzMzMzOzMkA=",
          "dtype": "f8"
         },
         "yaxis": "y3"
        },
        {
         "marker": {
          "color": "#FF6692"
         },
         "name": "Wind",
         "showlegend": false,
         "type": "bar",
         "x": [
          "Wind"
         ],
         "xaxis": "x3",
         "y": {
          "bdata": "zczMzMzMAEA=",
          "dtype": "f8"
         },
         "yaxis": "y3"
        },
        {
         "marker": {
          "color": "#636EFA"
         },
         "name": "Coal",
         "showlegend": false,
         "type": "bar",
         "x": [
          "Coal"
         ],
         "xaxis": "x4",
         "y": {
          "bdata": "TgE=",
          "dtype": "i2"
         },
         "yaxis": "y4"
        },
        {
         "marker": {
          "color": "#EF553B"
         },
         "name": "Concentrating Solar",
         "showlegend": false,
         "type": "bar",
         "x": [
          "Concentrating Solar"
         ],
         "xaxis": "x4",
         "y": {
          "bdata": "Ig==",
          "dtype": "i1"
         },
         "yaxis": "y4"
        },
        {
         "marker": {
          "color": "#00CC96"
         },
         "name": "Gas",
         "showlegend": false,
         "type": "bar",
         "x": [
          "Gas"
         ],
         "xaxis": "x4",
         "y": {
          "bdata": "fA==",
          "dtype": "i1"
         },
         "yaxis": "y4"
        },
        {
         "marker": {
          "color": "#AB63FA"
         },
         "name": "Hydropower",
         "showlegend": false,
         "type": "bar",
         "x": [
          "Hydropower"
         ],
         "xaxis": "x4",
         "y": {
          "bdata": "DQ==",
          "dtype": "i1"
         },
         "yaxis": "y4"
        },
        {
         "marker": {
          "color": "#FFA15A"
         },
         "name": "Nuclear",
         "showlegend": false,
         "type": "bar",
         "x": [
          "Nuclear"
         ],
         "xaxis": "x4",
         "y": {
          "bdata": "hAA=",
          "dtype": "i2"
         },
         "yaxis": "y4"
        },
        {
         "marker": {
          "color": "#19D3F3"
         },
         "name": "Solar PV",
         "showlegend": false,
         "type": "bar",
         "x": [
          "Solar PV"
         ],
         "xaxis": "x4",
         "y": {
          "bdata": "Ww==",
          "dtype": "i1"
         },
         "yaxis": "y4"
        },
        {
         "marker": {
          "color": "#FF6692"
         },
         "name": "Wind",
         "showlegend": false,
         "type": "bar",
         "x": [
          "Wind"
         ],
         "xaxis": "x4",
         "y": {
          "bdata": "Dw==",
          "dtype": "i1"
         },
         "yaxis": "y4"
        },
        {
         "marker": {
          "color": "#636EFA"
         },
         "name": "Coal",
         "showlegend": false,
         "type": "bar",
         "x": [
          "Coal"
         ],
         "xaxis": "x5",
         "y": {
          "bdata": "PzAN5NX3QUA=",
          "dtype": "f8"
         },
         "yaxis": "y5"
        },
        {
         "marker": {
          "color": "#EF553B"
         },
         "name": "Concentrating Solar",
         "showlegend": false,
         "type": "bar",
         "x": [
          "Concentrating Solar"
         ],
         "xaxis": "x5",
         "y": {
          "bdata": "lpG8a7caQ0A=",
          "dtype": "f8"
         },
         "yaxis": "y5"
        },
        {
         "marker": {
          "color": "#00CC96"
         },
         "name": "Gas",
         "showlegend": false,
         "type": "bar",
         "x": [
          "Gas"
         ],
         "xaxis": "x5",
         "y": {
          "bdata": "wyWzuetyAkA=",
          "dtype": "f8"
         },
         "yaxis": "y5"
        },
        {
         "marker": {
          "color": "#AB63FA"
         },
         "name": "Hydropower",
         "showlegend": false,
         "type": "bar",
         "x": [
          "Hydropower"
         ],
         "xaxis": "x5",
         "y": {
          "bdata": "fXoqr66xQEA=",
          "dtype": "f8"
         },
         "yaxis": "y5"
        },
        {
         "marker": {
          "color": "#FFA15A"
         },
         "name": "Nuclear",
         "showlegend": false,
         "type": "bar",
         "x": [
          "Nuclear"
         ],
         "xaxis": "x5",
         "y": {
          "bdata": "pFhXzb8S1T8=",
          "dtype": "f8"
         },
         "yaxis": "y5"
        },
        {
         "marker": {
          "color": "#19D3F3"
         },
         "name": "Solar PV",
         "showlegend": false,
         "type": "bar",
         "x": [
          "Solar PV"
         ],
         "xaxis": "x5",
         "y": {
          "bdata": "mMFIyn4QQkA=",
          "dtype": "f8"
         },
         "yaxis": "y5"
        },
        {
         "marker": {
          "color": "#FF6692"
         },
         "name": "Wind",
         "showlegend": false,
         "type": "bar",
         "x": [
          "Wind"
         ],
         "xaxis": "x5",
         "y": {
          "bdata": "AAAAAAAAAAA=",
          "dtype": "f8"
         },
         "yaxis": "y5"
        },
        {
         "marker": {
          "color": "#636EFA"
         },
         "name": "Coal",
         "showlegend": false,
         "type": "bar",
         "x": [
          "Coal"
         ],
         "xaxis": "x6",
         "y": {
          "bdata": "ECndyAK0ZkA=",
          "dtype": "f8"
         },
         "yaxis": "y6"
        },
        {
         "marker": {
          "color": "#EF553B"
         },
         "name": "Concentrating Solar",
         "showlegend": false,
         "type": "bar",
         "x": [
          "Concentrating Solar"
         ],
         "xaxis": "x6",
         "y": {
          "bdata": "pGWxCFYbNUA=",
          "dtype": "f8"
         },
         "yaxis": "y6"
        },
        {
         "marker": {
          "color": "#00CC96"
         },
         "name": "Gas",
         "showlegend": false,
         "type": "bar",
         "x": [
          "Gas"
         ],
         "xaxis": "x6",
         "y": {
          "bdata": "nibGQajUPkA=",
          "dtype": "f8"
         },
         "yaxis": "y6"
        },
        {
         "marker": {
          "color": "#AB63FA"
         },
         "name": "Hydropower",
         "showlegend": false,
         "type": "bar",
         "x": [
          "Hydropower"
         ],
         "xaxis": "x6",
         "y": {
          "bdata": "EC7Jc5A6M0A=",
          "dtype": "f8"
         },
         "yaxis": "y6"
        },
        {
         "marker": {
          "color": "#FFA15A"
         },
         "name": "Nuclear",
         "showlegend": false,
         "type": "bar",
         "x": [
          "Nuclear"
         ],
         "xaxis": "x6",
         "y": {
          "bdata": "NQACc4BqGEA=",
          "dtype": "f8"
         },
         "yaxis": "y6"
        },
        {
         "marker": {
          "color": "#19D3F3"
         },
         "name": "Solar PV",
         "showlegend": false,
         "type": "bar",
         "x": [
          "Solar PV"
         ],
         "xaxis": "x6",
         "y": {
          "bdata": "iyUDRc6kS0A=",
          "dtype": "f8"
         },
         "yaxis": "y6"
        },
        {
         "marker": {
          "color": "#FF6692"
         },
         "name": "Wind",
         "showlegend": false,
         "type": "bar",
         "x": [
          "Wind"
         ],
         "xaxis": "x6",
         "y": {
          "bdata": "FLufG+ZuMkA=",
          "dtype": "f8"
         },
         "yaxis": "y6"
        },
        {
         "marker": {
          "color": "#636EFA"
         },
         "name": "Coal",
         "showlegend": false,
         "type": "bar",
         "x": [
          "Coal"
         ],
         "xaxis": "x7",
         "y": {
          "bdata": "exSuR+F68D8=",
          "dtype": "f8"
         },
         "yaxis": "y7"
        },
        {
         "marker": {
          "color": "#EF553B"
         },
         "name": "Concentrating Solar",
         "showlegend": false,
         "type": "bar",
         "x": [
          "Concentrating Solar"
         ],
         "xaxis": "x7",
         "y": {
          "bdata": "9ihcj8L19D8=",
          "dtype": "f8"
         },
         "yaxis": "y7"
        },
        {
         "marker": {
          "color": "#00CC96"
         },
         "name": "Gas",
         "showlegend": false,
         "type": "bar",
         "x": [
          "Gas"
         ],
         "xaxis": "x7",
         "y": {
          "bdata": "KVyPwvUo3D8=",
          "dtype": "f8"
         },
         "yaxis": "y7"
        },
        {
         "marker": {
          "color": "#AB63FA"
         },
         "name": "Hydropower",
         "showlegend": false,
         "type": "bar",
         "x": [
          "Hydropower"
         ],
         "xaxis": "x7",
         "y": {
          "bdata": "uB6F61G43j8=",
          "dtype": "f8"
         },
         "yaxis": "y7"
        },
        {
         "marker": {
          "color": "#FFA15A"
         },
         "name": "Nuclear",
         "showlegend": false,
         "type": "bar",
         "x": [
          "Nuclear"
         ],
         "xaxis": "x7",
         "y": {
          "bdata": "w/UoXI/C1T8=",
          "dtype": "f8"
         },
         "yaxis": "y7"
        },
        {
         "marker": {
          "color": "#19D3F3"
         },
         "name": "Solar PV",
         "showlegend": false,
         "type": "bar",
         "x": [
          "Solar PV"
         ],
         "xaxis": "x7",
         "y": {
          "bdata": "SOF6FK4HNEA=",
          "dtype": "f8"
         },
         "yaxis": "y7"
        },
        {
         "marker": {
          "color": "#FF6692"
         },
         "name": "Wind",
         "showlegend": false,
         "type": "bar",
         "x": [
          "Wind"
         ],
         "xaxis": "x7",
         "y": {
          "bdata": "rkfhehSu+z8=",
          "dtype": "f8"
         },
         "yaxis": "y7"
        },
        {
         "marker": {
          "color": "#636EFA"
         },
         "name": "Coal",
         "showlegend": false,
         "type": "bar",
         "x": [
          "Coal"
         ],
         "xaxis": "x8",
         "y": {
          "bdata": "J5xAheFL2z8=",
          "dtype": "f8"
         },
         "yaxis": "y8"
        },
        {
         "marker": {
          "color": "#EF553B"
         },
         "name": "Concentrating Solar",
         "showlegend": false,
         "type": "bar",
         "x": [
          "Concentrating Solar"
         ],
         "xaxis": "x8",
         "y": {
          "bdata": "KUfJ9wHy0D8=",
          "dtype": "f8"
         },
         "yaxis": "y8"
        },
        {
         "marker": {
          "color": "#00CC96"
         },
         "name": "Gas",
         "showlegend": false,
         "type": "bar",
         "x": [
          "Gas"
         ],
         "xaxis": "x8",
         "y": {
          "bdata": "8CO5Jwjx2T8=",
          "dtype": "f8"
         },
         "yaxis": "y8"
        },
        {
         "marker": {
          "color": "#AB63FA"
         },
         "name": "Hydropower",
         "showlegend": false,
         "type": "bar",
         "x": [
          "Hydropower"
         ],
         "xaxis": "x8",
         "y": {
          "bdata": "jDDYHAZEdz8=",
          "dtype": "f8"
         },
         "yaxis": "y8"
        },
        {
         "marker": {
          "color": "#FFA15A"
         },
         "name": "Nuclear",
         "showlegend": false,
         "type": "bar",
         "x": [
          "Nuclear"
         ],
         "xaxis": "x8",
         "y": {
          "bdata": "ftW6os42PUA=",
          "dtype": "f8"
         },
         "yaxis": "y8"
        },
        {
         "marker": {
          "color": "#19D3F3"
         },
         "name": "Solar PV",
         "showlegend": false,
         "type": "bar",
         "x": [
          "Solar PV"
         ],
         "xaxis": "x8",
         "y": {
          "bdata": "feLsFZec4z8=",
          "dtype": "f8"
         },
         "yaxis": "y8"
        },
        {
         "marker": {
          "color": "#FF6692"
         },
         "name": "Wind",
         "showlegend": false,
         "type": "bar",
         "x": [
          "Wind"
         ],
         "xaxis": "x8",
         "y": {
          "bdata": "nmh6MPkErz8=",
          "dtype": "f8"
         },
         "yaxis": "y8"
        }
       ],
       "layout": {
        "annotations": [
         {
          "font": {
           "size": 16
          },
          "showarrow": false,
          "text": "Greenhouse gas emissions (kg CO2 eq.)",
          "x": 0.11666666666666665,
          "xanchor": "center",
          "xref": "paper",
          "y": 1,
          "yanchor": "bottom",
          "yref": "paper"
         },
         {
          "font": {
           "size": 16
          },
          "showarrow": false,
          "text": "Freshwater eutrophication (kg P eq.)",
          "x": 0.49999999999999994,
          "xanchor": "center",
          "xref": "paper",
          "y": 1,
          "yanchor": "bottom",
          "yref": "paper"
         },
         {
          "font": {
           "size": 16
          },
          "showarrow": false,
          "text": "Ionising radiation (kBq 235U eq)",
          "x": 0.8833333333333333,
          "xanchor": "center",
          "xref": "paper",
          "y": 1,
          "yanchor": "bottom",
          "yref": "paper"
         },
         {
          "font": {
           "size": 16
          },
          "showarrow": false,
          "text": "Water use (m3)",
          "x": 0.11666666666666665,
          "xanchor": "center",
          "xref": "paper",
          "y": 0.6,
          "yanchor": "bottom",
          "yref": "paper"
         },
         {
          "font": {
           "size": 16
          },
          "showarrow": false,
          "text": "Total land use (points)",
          "x": 0.49999999999999994,
          "xanchor": "center",
          "xref": "paper",
          "y": 0.6,
          "yanchor": "bottom",
          "yref": "paper"
         },
         {
          "font": {
           "size": 16
          },
          "showarrow": false,
          "text": "Human toxicity (CTUh)",
          "x": 0.8833333333333333,
          "xanchor": "center",
          "xref": "paper",
          "y": 0.6,
          "yanchor": "bottom",
          "yref": "paper"
         },
         {
          "font": {
           "size": 16
          },
          "showarrow": false,
          "text": "Metal and mineral requirements (kg Sb eq.)",
          "x": 0.11666666666666665,
          "xanchor": "center",
          "xref": "paper",
          "y": 0.19999999999999998,
          "yanchor": "bottom",
          "yref": "paper"
         },
         {
          "font": {
           "size": 16
          },
          "showarrow": false,
          "text": "Uranium (kg Sb eq.)",
          "x": 0.49999999999999994,
          "xanchor": "center",
          "xref": "paper",
          "y": 0.19999999999999998,
          "yanchor": "bottom",
          "yref": "paper"
         }
        ],
        "height": 1300,
        "legend": {
         "title": {
          "text": "Energy Source"
         }
        },
        "template": {
         "data": {
          "bar": [
           {
            "error_x": {
             "color": "#2a3f5f"
            },
            "error_y": {
             "color": "#2a3f5f"
            },
            "marker": {
             "line": {
              "color": "#E5ECF6",
              "width": 0.5
             },
             "pattern": {
              "fillmode": "overlay",
              "size": 10,
              "solidity": 0.2
             }
            },
            "type": "bar"
           }
          ],
          "barpolar": [
           {
            "marker": {
             "line": {
              "color": "#E5ECF6",
              "width": 0.5
             },
             "pattern": {
              "fillmode": "overlay",
              "size": 10,
              "solidity": 0.2
             }
            },
            "type": "barpolar"
           }
          ],
          "carpet": [
           {
            "aaxis": {
             "endlinecolor": "#2a3f5f",
             "gridcolor": "white",
             "linecolor": "white",
             "minorgridcolor": "white",
             "startlinecolor": "#2a3f5f"
            },
            "baxis": {
             "endlinecolor": "#2a3f5f",
             "gridcolor": "white",
             "linecolor": "white",
             "minorgridcolor": "white",
             "startlinecolor": "#2a3f5f"
            },
            "type": "carpet"
           }
          ],
          "choropleth": [
           {
            "colorbar": {
             "outlinewidth": 0,
             "ticks": ""
            },
            "type": "choropleth"
           }
          ],
          "contour": [
           {
            "colorbar": {
             "outlinewidth": 0,
             "ticks": ""
            },
            "colorscale": [
             [
              0,
              "#0d0887"
             ],
             [
              0.1111111111111111,
              "#46039f"
             ],
             [
              0.2222222222222222,
              "#7201a8"
             ],
             [
              0.3333333333333333,
              "#9c179e"
             ],
             [
              0.4444444444444444,
              "#bd3786"
             ],
             [
              0.5555555555555556,
              "#d8576b"
             ],
             [
              0.6666666666666666,
              "#ed7953"
             ],
             [
              0.7777777777777778,
              "#fb9f3a"
             ],
             [
              0.8888888888888888,
              "#fdca26"
             ],
             [
              1,
              "#f0f921"
             ]
            ],
            "type": "contour"
           }
          ],
          "contourcarpet": [
           {
            "colorbar": {
             "outlinewidth": 0,
             "ticks": ""
            },
            "type": "contourcarpet"
           }
          ],
          "heatmap": [
           {
            "colorbar": {
             "outlinewidth": 0,
             "ticks": ""
            },
            "colorscale": [
             [
              0,
              "#0d0887"
             ],
             [
              0.1111111111111111,
              "#46039f"
             ],
             [
              0.2222222222222222,
              "#7201a8"
             ],
             [
              0.3333333333333333,
              "#9c179e"
             ],
             [
              0.4444444444444444,
              "#bd3786"
             ],
             [
              0.5555555555555556,
              "#d8576b"
             ],
             [
              0.6666666666666666,
              "#ed7953"
             ],
             [
              0.7777777777777778,
              "#fb9f3a"
             ],
             [
              0.8888888888888888,
              "#fdca26"
             ],
             [
              1,
              "#f0f921"
             ]
            ],
            "type": "heatmap"
           }
          ],
          "histogram": [
           {
            "marker": {
             "pattern": {
              "fillmode": "overlay",
              "size": 10,
              "solidity": 0.2
             }
            },
            "type": "histogram"
           }
          ],
          "histogram2d": [
           {
            "colorbar": {
             "outlinewidth": 0,
             "ticks": ""
            },
            "colorscale": [
             [
              0,
              "#0d0887"
             ],
             [
              0.1111111111111111,
              "#46039f"
             ],
             [
              0.2222222222222222,
              "#7201a8"
             ],
             [
              0.3333333333333333,
              "#9c179e"
             ],
             [
              0.4444444444444444,
              "#bd3786"
             ],
             [
              0.5555555555555556,
              "#d8576b"
             ],
             [
              0.6666666666666666,
              "#ed7953"
             ],
             [
              0.7777777777777778,
              "#fb9f3a"
             ],
             [
              0.8888888888888888,
              "#fdca26"
             ],
             [
              1,
              "#f0f921"
             ]
            ],
            "type": "histogram2d"
           }
          ],
          "histogram2dcontour": [
           {
            "colorbar": {
             "outlinewidth": 0,
             "ticks": ""
            },
            "colorscale": [
             [
              0,
              "#0d0887"
             ],
             [
              0.1111111111111111,
              "#46039f"
             ],
             [
              0.2222222222222222,
              "#7201a8"
             ],
             [
              0.3333333333333333,
              "#9c179e"
             ],
             [
              0.4444444444444444,
              "#bd3786"
             ],
             [
              0.5555555555555556,
              "#d8576b"
             ],
             [
              0.6666666666666666,
              "#ed7953"
             ],
             [
              0.7777777777777778,
              "#fb9f3a"
             ],
             [
              0.8888888888888888,
              "#fdca26"
             ],
             [
              1,
              "#f0f921"
             ]
            ],
            "type": "histogram2dcontour"
           }
          ],
          "mesh3d": [
           {
            "colorbar": {
             "outlinewidth": 0,
             "ticks": ""
            },
            "type": "mesh3d"
           }
          ],
          "parcoords": [
           {
            "line": {
             "colorbar": {
              "outlinewidth": 0,
              "ticks": ""
             }
            },
            "type": "parcoords"
           }
          ],
          "pie": [
           {
            "automargin": true,
            "type": "pie"
           }
          ],
          "scatter": [
           {
            "fillpattern": {
             "fillmode": "overlay",
             "size": 10,
             "solidity": 0.2
            },
            "type": "scatter"
           }
          ],
          "scatter3d": [
           {
            "line": {
             "colorbar": {
              "outlinewidth": 0,
              "ticks": ""
             }
            },
            "marker": {
             "colorbar": {
              "outlinewidth": 0,
              "ticks": ""
             }
            },
            "type": "scatter3d"
           }
          ],
          "scattercarpet": [
           {
            "marker": {
             "colorbar": {
              "outlinewidth": 0,
              "ticks": ""
             }
            },
            "type": "scattercarpet"
           }
          ],
          "scattergeo": [
           {
            "marker": {
             "colorbar": {
              "outlinewidth": 0,
              "ticks": ""
             }
            },
            "type": "scattergeo"
           }
          ],
          "scattergl": [
           {
            "marker": {
             "colorbar": {
              "outlinewidth": 0,
              "ticks": ""
             }
            },
            "type": "scattergl"
           }
          ],
          "scattermap": [
           {
            "marker": {
             "colorbar": {
              "outlinewidth": 0,
              "ticks": ""
             }
            },
            "type": "scattermap"
           }
          ],
          "scattermapbox": [
           {
            "marker": {
             "colorbar": {
              "outlinewidth": 0,
              "ticks": ""
             }
            },
            "type": "scattermapbox"
           }
          ],
          "scatterpolar": [
           {
            "marker": {
             "colorbar": {
              "outlinewidth": 0,
              "ticks": ""
             }
            },
            "type": "scatterpolar"
           }
          ],
          "scatterpolargl": [
           {
            "marker": {
             "colorbar": {
              "outlinewidth": 0,
              "ticks": ""
             }
            },
            "type": "scatterpolargl"
           }
          ],
          "scatterternary": [
           {
            "marker": {
             "colorbar": {
              "outlinewidth": 0,
              "ticks": ""
             }
            },
            "type": "scatterternary"
           }
          ],
          "surface": [
           {
            "colorbar": {
             "outlinewidth": 0,
             "ticks": ""
            },
            "colorscale": [
             [
              0,
              "#0d0887"
             ],
             [
              0.1111111111111111,
              "#46039f"
             ],
             [
              0.2222222222222222,
              "#7201a8"
             ],
             [
              0.3333333333333333,
              "#9c179e"
             ],
             [
              0.4444444444444444,
              "#bd3786"
             ],
             [
              0.5555555555555556,
              "#d8576b"
             ],
             [
              0.6666666666666666,
              "#ed7953"
             ],
             [
              0.7777777777777778,
              "#fb9f3a"
             ],
             [
              0.8888888888888888,
              "#fdca26"
             ],
             [
              1,
              "#f0f921"
             ]
            ],
            "type": "surface"
           }
          ],
          "table": [
           {
            "cells": {
             "fill": {
              "color": "#EBF0F8"
             },
             "line": {
              "color": "white"
             }
            },
            "header": {
             "fill": {
              "color": "#C8D4E3"
             },
             "line": {
              "color": "white"
             }
            },
            "type": "table"
           }
          ]
         },
         "layout": {
          "annotationdefaults": {
           "arrowcolor": "#2a3f5f",
           "arrowhead": 0,
           "arrowwidth": 1
          },
          "autotypenumbers": "strict",
          "coloraxis": {
           "colorbar": {
            "outlinewidth": 0,
            "ticks": ""
           }
          },
          "colorscale": {
           "diverging": [
            [
             0,
             "#8e0152"
            ],
            [
             0.1,
             "#c51b7d"
            ],
            [
             0.2,
             "#de77ae"
            ],
            [
             0.3,
             "#f1b6da"
            ],
            [
             0.4,
             "#fde0ef"
            ],
            [
             0.5,
             "#f7f7f7"
            ],
            [
             0.6,
             "#e6f5d0"
            ],
            [
             0.7,
             "#b8e186"
            ],
            [
             0.8,
             "#7fbc41"
            ],
            [
             0.9,
             "#4d9221"
            ],
            [
             1,
             "#276419"
            ]
           ],
           "sequential": [
            [
             0,
             "#0d0887"
            ],
            [
             0.1111111111111111,
             "#46039f"
            ],
            [
             0.2222222222222222,
             "#7201a8"
            ],
            [
             0.3333333333333333,
             "#9c179e"
            ],
            [
             0.4444444444444444,
             "#bd3786"
            ],
            [
             0.5555555555555556,
             "#d8576b"
            ],
            [
             0.6666666666666666,
             "#ed7953"
            ],
            [
             0.7777777777777778,
             "#fb9f3a"
            ],
            [
             0.8888888888888888,
             "#fdca26"
            ],
            [
             1,
             "#f0f921"
            ]
           ],
           "sequentialminus": [
            [
             0,
             "#0d0887"
            ],
            [
             0.1111111111111111,
             "#46039f"
            ],
            [
             0.2222222222222222,
             "#7201a8"
            ],
            [
             0.3333333333333333,
             "#9c179e"
            ],
            [
             0.4444444444444444,
             "#bd3786"
            ],
            [
             0.5555555555555556,
             "#d8576b"
            ],
            [
             0.6666666666666666,
             "#ed7953"
            ],
            [
             0.7777777777777778,
             "#fb9f3a"
            ],
            [
             0.8888888888888888,
             "#fdca26"
            ],
            [
             1,
             "#f0f921"
            ]
           ]
          },
          "colorway": [
           "#636efa",
           "#EF553B",
           "#00cc96",
           "#ab63fa",
           "#FFA15A",
           "#19d3f3",
           "#FF6692",
           "#B6E880",
           "#FF97FF",
           "#FECB52"
          ],
          "font": {
           "color": "#2a3f5f"
          },
          "geo": {
           "bgcolor": "white",
           "lakecolor": "white",
           "landcolor": "#E5ECF6",
           "showlakes": true,
           "showland": true,
           "subunitcolor": "white"
          },
          "hoverlabel": {
           "align": "left"
          },
          "hovermode": "closest",
          "mapbox": {
           "style": "light"
          },
          "paper_bgcolor": "white",
          "plot_bgcolor": "#E5ECF6",
          "polar": {
           "angularaxis": {
            "gridcolor": "white",
            "linecolor": "white",
            "ticks": ""
           },
           "bgcolor": "#E5ECF6",
           "radialaxis": {
            "gridcolor": "white",
            "linecolor": "white",
            "ticks": ""
           }
          },
          "scene": {
           "xaxis": {
            "backgroundcolor": "#E5ECF6",
            "gridcolor": "white",
            "gridwidth": 2,
            "linecolor": "white",
            "showbackground": true,
            "ticks": "",
            "zerolinecolor": "white"
           },
           "yaxis": {
            "backgroundcolor": "#E5ECF6",
            "gridcolor": "white",
            "gridwidth": 2,
            "linecolor": "white",
            "showbackground": true,
            "ticks": "",
            "zerolinecolor": "white"
           },
           "zaxis": {
            "backgroundcolor": "#E5ECF6",
            "gridcolor": "white",
            "gridwidth": 2,
            "linecolor": "white",
            "showbackground": true,
            "ticks": "",
            "zerolinecolor": "white"
           }
          },
          "shapedefaults": {
           "line": {
            "color": "#2a3f5f"
           }
          },
          "ternary": {
           "aaxis": {
            "gridcolor": "white",
            "linecolor": "white",
            "ticks": ""
           },
           "baxis": {
            "gridcolor": "white",
            "linecolor": "white",
            "ticks": ""
           },
           "bgcolor": "#E5ECF6",
           "caxis": {
            "gridcolor": "white",
            "linecolor": "white",
            "ticks": ""
           }
          },
          "title": {
           "x": 0.05
          },
          "xaxis": {
           "automargin": true,
           "gridcolor": "white",
           "linecolor": "white",
           "ticks": "",
           "title": {
            "standoff": 15
           },
           "zerolinecolor": "white",
           "zerolinewidth": 2
          },
          "yaxis": {
           "automargin": true,
           "gridcolor": "white",
           "linecolor": "white",
           "ticks": "",
           "title": {
            "standoff": 15
           },
           "zerolinecolor": "white",
           "zerolinewidth": 2
          }
         }
        },
        "title": {
         "text": "Energy Source Environmental Impact Comparison"
        },
        "width": 1200,
        "xaxis": {
         "anchor": "y",
         "domain": [
          0,
          0.2333333333333333
         ]
        },
        "xaxis2": {
         "anchor": "y2",
         "domain": [
          0.3833333333333333,
          0.6166666666666666
         ]
        },
        "xaxis3": {
         "anchor": "y3",
         "domain": [
          0.7666666666666666,
          0.9999999999999999
         ]
        },
        "xaxis4": {
         "anchor": "y4",
         "domain": [
          0,
          0.2333333333333333
         ]
        },
        "xaxis5": {
         "anchor": "y5",
         "domain": [
          0.3833333333333333,
          0.6166666666666666
         ]
        },
        "xaxis6": {
         "anchor": "y6",
         "domain": [
          0.7666666666666666,
          0.9999999999999999
         ]
        },
        "xaxis7": {
         "anchor": "y7",
         "domain": [
          0,
          0.2333333333333333
         ]
        },
        "xaxis8": {
         "anchor": "y8",
         "domain": [
          0.3833333333333333,
          0.6166666666666666
         ]
        },
        "xaxis9": {
         "anchor": "y9",
         "domain": [
          0.7666666666666666,
          0.9999999999999999
         ]
        },
        "yaxis": {
         "anchor": "x",
         "domain": [
          0.8,
          1
         ]
        },
        "yaxis2": {
         "anchor": "x2",
         "domain": [
          0.8,
          1
         ]
        },
        "yaxis3": {
         "anchor": "x3",
         "domain": [
          0.8,
          1
         ]
        },
        "yaxis4": {
         "anchor": "x4",
         "domain": [
          0.4,
          0.6
         ]
        },
        "yaxis5": {
         "anchor": "x5",
         "domain": [
          0.4,
          0.6
         ]
        },
        "yaxis6": {
         "anchor": "x6",
         "domain": [
          0.4,
          0.6
         ]
        },
        "yaxis7": {
         "anchor": "x7",
         "domain": [
          0,
          0.19999999999999998
         ]
        },
        "yaxis8": {
         "anchor": "x8",
         "domain": [
          0,
          0.19999999999999998
         ]
        },
        "yaxis9": {
         "anchor": "x9",
         "domain": [
          0,
          0.19999999999999998
         ],
         "type": "log"
        }
       }
      }
     },
     "metadata": {},
     "output_type": "display_data"
    }
   ],
   "source": [
    "color_map = {\n",
    "    'Coal': '#636EFA',\n",
    "    'Concentrating Solar': '#EF553B',\n",
    "    'Gas': '#00CC96',\n",
    "    'Hydropower': '#AB63FA',\n",
    "    'Nuclear': '#FFA15A',\n",
    "    'Solar PV': '#19D3F3',\n",
    "    'Wind': '#FF6692'\n",
    "}\n",
    "\n",
    "metrics6 = df_combined.columns[1:]\n",
    "fig11 = make_subplots(\n",
    "    rows=3, \n",
    "    cols=3,\n",
    "    subplot_titles=metrics6,\n",
    "    horizontal_spacing=0.15,\n",
    "    vertical_spacing=0.2\n",
    ")\n",
    "\n",
    "for i, metric in enumerate(metrics6, 1):\n",
    "    row = (i-1) // 3 + 1\n",
    "    col = (i-1) % 3 + 1\n",
    "    \n",
    "    for entity in df_combined['Entity']:\n",
    "        fig11.add_trace(\n",
    "            go.Bar(\n",
    "                x=[entity],\n",
    "                y=df_combined[df_combined['Entity']==entity][metric],\n",
    "                name=entity,\n",
    "                marker_color=color_map[entity],\n",
    "                showlegend=(i == 1)\n",
    "            ),\n",
    "            row=row,\n",
    "            col=col\n",
    "        )\n",
    "\n",
    "fig11.update_layout(\n",
    "    title_text='Energy Source Environmental Impact Comparison',\n",
    "    height=1300,\n",
    "    width=1200,\n",
    "    legend_title_text='Energy Source'\n",
    ")\n",
    "\n",
    "fig11.update_yaxes(type=\"log\", row=3, col=3) \n",
    "\n",
    "fig11.show()"
   ]
  },
  {
   "cell_type": "markdown",
   "id": "85c6db37",
   "metadata": {},
   "source": [
    "In the figure ‘Energy Source Environmental Impact Comparison’, various energy sources are evaluated across multiple graphs, each representing a specific category of environmental impact.\n",
    "Energy production can have a large impact on the environment. These graphs show that nuclear energy is better for the environment in many ways.\n",
    "\n",
    "The graph ‘Greenhouse gas emission (kg CO2 eq.)’ shows the impact on the environment by greenhouse gas emission per energy source. The emission of greenhouse gasses such as CO2 contributes highly to global warming (Houghton, J., 2005). When greenhouse gasses are released into the atmosphere it can trap heat and warm the planet. This leads to climate related impacts such as rising temperatures, extreme weather events and sea level rising. In the graph it shows that nuclear energy has the least amount of greenhouse gas emission and thus has the lowest impact on the environment in this field compared to the other energy sources.\n",
    "\n",
    "The second graph shows the excessive nutrients in water due to each energy source. Excessive nutrients in water have a high impact on the environment because it causes ecological imbalances (Wang, M., et al., 2019). Water with a high concentration of nutrients can lead to eutrophication, this causes harmful algal blooms and oxygen depletion, which is a harm to aquatic life. Nuclear energy causes the least amount of excessive nutrients in water compared with the other energy sources, making it have the least environmental impact in this field. \n",
    "\n",
    "In the third graph the amount of ionising radiation per energy source is shown. High-energy radiation can cause potential health and environmental risks. Ionizing radiation can damage DNA in cells. This can lead to cellular malfunction, mutations, and cause illnesses like cancer (Dartnell, L. R., 2011). These damages can kill organisms immediately or cause long-term health problems and reduced reproductive success. Populations decrease and biodiversity reduces, impacting the environment. The amount of ionising radiation by nuclear energy is the second most of all energy sources making it one the most impactful energy sources in this field.\n",
    "\n",
    "The fourth graph shows water usage per energy source. When a lot of water is used it can have a big impact on the environment especially in urban environments and locations that deal with a lot of drought and water scarcity (Liu, J., et al., 2017). Nuclear energy uses the second highest amount of water however it uses less than half as much as the highest energy source ‘Coal’.\n",
    "\n",
    "The fifth graph shows the amount of land use per energy source. Consider urban development and infrastructure or land devoted to production activities. These types of land use impacts the environment by disrupting the structure and function of natural ecosystems, leading to habitat loss, causes long-term ecological imbalance and reduces biodiversity (National Research Council, 2005). The graph shows that nuclear energy uses substantially less land compared to the other energy sources, having the second to last environmental impact in this field.\n",
    "\n",
    "The sixth graph shows the human toxicity of each energy resource. Toxicity stands for the harmful effects on human health, like cancer or other illnesses. Again nuclear energy causes the least amount of toxicity.\n",
    "\n",
    "In the seventh graph the use of minerals and metals per energy source is shown. Energy sources use metals and minerals in industrial processes, these metals and minerals are extracted by mining activities which can lead to habitat destruction, polluting of water sources and the release of harmful substances into the environment (Bron). The processing of metals also requires energy and water, further worsening these impacts. The graph shows that nuclear energy has the least amount of minerals and metals used and thus having the least amount of impact on the environment.\n",
    "\n",
    "In the last graph the use of uranium is shown. Uranium is a radioactive element that has a lot of environmental impact. The mining and processing of this element can have long-lasting environmental impacts, primarily due to its radioactive and toxic nature (Rankin, W. J., 2011). These impacts include water and soil contamination, potential health risks, and disruptions to ecosystems. Nuclear energy uses the most amount of uranium compared to the other energy sources.\n",
    "\n",
    "In one graph nuclear energy has the highest impact on the environment, in two graphs nuclear energy scores the second highest of which one of them is still less than half as much as the highest scoring energy source. However, in the remaining four graphs it is shown that nuclear energy has the least or second least amount of impact. Looking at all these graphs it shows that nuclear energy has significantly less environmental impacts in most of the topics\n"
   ]
  },
  {
   "cell_type": "markdown",
   "id": "c88f9dfd",
   "metadata": {},
   "source": [
    "## CO2 emissions and nuclear energy productions\n",
    "\n",
    "The following section ties into perspective 1 and looks into the C02 emissions, and amount of nuclear energy produced.\n",
    "\n",
    "World CO2 Emissions 2023 - Interactive Visualization\n",
    "This interactive world map visualizes CO2 emissions (in million tons) by country in 2023, with color intensity representing emission levels. Hovering over a country reveals additional details like population, GDP, life expectancy, and population density. The map helps compare environmental impact across nations while highlighting economic and demographic factors."
   ]
  },
  {
   "cell_type": "code",
   "execution_count": 21,
   "id": "54845e21",
   "metadata": {},
   "outputs": [
    {
     "data": {
      "application/vnd.plotly.v1+json": {
       "config": {
        "plotlyServerURL": "https://plot.ly"
       },
       "data": [
        {
         "coloraxis": "coloraxis",
         "customdata": [
          [
           "Afghanistan",
           "Kabul",
           38.041754,
           0.019101353833,
           0.008672,
           64.5,
           60
          ],
          [
           "Albania",
           "Tirana",
           2.854191,
           0.015278077447,
           0.004536,
           78.5,
           105
          ],
          [
           "Algeria",
           "Algiers",
           43.053054,
           0.169988236398,
           0.150006,
           76.7,
           18
          ],
          [
           "Andorra",
           "Andorra la Vella",
           0.077142,
           0.003154057987,
           0.000469,
           null,
           164
          ],
          [
           "Angola",
           "Luanda",
           31.825295,
           0.09463541587,
           0.034693,
           60.8,
           26
          ],
          [
           "Antigua and Barbuda",
           "St. John's, Saint John",
           0.097118,
           0.001727759259,
           0.000557,
           76.9,
           223
          ],
          [
           "Argentina",
           "Buenos Aires",
           44.938712,
           0.449663446954,
           0.201348,
           76.5,
           17
          ],
          [
           "Armenia",
           "Yerevan",
           2.957731,
           0.013672802158,
           0.005156,
           74.9,
           104
          ],
          [
           "Australia",
           "Canberra",
           25.766605,
           1.392680589329,
           0.375908,
           82.7,
           3
          ],
          [
           "Austria",
           "Vienna",
           8.877067,
           0.446314739528,
           0.061448,
           81.6,
           109
          ],
          [
           "Azerbaijan",
           "Baku",
           10.023318,
           0.039207,
           0.03762,
           72.9,
           123
          ],
          [
           "The Bahamas",
           "Nassau, Bahamas",
           0.389482,
           0.012827,
           0.001786,
           73.8,
           39
          ],
          [
           "Bahrain",
           "Manama",
           1.501635,
           0.038574069149,
           0.031694,
           77.2,
           2239
          ],
          [
           "Bangladesh",
           "Dhaka",
           167.310838,
           0.302571254131,
           0.084246,
           72.3,
           1265
          ],
          [
           "Barbados",
           "Bridgetown",
           0.287025,
           0.005209,
           0.001276,
           79.1,
           668
          ],
          [
           "Belarus",
           "Minsk",
           9.466856,
           0.063080457023,
           0.05828,
           74.2,
           47
          ],
          [
           "Belgium",
           "City of Brussels",
           11.484055,
           0.529606710418,
           0.096889,
           81.6,
           383
          ],
          [
           "Belize",
           "Belmopan",
           0.390353,
           0.0018796136,
           0.000568,
           74.5,
           17
          ],
          [
           "Benin",
           "Porto-Novo",
           11.801151,
           0.014390709095,
           0.006476,
           61.5,
           108
          ],
          [
           "Bhutan",
           "Thimphu",
           0.727145,
           0.002446674101,
           0.001261,
           71.5,
           20
          ],
          [
           "Bolivia",
           "Sucre",
           11.5131,
           0.040895322865,
           0.021606,
           71.2,
           11
          ],
          [
           "Bosnia and Herzegovina",
           "Sarajevo",
           3.301,
           0.020047848435,
           0.021848,
           77.3,
           64
          ],
          [
           "Botswana",
           "Gaborone",
           2.346179,
           0.018340510789,
           0.00634,
           69.3,
           4
          ],
          [
           "Brazil",
           "Bras���",
           212.559417,
           1.839758040766,
           0.462299,
           75.7,
           25
          ],
          [
           "Brunei",
           "Bandar Seri Begawan",
           0.433285,
           0.013469422941,
           0.007664,
           75.7,
           83
          ],
          [
           "Bulgaria",
           "Sofia",
           6.975761,
           0.086,
           0.041708,
           74.9,
           64
          ],
          [
           "Burkina Faso",
           "Ouagadougou",
           20.321378,
           0.015745810235,
           0.003418,
           61.2,
           76
          ],
          [
           "Burundi",
           "Bujumbura",
           11.53058,
           0.003012334882,
           0.000495,
           61.2,
           463
          ],
          [
           "Ivory Coast",
           "Yamoussoukro",
           25.716544,
           0.058792205642,
           0.009674,
           57.4,
           83
          ],
          [
           "Cape Verde",
           "Praia",
           0.483628,
           0.001981845741,
           0.000543,
           72.8,
           138
          ],
          [
           "Cambodia",
           "Phnom Penh",
           16.486542,
           0.027089389787,
           0.009919,
           69.6,
           95
          ],
          [
           "Cameroon",
           "Yaound�",
           25.87638,
           0.038760467033,
           0.008291,
           58.9,
           56
          ],
          [
           "Canada",
           "Ottawa",
           36.991981,
           1.73642562952,
           0.544894,
           81.9,
           4
          ],
          [
           "Central African Republic",
           "Bangui",
           4.745185,
           0.002220307369,
           0.000297,
           52.8,
           8
          ],
          [
           "Chad",
           "N'Djamena",
           15.946876,
           0.011314951343,
           0.001016,
           54,
           13
          ],
          [
           "Chile",
           "Santiago",
           18.952038,
           0.282318159745,
           0.085822,
           80,
           26
          ],
          [
           "China",
           "Beijing",
           1397.715,
           19.91,
           9.893038,
           77,
           153
          ],
          [
           "Colombia",
           "Bogot�",
           50.339443,
           0.323802808108,
           0.097814,
           77.1,
           46
          ],
          [
           "Comoros",
           "Moroni, Comoros",
           0.850886,
           0.001185728677,
           0.000202,
           64.1,
           467
          ],
          [
           "Republic of the Congo",
           "Brazzaville",
           5.380508,
           0.010820591131,
           0.003282,
           64.3,
           16
          ],
          [
           "Costa Rica",
           "San Jos������",
           5.047561,
           0.061773944174,
           0.008023,
           80.1,
           100
          ],
          [
           "Croatia",
           "Zagreb",
           4.0675,
           0.060415553039,
           0.017488,
           78.1,
           73
          ],
          [
           "Cuba",
           "Havana",
           11.333483,
           0.100023,
           0.028284,
           78.7,
           106
          ],
          [
           "Cyprus",
           "Nicosia",
           1.198575,
           0.024564647935,
           0.006626,
           80.8,
           131
          ],
          [
           "Czech Republic",
           "Prague",
           10.669709,
           0.246489245495,
           0.102218,
           79,
           139
          ],
          [
           "Democratic Republic of the Congo",
           "Kinshasa",
           86.790567,
           0.047319624204,
           0.002021,
           60.4,
           40
          ],
          [
           "Denmark",
           "Copenhagen",
           5.818553,
           0.348078018464,
           0.031786,
           81,
           137
          ],
          [
           "Djibouti",
           "Djibouti City",
           0.97356,
           0.003318716359,
           0.00062,
           66.6,
           43
          ],
          [
           "Dominica",
           "Roseau",
           0.071808,
           0.000596033333,
           0.00018,
           76.6,
           96
          ],
          [
           "Dominican Republic",
           "Santo Domingo",
           10.738958,
           0.088941298258,
           0.025258,
           73.9,
           225
          ],
          [
           "Ecuador",
           "Quito",
           17.373662,
           0.107435665,
           0.041155,
           76.8,
           71
          ],
          [
           "Egypt",
           "Cairo",
           100.388073,
           0.303175127598,
           0.23856,
           71.8,
           103
          ],
          [
           "El Salvador",
           "San Salvador",
           6.453553,
           0.02702264,
           0.007169,
           73.1,
           313
          ],
          [
           "Equatorial Guinea",
           "Malabo",
           1.355986,
           0.011026774945,
           0.005655,
           58.4,
           50
          ],
          [
           "Eritrea",
           "Asmara",
           6.333135,
           0.002065001626,
           0.000711,
           65.9,
           35
          ],
          [
           "Estonia",
           "Tallinn",
           1.331824,
           0.031386949981,
           0.01659,
           78.2,
           31
          ],
          [
           "Eswatini",
           "Mbabane",
           1.093238,
           0.003791304348,
           null,
           null,
           67
          ],
          [
           "Ethiopia",
           "Addis Ababa",
           112.07873,
           0.096107662398,
           0.01487,
           66.2,
           115
          ],
          [
           "Fiji",
           "Suva",
           0.889953,
           0.005535548972,
           0.002046,
           67.3,
           49
          ],
          [
           "Finland",
           "Helsinki",
           5.520314,
           0.268761201365,
           0.045871,
           81.7,
           18
          ],
          [
           "France",
           "Paris",
           67.059887,
           2.715518274227,
           0.303276,
           82.5,
           119
          ],
          [
           "Gabon",
           "Libreville",
           2.172579,
           0.016657960228,
           0.005321,
           66.2,
           9
          ],
          [
           "The Gambia",
           "Banjul",
           2.347706,
           0.001763819048,
           0.000532,
           61.7,
           239
          ],
          [
           "Georgia",
           "Tbilisi",
           3.720382,
           0.01774319577,
           0.010128,
           73.6,
           57
          ],
          [
           "Germany",
           "Berlin",
           83.132799,
           3.845630030824,
           0.727973,
           80.9,
           240
          ],
          [
           "Ghana",
           "Accra",
           30.792608,
           0.066983634224,
           0.01667,
           63.8,
           137
          ],
          [
           "Greece",
           "Athens",
           10.716322,
           0.209852761469,
           0.062434,
           81.3,
           81
          ],
          [
           "Grenada",
           "St. George's, Grenada",
           0.112003,
           0.00122817037,
           0.000268,
           72.4,
           331
          ],
          [
           "Guatemala",
           "Guatemala City",
           16.604026,
           0.07671038588,
           0.016777,
           74.1,
           167
          ],
          [
           "Guinea",
           "Conakry",
           12.771246,
           0.013590281809,
           0.002996,
           61.2,
           53
          ],
          [
           "Guinea-Bissau",
           "Bissau",
           1.920922,
           0.001340389411,
           0.000293,
           58,
           70
          ],
          [
           "Guyana",
           "Georgetown, Guyana",
           0.782766,
           0.004280443645,
           0.002384,
           69.8,
           4
          ],
          [
           "Haiti",
           "Port-au-Prince",
           11.263077,
           0.008498981821,
           0.002978,
           63.7,
           414
          ],
          [
           "Vatican City",
           "Vatican City",
           0.000836,
           null,
           null,
           null,
           2003
          ],
          [
           "Honduras",
           "Tegucigalpa",
           9.746117,
           0.025095395475,
           0.009813,
           75.1,
           89
          ],
          [
           "Hungary",
           "Budapest",
           9.769949,
           0.160967157504,
           0.045537,
           75.8,
           107
          ],
          [
           "Iceland",
           "Reykjav��",
           0.361313,
           0.024188035739,
           0.002065,
           82.7,
           3
          ],
          [
           "India",
           "New Delhi",
           1366.417754,
           2.611,
           2.407672,
           69.4,
           464
          ],
          [
           "Indonesia",
           "Jakarta",
           270.203917,
           1.119190780753,
           0.563325,
           71.5,
           151
          ],
          [
           "Iran",
           "Tehran",
           82.913906,
           0.445345282123,
           0.66171,
           76.5,
           52
          ],
          [
           "Iraq",
           "Baghdad",
           39.309783,
           0.234094042939,
           0.190061,
           70.5,
           93
          ],
          [
           "Republic of Ireland",
           "Dublin",
           5.007069,
           0.388698711348,
           0.037711,
           82.3,
           72
          ],
          [
           "Israel",
           "Jerusalem",
           9.0533,
           0.395098666122,
           0.065166,
           82.8,
           400
          ],
          [
           "Italy",
           "Rome",
           60.297396,
           2.001244392042,
           0.320411,
           82.9,
           206
          ],
          [
           "Jamaica",
           "Kingston, Jamaica",
           2.948279,
           0.016458071068,
           0.008225,
           74.4,
           273
          ],
          [
           "Japan",
           "Tokyo",
           126.226568,
           5.08176954238,
           1.135886,
           84.2,
           347
          ],
          [
           "Jordan",
           "Amman",
           10.101694,
           0.043743661972,
           0.025108,
           74.4,
           115
          ],
          [
           "Kazakhstan",
           "Astana",
           18.51393,
           0.18016174118,
           0.247207,
           73.2,
           7
          ],
          [
           "Kenya",
           "Nairobi",
           52.573973,
           0.095503088538,
           0.01791,
           66.3,
           94
          ],
          [
           "Kiribati",
           "South Tarawa",
           0.117606,
           0.000194647202,
           0.000066,
           68.1,
           147
          ],
          [
           "Kuwait",
           "Kuwait City",
           4.207083,
           0.134761198946,
           0.098734,
           75.4,
           240
          ],
          [
           "Kyrgyzstan",
           "Bishkek",
           6.4569,
           0.008454619608,
           0.009787,
           71.4,
           34
          ],
          [
           "Laos",
           "Vientiane",
           7.169455,
           0.018173839128,
           0.017763,
           67.6,
           32
          ],
          [
           "Latvia",
           "Riga",
           1.912789,
           0.034117202555,
           0.007004,
           74.7,
           30
          ],
          [
           "Lebanon",
           "Beirut",
           6.855713,
           0.053367042272,
           0.024796,
           78.9,
           667
          ],
          [
           "Lesotho",
           "Maseru",
           2.125268,
           0.002460072444,
           0.002512,
           53.7,
           71
          ],
          [
           "Liberia",
           "Monrovia",
           4.937374,
           0.0030705181,
           0.001386,
           63.7,
           53
          ],
          [
           "Libya",
           null,
           6.777452,
           0.052076250948,
           0.050564,
           72.7,
           4
          ],
          [
           "Liechtenstein",
           "Vaduz",
           0.038019,
           0.006552858739,
           0.000051,
           83,
           238
          ],
          [
           "Lithuania",
           "Vilnius",
           2.786844,
           0.0542193156,
           0.012963,
           75.7,
           43
          ],
          [
           "Luxembourg",
           "Luxembourg City",
           0.645397,
           0.071104919108,
           0.008988,
           82.1,
           242
          ],
          [
           "Madagascar",
           "Antananarivo",
           26.969307,
           0.014083906357,
           0.003905,
           66.7,
           48
          ],
          [
           "Malawi",
           "Lilongwe",
           18.628747,
           0.007666704427,
           0.001298,
           63.8,
           203
          ],
          [
           "Malaysia",
           "Kuala Lumpur",
           32.447385,
           0.364701517788,
           0.248289,
           76,
           99
          ],
          [
           "Maldives",
           "Mal�",
           0.530953,
           0.005729248472,
           0.001445,
           78.6,
           1802
          ],
          [
           "Mali",
           "Bamako",
           19.658031,
           0.017510141171,
           0.003179,
           58.9,
           17
          ],
          [
           "Malta",
           "Valletta",
           0.502653,
           0.014786156563,
           0.001342,
           82.3,
           1380
          ],
          [
           "Marshall Islands",
           "Majuro",
           0.058791,
           0.000221278,
           0.000143,
           65.2,
           329
          ],
          [
           "Mauritania",
           "Nouakchott",
           4.525696,
           0.00759375245,
           0.002739,
           64.7,
           5
          ],
          [
           "Mauritius",
           "Port Louis",
           1.265711,
           0.014180444557,
           0.004349,
           74.4,
           626
          ],
          [
           "Mexico",
           "Mexico City",
           126.014024,
           1.258286717125,
           0.486406,
           75,
           66
          ],
          [
           "Federated States of Micronesia",
           "Palikir",
           0.113815,
           0.000401932279,
           0.000143,
           67.8,
           784
          ],
          [
           "Moldova",
           "Chi����",
           2.657637,
           0.011955435457,
           0.005115,
           71.8,
           123
          ],
          [
           "Monaco",
           "Monaco City",
           0.038964,
           0.007184844193,
           null,
           null,
           26337
          ],
          [
           "Mongolia",
           "Ulaanbaatar",
           3.225167,
           0.013852850259,
           0.025368,
           69.7,
           2
          ],
          [
           "Montenegro",
           "Podgorica",
           0.622137,
           0.005494736901,
           0.002017,
           76.8,
           47
          ],
          [
           "Morocco",
           "Rabat",
           36.91056,
           0.118725279596,
           0.061276,
           76.5,
           83
          ],
          [
           "Mozambique",
           "Maputo",
           30.366036,
           0.014934159926,
           0.007943,
           60.2,
           40
          ],
          [
           "Myanmar",
           "Naypyidaw",
           54.04542,
           0.076085852617,
           0.02528,
           66.9,
           83
          ],
          [
           "Namibia",
           "Windhoek",
           2.49453,
           0.012366527719,
           0.004228,
           63.4,
           3
          ],
          [
           "Nauru",
           "Yaren District",
           0.010084,
           0.000133,
           null,
           null,
           541
          ],
          [
           "Nepal",
           "Kathmandu",
           28.60871,
           0.030641380604,
           0.009105,
           70.5,
           203
          ],
          [
           "Netherlands",
           "Amsterdam",
           17.33285,
           0.909070395161,
           0.17078,
           81.8,
           508
          ],
          [
           "New Zealand",
           "Wellington",
           4.841,
           0.206928765544,
           0.034382,
           81.9,
           18
          ],
          [
           "Nicaragua",
           "Managua",
           6.545502,
           0.012520915291,
           0.005592,
           74.3,
           55
          ],
          [
           "Niger",
           "Niamey",
           23.310715,
           0.01292814512,
           0.002017,
           62,
           19
          ],
          [
           "Nigeria",
           "Abuja",
           200.963599,
           0.448120428859,
           0.120369,
           54.3,
           226
          ],
          [
           "North Korea",
           "Pyongyang",
           25.666161,
           0.0321,
           0.028284,
           72.1,
           214
          ],
          [
           "North Macedonia",
           "Skopje",
           1.836713,
           0.010220781069,
           null,
           null,
           83
          ],
          [
           "Norway",
           "Oslo",
           5.347896,
           0.403336363636,
           0.041023,
           82.8,
           15
          ],
          [
           "Oman",
           "Muscat",
           5.266535,
           0.076983094928,
           0.063457,
           77.6,
           16
          ],
          [
           "Pakistan",
           "Islamabad",
           216.565318,
           0.3044,
           0.20115,
           67.1,
           287
          ],
          [
           "Palau",
           "Ngerulmud",
           0.018233,
           0.0002839949,
           0.000224,
           69.1,
           39
          ],
          [
           "Palestinian National Authority",
           null,
           null,
           null,
           null,
           null,
           847
          ],
          [
           "Panama",
           "Panama City",
           4.246439,
           0.0668008,
           0.010715,
           78.3,
           58
          ],
          [
           "Papua New Guinea",
           "Port Moresby",
           8.776109,
           0.024969611435,
           0.007536,
           64.3,
           20
          ],
          [
           "Paraguay",
           "Asunci��",
           7.044636,
           0.03814528894,
           0.007407,
           74.1,
           18
          ],
          [
           "Peru",
           "Lima",
           32.510453,
           0.22684805082,
           0.057414,
           76.5,
           26
          ],
          [
           "Philippines",
           "Manila",
           108.116615,
           0.37679550868,
           0.122287,
           71.1,
           368
          ],
          [
           "Poland",
           "Warsaw",
           37.970874,
           0.592164400688,
           0.299037,
           77.6,
           124
          ],
          [
           "Portugal",
           "Lisbon",
           10.269417,
           0.237686075635,
           0.048742,
           81.3,
           111
          ],
          [
           "Qatar",
           "Doha",
           2.832067,
           0.183466208791,
           0.103259,
           80.1,
           248
          ],
          [
           "Romania",
           "Bucharest",
           19.356544,
           0.250077444017,
           0.069259,
           75.4,
           84
          ],
          [
           "Russia",
           "Moscow",
           144.373535,
           1.699876578871,
           1.732027,
           72.7,
           9
          ],
          [
           "Rwanda",
           "Kigali",
           12.62695,
           0.01012247259,
           0.001115,
           68.7,
           525
          ],
          [
           "Saint Kitts and Nevis",
           "Basseterre",
           0.052823,
           0.001050992593,
           0.000238,
           71.3,
           205
          ],
          [
           "Saint Lucia",
           "Castries",
           0.18279,
           0.00212245063,
           0.000414,
           76.1,
           301
          ],
          [
           "Saint Vincent and the Grenadines",
           "Kingstown",
           0.100455,
           0.000825385185,
           0.00022,
           72.4,
           284
          ],
          [
           "Samoa",
           "Apia",
           0.202506,
           0.000850655017,
           0.000246,
           73.2,
           70
          ],
          [
           "San Marino",
           "City of San Marino",
           0.03386,
           0.001637931034,
           null,
           85.4,
           566
          ],
          [
           "S�����������",
           "S����",
           0.215056,
           0.000429016605,
           0.000121,
           70.2,
           228
          ],
          [
           "Saudi Arabia",
           "Riyadh",
           34.268528,
           0.792966838162,
           0.563449,
           75,
           16
          ],
          [
           "Senegal",
           "Dakar",
           16.296364,
           0.023578084052,
           0.010902,
           67.7,
           87
          ],
          [
           "Serbia",
           "Belgrade",
           6.944975,
           0.051409167351,
           0.045221,
           75.5,
           100
          ],
          [
           "Seychelles",
           "Victoria, Seychelles",
           0.097625,
           0.001698843063,
           0.000605,
           72.8,
           214
          ],
          [
           "Sierra Leone",
           "Freetown",
           7.813215,
           0.003941474311,
           0.001093,
           54.3,
           111
          ],
          [
           "Singapore",
           null,
           5.703569,
           0.372062527489,
           0.037535,
           83.1,
           8358
          ],
          [
           "Slovakia",
           "Bratislava",
           5.454073,
           0.105422304976,
           0.032424,
           77.2,
           114
          ],
          [
           "Slovenia",
           "Ljubljana",
           2.087946,
           0.053742159517,
           0.012633,
           81,
           103
          ],
          [
           "Solomon Islands",
           "Honiara",
           0.669823,
           0.001425074226,
           0.000169,
           72.8,
           25
          ],
          [
           "Somalia",
           "Mogadishu",
           15.442905,
           0.004720727278,
           0.000645,
           57.1,
           25
          ],
          [
           "South Africa",
           "Pretoria",
           58.55827,
           0.351431649241,
           0.476644,
           63.9,
           49
          ],
          [
           "South Korea",
           "Seoul",
           51.709098,
           2.029,
           0.620302,
           82.6,
           527
          ],
          [
           "South Sudan",
           "Juba",
           11.062113,
           0.011997800751,
           0.001727,
           57.6,
           18
          ],
          [
           "Spain",
           "Madrid",
           47.076781,
           1.394116310769,
           0.244002,
           83.3,
           94
          ],
          [
           "Sri Lanka",
           "Colombo",
           21.803,
           0.084008783756,
           0.023362,
           76.8,
           341
          ],
          [
           "Sudan",
           "Khartoum",
           42.813238,
           0.018902284476,
           0.02,
           65.1,
           25
          ],
          [
           "Suriname",
           "Paramaribo",
           0.581372,
           0.003985250737,
           0.001738,
           71.6,
           4
          ],
          [
           "Sweden",
           "Stockholm",
           10.285453,
           0.530832908738,
           0.043252,
           82.5,
           25
          ],
          [
           "Switzerland",
           "Bern",
           8.574832,
           0.70308243536,
           0.034477,
           83.6,
           219
          ],
          [
           "Syria",
           "Damascus",
           17.070135,
           0.040405006007,
           0.02883,
           71.8,
           95
          ],
          [
           "Tajikistan",
           "Dushanbe",
           9.321018,
           0.008116626794,
           0.00531,
           70.9,
           68
          ],
          [
           "Tanzania",
           "Dodoma",
           58.005463,
           0.063177068175,
           0.011973,
           65,
           67
          ],
          [
           "Thailand",
           "Bangkok",
           69.625582,
           0.543649976166,
           0.283763,
           76.9,
           137
          ],
          [
           "East Timor",
           "Dili",
           3.5,
           0.0016735403,
           0.000495,
           69.3,
           89
          ],
          [
           "Togo",
           "Lom�",
           8.082366,
           0.005459979417,
           0.003,
           60.8,
           152
          ],
          [
           "Tonga",
           "Nuku����",
           0.100209,
           0.000450353314,
           0.000128,
           70.8,
           147
          ],
          [
           "Trinidad and Tobago",
           "Port of Spain",
           1.394973,
           0.024100202834,
           0.043868,
           73.4,
           273
          ],
          [
           "Tunisia",
           "Tunis",
           11.694719,
           0.038797709924,
           0.029937,
           76.5,
           76
          ],
          [
           "Turkey",
           "Ankara",
           83.429615,
           0.754411708203,
           0.372725,
           77.4,
           110
          ],
          [
           "Turkmenistan",
           "Ashgabat",
           5.942089,
           0.040761142857,
           0.07063,
           68.1,
           13
          ],
          [
           "Tuvalu",
           "Funafuti",
           0.011646,
           0.000047271463,
           0.000011,
           null,
           393
          ],
          [
           "Uganda",
           "Kampala",
           44.269594,
           0.034387229486,
           0.00568,
           63,
           229
          ],
          [
           "Ukraine",
           "Kyiv",
           44.385155,
           0.153781069118,
           0.20225,
           71.6,
           75
          ],
          [
           "United Arab Emirates",
           "Abu Dhabi",
           9.770529,
           0.421142267938,
           0.206324,
           77.8,
           118
          ],
          [
           "United Kingdom",
           "London",
           66.834405,
           2.827113184696,
           0.379025,
           81.3,
           281
          ],
          [
           "United States",
           "Washington, D.C.",
           328.239523,
           21.4277,
           5.006302,
           78.5,
           36
          ],
          [
           "Uruguay",
           "Montevideo",
           3.461734,
           0.056045912952,
           0.006766,
           77.8,
           20
          ],
          [
           "Uzbekistan",
           "Tashkent",
           33.58065,
           0.05792128644,
           0.091811,
           71.6,
           79
          ],
          [
           "Vanuatu",
           "Port Vila",
           0.299882,
           0.000917058851,
           0.000147,
           70.3,
           25
          ],
          [
           "Venezuela",
           "Caracas",
           28.515829,
           0.482359318768,
           0.164175,
           72.1,
           32
          ],
          [
           "Vietnam",
           "Hanoi",
           96.462106,
           0.261921244843,
           0.192668,
           75.3,
           314
          ],
          [
           "Yemen",
           "Sanaa",
           29.161922,
           0.026914402224,
           0.010609,
           66.1,
           56
          ],
          [
           "Zambia",
           "Lusaka",
           17.86103,
           0.023064722446,
           0.005141,
           63.5,
           25
          ],
          [
           "Zimbabwe",
           "Harare",
           14.645468,
           0.0214407588,
           0.010983,
           61.2,
           38
          ]
         ],
         "geo": "geo",
         "hovertemplate": "<b>%{hovertext}</b><br>Capital: %{customdata[0]}<br>Population: %{customdata[1]}<br>GDP: %{customdata[2]}<br>CO2 Emissions: %{customdata[3]}<br>Life Expectancy: %{customdata[4]}<br>Density: %{customdata[5]}<extra></extra>",
         "hovertext": [
          "Afghanistan",
          "Albania",
          "Algeria",
          "Andorra",
          "Angola",
          "Antigua and Barbuda",
          "Argentina",
          "Armenia",
          "Australia",
          "Austria",
          "Azerbaijan",
          "The Bahamas",
          "Bahrain",
          "Bangladesh",
          "Barbados",
          "Belarus",
          "Belgium",
          "Belize",
          "Benin",
          "Bhutan",
          "Bolivia",
          "Bosnia and Herzegovina",
          "Botswana",
          "Brazil",
          "Brunei",
          "Bulgaria",
          "Burkina Faso",
          "Burundi",
          "Ivory Coast",
          "Cape Verde",
          "Cambodia",
          "Cameroon",
          "Canada",
          "Central African Republic",
          "Chad",
          "Chile",
          "China",
          "Colombia",
          "Comoros",
          "Republic of the Congo",
          "Costa Rica",
          "Croatia",
          "Cuba",
          "Cyprus",
          "Czech Republic",
          "Democratic Republic of the Congo",
          "Denmark",
          "Djibouti",
          "Dominica",
          "Dominican Republic",
          "Ecuador",
          "Egypt",
          "El Salvador",
          "Equatorial Guinea",
          "Eritrea",
          "Estonia",
          "Eswatini",
          "Ethiopia",
          "Fiji",
          "Finland",
          "France",
          "Gabon",
          "The Gambia",
          "Georgia",
          "Germany",
          "Ghana",
          "Greece",
          "Grenada",
          "Guatemala",
          "Guinea",
          "Guinea-Bissau",
          "Guyana",
          "Haiti",
          "Vatican City",
          "Honduras",
          "Hungary",
          "Iceland",
          "India",
          "Indonesia",
          "Iran",
          "Iraq",
          "Republic of Ireland",
          "Israel",
          "Italy",
          "Jamaica",
          "Japan",
          "Jordan",
          "Kazakhstan",
          "Kenya",
          "Kiribati",
          "Kuwait",
          "Kyrgyzstan",
          "Laos",
          "Latvia",
          "Lebanon",
          "Lesotho",
          "Liberia",
          "Libya",
          "Liechtenstein",
          "Lithuania",
          "Luxembourg",
          "Madagascar",
          "Malawi",
          "Malaysia",
          "Maldives",
          "Mali",
          "Malta",
          "Marshall Islands",
          "Mauritania",
          "Mauritius",
          "Mexico",
          "Federated States of Micronesia",
          "Moldova",
          "Monaco",
          "Mongolia",
          "Montenegro",
          "Morocco",
          "Mozambique",
          "Myanmar",
          "Namibia",
          "Nauru",
          "Nepal",
          "Netherlands",
          "New Zealand",
          "Nicaragua",
          "Niger",
          "Nigeria",
          "North Korea",
          "North Macedonia",
          "Norway",
          "Oman",
          "Pakistan",
          "Palau",
          "Palestinian National Authority",
          "Panama",
          "Papua New Guinea",
          "Paraguay",
          "Peru",
          "Philippines",
          "Poland",
          "Portugal",
          "Qatar",
          "Romania",
          "Russia",
          "Rwanda",
          "Saint Kitts and Nevis",
          "Saint Lucia",
          "Saint Vincent and the Grenadines",
          "Samoa",
          "San Marino",
          "S�����������",
          "Saudi Arabia",
          "Senegal",
          "Serbia",
          "Seychelles",
          "Sierra Leone",
          "Singapore",
          "Slovakia",
          "Slovenia",
          "Solomon Islands",
          "Somalia",
          "South Africa",
          "South Korea",
          "South Sudan",
          "Spain",
          "Sri Lanka",
          "Sudan",
          "Suriname",
          "Sweden",
          "Switzerland",
          "Syria",
          "Tajikistan",
          "Tanzania",
          "Thailand",
          "East Timor",
          "Togo",
          "Tonga",
          "Trinidad and Tobago",
          "Tunisia",
          "Turkey",
          "Turkmenistan",
          "Tuvalu",
          "Uganda",
          "Ukraine",
          "United Arab Emirates",
          "United Kingdom",
          "United States",
          "Uruguay",
          "Uzbekistan",
          "Vanuatu",
          "Venezuela",
          "Vietnam",
          "Yemen",
          "Zambia",
          "Zimbabwe"
         ],
         "locationmode": "country names",
         "locations": [
          "Afghanistan",
          "Albania",
          "Algeria",
          "Andorra",
          "Angola",
          "Antigua and Barbuda",
          "Argentina",
          "Armenia",
          "Australia",
          "Austria",
          "Azerbaijan",
          "The Bahamas",
          "Bahrain",
          "Bangladesh",
          "Barbados",
          "Belarus",
          "Belgium",
          "Belize",
          "Benin",
          "Bhutan",
          "Bolivia",
          "Bosnia and Herzegovina",
          "Botswana",
          "Brazil",
          "Brunei",
          "Bulgaria",
          "Burkina Faso",
          "Burundi",
          "Ivory Coast",
          "Cape Verde",
          "Cambodia",
          "Cameroon",
          "Canada",
          "Central African Republic",
          "Chad",
          "Chile",
          "China",
          "Colombia",
          "Comoros",
          "Republic of the Congo",
          "Costa Rica",
          "Croatia",
          "Cuba",
          "Cyprus",
          "Czech Republic",
          "Democratic Republic of the Congo",
          "Denmark",
          "Djibouti",
          "Dominica",
          "Dominican Republic",
          "Ecuador",
          "Egypt",
          "El Salvador",
          "Equatorial Guinea",
          "Eritrea",
          "Estonia",
          "Eswatini",
          "Ethiopia",
          "Fiji",
          "Finland",
          "France",
          "Gabon",
          "The Gambia",
          "Georgia",
          "Germany",
          "Ghana",
          "Greece",
          "Grenada",
          "Guatemala",
          "Guinea",
          "Guinea-Bissau",
          "Guyana",
          "Haiti",
          "Vatican City",
          "Honduras",
          "Hungary",
          "Iceland",
          "India",
          "Indonesia",
          "Iran",
          "Iraq",
          "Republic of Ireland",
          "Israel",
          "Italy",
          "Jamaica",
          "Japan",
          "Jordan",
          "Kazakhstan",
          "Kenya",
          "Kiribati",
          "Kuwait",
          "Kyrgyzstan",
          "Laos",
          "Latvia",
          "Lebanon",
          "Lesotho",
          "Liberia",
          "Libya",
          "Liechtenstein",
          "Lithuania",
          "Luxembourg",
          "Madagascar",
          "Malawi",
          "Malaysia",
          "Maldives",
          "Mali",
          "Malta",
          "Marshall Islands",
          "Mauritania",
          "Mauritius",
          "Mexico",
          "Federated States of Micronesia",
          "Moldova",
          "Monaco",
          "Mongolia",
          "Montenegro",
          "Morocco",
          "Mozambique",
          "Myanmar",
          "Namibia",
          "Nauru",
          "Nepal",
          "Netherlands",
          "New Zealand",
          "Nicaragua",
          "Niger",
          "Nigeria",
          "North Korea",
          "North Macedonia",
          "Norway",
          "Oman",
          "Pakistan",
          "Palau",
          "Palestinian National Authority",
          "Panama",
          "Papua New Guinea",
          "Paraguay",
          "Peru",
          "Philippines",
          "Poland",
          "Portugal",
          "Qatar",
          "Romania",
          "Russia",
          "Rwanda",
          "Saint Kitts and Nevis",
          "Saint Lucia",
          "Saint Vincent and the Grenadines",
          "Samoa",
          "San Marino",
          "S�����������",
          "Saudi Arabia",
          "Senegal",
          "Serbia",
          "Seychelles",
          "Sierra Leone",
          "Singapore",
          "Slovakia",
          "Slovenia",
          "Solomon Islands",
          "Somalia",
          "South Africa",
          "South Korea",
          "South Sudan",
          "Spain",
          "Sri Lanka",
          "Sudan",
          "Suriname",
          "Sweden",
          "Switzerland",
          "Syria",
          "Tajikistan",
          "Tanzania",
          "Thailand",
          "East Timor",
          "Togo",
          "Tonga",
          "Trinidad and Tobago",
          "Tunisia",
          "Turkey",
          "Turkmenistan",
          "Tuvalu",
          "Uganda",
          "Ukraine",
          "United Arab Emirates",
          "United Kingdom",
          "United States",
          "Uruguay",
          "Uzbekistan",
          "Vanuatu",
          "Venezuela",
          "Vietnam",
          "Yemen",
          "Zambia",
          "Zimbabwe"
         ],
         "marker": {
          "line": {
           "color": "white",
           "width": 0.5
          }
         },
         "name": "",
         "type": "choropleth",
         "z": {
          "bdata": "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",
          "dtype": "f8"
         }
        }
       ],
       "layout": {
        "coloraxis": {
         "colorbar": {
          "len": 0.75,
          "thickness": 15,
          "title": {
           "text": "CO2 Emissions (million tons)"
          }
         },
         "colorscale": [
          [
           0,
           "#0d0887"
          ],
          [
           0.1111111111111111,
           "#46039f"
          ],
          [
           0.2222222222222222,
           "#7201a8"
          ],
          [
           0.3333333333333333,
           "#9c179e"
          ],
          [
           0.4444444444444444,
           "#bd3786"
          ],
          [
           0.5555555555555556,
           "#d8576b"
          ],
          [
           0.6666666666666666,
           "#ed7953"
          ],
          [
           0.7777777777777778,
           "#fb9f3a"
          ],
          [
           0.8888888888888888,
           "#fdca26"
          ],
          [
           1,
           "#f0f921"
          ]
         ]
        },
        "geo": {
         "center": {},
         "domain": {
          "x": [
           0,
           1
          ],
          "y": [
           0,
           1
          ]
         },
         "projection": {
          "type": "natural earth"
         },
         "showcoastlines": true,
         "showframe": false
        },
        "legend": {
         "tracegroupgap": 0
        },
        "margin": {
         "b": 0,
         "l": 0,
         "r": 0,
         "t": 40
        },
        "template": {
         "data": {
          "bar": [
           {
            "error_x": {
             "color": "#2a3f5f"
            },
            "error_y": {
             "color": "#2a3f5f"
            },
            "marker": {
             "line": {
              "color": "#E5ECF6",
              "width": 0.5
             },
             "pattern": {
              "fillmode": "overlay",
              "size": 10,
              "solidity": 0.2
             }
            },
            "type": "bar"
           }
          ],
          "barpolar": [
           {
            "marker": {
             "line": {
              "color": "#E5ECF6",
              "width": 0.5
             },
             "pattern": {
              "fillmode": "overlay",
              "size": 10,
              "solidity": 0.2
             }
            },
            "type": "barpolar"
           }
          ],
          "carpet": [
           {
            "aaxis": {
             "endlinecolor": "#2a3f5f",
             "gridcolor": "white",
             "linecolor": "white",
             "minorgridcolor": "white",
             "startlinecolor": "#2a3f5f"
            },
            "baxis": {
             "endlinecolor": "#2a3f5f",
             "gridcolor": "white",
             "linecolor": "white",
             "minorgridcolor": "white",
             "startlinecolor": "#2a3f5f"
            },
            "type": "carpet"
           }
          ],
          "choropleth": [
           {
            "colorbar": {
             "outlinewidth": 0,
             "ticks": ""
            },
            "type": "choropleth"
           }
          ],
          "contour": [
           {
            "colorbar": {
             "outlinewidth": 0,
             "ticks": ""
            },
            "colorscale": [
             [
              0,
              "#0d0887"
             ],
             [
              0.1111111111111111,
              "#46039f"
             ],
             [
              0.2222222222222222,
              "#7201a8"
             ],
             [
              0.3333333333333333,
              "#9c179e"
             ],
             [
              0.4444444444444444,
              "#bd3786"
             ],
             [
              0.5555555555555556,
              "#d8576b"
             ],
             [
              0.6666666666666666,
              "#ed7953"
             ],
             [
              0.7777777777777778,
              "#fb9f3a"
             ],
             [
              0.8888888888888888,
              "#fdca26"
             ],
             [
              1,
              "#f0f921"
             ]
            ],
            "type": "contour"
           }
          ],
          "contourcarpet": [
           {
            "colorbar": {
             "outlinewidth": 0,
             "ticks": ""
            },
            "type": "contourcarpet"
           }
          ],
          "heatmap": [
           {
            "colorbar": {
             "outlinewidth": 0,
             "ticks": ""
            },
            "colorscale": [
             [
              0,
              "#0d0887"
             ],
             [
              0.1111111111111111,
              "#46039f"
             ],
             [
              0.2222222222222222,
              "#7201a8"
             ],
             [
              0.3333333333333333,
              "#9c179e"
             ],
             [
              0.4444444444444444,
              "#bd3786"
             ],
             [
              0.5555555555555556,
              "#d8576b"
             ],
             [
              0.6666666666666666,
              "#ed7953"
             ],
             [
              0.7777777777777778,
              "#fb9f3a"
             ],
             [
              0.8888888888888888,
              "#fdca26"
             ],
             [
              1,
              "#f0f921"
             ]
            ],
            "type": "heatmap"
           }
          ],
          "histogram": [
           {
            "marker": {
             "pattern": {
              "fillmode": "overlay",
              "size": 10,
              "solidity": 0.2
             }
            },
            "type": "histogram"
           }
          ],
          "histogram2d": [
           {
            "colorbar": {
             "outlinewidth": 0,
             "ticks": ""
            },
            "colorscale": [
             [
              0,
              "#0d0887"
             ],
             [
              0.1111111111111111,
              "#46039f"
             ],
             [
              0.2222222222222222,
              "#7201a8"
             ],
             [
              0.3333333333333333,
              "#9c179e"
             ],
             [
              0.4444444444444444,
              "#bd3786"
             ],
             [
              0.5555555555555556,
              "#d8576b"
             ],
             [
              0.6666666666666666,
              "#ed7953"
             ],
             [
              0.7777777777777778,
              "#fb9f3a"
             ],
             [
              0.8888888888888888,
              "#fdca26"
             ],
             [
              1,
              "#f0f921"
             ]
            ],
            "type": "histogram2d"
           }
          ],
          "histogram2dcontour": [
           {
            "colorbar": {
             "outlinewidth": 0,
             "ticks": ""
            },
            "colorscale": [
             [
              0,
              "#0d0887"
             ],
             [
              0.1111111111111111,
              "#46039f"
             ],
             [
              0.2222222222222222,
              "#7201a8"
             ],
             [
              0.3333333333333333,
              "#9c179e"
             ],
             [
              0.4444444444444444,
              "#bd3786"
             ],
             [
              0.5555555555555556,
              "#d8576b"
             ],
             [
              0.6666666666666666,
              "#ed7953"
             ],
             [
              0.7777777777777778,
              "#fb9f3a"
             ],
             [
              0.8888888888888888,
              "#fdca26"
             ],
             [
              1,
              "#f0f921"
             ]
            ],
            "type": "histogram2dcontour"
           }
          ],
          "mesh3d": [
           {
            "colorbar": {
             "outlinewidth": 0,
             "ticks": ""
            },
            "type": "mesh3d"
           }
          ],
          "parcoords": [
           {
            "line": {
             "colorbar": {
              "outlinewidth": 0,
              "ticks": ""
             }
            },
            "type": "parcoords"
           }
          ],
          "pie": [
           {
            "automargin": true,
            "type": "pie"
           }
          ],
          "scatter": [
           {
            "fillpattern": {
             "fillmode": "overlay",
             "size": 10,
             "solidity": 0.2
            },
            "type": "scatter"
           }
          ],
          "scatter3d": [
           {
            "line": {
             "colorbar": {
              "outlinewidth": 0,
              "ticks": ""
             }
            },
            "marker": {
             "colorbar": {
              "outlinewidth": 0,
              "ticks": ""
             }
            },
            "type": "scatter3d"
           }
          ],
          "scattercarpet": [
           {
            "marker": {
             "colorbar": {
              "outlinewidth": 0,
              "ticks": ""
             }
            },
            "type": "scattercarpet"
           }
          ],
          "scattergeo": [
           {
            "marker": {
             "colorbar": {
              "outlinewidth": 0,
              "ticks": ""
             }
            },
            "type": "scattergeo"
           }
          ],
          "scattergl": [
           {
            "marker": {
             "colorbar": {
              "outlinewidth": 0,
              "ticks": ""
             }
            },
            "type": "scattergl"
           }
          ],
          "scattermap": [
           {
            "marker": {
             "colorbar": {
              "outlinewidth": 0,
              "ticks": ""
             }
            },
            "type": "scattermap"
           }
          ],
          "scattermapbox": [
           {
            "marker": {
             "colorbar": {
              "outlinewidth": 0,
              "ticks": ""
             }
            },
            "type": "scattermapbox"
           }
          ],
          "scatterpolar": [
           {
            "marker": {
             "colorbar": {
              "outlinewidth": 0,
              "ticks": ""
             }
            },
            "type": "scatterpolar"
           }
          ],
          "scatterpolargl": [
           {
            "marker": {
             "colorbar": {
              "outlinewidth": 0,
              "ticks": ""
             }
            },
            "type": "scatterpolargl"
           }
          ],
          "scatterternary": [
           {
            "marker": {
             "colorbar": {
              "outlinewidth": 0,
              "ticks": ""
             }
            },
            "type": "scatterternary"
           }
          ],
          "surface": [
           {
            "colorbar": {
             "outlinewidth": 0,
             "ticks": ""
            },
            "colorscale": [
             [
              0,
              "#0d0887"
             ],
             [
              0.1111111111111111,
              "#46039f"
             ],
             [
              0.2222222222222222,
              "#7201a8"
             ],
             [
              0.3333333333333333,
              "#9c179e"
             ],
             [
              0.4444444444444444,
              "#bd3786"
             ],
             [
              0.5555555555555556,
              "#d8576b"
             ],
             [
              0.6666666666666666,
              "#ed7953"
             ],
             [
              0.7777777777777778,
              "#fb9f3a"
             ],
             [
              0.8888888888888888,
              "#fdca26"
             ],
             [
              1,
              "#f0f921"
             ]
            ],
            "type": "surface"
           }
          ],
          "table": [
           {
            "cells": {
             "fill": {
              "color": "#EBF0F8"
             },
             "line": {
              "color": "white"
             }
            },
            "header": {
             "fill": {
              "color": "#C8D4E3"
             },
             "line": {
              "color": "white"
             }
            },
            "type": "table"
           }
          ]
         },
         "layout": {
          "annotationdefaults": {
           "arrowcolor": "#2a3f5f",
           "arrowhead": 0,
           "arrowwidth": 1
          },
          "autotypenumbers": "strict",
          "coloraxis": {
           "colorbar": {
            "outlinewidth": 0,
            "ticks": ""
           }
          },
          "colorscale": {
           "diverging": [
            [
             0,
             "#8e0152"
            ],
            [
             0.1,
             "#c51b7d"
            ],
            [
             0.2,
             "#de77ae"
            ],
            [
             0.3,
             "#f1b6da"
            ],
            [
             0.4,
             "#fde0ef"
            ],
            [
             0.5,
             "#f7f7f7"
            ],
            [
             0.6,
             "#e6f5d0"
            ],
            [
             0.7,
             "#b8e186"
            ],
            [
             0.8,
             "#7fbc41"
            ],
            [
             0.9,
             "#4d9221"
            ],
            [
             1,
             "#276419"
            ]
           ],
           "sequential": [
            [
             0,
             "#0d0887"
            ],
            [
             0.1111111111111111,
             "#46039f"
            ],
            [
             0.2222222222222222,
             "#7201a8"
            ],
            [
             0.3333333333333333,
             "#9c179e"
            ],
            [
             0.4444444444444444,
             "#bd3786"
            ],
            [
             0.5555555555555556,
             "#d8576b"
            ],
            [
             0.6666666666666666,
             "#ed7953"
            ],
            [
             0.7777777777777778,
             "#fb9f3a"
            ],
            [
             0.8888888888888888,
             "#fdca26"
            ],
            [
             1,
             "#f0f921"
            ]
           ],
           "sequentialminus": [
            [
             0,
             "#0d0887"
            ],
            [
             0.1111111111111111,
             "#46039f"
            ],
            [
             0.2222222222222222,
             "#7201a8"
            ],
            [
             0.3333333333333333,
             "#9c179e"
            ],
            [
             0.4444444444444444,
             "#bd3786"
            ],
            [
             0.5555555555555556,
             "#d8576b"
            ],
            [
             0.6666666666666666,
             "#ed7953"
            ],
            [
             0.7777777777777778,
             "#fb9f3a"
            ],
            [
             0.8888888888888888,
             "#fdca26"
            ],
            [
             1,
             "#f0f921"
            ]
           ]
          },
          "colorway": [
           "#636efa",
           "#EF553B",
           "#00cc96",
           "#ab63fa",
           "#FFA15A",
           "#19d3f3",
           "#FF6692",
           "#B6E880",
           "#FF97FF",
           "#FECB52"
          ],
          "font": {
           "color": "#2a3f5f"
          },
          "geo": {
           "bgcolor": "white",
           "lakecolor": "white",
           "landcolor": "#E5ECF6",
           "showlakes": true,
           "showland": true,
           "subunitcolor": "white"
          },
          "hoverlabel": {
           "align": "left"
          },
          "hovermode": "closest",
          "mapbox": {
           "style": "light"
          },
          "paper_bgcolor": "white",
          "plot_bgcolor": "#E5ECF6",
          "polar": {
           "angularaxis": {
            "gridcolor": "white",
            "linecolor": "white",
            "ticks": ""
           },
           "bgcolor": "#E5ECF6",
           "radialaxis": {
            "gridcolor": "white",
            "linecolor": "white",
            "ticks": ""
           }
          },
          "scene": {
           "xaxis": {
            "backgroundcolor": "#E5ECF6",
            "gridcolor": "white",
            "gridwidth": 2,
            "linecolor": "white",
            "showbackground": true,
            "ticks": "",
            "zerolinecolor": "white"
           },
           "yaxis": {
            "backgroundcolor": "#E5ECF6",
            "gridcolor": "white",
            "gridwidth": 2,
            "linecolor": "white",
            "showbackground": true,
            "ticks": "",
            "zerolinecolor": "white"
           },
           "zaxis": {
            "backgroundcolor": "#E5ECF6",
            "gridcolor": "white",
            "gridwidth": 2,
            "linecolor": "white",
            "showbackground": true,
            "ticks": "",
            "zerolinecolor": "white"
           }
          },
          "shapedefaults": {
           "line": {
            "color": "#2a3f5f"
           }
          },
          "ternary": {
           "aaxis": {
            "gridcolor": "white",
            "linecolor": "white",
            "ticks": ""
           },
           "baxis": {
            "gridcolor": "white",
            "linecolor": "white",
            "ticks": ""
           },
           "bgcolor": "#E5ECF6",
           "caxis": {
            "gridcolor": "white",
            "linecolor": "white",
            "ticks": ""
           }
          },
          "title": {
           "x": 0.05
          },
          "xaxis": {
           "automargin": true,
           "gridcolor": "white",
           "linecolor": "white",
           "ticks": "",
           "title": {
            "standoff": 15
           },
           "zerolinecolor": "white",
           "zerolinewidth": 2
          },
          "yaxis": {
           "automargin": true,
           "gridcolor": "white",
           "linecolor": "white",
           "ticks": "",
           "title": {
            "standoff": 15
           },
           "zerolinecolor": "white",
           "zerolinewidth": 2
          }
         }
        },
        "title": {
         "text": "World CO2 Emissions 2023 - Interactive Visualization"
        }
       }
      }
     },
     "metadata": {},
     "output_type": "display_data"
    }
   ],
   "source": [
    "\n",
    "df = pd.read_csv('nuclear_data/world-data-2023.csv')\n",
    "\n",
    "numeric_cols = ['Density\\n(P/Km2)', 'Population', 'Co2-Emissions', 'GDP']\n",
    "for col in numeric_cols:\n",
    "    df[col] = df[col].astype(str).str.replace(',', '').str.replace('$', '', regex=False).astype(float)\n",
    "\n",
    "df['Population (millions)'] = df['Population'] / 1_000_000\n",
    "df['GDP (trillions)'] = df['GDP'] / 1_000_000_000_000\n",
    "df['Co2-Emissions (million tons)'] = df['Co2-Emissions'] / 1_000_000\n",
    "\n",
    "fig = px.choropleth(df,\n",
    "                    locations=\"Country\",\n",
    "                    locationmode=\"country names\",\n",
    "                    color=\"Co2-Emissions (million tons)\",\n",
    "                    hover_name=\"Country\",\n",
    "                    hover_data={\n",
    "                        \"Country\": False,\n",
    "                        \"Capital/Major City\": True,\n",
    "                        \"Population (millions)\": \":.2f million\",\n",
    "                        \"GDP (trillions)\": \":.2f trillion\",\n",
    "                        \"Co2-Emissions (million tons)\": \":.2f million tons\",\n",
    "                        \"Life expectancy\": \":.1f years\",\n",
    "                        \"Density\\n(P/Km2)\": \":.1f people/km²\"\n",
    "                    },\n",
    "                    color_continuous_scale=px.colors.sequential.Plasma,\n",
    "                    title=\"World CO2 Emissions 2023 - Interactive Visualization\",\n",
    "                    labels={'Co2-Emissions (million tons)': 'CO2 Emissions (million tons)'})\n",
    "\n",
    "fig.update_traces(\n",
    "    hovertemplate=\"<b>%{hovertext}</b><br>\" +\n",
    "                  \"Capital: %{customdata[0]}<br>\" +\n",
    "                  \"Population: %{customdata[1]}<br>\" +\n",
    "                  \"GDP: %{customdata[2]}<br>\" +\n",
    "                  \"CO2 Emissions: %{customdata[3]}<br>\" +\n",
    "                  \"Life Expectancy: %{customdata[4]}<br>\" +\n",
    "                  \"Density: %{customdata[5]}<extra></extra>\"\n",
    ")\n",
    "\n",
    "fig.update_layout(\n",
    "    margin={\"r\": 0, \"t\": 40, \"l\": 0, \"b\": 0},\n",
    "    geo=dict(\n",
    "        showframe=False,\n",
    "        showcoastlines=True,\n",
    "        projection_type='natural earth'\n",
    "    ),\n",
    "    coloraxis_colorbar=dict(\n",
    "        title=\"CO2 Emissions (million tons)\",\n",
    "        thickness=15,\n",
    "        len=0.75\n",
    "    )\n",
    ")\n",
    "\n",
    "fig.update_traces(\n",
    "    marker_line_width=0.5,\n",
    "    marker_line_color='white',\n",
    "    selector=dict(type='choropleth')\n",
    ")\n",
    "\n",
    "fig.show()"
   ]
  },
  {
   "cell_type": "markdown",
   "id": "34803ed6",
   "metadata": {},
   "source": [
    "Total nuclear electricity per country- Interactive Visualization\n",
    "This interactive world map visualizes total nuclear electricity production (in TWh) by country, with darker colors indicating higher output. Countries with no nuclear power appear in black, and the countries that appear in white have no data regarding their nuclear production, while others are colored on a scale based on their production levels. Hovering over a country reveals its name and exact nuclear electricity generation data."
   ]
  },
  {
   "cell_type": "code",
   "execution_count": 22,
   "id": "0b2a65c3",
   "metadata": {},
   "outputs": [
    {
     "data": {
      "application/vnd.plotly.v1+json": {
       "config": {
        "plotlyServerURL": "https://plot.ly"
       },
       "data": [
        {
         "coloraxis": "coloraxis",
         "geo": "geo",
         "hovertemplate": "<b>%{hovertext}</b><br><br>Entity=%{location}<br>Total nuclear electricity=%{z}<extra></extra>",
         "hovertext": [
          "Afghanistan",
          "Albania",
          "Algeria",
          "Angola",
          "Antigua and Barbuda",
          "Argentina",
          "Armenia",
          "Aruba",
          "Australia",
          "Austria",
          "Azerbaijan",
          "Bahamas",
          "Bahrain",
          "Bangladesh",
          "Barbados",
          "Belarus",
          "Belgium",
          "Belize",
          "Benin",
          "Bermuda",
          "Bhutan",
          "Bosnia and Herzegovina",
          "Botswana",
          "Brazil",
          "Bulgaria",
          "Burkina Faso",
          "Burundi",
          "Cambodia",
          "Cameroon",
          "Canada",
          "Cayman Islands",
          "Central African Republic",
          "Chad",
          "Chile",
          "China",
          "Colombia",
          "Comoros",
          "Congo",
          "Costa Rica",
          "Croatia",
          "Cuba",
          "Cyprus",
          "Czechia",
          "Denmark",
          "Djibouti",
          "Dominica",
          "Dominican Republic",
          "Ecuador",
          "Egypt",
          "El Salvador",
          "Equatorial Guinea",
          "Eritrea",
          "Estonia",
          "Eswatini",
          "Ethiopia",
          "Fiji",
          "Finland",
          "France",
          "French Guiana",
          "Gabon",
          "Gambia",
          "Georgia",
          "Germany",
          "Ghana",
          "Greece",
          "Grenada",
          "Guatemala",
          "Guinea",
          "Guinea-Bissau",
          "Guyana",
          "Haiti",
          "Honduras",
          "Hungary",
          "Iceland",
          "India",
          "Indonesia",
          "Iraq",
          "Ireland",
          "Israel",
          "Italy",
          "Jamaica",
          "Japan",
          "Jordan",
          "Kazakhstan",
          "Kenya",
          "Kiribati",
          "Kuwait",
          "Kyrgyzstan",
          "Latvia",
          "Lebanon",
          "Lesotho",
          "Liberia",
          "Libya",
          "Lithuania",
          "Luxembourg",
          "Madagascar",
          "Malawi",
          "Malaysia",
          "Maldives",
          "Mali",
          "Malta",
          "Mauritania",
          "Mauritius",
          "Mexico",
          "Mongolia",
          "Montenegro",
          "Morocco",
          "Mozambique",
          "Myanmar",
          "Namibia",
          "Nauru",
          "Nepal",
          "Netherlands",
          "New Caledonia",
          "New Zealand",
          "Nicaragua",
          "Niger",
          "Nigeria",
          "North Macedonia",
          "Norway",
          "Oman",
          "Pakistan",
          "Panama",
          "Papua New Guinea",
          "Paraguay",
          "Peru",
          "Philippines",
          "Poland",
          "Portugal",
          "Puerto Rico",
          "Qatar",
          "Romania",
          "Rwanda",
          "Saint Kitts and Nevis",
          "Saint Lucia",
          "Saint Vincent and the Grenadines",
          "Samoa",
          "Sao Tome and Principe",
          "Saudi Arabia",
          "Senegal",
          "Serbia",
          "Seychelles",
          "Sierra Leone",
          "Singapore",
          "Slovakia",
          "Slovenia",
          "Solomon Islands",
          "Somalia",
          "South Africa",
          "South Sudan",
          "Spain",
          "Sri Lanka",
          "Sudan",
          "Suriname",
          "Sweden",
          "Switzerland",
          "Tajikistan",
          "Thailand",
          "Togo",
          "Tonga",
          "Trinidad and Tobago",
          "Tunisia",
          "Turkey",
          "Turkmenistan",
          "Tuvalu",
          "Uganda",
          "Ukraine",
          "United Arab Emirates",
          "United Kingdom",
          "United States",
          "Uruguay",
          "Uzbekistan",
          "Vanuatu",
          "Yemen",
          "Zambia",
          "Zimbabwe"
         ],
         "locationmode": "country names",
         "locations": [
          "Afghanistan",
          "Albania",
          "Algeria",
          "Angola",
          "Antigua and Barbuda",
          "Argentina",
          "Armenia",
          "Aruba",
          "Australia",
          "Austria",
          "Azerbaijan",
          "Bahamas",
          "Bahrain",
          "Bangladesh",
          "Barbados",
          "Belarus",
          "Belgium",
          "Belize",
          "Benin",
          "Bermuda",
          "Bhutan",
          "Bosnia and Herzegovina",
          "Botswana",
          "Brazil",
          "Bulgaria",
          "Burkina Faso",
          "Burundi",
          "Cambodia",
          "Cameroon",
          "Canada",
          "Cayman Islands",
          "Central African Republic",
          "Chad",
          "Chile",
          "China",
          "Colombia",
          "Comoros",
          "Congo",
          "Costa Rica",
          "Croatia",
          "Cuba",
          "Cyprus",
          "Czechia",
          "Denmark",
          "Djibouti",
          "Dominica",
          "Dominican Republic",
          "Ecuador",
          "Egypt",
          "El Salvador",
          "Equatorial Guinea",
          "Eritrea",
          "Estonia",
          "Eswatini",
          "Ethiopia",
          "Fiji",
          "Finland",
          "France",
          "French Guiana",
          "Gabon",
          "Gambia",
          "Georgia",
          "Germany",
          "Ghana",
          "Greece",
          "Grenada",
          "Guatemala",
          "Guinea",
          "Guinea-Bissau",
          "Guyana",
          "Haiti",
          "Honduras",
          "Hungary",
          "Iceland",
          "India",
          "Indonesia",
          "Iraq",
          "Ireland",
          "Israel",
          "Italy",
          "Jamaica",
          "Japan",
          "Jordan",
          "Kazakhstan",
          "Kenya",
          "Kiribati",
          "Kuwait",
          "Kyrgyzstan",
          "Latvia",
          "Lebanon",
          "Lesotho",
          "Liberia",
          "Libya",
          "Lithuania",
          "Luxembourg",
          "Madagascar",
          "Malawi",
          "Malaysia",
          "Maldives",
          "Mali",
          "Malta",
          "Mauritania",
          "Mauritius",
          "Mexico",
          "Mongolia",
          "Montenegro",
          "Morocco",
          "Mozambique",
          "Myanmar",
          "Namibia",
          "Nauru",
          "Nepal",
          "Netherlands",
          "New Caledonia",
          "New Zealand",
          "Nicaragua",
          "Niger",
          "Nigeria",
          "North Macedonia",
          "Norway",
          "Oman",
          "Pakistan",
          "Panama",
          "Papua New Guinea",
          "Paraguay",
          "Peru",
          "Philippines",
          "Poland",
          "Portugal",
          "Puerto Rico",
          "Qatar",
          "Romania",
          "Rwanda",
          "Saint Kitts and Nevis",
          "Saint Lucia",
          "Saint Vincent and the Grenadines",
          "Samoa",
          "Sao Tome and Principe",
          "Saudi Arabia",
          "Senegal",
          "Serbia",
          "Seychelles",
          "Sierra Leone",
          "Singapore",
          "Slovakia",
          "Slovenia",
          "Solomon Islands",
          "Somalia",
          "South Africa",
          "South Sudan",
          "Spain",
          "Sri Lanka",
          "Sudan",
          "Suriname",
          "Sweden",
          "Switzerland",
          "Tajikistan",
          "Thailand",
          "Togo",
          "Tonga",
          "Trinidad and Tobago",
          "Tunisia",
          "Turkey",
          "Turkmenistan",
          "Tuvalu",
          "Uganda",
          "Ukraine",
          "United Arab Emirates",
          "United Kingdom",
          "United States",
          "Uruguay",
          "Uzbekistan",
          "Vanuatu",
          "Yemen",
          "Zambia",
          "Zimbabwe"
         ],
         "marker": {
          "line": {
           "color": "white",
           "width": 0.5
          }
         },
         "name": "",
         "type": "choropleth",
         "z": {
          "bdata": "AAAAAAAAAAAAAAAAAAAAAAAAAAAAAAAAAAAAAAAAAAAAAAAAAAAAAPYoXI/CpWFAcT0K16NQR0AAAAAAAAAAAAAAAAAAAAAAAAAAAAAAAAAAAAAAAAAAAAAAAAAAAAAAAAAAAAAAAAAAAAAAAAAAAAAAAAAAAAAAw/UoXI/C1T8K16NwPTiMQAAAAAAAAAAAAAAAAAAAAAAAAAAAAAAAAAAAAAAAAAAAAAAAAAAAAAAAAAAAAAAAAClcj8L1UHFAuB6F61HUdUAAAAAAAAAAAAAAAAAAAAAAAAAAAAAAAAAAAAAAAAAAAClcj8L10JxAAAAAAAAAAAAAAAAAAAAAAAAAAAAAAAAAAAAAAAAAAAB7FK5HYWKkQAAAAAAAAAAAAAAAAAAAAAAAAAAAAAAAAAAAAAAAAAAAAAAAAAAAAAAAAAAAAAAAAAAAAAAAAAAA4XoUrkcZgUAAAAAAAAAAAAAAAAAAAAAAAAAAAAAAAAAAAAAAAAAAAAAAAAAAAAAAAAAAAAAAAAAAAAAAAAAAAAAAAAAAAAAAAAAAAAAAAAAAAAAAAAAAAAAAAAAAAAAAAAAAAAAAAAAAAAAAAAAAAArXo3A9Qn5AmpmZmRlpwUAAAAAAAAAAAAAAAAAAAAAAAAAAAAAAAAAAAAAAAAAAAAAAAACAVaRAAAAAAAAAAAAAAAAAAAAAAAAAAAAAAAAAAAAAAAAAAAAAAAAAAAAAAAAAAAAAAAAAAAAAAAAAAAAAAAAAAAAAAAAAAAAAAAAA7FG4HoV7c0AAAAAAAAAAAArXo3A9DIJAAAAAAAAAAAAAAAAAAAAAAAAAAAAAAAAAAAAAAAAAAAAAAAAAAAAAAAAAAAAAAAAACtejcL11qkAAAAAAAAAAAAAAAAAAAAAAAAAAAAAAAAAAAAAAAAAAAAAAAAAAAAAAAAAAAAAAAAAAAAAAAAAAAAAAAAAAAAAAAAAAAAAAAAAAAAAAAAAAAAAAAAAAAAAApHA9CteDXEAAAAAAAAAAAAAAAAAAAAAAAAAAAAAAAAAAAAAAAAAAAAAAAAAAAAAAAAAAAAAAAAAAAAAAAAAAAAAAAAAAAAAAAAAAAAAAAAAfhetRuLZpQAAAAAAAAAAAAAAAAAAAAAAAAAAAAAAAAAAAAAAAAAAAAAAAAAAAAAAAAAAAAAAAAAAAAAAAAAAAAAAAAAAAAADNzMzMzGxUQAAAAAAAAAAAAAAAAAAAAAAAAAAAAAAAAAAAAAAAAAAAAAAAAAAAAAAAAAAAAAAAAAAAAAAAAAAAAAAAAAAAAACF61G4HoVVQAAAAAAAAAAAAAAAAAAAAAAAAAAAAAAAAAAAAAAAAAAAAAAAAAAAAAAAAAAAAAAAAAAAAAAAAAAAAAAAAAAAAAAAAAAAAAAAAB+F61G4bmhAAAAAAAAAAAAAAAAAAAAAAAAAAAAAAAAAAAAAAAAAAAAAAAAAAAAAAAAAAAAAAAAAAAAAAAAAAAAAAAAAAAAAAAAAAAAAAAAAAAAAAAAAAAAAAAAAAAAAAAAAAAAAAAAAFa5H4Xr4dEAzMzMzMwNeQAAAAAAAAAAAAAAAAAAAAADNzMzMzJhwQAAAAAAAAAAA9ihcj8Jhk0AAAAAAAAAAAAAAAAAAAAAAAAAAAAAAAAAzMzMzMw6VQLgehetRJIBAAAAAAAAAAAAAAAAAAAAAAAAAAAAAAAAAAAAAAAAAAAAAAAAAAAAAAAAAAAAAAAAAAAAAAAAAAAAAAAAAAAAAAAAAAAAAAAAAAAAAAAAAAAA+CtejcNybQPYoXI/C9fg/16NwPQpXl0CkcD0KpzbQQAAAAAAAAAAAAAAAAAAAAAAAAAAAAAAAAAAAAAAAAAAAAAAAAAAAAAAAAAAAAAAAAA==",
          "dtype": "f8"
         }
        }
       ],
       "layout": {
        "coloraxis": {
         "cmax": 16602.61,
         "cmin": 0,
         "colorbar": {
          "len": 0.75,
          "thickness": 15,
          "title": {
           "text": "Total nuclear electricity"
          }
         },
         "colorscale": [
          [
           0,
           "black"
          ],
          [
           0.0001,
           "#0d0887"
          ],
          [
           1,
           "#f0f921"
          ]
         ]
        },
        "geo": {
         "center": {},
         "domain": {
          "x": [
           0,
           1
          ],
          "y": [
           0,
           1
          ]
         },
         "projection": {
          "type": "natural earth"
         },
         "showcoastlines": true,
         "showframe": false
        },
        "legend": {
         "tracegroupgap": 0
        },
        "margin": {
         "b": 0,
         "l": 0,
         "r": 0,
         "t": 40
        },
        "template": {
         "data": {
          "bar": [
           {
            "error_x": {
             "color": "#2a3f5f"
            },
            "error_y": {
             "color": "#2a3f5f"
            },
            "marker": {
             "line": {
              "color": "#E5ECF6",
              "width": 0.5
             },
             "pattern": {
              "fillmode": "overlay",
              "size": 10,
              "solidity": 0.2
             }
            },
            "type": "bar"
           }
          ],
          "barpolar": [
           {
            "marker": {
             "line": {
              "color": "#E5ECF6",
              "width": 0.5
             },
             "pattern": {
              "fillmode": "overlay",
              "size": 10,
              "solidity": 0.2
             }
            },
            "type": "barpolar"
           }
          ],
          "carpet": [
           {
            "aaxis": {
             "endlinecolor": "#2a3f5f",
             "gridcolor": "white",
             "linecolor": "white",
             "minorgridcolor": "white",
             "startlinecolor": "#2a3f5f"
            },
            "baxis": {
             "endlinecolor": "#2a3f5f",
             "gridcolor": "white",
             "linecolor": "white",
             "minorgridcolor": "white",
             "startlinecolor": "#2a3f5f"
            },
            "type": "carpet"
           }
          ],
          "choropleth": [
           {
            "colorbar": {
             "outlinewidth": 0,
             "ticks": ""
            },
            "type": "choropleth"
           }
          ],
          "contour": [
           {
            "colorbar": {
             "outlinewidth": 0,
             "ticks": ""
            },
            "colorscale": [
             [
              0,
              "#0d0887"
             ],
             [
              0.1111111111111111,
              "#46039f"
             ],
             [
              0.2222222222222222,
              "#7201a8"
             ],
             [
              0.3333333333333333,
              "#9c179e"
             ],
             [
              0.4444444444444444,
              "#bd3786"
             ],
             [
              0.5555555555555556,
              "#d8576b"
             ],
             [
              0.6666666666666666,
              "#ed7953"
             ],
             [
              0.7777777777777778,
              "#fb9f3a"
             ],
             [
              0.8888888888888888,
              "#fdca26"
             ],
             [
              1,
              "#f0f921"
             ]
            ],
            "type": "contour"
           }
          ],
          "contourcarpet": [
           {
            "colorbar": {
             "outlinewidth": 0,
             "ticks": ""
            },
            "type": "contourcarpet"
           }
          ],
          "heatmap": [
           {
            "colorbar": {
             "outlinewidth": 0,
             "ticks": ""
            },
            "colorscale": [
             [
              0,
              "#0d0887"
             ],
             [
              0.1111111111111111,
              "#46039f"
             ],
             [
              0.2222222222222222,
              "#7201a8"
             ],
             [
              0.3333333333333333,
              "#9c179e"
             ],
             [
              0.4444444444444444,
              "#bd3786"
             ],
             [
              0.5555555555555556,
              "#d8576b"
             ],
             [
              0.6666666666666666,
              "#ed7953"
             ],
             [
              0.7777777777777778,
              "#fb9f3a"
             ],
             [
              0.8888888888888888,
              "#fdca26"
             ],
             [
              1,
              "#f0f921"
             ]
            ],
            "type": "heatmap"
           }
          ],
          "histogram": [
           {
            "marker": {
             "pattern": {
              "fillmode": "overlay",
              "size": 10,
              "solidity": 0.2
             }
            },
            "type": "histogram"
           }
          ],
          "histogram2d": [
           {
            "colorbar": {
             "outlinewidth": 0,
             "ticks": ""
            },
            "colorscale": [
             [
              0,
              "#0d0887"
             ],
             [
              0.1111111111111111,
              "#46039f"
             ],
             [
              0.2222222222222222,
              "#7201a8"
             ],
             [
              0.3333333333333333,
              "#9c179e"
             ],
             [
              0.4444444444444444,
              "#bd3786"
             ],
             [
              0.5555555555555556,
              "#d8576b"
             ],
             [
              0.6666666666666666,
              "#ed7953"
             ],
             [
              0.7777777777777778,
              "#fb9f3a"
             ],
             [
              0.8888888888888888,
              "#fdca26"
             ],
             [
              1,
              "#f0f921"
             ]
            ],
            "type": "histogram2d"
           }
          ],
          "histogram2dcontour": [
           {
            "colorbar": {
             "outlinewidth": 0,
             "ticks": ""
            },
            "colorscale": [
             [
              0,
              "#0d0887"
             ],
             [
              0.1111111111111111,
              "#46039f"
             ],
             [
              0.2222222222222222,
              "#7201a8"
             ],
             [
              0.3333333333333333,
              "#9c179e"
             ],
             [
              0.4444444444444444,
              "#bd3786"
             ],
             [
              0.5555555555555556,
              "#d8576b"
             ],
             [
              0.6666666666666666,
              "#ed7953"
             ],
             [
              0.7777777777777778,
              "#fb9f3a"
             ],
             [
              0.8888888888888888,
              "#fdca26"
             ],
             [
              1,
              "#f0f921"
             ]
            ],
            "type": "histogram2dcontour"
           }
          ],
          "mesh3d": [
           {
            "colorbar": {
             "outlinewidth": 0,
             "ticks": ""
            },
            "type": "mesh3d"
           }
          ],
          "parcoords": [
           {
            "line": {
             "colorbar": {
              "outlinewidth": 0,
              "ticks": ""
             }
            },
            "type": "parcoords"
           }
          ],
          "pie": [
           {
            "automargin": true,
            "type": "pie"
           }
          ],
          "scatter": [
           {
            "fillpattern": {
             "fillmode": "overlay",
             "size": 10,
             "solidity": 0.2
            },
            "type": "scatter"
           }
          ],
          "scatter3d": [
           {
            "line": {
             "colorbar": {
              "outlinewidth": 0,
              "ticks": ""
             }
            },
            "marker": {
             "colorbar": {
              "outlinewidth": 0,
              "ticks": ""
             }
            },
            "type": "scatter3d"
           }
          ],
          "scattercarpet": [
           {
            "marker": {
             "colorbar": {
              "outlinewidth": 0,
              "ticks": ""
             }
            },
            "type": "scattercarpet"
           }
          ],
          "scattergeo": [
           {
            "marker": {
             "colorbar": {
              "outlinewidth": 0,
              "ticks": ""
             }
            },
            "type": "scattergeo"
           }
          ],
          "scattergl": [
           {
            "marker": {
             "colorbar": {
              "outlinewidth": 0,
              "ticks": ""
             }
            },
            "type": "scattergl"
           }
          ],
          "scattermap": [
           {
            "marker": {
             "colorbar": {
              "outlinewidth": 0,
              "ticks": ""
             }
            },
            "type": "scattermap"
           }
          ],
          "scattermapbox": [
           {
            "marker": {
             "colorbar": {
              "outlinewidth": 0,
              "ticks": ""
             }
            },
            "type": "scattermapbox"
           }
          ],
          "scatterpolar": [
           {
            "marker": {
             "colorbar": {
              "outlinewidth": 0,
              "ticks": ""
             }
            },
            "type": "scatterpolar"
           }
          ],
          "scatterpolargl": [
           {
            "marker": {
             "colorbar": {
              "outlinewidth": 0,
              "ticks": ""
             }
            },
            "type": "scatterpolargl"
           }
          ],
          "scatterternary": [
           {
            "marker": {
             "colorbar": {
              "outlinewidth": 0,
              "ticks": ""
             }
            },
            "type": "scatterternary"
           }
          ],
          "surface": [
           {
            "colorbar": {
             "outlinewidth": 0,
             "ticks": ""
            },
            "colorscale": [
             [
              0,
              "#0d0887"
             ],
             [
              0.1111111111111111,
              "#46039f"
             ],
             [
              0.2222222222222222,
              "#7201a8"
             ],
             [
              0.3333333333333333,
              "#9c179e"
             ],
             [
              0.4444444444444444,
              "#bd3786"
             ],
             [
              0.5555555555555556,
              "#d8576b"
             ],
             [
              0.6666666666666666,
              "#ed7953"
             ],
             [
              0.7777777777777778,
              "#fb9f3a"
             ],
             [
              0.8888888888888888,
              "#fdca26"
             ],
             [
              1,
              "#f0f921"
             ]
            ],
            "type": "surface"
           }
          ],
          "table": [
           {
            "cells": {
             "fill": {
              "color": "#EBF0F8"
             },
             "line": {
              "color": "white"
             }
            },
            "header": {
             "fill": {
              "color": "#C8D4E3"
             },
             "line": {
              "color": "white"
             }
            },
            "type": "table"
           }
          ]
         },
         "layout": {
          "annotationdefaults": {
           "arrowcolor": "#2a3f5f",
           "arrowhead": 0,
           "arrowwidth": 1
          },
          "autotypenumbers": "strict",
          "coloraxis": {
           "colorbar": {
            "outlinewidth": 0,
            "ticks": ""
           }
          },
          "colorscale": {
           "diverging": [
            [
             0,
             "#8e0152"
            ],
            [
             0.1,
             "#c51b7d"
            ],
            [
             0.2,
             "#de77ae"
            ],
            [
             0.3,
             "#f1b6da"
            ],
            [
             0.4,
             "#fde0ef"
            ],
            [
             0.5,
             "#f7f7f7"
            ],
            [
             0.6,
             "#e6f5d0"
            ],
            [
             0.7,
             "#b8e186"
            ],
            [
             0.8,
             "#7fbc41"
            ],
            [
             0.9,
             "#4d9221"
            ],
            [
             1,
             "#276419"
            ]
           ],
           "sequential": [
            [
             0,
             "#0d0887"
            ],
            [
             0.1111111111111111,
             "#46039f"
            ],
            [
             0.2222222222222222,
             "#7201a8"
            ],
            [
             0.3333333333333333,
             "#9c179e"
            ],
            [
             0.4444444444444444,
             "#bd3786"
            ],
            [
             0.5555555555555556,
             "#d8576b"
            ],
            [
             0.6666666666666666,
             "#ed7953"
            ],
            [
             0.7777777777777778,
             "#fb9f3a"
            ],
            [
             0.8888888888888888,
             "#fdca26"
            ],
            [
             1,
             "#f0f921"
            ]
           ],
           "sequentialminus": [
            [
             0,
             "#0d0887"
            ],
            [
             0.1111111111111111,
             "#46039f"
            ],
            [
             0.2222222222222222,
             "#7201a8"
            ],
            [
             0.3333333333333333,
             "#9c179e"
            ],
            [
             0.4444444444444444,
             "#bd3786"
            ],
            [
             0.5555555555555556,
             "#d8576b"
            ],
            [
             0.6666666666666666,
             "#ed7953"
            ],
            [
             0.7777777777777778,
             "#fb9f3a"
            ],
            [
             0.8888888888888888,
             "#fdca26"
            ],
            [
             1,
             "#f0f921"
            ]
           ]
          },
          "colorway": [
           "#636efa",
           "#EF553B",
           "#00cc96",
           "#ab63fa",
           "#FFA15A",
           "#19d3f3",
           "#FF6692",
           "#B6E880",
           "#FF97FF",
           "#FECB52"
          ],
          "font": {
           "color": "#2a3f5f"
          },
          "geo": {
           "bgcolor": "white",
           "lakecolor": "white",
           "landcolor": "#E5ECF6",
           "showlakes": true,
           "showland": true,
           "subunitcolor": "white"
          },
          "hoverlabel": {
           "align": "left"
          },
          "hovermode": "closest",
          "mapbox": {
           "style": "light"
          },
          "paper_bgcolor": "white",
          "plot_bgcolor": "#E5ECF6",
          "polar": {
           "angularaxis": {
            "gridcolor": "white",
            "linecolor": "white",
            "ticks": ""
           },
           "bgcolor": "#E5ECF6",
           "radialaxis": {
            "gridcolor": "white",
            "linecolor": "white",
            "ticks": ""
           }
          },
          "scene": {
           "xaxis": {
            "backgroundcolor": "#E5ECF6",
            "gridcolor": "white",
            "gridwidth": 2,
            "linecolor": "white",
            "showbackground": true,
            "ticks": "",
            "zerolinecolor": "white"
           },
           "yaxis": {
            "backgroundcolor": "#E5ECF6",
            "gridcolor": "white",
            "gridwidth": 2,
            "linecolor": "white",
            "showbackground": true,
            "ticks": "",
            "zerolinecolor": "white"
           },
           "zaxis": {
            "backgroundcolor": "#E5ECF6",
            "gridcolor": "white",
            "gridwidth": 2,
            "linecolor": "white",
            "showbackground": true,
            "ticks": "",
            "zerolinecolor": "white"
           }
          },
          "shapedefaults": {
           "line": {
            "color": "#2a3f5f"
           }
          },
          "ternary": {
           "aaxis": {
            "gridcolor": "white",
            "linecolor": "white",
            "ticks": ""
           },
           "baxis": {
            "gridcolor": "white",
            "linecolor": "white",
            "ticks": ""
           },
           "bgcolor": "#E5ECF6",
           "caxis": {
            "gridcolor": "white",
            "linecolor": "white",
            "ticks": ""
           }
          },
          "title": {
           "x": 0.05
          },
          "xaxis": {
           "automargin": true,
           "gridcolor": "white",
           "linecolor": "white",
           "ticks": "",
           "title": {
            "standoff": 15
           },
           "zerolinecolor": "white",
           "zerolinewidth": 2
          },
          "yaxis": {
           "automargin": true,
           "gridcolor": "white",
           "linecolor": "white",
           "ticks": "",
           "title": {
            "standoff": 15
           },
           "zerolinecolor": "white",
           "zerolinewidth": 2
          }
         }
        },
        "title": {
         "text": "Total nuclear electricity per country- Interactive Visualization"
        }
       }
      }
     },
     "metadata": {},
     "output_type": "display_data"
    }
   ],
   "source": [
    "\n",
    "df = pd.read_csv('nuclear_data/global-data-on-sustainable-energy (1).csv')\n",
    "aggregated_df = df.groupby('Entity').agg({\n",
    "    'Year': ['min', 'max'],\n",
    "    'Access to electricity (% of population)': 'mean',\n",
    "    'Access to clean fuels for cooking': 'mean',\n",
    "    'Renewable-electricity-generating-capacity-per-capita': 'mean',\n",
    "    'Financial flows to developing countries (US $)': 'sum',\n",
    "    'Renewable energy share in the total final energy consumption (%)': 'mean',\n",
    "    'Electricity from fossil fuels (TWh)': 'sum',\n",
    "    'Electricity from nuclear (TWh)': 'sum',\n",
    "    'Electricity from renewables (TWh)': 'sum',\n",
    "    'Low-carbon electricity (% electricity)': 'mean',\n",
    "    'Primary energy consumption per capita (kWh/person)': 'mean',\n",
    "    'Energy intensity level of primary energy (MJ/$2017 PPP GDP)': 'mean',\n",
    "    'Value_co2_emissions_kt_by_country': 'sum',\n",
    "    'Renewables (% equivalent primary energy)': 'mean',\n",
    "    'gdp_growth': 'mean',\n",
    "    'gdp_per_capita': 'mean',\n",
    "    'Latitude': 'first',\n",
    "    'Longitude': 'first'\n",
    "})\n",
    "\n",
    "aggregated_df.columns = ['_'.join(col).strip() for col in aggregated_df.columns.values]\n",
    "\n",
    "aggregated_df = aggregated_df.reset_index()\n",
    "\n",
    "aggregated_df = aggregated_df.rename(columns={\n",
    "    'Year_min': 'First_Year',\n",
    "    'Year_max': 'Last_Year',\n",
    "    'Access to electricity (% of population)_mean': 'Avg_Electricity_Access',\n",
    "    'Access to clean fuels for cooking_mean': 'Avg_Clean_Cooking_Access',\n",
    "    'Renewable-electricity-generating-capacity-per-capita_mean': 'Avg_Renewable_Capacity_per_Capita',\n",
    "    'Financial flows to developing countries (US $)_sum': 'Total_Financial_Flows',\n",
    "    'Renewable energy share in the total final energy consumption (%)_mean': 'Avg_Renewable_Share',\n",
    "    'Electricity from fossil fuels (TWh)_sum': 'Total_Fossil_Electricity',\n",
    "    'Electricity from nuclear (TWh)_sum': 'Total_Nuclear_Electricity',\n",
    "    'Electricity from renewables (TWh)_sum': 'Total_Renewable_Electricity',\n",
    "    'Low-carbon electricity (% electricity)_mean': 'Avg_Low_Carbon_Electricity',\n",
    "    'Primary energy consumption per capita (kWh/person)_mean': 'Avg_Energy_Consumption_per_Capita',\n",
    "    'Energy intensity level of primary energy (MJ/$2017 PPP GDP)_mean': 'Avg_Energy_Intensity',\n",
    "    'Value_co2_emissions_kt_by_country_sum': 'Total_CO2_Emissions',\n",
    "    'Renewables (% equivalent primary energy)_mean': 'Avg_Renewables_Primary_Energy',\n",
    "    'gdp_growth_mean': 'Avg_GDP_Growth',\n",
    "    'gdp_per_capita_mean': 'Avg_GDP_per_Capita',\n",
    "    'Land Area(Km2)_first': 'Land_Area',\n",
    "    'Latitude_first': 'Latitude',\n",
    "    'Longitude_first': 'Longitude'\n",
    "})\n",
    "custom_scale = [[0, 'black'], [0.0001, px.colors.sequential.Plasma[0]],\n",
    "                [1, px.colors.sequential.Plasma[-1]]]\n",
    "\n",
    "fig = px.choropleth(aggregated_df,\n",
    "                    locations=\"Entity\",\n",
    "                    locationmode=\"country names\",\n",
    "                    color=\"Total_Nuclear_Electricity\",\n",
    "                    hover_name=\"Entity\",\n",
    "                    color_continuous_scale=custom_scale,\n",
    "                    title=\"Total nuclear electricity per country- Interactive Visualization\",\n",
    "                    labels={'Total_Nuclear_Electricity':'Total nuclear electricity'},\n",
    "                    range_color=(0, aggregated_df['Total_Nuclear_Electricity'].max()))\n",
    "\n",
    "fig.update_layout(coloraxis=dict(cmin=0))\n",
    "\n",
    "fig.update_layout(\n",
    "    margin={\"r\": 0, \"t\": 40, \"l\": 0, \"b\": 0},\n",
    "    geo=dict(\n",
    "        showframe=False,\n",
    "        showcoastlines=True,\n",
    "        projection_type='natural earth'\n",
    "    ),\n",
    "    coloraxis_colorbar=dict(\n",
    "        title=\"Total nuclear electricity\",\n",
    "        thickness=15,\n",
    "        len=0.75\n",
    "    )\n",
    ")\n",
    "\n",
    "fig.update_traces(\n",
    "    marker_line_width=0.5,\n",
    "    marker_line_color='white',\n",
    "    selector=dict(type='choropleth')\n",
    ")\n",
    "\n",
    "fig.show()"
   ]
  },
  {
   "cell_type": "code",
   "execution_count": 23,
   "id": "e3fafe00",
   "metadata": {},
   "outputs": [
    {
     "data": {
      "application/vnd.plotly.v1+json": {
       "config": {
        "plotlyServerURL": "https://plot.ly"
       },
       "data": [
        {
         "coloraxis": "coloraxis",
         "geo": "geo",
         "hovertemplate": "<b>%{hovertext}</b><br><br>Entity=%{location}<br>Total_Nuclear_Electricity=%{z}<extra></extra>",
         "hovertext": [
          "Afghanistan",
          "Albania",
          "Algeria",
          "Angola",
          "Antigua and Barbuda",
          "Argentina",
          "Armenia",
          "Aruba",
          "Australia",
          "Austria",
          "Azerbaijan",
          "Bahamas",
          "Bahrain",
          "Bangladesh",
          "Barbados",
          "Belarus",
          "Belgium",
          "Belize",
          "Benin",
          "Bermuda",
          "Bhutan",
          "Bosnia and Herzegovina",
          "Botswana",
          "Brazil",
          "Bulgaria",
          "Burkina Faso",
          "Burundi",
          "Cambodia",
          "Cameroon",
          "Canada",
          "Cayman Islands",
          "Central African Republic",
          "Chad",
          "Chile",
          "China",
          "Colombia",
          "Comoros",
          "Congo",
          "Costa Rica",
          "Croatia",
          "Cuba",
          "Cyprus",
          "Czechia",
          "Denmark",
          "Djibouti",
          "Dominica",
          "Dominican Republic",
          "Ecuador",
          "Egypt",
          "El Salvador",
          "Equatorial Guinea",
          "Eritrea",
          "Estonia",
          "Eswatini",
          "Ethiopia",
          "Fiji",
          "Finland",
          "France",
          "French Guiana",
          "Gabon",
          "Gambia",
          "Georgia",
          "Germany",
          "Ghana",
          "Greece",
          "Grenada",
          "Guatemala",
          "Guinea",
          "Guinea-Bissau",
          "Guyana",
          "Haiti",
          "Honduras",
          "Hungary",
          "Iceland",
          "India",
          "Indonesia",
          "Iraq",
          "Ireland",
          "Israel",
          "Italy",
          "Jamaica",
          "Japan",
          "Jordan",
          "Kazakhstan",
          "Kenya",
          "Kiribati",
          "Kuwait",
          "Kyrgyzstan",
          "Latvia",
          "Lebanon",
          "Lesotho",
          "Liberia",
          "Libya",
          "Lithuania",
          "Luxembourg",
          "Madagascar",
          "Malawi",
          "Malaysia",
          "Maldives",
          "Mali",
          "Malta",
          "Mauritania",
          "Mauritius",
          "Mexico",
          "Mongolia",
          "Montenegro",
          "Morocco",
          "Mozambique",
          "Myanmar",
          "Namibia",
          "Nauru",
          "Nepal",
          "Netherlands",
          "New Caledonia",
          "New Zealand",
          "Nicaragua",
          "Niger",
          "Nigeria",
          "North Macedonia",
          "Norway",
          "Oman",
          "Pakistan",
          "Panama",
          "Papua New Guinea",
          "Paraguay",
          "Peru",
          "Philippines",
          "Poland",
          "Portugal",
          "Puerto Rico",
          "Qatar",
          "Romania",
          "Rwanda",
          "Saint Kitts and Nevis",
          "Saint Lucia",
          "Saint Vincent and the Grenadines",
          "Samoa",
          "Sao Tome and Principe",
          "Saudi Arabia",
          "Senegal",
          "Serbia",
          "Seychelles",
          "Sierra Leone",
          "Singapore",
          "Slovakia",
          "Slovenia",
          "Solomon Islands",
          "Somalia",
          "South Africa",
          "South Sudan",
          "Spain",
          "Sri Lanka",
          "Sudan",
          "Suriname",
          "Sweden",
          "Switzerland",
          "Tajikistan",
          "Thailand",
          "Togo",
          "Tonga",
          "Trinidad and Tobago",
          "Tunisia",
          "Turkey",
          "Turkmenistan",
          "Tuvalu",
          "Uganda",
          "Ukraine",
          "United Arab Emirates",
          "United Kingdom",
          "United States",
          "Uruguay",
          "Uzbekistan",
          "Vanuatu",
          "Yemen",
          "Zambia",
          "Zimbabwe"
         ],
         "locationmode": "country names",
         "locations": [
          "Afghanistan",
          "Albania",
          "Algeria",
          "Angola",
          "Antigua and Barbuda",
          "Argentina",
          "Armenia",
          "Aruba",
          "Australia",
          "Austria",
          "Azerbaijan",
          "Bahamas",
          "Bahrain",
          "Bangladesh",
          "Barbados",
          "Belarus",
          "Belgium",
          "Belize",
          "Benin",
          "Bermuda",
          "Bhutan",
          "Bosnia and Herzegovina",
          "Botswana",
          "Brazil",
          "Bulgaria",
          "Burkina Faso",
          "Burundi",
          "Cambodia",
          "Cameroon",
          "Canada",
          "Cayman Islands",
          "Central African Republic",
          "Chad",
          "Chile",
          "China",
          "Colombia",
          "Comoros",
          "Congo",
          "Costa Rica",
          "Croatia",
          "Cuba",
          "Cyprus",
          "Czechia",
          "Denmark",
          "Djibouti",
          "Dominica",
          "Dominican Republic",
          "Ecuador",
          "Egypt",
          "El Salvador",
          "Equatorial Guinea",
          "Eritrea",
          "Estonia",
          "Eswatini",
          "Ethiopia",
          "Fiji",
          "Finland",
          "France",
          "French Guiana",
          "Gabon",
          "Gambia",
          "Georgia",
          "Germany",
          "Ghana",
          "Greece",
          "Grenada",
          "Guatemala",
          "Guinea",
          "Guinea-Bissau",
          "Guyana",
          "Haiti",
          "Honduras",
          "Hungary",
          "Iceland",
          "India",
          "Indonesia",
          "Iraq",
          "Ireland",
          "Israel",
          "Italy",
          "Jamaica",
          "Japan",
          "Jordan",
          "Kazakhstan",
          "Kenya",
          "Kiribati",
          "Kuwait",
          "Kyrgyzstan",
          "Latvia",
          "Lebanon",
          "Lesotho",
          "Liberia",
          "Libya",
          "Lithuania",
          "Luxembourg",
          "Madagascar",
          "Malawi",
          "Malaysia",
          "Maldives",
          "Mali",
          "Malta",
          "Mauritania",
          "Mauritius",
          "Mexico",
          "Mongolia",
          "Montenegro",
          "Morocco",
          "Mozambique",
          "Myanmar",
          "Namibia",
          "Nauru",
          "Nepal",
          "Netherlands",
          "New Caledonia",
          "New Zealand",
          "Nicaragua",
          "Niger",
          "Nigeria",
          "North Macedonia",
          "Norway",
          "Oman",
          "Pakistan",
          "Panama",
          "Papua New Guinea",
          "Paraguay",
          "Peru",
          "Philippines",
          "Poland",
          "Portugal",
          "Puerto Rico",
          "Qatar",
          "Romania",
          "Rwanda",
          "Saint Kitts and Nevis",
          "Saint Lucia",
          "Saint Vincent and the Grenadines",
          "Samoa",
          "Sao Tome and Principe",
          "Saudi Arabia",
          "Senegal",
          "Serbia",
          "Seychelles",
          "Sierra Leone",
          "Singapore",
          "Slovakia",
          "Slovenia",
          "Solomon Islands",
          "Somalia",
          "South Africa",
          "South Sudan",
          "Spain",
          "Sri Lanka",
          "Sudan",
          "Suriname",
          "Sweden",
          "Switzerland",
          "Tajikistan",
          "Thailand",
          "Togo",
          "Tonga",
          "Trinidad and Tobago",
          "Tunisia",
          "Turkey",
          "Turkmenistan",
          "Tuvalu",
          "Uganda",
          "Ukraine",
          "United Arab Emirates",
          "United Kingdom",
          "United States",
          "Uruguay",
          "Uzbekistan",
          "Vanuatu",
          "Yemen",
          "Zambia",
          "Zimbabwe"
         ],
         "marker": {
          "line": {
           "color": "white",
           "width": 0.5
          }
         },
         "name": "",
         "type": "choropleth",
         "z": {
          "bdata": "AAAAAAAAAAAAAAAAAAAAAAAAAAAAAAAAAAAAAAAAAAAAAAAAAAAAAPYoXI/CpWFAcT0K16NQR0AAAAAAAAAAAAAAAAAAAAAAAAAAAAAAAAAAAAAAAAAAAAAAAAAAAAAAAAAAAAAAAAAAAAAAAAAAAAAAAAAAAAAAw/UoXI/C1T8K16NwPTiMQAAAAAAAAAAAAAAAAAAAAAAAAAAAAAAAAAAAAAAAAAAAAAAAAAAAAAAAAAAAAAAAAClcj8L1UHFAuB6F61HUdUAAAAAAAAAAAAAAAAAAAAAAAAAAAAAAAAAAAAAAAAAAAClcj8L10JxAAAAAAAAAAAAAAAAAAAAAAAAAAAAAAAAAAAAAAAAAAAB7FK5HYWKkQAAAAAAAAAAAAAAAAAAAAAAAAAAAAAAAAAAAAAAAAAAAAAAAAAAAAAAAAAAAAAAAAAAAAAAAAAAA4XoUrkcZgUAAAAAAAAAAAAAAAAAAAAAAAAAAAAAAAAAAAAAAAAAAAAAAAAAAAAAAAAAAAAAAAAAAAAAAAAAAAAAAAAAAAAAAAAAAAAAAAAAAAAAAAAAAAAAAAAAAAAAAAAAAAAAAAAAAAAAAAAAAAArXo3A9Qn5AmpmZmRlpwUAAAAAAAAAAAAAAAAAAAAAAAAAAAAAAAAAAAAAAAAAAAAAAAACAVaRAAAAAAAAAAAAAAAAAAAAAAAAAAAAAAAAAAAAAAAAAAAAAAAAAAAAAAAAAAAAAAAAAAAAAAAAAAAAAAAAAAAAAAAAAAAAAAAAA7FG4HoV7c0AAAAAAAAAAAArXo3A9DIJAAAAAAAAAAAAAAAAAAAAAAAAAAAAAAAAAAAAAAAAAAAAAAAAAAAAAAAAAAAAAAAAACtejcL11qkAAAAAAAAAAAAAAAAAAAAAAAAAAAAAAAAAAAAAAAAAAAAAAAAAAAAAAAAAAAAAAAAAAAAAAAAAAAAAAAAAAAAAAAAAAAAAAAAAAAAAAAAAAAAAAAAAAAAAApHA9CteDXEAAAAAAAAAAAAAAAAAAAAAAAAAAAAAAAAAAAAAAAAAAAAAAAAAAAAAAAAAAAAAAAAAAAAAAAAAAAAAAAAAAAAAAAAAAAAAAAAAfhetRuLZpQAAAAAAAAAAAAAAAAAAAAAAAAAAAAAAAAAAAAAAAAAAAAAAAAAAAAAAAAAAAAAAAAAAAAAAAAAAAAAAAAAAAAADNzMzMzGxUQAAAAAAAAAAAAAAAAAAAAAAAAAAAAAAAAAAAAAAAAAAAAAAAAAAAAAAAAAAAAAAAAAAAAAAAAAAAAAAAAAAAAACF61G4HoVVQAAAAAAAAAAAAAAAAAAAAAAAAAAAAAAAAAAAAAAAAAAAAAAAAAAAAAAAAAAAAAAAAAAAAAAAAAAAAAAAAAAAAAAAAAAAAAAAAB+F61G4bmhAAAAAAAAAAAAAAAAAAAAAAAAAAAAAAAAAAAAAAAAAAAAAAAAAAAAAAAAAAAAAAAAAAAAAAAAAAAAAAAAAAAAAAAAAAAAAAAAAAAAAAAAAAAAAAAAAAAAAAAAAAAAAAAAAFa5H4Xr4dEAzMzMzMwNeQAAAAAAAAAAAAAAAAAAAAADNzMzMzJhwQAAAAAAAAAAA9ihcj8Jhk0AAAAAAAAAAAAAAAAAAAAAAAAAAAAAAAAAzMzMzMw6VQLgehetRJIBAAAAAAAAAAAAAAAAAAAAAAAAAAAAAAAAAAAAAAAAAAAAAAAAAAAAAAAAAAAAAAAAAAAAAAAAAAAAAAAAAAAAAAAAAAAAAAAAAAAAAAAAAAAA+CtejcNybQPYoXI/C9fg/16NwPQpXl0CkcD0KpzbQQAAAAAAAAAAAAAAAAAAAAAAAAAAAAAAAAAAAAAAAAAAAAAAAAAAAAAAAAAAAAAAAAA==",
          "dtype": "f8"
         }
        }
       ],
       "layout": {
        "coloraxis": {
         "colorbar": {
          "len": 0.75,
          "thickness": 15,
          "title": {
           "text": "Total nuclear electricity"
          }
         },
         "colorscale": [
          [
           0,
           "#0d0887"
          ],
          [
           0.1111111111111111,
           "#46039f"
          ],
          [
           0.2222222222222222,
           "#7201a8"
          ],
          [
           0.3333333333333333,
           "#9c179e"
          ],
          [
           0.4444444444444444,
           "#bd3786"
          ],
          [
           0.5555555555555556,
           "#d8576b"
          ],
          [
           0.6666666666666666,
           "#ed7953"
          ],
          [
           0.7777777777777778,
           "#fb9f3a"
          ],
          [
           0.8888888888888888,
           "#fdca26"
          ],
          [
           1,
           "#f0f921"
          ]
         ]
        },
        "geo": {
         "center": {},
         "domain": {
          "x": [
           0,
           1
          ],
          "y": [
           0,
           1
          ]
         },
         "projection": {
          "type": "natural earth"
         },
         "showcoastlines": true,
         "showframe": false
        },
        "legend": {
         "tracegroupgap": 0
        },
        "margin": {
         "b": 0,
         "l": 0,
         "r": 0,
         "t": 40
        },
        "template": {
         "data": {
          "bar": [
           {
            "error_x": {
             "color": "#2a3f5f"
            },
            "error_y": {
             "color": "#2a3f5f"
            },
            "marker": {
             "line": {
              "color": "#E5ECF6",
              "width": 0.5
             },
             "pattern": {
              "fillmode": "overlay",
              "size": 10,
              "solidity": 0.2
             }
            },
            "type": "bar"
           }
          ],
          "barpolar": [
           {
            "marker": {
             "line": {
              "color": "#E5ECF6",
              "width": 0.5
             },
             "pattern": {
              "fillmode": "overlay",
              "size": 10,
              "solidity": 0.2
             }
            },
            "type": "barpolar"
           }
          ],
          "carpet": [
           {
            "aaxis": {
             "endlinecolor": "#2a3f5f",
             "gridcolor": "white",
             "linecolor": "white",
             "minorgridcolor": "white",
             "startlinecolor": "#2a3f5f"
            },
            "baxis": {
             "endlinecolor": "#2a3f5f",
             "gridcolor": "white",
             "linecolor": "white",
             "minorgridcolor": "white",
             "startlinecolor": "#2a3f5f"
            },
            "type": "carpet"
           }
          ],
          "choropleth": [
           {
            "colorbar": {
             "outlinewidth": 0,
             "ticks": ""
            },
            "type": "choropleth"
           }
          ],
          "contour": [
           {
            "colorbar": {
             "outlinewidth": 0,
             "ticks": ""
            },
            "colorscale": [
             [
              0,
              "#0d0887"
             ],
             [
              0.1111111111111111,
              "#46039f"
             ],
             [
              0.2222222222222222,
              "#7201a8"
             ],
             [
              0.3333333333333333,
              "#9c179e"
             ],
             [
              0.4444444444444444,
              "#bd3786"
             ],
             [
              0.5555555555555556,
              "#d8576b"
             ],
             [
              0.6666666666666666,
              "#ed7953"
             ],
             [
              0.7777777777777778,
              "#fb9f3a"
             ],
             [
              0.8888888888888888,
              "#fdca26"
             ],
             [
              1,
              "#f0f921"
             ]
            ],
            "type": "contour"
           }
          ],
          "contourcarpet": [
           {
            "colorbar": {
             "outlinewidth": 0,
             "ticks": ""
            },
            "type": "contourcarpet"
           }
          ],
          "heatmap": [
           {
            "colorbar": {
             "outlinewidth": 0,
             "ticks": ""
            },
            "colorscale": [
             [
              0,
              "#0d0887"
             ],
             [
              0.1111111111111111,
              "#46039f"
             ],
             [
              0.2222222222222222,
              "#7201a8"
             ],
             [
              0.3333333333333333,
              "#9c179e"
             ],
             [
              0.4444444444444444,
              "#bd3786"
             ],
             [
              0.5555555555555556,
              "#d8576b"
             ],
             [
              0.6666666666666666,
              "#ed7953"
             ],
             [
              0.7777777777777778,
              "#fb9f3a"
             ],
             [
              0.8888888888888888,
              "#fdca26"
             ],
             [
              1,
              "#f0f921"
             ]
            ],
            "type": "heatmap"
           }
          ],
          "histogram": [
           {
            "marker": {
             "pattern": {
              "fillmode": "overlay",
              "size": 10,
              "solidity": 0.2
             }
            },
            "type": "histogram"
           }
          ],
          "histogram2d": [
           {
            "colorbar": {
             "outlinewidth": 0,
             "ticks": ""
            },
            "colorscale": [
             [
              0,
              "#0d0887"
             ],
             [
              0.1111111111111111,
              "#46039f"
             ],
             [
              0.2222222222222222,
              "#7201a8"
             ],
             [
              0.3333333333333333,
              "#9c179e"
             ],
             [
              0.4444444444444444,
              "#bd3786"
             ],
             [
              0.5555555555555556,
              "#d8576b"
             ],
             [
              0.6666666666666666,
              "#ed7953"
             ],
             [
              0.7777777777777778,
              "#fb9f3a"
             ],
             [
              0.8888888888888888,
              "#fdca26"
             ],
             [
              1,
              "#f0f921"
             ]
            ],
            "type": "histogram2d"
           }
          ],
          "histogram2dcontour": [
           {
            "colorbar": {
             "outlinewidth": 0,
             "ticks": ""
            },
            "colorscale": [
             [
              0,
              "#0d0887"
             ],
             [
              0.1111111111111111,
              "#46039f"
             ],
             [
              0.2222222222222222,
              "#7201a8"
             ],
             [
              0.3333333333333333,
              "#9c179e"
             ],
             [
              0.4444444444444444,
              "#bd3786"
             ],
             [
              0.5555555555555556,
              "#d8576b"
             ],
             [
              0.6666666666666666,
              "#ed7953"
             ],
             [
              0.7777777777777778,
              "#fb9f3a"
             ],
             [
              0.8888888888888888,
              "#fdca26"
             ],
             [
              1,
              "#f0f921"
             ]
            ],
            "type": "histogram2dcontour"
           }
          ],
          "mesh3d": [
           {
            "colorbar": {
             "outlinewidth": 0,
             "ticks": ""
            },
            "type": "mesh3d"
           }
          ],
          "parcoords": [
           {
            "line": {
             "colorbar": {
              "outlinewidth": 0,
              "ticks": ""
             }
            },
            "type": "parcoords"
           }
          ],
          "pie": [
           {
            "automargin": true,
            "type": "pie"
           }
          ],
          "scatter": [
           {
            "fillpattern": {
             "fillmode": "overlay",
             "size": 10,
             "solidity": 0.2
            },
            "type": "scatter"
           }
          ],
          "scatter3d": [
           {
            "line": {
             "colorbar": {
              "outlinewidth": 0,
              "ticks": ""
             }
            },
            "marker": {
             "colorbar": {
              "outlinewidth": 0,
              "ticks": ""
             }
            },
            "type": "scatter3d"
           }
          ],
          "scattercarpet": [
           {
            "marker": {
             "colorbar": {
              "outlinewidth": 0,
              "ticks": ""
             }
            },
            "type": "scattercarpet"
           }
          ],
          "scattergeo": [
           {
            "marker": {
             "colorbar": {
              "outlinewidth": 0,
              "ticks": ""
             }
            },
            "type": "scattergeo"
           }
          ],
          "scattergl": [
           {
            "marker": {
             "colorbar": {
              "outlinewidth": 0,
              "ticks": ""
             }
            },
            "type": "scattergl"
           }
          ],
          "scattermap": [
           {
            "marker": {
             "colorbar": {
              "outlinewidth": 0,
              "ticks": ""
             }
            },
            "type": "scattermap"
           }
          ],
          "scattermapbox": [
           {
            "marker": {
             "colorbar": {
              "outlinewidth": 0,
              "ticks": ""
             }
            },
            "type": "scattermapbox"
           }
          ],
          "scatterpolar": [
           {
            "marker": {
             "colorbar": {
              "outlinewidth": 0,
              "ticks": ""
             }
            },
            "type": "scatterpolar"
           }
          ],
          "scatterpolargl": [
           {
            "marker": {
             "colorbar": {
              "outlinewidth": 0,
              "ticks": ""
             }
            },
            "type": "scatterpolargl"
           }
          ],
          "scatterternary": [
           {
            "marker": {
             "colorbar": {
              "outlinewidth": 0,
              "ticks": ""
             }
            },
            "type": "scatterternary"
           }
          ],
          "surface": [
           {
            "colorbar": {
             "outlinewidth": 0,
             "ticks": ""
            },
            "colorscale": [
             [
              0,
              "#0d0887"
             ],
             [
              0.1111111111111111,
              "#46039f"
             ],
             [
              0.2222222222222222,
              "#7201a8"
             ],
             [
              0.3333333333333333,
              "#9c179e"
             ],
             [
              0.4444444444444444,
              "#bd3786"
             ],
             [
              0.5555555555555556,
              "#d8576b"
             ],
             [
              0.6666666666666666,
              "#ed7953"
             ],
             [
              0.7777777777777778,
              "#fb9f3a"
             ],
             [
              0.8888888888888888,
              "#fdca26"
             ],
             [
              1,
              "#f0f921"
             ]
            ],
            "type": "surface"
           }
          ],
          "table": [
           {
            "cells": {
             "fill": {
              "color": "#EBF0F8"
             },
             "line": {
              "color": "white"
             }
            },
            "header": {
             "fill": {
              "color": "#C8D4E3"
             },
             "line": {
              "color": "white"
             }
            },
            "type": "table"
           }
          ]
         },
         "layout": {
          "annotationdefaults": {
           "arrowcolor": "#2a3f5f",
           "arrowhead": 0,
           "arrowwidth": 1
          },
          "autotypenumbers": "strict",
          "coloraxis": {
           "colorbar": {
            "outlinewidth": 0,
            "ticks": ""
           }
          },
          "colorscale": {
           "diverging": [
            [
             0,
             "#8e0152"
            ],
            [
             0.1,
             "#c51b7d"
            ],
            [
             0.2,
             "#de77ae"
            ],
            [
             0.3,
             "#f1b6da"
            ],
            [
             0.4,
             "#fde0ef"
            ],
            [
             0.5,
             "#f7f7f7"
            ],
            [
             0.6,
             "#e6f5d0"
            ],
            [
             0.7,
             "#b8e186"
            ],
            [
             0.8,
             "#7fbc41"
            ],
            [
             0.9,
             "#4d9221"
            ],
            [
             1,
             "#276419"
            ]
           ],
           "sequential": [
            [
             0,
             "#0d0887"
            ],
            [
             0.1111111111111111,
             "#46039f"
            ],
            [
             0.2222222222222222,
             "#7201a8"
            ],
            [
             0.3333333333333333,
             "#9c179e"
            ],
            [
             0.4444444444444444,
             "#bd3786"
            ],
            [
             0.5555555555555556,
             "#d8576b"
            ],
            [
             0.6666666666666666,
             "#ed7953"
            ],
            [
             0.7777777777777778,
             "#fb9f3a"
            ],
            [
             0.8888888888888888,
             "#fdca26"
            ],
            [
             1,
             "#f0f921"
            ]
           ],
           "sequentialminus": [
            [
             0,
             "#0d0887"
            ],
            [
             0.1111111111111111,
             "#46039f"
            ],
            [
             0.2222222222222222,
             "#7201a8"
            ],
            [
             0.3333333333333333,
             "#9c179e"
            ],
            [
             0.4444444444444444,
             "#bd3786"
            ],
            [
             0.5555555555555556,
             "#d8576b"
            ],
            [
             0.6666666666666666,
             "#ed7953"
            ],
            [
             0.7777777777777778,
             "#fb9f3a"
            ],
            [
             0.8888888888888888,
             "#fdca26"
            ],
            [
             1,
             "#f0f921"
            ]
           ]
          },
          "colorway": [
           "#636efa",
           "#EF553B",
           "#00cc96",
           "#ab63fa",
           "#FFA15A",
           "#19d3f3",
           "#FF6692",
           "#B6E880",
           "#FF97FF",
           "#FECB52"
          ],
          "font": {
           "color": "#2a3f5f"
          },
          "geo": {
           "bgcolor": "white",
           "lakecolor": "white",
           "landcolor": "#E5ECF6",
           "showlakes": true,
           "showland": true,
           "subunitcolor": "white"
          },
          "hoverlabel": {
           "align": "left"
          },
          "hovermode": "closest",
          "mapbox": {
           "style": "light"
          },
          "paper_bgcolor": "white",
          "plot_bgcolor": "#E5ECF6",
          "polar": {
           "angularaxis": {
            "gridcolor": "white",
            "linecolor": "white",
            "ticks": ""
           },
           "bgcolor": "#E5ECF6",
           "radialaxis": {
            "gridcolor": "white",
            "linecolor": "white",
            "ticks": ""
           }
          },
          "scene": {
           "xaxis": {
            "backgroundcolor": "#E5ECF6",
            "gridcolor": "white",
            "gridwidth": 2,
            "linecolor": "white",
            "showbackground": true,
            "ticks": "",
            "zerolinecolor": "white"
           },
           "yaxis": {
            "backgroundcolor": "#E5ECF6",
            "gridcolor": "white",
            "gridwidth": 2,
            "linecolor": "white",
            "showbackground": true,
            "ticks": "",
            "zerolinecolor": "white"
           },
           "zaxis": {
            "backgroundcolor": "#E5ECF6",
            "gridcolor": "white",
            "gridwidth": 2,
            "linecolor": "white",
            "showbackground": true,
            "ticks": "",
            "zerolinecolor": "white"
           }
          },
          "shapedefaults": {
           "line": {
            "color": "#2a3f5f"
           }
          },
          "ternary": {
           "aaxis": {
            "gridcolor": "white",
            "linecolor": "white",
            "ticks": ""
           },
           "baxis": {
            "gridcolor": "white",
            "linecolor": "white",
            "ticks": ""
           },
           "bgcolor": "#E5ECF6",
           "caxis": {
            "gridcolor": "white",
            "linecolor": "white",
            "ticks": ""
           }
          },
          "title": {
           "x": 0.05
          },
          "xaxis": {
           "automargin": true,
           "gridcolor": "white",
           "linecolor": "white",
           "ticks": "",
           "title": {
            "standoff": 15
           },
           "zerolinecolor": "white",
           "zerolinewidth": 2
          },
          "yaxis": {
           "automargin": true,
           "gridcolor": "white",
           "linecolor": "white",
           "ticks": "",
           "title": {
            "standoff": 15
           },
           "zerolinecolor": "white",
           "zerolinewidth": 2
          }
         }
        },
        "title": {
         "text": "Total nuclear electricity - Interactive Visualization"
        }
       }
      }
     },
     "metadata": {},
     "output_type": "display_data"
    }
   ],
   "source": [
    "\n",
    "df = pd.read_csv('nuclear_data/global-data-on-sustainable-energy (1).csv')\n",
    "aggregated_df['Total_Nuclear_Electricity'] = aggregated_df['Total_Nuclear_Electricity']\n",
    "\n",
    "\n",
    "fig = px.choropleth(aggregated_df,\n",
    "                    locations=\"Entity\",\n",
    "                    locationmode=\"country names\",\n",
    "                    color=\"Total_Nuclear_Electricity\",\n",
    "                    hover_name=\"Entity\",\n",
    "                    color_continuous_scale=px.colors.sequential.Plasma,\n",
    "                    title=\"Total nuclear electricity - Interactive Visualization\",\n",
    "                    labels={'Total nuclear electricity':'Total nuclear electricity'})\n",
    "\n",
    "fig.update_layout(\n",
    "    margin={\"r\": 0, \"t\": 40, \"l\": 0, \"b\": 0},\n",
    "    geo=dict(\n",
    "        showframe=False,\n",
    "        showcoastlines=True,\n",
    "        projection_type='natural earth'\n",
    "    ),\n",
    "    coloraxis_colorbar=dict(\n",
    "        title=\"Total nuclear electricity\",\n",
    "        thickness=15,\n",
    "        len=0.75\n",
    "    )\n",
    ")\n",
    "\n",
    "fig.update_traces(\n",
    "    marker_line_width=0.5,\n",
    "    marker_line_color='white',\n",
    "    selector=dict(type='choropleth')\n",
    ")\n",
    "\n",
    "fig.show()"
   ]
  },
  {
   "cell_type": "markdown",
   "id": "c2d50146",
   "metadata": {},
   "source": [
    "Global Energy Consumption by Source (1973-2022)\n",
    "This stacked area chart visualizes global energy consumption trends (1973-2022), showing the yearly breakdown between fossil fuels (red), nuclear (blue), and renewables (green). The dotted black line tracks total primary energy consumption, allowing comparison between individual sources and overall demand. Hovering reveals exact values, highlighting how fossil fuels dominate but renewables are gradually growing over time."
   ]
  },
  {
   "cell_type": "code",
   "execution_count": 24,
   "id": "7017f73d",
   "metadata": {},
   "outputs": [
    {
     "data": {
      "application/vnd.plotly.v1+json": {
       "config": {
        "plotlyServerURL": "https://plot.ly"
       },
       "data": [
        {
         "fillpattern": {
          "shape": ""
         },
         "hovertemplate": "<b>%{fullData.name}</b><br>Year: %{x}<br>Consumption: %{y:,.1f} quadrillion BTU<br><extra></extra>",
         "legendgroup": "Total Fossil Fuels Consumption",
         "line": {
          "color": "#E45756"
         },
         "marker": {
          "symbol": "circle"
         },
         "mode": "lines",
         "name": "Total Fossil Fuels Consumption",
         "orientation": "v",
         "showlegend": true,
         "stackgroup": "1",
         "type": "scatter",
         "x": {
          "bdata": "tQcAALYHAAC3BwAAuAcAALkHAAC6BwAAuwcAALwHAAC9BwAAvgcAAL8HAADABwAAwQcAAMIHAADDBwAAxAcAAMUHAADGBwAAxwcAAMgHAADJBwAAygcAAMsHAADMBwAAzQcAAM4HAADPBwAA0AcAANEHAADSBwAA0wcAANQHAADVBwAA1gcAANcHAADYBwAA2QcAANoHAADbBwAA3AcAAN0HAADeBwAA3wcAAOAHAADhBwAA4gcAAOMHAADkBwAA5QcAAOYHAAA=",
          "dtype": "i4"
         },
         "xaxis": "x",
         "y": {
          "bdata": "2/gTlQ2SUUDABG7dzfdQQDmX4qqyVFBA2EroLolEUUD03a0s0bxRQM3mcRjM81FAxoZu9gc2UkBz1TxH5HFRQKSMuAA04VBAnFQ01v7qT0DGbp9VZoxPQHlcVIuInFBA/l915EiCUECskV1pGX9QQBFwCFVqHlFAWYrkK4HgUUBHAg02dTdSQJKTiVsFElJA4jsx68X0UUCZ8Ev9vFVSQLt/LESHq1JAKpFEL6MJU0DEPZY+dEpTQL4xBADH7FNA9gfKbfsxVEB+GYwRiVFUQKgd/pqslFRAP47myMonVUBZpfRML7NUQAe3tYXn5VRAoYUEjC76VECsVbsmpGpVQBlTsMbZZ1VA3e16aYoeVUAJUb6ghXNVQNy8cVKYwlRAVyO70jJ3U0BljXqIRi5UQE93nnjO0FNAMA4uHXNTU0CuD+uNWs5TQKMBvAUSAVRAQRAgQ8fFU0DVPbK5apRTQGprRDAOelNA+gs9YvRRVEC6L2e2KxtUQFEzpIriRFJA0PHR4oxbU0CjsfZ3tvVRQA==",
          "dtype": "f8"
         },
         "yaxis": "y"
        },
        {
         "fillpattern": {
          "shape": ""
         },
         "hovertemplate": "<b>%{fullData.name}</b><br>Year: %{x}<br>Consumption: %{y:,.1f} quadrillion BTU<br><extra></extra>",
         "legendgroup": "Nuclear Electric Power Consumption",
         "line": {
          "color": "#4C78A8"
         },
         "marker": {
          "symbol": "circle"
         },
         "mode": "lines",
         "name": "Nuclear Electric Power Consumption",
         "orientation": "v",
         "showlegend": true,
         "stackgroup": "1",
         "type": "scatter",
         "x": {
          "bdata": "tQcAALYHAAC3BwAAuAcAALkHAAC6BwAAuwcAALwHAAC9BwAAvgcAAL8HAADABwAAwQcAAMIHAADDBwAAxAcAAMUHAADGBwAAxwcAAMgHAADJBwAAygcAAMsHAADMBwAAzQcAAM4HAADPBwAA0AcAANEHAADSBwAA0wcAANQHAADVBwAA1gcAANcHAADYBwAA2QcAANoHAADbBwAA3AcAAN0HAADeBwAA3wcAAOAHAADhBwAA4gcAAOMHAADkBwAA5QcAAOYHAAA=",
          "dtype": "i4"
         },
         "xaxis": "x",
         "y": {
          "bdata": "7zzxnC0g7T/iPJzAdFr0P2KfAIqRZf4/u7a3W5LjAEDBV3TrNZ0FQMUgsHJoMQhAixcLQ+Q0BkB3vMlv0ekFQJqw/WSMDwhAjjnP2JcMCUA2s5YC0p4JQJw1eF+VawxAjSYXY2BNEEA7qS9LO4URQKmhDcAGBBNALlOT4A1ZFkBi1ouhnGgWQDF72XbaahhAYB4y5UOwGUCdDmQ9teoZQCtLdJZZpBlAT8k5sYfGGkAh5SfVPk0cQPCFyVTBWBxAAOXv3lFjGkB5PC0/cEUcQEMDsWzmcB5Aj48WZwxzH0BxyAbSxQ4gQGvY74l1SiBApBZKJqfWH0BXzAhvD3IgQJOsw9FVUiBAXK0Tl+NtIEDZeoZwzOogQOIC0Chd2iBAL8VVZd+1IEB6ihwibt4gQJHvUuqSiSBAe2mKAKcfIEAWMewwJn0gQOHwgojUrCBA5PVgUnysIECV8IRef9ogQBwkRPmC1iBAJ9nqckrgIECvQzUlWecgQHbAdcWMgCBAPsqIC0A7IEBwBn+/mE0dQA==",
          "dtype": "f8"
         },
         "yaxis": "y"
        },
        {
         "fillpattern": {
          "shape": ""
         },
         "hovertemplate": "<b>%{fullData.name}</b><br>Year: %{x}<br>Consumption: %{y:,.1f} quadrillion BTU<br><extra></extra>",
         "legendgroup": "Total Renewable Energy Consumption",
         "line": {
          "color": "#54A24B"
         },
         "marker": {
          "symbol": "circle"
         },
         "mode": "lines",
         "name": "Total Renewable Energy Consumption",
         "orientation": "v",
         "showlegend": true,
         "stackgroup": "1",
         "type": "scatter",
         "x": {
          "bdata": "tQcAALYHAAC3BwAAuAcAALkHAAC6BwAAuwcAALwHAAC9BwAAvgcAAL8HAADABwAAwQcAAMIHAADDBwAAxAcAAMUHAADGBwAAxwcAAMgHAADJBwAAygcAAMsHAADMBwAAzQcAAM4HAADPBwAA0AcAANEHAADSBwAA0wcAANQHAADVBwAA1gcAANcHAADYBwAA2QcAANoHAADbBwAA3AcAAN0HAADeBwAA3wcAAOAHAADhBwAA4gcAAOMHAADkBwAA5QcAAOYHAAA=",
          "dtype": "i4"
         },
         "xaxis": "x",
         "y": {
          "bdata": "i90+q8ykEUCG4/kMqPcSQEuUvaWcvxJARiV1AproEkDfxftx+9UQQOs6VFOSBRRALLtgcM19FEBPAwZJn7YVQJj9utOdpxVAZM4z9iXrF0DJ42n5gfsZQAWlaOVewBlAZ341BwhWGEAUX+0oznEYQAyyZfm6fBZAzEQRUrfTFUBVwaikTvAYQCO8PQgBKRhA6+Oh725FGEA2I4PcRUgXQMCQ1a2eUxhAjxt+N93yF0AWZqGd0zwaQAyyZfm6DBxARx/zAYEOHEBgeZCeIvcZQDy9UpYhDhpAmIv4TsxqGEAb8s8M4qMUQEIHXcKh5xZAmUo/4ezGF0AibHh6pUwYQH6LTpZa7xhAzuSbbW6MGkBevYqMDhgaQAUWwJSBsxxA9fQR+MNvHkCPVN/5RYkgQDKQZ5dvbSJA44i1+BS4IUAkRs8tdO0iQENYjSWshSNAbynni71/I0DylNV0PdEkQBkfZi/bRiZAfAxWnGq9JkAMI72o3e8mQEK2LF+XCSdAnwWhvI9TKEAa3qzB+xooQA==",
          "dtype": "f8"
         },
         "yaxis": "y"
        },
        {
         "hovertemplate": "<b>Total Consumption</b><br>Year: %{x}<br>Total: %{y:,.1f} quadrillion BTU<br><extra></extra>",
         "line": {
          "color": "black",
          "dash": "dot",
          "width": 2
         },
         "name": "Total Consumption",
         "type": "scatter",
         "x": {
          "bdata": "tQcAALYHAAC3BwAAuAcAALkHAAC6BwAAuwcAALwHAAC9BwAAvgcAAL8HAADABwAAwQcAAMIHAADDBwAAxAcAAMUHAADGBwAAxwcAAMgHAADJBwAAygcAAMsHAADMBwAAzQcAAM4HAADPBwAA0AcAANEHAADSBwAA0wcAANQHAADVBwAA1gcAANcHAADYBwAA2QcAANoHAADbBwAA3AcAAN0HAADeBwAA3wcAAOAHAADhBwAA4gcAAOMHAADkBwAA5QcAAOYHAAA=",
          "dtype": "i4"
         },
         "y": {
          "bdata": "3Xu45LjpUkDDu1zEd3tSQAmlL4Sc+1FAzuLFwhD8UkCVKeYg6HpTQPpCyHn/+VNAtOTxtPwzVECJQzaQLoFTQC47xD9sA1NAE9OFWP1CUkCasz7lmDpSQJC7CFOUJFNAkZighm8VU0BpNo/DYCZTQN4+q8yUwFNAYwgAjj2qVEDo3O16aS9VQNEEiljEG1VA0IB6M2oYVUCwAny3eW5VQCiZnNoZ0VVA26fjMQM/VkAWpBmLprtWQCvbh7zle1dA2GSNeoigV0B1q+ek97pXQB9KtOTxIlhALGaEtwetWEDpRe1+FQRYQBgkfVpFYlhAgEdUqG51WEADXmbYKABZQED6Jk2DBllAo81xbhPZWEB7+Z0mMzlZQKClK9hGsFhATgeynlp8V0C45SMp6WBYQMVZETXRN1hAjlw3pbyYV0Ch9ls7UUhYQLgf8MAAk1hAsvFgi91ZWEC/Y3jsZ1hYQKm7sgsGalhAe7slOWBPWUC9iSE5mR5ZQKndrwJ8QFdAGsQHdvx1WEDPMLWlDtZWQA==",
          "dtype": "f8"
         }
        }
       ],
       "layout": {
        "hovermode": "x unified",
        "legend": {
         "orientation": "h",
         "title": {
          "text": "Energy Source"
         },
         "tracegroupgap": 0,
         "x": 1,
         "xanchor": "right",
         "y": 1.02,
         "yanchor": "bottom"
        },
        "template": {
         "data": {
          "bar": [
           {
            "error_x": {
             "color": "#2a3f5f"
            },
            "error_y": {
             "color": "#2a3f5f"
            },
            "marker": {
             "line": {
              "color": "#E5ECF6",
              "width": 0.5
             },
             "pattern": {
              "fillmode": "overlay",
              "size": 10,
              "solidity": 0.2
             }
            },
            "type": "bar"
           }
          ],
          "barpolar": [
           {
            "marker": {
             "line": {
              "color": "#E5ECF6",
              "width": 0.5
             },
             "pattern": {
              "fillmode": "overlay",
              "size": 10,
              "solidity": 0.2
             }
            },
            "type": "barpolar"
           }
          ],
          "carpet": [
           {
            "aaxis": {
             "endlinecolor": "#2a3f5f",
             "gridcolor": "white",
             "linecolor": "white",
             "minorgridcolor": "white",
             "startlinecolor": "#2a3f5f"
            },
            "baxis": {
             "endlinecolor": "#2a3f5f",
             "gridcolor": "white",
             "linecolor": "white",
             "minorgridcolor": "white",
             "startlinecolor": "#2a3f5f"
            },
            "type": "carpet"
           }
          ],
          "choropleth": [
           {
            "colorbar": {
             "outlinewidth": 0,
             "ticks": ""
            },
            "type": "choropleth"
           }
          ],
          "contour": [
           {
            "colorbar": {
             "outlinewidth": 0,
             "ticks": ""
            },
            "colorscale": [
             [
              0,
              "#0d0887"
             ],
             [
              0.1111111111111111,
              "#46039f"
             ],
             [
              0.2222222222222222,
              "#7201a8"
             ],
             [
              0.3333333333333333,
              "#9c179e"
             ],
             [
              0.4444444444444444,
              "#bd3786"
             ],
             [
              0.5555555555555556,
              "#d8576b"
             ],
             [
              0.6666666666666666,
              "#ed7953"
             ],
             [
              0.7777777777777778,
              "#fb9f3a"
             ],
             [
              0.8888888888888888,
              "#fdca26"
             ],
             [
              1,
              "#f0f921"
             ]
            ],
            "type": "contour"
           }
          ],
          "contourcarpet": [
           {
            "colorbar": {
             "outlinewidth": 0,
             "ticks": ""
            },
            "type": "contourcarpet"
           }
          ],
          "heatmap": [
           {
            "colorbar": {
             "outlinewidth": 0,
             "ticks": ""
            },
            "colorscale": [
             [
              0,
              "#0d0887"
             ],
             [
              0.1111111111111111,
              "#46039f"
             ],
             [
              0.2222222222222222,
              "#7201a8"
             ],
             [
              0.3333333333333333,
              "#9c179e"
             ],
             [
              0.4444444444444444,
              "#bd3786"
             ],
             [
              0.5555555555555556,
              "#d8576b"
             ],
             [
              0.6666666666666666,
              "#ed7953"
             ],
             [
              0.7777777777777778,
              "#fb9f3a"
             ],
             [
              0.8888888888888888,
              "#fdca26"
             ],
             [
              1,
              "#f0f921"
             ]
            ],
            "type": "heatmap"
           }
          ],
          "histogram": [
           {
            "marker": {
             "pattern": {
              "fillmode": "overlay",
              "size": 10,
              "solidity": 0.2
             }
            },
            "type": "histogram"
           }
          ],
          "histogram2d": [
           {
            "colorbar": {
             "outlinewidth": 0,
             "ticks": ""
            },
            "colorscale": [
             [
              0,
              "#0d0887"
             ],
             [
              0.1111111111111111,
              "#46039f"
             ],
             [
              0.2222222222222222,
              "#7201a8"
             ],
             [
              0.3333333333333333,
              "#9c179e"
             ],
             [
              0.4444444444444444,
              "#bd3786"
             ],
             [
              0.5555555555555556,
              "#d8576b"
             ],
             [
              0.6666666666666666,
              "#ed7953"
             ],
             [
              0.7777777777777778,
              "#fb9f3a"
             ],
             [
              0.8888888888888888,
              "#fdca26"
             ],
             [
              1,
              "#f0f921"
             ]
            ],
            "type": "histogram2d"
           }
          ],
          "histogram2dcontour": [
           {
            "colorbar": {
             "outlinewidth": 0,
             "ticks": ""
            },
            "colorscale": [
             [
              0,
              "#0d0887"
             ],
             [
              0.1111111111111111,
              "#46039f"
             ],
             [
              0.2222222222222222,
              "#7201a8"
             ],
             [
              0.3333333333333333,
              "#9c179e"
             ],
             [
              0.4444444444444444,
              "#bd3786"
             ],
             [
              0.5555555555555556,
              "#d8576b"
             ],
             [
              0.6666666666666666,
              "#ed7953"
             ],
             [
              0.7777777777777778,
              "#fb9f3a"
             ],
             [
              0.8888888888888888,
              "#fdca26"
             ],
             [
              1,
              "#f0f921"
             ]
            ],
            "type": "histogram2dcontour"
           }
          ],
          "mesh3d": [
           {
            "colorbar": {
             "outlinewidth": 0,
             "ticks": ""
            },
            "type": "mesh3d"
           }
          ],
          "parcoords": [
           {
            "line": {
             "colorbar": {
              "outlinewidth": 0,
              "ticks": ""
             }
            },
            "type": "parcoords"
           }
          ],
          "pie": [
           {
            "automargin": true,
            "type": "pie"
           }
          ],
          "scatter": [
           {
            "fillpattern": {
             "fillmode": "overlay",
             "size": 10,
             "solidity": 0.2
            },
            "type": "scatter"
           }
          ],
          "scatter3d": [
           {
            "line": {
             "colorbar": {
              "outlinewidth": 0,
              "ticks": ""
             }
            },
            "marker": {
             "colorbar": {
              "outlinewidth": 0,
              "ticks": ""
             }
            },
            "type": "scatter3d"
           }
          ],
          "scattercarpet": [
           {
            "marker": {
             "colorbar": {
              "outlinewidth": 0,
              "ticks": ""
             }
            },
            "type": "scattercarpet"
           }
          ],
          "scattergeo": [
           {
            "marker": {
             "colorbar": {
              "outlinewidth": 0,
              "ticks": ""
             }
            },
            "type": "scattergeo"
           }
          ],
          "scattergl": [
           {
            "marker": {
             "colorbar": {
              "outlinewidth": 0,
              "ticks": ""
             }
            },
            "type": "scattergl"
           }
          ],
          "scattermap": [
           {
            "marker": {
             "colorbar": {
              "outlinewidth": 0,
              "ticks": ""
             }
            },
            "type": "scattermap"
           }
          ],
          "scattermapbox": [
           {
            "marker": {
             "colorbar": {
              "outlinewidth": 0,
              "ticks": ""
             }
            },
            "type": "scattermapbox"
           }
          ],
          "scatterpolar": [
           {
            "marker": {
             "colorbar": {
              "outlinewidth": 0,
              "ticks": ""
             }
            },
            "type": "scatterpolar"
           }
          ],
          "scatterpolargl": [
           {
            "marker": {
             "colorbar": {
              "outlinewidth": 0,
              "ticks": ""
             }
            },
            "type": "scatterpolargl"
           }
          ],
          "scatterternary": [
           {
            "marker": {
             "colorbar": {
              "outlinewidth": 0,
              "ticks": ""
             }
            },
            "type": "scatterternary"
           }
          ],
          "surface": [
           {
            "colorbar": {
             "outlinewidth": 0,
             "ticks": ""
            },
            "colorscale": [
             [
              0,
              "#0d0887"
             ],
             [
              0.1111111111111111,
              "#46039f"
             ],
             [
              0.2222222222222222,
              "#7201a8"
             ],
             [
              0.3333333333333333,
              "#9c179e"
             ],
             [
              0.4444444444444444,
              "#bd3786"
             ],
             [
              0.5555555555555556,
              "#d8576b"
             ],
             [
              0.6666666666666666,
              "#ed7953"
             ],
             [
              0.7777777777777778,
              "#fb9f3a"
             ],
             [
              0.8888888888888888,
              "#fdca26"
             ],
             [
              1,
              "#f0f921"
             ]
            ],
            "type": "surface"
           }
          ],
          "table": [
           {
            "cells": {
             "fill": {
              "color": "#EBF0F8"
             },
             "line": {
              "color": "white"
             }
            },
            "header": {
             "fill": {
              "color": "#C8D4E3"
             },
             "line": {
              "color": "white"
             }
            },
            "type": "table"
           }
          ]
         },
         "layout": {
          "annotationdefaults": {
           "arrowcolor": "#2a3f5f",
           "arrowhead": 0,
           "arrowwidth": 1
          },
          "autotypenumbers": "strict",
          "coloraxis": {
           "colorbar": {
            "outlinewidth": 0,
            "ticks": ""
           }
          },
          "colorscale": {
           "diverging": [
            [
             0,
             "#8e0152"
            ],
            [
             0.1,
             "#c51b7d"
            ],
            [
             0.2,
             "#de77ae"
            ],
            [
             0.3,
             "#f1b6da"
            ],
            [
             0.4,
             "#fde0ef"
            ],
            [
             0.5,
             "#f7f7f7"
            ],
            [
             0.6,
             "#e6f5d0"
            ],
            [
             0.7,
             "#b8e186"
            ],
            [
             0.8,
             "#7fbc41"
            ],
            [
             0.9,
             "#4d9221"
            ],
            [
             1,
             "#276419"
            ]
           ],
           "sequential": [
            [
             0,
             "#0d0887"
            ],
            [
             0.1111111111111111,
             "#46039f"
            ],
            [
             0.2222222222222222,
             "#7201a8"
            ],
            [
             0.3333333333333333,
             "#9c179e"
            ],
            [
             0.4444444444444444,
             "#bd3786"
            ],
            [
             0.5555555555555556,
             "#d8576b"
            ],
            [
             0.6666666666666666,
             "#ed7953"
            ],
            [
             0.7777777777777778,
             "#fb9f3a"
            ],
            [
             0.8888888888888888,
             "#fdca26"
            ],
            [
             1,
             "#f0f921"
            ]
           ],
           "sequentialminus": [
            [
             0,
             "#0d0887"
            ],
            [
             0.1111111111111111,
             "#46039f"
            ],
            [
             0.2222222222222222,
             "#7201a8"
            ],
            [
             0.3333333333333333,
             "#9c179e"
            ],
            [
             0.4444444444444444,
             "#bd3786"
            ],
            [
             0.5555555555555556,
             "#d8576b"
            ],
            [
             0.6666666666666666,
             "#ed7953"
            ],
            [
             0.7777777777777778,
             "#fb9f3a"
            ],
            [
             0.8888888888888888,
             "#fdca26"
            ],
            [
             1,
             "#f0f921"
            ]
           ]
          },
          "colorway": [
           "#636efa",
           "#EF553B",
           "#00cc96",
           "#ab63fa",
           "#FFA15A",
           "#19d3f3",
           "#FF6692",
           "#B6E880",
           "#FF97FF",
           "#FECB52"
          ],
          "font": {
           "color": "#2a3f5f"
          },
          "geo": {
           "bgcolor": "white",
           "lakecolor": "white",
           "landcolor": "#E5ECF6",
           "showlakes": true,
           "showland": true,
           "subunitcolor": "white"
          },
          "hoverlabel": {
           "align": "left"
          },
          "hovermode": "closest",
          "mapbox": {
           "style": "light"
          },
          "paper_bgcolor": "white",
          "plot_bgcolor": "#E5ECF6",
          "polar": {
           "angularaxis": {
            "gridcolor": "white",
            "linecolor": "white",
            "ticks": ""
           },
           "bgcolor": "#E5ECF6",
           "radialaxis": {
            "gridcolor": "white",
            "linecolor": "white",
            "ticks": ""
           }
          },
          "scene": {
           "xaxis": {
            "backgroundcolor": "#E5ECF6",
            "gridcolor": "white",
            "gridwidth": 2,
            "linecolor": "white",
            "showbackground": true,
            "ticks": "",
            "zerolinecolor": "white"
           },
           "yaxis": {
            "backgroundcolor": "#E5ECF6",
            "gridcolor": "white",
            "gridwidth": 2,
            "linecolor": "white",
            "showbackground": true,
            "ticks": "",
            "zerolinecolor": "white"
           },
           "zaxis": {
            "backgroundcolor": "#E5ECF6",
            "gridcolor": "white",
            "gridwidth": 2,
            "linecolor": "white",
            "showbackground": true,
            "ticks": "",
            "zerolinecolor": "white"
           }
          },
          "shapedefaults": {
           "line": {
            "color": "#2a3f5f"
           }
          },
          "ternary": {
           "aaxis": {
            "gridcolor": "white",
            "linecolor": "white",
            "ticks": ""
           },
           "baxis": {
            "gridcolor": "white",
            "linecolor": "white",
            "ticks": ""
           },
           "bgcolor": "#E5ECF6",
           "caxis": {
            "gridcolor": "white",
            "linecolor": "white",
            "ticks": ""
           }
          },
          "title": {
           "x": 0.05
          },
          "xaxis": {
           "automargin": true,
           "gridcolor": "white",
           "linecolor": "white",
           "ticks": "",
           "title": {
            "standoff": 15
           },
           "zerolinecolor": "white",
           "zerolinewidth": 2
          },
          "yaxis": {
           "automargin": true,
           "gridcolor": "white",
           "linecolor": "white",
           "ticks": "",
           "title": {
            "standoff": 15
           },
           "zerolinecolor": "white",
           "zerolinewidth": 2
          }
         }
        },
        "title": {
         "text": "Global Energy Consumption by Source (1973-2022)"
        },
        "xaxis": {
         "anchor": "y",
         "domain": [
          0,
          1
         ],
         "title": {
          "text": "Year"
         }
        },
        "yaxis": {
         "anchor": "x",
         "domain": [
          0,
          1
         ],
         "title": {
          "text": "Energy Consumption (quadrillion BTU)"
         }
        }
       }
      }
     },
     "metadata": {},
     "output_type": "display_data"
    }
   ],
   "source": [
    "\n",
    "df = pd.read_csv('nuclear_data/World Energy Overview.csv')\n",
    "\n",
    "df['Date'] = pd.to_datetime(df['Date'])\n",
    "df['Year'] = df['Date'].dt.year\n",
    "\n",
    "yearly_df = df.groupby('Year').agg({\n",
    "    'Total Fossil Fuels Consumption': 'sum',\n",
    "    'Nuclear Electric Power Consumption': 'sum',\n",
    "    'Total Renewable Energy Consumption': 'sum',\n",
    "    'Total Primary Energy Consumption': 'sum'\n",
    "}).reset_index()\n",
    "\n",
    "fig = px.area(\n",
    "    yearly_df,\n",
    "    x='Year',\n",
    "    y=['Total Fossil Fuels Consumption', 'Nuclear Electric Power Consumption', 'Total Renewable Energy Consumption'],\n",
    "    title='Global Energy Consumption by Source (1973-2022)',\n",
    "    labels={\n",
    "        'value': 'Energy Consumption (quadrillion BTU)',\n",
    "        'Year': 'Year',\n",
    "        'variable': 'Energy Source'\n",
    "    },\n",
    "    color_discrete_map={\n",
    "        'Total Fossil Fuels Consumption': '#E45756',\n",
    "        'Nuclear Electric Power Consumption': '#4C78A8',\n",
    "        'Total Renewable Energy Consumption': '#54A24B'\n",
    "    }\n",
    ")\n",
    "\n",
    "fig.update_layout(\n",
    "    hovermode='x unified',\n",
    "    yaxis=dict(title='Energy Consumption (quadrillion BTU)'),\n",
    "    legend=dict(\n",
    "        title='Energy Source',\n",
    "        orientation='h',\n",
    "        yanchor='bottom',\n",
    "        y=1.02,\n",
    "        xanchor='right',\n",
    "        x=1\n",
    "    )\n",
    ")\n",
    "\n",
    "fig.update_traces(\n",
    "    hovertemplate='<b>%{fullData.name}</b><br>' +\n",
    "                  'Year: %{x}<br>' +\n",
    "                  'Consumption: %{y:,.1f} quadrillion BTU<br>' +\n",
    "                  '<extra></extra>'\n",
    ")\n",
    "\n",
    "fig.add_scatter(\n",
    "    x=yearly_df['Year'],\n",
    "    y=yearly_df['Total Primary Energy Consumption'],\n",
    "    name='Total Consumption',\n",
    "    line=dict(color='black', width=2, dash='dot'),\n",
    "    hovertemplate='<b>Total Consumption</b><br>' +\n",
    "                  'Year: %{x}<br>' +\n",
    "                  'Total: %{y:,.1f} quadrillion BTU<br>' +\n",
    "                  '<extra></extra>'\n",
    ")\n",
    "\n",
    "fig.show()"
   ]
  },
  {
   "cell_type": "markdown",
   "id": "4088f663",
   "metadata": {},
   "source": [
    "## Nuclear incidents worldwide\n",
    "\n",
    "This section focuses on nuclear incidents worldwide. This ties into perspective 2.\n",
    "\n",
    "Nuclear Incidents Worldwide\n",
    "This map displays global nuclear incidents, with each red marker representing a specific event (e.g., accidents, leaks, or disasters). Hovering over a marker reveals details like the incident name, location, date, casualties, and INES severity level. The visualization helps identify high-risk areas and compare the scale of different nuclear incidents worldwide."
   ]
  },
  {
   "cell_type": "code",
   "execution_count": 25,
   "id": "2a623589",
   "metadata": {},
   "outputs": [
    {
     "data": {
      "application/vnd.plotly.v1+json": {
       "config": {
        "plotlyServerURL": "https://plot.ly"
       },
       "data": [
        {
         "customdata": [
          [
           "<b>Incident:</b> Kyshtym disaster<br><b>Location:</b> Mayak, Kyshtym, Soviet Union<br><b>Date:</b> 29/09/1957<br><b>Direct Deaths:</b> Unknown<br><b>Indirect Deaths:</b> 200<br><b>Category:</b> Storage/Handling<br><b>INES Level:</b> 6.0<br><b>Latitude:</b> 55.7131<br><b>Longitude:</b> 60.8526",
           55.7131,
           60.8526
          ],
          [
           "<b>Incident:</b> Windscale fire<br><b>Location:</b> Sellafield, Cumberland, United Kingdom<br><b>Date:</b> 10/10/1957<br><b>Direct Deaths:</b> 0.0<br><b>Indirect Deaths:</b> 240<br><b>Category:</b> Operational/Safety Measures<br><b>INES Level:</b> 5.0<br><b>Latitude:</b> 54.4167<br><b>Longitude:</b> -3.4833",
           54.4167,
           -3.4833
          ],
          [
           "<b>Incident:</b> SL-1 prototype explosion<br><b>Location:</b> Idaho Falls, Idaho, United States<br><b>Date:</b> 03/01/1961<br><b>Direct Deaths:</b> 3.0<br><b>Indirect Deaths:</b> Unknown<br><b>Category:</b> Operator Error<br><b>INES Level:</b> 4.0<br><b>Latitude:</b> 43.492<br><b>Longitude:</b> -112.0401",
           43.492,
           -112.0401
          ],
          [
           "<b>Incident:</b> Fermi 1 Reactor meltdown<br><b>Location:</b> Frenchtown Charter Township, Michigan, United States<br><b>Date:</b> 05/10/1966<br><b>Direct Deaths:</b> 0.0<br><b>Indirect Deaths:</b> Unknown<br><b>Category:</b> Technical Flaws<br><b>INES Level:</b> 4.0<br><b>Latitude:</b> 41.9562<br><b>Longitude:</b> -83.6639",
           41.9562,
           -83.6639
          ],
          [
           "<b>Incident:</b> Loss-of-Coolant Accident (January 21, 1969)<br><b>Location:</b> Lucens reactor, Vaud, Switzerland<br><b>Date:</b> 21/01/1969<br><b>Direct Deaths:</b> 0.0<br><b>Indirect Deaths:</b> Unknown<br><b>Category:</b> Operator Error<br><b>INES Level:</b> 4.0<br><b>Latitude:</b> 46.6772<br><b>Longitude:</b> 6.875",
           46.6772,
           6.875
          ],
          [
           "<b>Incident:</b> Greifswald Nuclear Power Plant fire<br><b>Location:</b> Greifswald, East Germany<br><b>Date:</b> 07/12/1975<br><b>Direct Deaths:</b> 0.0<br><b>Indirect Deaths:</b> Unknown<br><b>Category:</b> Electrical Error<br><b>INES Level:</b> 3.0<br><b>Latitude:</b> 54.0833<br><b>Longitude:</b> 13.3833",
           54.0833,
           13.3833
          ],
          [
           "<b>Incident:</b> Fuel Rod Ejection during Fuel Replacement<br><b>Location:</b> Jaslovské Bohunice, Czechoslovakia<br><b>Date:</b> 05/01/1976<br><b>Direct Deaths:</b> 2.0<br><b>Indirect Deaths:</b> Unknown<br><b>Category:</b> Operator Error<br><b>INES Level:</b> 4.0<br><b>Latitude:</b> 48.452<br><b>Longitude:</b> 17.8197",
           48.452,
           17.8197
          ],
          [
           "<b>Incident:</b> Partial Core Meltdown (Operator Errors)<br><b>Location:</b> Three Mile Island, Pennsylvania, United States<br><b>Date:</b> 28/03/1979<br><b>Direct Deaths:</b> 0.0<br><b>Indirect Deaths:</b> Unknown<br><b>Category:</b> Operator/Technical Flaws<br><b>INES Level:</b> 5.0<br><b>Latitude:</b> 40.1575<br><b>Longitude:</b> -76.7022",
           40.1575,
           -76.7022
          ],
          [
           "<b>Incident:</b> Browns Ferry Unit 2 Outage (Six-Year<br><b>Location:</b> Athens, Alabama, United States<br><b>Date:</b> 15/09/1984<br><b>Direct Deaths:</b> 0.0<br><b>Indirect Deaths:</b> Unknown<br><b>Category:</b> Safety Violations/Design Problems<br><b>INES Level:</b> Unknown<br><b>Latitude:</b> 34.8029<br><b>Longitude:</b> -86.9717",
           34.8029,
           -86.9717
          ],
          [
           "<b>Incident:</b> Browns Ferry Units Startup Malfunction<br><b>Location:</b> Athens, Alabama, United States<br><b>Date:</b> 09/03/1985<br><b>Direct Deaths:</b> 0.0<br><b>Indirect Deaths:</b> Unknown<br><b>Category:</b> Instrumentation Malfunction<br><b>INES Level:</b> Unknown<br><b>Latitude:</b> 34.8029<br><b>Longitude:</b> -86.9717",
           34.8029,
           -86.9717
          ],
          [
           "<b>Incident:</b> Pilgrim Nuclear Power Plant Emergency Shutdown<br><b>Location:</b> Plymouth, Massachusetts, United States<br><b>Date:</b> 11/04/1986<br><b>Direct Deaths:</b> 0.0<br><b>Indirect Deaths:</b> Unknown<br><b>Category:</b> Equipment Problems<br><b>INES Level:</b> Unknown<br><b>Latitude:</b> 41.9584<br><b>Longitude:</b> -70.6673",
           41.9584,
           -70.6673
          ],
          [
           "<b>Incident:</b> Chernobyl disaster<br><b>Location:</b> Chernobyl, Chernobyl Raion (now Vyshhorod Raion), Kiev Oblast, Ukrainian SSR, Soviet Union<br><b>Date:</b> 26/04/1986<br><b>Direct Deaths:</b> 28.0<br><b>Indirect Deaths:</b> 4,000<br><b>Category:</b> Design/Safety Procedures<br><b>INES Level:</b> 7.0<br><b>Latitude:</b> 51.2763<br><b>Longitude:</b> 30.2219",
           51.2763,
           30.2219
          ],
          [
           "<b>Incident:</b> THTR-300 reactor<br><b>Location:</b> Hamm-Uentrop, West Germany<br><b>Date:</b> 04/05/1986<br><b>Direct Deaths:</b> 0.0<br><b>Indirect Deaths:</b> Unknown<br><b>Category:</b> Experimental Operation<br><b>INES Level:</b> Unknown<br><b>Latitude:</b> 51.6651<br><b>Longitude:</b> 7.8768",
           51.6651,
           7.8768
          ],
          [
           "<b>Incident:</b> Surry Nuclear Power Plant pipe break<br><b>Location:</b> Surry, Virginia, United States<br><b>Date:</b> 09/12/1986<br><b>Direct Deaths:</b> 4.0<br><b>Indirect Deaths:</b> Unknown<br><b>Category:</b> Equipment Failure<br><b>INES Level:</b> Unknown<br><b>Latitude:</b> 37.1508<br><b>Longitude:</b> -76.8164",
           37.1508,
           -76.8164
          ],
          [
           "<b>Incident:</b> Peach Bottom units shutdown<br><b>Location:</b> Delta, Pennsylvania, United States<br><b>Date:</b> 31/03/1987<br><b>Direct Deaths:</b> 0.0<br><b>Indirect Deaths:</b> Unknown<br><b>Category:</b> Cooling Malfunctions<br><b>INES Level:</b> Unknown<br><b>Latitude:</b> 39.9484<br><b>Longitude:</b> -76.5684",
           39.9484,
           -76.5684
          ],
          [
           "<b>Incident:</b> Niagara Mohawk Power Corporation shutdown<br><b>Location:</b> Lycoming, New York, United States<br><b>Date:</b> 19/12/1987<br><b>Direct Deaths:</b> 0.0<br><b>Indirect Deaths:</b> Unknown<br><b>Category:</b> Malfunctions<br><b>INES Level:</b> Unknown<br><b>Latitude:</b> 42.223<br><b>Longitude:</b> -76.9957",
           42.223,
           -76.9957
          ],
          [
           "<b>Incident:</b> Calvert Cliff Units extended shutdown<br><b>Location:</b> Lusby, Maryland, United States<br><b>Date:</b> 17/03/1989<br><b>Direct Deaths:</b> 0.0<br><b>Indirect Deaths:</b> Unknown<br><b>Category:</b> Inspection Findings<br><b>INES Level:</b> Unknown<br><b>Latitude:</b> 38.3589<br><b>Longitude:</b> -76.4331",
           38.3589,
           -76.4331
          ],
          [
           "<b>Incident:</b> Vandellòs nuclear power plant accident<br><b>Location:</b> Vandellòs, Spain<br><b>Date:</b> 19/10/1989<br><b>Direct Deaths:</b> 0.0<br><b>Indirect Deaths:</b> Unknown<br><b>Category:</b> Cooling System Failure<br><b>INES Level:</b> 3.0<br><b>Latitude:</b> 41.0469<br><b>Longitude:</b> 0.891",
           41.0469,
           0.891
          ],
          [
           "<b>Incident:</b> Sosnovy Bor nuclear plant accident<br><b>Location:</b> Sosnovy Bor, Leningrad Oblast, Russia<br><b>Date:</b> 01/03/1992<br><b>Direct Deaths:</b> Unknown<br><b>Indirect Deaths:</b> Unknown<br><b>Category:</b> Equipment Rupture<br><b>INES Level:</b> Unknown<br><b>Latitude:</b> 59.9043<br><b>Longitude:</b> 29.0968",
           59.9043,
           29.0968
          ],
          [
           "<b>Incident:</b> Millstone Nuclear Power Plant shutdown<br><b>Location:</b> Waterford, Connecticut, United States<br><b>Date:</b> 20/02/1996<br><b>Direct Deaths:</b> 0.0<br><b>Indirect Deaths:</b> Unknown<br><b>Category:</b> Valve Leak<br><b>INES Level:</b> Unknown<br><b>Latitude:</b> 41.3557<br><b>Longitude:</b> -72.1564",
           41.3557,
           -72.1564
          ],
          [
           "<b>Incident:</b> Crystal River Unit 3 shutdown<br><b>Location:</b> Crystal River, Florida, United States<br><b>Date:</b> 02/09/1996<br><b>Direct Deaths:</b> 0.0<br><b>Indirect Deaths:</b> Unknown<br><b>Category:</b> Equipment Malfunction<br><b>INES Level:</b> Unknown<br><b>Latitude:</b> 28.9744<br><b>Longitude:</b> -82.648",
           28.9744,
           -82.648
          ],
          [
           "<b>Incident:</b> Tokaimura nuclear accident<br><b>Location:</b> Ibaraki Prefecture, Japan<br><b>Date:</b> 30/09/1999<br><b>Direct Deaths:</b> 2.0<br><b>Indirect Deaths:</b> Unknown<br><b>Category:</b> Operational/Safety Procedures<br><b>INES Level:</b> 4.0<br><b>Latitude:</b> 36.3075<br><b>Longitude:</b> 140.3196",
           36.3075,
           140.3196
          ],
          [
           "<b>Incident:</b> Davis-Besse reactor outage<br><b>Location:</b> Oak Harbor, Ohio, United States<br><b>Date:</b> 16/02/2002<br><b>Direct Deaths:</b> 0.0<br><b>Indirect Deaths:</b> Unknown<br><b>Category:</b> Corrosion<br><b>INES Level:</b> 3.0<br><b>Latitude:</b> 41.5145<br><b>Longitude:</b> -83.146",
           41.5145,
           -83.146
          ],
          [
           "<b>Incident:</b> Paks Nuclear Power Plant fuel rod collapse<br><b>Location:</b> Paks, Hungary<br><b>Date:</b> 10/04/2003<br><b>Direct Deaths:</b> 0.0<br><b>Indirect Deaths:</b> Unknown<br><b>Category:</b> Corrosion Cleaning<br><b>INES Level:</b> 3.0<br><b>Latitude:</b> 46.5824<br><b>Longitude:</b> 18.8467",
           46.5824,
           18.8467
          ],
          [
           "<b>Incident:</b> Mihama Nuclear Power Plant explosion<br><b>Location:</b> Fukui Prefecture, Japan<br><b>Date:</b> 09/08/2004<br><b>Direct Deaths:</b> 4.0<br><b>Indirect Deaths:</b> Unknown<br><b>Category:</b> Steam Explosion<br><b>INES Level:</b> 1.0<br><b>Latitude:</b> 35.6581<br><b>Longitude:</b> 136.1267",
           35.6581,
           136.1267
          ],
          [
           "<b>Incident:</b> Forsmark Nuclear Power Plant electrical fault<br><b>Location:</b> Forsmark, Sweden<br><b>Date:</b> 25/07/2006<br><b>Direct Deaths:</b> 0.0<br><b>Indirect Deaths:</b> Unknown<br><b>Category:</b> Safety Systems Failure<br><b>INES Level:</b> 2.0<br><b>Latitude:</b> 60.4054<br><b>Longitude:</b> 18.2127",
           60.4054,
           18.2127
          ],
          [
           "<b>Incident:</b> Fukushima nuclear disaster<br><b>Location:</b> Fukushima, Japan<br><b>Date:</b> 11/03/2011<br><b>Direct Deaths:</b> 4.0<br><b>Indirect Deaths:</b> Unknown<br><b>Category:</b> Natural Disaster/Operational Failure<br><b>INES Level:</b> 7.0<br><b>Latitude:</b> 37.7749<br><b>Longitude:</b> 140.4694",
           37.7749,
           140.4694
          ],
          [
           "<b>Incident:</b> Marcoule Nuclear Site blast<br><b>Location:</b> Marcoule, France<br><b>Date:</b> 12/09/2011<br><b>Direct Deaths:</b> 1.0<br><b>Indirect Deaths:</b> Unknown<br><b>Category:</b> Industrial Accident<br><b>INES Level:</b> Unknown<br><b>Latitude:</b> 44.1467<br><b>Longitude:</b> 4.7528",
           44.1467,
           4.7528
          ]
         ],
         "geo": "geo",
         "hovertemplate": "%{customdata[0]}<extra></extra>",
         "hovertext": [
          "Kyshtym disaster",
          "Windscale fire",
          "SL-1 prototype explosion",
          "Fermi 1 Reactor meltdown",
          "Loss-of-Coolant Accident (January 21, 1969)",
          "Greifswald Nuclear Power Plant fire",
          "Fuel Rod Ejection during Fuel Replacement",
          "Partial Core Meltdown (Operator Errors)",
          "Browns Ferry Unit 2 Outage (Six-Year",
          "Browns Ferry Units Startup Malfunction",
          "Pilgrim Nuclear Power Plant Emergency Shutdown",
          "Chernobyl disaster",
          "THTR-300 reactor",
          "Surry Nuclear Power Plant pipe break",
          "Peach Bottom units shutdown",
          "Niagara Mohawk Power Corporation shutdown",
          "Calvert Cliff Units extended shutdown",
          "Vandellòs nuclear power plant accident",
          "Sosnovy Bor nuclear plant accident",
          "Millstone Nuclear Power Plant shutdown",
          "Crystal River Unit 3 shutdown",
          "Tokaimura nuclear accident",
          "Davis-Besse reactor outage",
          "Paks Nuclear Power Plant fuel rod collapse",
          "Mihama Nuclear Power Plant explosion",
          "Forsmark Nuclear Power Plant electrical fault",
          "Fukushima nuclear disaster",
          "Marcoule Nuclear Site blast"
         ],
         "lat": {
          "bdata": "iGNd3EbbS0AhH/RsVjVLQOXQItv5vkVAtTf4wmT6RED0bFZ9rlZHQN/gC5OpCktAYOXQIts5SEBcj8L1KBREQK36XG3FZkFArfpcbcVmQUBCPujZrPpEQEHxY8xdo0lA6Ugu/yHVSUBPHhZqTZNCQGHD0ytl+UNABoGVQ4scRUBnRGlv8C1DQFkXt9EAhkRA6+I2GsDzTUD2l92Th61EQO84RUdy+TxAj8L1KFwnQkBg5dAi28FEQF+YTBWMSkdAsb/snjzUQUAy5q4l5DNOQNDVVuwv40JAXynLEMcSRkA=",
          "dtype": "f8"
         },
         "legendgroup": "",
         "lon": {
          "bdata": "6Ugu/yFtTkAgQfFjzN0LwHQkl/+QAlzAH/RsVn3qVMAAAAAAAIAbQBUdyeU/xCpA/Yf029fRMUAU0ETY8CxTwHxhMlUwvlXAfGEyVTC+VcC7Jw8LtapRwH/7OnDOOD5A/Yf029eBH0AVHcnlPzRTwPjCZKpgJFPAJCh+jLk/U8By+Q/ptxtTwFCNl24Sg+w/uECC4scYPUALRiV1AgpSwLbz/dR4qVTAp3nHKTqKYUDTTWIQWMlUwPCFyVTB2DJA54wo7Q0EYUD129eBczYyQMIXJlMFj2FAF7fRAN4CE0A=",
          "dtype": "f8"
         },
         "marker": {
          "color": "red",
          "size": 10,
          "symbol": "circle"
         },
         "mode": "markers",
         "name": "",
         "showlegend": false,
         "type": "scattergeo"
        }
       ],
       "layout": {
        "geo": {
         "center": {},
         "countrycolor": "Black",
         "domain": {
          "x": [
           0,
           1
          ],
          "y": [
           0,
           1
          ]
         },
         "oceancolor": "LightBlue",
         "projection": {
          "type": "natural earth"
         },
         "showcountries": true,
         "showocean": true
        },
        "height": 600,
        "legend": {
         "tracegroupgap": 0
        },
        "margin": {
         "b": 0,
         "l": 0,
         "r": 0,
         "t": 30
        },
        "template": {
         "data": {
          "bar": [
           {
            "error_x": {
             "color": "#2a3f5f"
            },
            "error_y": {
             "color": "#2a3f5f"
            },
            "marker": {
             "line": {
              "color": "#E5ECF6",
              "width": 0.5
             },
             "pattern": {
              "fillmode": "overlay",
              "size": 10,
              "solidity": 0.2
             }
            },
            "type": "bar"
           }
          ],
          "barpolar": [
           {
            "marker": {
             "line": {
              "color": "#E5ECF6",
              "width": 0.5
             },
             "pattern": {
              "fillmode": "overlay",
              "size": 10,
              "solidity": 0.2
             }
            },
            "type": "barpolar"
           }
          ],
          "carpet": [
           {
            "aaxis": {
             "endlinecolor": "#2a3f5f",
             "gridcolor": "white",
             "linecolor": "white",
             "minorgridcolor": "white",
             "startlinecolor": "#2a3f5f"
            },
            "baxis": {
             "endlinecolor": "#2a3f5f",
             "gridcolor": "white",
             "linecolor": "white",
             "minorgridcolor": "white",
             "startlinecolor": "#2a3f5f"
            },
            "type": "carpet"
           }
          ],
          "choropleth": [
           {
            "colorbar": {
             "outlinewidth": 0,
             "ticks": ""
            },
            "type": "choropleth"
           }
          ],
          "contour": [
           {
            "colorbar": {
             "outlinewidth": 0,
             "ticks": ""
            },
            "colorscale": [
             [
              0,
              "#0d0887"
             ],
             [
              0.1111111111111111,
              "#46039f"
             ],
             [
              0.2222222222222222,
              "#7201a8"
             ],
             [
              0.3333333333333333,
              "#9c179e"
             ],
             [
              0.4444444444444444,
              "#bd3786"
             ],
             [
              0.5555555555555556,
              "#d8576b"
             ],
             [
              0.6666666666666666,
              "#ed7953"
             ],
             [
              0.7777777777777778,
              "#fb9f3a"
             ],
             [
              0.8888888888888888,
              "#fdca26"
             ],
             [
              1,
              "#f0f921"
             ]
            ],
            "type": "contour"
           }
          ],
          "contourcarpet": [
           {
            "colorbar": {
             "outlinewidth": 0,
             "ticks": ""
            },
            "type": "contourcarpet"
           }
          ],
          "heatmap": [
           {
            "colorbar": {
             "outlinewidth": 0,
             "ticks": ""
            },
            "colorscale": [
             [
              0,
              "#0d0887"
             ],
             [
              0.1111111111111111,
              "#46039f"
             ],
             [
              0.2222222222222222,
              "#7201a8"
             ],
             [
              0.3333333333333333,
              "#9c179e"
             ],
             [
              0.4444444444444444,
              "#bd3786"
             ],
             [
              0.5555555555555556,
              "#d8576b"
             ],
             [
              0.6666666666666666,
              "#ed7953"
             ],
             [
              0.7777777777777778,
              "#fb9f3a"
             ],
             [
              0.8888888888888888,
              "#fdca26"
             ],
             [
              1,
              "#f0f921"
             ]
            ],
            "type": "heatmap"
           }
          ],
          "histogram": [
           {
            "marker": {
             "pattern": {
              "fillmode": "overlay",
              "size": 10,
              "solidity": 0.2
             }
            },
            "type": "histogram"
           }
          ],
          "histogram2d": [
           {
            "colorbar": {
             "outlinewidth": 0,
             "ticks": ""
            },
            "colorscale": [
             [
              0,
              "#0d0887"
             ],
             [
              0.1111111111111111,
              "#46039f"
             ],
             [
              0.2222222222222222,
              "#7201a8"
             ],
             [
              0.3333333333333333,
              "#9c179e"
             ],
             [
              0.4444444444444444,
              "#bd3786"
             ],
             [
              0.5555555555555556,
              "#d8576b"
             ],
             [
              0.6666666666666666,
              "#ed7953"
             ],
             [
              0.7777777777777778,
              "#fb9f3a"
             ],
             [
              0.8888888888888888,
              "#fdca26"
             ],
             [
              1,
              "#f0f921"
             ]
            ],
            "type": "histogram2d"
           }
          ],
          "histogram2dcontour": [
           {
            "colorbar": {
             "outlinewidth": 0,
             "ticks": ""
            },
            "colorscale": [
             [
              0,
              "#0d0887"
             ],
             [
              0.1111111111111111,
              "#46039f"
             ],
             [
              0.2222222222222222,
              "#7201a8"
             ],
             [
              0.3333333333333333,
              "#9c179e"
             ],
             [
              0.4444444444444444,
              "#bd3786"
             ],
             [
              0.5555555555555556,
              "#d8576b"
             ],
             [
              0.6666666666666666,
              "#ed7953"
             ],
             [
              0.7777777777777778,
              "#fb9f3a"
             ],
             [
              0.8888888888888888,
              "#fdca26"
             ],
             [
              1,
              "#f0f921"
             ]
            ],
            "type": "histogram2dcontour"
           }
          ],
          "mesh3d": [
           {
            "colorbar": {
             "outlinewidth": 0,
             "ticks": ""
            },
            "type": "mesh3d"
           }
          ],
          "parcoords": [
           {
            "line": {
             "colorbar": {
              "outlinewidth": 0,
              "ticks": ""
             }
            },
            "type": "parcoords"
           }
          ],
          "pie": [
           {
            "automargin": true,
            "type": "pie"
           }
          ],
          "scatter": [
           {
            "fillpattern": {
             "fillmode": "overlay",
             "size": 10,
             "solidity": 0.2
            },
            "type": "scatter"
           }
          ],
          "scatter3d": [
           {
            "line": {
             "colorbar": {
              "outlinewidth": 0,
              "ticks": ""
             }
            },
            "marker": {
             "colorbar": {
              "outlinewidth": 0,
              "ticks": ""
             }
            },
            "type": "scatter3d"
           }
          ],
          "scattercarpet": [
           {
            "marker": {
             "colorbar": {
              "outlinewidth": 0,
              "ticks": ""
             }
            },
            "type": "scattercarpet"
           }
          ],
          "scattergeo": [
           {
            "marker": {
             "colorbar": {
              "outlinewidth": 0,
              "ticks": ""
             }
            },
            "type": "scattergeo"
           }
          ],
          "scattergl": [
           {
            "marker": {
             "colorbar": {
              "outlinewidth": 0,
              "ticks": ""
             }
            },
            "type": "scattergl"
           }
          ],
          "scattermap": [
           {
            "marker": {
             "colorbar": {
              "outlinewidth": 0,
              "ticks": ""
             }
            },
            "type": "scattermap"
           }
          ],
          "scattermapbox": [
           {
            "marker": {
             "colorbar": {
              "outlinewidth": 0,
              "ticks": ""
             }
            },
            "type": "scattermapbox"
           }
          ],
          "scatterpolar": [
           {
            "marker": {
             "colorbar": {
              "outlinewidth": 0,
              "ticks": ""
             }
            },
            "type": "scatterpolar"
           }
          ],
          "scatterpolargl": [
           {
            "marker": {
             "colorbar": {
              "outlinewidth": 0,
              "ticks": ""
             }
            },
            "type": "scatterpolargl"
           }
          ],
          "scatterternary": [
           {
            "marker": {
             "colorbar": {
              "outlinewidth": 0,
              "ticks": ""
             }
            },
            "type": "scatterternary"
           }
          ],
          "surface": [
           {
            "colorbar": {
             "outlinewidth": 0,
             "ticks": ""
            },
            "colorscale": [
             [
              0,
              "#0d0887"
             ],
             [
              0.1111111111111111,
              "#46039f"
             ],
             [
              0.2222222222222222,
              "#7201a8"
             ],
             [
              0.3333333333333333,
              "#9c179e"
             ],
             [
              0.4444444444444444,
              "#bd3786"
             ],
             [
              0.5555555555555556,
              "#d8576b"
             ],
             [
              0.6666666666666666,
              "#ed7953"
             ],
             [
              0.7777777777777778,
              "#fb9f3a"
             ],
             [
              0.8888888888888888,
              "#fdca26"
             ],
             [
              1,
              "#f0f921"
             ]
            ],
            "type": "surface"
           }
          ],
          "table": [
           {
            "cells": {
             "fill": {
              "color": "#EBF0F8"
             },
             "line": {
              "color": "white"
             }
            },
            "header": {
             "fill": {
              "color": "#C8D4E3"
             },
             "line": {
              "color": "white"
             }
            },
            "type": "table"
           }
          ]
         },
         "layout": {
          "annotationdefaults": {
           "arrowcolor": "#2a3f5f",
           "arrowhead": 0,
           "arrowwidth": 1
          },
          "autotypenumbers": "strict",
          "coloraxis": {
           "colorbar": {
            "outlinewidth": 0,
            "ticks": ""
           }
          },
          "colorscale": {
           "diverging": [
            [
             0,
             "#8e0152"
            ],
            [
             0.1,
             "#c51b7d"
            ],
            [
             0.2,
             "#de77ae"
            ],
            [
             0.3,
             "#f1b6da"
            ],
            [
             0.4,
             "#fde0ef"
            ],
            [
             0.5,
             "#f7f7f7"
            ],
            [
             0.6,
             "#e6f5d0"
            ],
            [
             0.7,
             "#b8e186"
            ],
            [
             0.8,
             "#7fbc41"
            ],
            [
             0.9,
             "#4d9221"
            ],
            [
             1,
             "#276419"
            ]
           ],
           "sequential": [
            [
             0,
             "#0d0887"
            ],
            [
             0.1111111111111111,
             "#46039f"
            ],
            [
             0.2222222222222222,
             "#7201a8"
            ],
            [
             0.3333333333333333,
             "#9c179e"
            ],
            [
             0.4444444444444444,
             "#bd3786"
            ],
            [
             0.5555555555555556,
             "#d8576b"
            ],
            [
             0.6666666666666666,
             "#ed7953"
            ],
            [
             0.7777777777777778,
             "#fb9f3a"
            ],
            [
             0.8888888888888888,
             "#fdca26"
            ],
            [
             1,
             "#f0f921"
            ]
           ],
           "sequentialminus": [
            [
             0,
             "#0d0887"
            ],
            [
             0.1111111111111111,
             "#46039f"
            ],
            [
             0.2222222222222222,
             "#7201a8"
            ],
            [
             0.3333333333333333,
             "#9c179e"
            ],
            [
             0.4444444444444444,
             "#bd3786"
            ],
            [
             0.5555555555555556,
             "#d8576b"
            ],
            [
             0.6666666666666666,
             "#ed7953"
            ],
            [
             0.7777777777777778,
             "#fb9f3a"
            ],
            [
             0.8888888888888888,
             "#fdca26"
            ],
            [
             1,
             "#f0f921"
            ]
           ]
          },
          "colorway": [
           "#636efa",
           "#EF553B",
           "#00cc96",
           "#ab63fa",
           "#FFA15A",
           "#19d3f3",
           "#FF6692",
           "#B6E880",
           "#FF97FF",
           "#FECB52"
          ],
          "font": {
           "color": "#2a3f5f"
          },
          "geo": {
           "bgcolor": "white",
           "lakecolor": "white",
           "landcolor": "#E5ECF6",
           "showlakes": true,
           "showland": true,
           "subunitcolor": "white"
          },
          "hoverlabel": {
           "align": "left"
          },
          "hovermode": "closest",
          "mapbox": {
           "style": "light"
          },
          "paper_bgcolor": "white",
          "plot_bgcolor": "#E5ECF6",
          "polar": {
           "angularaxis": {
            "gridcolor": "white",
            "linecolor": "white",
            "ticks": ""
           },
           "bgcolor": "#E5ECF6",
           "radialaxis": {
            "gridcolor": "white",
            "linecolor": "white",
            "ticks": ""
           }
          },
          "scene": {
           "xaxis": {
            "backgroundcolor": "#E5ECF6",
            "gridcolor": "white",
            "gridwidth": 2,
            "linecolor": "white",
            "showbackground": true,
            "ticks": "",
            "zerolinecolor": "white"
           },
           "yaxis": {
            "backgroundcolor": "#E5ECF6",
            "gridcolor": "white",
            "gridwidth": 2,
            "linecolor": "white",
            "showbackground": true,
            "ticks": "",
            "zerolinecolor": "white"
           },
           "zaxis": {
            "backgroundcolor": "#E5ECF6",
            "gridcolor": "white",
            "gridwidth": 2,
            "linecolor": "white",
            "showbackground": true,
            "ticks": "",
            "zerolinecolor": "white"
           }
          },
          "shapedefaults": {
           "line": {
            "color": "#2a3f5f"
           }
          },
          "ternary": {
           "aaxis": {
            "gridcolor": "white",
            "linecolor": "white",
            "ticks": ""
           },
           "baxis": {
            "gridcolor": "white",
            "linecolor": "white",
            "ticks": ""
           },
           "bgcolor": "#E5ECF6",
           "caxis": {
            "gridcolor": "white",
            "linecolor": "white",
            "ticks": ""
           }
          },
          "title": {
           "x": 0.05
          },
          "xaxis": {
           "automargin": true,
           "gridcolor": "white",
           "linecolor": "white",
           "ticks": "",
           "title": {
            "standoff": 15
           },
           "zerolinecolor": "white",
           "zerolinewidth": 2
          },
          "yaxis": {
           "automargin": true,
           "gridcolor": "white",
           "linecolor": "white",
           "ticks": "",
           "title": {
            "standoff": 15
           },
           "zerolinecolor": "white",
           "zerolinewidth": 2
          }
         }
        },
        "title": {
         "text": "Nuclear Incidents Worldwide"
        }
       }
      }
     },
     "metadata": {},
     "output_type": "display_data"
    }
   ],
   "source": [
    "\n",
    "df = pd.read_csv(\"nuclear_data/Nuclear Incidents - Sheet3.csv\")\n",
    "\n",
    "df.columns = df.columns.str.strip()\n",
    "\n",
    "df.columns.values[6] = \"INES level\"\n",
    "\n",
    "df['Numbers of Direct Deaths'] = df['Numbers of Direct Deaths'].replace('', pd.NA).fillna('Unknown')\n",
    "df['Numbers of InDirect Deaths'] = df['Numbers of InDirect Deaths'].replace('', pd.NA).fillna('Unknown')\n",
    "df['INES level'] = df['INES level'].replace('', pd.NA).fillna('Unknown')\n",
    "\n",
    "df['hover_text'] = (\n",
    "    \"<b>Incident:</b> \" + df['Incident'] + \"<br>\" +\n",
    "    \"<b>Location:</b> \" + df['Location'] + \"<br>\" +\n",
    "    \"<b>Date:</b> \" + df['Date'] + \"<br>\" +\n",
    "    \"<b>Direct Deaths:</b> \" + df['Numbers of Direct Deaths'].astype(str) + \"<br>\" +\n",
    "    \"<b>Indirect Deaths:</b> \" + df['Numbers of InDirect Deaths'].astype(str) + \"<br>\" +\n",
    "    \"<b>Category:</b> \" + df['Category'] + \"<br>\" +\n",
    "    \"<b>INES Level:</b> \" + df['INES level'].astype(str) + \"<br>\" +\n",
    "    \"<b>Latitude:</b> \" + df['Latitude'].astype(str) + \"<br>\" +\n",
    "    \"<b>Longitude:</b> \" + df['Longitude'].astype(str)\n",
    ")\n",
    "\n",
    "fig = px.scatter_geo(df,\n",
    "                     lat='Latitude',\n",
    "                     lon='Longitude',\n",
    "                     hover_name='Incident',\n",
    "                     hover_data={'Latitude': False, 'Longitude': False},\n",
    "                     custom_data=['hover_text'],\n",
    "                     color_discrete_sequence=['red'],\n",
    "                     title='Nuclear Incidents Worldwide')\n",
    "\n",
    "fig.update_traces(hovertemplate=\"%{customdata[0]}<extra></extra>\",\n",
    "                  marker=dict(size=10))\n",
    "\n",
    "fig.update_geos(projection_type=\"natural earth\",\n",
    "                showcountries=True,\n",
    "                countrycolor=\"Black\",\n",
    "                showocean=True,\n",
    "                oceancolor=\"LightBlue\")\n",
    "\n",
    "fig.update_layout(height=600, margin={\"r\":0,\"t\":30,\"l\":0,\"b\":0})\n",
    "\n",
    "fig.show()"
   ]
  },
  {
   "cell_type": "markdown",
   "id": "0fe48ad5",
   "metadata": {},
   "source": [
    "We see that a lot of incidents have occured worldwide. A lot of these incidents where from a while back (40+ years). This implies that safety regulations have gotten better over time. However, the risk of nuclear incidents is still very serious."
   ]
  },
  {
   "cell_type": "markdown",
   "id": "f8e23541",
   "metadata": {},
   "source": [
    "## Nuclear energy death-rate\n",
    "\n",
    "In this section we analyse the total death-rate of different energy sources. This section ties into perspective 2. Consider the following bar graph:"
   ]
  },
  {
   "cell_type": "code",
   "execution_count": 26,
   "id": "fd0e066c",
   "metadata": {},
   "outputs": [
    {
     "data": {
      "text/html": [
       "<div>\n",
       "<style scoped>\n",
       "    .dataframe tbody tr th:only-of-type {\n",
       "        vertical-align: middle;\n",
       "    }\n",
       "\n",
       "    .dataframe tbody tr th {\n",
       "        vertical-align: top;\n",
       "    }\n",
       "\n",
       "    .dataframe thead th {\n",
       "        text-align: right;\n",
       "    }\n",
       "</style>\n",
       "<table border=\"1\" class=\"dataframe\">\n",
       "  <thead>\n",
       "    <tr style=\"text-align: right;\">\n",
       "      <th></th>\n",
       "      <th>Entity</th>\n",
       "      <th>Deaths per TWh of electricity production</th>\n",
       "      <th>Year</th>\n",
       "    </tr>\n",
       "  </thead>\n",
       "  <tbody>\n",
       "    <tr>\n",
       "      <th>1</th>\n",
       "      <td>Brown coal</td>\n",
       "      <td>32.720</td>\n",
       "      <td>2021</td>\n",
       "    </tr>\n",
       "    <tr>\n",
       "      <th>2</th>\n",
       "      <td>Coal</td>\n",
       "      <td>24.620</td>\n",
       "      <td>2021</td>\n",
       "    </tr>\n",
       "    <tr>\n",
       "      <th>6</th>\n",
       "      <td>Oil</td>\n",
       "      <td>18.430</td>\n",
       "      <td>2021</td>\n",
       "    </tr>\n",
       "    <tr>\n",
       "      <th>0</th>\n",
       "      <td>Biomass</td>\n",
       "      <td>4.630</td>\n",
       "      <td>2021</td>\n",
       "    </tr>\n",
       "    <tr>\n",
       "      <th>3</th>\n",
       "      <td>Gas</td>\n",
       "      <td>2.821</td>\n",
       "      <td>2021</td>\n",
       "    </tr>\n",
       "  </tbody>\n",
       "</table>\n",
       "</div>"
      ],
      "text/plain": [
       "       Entity  Deaths per TWh of electricity production  Year\n",
       "1  Brown coal                                    32.720  2021\n",
       "2        Coal                                    24.620  2021\n",
       "6         Oil                                    18.430  2021\n",
       "0     Biomass                                     4.630  2021\n",
       "3         Gas                                     2.821  2021"
      ]
     },
     "execution_count": 26,
     "metadata": {},
     "output_type": "execute_result"
    }
   ],
   "source": [
    "deaths_df = pd.read_csv('nuclear_data/rates_death_from_energy_production_per_twh.csv')\n",
    "deaths_df = deaths_df.sort_values(by='Deaths per TWh of electricity production', ascending=False)\n",
    "deaths_df.head()"
   ]
  },
  {
   "cell_type": "code",
   "execution_count": 27,
   "id": "b346ad11",
   "metadata": {},
   "outputs": [
    {
     "data": {
      "application/vnd.plotly.v1+json": {
       "config": {
        "plotlyServerURL": "https://plot.ly"
       },
       "data": [
        {
         "hovertemplate": "Entity=%{x}<br>Deaths per TWh of electricity production=%{marker.color}<extra></extra>",
         "legendgroup": "",
         "marker": {
          "color": {
           "bdata": "XI/C9ShcQEAfhetRuJ44QK5H4XoUbjJAhetRuB6FEkDFILByaJEGQM3MzMzMzPQ/7FG4HoXroT+4HoXrUbieP9v5fmq8dJM/",
           "dtype": "f8"
          },
          "coloraxis": "coloraxis",
          "pattern": {
           "shape": ""
          }
         },
         "name": "",
         "orientation": "v",
         "showlegend": false,
         "textposition": "auto",
         "type": "bar",
         "x": [
          "Brown coal",
          "Coal",
          "Oil",
          "Biomass",
          "Gas",
          "Hydropower",
          "Wind",
          "Nuclear",
          "Solar"
         ],
         "xaxis": "x",
         "y": {
          "bdata": "XI/C9ShcQEAfhetRuJ44QK5H4XoUbjJAhetRuB6FEkDFILByaJEGQM3MzMzMzPQ/7FG4HoXroT+4HoXrUbieP9v5fmq8dJM/",
          "dtype": "f8"
         },
         "yaxis": "y"
        }
       ],
       "layout": {
        "barmode": "relative",
        "coloraxis": {
         "colorbar": {
          "title": {
           "text": "Deaths per TWh of electricity production"
          }
         },
         "colorscale": [
          [
           0,
           "rgb(0,104,55)"
          ],
          [
           0.1,
           "rgb(26,152,80)"
          ],
          [
           0.2,
           "rgb(102,189,99)"
          ],
          [
           0.3,
           "rgb(166,217,106)"
          ],
          [
           0.4,
           "rgb(217,239,139)"
          ],
          [
           0.5,
           "rgb(255,255,191)"
          ],
          [
           0.6,
           "rgb(254,224,139)"
          ],
          [
           0.7,
           "rgb(253,174,97)"
          ],
          [
           0.8,
           "rgb(244,109,67)"
          ],
          [
           0.9,
           "rgb(215,48,39)"
          ],
          [
           1,
           "rgb(165,0,38)"
          ]
         ],
         "showscale": false
        },
        "legend": {
         "tracegroupgap": 0
        },
        "margin": {
         "t": 60
        },
        "template": {
         "data": {
          "bar": [
           {
            "error_x": {
             "color": "#2a3f5f"
            },
            "error_y": {
             "color": "#2a3f5f"
            },
            "marker": {
             "line": {
              "color": "#E5ECF6",
              "width": 0.5
             },
             "pattern": {
              "fillmode": "overlay",
              "size": 10,
              "solidity": 0.2
             }
            },
            "type": "bar"
           }
          ],
          "barpolar": [
           {
            "marker": {
             "line": {
              "color": "#E5ECF6",
              "width": 0.5
             },
             "pattern": {
              "fillmode": "overlay",
              "size": 10,
              "solidity": 0.2
             }
            },
            "type": "barpolar"
           }
          ],
          "carpet": [
           {
            "aaxis": {
             "endlinecolor": "#2a3f5f",
             "gridcolor": "white",
             "linecolor": "white",
             "minorgridcolor": "white",
             "startlinecolor": "#2a3f5f"
            },
            "baxis": {
             "endlinecolor": "#2a3f5f",
             "gridcolor": "white",
             "linecolor": "white",
             "minorgridcolor": "white",
             "startlinecolor": "#2a3f5f"
            },
            "type": "carpet"
           }
          ],
          "choropleth": [
           {
            "colorbar": {
             "outlinewidth": 0,
             "ticks": ""
            },
            "type": "choropleth"
           }
          ],
          "contour": [
           {
            "colorbar": {
             "outlinewidth": 0,
             "ticks": ""
            },
            "colorscale": [
             [
              0,
              "#0d0887"
             ],
             [
              0.1111111111111111,
              "#46039f"
             ],
             [
              0.2222222222222222,
              "#7201a8"
             ],
             [
              0.3333333333333333,
              "#9c179e"
             ],
             [
              0.4444444444444444,
              "#bd3786"
             ],
             [
              0.5555555555555556,
              "#d8576b"
             ],
             [
              0.6666666666666666,
              "#ed7953"
             ],
             [
              0.7777777777777778,
              "#fb9f3a"
             ],
             [
              0.8888888888888888,
              "#fdca26"
             ],
             [
              1,
              "#f0f921"
             ]
            ],
            "type": "contour"
           }
          ],
          "contourcarpet": [
           {
            "colorbar": {
             "outlinewidth": 0,
             "ticks": ""
            },
            "type": "contourcarpet"
           }
          ],
          "heatmap": [
           {
            "colorbar": {
             "outlinewidth": 0,
             "ticks": ""
            },
            "colorscale": [
             [
              0,
              "#0d0887"
             ],
             [
              0.1111111111111111,
              "#46039f"
             ],
             [
              0.2222222222222222,
              "#7201a8"
             ],
             [
              0.3333333333333333,
              "#9c179e"
             ],
             [
              0.4444444444444444,
              "#bd3786"
             ],
             [
              0.5555555555555556,
              "#d8576b"
             ],
             [
              0.6666666666666666,
              "#ed7953"
             ],
             [
              0.7777777777777778,
              "#fb9f3a"
             ],
             [
              0.8888888888888888,
              "#fdca26"
             ],
             [
              1,
              "#f0f921"
             ]
            ],
            "type": "heatmap"
           }
          ],
          "histogram": [
           {
            "marker": {
             "pattern": {
              "fillmode": "overlay",
              "size": 10,
              "solidity": 0.2
             }
            },
            "type": "histogram"
           }
          ],
          "histogram2d": [
           {
            "colorbar": {
             "outlinewidth": 0,
             "ticks": ""
            },
            "colorscale": [
             [
              0,
              "#0d0887"
             ],
             [
              0.1111111111111111,
              "#46039f"
             ],
             [
              0.2222222222222222,
              "#7201a8"
             ],
             [
              0.3333333333333333,
              "#9c179e"
             ],
             [
              0.4444444444444444,
              "#bd3786"
             ],
             [
              0.5555555555555556,
              "#d8576b"
             ],
             [
              0.6666666666666666,
              "#ed7953"
             ],
             [
              0.7777777777777778,
              "#fb9f3a"
             ],
             [
              0.8888888888888888,
              "#fdca26"
             ],
             [
              1,
              "#f0f921"
             ]
            ],
            "type": "histogram2d"
           }
          ],
          "histogram2dcontour": [
           {
            "colorbar": {
             "outlinewidth": 0,
             "ticks": ""
            },
            "colorscale": [
             [
              0,
              "#0d0887"
             ],
             [
              0.1111111111111111,
              "#46039f"
             ],
             [
              0.2222222222222222,
              "#7201a8"
             ],
             [
              0.3333333333333333,
              "#9c179e"
             ],
             [
              0.4444444444444444,
              "#bd3786"
             ],
             [
              0.5555555555555556,
              "#d8576b"
             ],
             [
              0.6666666666666666,
              "#ed7953"
             ],
             [
              0.7777777777777778,
              "#fb9f3a"
             ],
             [
              0.8888888888888888,
              "#fdca26"
             ],
             [
              1,
              "#f0f921"
             ]
            ],
            "type": "histogram2dcontour"
           }
          ],
          "mesh3d": [
           {
            "colorbar": {
             "outlinewidth": 0,
             "ticks": ""
            },
            "type": "mesh3d"
           }
          ],
          "parcoords": [
           {
            "line": {
             "colorbar": {
              "outlinewidth": 0,
              "ticks": ""
             }
            },
            "type": "parcoords"
           }
          ],
          "pie": [
           {
            "automargin": true,
            "type": "pie"
           }
          ],
          "scatter": [
           {
            "fillpattern": {
             "fillmode": "overlay",
             "size": 10,
             "solidity": 0.2
            },
            "type": "scatter"
           }
          ],
          "scatter3d": [
           {
            "line": {
             "colorbar": {
              "outlinewidth": 0,
              "ticks": ""
             }
            },
            "marker": {
             "colorbar": {
              "outlinewidth": 0,
              "ticks": ""
             }
            },
            "type": "scatter3d"
           }
          ],
          "scattercarpet": [
           {
            "marker": {
             "colorbar": {
              "outlinewidth": 0,
              "ticks": ""
             }
            },
            "type": "scattercarpet"
           }
          ],
          "scattergeo": [
           {
            "marker": {
             "colorbar": {
              "outlinewidth": 0,
              "ticks": ""
             }
            },
            "type": "scattergeo"
           }
          ],
          "scattergl": [
           {
            "marker": {
             "colorbar": {
              "outlinewidth": 0,
              "ticks": ""
             }
            },
            "type": "scattergl"
           }
          ],
          "scattermap": [
           {
            "marker": {
             "colorbar": {
              "outlinewidth": 0,
              "ticks": ""
             }
            },
            "type": "scattermap"
           }
          ],
          "scattermapbox": [
           {
            "marker": {
             "colorbar": {
              "outlinewidth": 0,
              "ticks": ""
             }
            },
            "type": "scattermapbox"
           }
          ],
          "scatterpolar": [
           {
            "marker": {
             "colorbar": {
              "outlinewidth": 0,
              "ticks": ""
             }
            },
            "type": "scatterpolar"
           }
          ],
          "scatterpolargl": [
           {
            "marker": {
             "colorbar": {
              "outlinewidth": 0,
              "ticks": ""
             }
            },
            "type": "scatterpolargl"
           }
          ],
          "scatterternary": [
           {
            "marker": {
             "colorbar": {
              "outlinewidth": 0,
              "ticks": ""
             }
            },
            "type": "scatterternary"
           }
          ],
          "surface": [
           {
            "colorbar": {
             "outlinewidth": 0,
             "ticks": ""
            },
            "colorscale": [
             [
              0,
              "#0d0887"
             ],
             [
              0.1111111111111111,
              "#46039f"
             ],
             [
              0.2222222222222222,
              "#7201a8"
             ],
             [
              0.3333333333333333,
              "#9c179e"
             ],
             [
              0.4444444444444444,
              "#bd3786"
             ],
             [
              0.5555555555555556,
              "#d8576b"
             ],
             [
              0.6666666666666666,
              "#ed7953"
             ],
             [
              0.7777777777777778,
              "#fb9f3a"
             ],
             [
              0.8888888888888888,
              "#fdca26"
             ],
             [
              1,
              "#f0f921"
             ]
            ],
            "type": "surface"
           }
          ],
          "table": [
           {
            "cells": {
             "fill": {
              "color": "#EBF0F8"
             },
             "line": {
              "color": "white"
             }
            },
            "header": {
             "fill": {
              "color": "#C8D4E3"
             },
             "line": {
              "color": "white"
             }
            },
            "type": "table"
           }
          ]
         },
         "layout": {
          "annotationdefaults": {
           "arrowcolor": "#2a3f5f",
           "arrowhead": 0,
           "arrowwidth": 1
          },
          "autotypenumbers": "strict",
          "coloraxis": {
           "colorbar": {
            "outlinewidth": 0,
            "ticks": ""
           }
          },
          "colorscale": {
           "diverging": [
            [
             0,
             "#8e0152"
            ],
            [
             0.1,
             "#c51b7d"
            ],
            [
             0.2,
             "#de77ae"
            ],
            [
             0.3,
             "#f1b6da"
            ],
            [
             0.4,
             "#fde0ef"
            ],
            [
             0.5,
             "#f7f7f7"
            ],
            [
             0.6,
             "#e6f5d0"
            ],
            [
             0.7,
             "#b8e186"
            ],
            [
             0.8,
             "#7fbc41"
            ],
            [
             0.9,
             "#4d9221"
            ],
            [
             1,
             "#276419"
            ]
           ],
           "sequential": [
            [
             0,
             "#0d0887"
            ],
            [
             0.1111111111111111,
             "#46039f"
            ],
            [
             0.2222222222222222,
             "#7201a8"
            ],
            [
             0.3333333333333333,
             "#9c179e"
            ],
            [
             0.4444444444444444,
             "#bd3786"
            ],
            [
             0.5555555555555556,
             "#d8576b"
            ],
            [
             0.6666666666666666,
             "#ed7953"
            ],
            [
             0.7777777777777778,
             "#fb9f3a"
            ],
            [
             0.8888888888888888,
             "#fdca26"
            ],
            [
             1,
             "#f0f921"
            ]
           ],
           "sequentialminus": [
            [
             0,
             "#0d0887"
            ],
            [
             0.1111111111111111,
             "#46039f"
            ],
            [
             0.2222222222222222,
             "#7201a8"
            ],
            [
             0.3333333333333333,
             "#9c179e"
            ],
            [
             0.4444444444444444,
             "#bd3786"
            ],
            [
             0.5555555555555556,
             "#d8576b"
            ],
            [
             0.6666666666666666,
             "#ed7953"
            ],
            [
             0.7777777777777778,
             "#fb9f3a"
            ],
            [
             0.8888888888888888,
             "#fdca26"
            ],
            [
             1,
             "#f0f921"
            ]
           ]
          },
          "colorway": [
           "#636efa",
           "#EF553B",
           "#00cc96",
           "#ab63fa",
           "#FFA15A",
           "#19d3f3",
           "#FF6692",
           "#B6E880",
           "#FF97FF",
           "#FECB52"
          ],
          "font": {
           "color": "#2a3f5f"
          },
          "geo": {
           "bgcolor": "white",
           "lakecolor": "white",
           "landcolor": "#E5ECF6",
           "showlakes": true,
           "showland": true,
           "subunitcolor": "white"
          },
          "hoverlabel": {
           "align": "left"
          },
          "hovermode": "closest",
          "mapbox": {
           "style": "light"
          },
          "paper_bgcolor": "white",
          "plot_bgcolor": "#E5ECF6",
          "polar": {
           "angularaxis": {
            "gridcolor": "white",
            "linecolor": "white",
            "ticks": ""
           },
           "bgcolor": "#E5ECF6",
           "radialaxis": {
            "gridcolor": "white",
            "linecolor": "white",
            "ticks": ""
           }
          },
          "scene": {
           "xaxis": {
            "backgroundcolor": "#E5ECF6",
            "gridcolor": "white",
            "gridwidth": 2,
            "linecolor": "white",
            "showbackground": true,
            "ticks": "",
            "zerolinecolor": "white"
           },
           "yaxis": {
            "backgroundcolor": "#E5ECF6",
            "gridcolor": "white",
            "gridwidth": 2,
            "linecolor": "white",
            "showbackground": true,
            "ticks": "",
            "zerolinecolor": "white"
           },
           "zaxis": {
            "backgroundcolor": "#E5ECF6",
            "gridcolor": "white",
            "gridwidth": 2,
            "linecolor": "white",
            "showbackground": true,
            "ticks": "",
            "zerolinecolor": "white"
           }
          },
          "shapedefaults": {
           "line": {
            "color": "#2a3f5f"
           }
          },
          "ternary": {
           "aaxis": {
            "gridcolor": "white",
            "linecolor": "white",
            "ticks": ""
           },
           "baxis": {
            "gridcolor": "white",
            "linecolor": "white",
            "ticks": ""
           },
           "bgcolor": "#E5ECF6",
           "caxis": {
            "gridcolor": "white",
            "linecolor": "white",
            "ticks": ""
           }
          },
          "title": {
           "x": 0.05
          },
          "xaxis": {
           "automargin": true,
           "gridcolor": "white",
           "linecolor": "white",
           "ticks": "",
           "title": {
            "standoff": 15
           },
           "zerolinecolor": "white",
           "zerolinewidth": 2
          },
          "yaxis": {
           "automargin": true,
           "gridcolor": "white",
           "linecolor": "white",
           "ticks": "",
           "title": {
            "standoff": 15
           },
           "zerolinecolor": "white",
           "zerolinewidth": 2
          }
         }
        },
        "title": {
         "text": "Death-rate per TWh produced per energy source"
        },
        "xaxis": {
         "anchor": "y",
         "domain": [
          0,
          1
         ],
         "title": {
          "text": "Energy production method"
         }
        },
        "yaxis": {
         "anchor": "x",
         "domain": [
          0,
          1
         ],
         "title": {
          "text": "Deaths per TWh"
         }
        }
       }
      }
     },
     "metadata": {},
     "output_type": "display_data"
    }
   ],
   "source": [
    "fig = px.bar(\n",
    "    deaths_df,\n",
    "    x='Entity',\n",
    "    y='Deaths per TWh of electricity production',\n",
    "    color='Deaths per TWh of electricity production',\n",
    "    color_continuous_scale='RdYlGn_r'  # correcte naam\n",
    ")\n",
    "\n",
    "fig.update_layout(\n",
    "    title=\"Death-rate per TWh produced per energy source\",\n",
    "    xaxis_title=\"Energy production method\",\n",
    "    yaxis_title=\"Deaths per TWh\",\n",
    "    coloraxis_showscale=False,\n",
    ")\n",
    "\n",
    "fig.show()"
   ]
  },
  {
   "cell_type": "markdown",
   "id": "ce819d01",
   "metadata": {},
   "source": [
    "We see that the death rate for nuclear (and also wind and solar) energy is gigantically smaller than that of fossil fuels. This could be because the work safety regulations are far worse for fossil fuels. This means that overal nuclear energy is far saver than fossil fuels."
   ]
  },
  {
   "cell_type": "markdown",
   "id": "546fd8d0",
   "metadata": {},
   "source": [
    "## Nuclear Waste\n",
    "\n",
    "An important aspect of nuclear energy is nuclear waste. Nuclear reactors produce highly radioactive waste that needs to be stored for decades on end. In this section we will focus on radioactive waste and how the creation of radioactive waste is increasing. The data in this section is from the **U.S. Energy Information Administration**. This means that this section does not represent the whole globe but only the **U.S.**.\n",
    "\n",
    "This section is linked to perspective 2.\n",
    "\n",
    "### Average Burnup\n",
    "\n",
    "The 'burnup' of a nuclear reactor is a term for the efficiency of a reactor in GigaWatt days per metric ton of uranium (GWd / MTU). The first graph shows the average burnup of powerplants in the U.S. through time."
   ]
  },
  {
   "cell_type": "code",
   "execution_count": 28,
   "id": "4d903a27",
   "metadata": {},
   "outputs": [],
   "source": [
    "# data from https://www.eia.gov/nuclear/spent_fuel/ussnftab3.php\n",
    "waste_df = pd.read_csv('nuclear_data/nuclear_spent_fuel.csv')"
   ]
  },
  {
   "cell_type": "code",
   "execution_count": 29,
   "id": "2bf3e387",
   "metadata": {},
   "outputs": [],
   "source": [
    "# calulate average burnup per year\n",
    "waste_df['total_average_burnup'] = (\n",
    "    (\n",
    "        (waste_df['bwr_average_burnup'] * waste_df['bwr_tons_uranium']) +\n",
    "        (waste_df['pwr_average_burnup'] * waste_df['pwr_tons_uranium'])\n",
    "    ) /\n",
    "    (waste_df['bwr_tons_uranium'] + waste_df['pwr_tons_uranium'])\n",
    ")"
   ]
  },
  {
   "cell_type": "code",
   "execution_count": 30,
   "id": "e62b1797",
   "metadata": {},
   "outputs": [
    {
     "data": {
      "application/vnd.plotly.v1+json": {
       "config": {
        "plotlyServerURL": "https://plot.ly"
       },
       "data": [
        {
         "line": {
          "color": "#7fc97f"
         },
         "mode": "lines+markers",
         "name": "Boiling water reactor",
         "type": "scatter",
         "x": {
          "bdata": "sAexB7IHswe0B7UHtge3B7gHuQe6B7sHvAe9B74HvwfAB8EHwgfDB8QHxQfGB8cHyAfJB8oHywfMB80HzgfPB9AH0QfSB9MH1AfVB9YH1wfYB9kH2gfbB9wH3QfeB98H4AfhBw==",
          "dtype": "i2"
         },
         "y": {
          "bdata": "AAAAAAAAAAAzMzMzM7MwQDMzMzMzM9M/mpmZmZmZIEAzMzMzMzMbQGZmZmZmZipAMzMzMzMzKkCamZmZmRkxQDMzMzMzMytAAAAAAAAAMUDNzMzMzMwzQAAAAAAAgDZAAAAAAACANkCamZmZmRk4QGZmZmZm5jhAmpmZmZkZO0BmZmZmZuY5QJqZmZmZmTdAmpmZmZkZNUAzMzMzM7M2QAAAAAAAgDhAZmZmZmZmNkBmZmZmZmY5QDMzMzMzMzxAZmZmZmbmPEDNzMzMzEw+QJqZmZmZmUBAZmZmZmZmQECamZmZmZlBQAAAAAAAwEFAmpmZmZkZQkCamZmZmdlBQGZmZmZmJkNAzczMzMwMRECamZmZmRlEQAAAAAAAwENAZmZmZmZmRUBmZmZmZmZFQM3MzMzMjEVAZmZmZmamRUDNzMzMzIxFQM3MzMzMjEZAZmZmZmYmRkDNzMzMzIxGQAAAAAAAgEZAZmZmZmZmRkDNzMzMzAxGQDMzMzMz80ZAmpmZmZmZRkAzMzMzMzNHQA==",
          "dtype": "f8"
         }
        },
        {
         "line": {
          "color": "#fdc086"
         },
         "mode": "lines+markers",
         "name": "Presurised water reactor",
         "type": "scatter",
         "x": {
          "bdata": "sAexB7IHswe0B7UHtge3B7gHuQe6B7sHvAe9B74HvwfAB8EHwgfDB8QHxQfGB8cHyAfJB8oHywfMB80HzgfPB9AH0QfSB9MH1AfVB9YH1wfYB9kH2gfbB9wH3QfeB98H4AfhBw==",
          "dtype": "i2"
         },
         "y": {
          "bdata": "AAAAAAAAAAAAAAAAAAAAAGZmZmZmZjJAMzMzMzOzOUDNzMzMzEw3QJqZmZmZGThAZmZmZmZmMkAzMzMzMzMyQGZmZmZmZjZAMzMzMzMzOUDNzMzMzEw6QJqZmZmZGTtAzczMzMzMPUDNzMzMzEw+QDMzMzMzsz1AzczMzMxMPkAAAAAAAIA9QAAAAAAAAEBAzczMzMzMPkAAAAAAAIA/QJqZmZmZ2UBAmpmZmZlZQEDNzMzMzExBQJqZmZmZ2UFAZmZmZmZmQkCamZmZmZlDQDMzMzMzM0RAMzMzMzNzREDNzMzMzIxDQM3MzMzMTERAzczMzMwMRkCamZmZmRlGQDMzMzMzc0ZAAAAAAADARkAAAAAAAABHQDMzMzMzM0dAMzMzMzNzR0DNzMzMzExHQDMzMzMzc0dAMzMzMzNzR0CamZmZmZlHQAAAAAAAQEdAZmZmZmZmR0BmZmZmZmZHQM3MzMzMTEZAzczMzMzMRkAAAAAAAIBHQJqZmZmZWUdAZmZmZmYmR0CamZmZmRlHQA==",
          "dtype": "f8"
         }
        },
        {
         "line": {
          "color": "#beaed4"
         },
         "mode": "lines+markers",
         "name": "Total",
         "type": "scatter",
         "x": {
          "bdata": "sAexB7IHswe0B7UHtge3B7gHuQe6B7sHvAe9B74HvwfAB8EHwgfDB8QHxQfGB8cHyAfJB8oHywfMB80HzgfPB9AH0QfSB9MH1AfVB9YH1wfYB9kH2gfbB9wH3QfeB98H4AfhBw==",
          "dtype": "i2"
         },
         "y": {
          "bdata": "AAAAAAAA+P8zMzMzM7MwQGoX7kmaIDBAF1nQ9Mj2LUCWZBNJaUkqQF6G869T3jFAgE3CDSEZL0BeOk2ye74xQMEADU8UoDJAnjiqJb55NUArsbDltf43QIvq8IrqcDlAa2Z60KkkOkBO37W9AsE7QJOn+i59+ztAks+3VEYRPUAwBsRj6ig8QKOQIyqyvzxAQKN3v9+1O0BATc/BbWY8QED1AT9QrT5AM1A0WQ3nPEDRLPkggbM/QCqo6Fq8t0BAEelUVMEmQUD1xawoMDNCQBlJIVnO4kJA3m0H1uciQ0DIGf7LR9xCQG1H4OMtgENAPlF6kU1nREA21TSj7rZEQMDVmApeO0VApqqNOyjcRUD96I1VER1GQMDo4wIVC0ZAjed2GjejRkBypItVZrlGQFjIAVMu20ZAG2M9I7G8RkCcHeytCedGQNJglyrNBUdASArtthrnRkB+PNhc7CFHQJvJFBe1XUZAyq8ohpSlRkCNw+l3af1GQGi/ltuIOEdAW32d/9LwRkCWIHoIBSJHQA==",
          "dtype": "f8"
         }
        }
       ],
       "layout": {
        "template": {
         "data": {
          "bar": [
           {
            "error_x": {
             "color": "#2a3f5f"
            },
            "error_y": {
             "color": "#2a3f5f"
            },
            "marker": {
             "line": {
              "color": "#E5ECF6",
              "width": 0.5
             },
             "pattern": {
              "fillmode": "overlay",
              "size": 10,
              "solidity": 0.2
             }
            },
            "type": "bar"
           }
          ],
          "barpolar": [
           {
            "marker": {
             "line": {
              "color": "#E5ECF6",
              "width": 0.5
             },
             "pattern": {
              "fillmode": "overlay",
              "size": 10,
              "solidity": 0.2
             }
            },
            "type": "barpolar"
           }
          ],
          "carpet": [
           {
            "aaxis": {
             "endlinecolor": "#2a3f5f",
             "gridcolor": "white",
             "linecolor": "white",
             "minorgridcolor": "white",
             "startlinecolor": "#2a3f5f"
            },
            "baxis": {
             "endlinecolor": "#2a3f5f",
             "gridcolor": "white",
             "linecolor": "white",
             "minorgridcolor": "white",
             "startlinecolor": "#2a3f5f"
            },
            "type": "carpet"
           }
          ],
          "choropleth": [
           {
            "colorbar": {
             "outlinewidth": 0,
             "ticks": ""
            },
            "type": "choropleth"
           }
          ],
          "contour": [
           {
            "colorbar": {
             "outlinewidth": 0,
             "ticks": ""
            },
            "colorscale": [
             [
              0,
              "#0d0887"
             ],
             [
              0.1111111111111111,
              "#46039f"
             ],
             [
              0.2222222222222222,
              "#7201a8"
             ],
             [
              0.3333333333333333,
              "#9c179e"
             ],
             [
              0.4444444444444444,
              "#bd3786"
             ],
             [
              0.5555555555555556,
              "#d8576b"
             ],
             [
              0.6666666666666666,
              "#ed7953"
             ],
             [
              0.7777777777777778,
              "#fb9f3a"
             ],
             [
              0.8888888888888888,
              "#fdca26"
             ],
             [
              1,
              "#f0f921"
             ]
            ],
            "type": "contour"
           }
          ],
          "contourcarpet": [
           {
            "colorbar": {
             "outlinewidth": 0,
             "ticks": ""
            },
            "type": "contourcarpet"
           }
          ],
          "heatmap": [
           {
            "colorbar": {
             "outlinewidth": 0,
             "ticks": ""
            },
            "colorscale": [
             [
              0,
              "#0d0887"
             ],
             [
              0.1111111111111111,
              "#46039f"
             ],
             [
              0.2222222222222222,
              "#7201a8"
             ],
             [
              0.3333333333333333,
              "#9c179e"
             ],
             [
              0.4444444444444444,
              "#bd3786"
             ],
             [
              0.5555555555555556,
              "#d8576b"
             ],
             [
              0.6666666666666666,
              "#ed7953"
             ],
             [
              0.7777777777777778,
              "#fb9f3a"
             ],
             [
              0.8888888888888888,
              "#fdca26"
             ],
             [
              1,
              "#f0f921"
             ]
            ],
            "type": "heatmap"
           }
          ],
          "histogram": [
           {
            "marker": {
             "pattern": {
              "fillmode": "overlay",
              "size": 10,
              "solidity": 0.2
             }
            },
            "type": "histogram"
           }
          ],
          "histogram2d": [
           {
            "colorbar": {
             "outlinewidth": 0,
             "ticks": ""
            },
            "colorscale": [
             [
              0,
              "#0d0887"
             ],
             [
              0.1111111111111111,
              "#46039f"
             ],
             [
              0.2222222222222222,
              "#7201a8"
             ],
             [
              0.3333333333333333,
              "#9c179e"
             ],
             [
              0.4444444444444444,
              "#bd3786"
             ],
             [
              0.5555555555555556,
              "#d8576b"
             ],
             [
              0.6666666666666666,
              "#ed7953"
             ],
             [
              0.7777777777777778,
              "#fb9f3a"
             ],
             [
              0.8888888888888888,
              "#fdca26"
             ],
             [
              1,
              "#f0f921"
             ]
            ],
            "type": "histogram2d"
           }
          ],
          "histogram2dcontour": [
           {
            "colorbar": {
             "outlinewidth": 0,
             "ticks": ""
            },
            "colorscale": [
             [
              0,
              "#0d0887"
             ],
             [
              0.1111111111111111,
              "#46039f"
             ],
             [
              0.2222222222222222,
              "#7201a8"
             ],
             [
              0.3333333333333333,
              "#9c179e"
             ],
             [
              0.4444444444444444,
              "#bd3786"
             ],
             [
              0.5555555555555556,
              "#d8576b"
             ],
             [
              0.6666666666666666,
              "#ed7953"
             ],
             [
              0.7777777777777778,
              "#fb9f3a"
             ],
             [
              0.8888888888888888,
              "#fdca26"
             ],
             [
              1,
              "#f0f921"
             ]
            ],
            "type": "histogram2dcontour"
           }
          ],
          "mesh3d": [
           {
            "colorbar": {
             "outlinewidth": 0,
             "ticks": ""
            },
            "type": "mesh3d"
           }
          ],
          "parcoords": [
           {
            "line": {
             "colorbar": {
              "outlinewidth": 0,
              "ticks": ""
             }
            },
            "type": "parcoords"
           }
          ],
          "pie": [
           {
            "automargin": true,
            "type": "pie"
           }
          ],
          "scatter": [
           {
            "fillpattern": {
             "fillmode": "overlay",
             "size": 10,
             "solidity": 0.2
            },
            "type": "scatter"
           }
          ],
          "scatter3d": [
           {
            "line": {
             "colorbar": {
              "outlinewidth": 0,
              "ticks": ""
             }
            },
            "marker": {
             "colorbar": {
              "outlinewidth": 0,
              "ticks": ""
             }
            },
            "type": "scatter3d"
           }
          ],
          "scattercarpet": [
           {
            "marker": {
             "colorbar": {
              "outlinewidth": 0,
              "ticks": ""
             }
            },
            "type": "scattercarpet"
           }
          ],
          "scattergeo": [
           {
            "marker": {
             "colorbar": {
              "outlinewidth": 0,
              "ticks": ""
             }
            },
            "type": "scattergeo"
           }
          ],
          "scattergl": [
           {
            "marker": {
             "colorbar": {
              "outlinewidth": 0,
              "ticks": ""
             }
            },
            "type": "scattergl"
           }
          ],
          "scattermap": [
           {
            "marker": {
             "colorbar": {
              "outlinewidth": 0,
              "ticks": ""
             }
            },
            "type": "scattermap"
           }
          ],
          "scattermapbox": [
           {
            "marker": {
             "colorbar": {
              "outlinewidth": 0,
              "ticks": ""
             }
            },
            "type": "scattermapbox"
           }
          ],
          "scatterpolar": [
           {
            "marker": {
             "colorbar": {
              "outlinewidth": 0,
              "ticks": ""
             }
            },
            "type": "scatterpolar"
           }
          ],
          "scatterpolargl": [
           {
            "marker": {
             "colorbar": {
              "outlinewidth": 0,
              "ticks": ""
             }
            },
            "type": "scatterpolargl"
           }
          ],
          "scatterternary": [
           {
            "marker": {
             "colorbar": {
              "outlinewidth": 0,
              "ticks": ""
             }
            },
            "type": "scatterternary"
           }
          ],
          "surface": [
           {
            "colorbar": {
             "outlinewidth": 0,
             "ticks": ""
            },
            "colorscale": [
             [
              0,
              "#0d0887"
             ],
             [
              0.1111111111111111,
              "#46039f"
             ],
             [
              0.2222222222222222,
              "#7201a8"
             ],
             [
              0.3333333333333333,
              "#9c179e"
             ],
             [
              0.4444444444444444,
              "#bd3786"
             ],
             [
              0.5555555555555556,
              "#d8576b"
             ],
             [
              0.6666666666666666,
              "#ed7953"
             ],
             [
              0.7777777777777778,
              "#fb9f3a"
             ],
             [
              0.8888888888888888,
              "#fdca26"
             ],
             [
              1,
              "#f0f921"
             ]
            ],
            "type": "surface"
           }
          ],
          "table": [
           {
            "cells": {
             "fill": {
              "color": "#EBF0F8"
             },
             "line": {
              "color": "white"
             }
            },
            "header": {
             "fill": {
              "color": "#C8D4E3"
             },
             "line": {
              "color": "white"
             }
            },
            "type": "table"
           }
          ]
         },
         "layout": {
          "annotationdefaults": {
           "arrowcolor": "#2a3f5f",
           "arrowhead": 0,
           "arrowwidth": 1
          },
          "autotypenumbers": "strict",
          "coloraxis": {
           "colorbar": {
            "outlinewidth": 0,
            "ticks": ""
           }
          },
          "colorscale": {
           "diverging": [
            [
             0,
             "#8e0152"
            ],
            [
             0.1,
             "#c51b7d"
            ],
            [
             0.2,
             "#de77ae"
            ],
            [
             0.3,
             "#f1b6da"
            ],
            [
             0.4,
             "#fde0ef"
            ],
            [
             0.5,
             "#f7f7f7"
            ],
            [
             0.6,
             "#e6f5d0"
            ],
            [
             0.7,
             "#b8e186"
            ],
            [
             0.8,
             "#7fbc41"
            ],
            [
             0.9,
             "#4d9221"
            ],
            [
             1,
             "#276419"
            ]
           ],
           "sequential": [
            [
             0,
             "#0d0887"
            ],
            [
             0.1111111111111111,
             "#46039f"
            ],
            [
             0.2222222222222222,
             "#7201a8"
            ],
            [
             0.3333333333333333,
             "#9c179e"
            ],
            [
             0.4444444444444444,
             "#bd3786"
            ],
            [
             0.5555555555555556,
             "#d8576b"
            ],
            [
             0.6666666666666666,
             "#ed7953"
            ],
            [
             0.7777777777777778,
             "#fb9f3a"
            ],
            [
             0.8888888888888888,
             "#fdca26"
            ],
            [
             1,
             "#f0f921"
            ]
           ],
           "sequentialminus": [
            [
             0,
             "#0d0887"
            ],
            [
             0.1111111111111111,
             "#46039f"
            ],
            [
             0.2222222222222222,
             "#7201a8"
            ],
            [
             0.3333333333333333,
             "#9c179e"
            ],
            [
             0.4444444444444444,
             "#bd3786"
            ],
            [
             0.5555555555555556,
             "#d8576b"
            ],
            [
             0.6666666666666666,
             "#ed7953"
            ],
            [
             0.7777777777777778,
             "#fb9f3a"
            ],
            [
             0.8888888888888888,
             "#fdca26"
            ],
            [
             1,
             "#f0f921"
            ]
           ]
          },
          "colorway": [
           "#636efa",
           "#EF553B",
           "#00cc96",
           "#ab63fa",
           "#FFA15A",
           "#19d3f3",
           "#FF6692",
           "#B6E880",
           "#FF97FF",
           "#FECB52"
          ],
          "font": {
           "color": "#2a3f5f"
          },
          "geo": {
           "bgcolor": "white",
           "lakecolor": "white",
           "landcolor": "#E5ECF6",
           "showlakes": true,
           "showland": true,
           "subunitcolor": "white"
          },
          "hoverlabel": {
           "align": "left"
          },
          "hovermode": "closest",
          "mapbox": {
           "style": "light"
          },
          "paper_bgcolor": "white",
          "plot_bgcolor": "#E5ECF6",
          "polar": {
           "angularaxis": {
            "gridcolor": "white",
            "linecolor": "white",
            "ticks": ""
           },
           "bgcolor": "#E5ECF6",
           "radialaxis": {
            "gridcolor": "white",
            "linecolor": "white",
            "ticks": ""
           }
          },
          "scene": {
           "xaxis": {
            "backgroundcolor": "#E5ECF6",
            "gridcolor": "white",
            "gridwidth": 2,
            "linecolor": "white",
            "showbackground": true,
            "ticks": "",
            "zerolinecolor": "white"
           },
           "yaxis": {
            "backgroundcolor": "#E5ECF6",
            "gridcolor": "white",
            "gridwidth": 2,
            "linecolor": "white",
            "showbackground": true,
            "ticks": "",
            "zerolinecolor": "white"
           },
           "zaxis": {
            "backgroundcolor": "#E5ECF6",
            "gridcolor": "white",
            "gridwidth": 2,
            "linecolor": "white",
            "showbackground": true,
            "ticks": "",
            "zerolinecolor": "white"
           }
          },
          "shapedefaults": {
           "line": {
            "color": "#2a3f5f"
           }
          },
          "ternary": {
           "aaxis": {
            "gridcolor": "white",
            "linecolor": "white",
            "ticks": ""
           },
           "baxis": {
            "gridcolor": "white",
            "linecolor": "white",
            "ticks": ""
           },
           "bgcolor": "#E5ECF6",
           "caxis": {
            "gridcolor": "white",
            "linecolor": "white",
            "ticks": ""
           }
          },
          "title": {
           "x": 0.05
          },
          "xaxis": {
           "automargin": true,
           "gridcolor": "white",
           "linecolor": "white",
           "ticks": "",
           "title": {
            "standoff": 15
           },
           "zerolinecolor": "white",
           "zerolinewidth": 2
          },
          "yaxis": {
           "automargin": true,
           "gridcolor": "white",
           "linecolor": "white",
           "ticks": "",
           "title": {
            "standoff": 15
           },
           "zerolinecolor": "white",
           "zerolinewidth": 2
          }
         }
        },
        "title": {
         "text": "Average Burnup per reactor method"
        },
        "xaxis": {
         "title": {
          "text": "Year"
         }
        },
        "yaxis": {
         "title": {
          "text": "Burnup (GWd/MTU)"
         }
        }
       }
      }
     },
     "metadata": {},
     "output_type": "display_data"
    }
   ],
   "source": [
    "fig = go.Figure()\n",
    "\n",
    "fig.add_trace(\n",
    "    go.Scatter(\n",
    "        x=waste_df['year'],\n",
    "        y=waste_df['bwr_average_burnup'],\n",
    "        name='Boiling water reactor',\n",
    "        mode='lines+markers',\n",
    "        line=dict(\n",
    "            color=\"#7fc97f\"\n",
    "        ),\n",
    "    )\n",
    ")\n",
    "\n",
    "fig.add_trace(\n",
    "    go.Scatter(\n",
    "        x=waste_df['year'],\n",
    "        y=waste_df['pwr_average_burnup'],\n",
    "        name='Presurised water reactor',\n",
    "        mode='lines+markers',\n",
    "        line=dict(\n",
    "            color=\"#fdc086\"\n",
    "        ),\n",
    "    )\n",
    ")\n",
    "\n",
    "fig.add_trace(\n",
    "    go.Scatter(\n",
    "        x=waste_df['year'],\n",
    "        y=waste_df['total_average_burnup'],\n",
    "        name='Total',\n",
    "        mode='lines+markers',\n",
    "        line=dict(\n",
    "            color=\"#beaed4\"\n",
    "        ),\n",
    "    )\n",
    ")\n",
    "\n",
    "fig.update_layout(\n",
    "    title=\"Average Burnup per reactor method\",\n",
    "    xaxis_title=\"Year\",\n",
    "    yaxis_title=\"Burnup (GWd/MTU)\",\n",
    ")\n",
    "\n",
    "fig.show()"
   ]
  },
  {
   "cell_type": "markdown",
   "id": "9d38c0ea",
   "metadata": {},
   "source": [
    "We see that the efficiency of the reactors increases from the 1970s tot the mid 2000s. In the mid 2000s however, the efficiency seems to plateu around 45 GWd/MTU\n",
    "\n",
    "### Amount of Uranium consumed\n",
    "\n",
    "The following two graphs show the amount of uranium used in the U.S. per year and the total amount of uranium in containment in the U.S."
   ]
  },
  {
   "cell_type": "code",
   "execution_count": 31,
   "id": "50680eb6",
   "metadata": {},
   "outputs": [
    {
     "data": {
      "application/vnd.plotly.v1+json": {
       "config": {
        "plotlyServerURL": "https://plot.ly"
       },
       "data": [
        {
         "line": {
          "color": "#298f0d"
         },
         "mode": "lines+markers",
         "type": "scatter",
         "x": {
          "bdata": "sAexB7IHswe0B7UHtge3B7gHuQe6B7sHvAe9B74HvwfAB8EHwgfDB8QHxQfGB8cHyAfJB8oHywfMB80HzgfPB9AH0QfSB9MH1AfVB9YH1wfYB9kH2gfbB9wH3QfeB98H4AfhBw==",
          "dtype": "i2"
         },
         "y": {
          "bdata": "AAAAAAAAAAAzMzMzMzMjQM3MzMzMTEZAmpmZmZn5WUDNzMzMzJxsQAAAAAAAsGNAZmZmZmbee0BmZmZmZgKBQGZmZmZmroVAZmZmZmZWikAAAAAAAOiQQGZmZmZmUpFAAAAAAABWk0AAAAAAAHSRQM3MzMzMKI9AMzMzMzOLk0DNzMzMzOSUQAAAAAAA6JVAmpmZmZlzlkAAAAAAAHKaQGZmZmZmdJlAmpmZmZlRnUCamZmZmeKgQDMzMzMzR5tAzczMzMyfoUAzMzMzM9agQAAAAAAA8JxAAAAAAADNokDNzMzMzEeiQJqZmZmZyqBAZmZmZmbwmECamZmZmQeiQM3MzMzM8KBAZmZmZmaQnUAAAAAAAFeiQM3MzMzMeaJAMzMzMzMrnkAAAAAAADqiQDMzMzMzdaFAAAAAAADKn0AAAAAAAESiQGZmZmZmq6JAMzMzMzMdoEBmZmZmZhOiQJqZmZmZ1aJAzczMzMxSnkDNzMzMzEaiQAAAAAAAwaFAzczMzMzEnkAzMzMzM8WhQA==",
          "dtype": "f8"
         }
        }
       ],
       "layout": {
        "template": {
         "data": {
          "bar": [
           {
            "error_x": {
             "color": "#2a3f5f"
            },
            "error_y": {
             "color": "#2a3f5f"
            },
            "marker": {
             "line": {
              "color": "#E5ECF6",
              "width": 0.5
             },
             "pattern": {
              "fillmode": "overlay",
              "size": 10,
              "solidity": 0.2
             }
            },
            "type": "bar"
           }
          ],
          "barpolar": [
           {
            "marker": {
             "line": {
              "color": "#E5ECF6",
              "width": 0.5
             },
             "pattern": {
              "fillmode": "overlay",
              "size": 10,
              "solidity": 0.2
             }
            },
            "type": "barpolar"
           }
          ],
          "carpet": [
           {
            "aaxis": {
             "endlinecolor": "#2a3f5f",
             "gridcolor": "white",
             "linecolor": "white",
             "minorgridcolor": "white",
             "startlinecolor": "#2a3f5f"
            },
            "baxis": {
             "endlinecolor": "#2a3f5f",
             "gridcolor": "white",
             "linecolor": "white",
             "minorgridcolor": "white",
             "startlinecolor": "#2a3f5f"
            },
            "type": "carpet"
           }
          ],
          "choropleth": [
           {
            "colorbar": {
             "outlinewidth": 0,
             "ticks": ""
            },
            "type": "choropleth"
           }
          ],
          "contour": [
           {
            "colorbar": {
             "outlinewidth": 0,
             "ticks": ""
            },
            "colorscale": [
             [
              0,
              "#0d0887"
             ],
             [
              0.1111111111111111,
              "#46039f"
             ],
             [
              0.2222222222222222,
              "#7201a8"
             ],
             [
              0.3333333333333333,
              "#9c179e"
             ],
             [
              0.4444444444444444,
              "#bd3786"
             ],
             [
              0.5555555555555556,
              "#d8576b"
             ],
             [
              0.6666666666666666,
              "#ed7953"
             ],
             [
              0.7777777777777778,
              "#fb9f3a"
             ],
             [
              0.8888888888888888,
              "#fdca26"
             ],
             [
              1,
              "#f0f921"
             ]
            ],
            "type": "contour"
           }
          ],
          "contourcarpet": [
           {
            "colorbar": {
             "outlinewidth": 0,
             "ticks": ""
            },
            "type": "contourcarpet"
           }
          ],
          "heatmap": [
           {
            "colorbar": {
             "outlinewidth": 0,
             "ticks": ""
            },
            "colorscale": [
             [
              0,
              "#0d0887"
             ],
             [
              0.1111111111111111,
              "#46039f"
             ],
             [
              0.2222222222222222,
              "#7201a8"
             ],
             [
              0.3333333333333333,
              "#9c179e"
             ],
             [
              0.4444444444444444,
              "#bd3786"
             ],
             [
              0.5555555555555556,
              "#d8576b"
             ],
             [
              0.6666666666666666,
              "#ed7953"
             ],
             [
              0.7777777777777778,
              "#fb9f3a"
             ],
             [
              0.8888888888888888,
              "#fdca26"
             ],
             [
              1,
              "#f0f921"
             ]
            ],
            "type": "heatmap"
           }
          ],
          "histogram": [
           {
            "marker": {
             "pattern": {
              "fillmode": "overlay",
              "size": 10,
              "solidity": 0.2
             }
            },
            "type": "histogram"
           }
          ],
          "histogram2d": [
           {
            "colorbar": {
             "outlinewidth": 0,
             "ticks": ""
            },
            "colorscale": [
             [
              0,
              "#0d0887"
             ],
             [
              0.1111111111111111,
              "#46039f"
             ],
             [
              0.2222222222222222,
              "#7201a8"
             ],
             [
              0.3333333333333333,
              "#9c179e"
             ],
             [
              0.4444444444444444,
              "#bd3786"
             ],
             [
              0.5555555555555556,
              "#d8576b"
             ],
             [
              0.6666666666666666,
              "#ed7953"
             ],
             [
              0.7777777777777778,
              "#fb9f3a"
             ],
             [
              0.8888888888888888,
              "#fdca26"
             ],
             [
              1,
              "#f0f921"
             ]
            ],
            "type": "histogram2d"
           }
          ],
          "histogram2dcontour": [
           {
            "colorbar": {
             "outlinewidth": 0,
             "ticks": ""
            },
            "colorscale": [
             [
              0,
              "#0d0887"
             ],
             [
              0.1111111111111111,
              "#46039f"
             ],
             [
              0.2222222222222222,
              "#7201a8"
             ],
             [
              0.3333333333333333,
              "#9c179e"
             ],
             [
              0.4444444444444444,
              "#bd3786"
             ],
             [
              0.5555555555555556,
              "#d8576b"
             ],
             [
              0.6666666666666666,
              "#ed7953"
             ],
             [
              0.7777777777777778,
              "#fb9f3a"
             ],
             [
              0.8888888888888888,
              "#fdca26"
             ],
             [
              1,
              "#f0f921"
             ]
            ],
            "type": "histogram2dcontour"
           }
          ],
          "mesh3d": [
           {
            "colorbar": {
             "outlinewidth": 0,
             "ticks": ""
            },
            "type": "mesh3d"
           }
          ],
          "parcoords": [
           {
            "line": {
             "colorbar": {
              "outlinewidth": 0,
              "ticks": ""
             }
            },
            "type": "parcoords"
           }
          ],
          "pie": [
           {
            "automargin": true,
            "type": "pie"
           }
          ],
          "scatter": [
           {
            "fillpattern": {
             "fillmode": "overlay",
             "size": 10,
             "solidity": 0.2
            },
            "type": "scatter"
           }
          ],
          "scatter3d": [
           {
            "line": {
             "colorbar": {
              "outlinewidth": 0,
              "ticks": ""
             }
            },
            "marker": {
             "colorbar": {
              "outlinewidth": 0,
              "ticks": ""
             }
            },
            "type": "scatter3d"
           }
          ],
          "scattercarpet": [
           {
            "marker": {
             "colorbar": {
              "outlinewidth": 0,
              "ticks": ""
             }
            },
            "type": "scattercarpet"
           }
          ],
          "scattergeo": [
           {
            "marker": {
             "colorbar": {
              "outlinewidth": 0,
              "ticks": ""
             }
            },
            "type": "scattergeo"
           }
          ],
          "scattergl": [
           {
            "marker": {
             "colorbar": {
              "outlinewidth": 0,
              "ticks": ""
             }
            },
            "type": "scattergl"
           }
          ],
          "scattermap": [
           {
            "marker": {
             "colorbar": {
              "outlinewidth": 0,
              "ticks": ""
             }
            },
            "type": "scattermap"
           }
          ],
          "scattermapbox": [
           {
            "marker": {
             "colorbar": {
              "outlinewidth": 0,
              "ticks": ""
             }
            },
            "type": "scattermapbox"
           }
          ],
          "scatterpolar": [
           {
            "marker": {
             "colorbar": {
              "outlinewidth": 0,
              "ticks": ""
             }
            },
            "type": "scatterpolar"
           }
          ],
          "scatterpolargl": [
           {
            "marker": {
             "colorbar": {
              "outlinewidth": 0,
              "ticks": ""
             }
            },
            "type": "scatterpolargl"
           }
          ],
          "scatterternary": [
           {
            "marker": {
             "colorbar": {
              "outlinewidth": 0,
              "ticks": ""
             }
            },
            "type": "scatterternary"
           }
          ],
          "surface": [
           {
            "colorbar": {
             "outlinewidth": 0,
             "ticks": ""
            },
            "colorscale": [
             [
              0,
              "#0d0887"
             ],
             [
              0.1111111111111111,
              "#46039f"
             ],
             [
              0.2222222222222222,
              "#7201a8"
             ],
             [
              0.3333333333333333,
              "#9c179e"
             ],
             [
              0.4444444444444444,
              "#bd3786"
             ],
             [
              0.5555555555555556,
              "#d8576b"
             ],
             [
              0.6666666666666666,
              "#ed7953"
             ],
             [
              0.7777777777777778,
              "#fb9f3a"
             ],
             [
              0.8888888888888888,
              "#fdca26"
             ],
             [
              1,
              "#f0f921"
             ]
            ],
            "type": "surface"
           }
          ],
          "table": [
           {
            "cells": {
             "fill": {
              "color": "#EBF0F8"
             },
             "line": {
              "color": "white"
             }
            },
            "header": {
             "fill": {
              "color": "#C8D4E3"
             },
             "line": {
              "color": "white"
             }
            },
            "type": "table"
           }
          ]
         },
         "layout": {
          "annotationdefaults": {
           "arrowcolor": "#2a3f5f",
           "arrowhead": 0,
           "arrowwidth": 1
          },
          "autotypenumbers": "strict",
          "coloraxis": {
           "colorbar": {
            "outlinewidth": 0,
            "ticks": ""
           }
          },
          "colorscale": {
           "diverging": [
            [
             0,
             "#8e0152"
            ],
            [
             0.1,
             "#c51b7d"
            ],
            [
             0.2,
             "#de77ae"
            ],
            [
             0.3,
             "#f1b6da"
            ],
            [
             0.4,
             "#fde0ef"
            ],
            [
             0.5,
             "#f7f7f7"
            ],
            [
             0.6,
             "#e6f5d0"
            ],
            [
             0.7,
             "#b8e186"
            ],
            [
             0.8,
             "#7fbc41"
            ],
            [
             0.9,
             "#4d9221"
            ],
            [
             1,
             "#276419"
            ]
           ],
           "sequential": [
            [
             0,
             "#0d0887"
            ],
            [
             0.1111111111111111,
             "#46039f"
            ],
            [
             0.2222222222222222,
             "#7201a8"
            ],
            [
             0.3333333333333333,
             "#9c179e"
            ],
            [
             0.4444444444444444,
             "#bd3786"
            ],
            [
             0.5555555555555556,
             "#d8576b"
            ],
            [
             0.6666666666666666,
             "#ed7953"
            ],
            [
             0.7777777777777778,
             "#fb9f3a"
            ],
            [
             0.8888888888888888,
             "#fdca26"
            ],
            [
             1,
             "#f0f921"
            ]
           ],
           "sequentialminus": [
            [
             0,
             "#0d0887"
            ],
            [
             0.1111111111111111,
             "#46039f"
            ],
            [
             0.2222222222222222,
             "#7201a8"
            ],
            [
             0.3333333333333333,
             "#9c179e"
            ],
            [
             0.4444444444444444,
             "#bd3786"
            ],
            [
             0.5555555555555556,
             "#d8576b"
            ],
            [
             0.6666666666666666,
             "#ed7953"
            ],
            [
             0.7777777777777778,
             "#fb9f3a"
            ],
            [
             0.8888888888888888,
             "#fdca26"
            ],
            [
             1,
             "#f0f921"
            ]
           ]
          },
          "colorway": [
           "#636efa",
           "#EF553B",
           "#00cc96",
           "#ab63fa",
           "#FFA15A",
           "#19d3f3",
           "#FF6692",
           "#B6E880",
           "#FF97FF",
           "#FECB52"
          ],
          "font": {
           "color": "#2a3f5f"
          },
          "geo": {
           "bgcolor": "white",
           "lakecolor": "white",
           "landcolor": "#E5ECF6",
           "showlakes": true,
           "showland": true,
           "subunitcolor": "white"
          },
          "hoverlabel": {
           "align": "left"
          },
          "hovermode": "closest",
          "mapbox": {
           "style": "light"
          },
          "paper_bgcolor": "white",
          "plot_bgcolor": "#E5ECF6",
          "polar": {
           "angularaxis": {
            "gridcolor": "white",
            "linecolor": "white",
            "ticks": ""
           },
           "bgcolor": "#E5ECF6",
           "radialaxis": {
            "gridcolor": "white",
            "linecolor": "white",
            "ticks": ""
           }
          },
          "scene": {
           "xaxis": {
            "backgroundcolor": "#E5ECF6",
            "gridcolor": "white",
            "gridwidth": 2,
            "linecolor": "white",
            "showbackground": true,
            "ticks": "",
            "zerolinecolor": "white"
           },
           "yaxis": {
            "backgroundcolor": "#E5ECF6",
            "gridcolor": "white",
            "gridwidth": 2,
            "linecolor": "white",
            "showbackground": true,
            "ticks": "",
            "zerolinecolor": "white"
           },
           "zaxis": {
            "backgroundcolor": "#E5ECF6",
            "gridcolor": "white",
            "gridwidth": 2,
            "linecolor": "white",
            "showbackground": true,
            "ticks": "",
            "zerolinecolor": "white"
           }
          },
          "shapedefaults": {
           "line": {
            "color": "#2a3f5f"
           }
          },
          "ternary": {
           "aaxis": {
            "gridcolor": "white",
            "linecolor": "white",
            "ticks": ""
           },
           "baxis": {
            "gridcolor": "white",
            "linecolor": "white",
            "ticks": ""
           },
           "bgcolor": "#E5ECF6",
           "caxis": {
            "gridcolor": "white",
            "linecolor": "white",
            "ticks": ""
           }
          },
          "title": {
           "x": 0.05
          },
          "xaxis": {
           "automargin": true,
           "gridcolor": "white",
           "linecolor": "white",
           "ticks": "",
           "title": {
            "standoff": 15
           },
           "zerolinecolor": "white",
           "zerolinewidth": 2
          },
          "yaxis": {
           "automargin": true,
           "gridcolor": "white",
           "linecolor": "white",
           "ticks": "",
           "title": {
            "standoff": 15
           },
           "zerolinecolor": "white",
           "zerolinewidth": 2
          }
         }
        },
        "title": {
         "text": "Tons of Uranium Used per Year"
        },
        "xaxis": {
         "title": {
          "text": "Year"
         }
        },
        "yaxis": {
         "title": {
          "text": "MTU"
         }
        }
       }
      }
     },
     "metadata": {},
     "output_type": "display_data"
    }
   ],
   "source": [
    "fig = go.Figure(\n",
    "    go.Scatter(\n",
    "        x=waste_df['year'],\n",
    "        y=waste_df['total_tons_uranium'],\n",
    "        mode='lines+markers',\n",
    "        line=dict(\n",
    "            color=\"#298f0d\"\n",
    "        ),\n",
    "    )\n",
    ")\n",
    "\n",
    "fig.update_layout(\n",
    "    title=\"Tons of Uranium Used per Year\",\n",
    "    xaxis_title=\"Year\",\n",
    "    yaxis_title=\"MTU\",\n",
    ")\n",
    "\n",
    "fig.show()"
   ]
  },
  {
   "cell_type": "code",
   "execution_count": 32,
   "id": "791cbf21",
   "metadata": {},
   "outputs": [
    {
     "data": {
      "application/vnd.plotly.v1+json": {
       "config": {
        "plotlyServerURL": "https://plot.ly"
       },
       "data": [
        {
         "line": {
          "color": "#298f0d"
         },
         "mode": "lines+markers",
         "type": "scatter",
         "x": {
          "bdata": "sAexB7IHswe0B7UHtge3B7gHuQe6B7sHvAe9B74HvwfAB8EHwgfDB8QHxQfGB8cHyAfJB8oHywfMB80HzgfPB9AH0QfSB9MH1AfVB9YH1wfYB9kH2gfbB9wH3QfeB98H4AfhBw==",
          "dtype": "i2"
         },
         "y": {
          "bdata": "AAAAAAAAAAAzMzMzMzMjQJqZmZmZGUtANDMzMzPDY0AAAAAAADB4QAAAAAAABIFAMzMzMzPzjkDMzMzMzPqXQAAAAAAAaaFAmpmZmZn+p0DNzMzMTDmwQGZmZmbmjbRAZmZmZmZjuUBmZmZmZsC9QAAAAADA0sBAZmZmZiZEw0AAAAAAwODFQAAAAADAnchAMzMzMzNsy0AzMzMzc7rOQAAAAACA9NBAmpmZmZnJ0kDNzMzM7OXUQAAAAABgmtZAmpmZmVnO2EAAAAAAIOnaQAAAAAAguNxAAAAAAMAR30DNzMzMXK3gQGdmZmYGuuFAmpmZmYmB4kA0MzMzA6LjQAEAAAAQseRANDMzM5Od5UA0MzMzA8PmQAEAAACg6udAm5mZmfnb6ECbmZmZmf/pQM7MzMzsFutAzszMzDwV7EDOzMzMfDntQDQzMzMzZO5AZ2ZmZgZm70BnZmZmnkPwQDQzMzNL2vBAZ2ZmZpZT8UDNzMzMzOXxQM3MzMzUc/JAAAAAAOju8kCamZmZEX3zQA==",
          "dtype": "f8"
         }
        }
       ],
       "layout": {
        "template": {
         "data": {
          "bar": [
           {
            "error_x": {
             "color": "#2a3f5f"
            },
            "error_y": {
             "color": "#2a3f5f"
            },
            "marker": {
             "line": {
              "color": "#E5ECF6",
              "width": 0.5
             },
             "pattern": {
              "fillmode": "overlay",
              "size": 10,
              "solidity": 0.2
             }
            },
            "type": "bar"
           }
          ],
          "barpolar": [
           {
            "marker": {
             "line": {
              "color": "#E5ECF6",
              "width": 0.5
             },
             "pattern": {
              "fillmode": "overlay",
              "size": 10,
              "solidity": 0.2
             }
            },
            "type": "barpolar"
           }
          ],
          "carpet": [
           {
            "aaxis": {
             "endlinecolor": "#2a3f5f",
             "gridcolor": "white",
             "linecolor": "white",
             "minorgridcolor": "white",
             "startlinecolor": "#2a3f5f"
            },
            "baxis": {
             "endlinecolor": "#2a3f5f",
             "gridcolor": "white",
             "linecolor": "white",
             "minorgridcolor": "white",
             "startlinecolor": "#2a3f5f"
            },
            "type": "carpet"
           }
          ],
          "choropleth": [
           {
            "colorbar": {
             "outlinewidth": 0,
             "ticks": ""
            },
            "type": "choropleth"
           }
          ],
          "contour": [
           {
            "colorbar": {
             "outlinewidth": 0,
             "ticks": ""
            },
            "colorscale": [
             [
              0,
              "#0d0887"
             ],
             [
              0.1111111111111111,
              "#46039f"
             ],
             [
              0.2222222222222222,
              "#7201a8"
             ],
             [
              0.3333333333333333,
              "#9c179e"
             ],
             [
              0.4444444444444444,
              "#bd3786"
             ],
             [
              0.5555555555555556,
              "#d8576b"
             ],
             [
              0.6666666666666666,
              "#ed7953"
             ],
             [
              0.7777777777777778,
              "#fb9f3a"
             ],
             [
              0.8888888888888888,
              "#fdca26"
             ],
             [
              1,
              "#f0f921"
             ]
            ],
            "type": "contour"
           }
          ],
          "contourcarpet": [
           {
            "colorbar": {
             "outlinewidth": 0,
             "ticks": ""
            },
            "type": "contourcarpet"
           }
          ],
          "heatmap": [
           {
            "colorbar": {
             "outlinewidth": 0,
             "ticks": ""
            },
            "colorscale": [
             [
              0,
              "#0d0887"
             ],
             [
              0.1111111111111111,
              "#46039f"
             ],
             [
              0.2222222222222222,
              "#7201a8"
             ],
             [
              0.3333333333333333,
              "#9c179e"
             ],
             [
              0.4444444444444444,
              "#bd3786"
             ],
             [
              0.5555555555555556,
              "#d8576b"
             ],
             [
              0.6666666666666666,
              "#ed7953"
             ],
             [
              0.7777777777777778,
              "#fb9f3a"
             ],
             [
              0.8888888888888888,
              "#fdca26"
             ],
             [
              1,
              "#f0f921"
             ]
            ],
            "type": "heatmap"
           }
          ],
          "histogram": [
           {
            "marker": {
             "pattern": {
              "fillmode": "overlay",
              "size": 10,
              "solidity": 0.2
             }
            },
            "type": "histogram"
           }
          ],
          "histogram2d": [
           {
            "colorbar": {
             "outlinewidth": 0,
             "ticks": ""
            },
            "colorscale": [
             [
              0,
              "#0d0887"
             ],
             [
              0.1111111111111111,
              "#46039f"
             ],
             [
              0.2222222222222222,
              "#7201a8"
             ],
             [
              0.3333333333333333,
              "#9c179e"
             ],
             [
              0.4444444444444444,
              "#bd3786"
             ],
             [
              0.5555555555555556,
              "#d8576b"
             ],
             [
              0.6666666666666666,
              "#ed7953"
             ],
             [
              0.7777777777777778,
              "#fb9f3a"
             ],
             [
              0.8888888888888888,
              "#fdca26"
             ],
             [
              1,
              "#f0f921"
             ]
            ],
            "type": "histogram2d"
           }
          ],
          "histogram2dcontour": [
           {
            "colorbar": {
             "outlinewidth": 0,
             "ticks": ""
            },
            "colorscale": [
             [
              0,
              "#0d0887"
             ],
             [
              0.1111111111111111,
              "#46039f"
             ],
             [
              0.2222222222222222,
              "#7201a8"
             ],
             [
              0.3333333333333333,
              "#9c179e"
             ],
             [
              0.4444444444444444,
              "#bd3786"
             ],
             [
              0.5555555555555556,
              "#d8576b"
             ],
             [
              0.6666666666666666,
              "#ed7953"
             ],
             [
              0.7777777777777778,
              "#fb9f3a"
             ],
             [
              0.8888888888888888,
              "#fdca26"
             ],
             [
              1,
              "#f0f921"
             ]
            ],
            "type": "histogram2dcontour"
           }
          ],
          "mesh3d": [
           {
            "colorbar": {
             "outlinewidth": 0,
             "ticks": ""
            },
            "type": "mesh3d"
           }
          ],
          "parcoords": [
           {
            "line": {
             "colorbar": {
              "outlinewidth": 0,
              "ticks": ""
             }
            },
            "type": "parcoords"
           }
          ],
          "pie": [
           {
            "automargin": true,
            "type": "pie"
           }
          ],
          "scatter": [
           {
            "fillpattern": {
             "fillmode": "overlay",
             "size": 10,
             "solidity": 0.2
            },
            "type": "scatter"
           }
          ],
          "scatter3d": [
           {
            "line": {
             "colorbar": {
              "outlinewidth": 0,
              "ticks": ""
             }
            },
            "marker": {
             "colorbar": {
              "outlinewidth": 0,
              "ticks": ""
             }
            },
            "type": "scatter3d"
           }
          ],
          "scattercarpet": [
           {
            "marker": {
             "colorbar": {
              "outlinewidth": 0,
              "ticks": ""
             }
            },
            "type": "scattercarpet"
           }
          ],
          "scattergeo": [
           {
            "marker": {
             "colorbar": {
              "outlinewidth": 0,
              "ticks": ""
             }
            },
            "type": "scattergeo"
           }
          ],
          "scattergl": [
           {
            "marker": {
             "colorbar": {
              "outlinewidth": 0,
              "ticks": ""
             }
            },
            "type": "scattergl"
           }
          ],
          "scattermap": [
           {
            "marker": {
             "colorbar": {
              "outlinewidth": 0,
              "ticks": ""
             }
            },
            "type": "scattermap"
           }
          ],
          "scattermapbox": [
           {
            "marker": {
             "colorbar": {
              "outlinewidth": 0,
              "ticks": ""
             }
            },
            "type": "scattermapbox"
           }
          ],
          "scatterpolar": [
           {
            "marker": {
             "colorbar": {
              "outlinewidth": 0,
              "ticks": ""
             }
            },
            "type": "scatterpolar"
           }
          ],
          "scatterpolargl": [
           {
            "marker": {
             "colorbar": {
              "outlinewidth": 0,
              "ticks": ""
             }
            },
            "type": "scatterpolargl"
           }
          ],
          "scatterternary": [
           {
            "marker": {
             "colorbar": {
              "outlinewidth": 0,
              "ticks": ""
             }
            },
            "type": "scatterternary"
           }
          ],
          "surface": [
           {
            "colorbar": {
             "outlinewidth": 0,
             "ticks": ""
            },
            "colorscale": [
             [
              0,
              "#0d0887"
             ],
             [
              0.1111111111111111,
              "#46039f"
             ],
             [
              0.2222222222222222,
              "#7201a8"
             ],
             [
              0.3333333333333333,
              "#9c179e"
             ],
             [
              0.4444444444444444,
              "#bd3786"
             ],
             [
              0.5555555555555556,
              "#d8576b"
             ],
             [
              0.6666666666666666,
              "#ed7953"
             ],
             [
              0.7777777777777778,
              "#fb9f3a"
             ],
             [
              0.8888888888888888,
              "#fdca26"
             ],
             [
              1,
              "#f0f921"
             ]
            ],
            "type": "surface"
           }
          ],
          "table": [
           {
            "cells": {
             "fill": {
              "color": "#EBF0F8"
             },
             "line": {
              "color": "white"
             }
            },
            "header": {
             "fill": {
              "color": "#C8D4E3"
             },
             "line": {
              "color": "white"
             }
            },
            "type": "table"
           }
          ]
         },
         "layout": {
          "annotationdefaults": {
           "arrowcolor": "#2a3f5f",
           "arrowhead": 0,
           "arrowwidth": 1
          },
          "autotypenumbers": "strict",
          "coloraxis": {
           "colorbar": {
            "outlinewidth": 0,
            "ticks": ""
           }
          },
          "colorscale": {
           "diverging": [
            [
             0,
             "#8e0152"
            ],
            [
             0.1,
             "#c51b7d"
            ],
            [
             0.2,
             "#de77ae"
            ],
            [
             0.3,
             "#f1b6da"
            ],
            [
             0.4,
             "#fde0ef"
            ],
            [
             0.5,
             "#f7f7f7"
            ],
            [
             0.6,
             "#e6f5d0"
            ],
            [
             0.7,
             "#b8e186"
            ],
            [
             0.8,
             "#7fbc41"
            ],
            [
             0.9,
             "#4d9221"
            ],
            [
             1,
             "#276419"
            ]
           ],
           "sequential": [
            [
             0,
             "#0d0887"
            ],
            [
             0.1111111111111111,
             "#46039f"
            ],
            [
             0.2222222222222222,
             "#7201a8"
            ],
            [
             0.3333333333333333,
             "#9c179e"
            ],
            [
             0.4444444444444444,
             "#bd3786"
            ],
            [
             0.5555555555555556,
             "#d8576b"
            ],
            [
             0.6666666666666666,
             "#ed7953"
            ],
            [
             0.7777777777777778,
             "#fb9f3a"
            ],
            [
             0.8888888888888888,
             "#fdca26"
            ],
            [
             1,
             "#f0f921"
            ]
           ],
           "sequentialminus": [
            [
             0,
             "#0d0887"
            ],
            [
             0.1111111111111111,
             "#46039f"
            ],
            [
             0.2222222222222222,
             "#7201a8"
            ],
            [
             0.3333333333333333,
             "#9c179e"
            ],
            [
             0.4444444444444444,
             "#bd3786"
            ],
            [
             0.5555555555555556,
             "#d8576b"
            ],
            [
             0.6666666666666666,
             "#ed7953"
            ],
            [
             0.7777777777777778,
             "#fb9f3a"
            ],
            [
             0.8888888888888888,
             "#fdca26"
            ],
            [
             1,
             "#f0f921"
            ]
           ]
          },
          "colorway": [
           "#636efa",
           "#EF553B",
           "#00cc96",
           "#ab63fa",
           "#FFA15A",
           "#19d3f3",
           "#FF6692",
           "#B6E880",
           "#FF97FF",
           "#FECB52"
          ],
          "font": {
           "color": "#2a3f5f"
          },
          "geo": {
           "bgcolor": "white",
           "lakecolor": "white",
           "landcolor": "#E5ECF6",
           "showlakes": true,
           "showland": true,
           "subunitcolor": "white"
          },
          "hoverlabel": {
           "align": "left"
          },
          "hovermode": "closest",
          "mapbox": {
           "style": "light"
          },
          "paper_bgcolor": "white",
          "plot_bgcolor": "#E5ECF6",
          "polar": {
           "angularaxis": {
            "gridcolor": "white",
            "linecolor": "white",
            "ticks": ""
           },
           "bgcolor": "#E5ECF6",
           "radialaxis": {
            "gridcolor": "white",
            "linecolor": "white",
            "ticks": ""
           }
          },
          "scene": {
           "xaxis": {
            "backgroundcolor": "#E5ECF6",
            "gridcolor": "white",
            "gridwidth": 2,
            "linecolor": "white",
            "showbackground": true,
            "ticks": "",
            "zerolinecolor": "white"
           },
           "yaxis": {
            "backgroundcolor": "#E5ECF6",
            "gridcolor": "white",
            "gridwidth": 2,
            "linecolor": "white",
            "showbackground": true,
            "ticks": "",
            "zerolinecolor": "white"
           },
           "zaxis": {
            "backgroundcolor": "#E5ECF6",
            "gridcolor": "white",
            "gridwidth": 2,
            "linecolor": "white",
            "showbackground": true,
            "ticks": "",
            "zerolinecolor": "white"
           }
          },
          "shapedefaults": {
           "line": {
            "color": "#2a3f5f"
           }
          },
          "ternary": {
           "aaxis": {
            "gridcolor": "white",
            "linecolor": "white",
            "ticks": ""
           },
           "baxis": {
            "gridcolor": "white",
            "linecolor": "white",
            "ticks": ""
           },
           "bgcolor": "#E5ECF6",
           "caxis": {
            "gridcolor": "white",
            "linecolor": "white",
            "ticks": ""
           }
          },
          "title": {
           "x": 0.05
          },
          "xaxis": {
           "automargin": true,
           "gridcolor": "white",
           "linecolor": "white",
           "ticks": "",
           "title": {
            "standoff": 15
           },
           "zerolinecolor": "white",
           "zerolinewidth": 2
          },
          "yaxis": {
           "automargin": true,
           "gridcolor": "white",
           "linecolor": "white",
           "ticks": "",
           "title": {
            "standoff": 15
           },
           "zerolinecolor": "white",
           "zerolinewidth": 2
          }
         }
        },
        "title": {
         "text": "Tons of Uranium in Containment"
        },
        "xaxis": {
         "title": {
          "text": "Year"
         }
        },
        "yaxis": {
         "title": {
          "text": "MTU"
         }
        }
       }
      }
     },
     "metadata": {},
     "output_type": "display_data"
    }
   ],
   "source": [
    "\n",
    "waste_values = waste_df['total_tons_uranium']\n",
    "total_uranium = []\n",
    "uranium_used = 0\n",
    "for datapoint in waste_values:\n",
    "    uranium_used += datapoint\n",
    "    total_uranium.append(uranium_used)\n",
    "\n",
    "waste_df['uranium_used'] = total_uranium\n",
    "\n",
    "fig = go.Figure(\n",
    "    go.Scatter(\n",
    "        x=waste_df['year'],\n",
    "        y=waste_df['uranium_used'],\n",
    "        mode='lines+markers',\n",
    "        line=dict(\n",
    "            color=\"#298f0d\"\n",
    "        ),\n",
    "    )\n",
    ")\n",
    "\n",
    "fig.update_layout(\n",
    "    title=\"Tons of Uranium in Containment\",\n",
    "    xaxis_title=\"Year\",\n",
    "    yaxis_title=\"MTU\",\n",
    ")\n",
    "\n",
    "fig.show()"
   ]
  },
  {
   "cell_type": "markdown",
   "id": "69bc4d86",
   "metadata": {},
   "source": [
    "We see that the amount of uranium that is used per year is not increasing in recent times, as nuclear energy is not expanding rapidly in the U.S. The amount of total nuclear waste is likely to keep increasing by around 45k MTU yearly.\n",
    "\n",
    "As nuclear energy is not yet the most prevelant form of energy in the U.S. and as the amount of nuclear energy is already quite high, the creation and storage of nuclear waste remains a significant challange in the nuclear energy sector"
   ]
  },
  {
   "cell_type": "markdown",
   "id": "b663be93",
   "metadata": {},
   "source": [
    "## The Costs of Nuclear Energy\n",
    "\n",
    "In this section we will look into the economic costs of nuclear energy relative to other forms of energy production. This ties into perspective 1.\n",
    "\n",
    "The following charts show the average (LCOE) by energy source, which is the cost of energy production in dollars per MWh."
   ]
  },
  {
   "cell_type": "code",
   "execution_count": 33,
   "id": "d5a04798",
   "metadata": {},
   "outputs": [
    {
     "data": {
      "image/png": "[encoded data removed]",
      "text/plain": [
       "<Figure size 800x600 with 1 Axes>"
      ]
     },
     "metadata": {},
     "output_type": "display_data"
    },
    {
     "data": {
      "image/png": "[encoded data removed]",
      "text/plain": [
       "<Figure size 800x600 with 1 Axes>"
      ]
     },
     "metadata": {},
     "output_type": "display_data"
    }
   ],
   "source": [
    "df = pd.read_csv(\"nuclear_data/levelised_cost_of_electricity.csv\").drop(index=0)\n",
    "df = df.rename(columns={\n",
    "    'Capital costs': 'Capital',\n",
    "    'O&M': 'OM',\n",
    "    'Fuel (th)': 'Fuel_th',\n",
    "    'Fuel (el)': 'Fuel_el',\n",
    "    'Carbon': 'Carbon',\n",
    "    'CHP heat revenues': 'CHP_revenue',\n",
    "    'LCOE': 'LCOE',\n",
    "    'Category': 'Category',\n",
    "    'Country': 'Country'\n",
    "})\n",
    "df[['LCOE']] = df[['LCOE']].apply(pd.to_numeric, errors='coerce')\n",
    "df = df.dropna(subset=['Category', 'LCOE'])\n",
    "\n",
    "nuclear = df[df['Category'] == 'Nuclear']\n",
    "nuclear_mean = nuclear['LCOE'].mean()\n",
    "\n",
    "competitors = ['Wind', 'Solar', 'Gas', 'Coal']\n",
    "comp_means = {}\n",
    "savings = {}\n",
    "\n",
    "for comp in competitors:\n",
    "    mean = df[df['Category'] == comp]['LCOE'].mean()\n",
    "    comp_means[comp] = mean\n",
    "    savings[comp] = ((mean - nuclear_mean) / mean) * 100\n",
    "\n",
    "labels = ['Nuclear'] + competitors\n",
    "values = [nuclear_mean] + [comp_means[c] for c in competitors]\n",
    "\n",
    "plt.figure(figsize=(8, 6))\n",
    "bars = plt.bar(labels, values, color=['green'] + ['gray']*len(competitors))\n",
    "plt.ylabel(\"Average LCOE (USD/MWh)\")\n",
    "plt.title(\"Average LCOE by Energy Source\")\n",
    "plt.grid(False)\n",
    "for bar in bars:\n",
    "    yval = bar.get_height()\n",
    "    plt.text(bar.get_x() + bar.get_width()/2, yval + 1, f\"${yval:.1f}\", ha='center')\n",
    "plt.ylim(0, max(values) + 20)\n",
    "plt.tight_layout()\n",
    "plt.show()\n",
    "\n",
    "plt.figure(figsize=(8, 6))\n",
    "bars2 = plt.bar(savings.keys(), savings.values(), color='green')\n",
    "plt.ylabel(\"Percent Cheaper Than Competitor\")\n",
    "plt.title(\"Nuclear Cost Advantage Over Other Technologies\")\n",
    "plt.grid(False)\n",
    "\n",
    "for bar in bars2:\n",
    "    yval = bar.get_height()\n",
    "    plt.text(bar.get_x() + bar.get_width()/2, yval + 1, f\"{yval:.1f}%\", ha='center')\n",
    "plt.ylim(0, max(savings.values()) + 10)\n",
    "plt.axhline(0, color='black', linewidth=0.8)\n",
    "plt.tight_layout()\n",
    "plt.show()"
   ]
  },
  {
   "cell_type": "code",
   "execution_count": 34,
   "id": "108c34c8",
   "metadata": {},
   "outputs": [
    {
     "name": "stderr",
     "output_type": "stream",
     "text": [
      "/tmp/ipykernel_7052/4028945921.py:28: FutureWarning:\n",
      "\n",
      "\n",
      "\n",
      "Passing `palette` without assigning `hue` is deprecated and will be removed in v0.14.0. Assign the `y` variable to `hue` and set `legend=False` for the same effect.\n",
      "\n",
      "\n"
     ]
    },
    {
     "data": {
      "image/png": "[encoded data removed]",
      "text/plain": [
       "<Figure size 1000x600 with 1 Axes>"
      ]
     },
     "metadata": {},
     "output_type": "display_data"
    }
   ],
   "source": [
    "df = pd.read_csv(\"nuclear_data/levelised_cost_of_electricity.csv\").drop(index=0)\n",
    "\n",
    "df = df.rename(columns={\n",
    "    'Capital costs': 'Capital',\n",
    "    'O&M': 'OM',\n",
    "    'Fuel (th)': 'Fuel_th',\n",
    "    'Fuel (el)': 'Fuel_el',\n",
    "    'Carbon': 'Carbon',\n",
    "    'CHP heat revenues': 'CHP_revenue',\n",
    "    'LCOE': 'LCOE',\n",
    "    'Category': 'Category',\n",
    "    'Country': 'Country'\n",
    "})\n",
    "\n",
    "cols = ['Capital', 'OM', 'Fuel_th', 'Fuel_el', 'Carbon', 'CHP_revenue', 'LCOE']\n",
    "df[cols] = df[cols].apply(pd.to_numeric, errors='coerce')\n",
    "\n",
    "df = df.dropna(subset=['Category', 'LCOE'])\n",
    "\n",
    "sns.set_theme(style=\"whitegrid\")\n",
    "\n",
    "plt.figure(figsize=(10, 6))\n",
    "avg_lcoe = df.groupby('Category')['LCOE'].mean().sort_values()\n",
    "\n",
    "n_colors = len(avg_lcoe)\n",
    "palette = sns.color_palette(\"RdYlGn_r\", n_colors) \n",
    "\n",
    "sns.barplot(x=avg_lcoe.values, y=avg_lcoe.index, palette=palette)\n",
    "plt.title(\"Average LCOE by Technology Category\")\n",
    "plt.xlabel(\"LCOE (USD/MWh)\")\n",
    "plt.tight_layout()\n",
    "plt.show()"
   ]
  },
  {
   "cell_type": "markdown",
   "id": "4aedb5ce",
   "metadata": {},
   "source": [
    "We see that nuclear energy is by far the cheapest form of electricity and has a significant advantage over all other forms of energy production. This means that it is an econimically viable alternative to fossil fuels."
   ]
  }
 ],
 "metadata": {
  "kernelspec": {
   "display_name": "jupyterbook",
   "language": "python",
   "name": "python3"
  },
  "language_info": {
   "codemirror_mode": {
    "name": "ipython",
    "version": 3
   },
   "file_extension": ".py",
   "mimetype": "text/x-python",
   "name": "python",
   "nbconvert_exporter": "python",
   "pygments_lexer": "ipython3",
   "version": "3.10.16"
  }
 },
 "nbformat": 4,
 "nbformat_minor": 5
}
