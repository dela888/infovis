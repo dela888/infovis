{
 "cells": [
  {
   "cell_type": "markdown",
   "id": "9a55bcbd",
   "metadata": {},
   "source": [
    "# Nuclear energy - the future, or a danger to society"
   ]
  },
  {
   "cell_type": "markdown",
   "id": "3246ed5c",
   "metadata": {},
   "source": [
    "Nuclear energy has been on the rise in the current decade, as there has been a growing interest in a more sustainable energy source. This is due to the fact that nuclear energy's ability to generate large amounts of energy with a minimal carbon footprint. However, it is still quite a controversial form of power generation.\n",
    "\n",
    "Due to historical accidents, such as Chernobyl, concerns over radioactive waste management and other issues, public opinion has become divided on whether nuclear energy should be used as a primary energy source. It could be seen as a powerful source of clean energy but also as one with potential safety risks.\n",
    "\n",
    "In a time with increasing demand for global energy and urgent climate goals, nuclear energy is gaining attention again as a possible solution to the problems. Our data story aims to explore and show the two sides of nuclear energy and to demonstrate that nuclear energy could be the start of a cleaner power generation, while also showing the challenges of receiving the energy.\n"
   ]
  },
  {
   "cell_type": "markdown",
   "id": "c6a98848",
   "metadata": {},
   "source": [
    "## Perspective 1\n",
    "In our first perspective we look at the low environmental impact of nuclear energy and its low costs in comparison with other energy sources.\n",
    "- Argument 1.1 Nuclear energy is a clean and efficient energy source. \n",
    "Nuclear energy can play a large role in fighting climate change because of its minimal co2 emission and low environmental impact among other factors. While still producing large amounts of energy.\n",
    "\n",
    "- Argument 1.2 Nuclear energy is cheap\n",
    "In addition, nuclear energy is cheap in comparison to other energy sources. Nuclear power plants have high construction costs however their operating costs are relatively low and can result in long-term cost-effectiveness.\n",
    "\n",
    "## Perspective 2\n",
    "In our second perspective we look at how Nuclear energy can be harmful to humans and the environment.\n",
    "- Argument 2.1 Nuclear energy is a safety hazard and could harm humans\n",
    "Nuclear energy plants can be very dangerous, especially when accidents happen. These accidents can cause the release of radioactive materials into the environment. This can cause a lot of danger to humans, like causing illnesses such as cancer. \n",
    "\n",
    "- Argument 2.2 Nuclear energy plants produce a lot of nuclear waste\n",
    "When making nuclear energy nuclear waste is a byproduct. This nuclear waste is highly radioactive and hard to discard. Because of its radioactivity it can cause harm to humans and the environment. \n"
   ]
  },
  {
   "cell_type": "code",
   "execution_count": 1,
   "id": "c2ffdce3",
   "metadata": {},
   "outputs": [],
   "source": [
    "import pandas as pd\n",
    "import plotly.express as px\n",
    "import plotly.graph_objects as go\n",
    "import matplotlib.pyplot as plt\n",
    "import seaborn as sns\n",
    "import numpy as np\n",
    "from plotly.subplots import make_subplots"
   ]
  },
  {
   "cell_type": "code",
   "execution_count": 2,
   "id": "281722d3",
   "metadata": {},
   "outputs": [],
   "source": [
    "df = pd.read_csv('nuclear_data/impacts-of-energy-sources.csv')\n",
    "\n",
    "df = df.drop(['Agricultural land use', 'Urban land use', 'Death rates', 'Year'], axis=1)\n",
    "\n",
    "df = df.rename(columns={'Greenhouse gas emissions': 'Greenhouse gas emissions (kg CO2 eq.)', \n",
    "                        'Freshwater eutrophication': 'Freshwater eutrophication (kg P eq.)', \n",
    "                        'Ionising radiation':'Ionising radiation (kBq 235U eq)', \n",
    "                        'Water use':'Water use (m3)',\n",
    "                        'Metal and mineral requirements':'Metal and mineral requirements (kg Sb eq.)',\n",
    "                        'Non-carcinogenic toxicity':'Non-carcinogenic toxicity (CTUh)',\n",
    "                        'Carcinogenic toxicity':'Carcinogenic toxicity (CTUh)',\n",
    "                        'Total land use':'Total land use (points)',\n",
    "                        'Uranium':'Uranium (kg Sb eq.)'})\n",
    "\n",
    "df['Entity'] = df['Entity'].replace('Coal with carbon capture (CCS)', 'Coal')\n",
    "\n",
    "df['Entity'] = df['Entity'].replace('Concentrating solar (tower)', 'Concentrating Solar')\n",
    "df['Entity'] = df['Entity'].replace('Concentrating solar (trough)', 'Concentrating Solar')\n",
    "\n",
    "df['Entity'] = df['Entity'].replace('Solar PV, cadmium (roof)', 'Solar PV')\n",
    "df['Entity'] = df['Entity'].replace('Solar PV, cadmium (on-ground)', 'Solar PV')\n",
    "df['Entity'] = df['Entity'].replace('Solar PV, silicon (on-ground)', 'Solar PV')\n",
    "df['Entity'] = df['Entity'].replace('Solar PV, silicon (roof)', 'Solar PV')\n",
    "\n",
    "df['Entity'] = df['Entity'].replace('Gas with carbon capture (CCS)', 'Gas')\n",
    "\n",
    "df['Entity'] = df['Entity'].replace('Offshore wind', 'Wind')\n",
    "df['Entity'] = df['Entity'].replace('Onshore wind', 'Wind')\n",
    "\n",
    "df_combined = df.drop(columns=['Aluminium', 'Chromium', 'Cobalt', 'Copper', 'Manganese', 'Molybdenum', 'Nickel', 'Silicon', 'Zinc'])\n",
    "df_combined['Human toxicity (CTUh)'] = df_combined['Non-carcinogenic toxicity (CTUh)'] + df_combined['Carcinogenic toxicity (CTUh)']\n",
    "df_combined = df_combined.drop(columns=['Non-carcinogenic toxicity (CTUh)', 'Carcinogenic toxicity (CTUh)'])\n",
    "df_combined = df_combined[['Entity', 'Greenhouse gas emissions (kg CO2 eq.)', \n",
    "                           'Freshwater eutrophication (kg P eq.)', \n",
    "                           'Ionising radiation (kBq 235U eq)', \n",
    "                           'Water use (m3)', \n",
    "                           'Total land use (points)', \n",
    "                           'Human toxicity (CTUh)', \n",
    "                           'Metal and mineral requirements (kg Sb eq.)', \n",
    "                           'Uranium (kg Sb eq.)']]\n",
    "\n",
    "df_combined = df_combined.groupby('Entity', as_index=False).sum()"
   ]
  },
  {
   "cell_type": "code",
   "execution_count": 3,
   "id": "7dc986ca",
   "metadata": {},
   "outputs": [
    {
     "data": {
      "application/vnd.plotly.v1+json": {
       "config": {
        "plotlyServerURL": "https://plot.ly"
       },
       "data": [
        {
         "marker": {
          "color": "#636EFA"
         },
         "name": "Coal",
         "showlegend": true,
         "type": "bar",
         "x": [
          "Coal"
         ],
         "xaxis": "x",
         "y": {
          "bdata": "AAAAAADAk0A=",
          "dtype": "f8"
         },
         "yaxis": "y"
        },
        {
         "marker": {
          "color": "#EF553B"
         },
         "name": "Concentrating Solar",
         "showlegend": true,
         "type": "bar",
         "x": [
          "Concentrating Solar"
         ],
         "xaxis": "x",
         "y": {
          "bdata": "AAAAAAAAV0A=",
          "dtype": "f8"
         },
         "yaxis": "y"
        },
        {
         "marker": {
          "color": "#00CC96"
         },
         "name": "Gas",
         "showlegend": true,
         "type": "bar",
         "x": [
          "Gas"
         ],
         "xaxis": "x",
         "y": {
          "bdata": "AAAAAADogUA=",
          "dtype": "f8"
         },
         "yaxis": "y"
        },
        {
         "marker": {
          "color": "#AB63FA"
         },
         "name": "Hydropower",
         "showlegend": true,
         "type": "bar",
         "x": [
          "Hydropower"
         ],
         "xaxis": "x",
         "y": {
          "bdata": "AAAAAABAXUA=",
          "dtype": "f8"
         },
         "yaxis": "y"
        },
        {
         "marker": {
          "color": "#FFA15A"
         },
         "name": "Nuclear",
         "showlegend": true,
         "type": "bar",
         "x": [
          "Nuclear"
         ],
         "xaxis": "x",
         "y": {
          "bdata": "ZmZmZmZmFkA=",
          "dtype": "f8"
         },
         "yaxis": "y"
        },
        {
         "marker": {
          "color": "#19D3F3"
         },
         "name": "Solar PV",
         "showlegend": true,
         "type": "bar",
         "x": [
          "Solar PV"
         ],
         "xaxis": "x",
         "y": {
          "bdata": "AAAAAACAYUA=",
          "dtype": "f8"
         },
         "yaxis": "y"
        },
        {
         "marker": {
          "color": "#FF6692"
         },
         "name": "Wind",
         "showlegend": true,
         "type": "bar",
         "x": [
          "Wind"
         ],
         "xaxis": "x",
         "y": {
          "bdata": "AAAAAAAAPEA=",
          "dtype": "f8"
         },
         "yaxis": "y"
        },
        {
         "marker": {
          "color": "#636EFA"
         },
         "name": "Coal",
         "showlegend": false,
         "type": "bar",
         "x": [
          "Coal"
         ],
         "xaxis": "x2",
         "y": {
          "bdata": "XAU=",
          "dtype": "i2"
         },
         "yaxis": "y2"
        },
        {
         "marker": {
          "color": "#EF553B"
         },
         "name": "Concentrating Solar",
         "showlegend": false,
         "type": "bar",
         "x": [
          "Concentrating Solar"
         ],
         "xaxis": "x2",
         "y": {
          "bdata": "IQ==",
          "dtype": "i1"
         },
         "yaxis": "y2"
        },
        {
         "marker": {
          "color": "#00CC96"
         },
         "name": "Gas",
         "showlegend": false,
         "type": "bar",
         "x": [
          "Gas"
         ],
         "xaxis": "x2",
         "y": {
          "bdata": "Gg==",
          "dtype": "i1"
         },
         "yaxis": "y2"
        },
        {
         "marker": {
          "color": "#AB63FA"
         },
         "name": "Hydropower",
         "showlegend": false,
         "type": "bar",
         "x": [
          "Hydropower"
         ],
         "xaxis": "x2",
         "y": {
          "bdata": "Cg==",
          "dtype": "i1"
         },
         "yaxis": "y2"
        },
        {
         "marker": {
          "color": "#FFA15A"
         },
         "name": "Nuclear",
         "showlegend": false,
         "type": "bar",
         "x": [
          "Nuclear"
         ],
         "xaxis": "x2",
         "y": {
          "bdata": "Bg==",
          "dtype": "i1"
         },
         "yaxis": "y2"
        },
        {
         "marker": {
          "color": "#19D3F3"
         },
         "name": "Solar PV",
         "showlegend": false,
         "type": "bar",
         "x": [
          "Solar PV"
         ],
         "xaxis": "x2",
         "y": {
          "bdata": "cQ==",
          "dtype": "i1"
         },
         "yaxis": "y2"
        },
        {
         "marker": {
          "color": "#FF6692"
         },
         "name": "Wind",
         "showlegend": false,
         "type": "bar",
         "x": [
          "Wind"
         ],
         "xaxis": "x2",
         "y": {
          "bdata": "Dg==",
          "dtype": "i1"
         },
         "yaxis": "y2"
        },
        {
         "marker": {
          "color": "#636EFA"
         },
         "name": "Coal",
         "showlegend": false,
         "type": "bar",
         "x": [
          "Coal"
         ],
         "xaxis": "x3",
         "y": {
          "bdata": "mpmZmZmZJ0A=",
          "dtype": "f8"
         },
         "yaxis": "y3"
        },
        {
         "marker": {
          "color": "#EF553B"
         },
         "name": "Concentrating Solar",
         "showlegend": false,
         "type": "bar",
         "x": [
          "Concentrating Solar"
         ],
         "xaxis": "x3",
         "y": {
          "bdata": "zczMzMzMI0A=",
          "dtype": "f8"
         },
         "yaxis": "y3"
        },
        {
         "marker": {
          "color": "#00CC96"
         },
         "name": "Gas",
         "showlegend": false,
         "type": "bar",
         "x": [
          "Gas"
         ],
         "xaxis": "x3",
         "y": {
          "bdata": "MzMzMzMzIUA=",
          "dtype": "f8"
         },
         "yaxis": "y3"
        },
        {
         "marker": {
          "color": "#AB63FA"
         },
         "name": "Hydropower",
         "showlegend": false,
         "type": "bar",
         "x": [
          "Hydropower"
         ],
         "xaxis": "x3",
         "y": {
          "bdata": "ZmZmZmZmIkA=",
          "dtype": "f8"
         },
         "yaxis": "y3"
        },
        {
         "marker": {
          "color": "#FFA15A"
         },
         "name": "Nuclear",
         "showlegend": false,
         "type": "bar",
         "x": [
          "Nuclear"
         ],
         "xaxis": "x3",
         "y": {
          "bdata": "AAAAAAAALEA=",
          "dtype": "f8"
         },
         "yaxis": "y3"
        },
        {
         "marker": {
          "color": "#19D3F3"
         },
         "name": "Solar PV",
         "showlegend": false,
         "type": "bar",
         "x": [
          "Solar PV"
         ],
         "xaxis": "x3",
         "y": {
          "bdata": "MzMzMzOzMkA=",
          "dtype": "f8"
         },
         "yaxis": "y3"
        },
        {
         "marker": {
          "color": "#FF6692"
         },
         "name": "Wind",
         "showlegend": false,
         "type": "bar",
         "x": [
          "Wind"
         ],
         "xaxis": "x3",
         "y": {
          "bdata": "zczMzMzMAEA=",
          "dtype": "f8"
         },
         "yaxis": "y3"
        },
        {
         "marker": {
          "color": "#636EFA"
         },
         "name": "Coal",
         "showlegend": false,
         "type": "bar",
         "x": [
          "Coal"
         ],
         "xaxis": "x4",
         "y": {
          "bdata": "TgE=",
          "dtype": "i2"
         },
         "yaxis": "y4"
        },
        {
         "marker": {
          "color": "#EF553B"
         },
         "name": "Concentrating Solar",
         "showlegend": false,
         "type": "bar",
         "x": [
          "Concentrating Solar"
         ],
         "xaxis": "x4",
         "y": {
          "bdata": "Ig==",
          "dtype": "i1"
         },
         "yaxis": "y4"
        },
        {
         "marker": {
          "color": "#00CC96"
         },
         "name": "Gas",
         "showlegend": false,
         "type": "bar",
         "x": [
          "Gas"
         ],
         "xaxis": "x4",
         "y": {
          "bdata": "fA==",
          "dtype": "i1"
         },
         "yaxis": "y4"
        },
        {
         "marker": {
          "color": "#AB63FA"
         },
         "name": "Hydropower",
         "showlegend": false,
         "type": "bar",
         "x": [
          "Hydropower"
         ],
         "xaxis": "x4",
         "y": {
          "bdata": "DQ==",
          "dtype": "i1"
         },
         "yaxis": "y4"
        },
        {
         "marker": {
          "color": "#FFA15A"
         },
         "name": "Nuclear",
         "showlegend": false,
         "type": "bar",
         "x": [
          "Nuclear"
         ],
         "xaxis": "x4",
         "y": {
          "bdata": "hAA=",
          "dtype": "i2"
         },
         "yaxis": "y4"
        },
        {
         "marker": {
          "color": "#19D3F3"
         },
         "name": "Solar PV",
         "showlegend": false,
         "type": "bar",
         "x": [
          "Solar PV"
         ],
         "xaxis": "x4",
         "y": {
          "bdata": "Ww==",
          "dtype": "i1"
         },
         "yaxis": "y4"
        },
        {
         "marker": {
          "color": "#FF6692"
         },
         "name": "Wind",
         "showlegend": false,
         "type": "bar",
         "x": [
          "Wind"
         ],
         "xaxis": "x4",
         "y": {
          "bdata": "Dw==",
          "dtype": "i1"
         },
         "yaxis": "y4"
        },
        {
         "marker": {
          "color": "#636EFA"
         },
         "name": "Coal",
         "showlegend": false,
         "type": "bar",
         "x": [
          "Coal"
         ],
         "xaxis": "x5",
         "y": {
          "bdata": "PzAN5NX3QUA=",
          "dtype": "f8"
         },
         "yaxis": "y5"
        },
        {
         "marker": {
          "color": "#EF553B"
         },
         "name": "Concentrating Solar",
         "showlegend": false,
         "type": "bar",
         "x": [
          "Concentrating Solar"
         ],
         "xaxis": "x5",
         "y": {
          "bdata": "lpG8a7caQ0A=",
          "dtype": "f8"
         },
         "yaxis": "y5"
        },
        {
         "marker": {
          "color": "#00CC96"
         },
         "name": "Gas",
         "showlegend": false,
         "type": "bar",
         "x": [
          "Gas"
         ],
         "xaxis": "x5",
         "y": {
          "bdata": "wyWzuetyAkA=",
          "dtype": "f8"
         },
         "yaxis": "y5"
        },
        {
         "marker": {
          "color": "#AB63FA"
         },
         "name": "Hydropower",
         "showlegend": false,
         "type": "bar",
         "x": [
          "Hydropower"
         ],
         "xaxis": "x5",
         "y": {
          "bdata": "fXoqr66xQEA=",
          "dtype": "f8"
         },
         "yaxis": "y5"
        },
        {
         "marker": {
          "color": "#FFA15A"
         },
         "name": "Nuclear",
         "showlegend": false,
         "type": "bar",
         "x": [
          "Nuclear"
         ],
         "xaxis": "x5",
         "y": {
          "bdata": "pFhXzb8S1T8=",
          "dtype": "f8"
         },
         "yaxis": "y5"
        },
        {
         "marker": {
          "color": "#19D3F3"
         },
         "name": "Solar PV",
         "showlegend": false,
         "type": "bar",
         "x": [
          "Solar PV"
         ],
         "xaxis": "x5",
         "y": {
          "bdata": "mMFIyn4QQkA=",
          "dtype": "f8"
         },
         "yaxis": "y5"
        },
        {
         "marker": {
          "color": "#FF6692"
         },
         "name": "Wind",
         "showlegend": false,
         "type": "bar",
         "x": [
          "Wind"
         ],
         "xaxis": "x5",
         "y": {
          "bdata": "AAAAAAAAAAA=",
          "dtype": "f8"
         },
         "yaxis": "y5"
        },
        {
         "marker": {
          "color": "#636EFA"
         },
         "name": "Coal",
         "showlegend": false,
         "type": "bar",
         "x": [
          "Coal"
         ],
         "xaxis": "x6",
         "y": {
          "bdata": "ECndyAK0ZkA=",
          "dtype": "f8"
         },
         "yaxis": "y6"
        },
        {
         "marker": {
          "color": "#EF553B"
         },
         "name": "Concentrating Solar",
         "showlegend": false,
         "type": "bar",
         "x": [
          "Concentrating Solar"
         ],
         "xaxis": "x6",
         "y": {
          "bdata": "pGWxCFYbNUA=",
          "dtype": "f8"
         },
         "yaxis": "y6"
        },
        {
         "marker": {
          "color": "#00CC96"
         },
         "name": "Gas",
         "showlegend": false,
         "type": "bar",
         "x": [
          "Gas"
         ],
         "xaxis": "x6",
         "y": {
          "bdata": "nibGQajUPkA=",
          "dtype": "f8"
         },
         "yaxis": "y6"
        },
        {
         "marker": {
          "color": "#AB63FA"
         },
         "name": "Hydropower",
         "showlegend": false,
         "type": "bar",
         "x": [
          "Hydropower"
         ],
         "xaxis": "x6",
         "y": {
          "bdata": "EC7Jc5A6M0A=",
          "dtype": "f8"
         },
         "yaxis": "y6"
        },
        {
         "marker": {
          "color": "#FFA15A"
         },
         "name": "Nuclear",
         "showlegend": false,
         "type": "bar",
         "x": [
          "Nuclear"
         ],
         "xaxis": "x6",
         "y": {
          "bdata": "NQACc4BqGEA=",
          "dtype": "f8"
         },
         "yaxis": "y6"
        },
        {
         "marker": {
          "color": "#19D3F3"
         },
         "name": "Solar PV",
         "showlegend": false,
         "type": "bar",
         "x": [
          "Solar PV"
         ],
         "xaxis": "x6",
         "y": {
          "bdata": "iyUDRc6kS0A=",
          "dtype": "f8"
         },
         "yaxis": "y6"
        },
        {
         "marker": {
          "color": "#FF6692"
         },
         "name": "Wind",
         "showlegend": false,
         "type": "bar",
         "x": [
          "Wind"
         ],
         "xaxis": "x6",
         "y": {
          "bdata": "FLufG+ZuMkA=",
          "dtype": "f8"
         },
         "yaxis": "y6"
        },
        {
         "marker": {
          "color": "#636EFA"
         },
         "name": "Coal",
         "showlegend": false,
         "type": "bar",
         "x": [
          "Coal"
         ],
         "xaxis": "x7",
         "y": {
          "bdata": "exSuR+F68D8=",
          "dtype": "f8"
         },
         "yaxis": "y7"
        },
        {
         "marker": {
          "color": "#EF553B"
         },
         "name": "Concentrating Solar",
         "showlegend": false,
         "type": "bar",
         "x": [
          "Concentrating Solar"
         ],
         "xaxis": "x7",
         "y": {
          "bdata": "9ihcj8L19D8=",
          "dtype": "f8"
         },
         "yaxis": "y7"
        },
        {
         "marker": {
          "color": "#00CC96"
         },
         "name": "Gas",
         "showlegend": false,
         "type": "bar",
         "x": [
          "Gas"
         ],
         "xaxis": "x7",
         "y": {
          "bdata": "KVyPwvUo3D8=",
          "dtype": "f8"
         },
         "yaxis": "y7"
        },
        {
         "marker": {
          "color": "#AB63FA"
         },
         "name": "Hydropower",
         "showlegend": false,
         "type": "bar",
         "x": [
          "Hydropower"
         ],
         "xaxis": "x7",
         "y": {
          "bdata": "uB6F61G43j8=",
          "dtype": "f8"
         },
         "yaxis": "y7"
        },
        {
         "marker": {
          "color": "#FFA15A"
         },
         "name": "Nuclear",
         "showlegend": false,
         "type": "bar",
         "x": [
          "Nuclear"
         ],
         "xaxis": "x7",
         "y": {
          "bdata": "w/UoXI/C1T8=",
          "dtype": "f8"
         },
         "yaxis": "y7"
        },
        {
         "marker": {
          "color": "#19D3F3"
         },
         "name": "Solar PV",
         "showlegend": false,
         "type": "bar",
         "x": [
          "Solar PV"
         ],
         "xaxis": "x7",
         "y": {
          "bdata": "SOF6FK4HNEA=",
          "dtype": "f8"
         },
         "yaxis": "y7"
        },
        {
         "marker": {
          "color": "#FF6692"
         },
         "name": "Wind",
         "showlegend": false,
         "type": "bar",
         "x": [
          "Wind"
         ],
         "xaxis": "x7",
         "y": {
          "bdata": "rkfhehSu+z8=",
          "dtype": "f8"
         },
         "yaxis": "y7"
        },
        {
         "marker": {
          "color": "#636EFA"
         },
         "name": "Coal",
         "showlegend": false,
         "type": "bar",
         "x": [
          "Coal"
         ],
         "xaxis": "x8",
         "y": {
          "bdata": "J5xAheFL2z8=",
          "dtype": "f8"
         },
         "yaxis": "y8"
        },
        {
         "marker": {
          "color": "#EF553B"
         },
         "name": "Concentrating Solar",
         "showlegend": false,
         "type": "bar",
         "x": [
          "Concentrating Solar"
         ],
         "xaxis": "x8",
         "y": {
          "bdata": "KUfJ9wHy0D8=",
          "dtype": "f8"
         },
         "yaxis": "y8"
        },
        {
         "marker": {
          "color": "#00CC96"
         },
         "name": "Gas",
         "showlegend": false,
         "type": "bar",
         "x": [
          "Gas"
         ],
         "xaxis": "x8",
         "y": {
          "bdata": "8CO5Jwjx2T8=",
          "dtype": "f8"
         },
         "yaxis": "y8"
        },
        {
         "marker": {
          "color": "#AB63FA"
         },
         "name": "Hydropower",
         "showlegend": false,
         "type": "bar",
         "x": [
          "Hydropower"
         ],
         "xaxis": "x8",
         "y": {
          "bdata": "jDDYHAZEdz8=",
          "dtype": "f8"
         },
         "yaxis": "y8"
        },
        {
         "marker": {
          "color": "#FFA15A"
         },
         "name": "Nuclear",
         "showlegend": false,
         "type": "bar",
         "x": [
          "Nuclear"
         ],
         "xaxis": "x8",
         "y": {
          "bdata": "ftW6os42PUA=",
          "dtype": "f8"
         },
         "yaxis": "y8"
        },
        {
         "marker": {
          "color": "#19D3F3"
         },
         "name": "Solar PV",
         "showlegend": false,
         "type": "bar",
         "x": [
          "Solar PV"
         ],
         "xaxis": "x8",
         "y": {
          "bdata": "feLsFZec4z8=",
          "dtype": "f8"
         },
         "yaxis": "y8"
        },
        {
         "marker": {
          "color": "#FF6692"
         },
         "name": "Wind",
         "showlegend": false,
         "type": "bar",
         "x": [
          "Wind"
         ],
         "xaxis": "x8",
         "y": {
          "bdata": "nmh6MPkErz8=",
          "dtype": "f8"
         },
         "yaxis": "y8"
        }
       ],
       "layout": {
        "annotations": [
         {
          "font": {
           "size": 16
          },
          "showarrow": false,
          "text": "Greenhouse gas emissions (kg CO2 eq.)",
          "x": 0.11666666666666665,
          "xanchor": "center",
          "xref": "paper",
          "y": 1,
          "yanchor": "bottom",
          "yref": "paper"
         },
         {
          "font": {
           "size": 16
          },
          "showarrow": false,
          "text": "Freshwater eutrophication (kg P eq.)",
          "x": 0.49999999999999994,
          "xanchor": "center",
          "xref": "paper",
          "y": 1,
          "yanchor": "bottom",
          "yref": "paper"
         },
         {
          "font": {
           "size": 16
          },
          "showarrow": false,
          "text": "Ionising radiation (kBq 235U eq)",
          "x": 0.8833333333333333,
          "xanchor": "center",
          "xref": "paper",
          "y": 1,
          "yanchor": "bottom",
          "yref": "paper"
         },
         {
          "font": {
           "size": 16
          },
          "showarrow": false,
          "text": "Water use (m3)",
          "x": 0.11666666666666665,
          "xanchor": "center",
          "xref": "paper",
          "y": 0.6,
          "yanchor": "bottom",
          "yref": "paper"
         },
         {
          "font": {
           "size": 16
          },
          "showarrow": false,
          "text": "Total land use (points)",
          "x": 0.49999999999999994,
          "xanchor": "center",
          "xref": "paper",
          "y": 0.6,
          "yanchor": "bottom",
          "yref": "paper"
         },
         {
          "font": {
           "size": 16
          },
          "showarrow": false,
          "text": "Human toxicity (CTUh)",
          "x": 0.8833333333333333,
          "xanchor": "center",
          "xref": "paper",
          "y": 0.6,
          "yanchor": "bottom",
          "yref": "paper"
         },
         {
          "font": {
           "size": 16
          },
          "showarrow": false,
          "text": "Metal and mineral requirements (kg Sb eq.)",
          "x": 0.11666666666666665,
          "xanchor": "center",
          "xref": "paper",
          "y": 0.19999999999999998,
          "yanchor": "bottom",
          "yref": "paper"
         },
         {
          "font": {
           "size": 16
          },
          "showarrow": false,
          "text": "Uranium (kg Sb eq.)",
          "x": 0.49999999999999994,
          "xanchor": "center",
          "xref": "paper",
          "y": 0.19999999999999998,
          "yanchor": "bottom",
          "yref": "paper"
         }
        ],
        "height": 1300,
        "legend": {
         "title": {
          "text": "Energy Source"
         }
        },
        "template": {
         "data": {
          "bar": [
           {
            "error_x": {
             "color": "#2a3f5f"
            },
            "error_y": {
             "color": "#2a3f5f"
            },
            "marker": {
             "line": {
              "color": "#E5ECF6",
              "width": 0.5
             },
             "pattern": {
              "fillmode": "overlay",
              "size": 10,
              "solidity": 0.2
             }
            },
            "type": "bar"
           }
          ],
          "barpolar": [
           {
            "marker": {
             "line": {
              "color": "#E5ECF6",
              "width": 0.5
             },
             "pattern": {
              "fillmode": "overlay",
              "size": 10,
              "solidity": 0.2
             }
            },
            "type": "barpolar"
           }
          ],
          "carpet": [
           {
            "aaxis": {
             "endlinecolor": "#2a3f5f",
             "gridcolor": "white",
             "linecolor": "white",
             "minorgridcolor": "white",
             "startlinecolor": "#2a3f5f"
            },
            "baxis": {
             "endlinecolor": "#2a3f5f",
             "gridcolor": "white",
             "linecolor": "white",
             "minorgridcolor": "white",
             "startlinecolor": "#2a3f5f"
            },
            "type": "carpet"
           }
          ],
          "choropleth": [
           {
            "colorbar": {
             "outlinewidth": 0,
             "ticks": ""
            },
            "type": "choropleth"
           }
          ],
          "contour": [
           {
            "colorbar": {
             "outlinewidth": 0,
             "ticks": ""
            },
            "colorscale": [
             [
              0,
              "#0d0887"
             ],
             [
              0.1111111111111111,
              "#46039f"
             ],
             [
              0.2222222222222222,
              "#7201a8"
             ],
             [
              0.3333333333333333,
              "#9c179e"
             ],
             [
              0.4444444444444444,
              "#bd3786"
             ],
             [
              0.5555555555555556,
              "#d8576b"
             ],
             [
              0.6666666666666666,
              "#ed7953"
             ],
             [
              0.7777777777777778,
              "#fb9f3a"
             ],
             [
              0.8888888888888888,
              "#fdca26"
             ],
             [
              1,
              "#f0f921"
             ]
            ],
            "type": "contour"
           }
          ],
          "contourcarpet": [
           {
            "colorbar": {
             "outlinewidth": 0,
             "ticks": ""
            },
            "type": "contourcarpet"
           }
          ],
          "heatmap": [
           {
            "colorbar": {
             "outlinewidth": 0,
             "ticks": ""
            },
            "colorscale": [
             [
              0,
              "#0d0887"
             ],
             [
              0.1111111111111111,
              "#46039f"
             ],
             [
              0.2222222222222222,
              "#7201a8"
             ],
             [
              0.3333333333333333,
              "#9c179e"
             ],
             [
              0.4444444444444444,
              "#bd3786"
             ],
             [
              0.5555555555555556,
              "#d8576b"
             ],
             [
              0.6666666666666666,
              "#ed7953"
             ],
             [
              0.7777777777777778,
              "#fb9f3a"
             ],
             [
              0.8888888888888888,
              "#fdca26"
             ],
             [
              1,
              "#f0f921"
             ]
            ],
            "type": "heatmap"
           }
          ],
          "histogram": [
           {
            "marker": {
             "pattern": {
              "fillmode": "overlay",
              "size": 10,
              "solidity": 0.2
             }
            },
            "type": "histogram"
           }
          ],
          "histogram2d": [
           {
            "colorbar": {
             "outlinewidth": 0,
             "ticks": ""
            },
            "colorscale": [
             [
              0,
              "#0d0887"
             ],
             [
              0.1111111111111111,
              "#46039f"
             ],
             [
              0.2222222222222222,
              "#7201a8"
             ],
             [
              0.3333333333333333,
              "#9c179e"
             ],
             [
              0.4444444444444444,
              "#bd3786"
             ],
             [
              0.5555555555555556,
              "#d8576b"
             ],
             [
              0.6666666666666666,
              "#ed7953"
             ],
             [
              0.7777777777777778,
              "#fb9f3a"
             ],
             [
              0.8888888888888888,
              "#fdca26"
             ],
             [
              1,
              "#f0f921"
             ]
            ],
            "type": "histogram2d"
           }
          ],
          "histogram2dcontour": [
           {
            "colorbar": {
             "outlinewidth": 0,
             "ticks": ""
            },
            "colorscale": [
             [
              0,
              "#0d0887"
             ],
             [
              0.1111111111111111,
              "#46039f"
             ],
             [
              0.2222222222222222,
              "#7201a8"
             ],
             [
              0.3333333333333333,
              "#9c179e"
             ],
             [
              0.4444444444444444,
              "#bd3786"
             ],
             [
              0.5555555555555556,
              "#d8576b"
             ],
             [
              0.6666666666666666,
              "#ed7953"
             ],
             [
              0.7777777777777778,
              "#fb9f3a"
             ],
             [
              0.8888888888888888,
              "#fdca26"
             ],
             [
              1,
              "#f0f921"
             ]
            ],
            "type": "histogram2dcontour"
           }
          ],
          "mesh3d": [
           {
            "colorbar": {
             "outlinewidth": 0,
             "ticks": ""
            },
            "type": "mesh3d"
           }
          ],
          "parcoords": [
           {
            "line": {
             "colorbar": {
              "outlinewidth": 0,
              "ticks": ""
             }
            },
            "type": "parcoords"
           }
          ],
          "pie": [
           {
            "automargin": true,
            "type": "pie"
           }
          ],
          "scatter": [
           {
            "fillpattern": {
             "fillmode": "overlay",
             "size": 10,
             "solidity": 0.2
            },
            "type": "scatter"
           }
          ],
          "scatter3d": [
           {
            "line": {
             "colorbar": {
              "outlinewidth": 0,
              "ticks": ""
             }
            },
            "marker": {
             "colorbar": {
              "outlinewidth": 0,
              "ticks": ""
             }
            },
            "type": "scatter3d"
           }
          ],
          "scattercarpet": [
           {
            "marker": {
             "colorbar": {
              "outlinewidth": 0,
              "ticks": ""
             }
            },
            "type": "scattercarpet"
           }
          ],
          "scattergeo": [
           {
            "marker": {
             "colorbar": {
              "outlinewidth": 0,
              "ticks": ""
             }
            },
            "type": "scattergeo"
           }
          ],
          "scattergl": [
           {
            "marker": {
             "colorbar": {
              "outlinewidth": 0,
              "ticks": ""
             }
            },
            "type": "scattergl"
           }
          ],
          "scattermap": [
           {
            "marker": {
             "colorbar": {
              "outlinewidth": 0,
              "ticks": ""
             }
            },
            "type": "scattermap"
           }
          ],
          "scattermapbox": [
           {
            "marker": {
             "colorbar": {
              "outlinewidth": 0,
              "ticks": ""
             }
            },
            "type": "scattermapbox"
           }
          ],
          "scatterpolar": [
           {
            "marker": {
             "colorbar": {
              "outlinewidth": 0,
              "ticks": ""
             }
            },
            "type": "scatterpolar"
           }
          ],
          "scatterpolargl": [
           {
            "marker": {
             "colorbar": {
              "outlinewidth": 0,
              "ticks": ""
             }
            },
            "type": "scatterpolargl"
           }
          ],
          "scatterternary": [
           {
            "marker": {
             "colorbar": {
              "outlinewidth": 0,
              "ticks": ""
             }
            },
            "type": "scatterternary"
           }
          ],
          "surface": [
           {
            "colorbar": {
             "outlinewidth": 0,
             "ticks": ""
            },
            "colorscale": [
             [
              0,
              "#0d0887"
             ],
             [
              0.1111111111111111,
              "#46039f"
             ],
             [
              0.2222222222222222,
              "#7201a8"
             ],
             [
              0.3333333333333333,
              "#9c179e"
             ],
             [
              0.4444444444444444,
              "#bd3786"
             ],
             [
              0.5555555555555556,
              "#d8576b"
             ],
             [
              0.6666666666666666,
              "#ed7953"
             ],
             [
              0.7777777777777778,
              "#fb9f3a"
             ],
             [
              0.8888888888888888,
              "#fdca26"
             ],
             [
              1,
              "#f0f921"
             ]
            ],
            "type": "surface"
           }
          ],
          "table": [
           {
            "cells": {
             "fill": {
              "color": "#EBF0F8"
             },
             "line": {
              "color": "white"
             }
            },
            "header": {
             "fill": {
              "color": "#C8D4E3"
             },
             "line": {
              "color": "white"
             }
            },
            "type": "table"
           }
          ]
         },
         "layout": {
          "annotationdefaults": {
           "arrowcolor": "#2a3f5f",
           "arrowhead": 0,
           "arrowwidth": 1
          },
          "autotypenumbers": "strict",
          "coloraxis": {
           "colorbar": {
            "outlinewidth": 0,
            "ticks": ""
           }
          },
          "colorscale": {
           "diverging": [
            [
             0,
             "#8e0152"
            ],
            [
             0.1,
             "#c51b7d"
            ],
            [
             0.2,
             "#de77ae"
            ],
            [
             0.3,
             "#f1b6da"
            ],
            [
             0.4,
             "#fde0ef"
            ],
            [
             0.5,
             "#f7f7f7"
            ],
            [
             0.6,
             "#e6f5d0"
            ],
            [
             0.7,
             "#b8e186"
            ],
            [
             0.8,
             "#7fbc41"
            ],
            [
             0.9,
             "#4d9221"
            ],
            [
             1,
             "#276419"
            ]
           ],
           "sequential": [
            [
             0,
             "#0d0887"
            ],
            [
             0.1111111111111111,
             "#46039f"
            ],
            [
             0.2222222222222222,
             "#7201a8"
            ],
            [
             0.3333333333333333,
             "#9c179e"
            ],
            [
             0.4444444444444444,
             "#bd3786"
            ],
            [
             0.5555555555555556,
             "#d8576b"
            ],
            [
             0.6666666666666666,
             "#ed7953"
            ],
            [
             0.7777777777777778,
             "#fb9f3a"
            ],
            [
             0.8888888888888888,
             "#fdca26"
            ],
            [
             1,
             "#f0f921"
            ]
           ],
           "sequentialminus": [
            [
             0,
             "#0d0887"
            ],
            [
             0.1111111111111111,
             "#46039f"
            ],
            [
             0.2222222222222222,
             "#7201a8"
            ],
            [
             0.3333333333333333,
             "#9c179e"
            ],
            [
             0.4444444444444444,
             "#bd3786"
            ],
            [
             0.5555555555555556,
             "#d8576b"
            ],
            [
             0.6666666666666666,
             "#ed7953"
            ],
            [
             0.7777777777777778,
             "#fb9f3a"
            ],
            [
             0.8888888888888888,
             "#fdca26"
            ],
            [
             1,
             "#f0f921"
            ]
           ]
          },
          "colorway": [
           "#636efa",
           "#EF553B",
           "#00cc96",
           "#ab63fa",
           "#FFA15A",
           "#19d3f3",
           "#FF6692",
           "#B6E880",
           "#FF97FF",
           "#FECB52"
          ],
          "font": {
           "color": "#2a3f5f"
          },
          "geo": {
           "bgcolor": "white",
           "lakecolor": "white",
           "landcolor": "#E5ECF6",
           "showlakes": true,
           "showland": true,
           "subunitcolor": "white"
          },
          "hoverlabel": {
           "align": "left"
          },
          "hovermode": "closest",
          "mapbox": {
           "style": "light"
          },
          "paper_bgcolor": "white",
          "plot_bgcolor": "#E5ECF6",
          "polar": {
           "angularaxis": {
            "gridcolor": "white",
            "linecolor": "white",
            "ticks": ""
           },
           "bgcolor": "#E5ECF6",
           "radialaxis": {
            "gridcolor": "white",
            "linecolor": "white",
            "ticks": ""
           }
          },
          "scene": {
           "xaxis": {
            "backgroundcolor": "#E5ECF6",
            "gridcolor": "white",
            "gridwidth": 2,
            "linecolor": "white",
            "showbackground": true,
            "ticks": "",
            "zerolinecolor": "white"
           },
           "yaxis": {
            "backgroundcolor": "#E5ECF6",
            "gridcolor": "white",
            "gridwidth": 2,
            "linecolor": "white",
            "showbackground": true,
            "ticks": "",
            "zerolinecolor": "white"
           },
           "zaxis": {
            "backgroundcolor": "#E5ECF6",
            "gridcolor": "white",
            "gridwidth": 2,
            "linecolor": "white",
            "showbackground": true,
            "ticks": "",
            "zerolinecolor": "white"
           }
          },
          "shapedefaults": {
           "line": {
            "color": "#2a3f5f"
           }
          },
          "ternary": {
           "aaxis": {
            "gridcolor": "white",
            "linecolor": "white",
            "ticks": ""
           },
           "baxis": {
            "gridcolor": "white",
            "linecolor": "white",
            "ticks": ""
           },
           "bgcolor": "#E5ECF6",
           "caxis": {
            "gridcolor": "white",
            "linecolor": "white",
            "ticks": ""
           }
          },
          "title": {
           "x": 0.05
          },
          "xaxis": {
           "automargin": true,
           "gridcolor": "white",
           "linecolor": "white",
           "ticks": "",
           "title": {
            "standoff": 15
           },
           "zerolinecolor": "white",
           "zerolinewidth": 2
          },
          "yaxis": {
           "automargin": true,
           "gridcolor": "white",
           "linecolor": "white",
           "ticks": "",
           "title": {
            "standoff": 15
           },
           "zerolinecolor": "white",
           "zerolinewidth": 2
          }
         }
        },
        "title": {
         "text": "Energy Source Environmental Impact Comparison"
        },
        "width": 1400,
        "xaxis": {
         "anchor": "y",
         "domain": [
          0,
          0.2333333333333333
         ]
        },
        "xaxis2": {
         "anchor": "y2",
         "domain": [
          0.3833333333333333,
          0.6166666666666666
         ]
        },
        "xaxis3": {
         "anchor": "y3",
         "domain": [
          0.7666666666666666,
          0.9999999999999999
         ]
        },
        "xaxis4": {
         "anchor": "y4",
         "domain": [
          0,
          0.2333333333333333
         ]
        },
        "xaxis5": {
         "anchor": "y5",
         "domain": [
          0.3833333333333333,
          0.6166666666666666
         ]
        },
        "xaxis6": {
         "anchor": "y6",
         "domain": [
          0.7666666666666666,
          0.9999999999999999
         ]
        },
        "xaxis7": {
         "anchor": "y7",
         "domain": [
          0,
          0.2333333333333333
         ]
        },
        "xaxis8": {
         "anchor": "y8",
         "domain": [
          0.3833333333333333,
          0.6166666666666666
         ]
        },
        "xaxis9": {
         "anchor": "y9",
         "domain": [
          0.7666666666666666,
          0.9999999999999999
         ]
        },
        "yaxis": {
         "anchor": "x",
         "domain": [
          0.8,
          1
         ]
        },
        "yaxis2": {
         "anchor": "x2",
         "domain": [
          0.8,
          1
         ]
        },
        "yaxis3": {
         "anchor": "x3",
         "domain": [
          0.8,
          1
         ]
        },
        "yaxis4": {
         "anchor": "x4",
         "domain": [
          0.4,
          0.6
         ]
        },
        "yaxis5": {
         "anchor": "x5",
         "domain": [
          0.4,
          0.6
         ]
        },
        "yaxis6": {
         "anchor": "x6",
         "domain": [
          0.4,
          0.6
         ]
        },
        "yaxis7": {
         "anchor": "x7",
         "domain": [
          0,
          0.19999999999999998
         ]
        },
        "yaxis8": {
         "anchor": "x8",
         "domain": [
          0,
          0.19999999999999998
         ]
        },
        "yaxis9": {
         "anchor": "x9",
         "domain": [
          0,
          0.19999999999999998
         ],
         "type": "log"
        }
       }
      }
     },
     "metadata": {},
     "output_type": "display_data"
    }
   ],
   "source": [
    "color_map = {\n",
    "    'Coal': '#636EFA',\n",
    "    'Concentrating Solar': '#EF553B',\n",
    "    'Gas': '#00CC96',\n",
    "    'Hydropower': '#AB63FA',\n",
    "    'Nuclear': '#FFA15A',\n",
    "    'Solar PV': '#19D3F3',\n",
    "    'Wind': '#FF6692'\n",
    "}\n",
    "\n",
    "metrics6 = df_combined.columns[1:]\n",
    "fig11 = make_subplots(\n",
    "    rows=3, \n",
    "    cols=3,\n",
    "    subplot_titles=metrics6,\n",
    "    horizontal_spacing=0.15,\n",
    "    vertical_spacing=0.2\n",
    ")\n",
    "\n",
    "for i, metric in enumerate(metrics6, 1):\n",
    "    row = (i-1) // 3 + 1\n",
    "    col = (i-1) % 3 + 1\n",
    "    \n",
    "    for entity in df_combined['Entity']:\n",
    "        fig11.add_trace(\n",
    "            go.Bar(\n",
    "                x=[entity],\n",
    "                y=df_combined[df_combined['Entity']==entity][metric],\n",
    "                name=entity,\n",
    "                marker_color=color_map[entity],\n",
    "                showlegend=(i == 1)\n",
    "            ),\n",
    "            row=row,\n",
    "            col=col\n",
    "        )\n",
    "\n",
    "fig11.update_layout(\n",
    "    title_text='Energy Source Environmental Impact Comparison',\n",
    "    height=1300,\n",
    "    width=1400,\n",
    "    legend_title_text='Energy Source'\n",
    ")\n",
    "\n",
    "fig11.update_yaxes(type=\"log\", row=3, col=3) \n",
    "\n",
    "fig11.show()"
   ]
  },
  {
   "cell_type": "markdown",
   "id": "85c6db37",
   "metadata": {},
   "source": [
    "\n",
    "### Dataset preprocessing\n",
    "\n",
    "First, we looked at the dataset to decide what data we will be using. We decided to remove the columns 'Agricultural land use', 'Urban land use', 'Death rates' because they had no data. We also removed the columns 'Aluminium', 'Chromium', 'Cobalt', 'Copper', 'Manganese', 'Molybdenum', 'Nickel', 'Silicon', 'Zinc' because there is a column ‘Metal and mineral requirements’ in the data frame that covers them all. Then we changed the names of the columns by adding their unit in brackets after the original column name. Some energy resources where divided in multiple types, we groped them by counting up there values per column. The energy resources we combined are ‘Solar PV, cadmium (roof)', 'Solar PV, cadmium (on-ground)', 'Solar PV, silicon (on-ground)' and 'Solar PV, silicon (roof)' into ‘Solar PV', ‘Coal’ and 'Coal with carbon capture (CCS)' into ‘Coal’, 'Concentrating solar (tower)’ and 'Concentrating solar (trough)' into 'Concentrating solar', 'Gas with carbon capture (CCS)’ and ‘Gas’ into ‘Gas’, 'Offshore wind’ and 'Onshore wind’ into ‘Wind’. At last we set the column ‘Entity’ as the index of the dataframe.\n",
    "\n",
    "### The first perspective\n",
    "\n",
    "Energy production can have a large impact on the environment. These graphs show that nuclear energy is better for the environment in many ways.\n",
    "\n",
    "The first graph shows the impact on the environment by greenhouse gas emission per energy source. The emission of greenhouse gasses contributes highly to global warming. In the graph it shows that nuclear energy has the least amount of greenhouse gas emission and thus has the lowest impact on the environment in this field compared to the other energy sources.\n",
    "\n",
    "The second graph shows the excessive nutrients in water due to each energy source. Excessive nutrients in water have a high impact on the environment because it causes ecological imbalances. Nuclear energy causes the least amount of excessive nutrients in water compared with the other energy sources.\n",
    "\n",
    "In the third graph the amount of ionising radiation per energy source is shown. High-energy radiation can cause potential health and environmental risks. The amount of ionising radiation by nuclear energy is the second most of all energy sources.\n",
    "\n",
    "The fourth graph shows water usage per energy source. When a lot of water is used it can have a big impact on the environment especially in urban environments and locations that deal with a lot of drought and water scarcity. Nuclear energy uses the second highest amount of water however it uses less than half as much as the highest energy source Coal.\n",
    "\n",
    "In the fifth graph the amount of land use is shown per energy source. Think about urban development and infrastructure or land devoted to production activities. This impacts the environment because ecosystems are interrupted by these uses of land. The graph shows that nuclear energy uses considerably less land compared to the other energy sources.\n",
    "\n",
    "The sixth graph shows the human toxicity of each energy resource. Toxicity stands for the harmful effects on human health, like cancer or other illnesses. Again nuclear energy causes the least amount of toxicity.\n",
    "\n",
    "In the seventh graph the use of minerals and metals per energy source is shown. Energy sources use metals and minerals in industrial processes. The processing and extraction of metals and minerals has a large and widespread impact on the environment. The graph shows that nuclear energy has the least amount of minerals and metals used.\n",
    "\n",
    "In the last graph the use of uranium is shown. Uranium is a radioactive element that has a lot of environmental impact. The mining and processing of this element can have long-lasting environmental impacts, primarily due to its radioactive and toxic nature. These impacts include water and soil contamination, potential health risks, and disruptions to ecosystems.\n",
    "\n",
    "Looking at all these graphs it shows that nuclear energy has significantly less environmental impacts in many topics. In one graph nuclear energy has the highest impact on the environment, in two graphs nuclear energy scores the second highest of which one of them is still less than have as much as the highest scoring energy source. However, in most of the graphs it is shown that nuclear energy has the least or second least amount of impact.\n"
   ]
  },
  {
   "cell_type": "markdown",
   "id": "c88f9dfd",
   "metadata": {},
   "source": [
    "## CO2 emissions and nuclear energy productions\n",
    "\n",
    "The following section ties into perspective 1 and looks into the C02 emissions, and amount of nuclear energy produced.\n",
    "\n",
    "World CO2 Emissions 2023 - Interactive Visualization\n",
    "This interactive world map visualizes CO2 emissions (in million tons) by country in 2023, with color intensity representing emission levels. Hovering over a country reveals additional details like population, GDP, life expectancy, and population density. The map helps compare environmental impact across nations while highlighting economic and demographic factors."
   ]
  },
  {
   "cell_type": "code",
   "execution_count": 4,
   "id": "54845e21",
   "metadata": {},
   "outputs": [
    {
     "data": {
      "application/vnd.plotly.v1+json": {
       "config": {
        "plotlyServerURL": "https://plot.ly"
       },
       "data": [
        {
         "coloraxis": "coloraxis",
         "customdata": [
          [
           "Afghanistan",
           "Kabul",
           38.041754,
           0.019101353833,
           0.008672,
           64.5,
           60
          ],
          [
           "Albania",
           "Tirana",
           2.854191,
           0.015278077447,
           0.004536,
           78.5,
           105
          ],
          [
           "Algeria",
           "Algiers",
           43.053054,
           0.169988236398,
           0.150006,
           76.7,
           18
          ],
          [
           "Andorra",
           "Andorra la Vella",
           0.077142,
           0.003154057987,
           0.000469,
           null,
           164
          ],
          [
           "Angola",
           "Luanda",
           31.825295,
           0.09463541587,
           0.034693,
           60.8,
           26
          ],
          [
           "Antigua and Barbuda",
           "St. John's, Saint John",
           0.097118,
           0.001727759259,
           0.000557,
           76.9,
           223
          ],
          [
           "Argentina",
           "Buenos Aires",
           44.938712,
           0.449663446954,
           0.201348,
           76.5,
           17
          ],
          [
           "Armenia",
           "Yerevan",
           2.957731,
           0.013672802158,
           0.005156,
           74.9,
           104
          ],
          [
           "Australia",
           "Canberra",
           25.766605,
           1.392680589329,
           0.375908,
           82.7,
           3
          ],
          [
           "Austria",
           "Vienna",
           8.877067,
           0.446314739528,
           0.061448,
           81.6,
           109
          ],
          [
           "Azerbaijan",
           "Baku",
           10.023318,
           0.039207,
           0.03762,
           72.9,
           123
          ],
          [
           "The Bahamas",
           "Nassau, Bahamas",
           0.389482,
           0.012827,
           0.001786,
           73.8,
           39
          ],
          [
           "Bahrain",
           "Manama",
           1.501635,
           0.038574069149,
           0.031694,
           77.2,
           2239
          ],
          [
           "Bangladesh",
           "Dhaka",
           167.310838,
           0.302571254131,
           0.084246,
           72.3,
           1265
          ],
          [
           "Barbados",
           "Bridgetown",
           0.287025,
           0.005209,
           0.001276,
           79.1,
           668
          ],
          [
           "Belarus",
           "Minsk",
           9.466856,
           0.063080457023,
           0.05828,
           74.2,
           47
          ],
          [
           "Belgium",
           "City of Brussels",
           11.484055,
           0.529606710418,
           0.096889,
           81.6,
           383
          ],
          [
           "Belize",
           "Belmopan",
           0.390353,
           0.0018796136,
           0.000568,
           74.5,
           17
          ],
          [
           "Benin",
           "Porto-Novo",
           11.801151,
           0.014390709095,
           0.006476,
           61.5,
           108
          ],
          [
           "Bhutan",
           "Thimphu",
           0.727145,
           0.002446674101,
           0.001261,
           71.5,
           20
          ],
          [
           "Bolivia",
           "Sucre",
           11.5131,
           0.040895322865,
           0.021606,
           71.2,
           11
          ],
          [
           "Bosnia and Herzegovina",
           "Sarajevo",
           3.301,
           0.020047848435,
           0.021848,
           77.3,
           64
          ],
          [
           "Botswana",
           "Gaborone",
           2.346179,
           0.018340510789,
           0.00634,
           69.3,
           4
          ],
          [
           "Brazil",
           "Bras���",
           212.559417,
           1.839758040766,
           0.462299,
           75.7,
           25
          ],
          [
           "Brunei",
           "Bandar Seri Begawan",
           0.433285,
           0.013469422941,
           0.007664,
           75.7,
           83
          ],
          [
           "Bulgaria",
           "Sofia",
           6.975761,
           0.086,
           0.041708,
           74.9,
           64
          ],
          [
           "Burkina Faso",
           "Ouagadougou",
           20.321378,
           0.015745810235,
           0.003418,
           61.2,
           76
          ],
          [
           "Burundi",
           "Bujumbura",
           11.53058,
           0.003012334882,
           0.000495,
           61.2,
           463
          ],
          [
           "Ivory Coast",
           "Yamoussoukro",
           25.716544,
           0.058792205642,
           0.009674,
           57.4,
           83
          ],
          [
           "Cape Verde",
           "Praia",
           0.483628,
           0.001981845741,
           0.000543,
           72.8,
           138
          ],
          [
           "Cambodia",
           "Phnom Penh",
           16.486542,
           0.027089389787,
           0.009919,
           69.6,
           95
          ],
          [
           "Cameroon",
           "Yaound�",
           25.87638,
           0.038760467033,
           0.008291,
           58.9,
           56
          ],
          [
           "Canada",
           "Ottawa",
           36.991981,
           1.73642562952,
           0.544894,
           81.9,
           4
          ],
          [
           "Central African Republic",
           "Bangui",
           4.745185,
           0.002220307369,
           0.000297,
           52.8,
           8
          ],
          [
           "Chad",
           "N'Djamena",
           15.946876,
           0.011314951343,
           0.001016,
           54,
           13
          ],
          [
           "Chile",
           "Santiago",
           18.952038,
           0.282318159745,
           0.085822,
           80,
           26
          ],
          [
           "China",
           "Beijing",
           1397.715,
           19.91,
           9.893038,
           77,
           153
          ],
          [
           "Colombia",
           "Bogot�",
           50.339443,
           0.323802808108,
           0.097814,
           77.1,
           46
          ],
          [
           "Comoros",
           "Moroni, Comoros",
           0.850886,
           0.001185728677,
           0.000202,
           64.1,
           467
          ],
          [
           "Republic of the Congo",
           "Brazzaville",
           5.380508,
           0.010820591131,
           0.003282,
           64.3,
           16
          ],
          [
           "Costa Rica",
           "San Jos������",
           5.047561,
           0.061773944174,
           0.008023,
           80.1,
           100
          ],
          [
           "Croatia",
           "Zagreb",
           4.0675,
           0.060415553039,
           0.017488,
           78.1,
           73
          ],
          [
           "Cuba",
           "Havana",
           11.333483,
           0.100023,
           0.028284,
           78.7,
           106
          ],
          [
           "Cyprus",
           "Nicosia",
           1.198575,
           0.024564647935,
           0.006626,
           80.8,
           131
          ],
          [
           "Czech Republic",
           "Prague",
           10.669709,
           0.246489245495,
           0.102218,
           79,
           139
          ],
          [
           "Democratic Republic of the Congo",
           "Kinshasa",
           86.790567,
           0.047319624204,
           0.002021,
           60.4,
           40
          ],
          [
           "Denmark",
           "Copenhagen",
           5.818553,
           0.348078018464,
           0.031786,
           81,
           137
          ],
          [
           "Djibouti",
           "Djibouti City",
           0.97356,
           0.003318716359,
           0.00062,
           66.6,
           43
          ],
          [
           "Dominica",
           "Roseau",
           0.071808,
           0.000596033333,
           0.00018,
           76.6,
           96
          ],
          [
           "Dominican Republic",
           "Santo Domingo",
           10.738958,
           0.088941298258,
           0.025258,
           73.9,
           225
          ],
          [
           "Ecuador",
           "Quito",
           17.373662,
           0.107435665,
           0.041155,
           76.8,
           71
          ],
          [
           "Egypt",
           "Cairo",
           100.388073,
           0.303175127598,
           0.23856,
           71.8,
           103
          ],
          [
           "El Salvador",
           "San Salvador",
           6.453553,
           0.02702264,
           0.007169,
           73.1,
           313
          ],
          [
           "Equatorial Guinea",
           "Malabo",
           1.355986,
           0.011026774945,
           0.005655,
           58.4,
           50
          ],
          [
           "Eritrea",
           "Asmara",
           6.333135,
           0.002065001626,
           0.000711,
           65.9,
           35
          ],
          [
           "Estonia",
           "Tallinn",
           1.331824,
           0.031386949981,
           0.01659,
           78.2,
           31
          ],
          [
           "Eswatini",
           "Mbabane",
           1.093238,
           0.003791304348,
           null,
           null,
           67
          ],
          [
           "Ethiopia",
           "Addis Ababa",
           112.07873,
           0.096107662398,
           0.01487,
           66.2,
           115
          ],
          [
           "Fiji",
           "Suva",
           0.889953,
           0.005535548972,
           0.002046,
           67.3,
           49
          ],
          [
           "Finland",
           "Helsinki",
           5.520314,
           0.268761201365,
           0.045871,
           81.7,
           18
          ],
          [
           "France",
           "Paris",
           67.059887,
           2.715518274227,
           0.303276,
           82.5,
           119
          ],
          [
           "Gabon",
           "Libreville",
           2.172579,
           0.016657960228,
           0.005321,
           66.2,
           9
          ],
          [
           "The Gambia",
           "Banjul",
           2.347706,
           0.001763819048,
           0.000532,
           61.7,
           239
          ],
          [
           "Georgia",
           "Tbilisi",
           3.720382,
           0.01774319577,
           0.010128,
           73.6,
           57
          ],
          [
           "Germany",
           "Berlin",
           83.132799,
           3.845630030824,
           0.727973,
           80.9,
           240
          ],
          [
           "Ghana",
           "Accra",
           30.792608,
           0.066983634224,
           0.01667,
           63.8,
           137
          ],
          [
           "Greece",
           "Athens",
           10.716322,
           0.209852761469,
           0.062434,
           81.3,
           81
          ],
          [
           "Grenada",
           "St. George's, Grenada",
           0.112003,
           0.00122817037,
           0.000268,
           72.4,
           331
          ],
          [
           "Guatemala",
           "Guatemala City",
           16.604026,
           0.07671038588,
           0.016777,
           74.1,
           167
          ],
          [
           "Guinea",
           "Conakry",
           12.771246,
           0.013590281809,
           0.002996,
           61.2,
           53
          ],
          [
           "Guinea-Bissau",
           "Bissau",
           1.920922,
           0.001340389411,
           0.000293,
           58,
           70
          ],
          [
           "Guyana",
           "Georgetown, Guyana",
           0.782766,
           0.004280443645,
           0.002384,
           69.8,
           4
          ],
          [
           "Haiti",
           "Port-au-Prince",
           11.263077,
           0.008498981821,
           0.002978,
           63.7,
           414
          ],
          [
           "Vatican City",
           "Vatican City",
           0.000836,
           null,
           null,
           null,
           2003
          ],
          [
           "Honduras",
           "Tegucigalpa",
           9.746117,
           0.025095395475,
           0.009813,
           75.1,
           89
          ],
          [
           "Hungary",
           "Budapest",
           9.769949,
           0.160967157504,
           0.045537,
           75.8,
           107
          ],
          [
           "Iceland",
           "Reykjav��",
           0.361313,
           0.024188035739,
           0.002065,
           82.7,
           3
          ],
          [
           "India",
           "New Delhi",
           1366.417754,
           2.611,
           2.407672,
           69.4,
           464
          ],
          [
           "Indonesia",
           "Jakarta",
           270.203917,
           1.119190780753,
           0.563325,
           71.5,
           151
          ],
          [
           "Iran",
           "Tehran",
           82.913906,
           0.445345282123,
           0.66171,
           76.5,
           52
          ],
          [
           "Iraq",
           "Baghdad",
           39.309783,
           0.234094042939,
           0.190061,
           70.5,
           93
          ],
          [
           "Republic of Ireland",
           "Dublin",
           5.007069,
           0.388698711348,
           0.037711,
           82.3,
           72
          ],
          [
           "Israel",
           "Jerusalem",
           9.0533,
           0.395098666122,
           0.065166,
           82.8,
           400
          ],
          [
           "Italy",
           "Rome",
           60.297396,
           2.001244392042,
           0.320411,
           82.9,
           206
          ],
          [
           "Jamaica",
           "Kingston, Jamaica",
           2.948279,
           0.016458071068,
           0.008225,
           74.4,
           273
          ],
          [
           "Japan",
           "Tokyo",
           126.226568,
           5.08176954238,
           1.135886,
           84.2,
           347
          ],
          [
           "Jordan",
           "Amman",
           10.101694,
           0.043743661972,
           0.025108,
           74.4,
           115
          ],
          [
           "Kazakhstan",
           "Astana",
           18.51393,
           0.18016174118,
           0.247207,
           73.2,
           7
          ],
          [
           "Kenya",
           "Nairobi",
           52.573973,
           0.095503088538,
           0.01791,
           66.3,
           94
          ],
          [
           "Kiribati",
           "South Tarawa",
           0.117606,
           0.000194647202,
           0.000066,
           68.1,
           147
          ],
          [
           "Kuwait",
           "Kuwait City",
           4.207083,
           0.134761198946,
           0.098734,
           75.4,
           240
          ],
          [
           "Kyrgyzstan",
           "Bishkek",
           6.4569,
           0.008454619608,
           0.009787,
           71.4,
           34
          ],
          [
           "Laos",
           "Vientiane",
           7.169455,
           0.018173839128,
           0.017763,
           67.6,
           32
          ],
          [
           "Latvia",
           "Riga",
           1.912789,
           0.034117202555,
           0.007004,
           74.7,
           30
          ],
          [
           "Lebanon",
           "Beirut",
           6.855713,
           0.053367042272,
           0.024796,
           78.9,
           667
          ],
          [
           "Lesotho",
           "Maseru",
           2.125268,
           0.002460072444,
           0.002512,
           53.7,
           71
          ],
          [
           "Liberia",
           "Monrovia",
           4.937374,
           0.0030705181,
           0.001386,
           63.7,
           53
          ],
          [
           "Libya",
           null,
           6.777452,
           0.052076250948,
           0.050564,
           72.7,
           4
          ],
          [
           "Liechtenstein",
           "Vaduz",
           0.038019,
           0.006552858739,
           0.000051,
           83,
           238
          ],
          [
           "Lithuania",
           "Vilnius",
           2.786844,
           0.0542193156,
           0.012963,
           75.7,
           43
          ],
          [
           "Luxembourg",
           "Luxembourg City",
           0.645397,
           0.071104919108,
           0.008988,
           82.1,
           242
          ],
          [
           "Madagascar",
           "Antananarivo",
           26.969307,
           0.014083906357,
           0.003905,
           66.7,
           48
          ],
          [
           "Malawi",
           "Lilongwe",
           18.628747,
           0.007666704427,
           0.001298,
           63.8,
           203
          ],
          [
           "Malaysia",
           "Kuala Lumpur",
           32.447385,
           0.364701517788,
           0.248289,
           76,
           99
          ],
          [
           "Maldives",
           "Mal�",
           0.530953,
           0.005729248472,
           0.001445,
           78.6,
           1802
          ],
          [
           "Mali",
           "Bamako",
           19.658031,
           0.017510141171,
           0.003179,
           58.9,
           17
          ],
          [
           "Malta",
           "Valletta",
           0.502653,
           0.014786156563,
           0.001342,
           82.3,
           1380
          ],
          [
           "Marshall Islands",
           "Majuro",
           0.058791,
           0.000221278,
           0.000143,
           65.2,
           329
          ],
          [
           "Mauritania",
           "Nouakchott",
           4.525696,
           0.00759375245,
           0.002739,
           64.7,
           5
          ],
          [
           "Mauritius",
           "Port Louis",
           1.265711,
           0.014180444557,
           0.004349,
           74.4,
           626
          ],
          [
           "Mexico",
           "Mexico City",
           126.014024,
           1.258286717125,
           0.486406,
           75,
           66
          ],
          [
           "Federated States of Micronesia",
           "Palikir",
           0.113815,
           0.000401932279,
           0.000143,
           67.8,
           784
          ],
          [
           "Moldova",
           "Chi����",
           2.657637,
           0.011955435457,
           0.005115,
           71.8,
           123
          ],
          [
           "Monaco",
           "Monaco City",
           0.038964,
           0.007184844193,
           null,
           null,
           26337
          ],
          [
           "Mongolia",
           "Ulaanbaatar",
           3.225167,
           0.013852850259,
           0.025368,
           69.7,
           2
          ],
          [
           "Montenegro",
           "Podgorica",
           0.622137,
           0.005494736901,
           0.002017,
           76.8,
           47
          ],
          [
           "Morocco",
           "Rabat",
           36.91056,
           0.118725279596,
           0.061276,
           76.5,
           83
          ],
          [
           "Mozambique",
           "Maputo",
           30.366036,
           0.014934159926,
           0.007943,
           60.2,
           40
          ],
          [
           "Myanmar",
           "Naypyidaw",
           54.04542,
           0.076085852617,
           0.02528,
           66.9,
           83
          ],
          [
           "Namibia",
           "Windhoek",
           2.49453,
           0.012366527719,
           0.004228,
           63.4,
           3
          ],
          [
           "Nauru",
           "Yaren District",
           0.010084,
           0.000133,
           null,
           null,
           541
          ],
          [
           "Nepal",
           "Kathmandu",
           28.60871,
           0.030641380604,
           0.009105,
           70.5,
           203
          ],
          [
           "Netherlands",
           "Amsterdam",
           17.33285,
           0.909070395161,
           0.17078,
           81.8,
           508
          ],
          [
           "New Zealand",
           "Wellington",
           4.841,
           0.206928765544,
           0.034382,
           81.9,
           18
          ],
          [
           "Nicaragua",
           "Managua",
           6.545502,
           0.012520915291,
           0.005592,
           74.3,
           55
          ],
          [
           "Niger",
           "Niamey",
           23.310715,
           0.01292814512,
           0.002017,
           62,
           19
          ],
          [
           "Nigeria",
           "Abuja",
           200.963599,
           0.448120428859,
           0.120369,
           54.3,
           226
          ],
          [
           "North Korea",
           "Pyongyang",
           25.666161,
           0.0321,
           0.028284,
           72.1,
           214
          ],
          [
           "North Macedonia",
           "Skopje",
           1.836713,
           0.010220781069,
           null,
           null,
           83
          ],
          [
           "Norway",
           "Oslo",
           5.347896,
           0.403336363636,
           0.041023,
           82.8,
           15
          ],
          [
           "Oman",
           "Muscat",
           5.266535,
           0.076983094928,
           0.063457,
           77.6,
           16
          ],
          [
           "Pakistan",
           "Islamabad",
           216.565318,
           0.3044,
           0.20115,
           67.1,
           287
          ],
          [
           "Palau",
           "Ngerulmud",
           0.018233,
           0.0002839949,
           0.000224,
           69.1,
           39
          ],
          [
           "Palestinian National Authority",
           null,
           null,
           null,
           null,
           null,
           847
          ],
          [
           "Panama",
           "Panama City",
           4.246439,
           0.0668008,
           0.010715,
           78.3,
           58
          ],
          [
           "Papua New Guinea",
           "Port Moresby",
           8.776109,
           0.024969611435,
           0.007536,
           64.3,
           20
          ],
          [
           "Paraguay",
           "Asunci��",
           7.044636,
           0.03814528894,
           0.007407,
           74.1,
           18
          ],
          [
           "Peru",
           "Lima",
           32.510453,
           0.22684805082,
           0.057414,
           76.5,
           26
          ],
          [
           "Philippines",
           "Manila",
           108.116615,
           0.37679550868,
           0.122287,
           71.1,
           368
          ],
          [
           "Poland",
           "Warsaw",
           37.970874,
           0.592164400688,
           0.299037,
           77.6,
           124
          ],
          [
           "Portugal",
           "Lisbon",
           10.269417,
           0.237686075635,
           0.048742,
           81.3,
           111
          ],
          [
           "Qatar",
           "Doha",
           2.832067,
           0.183466208791,
           0.103259,
           80.1,
           248
          ],
          [
           "Romania",
           "Bucharest",
           19.356544,
           0.250077444017,
           0.069259,
           75.4,
           84
          ],
          [
           "Russia",
           "Moscow",
           144.373535,
           1.699876578871,
           1.732027,
           72.7,
           9
          ],
          [
           "Rwanda",
           "Kigali",
           12.62695,
           0.01012247259,
           0.001115,
           68.7,
           525
          ],
          [
           "Saint Kitts and Nevis",
           "Basseterre",
           0.052823,
           0.001050992593,
           0.000238,
           71.3,
           205
          ],
          [
           "Saint Lucia",
           "Castries",
           0.18279,
           0.00212245063,
           0.000414,
           76.1,
           301
          ],
          [
           "Saint Vincent and the Grenadines",
           "Kingstown",
           0.100455,
           0.000825385185,
           0.00022,
           72.4,
           284
          ],
          [
           "Samoa",
           "Apia",
           0.202506,
           0.000850655017,
           0.000246,
           73.2,
           70
          ],
          [
           "San Marino",
           "City of San Marino",
           0.03386,
           0.001637931034,
           null,
           85.4,
           566
          ],
          [
           "S�����������",
           "S����",
           0.215056,
           0.000429016605,
           0.000121,
           70.2,
           228
          ],
          [
           "Saudi Arabia",
           "Riyadh",
           34.268528,
           0.792966838162,
           0.563449,
           75,
           16
          ],
          [
           "Senegal",
           "Dakar",
           16.296364,
           0.023578084052,
           0.010902,
           67.7,
           87
          ],
          [
           "Serbia",
           "Belgrade",
           6.944975,
           0.051409167351,
           0.045221,
           75.5,
           100
          ],
          [
           "Seychelles",
           "Victoria, Seychelles",
           0.097625,
           0.001698843063,
           0.000605,
           72.8,
           214
          ],
          [
           "Sierra Leone",
           "Freetown",
           7.813215,
           0.003941474311,
           0.001093,
           54.3,
           111
          ],
          [
           "Singapore",
           null,
           5.703569,
           0.372062527489,
           0.037535,
           83.1,
           8358
          ],
          [
           "Slovakia",
           "Bratislava",
           5.454073,
           0.105422304976,
           0.032424,
           77.2,
           114
          ],
          [
           "Slovenia",
           "Ljubljana",
           2.087946,
           0.053742159517,
           0.012633,
           81,
           103
          ],
          [
           "Solomon Islands",
           "Honiara",
           0.669823,
           0.001425074226,
           0.000169,
           72.8,
           25
          ],
          [
           "Somalia",
           "Mogadishu",
           15.442905,
           0.004720727278,
           0.000645,
           57.1,
           25
          ],
          [
           "South Africa",
           "Pretoria",
           58.55827,
           0.351431649241,
           0.476644,
           63.9,
           49
          ],
          [
           "South Korea",
           "Seoul",
           51.709098,
           2.029,
           0.620302,
           82.6,
           527
          ],
          [
           "South Sudan",
           "Juba",
           11.062113,
           0.011997800751,
           0.001727,
           57.6,
           18
          ],
          [
           "Spain",
           "Madrid",
           47.076781,
           1.394116310769,
           0.244002,
           83.3,
           94
          ],
          [
           "Sri Lanka",
           "Colombo",
           21.803,
           0.084008783756,
           0.023362,
           76.8,
           341
          ],
          [
           "Sudan",
           "Khartoum",
           42.813238,
           0.018902284476,
           0.02,
           65.1,
           25
          ],
          [
           "Suriname",
           "Paramaribo",
           0.581372,
           0.003985250737,
           0.001738,
           71.6,
           4
          ],
          [
           "Sweden",
           "Stockholm",
           10.285453,
           0.530832908738,
           0.043252,
           82.5,
           25
          ],
          [
           "Switzerland",
           "Bern",
           8.574832,
           0.70308243536,
           0.034477,
           83.6,
           219
          ],
          [
           "Syria",
           "Damascus",
           17.070135,
           0.040405006007,
           0.02883,
           71.8,
           95
          ],
          [
           "Tajikistan",
           "Dushanbe",
           9.321018,
           0.008116626794,
           0.00531,
           70.9,
           68
          ],
          [
           "Tanzania",
           "Dodoma",
           58.005463,
           0.063177068175,
           0.011973,
           65,
           67
          ],
          [
           "Thailand",
           "Bangkok",
           69.625582,
           0.543649976166,
           0.283763,
           76.9,
           137
          ],
          [
           "East Timor",
           "Dili",
           3.5,
           0.0016735403,
           0.000495,
           69.3,
           89
          ],
          [
           "Togo",
           "Lom�",
           8.082366,
           0.005459979417,
           0.003,
           60.8,
           152
          ],
          [
           "Tonga",
           "Nuku����",
           0.100209,
           0.000450353314,
           0.000128,
           70.8,
           147
          ],
          [
           "Trinidad and Tobago",
           "Port of Spain",
           1.394973,
           0.024100202834,
           0.043868,
           73.4,
           273
          ],
          [
           "Tunisia",
           "Tunis",
           11.694719,
           0.038797709924,
           0.029937,
           76.5,
           76
          ],
          [
           "Turkey",
           "Ankara",
           83.429615,
           0.754411708203,
           0.372725,
           77.4,
           110
          ],
          [
           "Turkmenistan",
           "Ashgabat",
           5.942089,
           0.040761142857,
           0.07063,
           68.1,
           13
          ],
          [
           "Tuvalu",
           "Funafuti",
           0.011646,
           0.000047271463,
           0.000011,
           null,
           393
          ],
          [
           "Uganda",
           "Kampala",
           44.269594,
           0.034387229486,
           0.00568,
           63,
           229
          ],
          [
           "Ukraine",
           "Kyiv",
           44.385155,
           0.153781069118,
           0.20225,
           71.6,
           75
          ],
          [
           "United Arab Emirates",
           "Abu Dhabi",
           9.770529,
           0.421142267938,
           0.206324,
           77.8,
           118
          ],
          [
           "United Kingdom",
           "London",
           66.834405,
           2.827113184696,
           0.379025,
           81.3,
           281
          ],
          [
           "United States",
           "Washington, D.C.",
           328.239523,
           21.4277,
           5.006302,
           78.5,
           36
          ],
          [
           "Uruguay",
           "Montevideo",
           3.461734,
           0.056045912952,
           0.006766,
           77.8,
           20
          ],
          [
           "Uzbekistan",
           "Tashkent",
           33.58065,
           0.05792128644,
           0.091811,
           71.6,
           79
          ],
          [
           "Vanuatu",
           "Port Vila",
           0.299882,
           0.000917058851,
           0.000147,
           70.3,
           25
          ],
          [
           "Venezuela",
           "Caracas",
           28.515829,
           0.482359318768,
           0.164175,
           72.1,
           32
          ],
          [
           "Vietnam",
           "Hanoi",
           96.462106,
           0.261921244843,
           0.192668,
           75.3,
           314
          ],
          [
           "Yemen",
           "Sanaa",
           29.161922,
           0.026914402224,
           0.010609,
           66.1,
           56
          ],
          [
           "Zambia",
           "Lusaka",
           17.86103,
           0.023064722446,
           0.005141,
           63.5,
           25
          ],
          [
           "Zimbabwe",
           "Harare",
           14.645468,
           0.0214407588,
           0.010983,
           61.2,
           38
          ]
         ],
         "geo": "geo",
         "hovertemplate": "<b>%{hovertext}</b><br>Capital: %{customdata[0]}<br>Population: %{customdata[1]}<br>GDP: %{customdata[2]}<br>CO2 Emissions: %{customdata[3]}<br>Life Expectancy: %{customdata[4]}<br>Density: %{customdata[5]}<extra></extra>",
         "hovertext": [
          "Afghanistan",
          "Albania",
          "Algeria",
          "Andorra",
          "Angola",
          "Antigua and Barbuda",
          "Argentina",
          "Armenia",
          "Australia",
          "Austria",
          "Azerbaijan",
          "The Bahamas",
          "Bahrain",
          "Bangladesh",
          "Barbados",
          "Belarus",
          "Belgium",
          "Belize",
          "Benin",
          "Bhutan",
          "Bolivia",
          "Bosnia and Herzegovina",
          "Botswana",
          "Brazil",
          "Brunei",
          "Bulgaria",
          "Burkina Faso",
          "Burundi",
          "Ivory Coast",
          "Cape Verde",
          "Cambodia",
          "Cameroon",
          "Canada",
          "Central African Republic",
          "Chad",
          "Chile",
          "China",
          "Colombia",
          "Comoros",
          "Republic of the Congo",
          "Costa Rica",
          "Croatia",
          "Cuba",
          "Cyprus",
          "Czech Republic",
          "Democratic Republic of the Congo",
          "Denmark",
          "Djibouti",
          "Dominica",
          "Dominican Republic",
          "Ecuador",
          "Egypt",
          "El Salvador",
          "Equatorial Guinea",
          "Eritrea",
          "Estonia",
          "Eswatini",
          "Ethiopia",
          "Fiji",
          "Finland",
          "France",
          "Gabon",
          "The Gambia",
          "Georgia",
          "Germany",
          "Ghana",
          "Greece",
          "Grenada",
          "Guatemala",
          "Guinea",
          "Guinea-Bissau",
          "Guyana",
          "Haiti",
          "Vatican City",
          "Honduras",
          "Hungary",
          "Iceland",
          "India",
          "Indonesia",
          "Iran",
          "Iraq",
          "Republic of Ireland",
          "Israel",
          "Italy",
          "Jamaica",
          "Japan",
          "Jordan",
          "Kazakhstan",
          "Kenya",
          "Kiribati",
          "Kuwait",
          "Kyrgyzstan",
          "Laos",
          "Latvia",
          "Lebanon",
          "Lesotho",
          "Liberia",
          "Libya",
          "Liechtenstein",
          "Lithuania",
          "Luxembourg",
          "Madagascar",
          "Malawi",
          "Malaysia",
          "Maldives",
          "Mali",
          "Malta",
          "Marshall Islands",
          "Mauritania",
          "Mauritius",
          "Mexico",
          "Federated States of Micronesia",
          "Moldova",
          "Monaco",
          "Mongolia",
          "Montenegro",
          "Morocco",
          "Mozambique",
          "Myanmar",
          "Namibia",
          "Nauru",
          "Nepal",
          "Netherlands",
          "New Zealand",
          "Nicaragua",
          "Niger",
          "Nigeria",
          "North Korea",
          "North Macedonia",
          "Norway",
          "Oman",
          "Pakistan",
          "Palau",
          "Palestinian National Authority",
          "Panama",
          "Papua New Guinea",
          "Paraguay",
          "Peru",
          "Philippines",
          "Poland",
          "Portugal",
          "Qatar",
          "Romania",
          "Russia",
          "Rwanda",
          "Saint Kitts and Nevis",
          "Saint Lucia",
          "Saint Vincent and the Grenadines",
          "Samoa",
          "San Marino",
          "S�����������",
          "Saudi Arabia",
          "Senegal",
          "Serbia",
          "Seychelles",
          "Sierra Leone",
          "Singapore",
          "Slovakia",
          "Slovenia",
          "Solomon Islands",
          "Somalia",
          "South Africa",
          "South Korea",
          "South Sudan",
          "Spain",
          "Sri Lanka",
          "Sudan",
          "Suriname",
          "Sweden",
          "Switzerland",
          "Syria",
          "Tajikistan",
          "Tanzania",
          "Thailand",
          "East Timor",
          "Togo",
          "Tonga",
          "Trinidad and Tobago",
          "Tunisia",
          "Turkey",
          "Turkmenistan",
          "Tuvalu",
          "Uganda",
          "Ukraine",
          "United Arab Emirates",
          "United Kingdom",
          "United States",
          "Uruguay",
          "Uzbekistan",
          "Vanuatu",
          "Venezuela",
          "Vietnam",
          "Yemen",
          "Zambia",
          "Zimbabwe"
         ],
         "locationmode": "country names",
         "locations": [
          "Afghanistan",
          "Albania",
          "Algeria",
          "Andorra",
          "Angola",
          "Antigua and Barbuda",
          "Argentina",
          "Armenia",
          "Australia",
          "Austria",
          "Azerbaijan",
          "The Bahamas",
          "Bahrain",
          "Bangladesh",
          "Barbados",
          "Belarus",
          "Belgium",
          "Belize",
          "Benin",
          "Bhutan",
          "Bolivia",
          "Bosnia and Herzegovina",
          "Botswana",
          "Brazil",
          "Brunei",
          "Bulgaria",
          "Burkina Faso",
          "Burundi",
          "Ivory Coast",
          "Cape Verde",
          "Cambodia",
          "Cameroon",
          "Canada",
          "Central African Republic",
          "Chad",
          "Chile",
          "China",
          "Colombia",
          "Comoros",
          "Republic of the Congo",
          "Costa Rica",
          "Croatia",
          "Cuba",
          "Cyprus",
          "Czech Republic",
          "Democratic Republic of the Congo",
          "Denmark",
          "Djibouti",
          "Dominica",
          "Dominican Republic",
          "Ecuador",
          "Egypt",
          "El Salvador",
          "Equatorial Guinea",
          "Eritrea",
          "Estonia",
          "Eswatini",
          "Ethiopia",
          "Fiji",
          "Finland",
          "France",
          "Gabon",
          "The Gambia",
          "Georgia",
          "Germany",
          "Ghana",
          "Greece",
          "Grenada",
          "Guatemala",
          "Guinea",
          "Guinea-Bissau",
          "Guyana",
          "Haiti",
          "Vatican City",
          "Honduras",
          "Hungary",
          "Iceland",
          "India",
          "Indonesia",
          "Iran",
          "Iraq",
          "Republic of Ireland",
          "Israel",
          "Italy",
          "Jamaica",
          "Japan",
          "Jordan",
          "Kazakhstan",
          "Kenya",
          "Kiribati",
          "Kuwait",
          "Kyrgyzstan",
          "Laos",
          "Latvia",
          "Lebanon",
          "Lesotho",
          "Liberia",
          "Libya",
          "Liechtenstein",
          "Lithuania",
          "Luxembourg",
          "Madagascar",
          "Malawi",
          "Malaysia",
          "Maldives",
          "Mali",
          "Malta",
          "Marshall Islands",
          "Mauritania",
          "Mauritius",
          "Mexico",
          "Federated States of Micronesia",
          "Moldova",
          "Monaco",
          "Mongolia",
          "Montenegro",
          "Morocco",
          "Mozambique",
          "Myanmar",
          "Namibia",
          "Nauru",
          "Nepal",
          "Netherlands",
          "New Zealand",
          "Nicaragua",
          "Niger",
          "Nigeria",
          "North Korea",
          "North Macedonia",
          "Norway",
          "Oman",
          "Pakistan",
          "Palau",
          "Palestinian National Authority",
          "Panama",
          "Papua New Guinea",
          "Paraguay",
          "Peru",
          "Philippines",
          "Poland",
          "Portugal",
          "Qatar",
          "Romania",
          "Russia",
          "Rwanda",
          "Saint Kitts and Nevis",
          "Saint Lucia",
          "Saint Vincent and the Grenadines",
          "Samoa",
          "San Marino",
          "S�����������",
          "Saudi Arabia",
          "Senegal",
          "Serbia",
          "Seychelles",
          "Sierra Leone",
          "Singapore",
          "Slovakia",
          "Slovenia",
          "Solomon Islands",
          "Somalia",
          "South Africa",
          "South Korea",
          "South Sudan",
          "Spain",
          "Sri Lanka",
          "Sudan",
          "Suriname",
          "Sweden",
          "Switzerland",
          "Syria",
          "Tajikistan",
          "Tanzania",
          "Thailand",
          "East Timor",
          "Togo",
          "Tonga",
          "Trinidad and Tobago",
          "Tunisia",
          "Turkey",
          "Turkmenistan",
          "Tuvalu",
          "Uganda",
          "Ukraine",
          "United Arab Emirates",
          "United Kingdom",
          "United States",
          "Uruguay",
          "Uzbekistan",
          "Vanuatu",
          "Venezuela",
          "Vietnam",
          "Yemen",
          "Zambia",
          "Zimbabwe"
         ],
         "marker": {
          "line": {
           "color": "white",
           "width": 0.5
          }
         },
         "name": "",
         "type": "choropleth",
         "z": {
          "bdata": "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",
          "dtype": "f8"
         }
        }
       ],
       "layout": {
        "coloraxis": {
         "colorbar": {
          "len": 0.75,
          "thickness": 15,
          "title": {
           "text": "CO2 Emissions (million tons)"
          }
         },
         "colorscale": [
          [
           0,
           "#0d0887"
          ],
          [
           0.1111111111111111,
           "#46039f"
          ],
          [
           0.2222222222222222,
           "#7201a8"
          ],
          [
           0.3333333333333333,
           "#9c179e"
          ],
          [
           0.4444444444444444,
           "#bd3786"
          ],
          [
           0.5555555555555556,
           "#d8576b"
          ],
          [
           0.6666666666666666,
           "#ed7953"
          ],
          [
           0.7777777777777778,
           "#fb9f3a"
          ],
          [
           0.8888888888888888,
           "#fdca26"
          ],
          [
           1,
           "#f0f921"
          ]
         ]
        },
        "geo": {
         "center": {},
         "domain": {
          "x": [
           0,
           1
          ],
          "y": [
           0,
           1
          ]
         },
         "projection": {
          "type": "natural earth"
         },
         "showcoastlines": true,
         "showframe": false
        },
        "legend": {
         "tracegroupgap": 0
        },
        "margin": {
         "b": 0,
         "l": 0,
         "r": 0,
         "t": 40
        },
        "template": {
         "data": {
          "bar": [
           {
            "error_x": {
             "color": "#2a3f5f"
            },
            "error_y": {
             "color": "#2a3f5f"
            },
            "marker": {
             "line": {
              "color": "#E5ECF6",
              "width": 0.5
             },
             "pattern": {
              "fillmode": "overlay",
              "size": 10,
              "solidity": 0.2
             }
            },
            "type": "bar"
           }
          ],
          "barpolar": [
           {
            "marker": {
             "line": {
              "color": "#E5ECF6",
              "width": 0.5
             },
             "pattern": {
              "fillmode": "overlay",
              "size": 10,
              "solidity": 0.2
             }
            },
            "type": "barpolar"
           }
          ],
          "carpet": [
           {
            "aaxis": {
             "endlinecolor": "#2a3f5f",
             "gridcolor": "white",
             "linecolor": "white",
             "minorgridcolor": "white",
             "startlinecolor": "#2a3f5f"
            },
            "baxis": {
             "endlinecolor": "#2a3f5f",
             "gridcolor": "white",
             "linecolor": "white",
             "minorgridcolor": "white",
             "startlinecolor": "#2a3f5f"
            },
            "type": "carpet"
           }
          ],
          "choropleth": [
           {
            "colorbar": {
             "outlinewidth": 0,
             "ticks": ""
            },
            "type": "choropleth"
           }
          ],
          "contour": [
           {
            "colorbar": {
             "outlinewidth": 0,
             "ticks": ""
            },
            "colorscale": [
             [
              0,
              "#0d0887"
             ],
             [
              0.1111111111111111,
              "#46039f"
             ],
             [
              0.2222222222222222,
              "#7201a8"
             ],
             [
              0.3333333333333333,
              "#9c179e"
             ],
             [
              0.4444444444444444,
              "#bd3786"
             ],
             [
              0.5555555555555556,
              "#d8576b"
             ],
             [
              0.6666666666666666,
              "#ed7953"
             ],
             [
              0.7777777777777778,
              "#fb9f3a"
             ],
             [
              0.8888888888888888,
              "#fdca26"
             ],
             [
              1,
              "#f0f921"
             ]
            ],
            "type": "contour"
           }
          ],
          "contourcarpet": [
           {
            "colorbar": {
             "outlinewidth": 0,
             "ticks": ""
            },
            "type": "contourcarpet"
           }
          ],
          "heatmap": [
           {
            "colorbar": {
             "outlinewidth": 0,
             "ticks": ""
            },
            "colorscale": [
             [
              0,
              "#0d0887"
             ],
             [
              0.1111111111111111,
              "#46039f"
             ],
             [
              0.2222222222222222,
              "#7201a8"
             ],
             [
              0.3333333333333333,
              "#9c179e"
             ],
             [
              0.4444444444444444,
              "#bd3786"
             ],
             [
              0.5555555555555556,
              "#d8576b"
             ],
             [
              0.6666666666666666,
              "#ed7953"
             ],
             [
              0.7777777777777778,
              "#fb9f3a"
             ],
             [
              0.8888888888888888,
              "#fdca26"
             ],
             [
              1,
              "#f0f921"
             ]
            ],
            "type": "heatmap"
           }
          ],
          "histogram": [
           {
            "marker": {
             "pattern": {
              "fillmode": "overlay",
              "size": 10,
              "solidity": 0.2
             }
            },
            "type": "histogram"
           }
          ],
          "histogram2d": [
           {
            "colorbar": {
             "outlinewidth": 0,
             "ticks": ""
            },
            "colorscale": [
             [
              0,
              "#0d0887"
             ],
             [
              0.1111111111111111,
              "#46039f"
             ],
             [
              0.2222222222222222,
              "#7201a8"
             ],
             [
              0.3333333333333333,
              "#9c179e"
             ],
             [
              0.4444444444444444,
              "#bd3786"
             ],
             [
              0.5555555555555556,
              "#d8576b"
             ],
             [
              0.6666666666666666,
              "#ed7953"
             ],
             [
              0.7777777777777778,
              "#fb9f3a"
             ],
             [
              0.8888888888888888,
              "#fdca26"
             ],
             [
              1,
              "#f0f921"
             ]
            ],
            "type": "histogram2d"
           }
          ],
          "histogram2dcontour": [
           {
            "colorbar": {
             "outlinewidth": 0,
             "ticks": ""
            },
            "colorscale": [
             [
              0,
              "#0d0887"
             ],
             [
              0.1111111111111111,
              "#46039f"
             ],
             [
              0.2222222222222222,
              "#7201a8"
             ],
             [
              0.3333333333333333,
              "#9c179e"
             ],
             [
              0.4444444444444444,
              "#bd3786"
             ],
             [
              0.5555555555555556,
              "#d8576b"
             ],
             [
              0.6666666666666666,
              "#ed7953"
             ],
             [
              0.7777777777777778,
              "#fb9f3a"
             ],
             [
              0.8888888888888888,
              "#fdca26"
             ],
             [
              1,
              "#f0f921"
             ]
            ],
            "type": "histogram2dcontour"
           }
          ],
          "mesh3d": [
           {
            "colorbar": {
             "outlinewidth": 0,
             "ticks": ""
            },
            "type": "mesh3d"
           }
          ],
          "parcoords": [
           {
            "line": {
             "colorbar": {
              "outlinewidth": 0,
              "ticks": ""
             }
            },
            "type": "parcoords"
           }
          ],
          "pie": [
           {
            "automargin": true,
            "type": "pie"
           }
          ],
          "scatter": [
           {
            "fillpattern": {
             "fillmode": "overlay",
             "size": 10,
             "solidity": 0.2
            },
            "type": "scatter"
           }
          ],
          "scatter3d": [
           {
            "line": {
             "colorbar": {
              "outlinewidth": 0,
              "ticks": ""
             }
            },
            "marker": {
             "colorbar": {
              "outlinewidth": 0,
              "ticks": ""
             }
            },
            "type": "scatter3d"
           }
          ],
          "scattercarpet": [
           {
            "marker": {
             "colorbar": {
              "outlinewidth": 0,
              "ticks": ""
             }
            },
            "type": "scattercarpet"
           }
          ],
          "scattergeo": [
           {
            "marker": {
             "colorbar": {
              "outlinewidth": 0,
              "ticks": ""
             }
            },
            "type": "scattergeo"
           }
          ],
          "scattergl": [
           {
            "marker": {
             "colorbar": {
              "outlinewidth": 0,
              "ticks": ""
             }
            },
            "type": "scattergl"
           }
          ],
          "scattermap": [
           {
            "marker": {
             "colorbar": {
              "outlinewidth": 0,
              "ticks": ""
             }
            },
            "type": "scattermap"
           }
          ],
          "scattermapbox": [
           {
            "marker": {
             "colorbar": {
              "outlinewidth": 0,
              "ticks": ""
             }
            },
            "type": "scattermapbox"
           }
          ],
          "scatterpolar": [
           {
            "marker": {
             "colorbar": {
              "outlinewidth": 0,
              "ticks": ""
             }
            },
            "type": "scatterpolar"
           }
          ],
          "scatterpolargl": [
           {
            "marker": {
             "colorbar": {
              "outlinewidth": 0,
              "ticks": ""
             }
            },
            "type": "scatterpolargl"
           }
          ],
          "scatterternary": [
           {
            "marker": {
             "colorbar": {
              "outlinewidth": 0,
              "ticks": ""
             }
            },
            "type": "scatterternary"
           }
          ],
          "surface": [
           {
            "colorbar": {
             "outlinewidth": 0,
             "ticks": ""
            },
            "colorscale": [
             [
              0,
              "#0d0887"
             ],
             [
              0.1111111111111111,
              "#46039f"
             ],
             [
              0.2222222222222222,
              "#7201a8"
             ],
             [
              0.3333333333333333,
              "#9c179e"
             ],
             [
              0.4444444444444444,
              "#bd3786"
             ],
             [
              0.5555555555555556,
              "#d8576b"
             ],
             [
              0.6666666666666666,
              "#ed7953"
             ],
             [
              0.7777777777777778,
              "#fb9f3a"
             ],
             [
              0.8888888888888888,
              "#fdca26"
             ],
             [
              1,
              "#f0f921"
             ]
            ],
            "type": "surface"
           }
          ],
          "table": [
           {
            "cells": {
             "fill": {
              "color": "#EBF0F8"
             },
             "line": {
              "color": "white"
             }
            },
            "header": {
             "fill": {
              "color": "#C8D4E3"
             },
             "line": {
              "color": "white"
             }
            },
            "type": "table"
           }
          ]
         },
         "layout": {
          "annotationdefaults": {
           "arrowcolor": "#2a3f5f",
           "arrowhead": 0,
           "arrowwidth": 1
          },
          "autotypenumbers": "strict",
          "coloraxis": {
           "colorbar": {
            "outlinewidth": 0,
            "ticks": ""
           }
          },
          "colorscale": {
           "diverging": [
            [
             0,
             "#8e0152"
            ],
            [
             0.1,
             "#c51b7d"
            ],
            [
             0.2,
             "#de77ae"
            ],
            [
             0.3,
             "#f1b6da"
            ],
            [
             0.4,
             "#fde0ef"
            ],
            [
             0.5,
             "#f7f7f7"
            ],
            [
             0.6,
             "#e6f5d0"
            ],
            [
             0.7,
             "#b8e186"
            ],
            [
             0.8,
             "#7fbc41"
            ],
            [
             0.9,
             "#4d9221"
            ],
            [
             1,
             "#276419"
            ]
           ],
           "sequential": [
            [
             0,
             "#0d0887"
            ],
            [
             0.1111111111111111,
             "#46039f"
            ],
            [
             0.2222222222222222,
             "#7201a8"
            ],
            [
             0.3333333333333333,
             "#9c179e"
            ],
            [
             0.4444444444444444,
             "#bd3786"
            ],
            [
             0.5555555555555556,
             "#d8576b"
            ],
            [
             0.6666666666666666,
             "#ed7953"
            ],
            [
             0.7777777777777778,
             "#fb9f3a"
            ],
            [
             0.8888888888888888,
             "#fdca26"
            ],
            [
             1,
             "#f0f921"
            ]
           ],
           "sequentialminus": [
            [
             0,
             "#0d0887"
            ],
            [
             0.1111111111111111,
             "#46039f"
            ],
            [
             0.2222222222222222,
             "#7201a8"
            ],
            [
             0.3333333333333333,
             "#9c179e"
            ],
            [
             0.4444444444444444,
             "#bd3786"
            ],
            [
             0.5555555555555556,
             "#d8576b"
            ],
            [
             0.6666666666666666,
             "#ed7953"
            ],
            [
             0.7777777777777778,
             "#fb9f3a"
            ],
            [
             0.8888888888888888,
             "#fdca26"
            ],
            [
             1,
             "#f0f921"
            ]
           ]
          },
          "colorway": [
           "#636efa",
           "#EF553B",
           "#00cc96",
           "#ab63fa",
           "#FFA15A",
           "#19d3f3",
           "#FF6692",
           "#B6E880",
           "#FF97FF",
           "#FECB52"
          ],
          "font": {
           "color": "#2a3f5f"
          },
          "geo": {
           "bgcolor": "white",
           "lakecolor": "white",
           "landcolor": "#E5ECF6",
           "showlakes": true,
           "showland": true,
           "subunitcolor": "white"
          },
          "hoverlabel": {
           "align": "left"
          },
          "hovermode": "closest",
          "mapbox": {
           "style": "light"
          },
          "paper_bgcolor": "white",
          "plot_bgcolor": "#E5ECF6",
          "polar": {
           "angularaxis": {
            "gridcolor": "white",
            "linecolor": "white",
            "ticks": ""
           },
           "bgcolor": "#E5ECF6",
           "radialaxis": {
            "gridcolor": "white",
            "linecolor": "white",
            "ticks": ""
           }
          },
          "scene": {
           "xaxis": {
            "backgroundcolor": "#E5ECF6",
            "gridcolor": "white",
            "gridwidth": 2,
            "linecolor": "white",
            "showbackground": true,
            "ticks": "",
            "zerolinecolor": "white"
           },
           "yaxis": {
            "backgroundcolor": "#E5ECF6",
            "gridcolor": "white",
            "gridwidth": 2,
            "linecolor": "white",
            "showbackground": true,
            "ticks": "",
            "zerolinecolor": "white"
           },
           "zaxis": {
            "backgroundcolor": "#E5ECF6",
            "gridcolor": "white",
            "gridwidth": 2,
            "linecolor": "white",
            "showbackground": true,
            "ticks": "",
            "zerolinecolor": "white"
           }
          },
          "shapedefaults": {
           "line": {
            "color": "#2a3f5f"
           }
          },
          "ternary": {
           "aaxis": {
            "gridcolor": "white",
            "linecolor": "white",
            "ticks": ""
           },
           "baxis": {
            "gridcolor": "white",
            "linecolor": "white",
            "ticks": ""
           },
           "bgcolor": "#E5ECF6",
           "caxis": {
            "gridcolor": "white",
            "linecolor": "white",
            "ticks": ""
           }
          },
          "title": {
           "x": 0.05
          },
          "xaxis": {
           "automargin": true,
           "gridcolor": "white",
           "linecolor": "white",
           "ticks": "",
           "title": {
            "standoff": 15
           },
           "zerolinecolor": "white",
           "zerolinewidth": 2
          },
          "yaxis": {
           "automargin": true,
           "gridcolor": "white",
           "linecolor": "white",
           "ticks": "",
           "title": {
            "standoff": 15
           },
           "zerolinecolor": "white",
           "zerolinewidth": 2
          }
         }
        },
        "title": {
         "text": "World CO2 Emissions 2023 - Interactive Visualization"
        }
       }
      }
     },
     "metadata": {},
     "output_type": "display_data"
    }
   ],
   "source": [
    "\n",
    "df = pd.read_csv('nuclear_data/world-data-2023.csv')\n",
    "\n",
    "numeric_cols = ['Density\\n(P/Km2)', 'Population', 'Co2-Emissions', 'GDP']\n",
    "for col in numeric_cols:\n",
    "    df[col] = df[col].astype(str).str.replace(',', '').str.replace('$', '', regex=False).astype(float)\n",
    "\n",
    "df['Population (millions)'] = df['Population'] / 1_000_000\n",
    "df['GDP (trillions)'] = df['GDP'] / 1_000_000_000_000\n",
    "df['Co2-Emissions (million tons)'] = df['Co2-Emissions'] / 1_000_000\n",
    "\n",
    "fig = px.choropleth(df,\n",
    "                    locations=\"Country\",\n",
    "                    locationmode=\"country names\",\n",
    "                    color=\"Co2-Emissions (million tons)\",\n",
    "                    hover_name=\"Country\",\n",
    "                    hover_data={\n",
    "                        \"Country\": False,\n",
    "                        \"Capital/Major City\": True,\n",
    "                        \"Population (millions)\": \":.2f million\",\n",
    "                        \"GDP (trillions)\": \":.2f trillion\",\n",
    "                        \"Co2-Emissions (million tons)\": \":.2f million tons\",\n",
    "                        \"Life expectancy\": \":.1f years\",\n",
    "                        \"Density\\n(P/Km2)\": \":.1f people/km²\"\n",
    "                    },\n",
    "                    color_continuous_scale=px.colors.sequential.Plasma,\n",
    "                    title=\"World CO2 Emissions 2023 - Interactive Visualization\",\n",
    "                    labels={'Co2-Emissions (million tons)': 'CO2 Emissions (million tons)'})\n",
    "\n",
    "fig.update_traces(\n",
    "    hovertemplate=\"<b>%{hovertext}</b><br>\" +\n",
    "                  \"Capital: %{customdata[0]}<br>\" +\n",
    "                  \"Population: %{customdata[1]}<br>\" +\n",
    "                  \"GDP: %{customdata[2]}<br>\" +\n",
    "                  \"CO2 Emissions: %{customdata[3]}<br>\" +\n",
    "                  \"Life Expectancy: %{customdata[4]}<br>\" +\n",
    "                  \"Density: %{customdata[5]}<extra></extra>\"\n",
    ")\n",
    "\n",
    "fig.update_layout(\n",
    "    margin={\"r\": 0, \"t\": 40, \"l\": 0, \"b\": 0},\n",
    "    geo=dict(\n",
    "        showframe=False,\n",
    "        showcoastlines=True,\n",
    "        projection_type='natural earth'\n",
    "    ),\n",
    "    coloraxis_colorbar=dict(\n",
    "        title=\"CO2 Emissions (million tons)\",\n",
    "        thickness=15,\n",
    "        len=0.75\n",
    "    )\n",
    ")\n",
    "\n",
    "fig.update_traces(\n",
    "    marker_line_width=0.5,\n",
    "    marker_line_color='white',\n",
    "    selector=dict(type='choropleth')\n",
    ")\n",
    "\n",
    "fig.show()"
   ]
  },
  {
   "cell_type": "markdown",
   "id": "34803ed6",
   "metadata": {},
   "source": [
    "Total nuclear electricity per country- Interactive Visualization\n",
    "This interactive world map visualizes total nuclear electricity production (in TWh) by country, with darker colors indicating higher output. Countries with no nuclear power appear in black, and the countries that appear in white have no data regarding their nuclear production, while others are colored on a scale based on their production levels. Hovering over a country reveals its name and exact nuclear electricity generation data."
   ]
  },
  {
   "cell_type": "code",
   "execution_count": 5,
   "id": "0b2a65c3",
   "metadata": {},
   "outputs": [
    {
     "data": {
      "application/vnd.plotly.v1+json": {
       "config": {
        "plotlyServerURL": "https://plot.ly"
       },
       "data": [
        {
         "coloraxis": "coloraxis",
         "geo": "geo",
         "hovertemplate": "<b>%{hovertext}</b><br><br>Entity=%{location}<br>Total nuclear electricity=%{z}<extra></extra>",
         "hovertext": [
          "Afghanistan",
          "Albania",
          "Algeria",
          "Angola",
          "Antigua and Barbuda",
          "Argentina",
          "Armenia",
          "Aruba",
          "Australia",
          "Austria",
          "Azerbaijan",
          "Bahamas",
          "Bahrain",
          "Bangladesh",
          "Barbados",
          "Belarus",
          "Belgium",
          "Belize",
          "Benin",
          "Bermuda",
          "Bhutan",
          "Bosnia and Herzegovina",
          "Botswana",
          "Brazil",
          "Bulgaria",
          "Burkina Faso",
          "Burundi",
          "Cambodia",
          "Cameroon",
          "Canada",
          "Cayman Islands",
          "Central African Republic",
          "Chad",
          "Chile",
          "China",
          "Colombia",
          "Comoros",
          "Congo",
          "Costa Rica",
          "Croatia",
          "Cuba",
          "Cyprus",
          "Czechia",
          "Denmark",
          "Djibouti",
          "Dominica",
          "Dominican Republic",
          "Ecuador",
          "Egypt",
          "El Salvador",
          "Equatorial Guinea",
          "Eritrea",
          "Estonia",
          "Eswatini",
          "Ethiopia",
          "Fiji",
          "Finland",
          "France",
          "French Guiana",
          "Gabon",
          "Gambia",
          "Georgia",
          "Germany",
          "Ghana",
          "Greece",
          "Grenada",
          "Guatemala",
          "Guinea",
          "Guinea-Bissau",
          "Guyana",
          "Haiti",
          "Honduras",
          "Hungary",
          "Iceland",
          "India",
          "Indonesia",
          "Iraq",
          "Ireland",
          "Israel",
          "Italy",
          "Jamaica",
          "Japan",
          "Jordan",
          "Kazakhstan",
          "Kenya",
          "Kiribati",
          "Kuwait",
          "Kyrgyzstan",
          "Latvia",
          "Lebanon",
          "Lesotho",
          "Liberia",
          "Libya",
          "Lithuania",
          "Luxembourg",
          "Madagascar",
          "Malawi",
          "Malaysia",
          "Maldives",
          "Mali",
          "Malta",
          "Mauritania",
          "Mauritius",
          "Mexico",
          "Mongolia",
          "Montenegro",
          "Morocco",
          "Mozambique",
          "Myanmar",
          "Namibia",
          "Nauru",
          "Nepal",
          "Netherlands",
          "New Caledonia",
          "New Zealand",
          "Nicaragua",
          "Niger",
          "Nigeria",
          "North Macedonia",
          "Norway",
          "Oman",
          "Pakistan",
          "Panama",
          "Papua New Guinea",
          "Paraguay",
          "Peru",
          "Philippines",
          "Poland",
          "Portugal",
          "Puerto Rico",
          "Qatar",
          "Romania",
          "Rwanda",
          "Saint Kitts and Nevis",
          "Saint Lucia",
          "Saint Vincent and the Grenadines",
          "Samoa",
          "Sao Tome and Principe",
          "Saudi Arabia",
          "Senegal",
          "Serbia",
          "Seychelles",
          "Sierra Leone",
          "Singapore",
          "Slovakia",
          "Slovenia",
          "Solomon Islands",
          "Somalia",
          "South Africa",
          "South Sudan",
          "Spain",
          "Sri Lanka",
          "Sudan",
          "Suriname",
          "Sweden",
          "Switzerland",
          "Tajikistan",
          "Thailand",
          "Togo",
          "Tonga",
          "Trinidad and Tobago",
          "Tunisia",
          "Turkey",
          "Turkmenistan",
          "Tuvalu",
          "Uganda",
          "Ukraine",
          "United Arab Emirates",
          "United Kingdom",
          "United States",
          "Uruguay",
          "Uzbekistan",
          "Vanuatu",
          "Yemen",
          "Zambia",
          "Zimbabwe"
         ],
         "locationmode": "country names",
         "locations": [
          "Afghanistan",
          "Albania",
          "Algeria",
          "Angola",
          "Antigua and Barbuda",
          "Argentina",
          "Armenia",
          "Aruba",
          "Australia",
          "Austria",
          "Azerbaijan",
          "Bahamas",
          "Bahrain",
          "Bangladesh",
          "Barbados",
          "Belarus",
          "Belgium",
          "Belize",
          "Benin",
          "Bermuda",
          "Bhutan",
          "Bosnia and Herzegovina",
          "Botswana",
          "Brazil",
          "Bulgaria",
          "Burkina Faso",
          "Burundi",
          "Cambodia",
          "Cameroon",
          "Canada",
          "Cayman Islands",
          "Central African Republic",
          "Chad",
          "Chile",
          "China",
          "Colombia",
          "Comoros",
          "Congo",
          "Costa Rica",
          "Croatia",
          "Cuba",
          "Cyprus",
          "Czechia",
          "Denmark",
          "Djibouti",
          "Dominica",
          "Dominican Republic",
          "Ecuador",
          "Egypt",
          "El Salvador",
          "Equatorial Guinea",
          "Eritrea",
          "Estonia",
          "Eswatini",
          "Ethiopia",
          "Fiji",
          "Finland",
          "France",
          "French Guiana",
          "Gabon",
          "Gambia",
          "Georgia",
          "Germany",
          "Ghana",
          "Greece",
          "Grenada",
          "Guatemala",
          "Guinea",
          "Guinea-Bissau",
          "Guyana",
          "Haiti",
          "Honduras",
          "Hungary",
          "Iceland",
          "India",
          "Indonesia",
          "Iraq",
          "Ireland",
          "Israel",
          "Italy",
          "Jamaica",
          "Japan",
          "Jordan",
          "Kazakhstan",
          "Kenya",
          "Kiribati",
          "Kuwait",
          "Kyrgyzstan",
          "Latvia",
          "Lebanon",
          "Lesotho",
          "Liberia",
          "Libya",
          "Lithuania",
          "Luxembourg",
          "Madagascar",
          "Malawi",
          "Malaysia",
          "Maldives",
          "Mali",
          "Malta",
          "Mauritania",
          "Mauritius",
          "Mexico",
          "Mongolia",
          "Montenegro",
          "Morocco",
          "Mozambique",
          "Myanmar",
          "Namibia",
          "Nauru",
          "Nepal",
          "Netherlands",
          "New Caledonia",
          "New Zealand",
          "Nicaragua",
          "Niger",
          "Nigeria",
          "North Macedonia",
          "Norway",
          "Oman",
          "Pakistan",
          "Panama",
          "Papua New Guinea",
          "Paraguay",
          "Peru",
          "Philippines",
          "Poland",
          "Portugal",
          "Puerto Rico",
          "Qatar",
          "Romania",
          "Rwanda",
          "Saint Kitts and Nevis",
          "Saint Lucia",
          "Saint Vincent and the Grenadines",
          "Samoa",
          "Sao Tome and Principe",
          "Saudi Arabia",
          "Senegal",
          "Serbia",
          "Seychelles",
          "Sierra Leone",
          "Singapore",
          "Slovakia",
          "Slovenia",
          "Solomon Islands",
          "Somalia",
          "South Africa",
          "South Sudan",
          "Spain",
          "Sri Lanka",
          "Sudan",
          "Suriname",
          "Sweden",
          "Switzerland",
          "Tajikistan",
          "Thailand",
          "Togo",
          "Tonga",
          "Trinidad and Tobago",
          "Tunisia",
          "Turkey",
          "Turkmenistan",
          "Tuvalu",
          "Uganda",
          "Ukraine",
          "United Arab Emirates",
          "United Kingdom",
          "United States",
          "Uruguay",
          "Uzbekistan",
          "Vanuatu",
          "Yemen",
          "Zambia",
          "Zimbabwe"
         ],
         "marker": {
          "line": {
           "color": "white",
           "width": 0.5
          }
         },
         "name": "",
         "type": "choropleth",
         "z": {
          "bdata": "AAAAAAAAAAAAAAAAAAAAAAAAAAAAAAAAAAAAAAAAAAAAAAAAAAAAAPYoXI/CpWFAcT0K16NQR0AAAAAAAAAAAAAAAAAAAAAAAAAAAAAAAAAAAAAAAAAAAAAAAAAAAAAAAAAAAAAAAAAAAAAAAAAAAAAAAAAAAAAAw/UoXI/C1T8K16NwPTiMQAAAAAAAAAAAAAAAAAAAAAAAAAAAAAAAAAAAAAAAAAAAAAAAAAAAAAAAAAAAAAAAAClcj8L1UHFAuB6F61HUdUAAAAAAAAAAAAAAAAAAAAAAAAAAAAAAAAAAAAAAAAAAAClcj8L10JxAAAAAAAAAAAAAAAAAAAAAAAAAAAAAAAAAAAAAAAAAAAB7FK5HYWKkQAAAAAAAAAAAAAAAAAAAAAAAAAAAAAAAAAAAAAAAAAAAAAAAAAAAAAAAAAAAAAAAAAAAAAAAAAAA4XoUrkcZgUAAAAAAAAAAAAAAAAAAAAAAAAAAAAAAAAAAAAAAAAAAAAAAAAAAAAAAAAAAAAAAAAAAAAAAAAAAAAAAAAAAAAAAAAAAAAAAAAAAAAAAAAAAAAAAAAAAAAAAAAAAAAAAAAAAAAAAAAAAAArXo3A9Qn5AmpmZmRlpwUAAAAAAAAAAAAAAAAAAAAAAAAAAAAAAAAAAAAAAAAAAAAAAAACAVaRAAAAAAAAAAAAAAAAAAAAAAAAAAAAAAAAAAAAAAAAAAAAAAAAAAAAAAAAAAAAAAAAAAAAAAAAAAAAAAAAAAAAAAAAAAAAAAAAA7FG4HoV7c0AAAAAAAAAAAArXo3A9DIJAAAAAAAAAAAAAAAAAAAAAAAAAAAAAAAAAAAAAAAAAAAAAAAAAAAAAAAAAAAAAAAAACtejcL11qkAAAAAAAAAAAAAAAAAAAAAAAAAAAAAAAAAAAAAAAAAAAAAAAAAAAAAAAAAAAAAAAAAAAAAAAAAAAAAAAAAAAAAAAAAAAAAAAAAAAAAAAAAAAAAAAAAAAAAApHA9CteDXEAAAAAAAAAAAAAAAAAAAAAAAAAAAAAAAAAAAAAAAAAAAAAAAAAAAAAAAAAAAAAAAAAAAAAAAAAAAAAAAAAAAAAAAAAAAAAAAAAfhetRuLZpQAAAAAAAAAAAAAAAAAAAAAAAAAAAAAAAAAAAAAAAAAAAAAAAAAAAAAAAAAAAAAAAAAAAAAAAAAAAAAAAAAAAAADNzMzMzGxUQAAAAAAAAAAAAAAAAAAAAAAAAAAAAAAAAAAAAAAAAAAAAAAAAAAAAAAAAAAAAAAAAAAAAAAAAAAAAAAAAAAAAACF61G4HoVVQAAAAAAAAAAAAAAAAAAAAAAAAAAAAAAAAAAAAAAAAAAAAAAAAAAAAAAAAAAAAAAAAAAAAAAAAAAAAAAAAAAAAAAAAAAAAAAAAB+F61G4bmhAAAAAAAAAAAAAAAAAAAAAAAAAAAAAAAAAAAAAAAAAAAAAAAAAAAAAAAAAAAAAAAAAAAAAAAAAAAAAAAAAAAAAAAAAAAAAAAAAAAAAAAAAAAAAAAAAAAAAAAAAAAAAAAAAFa5H4Xr4dEAzMzMzMwNeQAAAAAAAAAAAAAAAAAAAAADNzMzMzJhwQAAAAAAAAAAA9ihcj8Jhk0AAAAAAAAAAAAAAAAAAAAAAAAAAAAAAAAAzMzMzMw6VQLgehetRJIBAAAAAAAAAAAAAAAAAAAAAAAAAAAAAAAAAAAAAAAAAAAAAAAAAAAAAAAAAAAAAAAAAAAAAAAAAAAAAAAAAAAAAAAAAAAAAAAAAAAAAAAAAAAA+CtejcNybQPYoXI/C9fg/16NwPQpXl0CkcD0KpzbQQAAAAAAAAAAAAAAAAAAAAAAAAAAAAAAAAAAAAAAAAAAAAAAAAAAAAAAAAAAAAAAAAA==",
          "dtype": "f8"
         }
        }
       ],
       "layout": {
        "coloraxis": {
         "cmax": 16602.61,
         "cmin": 0,
         "colorbar": {
          "len": 0.75,
          "thickness": 15,
          "title": {
           "text": "Total nuclear electricity"
          }
         },
         "colorscale": [
          [
           0,
           "black"
          ],
          [
           0.0001,
           "#0d0887"
          ],
          [
           1,
           "#f0f921"
          ]
         ]
        },
        "geo": {
         "center": {},
         "domain": {
          "x": [
           0,
           1
          ],
          "y": [
           0,
           1
          ]
         },
         "projection": {
          "type": "natural earth"
         },
         "showcoastlines": true,
         "showframe": false
        },
        "legend": {
         "tracegroupgap": 0
        },
        "margin": {
         "b": 0,
         "l": 0,
         "r": 0,
         "t": 40
        },
        "template": {
         "data": {
          "bar": [
           {
            "error_x": {
             "color": "#2a3f5f"
            },
            "error_y": {
             "color": "#2a3f5f"
            },
            "marker": {
             "line": {
              "color": "#E5ECF6",
              "width": 0.5
             },
             "pattern": {
              "fillmode": "overlay",
              "size": 10,
              "solidity": 0.2
             }
            },
            "type": "bar"
           }
          ],
          "barpolar": [
           {
            "marker": {
             "line": {
              "color": "#E5ECF6",
              "width": 0.5
             },
             "pattern": {
              "fillmode": "overlay",
              "size": 10,
              "solidity": 0.2
             }
            },
            "type": "barpolar"
           }
          ],
          "carpet": [
           {
            "aaxis": {
             "endlinecolor": "#2a3f5f",
             "gridcolor": "white",
             "linecolor": "white",
             "minorgridcolor": "white",
             "startlinecolor": "#2a3f5f"
            },
            "baxis": {
             "endlinecolor": "#2a3f5f",
             "gridcolor": "white",
             "linecolor": "white",
             "minorgridcolor": "white",
             "startlinecolor": "#2a3f5f"
            },
            "type": "carpet"
           }
          ],
          "choropleth": [
           {
            "colorbar": {
             "outlinewidth": 0,
             "ticks": ""
            },
            "type": "choropleth"
           }
          ],
          "contour": [
           {
            "colorbar": {
             "outlinewidth": 0,
             "ticks": ""
            },
            "colorscale": [
             [
              0,
              "#0d0887"
             ],
             [
              0.1111111111111111,
              "#46039f"
             ],
             [
              0.2222222222222222,
              "#7201a8"
             ],
             [
              0.3333333333333333,
              "#9c179e"
             ],
             [
              0.4444444444444444,
              "#bd3786"
             ],
             [
              0.5555555555555556,
              "#d8576b"
             ],
             [
              0.6666666666666666,
              "#ed7953"
             ],
             [
              0.7777777777777778,
              "#fb9f3a"
             ],
             [
              0.8888888888888888,
              "#fdca26"
             ],
             [
              1,
              "#f0f921"
             ]
            ],
            "type": "contour"
           }
          ],
          "contourcarpet": [
           {
            "colorbar": {
             "outlinewidth": 0,
             "ticks": ""
            },
            "type": "contourcarpet"
           }
          ],
          "heatmap": [
           {
            "colorbar": {
             "outlinewidth": 0,
             "ticks": ""
            },
            "colorscale": [
             [
              0,
              "#0d0887"
             ],
             [
              0.1111111111111111,
              "#46039f"
             ],
             [
              0.2222222222222222,
              "#7201a8"
             ],
             [
              0.3333333333333333,
              "#9c179e"
             ],
             [
              0.4444444444444444,
              "#bd3786"
             ],
             [
              0.5555555555555556,
              "#d8576b"
             ],
             [
              0.6666666666666666,
              "#ed7953"
             ],
             [
              0.7777777777777778,
              "#fb9f3a"
             ],
             [
              0.8888888888888888,
              "#fdca26"
             ],
             [
              1,
              "#f0f921"
             ]
            ],
            "type": "heatmap"
           }
          ],
          "histogram": [
           {
            "marker": {
             "pattern": {
              "fillmode": "overlay",
              "size": 10,
              "solidity": 0.2
             }
            },
            "type": "histogram"
           }
          ],
          "histogram2d": [
           {
            "colorbar": {
             "outlinewidth": 0,
             "ticks": ""
            },
            "colorscale": [
             [
              0,
              "#0d0887"
             ],
             [
              0.1111111111111111,
              "#46039f"
             ],
             [
              0.2222222222222222,
              "#7201a8"
             ],
             [
              0.3333333333333333,
              "#9c179e"
             ],
             [
              0.4444444444444444,
              "#bd3786"
             ],
             [
              0.5555555555555556,
              "#d8576b"
             ],
             [
              0.6666666666666666,
              "#ed7953"
             ],
             [
              0.7777777777777778,
              "#fb9f3a"
             ],
             [
              0.8888888888888888,
              "#fdca26"
             ],
             [
              1,
              "#f0f921"
             ]
            ],
            "type": "histogram2d"
           }
          ],
          "histogram2dcontour": [
           {
            "colorbar": {
             "outlinewidth": 0,
             "ticks": ""
            },
            "colorscale": [
             [
              0,
              "#0d0887"
             ],
             [
              0.1111111111111111,
              "#46039f"
             ],
             [
              0.2222222222222222,
              "#7201a8"
             ],
             [
              0.3333333333333333,
              "#9c179e"
             ],
             [
              0.4444444444444444,
              "#bd3786"
             ],
             [
              0.5555555555555556,
              "#d8576b"
             ],
             [
              0.6666666666666666,
              "#ed7953"
             ],
             [
              0.7777777777777778,
              "#fb9f3a"
             ],
             [
              0.8888888888888888,
              "#fdca26"
             ],
             [
              1,
              "#f0f921"
             ]
            ],
            "type": "histogram2dcontour"
           }
          ],
          "mesh3d": [
           {
            "colorbar": {
             "outlinewidth": 0,
             "ticks": ""
            },
            "type": "mesh3d"
           }
          ],
          "parcoords": [
           {
            "line": {
             "colorbar": {
              "outlinewidth": 0,
              "ticks": ""
             }
            },
            "type": "parcoords"
           }
          ],
          "pie": [
           {
            "automargin": true,
            "type": "pie"
           }
          ],
          "scatter": [
           {
            "fillpattern": {
             "fillmode": "overlay",
             "size": 10,
             "solidity": 0.2
            },
            "type": "scatter"
           }
          ],
          "scatter3d": [
           {
            "line": {
             "colorbar": {
              "outlinewidth": 0,
              "ticks": ""
             }
            },
            "marker": {
             "colorbar": {
              "outlinewidth": 0,
              "ticks": ""
             }
            },
            "type": "scatter3d"
           }
          ],
          "scattercarpet": [
           {
            "marker": {
             "colorbar": {
              "outlinewidth": 0,
              "ticks": ""
             }
            },
            "type": "scattercarpet"
           }
          ],
          "scattergeo": [
           {
            "marker": {
             "colorbar": {
              "outlinewidth": 0,
              "ticks": ""
             }
            },
            "type": "scattergeo"
           }
          ],
          "scattergl": [
           {
            "marker": {
             "colorbar": {
              "outlinewidth": 0,
              "ticks": ""
             }
            },
            "type": "scattergl"
           }
          ],
          "scattermap": [
           {
            "marker": {
             "colorbar": {
              "outlinewidth": 0,
              "ticks": ""
             }
            },
            "type": "scattermap"
           }
          ],
          "scattermapbox": [
           {
            "marker": {
             "colorbar": {
              "outlinewidth": 0,
              "ticks": ""
             }
            },
            "type": "scattermapbox"
           }
          ],
          "scatterpolar": [
           {
            "marker": {
             "colorbar": {
              "outlinewidth": 0,
              "ticks": ""
             }
            },
            "type": "scatterpolar"
           }
          ],
          "scatterpolargl": [
           {
            "marker": {
             "colorbar": {
              "outlinewidth": 0,
              "ticks": ""
             }
            },
            "type": "scatterpolargl"
           }
          ],
          "scatterternary": [
           {
            "marker": {
             "colorbar": {
              "outlinewidth": 0,
              "ticks": ""
             }
            },
            "type": "scatterternary"
           }
          ],
          "surface": [
           {
            "colorbar": {
             "outlinewidth": 0,
             "ticks": ""
            },
            "colorscale": [
             [
              0,
              "#0d0887"
             ],
             [
              0.1111111111111111,
              "#46039f"
             ],
             [
              0.2222222222222222,
              "#7201a8"
             ],
             [
              0.3333333333333333,
              "#9c179e"
             ],
             [
              0.4444444444444444,
              "#bd3786"
             ],
             [
              0.5555555555555556,
              "#d8576b"
             ],
             [
              0.6666666666666666,
              "#ed7953"
             ],
             [
              0.7777777777777778,
              "#fb9f3a"
             ],
             [
              0.8888888888888888,
              "#fdca26"
             ],
             [
              1,
              "#f0f921"
             ]
            ],
            "type": "surface"
           }
          ],
          "table": [
           {
            "cells": {
             "fill": {
              "color": "#EBF0F8"
             },
             "line": {
              "color": "white"
             }
            },
            "header": {
             "fill": {
              "color": "#C8D4E3"
             },
             "line": {
              "color": "white"
             }
            },
            "type": "table"
           }
          ]
         },
         "layout": {
          "annotationdefaults": {
           "arrowcolor": "#2a3f5f",
           "arrowhead": 0,
           "arrowwidth": 1
          },
          "autotypenumbers": "strict",
          "coloraxis": {
           "colorbar": {
            "outlinewidth": 0,
            "ticks": ""
           }
          },
          "colorscale": {
           "diverging": [
            [
             0,
             "#8e0152"
            ],
            [
             0.1,
             "#c51b7d"
            ],
            [
             0.2,
             "#de77ae"
            ],
            [
             0.3,
             "#f1b6da"
            ],
            [
             0.4,
             "#fde0ef"
            ],
            [
             0.5,
             "#f7f7f7"
            ],
            [
             0.6,
             "#e6f5d0"
            ],
            [
             0.7,
             "#b8e186"
            ],
            [
             0.8,
             "#7fbc41"
            ],
            [
             0.9,
             "#4d9221"
            ],
            [
             1,
             "#276419"
            ]
           ],
           "sequential": [
            [
             0,
             "#0d0887"
            ],
            [
             0.1111111111111111,
             "#46039f"
            ],
            [
             0.2222222222222222,
             "#7201a8"
            ],
            [
             0.3333333333333333,
             "#9c179e"
            ],
            [
             0.4444444444444444,
             "#bd3786"
            ],
            [
             0.5555555555555556,
             "#d8576b"
            ],
            [
             0.6666666666666666,
             "#ed7953"
            ],
            [
             0.7777777777777778,
             "#fb9f3a"
            ],
            [
             0.8888888888888888,
             "#fdca26"
            ],
            [
             1,
             "#f0f921"
            ]
           ],
           "sequentialminus": [
            [
             0,
             "#0d0887"
            ],
            [
             0.1111111111111111,
             "#46039f"
            ],
            [
             0.2222222222222222,
             "#7201a8"
            ],
            [
             0.3333333333333333,
             "#9c179e"
            ],
            [
             0.4444444444444444,
             "#bd3786"
            ],
            [
             0.5555555555555556,
             "#d8576b"
            ],
            [
             0.6666666666666666,
             "#ed7953"
            ],
            [
             0.7777777777777778,
             "#fb9f3a"
            ],
            [
             0.8888888888888888,
             "#fdca26"
            ],
            [
             1,
             "#f0f921"
            ]
           ]
          },
          "colorway": [
           "#636efa",
           "#EF553B",
           "#00cc96",
           "#ab63fa",
           "#FFA15A",
           "#19d3f3",
           "#FF6692",
           "#B6E880",
           "#FF97FF",
           "#FECB52"
          ],
          "font": {
           "color": "#2a3f5f"
          },
          "geo": {
           "bgcolor": "white",
           "lakecolor": "white",
           "landcolor": "#E5ECF6",
           "showlakes": true,
           "showland": true,
           "subunitcolor": "white"
          },
          "hoverlabel": {
           "align": "left"
          },
          "hovermode": "closest",
          "mapbox": {
           "style": "light"
          },
          "paper_bgcolor": "white",
          "plot_bgcolor": "#E5ECF6",
          "polar": {
           "angularaxis": {
            "gridcolor": "white",
            "linecolor": "white",
            "ticks": ""
           },
           "bgcolor": "#E5ECF6",
           "radialaxis": {
            "gridcolor": "white",
            "linecolor": "white",
            "ticks": ""
           }
          },
          "scene": {
           "xaxis": {
            "backgroundcolor": "#E5ECF6",
            "gridcolor": "white",
            "gridwidth": 2,
            "linecolor": "white",
            "showbackground": true,
            "ticks": "",
            "zerolinecolor": "white"
           },
           "yaxis": {
            "backgroundcolor": "#E5ECF6",
            "gridcolor": "white",
            "gridwidth": 2,
            "linecolor": "white",
            "showbackground": true,
            "ticks": "",
            "zerolinecolor": "white"
           },
           "zaxis": {
            "backgroundcolor": "#E5ECF6",
            "gridcolor": "white",
            "gridwidth": 2,
            "linecolor": "white",
            "showbackground": true,
            "ticks": "",
            "zerolinecolor": "white"
           }
          },
          "shapedefaults": {
           "line": {
            "color": "#2a3f5f"
           }
          },
          "ternary": {
           "aaxis": {
            "gridcolor": "white",
            "linecolor": "white",
            "ticks": ""
           },
           "baxis": {
            "gridcolor": "white",
            "linecolor": "white",
            "ticks": ""
           },
           "bgcolor": "#E5ECF6",
           "caxis": {
            "gridcolor": "white",
            "linecolor": "white",
            "ticks": ""
           }
          },
          "title": {
           "x": 0.05
          },
          "xaxis": {
           "automargin": true,
           "gridcolor": "white",
           "linecolor": "white",
           "ticks": "",
           "title": {
            "standoff": 15
           },
           "zerolinecolor": "white",
           "zerolinewidth": 2
          },
          "yaxis": {
           "automargin": true,
           "gridcolor": "white",
           "linecolor": "white",
           "ticks": "",
           "title": {
            "standoff": 15
           },
           "zerolinecolor": "white",
           "zerolinewidth": 2
          }
         }
        },
        "title": {
         "text": "Total nuclear electricity per country- Interactive Visualization"
        }
       }
      }
     },
     "metadata": {},
     "output_type": "display_data"
    }
   ],
   "source": [
    "\n",
    "df = pd.read_csv('nuclear_data/global-data-on-sustainable-energy (1).csv')\n",
    "aggregated_df = df.groupby('Entity').agg({\n",
    "    'Year': ['min', 'max'],\n",
    "    'Access to electricity (% of population)': 'mean',\n",
    "    'Access to clean fuels for cooking': 'mean',\n",
    "    'Renewable-electricity-generating-capacity-per-capita': 'mean',\n",
    "    'Financial flows to developing countries (US $)': 'sum',\n",
    "    'Renewable energy share in the total final energy consumption (%)': 'mean',\n",
    "    'Electricity from fossil fuels (TWh)': 'sum',\n",
    "    'Electricity from nuclear (TWh)': 'sum',\n",
    "    'Electricity from renewables (TWh)': 'sum',\n",
    "    'Low-carbon electricity (% electricity)': 'mean',\n",
    "    'Primary energy consumption per capita (kWh/person)': 'mean',\n",
    "    'Energy intensity level of primary energy (MJ/$2017 PPP GDP)': 'mean',\n",
    "    'Value_co2_emissions_kt_by_country': 'sum',\n",
    "    'Renewables (% equivalent primary energy)': 'mean',\n",
    "    'gdp_growth': 'mean',\n",
    "    'gdp_per_capita': 'mean',\n",
    "    'Latitude': 'first',\n",
    "    'Longitude': 'first'\n",
    "})\n",
    "\n",
    "aggregated_df.columns = ['_'.join(col).strip() for col in aggregated_df.columns.values]\n",
    "\n",
    "aggregated_df = aggregated_df.reset_index()\n",
    "\n",
    "aggregated_df = aggregated_df.rename(columns={\n",
    "    'Year_min': 'First_Year',\n",
    "    'Year_max': 'Last_Year',\n",
    "    'Access to electricity (% of population)_mean': 'Avg_Electricity_Access',\n",
    "    'Access to clean fuels for cooking_mean': 'Avg_Clean_Cooking_Access',\n",
    "    'Renewable-electricity-generating-capacity-per-capita_mean': 'Avg_Renewable_Capacity_per_Capita',\n",
    "    'Financial flows to developing countries (US $)_sum': 'Total_Financial_Flows',\n",
    "    'Renewable energy share in the total final energy consumption (%)_mean': 'Avg_Renewable_Share',\n",
    "    'Electricity from fossil fuels (TWh)_sum': 'Total_Fossil_Electricity',\n",
    "    'Electricity from nuclear (TWh)_sum': 'Total_Nuclear_Electricity',\n",
    "    'Electricity from renewables (TWh)_sum': 'Total_Renewable_Electricity',\n",
    "    'Low-carbon electricity (% electricity)_mean': 'Avg_Low_Carbon_Electricity',\n",
    "    'Primary energy consumption per capita (kWh/person)_mean': 'Avg_Energy_Consumption_per_Capita',\n",
    "    'Energy intensity level of primary energy (MJ/$2017 PPP GDP)_mean': 'Avg_Energy_Intensity',\n",
    "    'Value_co2_emissions_kt_by_country_sum': 'Total_CO2_Emissions',\n",
    "    'Renewables (% equivalent primary energy)_mean': 'Avg_Renewables_Primary_Energy',\n",
    "    'gdp_growth_mean': 'Avg_GDP_Growth',\n",
    "    'gdp_per_capita_mean': 'Avg_GDP_per_Capita',\n",
    "    'Land Area(Km2)_first': 'Land_Area',\n",
    "    'Latitude_first': 'Latitude',\n",
    "    'Longitude_first': 'Longitude'\n",
    "})\n",
    "custom_scale = [[0, 'black'], [0.0001, px.colors.sequential.Plasma[0]],\n",
    "                [1, px.colors.sequential.Plasma[-1]]]\n",
    "\n",
    "fig = px.choropleth(aggregated_df,\n",
    "                    locations=\"Entity\",\n",
    "                    locationmode=\"country names\",\n",
    "                    color=\"Total_Nuclear_Electricity\",\n",
    "                    hover_name=\"Entity\",\n",
    "                    color_continuous_scale=custom_scale,\n",
    "                    title=\"Total nuclear electricity per country- Interactive Visualization\",\n",
    "                    labels={'Total_Nuclear_Electricity':'Total nuclear electricity'},\n",
    "                    range_color=(0, aggregated_df['Total_Nuclear_Electricity'].max()))\n",
    "\n",
    "fig.update_layout(coloraxis=dict(cmin=0))\n",
    "\n",
    "fig.update_layout(\n",
    "    margin={\"r\": 0, \"t\": 40, \"l\": 0, \"b\": 0},\n",
    "    geo=dict(\n",
    "        showframe=False,\n",
    "        showcoastlines=True,\n",
    "        projection_type='natural earth'\n",
    "    ),\n",
    "    coloraxis_colorbar=dict(\n",
    "        title=\"Total nuclear electricity\",\n",
    "        thickness=15,\n",
    "        len=0.75\n",
    "    )\n",
    ")\n",
    "\n",
    "fig.update_traces(\n",
    "    marker_line_width=0.5,\n",
    "    marker_line_color='white',\n",
    "    selector=dict(type='choropleth')\n",
    ")\n",
    "\n",
    "fig.show()"
   ]
  },
  {
   "cell_type": "code",
   "execution_count": 6,
   "id": "e3fafe00",
   "metadata": {},
   "outputs": [
    {
     "data": {
      "application/vnd.plotly.v1+json": {
       "config": {
        "plotlyServerURL": "https://plot.ly"
       },
       "data": [
        {
         "coloraxis": "coloraxis",
         "geo": "geo",
         "hovertemplate": "<b>%{hovertext}</b><br><br>Entity=%{location}<br>Total_Nuclear_Electricity=%{z}<extra></extra>",
         "hovertext": [
          "Afghanistan",
          "Albania",
          "Algeria",
          "Angola",
          "Antigua and Barbuda",
          "Argentina",
          "Armenia",
          "Aruba",
          "Australia",
          "Austria",
          "Azerbaijan",
          "Bahamas",
          "Bahrain",
          "Bangladesh",
          "Barbados",
          "Belarus",
          "Belgium",
          "Belize",
          "Benin",
          "Bermuda",
          "Bhutan",
          "Bosnia and Herzegovina",
          "Botswana",
          "Brazil",
          "Bulgaria",
          "Burkina Faso",
          "Burundi",
          "Cambodia",
          "Cameroon",
          "Canada",
          "Cayman Islands",
          "Central African Republic",
          "Chad",
          "Chile",
          "China",
          "Colombia",
          "Comoros",
          "Congo",
          "Costa Rica",
          "Croatia",
          "Cuba",
          "Cyprus",
          "Czechia",
          "Denmark",
          "Djibouti",
          "Dominica",
          "Dominican Republic",
          "Ecuador",
          "Egypt",
          "El Salvador",
          "Equatorial Guinea",
          "Eritrea",
          "Estonia",
          "Eswatini",
          "Ethiopia",
          "Fiji",
          "Finland",
          "France",
          "French Guiana",
          "Gabon",
          "Gambia",
          "Georgia",
          "Germany",
          "Ghana",
          "Greece",
          "Grenada",
          "Guatemala",
          "Guinea",
          "Guinea-Bissau",
          "Guyana",
          "Haiti",
          "Honduras",
          "Hungary",
          "Iceland",
          "India",
          "Indonesia",
          "Iraq",
          "Ireland",
          "Israel",
          "Italy",
          "Jamaica",
          "Japan",
          "Jordan",
          "Kazakhstan",
          "Kenya",
          "Kiribati",
          "Kuwait",
          "Kyrgyzstan",
          "Latvia",
          "Lebanon",
          "Lesotho",
          "Liberia",
          "Libya",
          "Lithuania",
          "Luxembourg",
          "Madagascar",
          "Malawi",
          "Malaysia",
          "Maldives",
          "Mali",
          "Malta",
          "Mauritania",
          "Mauritius",
          "Mexico",
          "Mongolia",
          "Montenegro",
          "Morocco",
          "Mozambique",
          "Myanmar",
          "Namibia",
          "Nauru",
          "Nepal",
          "Netherlands",
          "New Caledonia",
          "New Zealand",
          "Nicaragua",
          "Niger",
          "Nigeria",
          "North Macedonia",
          "Norway",
          "Oman",
          "Pakistan",
          "Panama",
          "Papua New Guinea",
          "Paraguay",
          "Peru",
          "Philippines",
          "Poland",
          "Portugal",
          "Puerto Rico",
          "Qatar",
          "Romania",
          "Rwanda",
          "Saint Kitts and Nevis",
          "Saint Lucia",
          "Saint Vincent and the Grenadines",
          "Samoa",
          "Sao Tome and Principe",
          "Saudi Arabia",
          "Senegal",
          "Serbia",
          "Seychelles",
          "Sierra Leone",
          "Singapore",
          "Slovakia",
          "Slovenia",
          "Solomon Islands",
          "Somalia",
          "South Africa",
          "South Sudan",
          "Spain",
          "Sri Lanka",
          "Sudan",
          "Suriname",
          "Sweden",
          "Switzerland",
          "Tajikistan",
          "Thailand",
          "Togo",
          "Tonga",
          "Trinidad and Tobago",
          "Tunisia",
          "Turkey",
          "Turkmenistan",
          "Tuvalu",
          "Uganda",
          "Ukraine",
          "United Arab Emirates",
          "United Kingdom",
          "United States",
          "Uruguay",
          "Uzbekistan",
          "Vanuatu",
          "Yemen",
          "Zambia",
          "Zimbabwe"
         ],
         "locationmode": "country names",
         "locations": [
          "Afghanistan",
          "Albania",
          "Algeria",
          "Angola",
          "Antigua and Barbuda",
          "Argentina",
          "Armenia",
          "Aruba",
          "Australia",
          "Austria",
          "Azerbaijan",
          "Bahamas",
          "Bahrain",
          "Bangladesh",
          "Barbados",
          "Belarus",
          "Belgium",
          "Belize",
          "Benin",
          "Bermuda",
          "Bhutan",
          "Bosnia and Herzegovina",
          "Botswana",
          "Brazil",
          "Bulgaria",
          "Burkina Faso",
          "Burundi",
          "Cambodia",
          "Cameroon",
          "Canada",
          "Cayman Islands",
          "Central African Republic",
          "Chad",
          "Chile",
          "China",
          "Colombia",
          "Comoros",
          "Congo",
          "Costa Rica",
          "Croatia",
          "Cuba",
          "Cyprus",
          "Czechia",
          "Denmark",
          "Djibouti",
          "Dominica",
          "Dominican Republic",
          "Ecuador",
          "Egypt",
          "El Salvador",
          "Equatorial Guinea",
          "Eritrea",
          "Estonia",
          "Eswatini",
          "Ethiopia",
          "Fiji",
          "Finland",
          "France",
          "French Guiana",
          "Gabon",
          "Gambia",
          "Georgia",
          "Germany",
          "Ghana",
          "Greece",
          "Grenada",
          "Guatemala",
          "Guinea",
          "Guinea-Bissau",
          "Guyana",
          "Haiti",
          "Honduras",
          "Hungary",
          "Iceland",
          "India",
          "Indonesia",
          "Iraq",
          "Ireland",
          "Israel",
          "Italy",
          "Jamaica",
          "Japan",
          "Jordan",
          "Kazakhstan",
          "Kenya",
          "Kiribati",
          "Kuwait",
          "Kyrgyzstan",
          "Latvia",
          "Lebanon",
          "Lesotho",
          "Liberia",
          "Libya",
          "Lithuania",
          "Luxembourg",
          "Madagascar",
          "Malawi",
          "Malaysia",
          "Maldives",
          "Mali",
          "Malta",
          "Mauritania",
          "Mauritius",
          "Mexico",
          "Mongolia",
          "Montenegro",
          "Morocco",
          "Mozambique",
          "Myanmar",
          "Namibia",
          "Nauru",
          "Nepal",
          "Netherlands",
          "New Caledonia",
          "New Zealand",
          "Nicaragua",
          "Niger",
          "Nigeria",
          "North Macedonia",
          "Norway",
          "Oman",
          "Pakistan",
          "Panama",
          "Papua New Guinea",
          "Paraguay",
          "Peru",
          "Philippines",
          "Poland",
          "Portugal",
          "Puerto Rico",
          "Qatar",
          "Romania",
          "Rwanda",
          "Saint Kitts and Nevis",
          "Saint Lucia",
          "Saint Vincent and the Grenadines",
          "Samoa",
          "Sao Tome and Principe",
          "Saudi Arabia",
          "Senegal",
          "Serbia",
          "Seychelles",
          "Sierra Leone",
          "Singapore",
          "Slovakia",
          "Slovenia",
          "Solomon Islands",
          "Somalia",
          "South Africa",
          "South Sudan",
          "Spain",
          "Sri Lanka",
          "Sudan",
          "Suriname",
          "Sweden",
          "Switzerland",
          "Tajikistan",
          "Thailand",
          "Togo",
          "Tonga",
          "Trinidad and Tobago",
          "Tunisia",
          "Turkey",
          "Turkmenistan",
          "Tuvalu",
          "Uganda",
          "Ukraine",
          "United Arab Emirates",
          "United Kingdom",
          "United States",
          "Uruguay",
          "Uzbekistan",
          "Vanuatu",
          "Yemen",
          "Zambia",
          "Zimbabwe"
         ],
         "marker": {
          "line": {
           "color": "white",
           "width": 0.5
          }
         },
         "name": "",
         "type": "choropleth",
         "z": {
          "bdata": "AAAAAAAAAAAAAAAAAAAAAAAAAAAAAAAAAAAAAAAAAAAAAAAAAAAAAPYoXI/CpWFAcT0K16NQR0AAAAAAAAAAAAAAAAAAAAAAAAAAAAAAAAAAAAAAAAAAAAAAAAAAAAAAAAAAAAAAAAAAAAAAAAAAAAAAAAAAAAAAw/UoXI/C1T8K16NwPTiMQAAAAAAAAAAAAAAAAAAAAAAAAAAAAAAAAAAAAAAAAAAAAAAAAAAAAAAAAAAAAAAAAClcj8L1UHFAuB6F61HUdUAAAAAAAAAAAAAAAAAAAAAAAAAAAAAAAAAAAAAAAAAAAClcj8L10JxAAAAAAAAAAAAAAAAAAAAAAAAAAAAAAAAAAAAAAAAAAAB7FK5HYWKkQAAAAAAAAAAAAAAAAAAAAAAAAAAAAAAAAAAAAAAAAAAAAAAAAAAAAAAAAAAAAAAAAAAAAAAAAAAA4XoUrkcZgUAAAAAAAAAAAAAAAAAAAAAAAAAAAAAAAAAAAAAAAAAAAAAAAAAAAAAAAAAAAAAAAAAAAAAAAAAAAAAAAAAAAAAAAAAAAAAAAAAAAAAAAAAAAAAAAAAAAAAAAAAAAAAAAAAAAAAAAAAAAArXo3A9Qn5AmpmZmRlpwUAAAAAAAAAAAAAAAAAAAAAAAAAAAAAAAAAAAAAAAAAAAAAAAACAVaRAAAAAAAAAAAAAAAAAAAAAAAAAAAAAAAAAAAAAAAAAAAAAAAAAAAAAAAAAAAAAAAAAAAAAAAAAAAAAAAAAAAAAAAAAAAAAAAAA7FG4HoV7c0AAAAAAAAAAAArXo3A9DIJAAAAAAAAAAAAAAAAAAAAAAAAAAAAAAAAAAAAAAAAAAAAAAAAAAAAAAAAAAAAAAAAACtejcL11qkAAAAAAAAAAAAAAAAAAAAAAAAAAAAAAAAAAAAAAAAAAAAAAAAAAAAAAAAAAAAAAAAAAAAAAAAAAAAAAAAAAAAAAAAAAAAAAAAAAAAAAAAAAAAAAAAAAAAAApHA9CteDXEAAAAAAAAAAAAAAAAAAAAAAAAAAAAAAAAAAAAAAAAAAAAAAAAAAAAAAAAAAAAAAAAAAAAAAAAAAAAAAAAAAAAAAAAAAAAAAAAAfhetRuLZpQAAAAAAAAAAAAAAAAAAAAAAAAAAAAAAAAAAAAAAAAAAAAAAAAAAAAAAAAAAAAAAAAAAAAAAAAAAAAAAAAAAAAADNzMzMzGxUQAAAAAAAAAAAAAAAAAAAAAAAAAAAAAAAAAAAAAAAAAAAAAAAAAAAAAAAAAAAAAAAAAAAAAAAAAAAAAAAAAAAAACF61G4HoVVQAAAAAAAAAAAAAAAAAAAAAAAAAAAAAAAAAAAAAAAAAAAAAAAAAAAAAAAAAAAAAAAAAAAAAAAAAAAAAAAAAAAAAAAAAAAAAAAAB+F61G4bmhAAAAAAAAAAAAAAAAAAAAAAAAAAAAAAAAAAAAAAAAAAAAAAAAAAAAAAAAAAAAAAAAAAAAAAAAAAAAAAAAAAAAAAAAAAAAAAAAAAAAAAAAAAAAAAAAAAAAAAAAAAAAAAAAAFa5H4Xr4dEAzMzMzMwNeQAAAAAAAAAAAAAAAAAAAAADNzMzMzJhwQAAAAAAAAAAA9ihcj8Jhk0AAAAAAAAAAAAAAAAAAAAAAAAAAAAAAAAAzMzMzMw6VQLgehetRJIBAAAAAAAAAAAAAAAAAAAAAAAAAAAAAAAAAAAAAAAAAAAAAAAAAAAAAAAAAAAAAAAAAAAAAAAAAAAAAAAAAAAAAAAAAAAAAAAAAAAAAAAAAAAA+CtejcNybQPYoXI/C9fg/16NwPQpXl0CkcD0KpzbQQAAAAAAAAAAAAAAAAAAAAAAAAAAAAAAAAAAAAAAAAAAAAAAAAAAAAAAAAAAAAAAAAA==",
          "dtype": "f8"
         }
        }
       ],
       "layout": {
        "coloraxis": {
         "colorbar": {
          "len": 0.75,
          "thickness": 15,
          "title": {
           "text": "Total nuclear electricity"
          }
         },
         "colorscale": [
          [
           0,
           "#0d0887"
          ],
          [
           0.1111111111111111,
           "#46039f"
          ],
          [
           0.2222222222222222,
           "#7201a8"
          ],
          [
           0.3333333333333333,
           "#9c179e"
          ],
          [
           0.4444444444444444,
           "#bd3786"
          ],
          [
           0.5555555555555556,
           "#d8576b"
          ],
          [
           0.6666666666666666,
           "#ed7953"
          ],
          [
           0.7777777777777778,
           "#fb9f3a"
          ],
          [
           0.8888888888888888,
           "#fdca26"
          ],
          [
           1,
           "#f0f921"
          ]
         ]
        },
        "geo": {
         "center": {},
         "domain": {
          "x": [
           0,
           1
          ],
          "y": [
           0,
           1
          ]
         },
         "projection": {
          "type": "natural earth"
         },
         "showcoastlines": true,
         "showframe": false
        },
        "legend": {
         "tracegroupgap": 0
        },
        "margin": {
         "b": 0,
         "l": 0,
         "r": 0,
         "t": 40
        },
        "template": {
         "data": {
          "bar": [
           {
            "error_x": {
             "color": "#2a3f5f"
            },
            "error_y": {
             "color": "#2a3f5f"
            },
            "marker": {
             "line": {
              "color": "#E5ECF6",
              "width": 0.5
             },
             "pattern": {
              "fillmode": "overlay",
              "size": 10,
              "solidity": 0.2
             }
            },
            "type": "bar"
           }
          ],
          "barpolar": [
           {
            "marker": {
             "line": {
              "color": "#E5ECF6",
              "width": 0.5
             },
             "pattern": {
              "fillmode": "overlay",
              "size": 10,
              "solidity": 0.2
             }
            },
            "type": "barpolar"
           }
          ],
          "carpet": [
           {
            "aaxis": {
             "endlinecolor": "#2a3f5f",
             "gridcolor": "white",
             "linecolor": "white",
             "minorgridcolor": "white",
             "startlinecolor": "#2a3f5f"
            },
            "baxis": {
             "endlinecolor": "#2a3f5f",
             "gridcolor": "white",
             "linecolor": "white",
             "minorgridcolor": "white",
             "startlinecolor": "#2a3f5f"
            },
            "type": "carpet"
           }
          ],
          "choropleth": [
           {
            "colorbar": {
             "outlinewidth": 0,
             "ticks": ""
            },
            "type": "choropleth"
           }
          ],
          "contour": [
           {
            "colorbar": {
             "outlinewidth": 0,
             "ticks": ""
            },
            "colorscale": [
             [
              0,
              "#0d0887"
             ],
             [
              0.1111111111111111,
              "#46039f"
             ],
             [
              0.2222222222222222,
              "#7201a8"
             ],
             [
              0.3333333333333333,
              "#9c179e"
             ],
             [
              0.4444444444444444,
              "#bd3786"
             ],
             [
              0.5555555555555556,
              "#d8576b"
             ],
             [
              0.6666666666666666,
              "#ed7953"
             ],
             [
              0.7777777777777778,
              "#fb9f3a"
             ],
             [
              0.8888888888888888,
              "#fdca26"
             ],
             [
              1,
              "#f0f921"
             ]
            ],
            "type": "contour"
           }
          ],
          "contourcarpet": [
           {
            "colorbar": {
             "outlinewidth": 0,
             "ticks": ""
            },
            "type": "contourcarpet"
           }
          ],
          "heatmap": [
           {
            "colorbar": {
             "outlinewidth": 0,
             "ticks": ""
            },
            "colorscale": [
             [
              0,
              "#0d0887"
             ],
             [
              0.1111111111111111,
              "#46039f"
             ],
             [
              0.2222222222222222,
              "#7201a8"
             ],
             [
              0.3333333333333333,
              "#9c179e"
             ],
             [
              0.4444444444444444,
              "#bd3786"
             ],
             [
              0.5555555555555556,
              "#d8576b"
             ],
             [
              0.6666666666666666,
              "#ed7953"
             ],
             [
              0.7777777777777778,
              "#fb9f3a"
             ],
             [
              0.8888888888888888,
              "#fdca26"
             ],
             [
              1,
              "#f0f921"
             ]
            ],
            "type": "heatmap"
           }
          ],
          "histogram": [
           {
            "marker": {
             "pattern": {
              "fillmode": "overlay",
              "size": 10,
              "solidity": 0.2
             }
            },
            "type": "histogram"
           }
          ],
          "histogram2d": [
           {
            "colorbar": {
             "outlinewidth": 0,
             "ticks": ""
            },
            "colorscale": [
             [
              0,
              "#0d0887"
             ],
             [
              0.1111111111111111,
              "#46039f"
             ],
             [
              0.2222222222222222,
              "#7201a8"
             ],
             [
              0.3333333333333333,
              "#9c179e"
             ],
             [
              0.4444444444444444,
              "#bd3786"
             ],
             [
              0.5555555555555556,
              "#d8576b"
             ],
             [
              0.6666666666666666,
              "#ed7953"
             ],
             [
              0.7777777777777778,
              "#fb9f3a"
             ],
             [
              0.8888888888888888,
              "#fdca26"
             ],
             [
              1,
              "#f0f921"
             ]
            ],
            "type": "histogram2d"
           }
          ],
          "histogram2dcontour": [
           {
            "colorbar": {
             "outlinewidth": 0,
             "ticks": ""
            },
            "colorscale": [
             [
              0,
              "#0d0887"
             ],
             [
              0.1111111111111111,
              "#46039f"
             ],
             [
              0.2222222222222222,
              "#7201a8"
             ],
             [
              0.3333333333333333,
              "#9c179e"
             ],
             [
              0.4444444444444444,
              "#bd3786"
             ],
             [
              0.5555555555555556,
              "#d8576b"
             ],
             [
              0.6666666666666666,
              "#ed7953"
             ],
             [
              0.7777777777777778,
              "#fb9f3a"
             ],
             [
              0.8888888888888888,
              "#fdca26"
             ],
             [
              1,
              "#f0f921"
             ]
            ],
            "type": "histogram2dcontour"
           }
          ],
          "mesh3d": [
           {
            "colorbar": {
             "outlinewidth": 0,
             "ticks": ""
            },
            "type": "mesh3d"
           }
          ],
          "parcoords": [
           {
            "line": {
             "colorbar": {
              "outlinewidth": 0,
              "ticks": ""
             }
            },
            "type": "parcoords"
           }
          ],
          "pie": [
           {
            "automargin": true,
            "type": "pie"
           }
          ],
          "scatter": [
           {
            "fillpattern": {
             "fillmode": "overlay",
             "size": 10,
             "solidity": 0.2
            },
            "type": "scatter"
           }
          ],
          "scatter3d": [
           {
            "line": {
             "colorbar": {
              "outlinewidth": 0,
              "ticks": ""
             }
            },
            "marker": {
             "colorbar": {
              "outlinewidth": 0,
              "ticks": ""
             }
            },
            "type": "scatter3d"
           }
          ],
          "scattercarpet": [
           {
            "marker": {
             "colorbar": {
              "outlinewidth": 0,
              "ticks": ""
             }
            },
            "type": "scattercarpet"
           }
          ],
          "scattergeo": [
           {
            "marker": {
             "colorbar": {
              "outlinewidth": 0,
              "ticks": ""
             }
            },
            "type": "scattergeo"
           }
          ],
          "scattergl": [
           {
            "marker": {
             "colorbar": {
              "outlinewidth": 0,
              "ticks": ""
             }
            },
            "type": "scattergl"
           }
          ],
          "scattermap": [
           {
            "marker": {
             "colorbar": {
              "outlinewidth": 0,
              "ticks": ""
             }
            },
            "type": "scattermap"
           }
          ],
          "scattermapbox": [
           {
            "marker": {
             "colorbar": {
              "outlinewidth": 0,
              "ticks": ""
             }
            },
            "type": "scattermapbox"
           }
          ],
          "scatterpolar": [
           {
            "marker": {
             "colorbar": {
              "outlinewidth": 0,
              "ticks": ""
             }
            },
            "type": "scatterpolar"
           }
          ],
          "scatterpolargl": [
           {
            "marker": {
             "colorbar": {
              "outlinewidth": 0,
              "ticks": ""
             }
            },
            "type": "scatterpolargl"
           }
          ],
          "scatterternary": [
           {
            "marker": {
             "colorbar": {
              "outlinewidth": 0,
              "ticks": ""
             }
            },
            "type": "scatterternary"
           }
          ],
          "surface": [
           {
            "colorbar": {
             "outlinewidth": 0,
             "ticks": ""
            },
            "colorscale": [
             [
              0,
              "#0d0887"
             ],
             [
              0.1111111111111111,
              "#46039f"
             ],
             [
              0.2222222222222222,
              "#7201a8"
             ],
             [
              0.3333333333333333,
              "#9c179e"
             ],
             [
              0.4444444444444444,
              "#bd3786"
             ],
             [
              0.5555555555555556,
              "#d8576b"
             ],
             [
              0.6666666666666666,
              "#ed7953"
             ],
             [
              0.7777777777777778,
              "#fb9f3a"
             ],
             [
              0.8888888888888888,
              "#fdca26"
             ],
             [
              1,
              "#f0f921"
             ]
            ],
            "type": "surface"
           }
          ],
          "table": [
           {
            "cells": {
             "fill": {
              "color": "#EBF0F8"
             },
             "line": {
              "color": "white"
             }
            },
            "header": {
             "fill": {
              "color": "#C8D4E3"
             },
             "line": {
              "color": "white"
             }
            },
            "type": "table"
           }
          ]
         },
         "layout": {
          "annotationdefaults": {
           "arrowcolor": "#2a3f5f",
           "arrowhead": 0,
           "arrowwidth": 1
          },
          "autotypenumbers": "strict",
          "coloraxis": {
           "colorbar": {
            "outlinewidth": 0,
            "ticks": ""
           }
          },
          "colorscale": {
           "diverging": [
            [
             0,
             "#8e0152"
            ],
            [
             0.1,
             "#c51b7d"
            ],
            [
             0.2,
             "#de77ae"
            ],
            [
             0.3,
             "#f1b6da"
            ],
            [
             0.4,
             "#fde0ef"
            ],
            [
             0.5,
             "#f7f7f7"
            ],
            [
             0.6,
             "#e6f5d0"
            ],
            [
             0.7,
             "#b8e186"
            ],
            [
             0.8,
             "#7fbc41"
            ],
            [
             0.9,
             "#4d9221"
            ],
            [
             1,
             "#276419"
            ]
           ],
           "sequential": [
            [
             0,
             "#0d0887"
            ],
            [
             0.1111111111111111,
             "#46039f"
            ],
            [
             0.2222222222222222,
             "#7201a8"
            ],
            [
             0.3333333333333333,
             "#9c179e"
            ],
            [
             0.4444444444444444,
             "#bd3786"
            ],
            [
             0.5555555555555556,
             "#d8576b"
            ],
            [
             0.6666666666666666,
             "#ed7953"
            ],
            [
             0.7777777777777778,
             "#fb9f3a"
            ],
            [
             0.8888888888888888,
             "#fdca26"
            ],
            [
             1,
             "#f0f921"
            ]
           ],
           "sequentialminus": [
            [
             0,
             "#0d0887"
            ],
            [
             0.1111111111111111,
             "#46039f"
            ],
            [
             0.2222222222222222,
             "#7201a8"
            ],
            [
             0.3333333333333333,
             "#9c179e"
            ],
            [
             0.4444444444444444,
             "#bd3786"
            ],
            [
             0.5555555555555556,
             "#d8576b"
            ],
            [
             0.6666666666666666,
             "#ed7953"
            ],
            [
             0.7777777777777778,
             "#fb9f3a"
            ],
            [
             0.8888888888888888,
             "#fdca26"
            ],
            [
             1,
             "#f0f921"
            ]
           ]
          },
          "colorway": [
           "#636efa",
           "#EF553B",
           "#00cc96",
           "#ab63fa",
           "#FFA15A",
           "#19d3f3",
           "#FF6692",
           "#B6E880",
           "#FF97FF",
           "#FECB52"
          ],
          "font": {
           "color": "#2a3f5f"
          },
          "geo": {
           "bgcolor": "white",
           "lakecolor": "white",
           "landcolor": "#E5ECF6",
           "showlakes": true,
           "showland": true,
           "subunitcolor": "white"
          },
          "hoverlabel": {
           "align": "left"
          },
          "hovermode": "closest",
          "mapbox": {
           "style": "light"
          },
          "paper_bgcolor": "white",
          "plot_bgcolor": "#E5ECF6",
          "polar": {
           "angularaxis": {
            "gridcolor": "white",
            "linecolor": "white",
            "ticks": ""
           },
           "bgcolor": "#E5ECF6",
           "radialaxis": {
            "gridcolor": "white",
            "linecolor": "white",
            "ticks": ""
           }
          },
          "scene": {
           "xaxis": {
            "backgroundcolor": "#E5ECF6",
            "gridcolor": "white",
            "gridwidth": 2,
            "linecolor": "white",
            "showbackground": true,
            "ticks": "",
            "zerolinecolor": "white"
           },
           "yaxis": {
            "backgroundcolor": "#E5ECF6",
            "gridcolor": "white",
            "gridwidth": 2,
            "linecolor": "white",
            "showbackground": true,
            "ticks": "",
            "zerolinecolor": "white"
           },
           "zaxis": {
            "backgroundcolor": "#E5ECF6",
            "gridcolor": "white",
            "gridwidth": 2,
            "linecolor": "white",
            "showbackground": true,
            "ticks": "",
            "zerolinecolor": "white"
           }
          },
          "shapedefaults": {
           "line": {
            "color": "#2a3f5f"
           }
          },
          "ternary": {
           "aaxis": {
            "gridcolor": "white",
            "linecolor": "white",
            "ticks": ""
           },
           "baxis": {
            "gridcolor": "white",
            "linecolor": "white",
            "ticks": ""
           },
           "bgcolor": "#E5ECF6",
           "caxis": {
            "gridcolor": "white",
            "linecolor": "white",
            "ticks": ""
           }
          },
          "title": {
           "x": 0.05
          },
          "xaxis": {
           "automargin": true,
           "gridcolor": "white",
           "linecolor": "white",
           "ticks": "",
           "title": {
            "standoff": 15
           },
           "zerolinecolor": "white",
           "zerolinewidth": 2
          },
          "yaxis": {
           "automargin": true,
           "gridcolor": "white",
           "linecolor": "white",
           "ticks": "",
           "title": {
            "standoff": 15
           },
           "zerolinecolor": "white",
           "zerolinewidth": 2
          }
         }
        },
        "title": {
         "text": "Total nuclear electricity - Interactive Visualization"
        }
       }
      }
     },
     "metadata": {},
     "output_type": "display_data"
    }
   ],
   "source": [
    "\n",
    "df = pd.read_csv('nuclear_data/global-data-on-sustainable-energy (1).csv')\n",
    "aggregated_df['Total_Nuclear_Electricity'] = aggregated_df['Total_Nuclear_Electricity']\n",
    "\n",
    "\n",
    "fig = px.choropleth(aggregated_df,\n",
    "                    locations=\"Entity\",\n",
    "                    locationmode=\"country names\",\n",
    "                    color=\"Total_Nuclear_Electricity\",\n",
    "                    hover_name=\"Entity\",\n",
    "                    color_continuous_scale=px.colors.sequential.Plasma,\n",
    "                    title=\"Total nuclear electricity - Interactive Visualization\",\n",
    "                    labels={'Total nuclear electricity':'Total nuclear electricity'})\n",
    "\n",
    "fig.update_layout(\n",
    "    margin={\"r\": 0, \"t\": 40, \"l\": 0, \"b\": 0},\n",
    "    geo=dict(\n",
    "        showframe=False,\n",
    "        showcoastlines=True,\n",
    "        projection_type='natural earth'\n",
    "    ),\n",
    "    coloraxis_colorbar=dict(\n",
    "        title=\"Total nuclear electricity\",\n",
    "        thickness=15,\n",
    "        len=0.75\n",
    "    )\n",
    ")\n",
    "\n",
    "fig.update_traces(\n",
    "    marker_line_width=0.5,\n",
    "    marker_line_color='white',\n",
    "    selector=dict(type='choropleth')\n",
    ")\n",
    "\n",
    "fig.show()"
   ]
  },
  {
   "cell_type": "markdown",
   "id": "c2d50146",
   "metadata": {},
   "source": [
    "Global Energy Consumption by Source (1973-2022)\n",
    "This stacked area chart visualizes global energy consumption trends (1973-2022), showing the yearly breakdown between fossil fuels (red), nuclear (blue), and renewables (green). The dotted black line tracks total primary energy consumption, allowing comparison between individual sources and overall demand. Hovering reveals exact values, highlighting how fossil fuels dominate but renewables are gradually growing over time."
   ]
  },
  {
   "cell_type": "code",
   "execution_count": 7,
   "id": "7017f73d",
   "metadata": {},
   "outputs": [
    {
     "data": {
      "application/vnd.plotly.v1+json": {
       "config": {
        "plotlyServerURL": "https://plot.ly"
       },
       "data": [
        {
         "fillpattern": {
          "shape": ""
         },
         "hovertemplate": "<b>%{fullData.name}</b><br>Year: %{x}<br>Consumption: %{y:,.1f} quadrillion BTU<br><extra></extra>",
         "legendgroup": "Total Fossil Fuels Consumption",
         "line": {
          "color": "#E45756"
         },
         "marker": {
          "symbol": "circle"
         },
         "mode": "lines",
         "name": "Total Fossil Fuels Consumption",
         "orientation": "v",
         "showlegend": true,
         "stackgroup": "1",
         "type": "scatter",
         "x": {
          "bdata": "tQcAALYHAAC3BwAAuAcAALkHAAC6BwAAuwcAALwHAAC9BwAAvgcAAL8HAADABwAAwQcAAMIHAADDBwAAxAcAAMUHAADGBwAAxwcAAMgHAADJBwAAygcAAMsHAADMBwAAzQcAAM4HAADPBwAA0AcAANEHAADSBwAA0wcAANQHAADVBwAA1gcAANcHAADYBwAA2QcAANoHAADbBwAA3AcAAN0HAADeBwAA3wcAAOAHAADhBwAA4gcAAOMHAADkBwAA5QcAAOYHAAA=",
          "dtype": "i4"
         },
         "xaxis": "x",
         "y": {
          "bdata": "2/gTlQ2SUUDABG7dzfdQQDmX4qqyVFBA2EroLolEUUD03a0s0bxRQM3mcRjM81FAxoZu9gc2UkBz1TxH5HFRQKSMuAA04VBAnFQ01v7qT0DGbp9VZoxPQHlcVIuInFBA/l915EiCUECskV1pGX9QQBFwCFVqHlFAWYrkK4HgUUBHAg02dTdSQJKTiVsFElJA4jsx68X0UUCZ8Ev9vFVSQLt/LESHq1JAKpFEL6MJU0DEPZY+dEpTQL4xBADH7FNA9gfKbfsxVEB+GYwRiVFUQKgd/pqslFRAP47myMonVUBZpfRML7NUQAe3tYXn5VRAoYUEjC76VECsVbsmpGpVQBlTsMbZZ1VA3e16aYoeVUAJUb6ghXNVQNy8cVKYwlRAVyO70jJ3U0BljXqIRi5UQE93nnjO0FNAMA4uHXNTU0CuD+uNWs5TQKMBvAUSAVRAQRAgQ8fFU0DVPbK5apRTQGprRDAOelNA+gs9YvRRVEC6L2e2KxtUQFEzpIriRFJA0PHR4oxbU0CjsfZ3tvVRQA==",
          "dtype": "f8"
         },
         "yaxis": "y"
        },
        {
         "fillpattern": {
          "shape": ""
         },
         "hovertemplate": "<b>%{fullData.name}</b><br>Year: %{x}<br>Consumption: %{y:,.1f} quadrillion BTU<br><extra></extra>",
         "legendgroup": "Nuclear Electric Power Consumption",
         "line": {
          "color": "#4C78A8"
         },
         "marker": {
          "symbol": "circle"
         },
         "mode": "lines",
         "name": "Nuclear Electric Power Consumption",
         "orientation": "v",
         "showlegend": true,
         "stackgroup": "1",
         "type": "scatter",
         "x": {
          "bdata": "tQcAALYHAAC3BwAAuAcAALkHAAC6BwAAuwcAALwHAAC9BwAAvgcAAL8HAADABwAAwQcAAMIHAADDBwAAxAcAAMUHAADGBwAAxwcAAMgHAADJBwAAygcAAMsHAADMBwAAzQcAAM4HAADPBwAA0AcAANEHAADSBwAA0wcAANQHAADVBwAA1gcAANcHAADYBwAA2QcAANoHAADbBwAA3AcAAN0HAADeBwAA3wcAAOAHAADhBwAA4gcAAOMHAADkBwAA5QcAAOYHAAA=",
          "dtype": "i4"
         },
         "xaxis": "x",
         "y": {
          "bdata": "7zzxnC0g7T/iPJzAdFr0P2KfAIqRZf4/u7a3W5LjAEDBV3TrNZ0FQMUgsHJoMQhAixcLQ+Q0BkB3vMlv0ekFQJqw/WSMDwhAjjnP2JcMCUA2s5YC0p4JQJw1eF+VawxAjSYXY2BNEEA7qS9LO4URQKmhDcAGBBNALlOT4A1ZFkBi1ouhnGgWQDF72XbaahhAYB4y5UOwGUCdDmQ9teoZQCtLdJZZpBlAT8k5sYfGGkAh5SfVPk0cQPCFyVTBWBxAAOXv3lFjGkB5PC0/cEUcQEMDsWzmcB5Aj48WZwxzH0BxyAbSxQ4gQGvY74l1SiBApBZKJqfWH0BXzAhvD3IgQJOsw9FVUiBAXK0Tl+NtIEDZeoZwzOogQOIC0Chd2iBAL8VVZd+1IEB6ihwibt4gQJHvUuqSiSBAe2mKAKcfIEAWMewwJn0gQOHwgojUrCBA5PVgUnysIECV8IRef9ogQBwkRPmC1iBAJ9nqckrgIECvQzUlWecgQHbAdcWMgCBAPsqIC0A7IEBwBn+/mE0dQA==",
          "dtype": "f8"
         },
         "yaxis": "y"
        },
        {
         "fillpattern": {
          "shape": ""
         },
         "hovertemplate": "<b>%{fullData.name}</b><br>Year: %{x}<br>Consumption: %{y:,.1f} quadrillion BTU<br><extra></extra>",
         "legendgroup": "Total Renewable Energy Consumption",
         "line": {
          "color": "#54A24B"
         },
         "marker": {
          "symbol": "circle"
         },
         "mode": "lines",
         "name": "Total Renewable Energy Consumption",
         "orientation": "v",
         "showlegend": true,
         "stackgroup": "1",
         "type": "scatter",
         "x": {
          "bdata": "tQcAALYHAAC3BwAAuAcAALkHAAC6BwAAuwcAALwHAAC9BwAAvgcAAL8HAADABwAAwQcAAMIHAADDBwAAxAcAAMUHAADGBwAAxwcAAMgHAADJBwAAygcAAMsHAADMBwAAzQcAAM4HAADPBwAA0AcAANEHAADSBwAA0wcAANQHAADVBwAA1gcAANcHAADYBwAA2QcAANoHAADbBwAA3AcAAN0HAADeBwAA3wcAAOAHAADhBwAA4gcAAOMHAADkBwAA5QcAAOYHAAA=",
          "dtype": "i4"
         },
         "xaxis": "x",
         "y": {
          "bdata": "i90+q8ykEUCG4/kMqPcSQEuUvaWcvxJARiV1AproEkDfxftx+9UQQOs6VFOSBRRALLtgcM19FEBPAwZJn7YVQJj9utOdpxVAZM4z9iXrF0DJ42n5gfsZQAWlaOVewBlAZ341BwhWGEAUX+0oznEYQAyyZfm6fBZAzEQRUrfTFUBVwaikTvAYQCO8PQgBKRhA6+Oh725FGEA2I4PcRUgXQMCQ1a2eUxhAjxt+N93yF0AWZqGd0zwaQAyyZfm6DBxARx/zAYEOHEBgeZCeIvcZQDy9UpYhDhpAmIv4TsxqGEAb8s8M4qMUQEIHXcKh5xZAmUo/4ezGF0AibHh6pUwYQH6LTpZa7xhAzuSbbW6MGkBevYqMDhgaQAUWwJSBsxxA9fQR+MNvHkCPVN/5RYkgQDKQZ5dvbSJA44i1+BS4IUAkRs8tdO0iQENYjSWshSNAbynni71/I0DylNV0PdEkQBkfZi/bRiZAfAxWnGq9JkAMI72o3e8mQEK2LF+XCSdAnwWhvI9TKEAa3qzB+xooQA==",
          "dtype": "f8"
         },
         "yaxis": "y"
        },
        {
         "hovertemplate": "<b>Total Consumption</b><br>Year: %{x}<br>Total: %{y:,.1f} quadrillion BTU<br><extra></extra>",
         "line": {
          "color": "black",
          "dash": "dot",
          "width": 2
         },
         "name": "Total Consumption",
         "type": "scatter",
         "x": {
          "bdata": "tQcAALYHAAC3BwAAuAcAALkHAAC6BwAAuwcAALwHAAC9BwAAvgcAAL8HAADABwAAwQcAAMIHAADDBwAAxAcAAMUHAADGBwAAxwcAAMgHAADJBwAAygcAAMsHAADMBwAAzQcAAM4HAADPBwAA0AcAANEHAADSBwAA0wcAANQHAADVBwAA1gcAANcHAADYBwAA2QcAANoHAADbBwAA3AcAAN0HAADeBwAA3wcAAOAHAADhBwAA4gcAAOMHAADkBwAA5QcAAOYHAAA=",
          "dtype": "i4"
         },
         "y": {
          "bdata": "3Xu45LjpUkDDu1zEd3tSQAmlL4Sc+1FAzuLFwhD8UkCVKeYg6HpTQPpCyHn/+VNAtOTxtPwzVECJQzaQLoFTQC47xD9sA1NAE9OFWP1CUkCasz7lmDpSQJC7CFOUJFNAkZighm8VU0BpNo/DYCZTQN4+q8yUwFNAYwgAjj2qVEDo3O16aS9VQNEEiljEG1VA0IB6M2oYVUCwAny3eW5VQCiZnNoZ0VVA26fjMQM/VkAWpBmLprtWQCvbh7zle1dA2GSNeoigV0B1q+ek97pXQB9KtOTxIlhALGaEtwetWEDpRe1+FQRYQBgkfVpFYlhAgEdUqG51WEADXmbYKABZQED6Jk2DBllAo81xbhPZWEB7+Z0mMzlZQKClK9hGsFhATgeynlp8V0C45SMp6WBYQMVZETXRN1hAjlw3pbyYV0Ch9ls7UUhYQLgf8MAAk1hAsvFgi91ZWEC/Y3jsZ1hYQKm7sgsGalhAe7slOWBPWUC9iSE5mR5ZQKndrwJ8QFdAGsQHdvx1WEDPMLWlDtZWQA==",
          "dtype": "f8"
         }
        }
       ],
       "layout": {
        "hovermode": "x unified",
        "legend": {
         "orientation": "h",
         "title": {
          "text": "Energy Source"
         },
         "tracegroupgap": 0,
         "x": 1,
         "xanchor": "right",
         "y": 1.02,
         "yanchor": "bottom"
        },
        "template": {
         "data": {
          "bar": [
           {
            "error_x": {
             "color": "#2a3f5f"
            },
            "error_y": {
             "color": "#2a3f5f"
            },
            "marker": {
             "line": {
              "color": "#E5ECF6",
              "width": 0.5
             },
             "pattern": {
              "fillmode": "overlay",
              "size": 10,
              "solidity": 0.2
             }
            },
            "type": "bar"
           }
          ],
          "barpolar": [
           {
            "marker": {
             "line": {
              "color": "#E5ECF6",
              "width": 0.5
             },
             "pattern": {
              "fillmode": "overlay",
              "size": 10,
              "solidity": 0.2
             }
            },
            "type": "barpolar"
           }
          ],
          "carpet": [
           {
            "aaxis": {
             "endlinecolor": "#2a3f5f",
             "gridcolor": "white",
             "linecolor": "white",
             "minorgridcolor": "white",
             "startlinecolor": "#2a3f5f"
            },
            "baxis": {
             "endlinecolor": "#2a3f5f",
             "gridcolor": "white",
             "linecolor": "white",
             "minorgridcolor": "white",
             "startlinecolor": "#2a3f5f"
            },
            "type": "carpet"
           }
          ],
          "choropleth": [
           {
            "colorbar": {
             "outlinewidth": 0,
             "ticks": ""
            },
            "type": "choropleth"
           }
          ],
          "contour": [
           {
            "colorbar": {
             "outlinewidth": 0,
             "ticks": ""
            },
            "colorscale": [
             [
              0,
              "#0d0887"
             ],
             [
              0.1111111111111111,
              "#46039f"
             ],
             [
              0.2222222222222222,
              "#7201a8"
             ],
             [
              0.3333333333333333,
              "#9c179e"
             ],
             [
              0.4444444444444444,
              "#bd3786"
             ],
             [
              0.5555555555555556,
              "#d8576b"
             ],
             [
              0.6666666666666666,
              "#ed7953"
             ],
             [
              0.7777777777777778,
              "#fb9f3a"
             ],
             [
              0.8888888888888888,
              "#fdca26"
             ],
             [
              1,
              "#f0f921"
             ]
            ],
            "type": "contour"
           }
          ],
          "contourcarpet": [
           {
            "colorbar": {
             "outlinewidth": 0,
             "ticks": ""
            },
            "type": "contourcarpet"
           }
          ],
          "heatmap": [
           {
            "colorbar": {
             "outlinewidth": 0,
             "ticks": ""
            },
            "colorscale": [
             [
              0,
              "#0d0887"
             ],
             [
              0.1111111111111111,
              "#46039f"
             ],
             [
              0.2222222222222222,
              "#7201a8"
             ],
             [
              0.3333333333333333,
              "#9c179e"
             ],
             [
              0.4444444444444444,
              "#bd3786"
             ],
             [
              0.5555555555555556,
              "#d8576b"
             ],
             [
              0.6666666666666666,
              "#ed7953"
             ],
             [
              0.7777777777777778,
              "#fb9f3a"
             ],
             [
              0.8888888888888888,
              "#fdca26"
             ],
             [
              1,
              "#f0f921"
             ]
            ],
            "type": "heatmap"
           }
          ],
          "histogram": [
           {
            "marker": {
             "pattern": {
              "fillmode": "overlay",
              "size": 10,
              "solidity": 0.2
             }
            },
            "type": "histogram"
           }
          ],
          "histogram2d": [
           {
            "colorbar": {
             "outlinewidth": 0,
             "ticks": ""
            },
            "colorscale": [
             [
              0,
              "#0d0887"
             ],
             [
              0.1111111111111111,
              "#46039f"
             ],
             [
              0.2222222222222222,
              "#7201a8"
             ],
             [
              0.3333333333333333,
              "#9c179e"
             ],
             [
              0.4444444444444444,
              "#bd3786"
             ],
             [
              0.5555555555555556,
              "#d8576b"
             ],
             [
              0.6666666666666666,
              "#ed7953"
             ],
             [
              0.7777777777777778,
              "#fb9f3a"
             ],
             [
              0.8888888888888888,
              "#fdca26"
             ],
             [
              1,
              "#f0f921"
             ]
            ],
            "type": "histogram2d"
           }
          ],
          "histogram2dcontour": [
           {
            "colorbar": {
             "outlinewidth": 0,
             "ticks": ""
            },
            "colorscale": [
             [
              0,
              "#0d0887"
             ],
             [
              0.1111111111111111,
              "#46039f"
             ],
             [
              0.2222222222222222,
              "#7201a8"
             ],
             [
              0.3333333333333333,
              "#9c179e"
             ],
             [
              0.4444444444444444,
              "#bd3786"
             ],
             [
              0.5555555555555556,
              "#d8576b"
             ],
             [
              0.6666666666666666,
              "#ed7953"
             ],
             [
              0.7777777777777778,
              "#fb9f3a"
             ],
             [
              0.8888888888888888,
              "#fdca26"
             ],
             [
              1,
              "#f0f921"
             ]
            ],
            "type": "histogram2dcontour"
           }
          ],
          "mesh3d": [
           {
            "colorbar": {
             "outlinewidth": 0,
             "ticks": ""
            },
            "type": "mesh3d"
           }
          ],
          "parcoords": [
           {
            "line": {
             "colorbar": {
              "outlinewidth": 0,
              "ticks": ""
             }
            },
            "type": "parcoords"
           }
          ],
          "pie": [
           {
            "automargin": true,
            "type": "pie"
           }
          ],
          "scatter": [
           {
            "fillpattern": {
             "fillmode": "overlay",
             "size": 10,
             "solidity": 0.2
            },
            "type": "scatter"
           }
          ],
          "scatter3d": [
           {
            "line": {
             "colorbar": {
              "outlinewidth": 0,
              "ticks": ""
             }
            },
            "marker": {
             "colorbar": {
              "outlinewidth": 0,
              "ticks": ""
             }
            },
            "type": "scatter3d"
           }
          ],
          "scattercarpet": [
           {
            "marker": {
             "colorbar": {
              "outlinewidth": 0,
              "ticks": ""
             }
            },
            "type": "scattercarpet"
           }
          ],
          "scattergeo": [
           {
            "marker": {
             "colorbar": {
              "outlinewidth": 0,
              "ticks": ""
             }
            },
            "type": "scattergeo"
           }
          ],
          "scattergl": [
           {
            "marker": {
             "colorbar": {
              "outlinewidth": 0,
              "ticks": ""
             }
            },
            "type": "scattergl"
           }
          ],
          "scattermap": [
           {
            "marker": {
             "colorbar": {
              "outlinewidth": 0,
              "ticks": ""
             }
            },
            "type": "scattermap"
           }
          ],
          "scattermapbox": [
           {
            "marker": {
             "colorbar": {
              "outlinewidth": 0,
              "ticks": ""
             }
            },
            "type": "scattermapbox"
           }
          ],
          "scatterpolar": [
           {
            "marker": {
             "colorbar": {
              "outlinewidth": 0,
              "ticks": ""
             }
            },
            "type": "scatterpolar"
           }
          ],
          "scatterpolargl": [
           {
            "marker": {
             "colorbar": {
              "outlinewidth": 0,
              "ticks": ""
             }
            },
            "type": "scatterpolargl"
           }
          ],
          "scatterternary": [
           {
            "marker": {
             "colorbar": {
              "outlinewidth": 0,
              "ticks": ""
             }
            },
            "type": "scatterternary"
           }
          ],
          "surface": [
           {
            "colorbar": {
             "outlinewidth": 0,
             "ticks": ""
            },
            "colorscale": [
             [
              0,
              "#0d0887"
             ],
             [
              0.1111111111111111,
              "#46039f"
             ],
             [
              0.2222222222222222,
              "#7201a8"
             ],
             [
              0.3333333333333333,
              "#9c179e"
             ],
             [
              0.4444444444444444,
              "#bd3786"
             ],
             [
              0.5555555555555556,
              "#d8576b"
             ],
             [
              0.6666666666666666,
              "#ed7953"
             ],
             [
              0.7777777777777778,
              "#fb9f3a"
             ],
             [
              0.8888888888888888,
              "#fdca26"
             ],
             [
              1,
              "#f0f921"
             ]
            ],
            "type": "surface"
           }
          ],
          "table": [
           {
            "cells": {
             "fill": {
              "color": "#EBF0F8"
             },
             "line": {
              "color": "white"
             }
            },
            "header": {
             "fill": {
              "color": "#C8D4E3"
             },
             "line": {
              "color": "white"
             }
            },
            "type": "table"
           }
          ]
         },
         "layout": {
          "annotationdefaults": {
           "arrowcolor": "#2a3f5f",
           "arrowhead": 0,
           "arrowwidth": 1
          },
          "autotypenumbers": "strict",
          "coloraxis": {
           "colorbar": {
            "outlinewidth": 0,
            "ticks": ""
           }
          },
          "colorscale": {
           "diverging": [
            [
             0,
             "#8e0152"
            ],
            [
             0.1,
             "#c51b7d"
            ],
            [
             0.2,
             "#de77ae"
            ],
            [
             0.3,
             "#f1b6da"
            ],
            [
             0.4,
             "#fde0ef"
            ],
            [
             0.5,
             "#f7f7f7"
            ],
            [
             0.6,
             "#e6f5d0"
            ],
            [
             0.7,
             "#b8e186"
            ],
            [
             0.8,
             "#7fbc41"
            ],
            [
             0.9,
             "#4d9221"
            ],
            [
             1,
             "#276419"
            ]
           ],
           "sequential": [
            [
             0,
             "#0d0887"
            ],
            [
             0.1111111111111111,
             "#46039f"
            ],
            [
             0.2222222222222222,
             "#7201a8"
            ],
            [
             0.3333333333333333,
             "#9c179e"
            ],
            [
             0.4444444444444444,
             "#bd3786"
            ],
            [
             0.5555555555555556,
             "#d8576b"
            ],
            [
             0.6666666666666666,
             "#ed7953"
            ],
            [
             0.7777777777777778,
             "#fb9f3a"
            ],
            [
             0.8888888888888888,
             "#fdca26"
            ],
            [
             1,
             "#f0f921"
            ]
           ],
           "sequentialminus": [
            [
             0,
             "#0d0887"
            ],
            [
             0.1111111111111111,
             "#46039f"
            ],
            [
             0.2222222222222222,
             "#7201a8"
            ],
            [
             0.3333333333333333,
             "#9c179e"
            ],
            [
             0.4444444444444444,
             "#bd3786"
            ],
            [
             0.5555555555555556,
             "#d8576b"
            ],
            [
             0.6666666666666666,
             "#ed7953"
            ],
            [
             0.7777777777777778,
             "#fb9f3a"
            ],
            [
             0.8888888888888888,
             "#fdca26"
            ],
            [
             1,
             "#f0f921"
            ]
           ]
          },
          "colorway": [
           "#636efa",
           "#EF553B",
           "#00cc96",
           "#ab63fa",
           "#FFA15A",
           "#19d3f3",
           "#FF6692",
           "#B6E880",
           "#FF97FF",
           "#FECB52"
          ],
          "font": {
           "color": "#2a3f5f"
          },
          "geo": {
           "bgcolor": "white",
           "lakecolor": "white",
           "landcolor": "#E5ECF6",
           "showlakes": true,
           "showland": true,
           "subunitcolor": "white"
          },
          "hoverlabel": {
           "align": "left"
          },
          "hovermode": "closest",
          "mapbox": {
           "style": "light"
          },
          "paper_bgcolor": "white",
          "plot_bgcolor": "#E5ECF6",
          "polar": {
           "angularaxis": {
            "gridcolor": "white",
            "linecolor": "white",
            "ticks": ""
           },
           "bgcolor": "#E5ECF6",
           "radialaxis": {
            "gridcolor": "white",
            "linecolor": "white",
            "ticks": ""
           }
          },
          "scene": {
           "xaxis": {
            "backgroundcolor": "#E5ECF6",
            "gridcolor": "white",
            "gridwidth": 2,
            "linecolor": "white",
            "showbackground": true,
            "ticks": "",
            "zerolinecolor": "white"
           },
           "yaxis": {
            "backgroundcolor": "#E5ECF6",
            "gridcolor": "white",
            "gridwidth": 2,
            "linecolor": "white",
            "showbackground": true,
            "ticks": "",
            "zerolinecolor": "white"
           },
           "zaxis": {
            "backgroundcolor": "#E5ECF6",
            "gridcolor": "white",
            "gridwidth": 2,
            "linecolor": "white",
            "showbackground": true,
            "ticks": "",
            "zerolinecolor": "white"
           }
          },
          "shapedefaults": {
           "line": {
            "color": "#2a3f5f"
           }
          },
          "ternary": {
           "aaxis": {
            "gridcolor": "white",
            "linecolor": "white",
            "ticks": ""
           },
           "baxis": {
            "gridcolor": "white",
            "linecolor": "white",
            "ticks": ""
           },
           "bgcolor": "#E5ECF6",
           "caxis": {
            "gridcolor": "white",
            "linecolor": "white",
            "ticks": ""
           }
          },
          "title": {
           "x": 0.05
          },
          "xaxis": {
           "automargin": true,
           "gridcolor": "white",
           "linecolor": "white",
           "ticks": "",
           "title": {
            "standoff": 15
           },
           "zerolinecolor": "white",
           "zerolinewidth": 2
          },
          "yaxis": {
           "automargin": true,
           "gridcolor": "white",
           "linecolor": "white",
           "ticks": "",
           "title": {
            "standoff": 15
           },
           "zerolinecolor": "white",
           "zerolinewidth": 2
          }
         }
        },
        "title": {
         "text": "Global Energy Consumption by Source (1973-2022)"
        },
        "xaxis": {
         "anchor": "y",
         "domain": [
          0,
          1
         ],
         "title": {
          "text": "Year"
         }
        },
        "yaxis": {
         "anchor": "x",
         "domain": [
          0,
          1
         ],
         "title": {
          "text": "Energy Consumption (quadrillion BTU)"
         }
        }
       }
      }
     },
     "metadata": {},
     "output_type": "display_data"
    }
   ],
   "source": [
    "\n",
    "df = pd.read_csv('nuclear_data/World Energy Overview.csv')\n",
    "\n",
    "df['Date'] = pd.to_datetime(df['Date'])\n",
    "df['Year'] = df['Date'].dt.year\n",
    "\n",
    "yearly_df = df.groupby('Year').agg({\n",
    "    'Total Fossil Fuels Consumption': 'sum',\n",
    "    'Nuclear Electric Power Consumption': 'sum',\n",
    "    'Total Renewable Energy Consumption': 'sum',\n",
    "    'Total Primary Energy Consumption': 'sum'\n",
    "}).reset_index()\n",
    "\n",
    "fig = px.area(\n",
    "    yearly_df,\n",
    "    x='Year',\n",
    "    y=['Total Fossil Fuels Consumption', 'Nuclear Electric Power Consumption', 'Total Renewable Energy Consumption'],\n",
    "    title='Global Energy Consumption by Source (1973-2022)',\n",
    "    labels={\n",
    "        'value': 'Energy Consumption (quadrillion BTU)',\n",
    "        'Year': 'Year',\n",
    "        'variable': 'Energy Source'\n",
    "    },\n",
    "    color_discrete_map={\n",
    "        'Total Fossil Fuels Consumption': '#E45756',\n",
    "        'Nuclear Electric Power Consumption': '#4C78A8',\n",
    "        'Total Renewable Energy Consumption': '#54A24B'\n",
    "    }\n",
    ")\n",
    "\n",
    "fig.update_layout(\n",
    "    hovermode='x unified',\n",
    "    yaxis=dict(title='Energy Consumption (quadrillion BTU)'),\n",
    "    legend=dict(\n",
    "        title='Energy Source',\n",
    "        orientation='h',\n",
    "        yanchor='bottom',\n",
    "        y=1.02,\n",
    "        xanchor='right',\n",
    "        x=1\n",
    "    )\n",
    ")\n",
    "\n",
    "fig.update_traces(\n",
    "    hovertemplate='<b>%{fullData.name}</b><br>' +\n",
    "                  'Year: %{x}<br>' +\n",
    "                  'Consumption: %{y:,.1f} quadrillion BTU<br>' +\n",
    "                  '<extra></extra>'\n",
    ")\n",
    "\n",
    "fig.add_scatter(\n",
    "    x=yearly_df['Year'],\n",
    "    y=yearly_df['Total Primary Energy Consumption'],\n",
    "    name='Total Consumption',\n",
    "    line=dict(color='black', width=2, dash='dot'),\n",
    "    hovertemplate='<b>Total Consumption</b><br>' +\n",
    "                  'Year: %{x}<br>' +\n",
    "                  'Total: %{y:,.1f} quadrillion BTU<br>' +\n",
    "                  '<extra></extra>'\n",
    ")\n",
    "\n",
    "fig.show()"
   ]
  },
  {
   "cell_type": "markdown",
   "id": "4088f663",
   "metadata": {},
   "source": [
    "## Nuclear incidents worldwide\n",
    "\n",
    "This section focuses on nuclear incidents worldwide. This ties into perspective 2.\n",
    "\n",
    "Nuclear Incidents Worldwide\n",
    "This map displays global nuclear incidents, with each red marker representing a specific event (e.g., accidents, leaks, or disasters). Hovering over a marker reveals details like the incident name, location, date, casualties, and INES severity level. The visualization helps identify high-risk areas and compare the scale of different nuclear incidents worldwide."
   ]
  },
  {
   "cell_type": "code",
   "execution_count": 8,
   "id": "2a623589",
   "metadata": {},
   "outputs": [
    {
     "data": {
      "application/vnd.plotly.v1+json": {
       "config": {
        "plotlyServerURL": "https://plot.ly"
       },
       "data": [
        {
         "customdata": [
          [
           "<b>Incident:</b> Kyshtym disaster<br><b>Location:</b> Mayak, Kyshtym, Soviet Union<br><b>Date:</b> 29/09/1957<br><b>Direct Deaths:</b> Unknown<br><b>Indirect Deaths:</b> 200<br><b>Category:</b> Storage/Handling<br><b>INES Level:</b> 6.0<br><b>Latitude:</b> 55.7131<br><b>Longitude:</b> 60.8526",
           55.7131,
           60.8526
          ],
          [
           "<b>Incident:</b> Windscale fire<br><b>Location:</b> Sellafield, Cumberland, United Kingdom<br><b>Date:</b> 10/10/1957<br><b>Direct Deaths:</b> 0.0<br><b>Indirect Deaths:</b> 240<br><b>Category:</b> Operational/Safety Measures<br><b>INES Level:</b> 5.0<br><b>Latitude:</b> 54.4167<br><b>Longitude:</b> -3.4833",
           54.4167,
           -3.4833
          ],
          [
           "<b>Incident:</b> SL-1 prototype explosion<br><b>Location:</b> Idaho Falls, Idaho, United States<br><b>Date:</b> 03/01/1961<br><b>Direct Deaths:</b> 3.0<br><b>Indirect Deaths:</b> Unknown<br><b>Category:</b> Operator Error<br><b>INES Level:</b> 4.0<br><b>Latitude:</b> 43.492<br><b>Longitude:</b> -112.0401",
           43.492,
           -112.0401
          ],
          [
           "<b>Incident:</b> Fermi 1 Reactor meltdown<br><b>Location:</b> Frenchtown Charter Township, Michigan, United States<br><b>Date:</b> 05/10/1966<br><b>Direct Deaths:</b> 0.0<br><b>Indirect Deaths:</b> Unknown<br><b>Category:</b> Technical Flaws<br><b>INES Level:</b> 4.0<br><b>Latitude:</b> 41.9562<br><b>Longitude:</b> -83.6639",
           41.9562,
           -83.6639
          ],
          [
           "<b>Incident:</b> Loss-of-Coolant Accident (January 21, 1969)<br><b>Location:</b> Lucens reactor, Vaud, Switzerland<br><b>Date:</b> 21/01/1969<br><b>Direct Deaths:</b> 0.0<br><b>Indirect Deaths:</b> Unknown<br><b>Category:</b> Operator Error<br><b>INES Level:</b> 4.0<br><b>Latitude:</b> 46.6772<br><b>Longitude:</b> 6.875",
           46.6772,
           6.875
          ],
          [
           "<b>Incident:</b> Greifswald Nuclear Power Plant fire<br><b>Location:</b> Greifswald, East Germany<br><b>Date:</b> 07/12/1975<br><b>Direct Deaths:</b> 0.0<br><b>Indirect Deaths:</b> Unknown<br><b>Category:</b> Electrical Error<br><b>INES Level:</b> 3.0<br><b>Latitude:</b> 54.0833<br><b>Longitude:</b> 13.3833",
           54.0833,
           13.3833
          ],
          [
           "<b>Incident:</b> Fuel Rod Ejection during Fuel Replacement<br><b>Location:</b> Jaslovské Bohunice, Czechoslovakia<br><b>Date:</b> 05/01/1976<br><b>Direct Deaths:</b> 2.0<br><b>Indirect Deaths:</b> Unknown<br><b>Category:</b> Operator Error<br><b>INES Level:</b> 4.0<br><b>Latitude:</b> 48.452<br><b>Longitude:</b> 17.8197",
           48.452,
           17.8197
          ],
          [
           "<b>Incident:</b> Partial Core Meltdown (Operator Errors)<br><b>Location:</b> Three Mile Island, Pennsylvania, United States<br><b>Date:</b> 28/03/1979<br><b>Direct Deaths:</b> 0.0<br><b>Indirect Deaths:</b> Unknown<br><b>Category:</b> Operator/Technical Flaws<br><b>INES Level:</b> 5.0<br><b>Latitude:</b> 40.1575<br><b>Longitude:</b> -76.7022",
           40.1575,
           -76.7022
          ],
          [
           "<b>Incident:</b> Browns Ferry Unit 2 Outage (Six-Year<br><b>Location:</b> Athens, Alabama, United States<br><b>Date:</b> 15/09/1984<br><b>Direct Deaths:</b> 0.0<br><b>Indirect Deaths:</b> Unknown<br><b>Category:</b> Safety Violations/Design Problems<br><b>INES Level:</b> Unknown<br><b>Latitude:</b> 34.8029<br><b>Longitude:</b> -86.9717",
           34.8029,
           -86.9717
          ],
          [
           "<b>Incident:</b> Browns Ferry Units Startup Malfunction<br><b>Location:</b> Athens, Alabama, United States<br><b>Date:</b> 09/03/1985<br><b>Direct Deaths:</b> 0.0<br><b>Indirect Deaths:</b> Unknown<br><b>Category:</b> Instrumentation Malfunction<br><b>INES Level:</b> Unknown<br><b>Latitude:</b> 34.8029<br><b>Longitude:</b> -86.9717",
           34.8029,
           -86.9717
          ],
          [
           "<b>Incident:</b> Pilgrim Nuclear Power Plant Emergency Shutdown<br><b>Location:</b> Plymouth, Massachusetts, United States<br><b>Date:</b> 11/04/1986<br><b>Direct Deaths:</b> 0.0<br><b>Indirect Deaths:</b> Unknown<br><b>Category:</b> Equipment Problems<br><b>INES Level:</b> Unknown<br><b>Latitude:</b> 41.9584<br><b>Longitude:</b> -70.6673",
           41.9584,
           -70.6673
          ],
          [
           "<b>Incident:</b> Chernobyl disaster<br><b>Location:</b> Chernobyl, Chernobyl Raion (now Vyshhorod Raion), Kiev Oblast, Ukrainian SSR, Soviet Union<br><b>Date:</b> 26/04/1986<br><b>Direct Deaths:</b> 28.0<br><b>Indirect Deaths:</b> 4,000<br><b>Category:</b> Design/Safety Procedures<br><b>INES Level:</b> 7.0<br><b>Latitude:</b> 51.2763<br><b>Longitude:</b> 30.2219",
           51.2763,
           30.2219
          ],
          [
           "<b>Incident:</b> THTR-300 reactor<br><b>Location:</b> Hamm-Uentrop, West Germany<br><b>Date:</b> 04/05/1986<br><b>Direct Deaths:</b> 0.0<br><b>Indirect Deaths:</b> Unknown<br><b>Category:</b> Experimental Operation<br><b>INES Level:</b> Unknown<br><b>Latitude:</b> 51.6651<br><b>Longitude:</b> 7.8768",
           51.6651,
           7.8768
          ],
          [
           "<b>Incident:</b> Surry Nuclear Power Plant pipe break<br><b>Location:</b> Surry, Virginia, United States<br><b>Date:</b> 09/12/1986<br><b>Direct Deaths:</b> 4.0<br><b>Indirect Deaths:</b> Unknown<br><b>Category:</b> Equipment Failure<br><b>INES Level:</b> Unknown<br><b>Latitude:</b> 37.1508<br><b>Longitude:</b> -76.8164",
           37.1508,
           -76.8164
          ],
          [
           "<b>Incident:</b> Peach Bottom units shutdown<br><b>Location:</b> Delta, Pennsylvania, United States<br><b>Date:</b> 31/03/1987<br><b>Direct Deaths:</b> 0.0<br><b>Indirect Deaths:</b> Unknown<br><b>Category:</b> Cooling Malfunctions<br><b>INES Level:</b> Unknown<br><b>Latitude:</b> 39.9484<br><b>Longitude:</b> -76.5684",
           39.9484,
           -76.5684
          ],
          [
           "<b>Incident:</b> Niagara Mohawk Power Corporation shutdown<br><b>Location:</b> Lycoming, New York, United States<br><b>Date:</b> 19/12/1987<br><b>Direct Deaths:</b> 0.0<br><b>Indirect Deaths:</b> Unknown<br><b>Category:</b> Malfunctions<br><b>INES Level:</b> Unknown<br><b>Latitude:</b> 42.223<br><b>Longitude:</b> -76.9957",
           42.223,
           -76.9957
          ],
          [
           "<b>Incident:</b> Calvert Cliff Units extended shutdown<br><b>Location:</b> Lusby, Maryland, United States<br><b>Date:</b> 17/03/1989<br><b>Direct Deaths:</b> 0.0<br><b>Indirect Deaths:</b> Unknown<br><b>Category:</b> Inspection Findings<br><b>INES Level:</b> Unknown<br><b>Latitude:</b> 38.3589<br><b>Longitude:</b> -76.4331",
           38.3589,
           -76.4331
          ],
          [
           "<b>Incident:</b> Vandellòs nuclear power plant accident<br><b>Location:</b> Vandellòs, Spain<br><b>Date:</b> 19/10/1989<br><b>Direct Deaths:</b> 0.0<br><b>Indirect Deaths:</b> Unknown<br><b>Category:</b> Cooling System Failure<br><b>INES Level:</b> 3.0<br><b>Latitude:</b> 41.0469<br><b>Longitude:</b> 0.891",
           41.0469,
           0.891
          ],
          [
           "<b>Incident:</b> Sosnovy Bor nuclear plant accident<br><b>Location:</b> Sosnovy Bor, Leningrad Oblast, Russia<br><b>Date:</b> 01/03/1992<br><b>Direct Deaths:</b> Unknown<br><b>Indirect Deaths:</b> Unknown<br><b>Category:</b> Equipment Rupture<br><b>INES Level:</b> Unknown<br><b>Latitude:</b> 59.9043<br><b>Longitude:</b> 29.0968",
           59.9043,
           29.0968
          ],
          [
           "<b>Incident:</b> Millstone Nuclear Power Plant shutdown<br><b>Location:</b> Waterford, Connecticut, United States<br><b>Date:</b> 20/02/1996<br><b>Direct Deaths:</b> 0.0<br><b>Indirect Deaths:</b> Unknown<br><b>Category:</b> Valve Leak<br><b>INES Level:</b> Unknown<br><b>Latitude:</b> 41.3557<br><b>Longitude:</b> -72.1564",
           41.3557,
           -72.1564
          ],
          [
           "<b>Incident:</b> Crystal River Unit 3 shutdown<br><b>Location:</b> Crystal River, Florida, United States<br><b>Date:</b> 02/09/1996<br><b>Direct Deaths:</b> 0.0<br><b>Indirect Deaths:</b> Unknown<br><b>Category:</b> Equipment Malfunction<br><b>INES Level:</b> Unknown<br><b>Latitude:</b> 28.9744<br><b>Longitude:</b> -82.648",
           28.9744,
           -82.648
          ],
          [
           "<b>Incident:</b> Tokaimura nuclear accident<br><b>Location:</b> Ibaraki Prefecture, Japan<br><b>Date:</b> 30/09/1999<br><b>Direct Deaths:</b> 2.0<br><b>Indirect Deaths:</b> Unknown<br><b>Category:</b> Operational/Safety Procedures<br><b>INES Level:</b> 4.0<br><b>Latitude:</b> 36.3075<br><b>Longitude:</b> 140.3196",
           36.3075,
           140.3196
          ],
          [
           "<b>Incident:</b> Davis-Besse reactor outage<br><b>Location:</b> Oak Harbor, Ohio, United States<br><b>Date:</b> 16/02/2002<br><b>Direct Deaths:</b> 0.0<br><b>Indirect Deaths:</b> Unknown<br><b>Category:</b> Corrosion<br><b>INES Level:</b> 3.0<br><b>Latitude:</b> 41.5145<br><b>Longitude:</b> -83.146",
           41.5145,
           -83.146
          ],
          [
           "<b>Incident:</b> Paks Nuclear Power Plant fuel rod collapse<br><b>Location:</b> Paks, Hungary<br><b>Date:</b> 10/04/2003<br><b>Direct Deaths:</b> 0.0<br><b>Indirect Deaths:</b> Unknown<br><b>Category:</b> Corrosion Cleaning<br><b>INES Level:</b> 3.0<br><b>Latitude:</b> 46.5824<br><b>Longitude:</b> 18.8467",
           46.5824,
           18.8467
          ],
          [
           "<b>Incident:</b> Mihama Nuclear Power Plant explosion<br><b>Location:</b> Fukui Prefecture, Japan<br><b>Date:</b> 09/08/2004<br><b>Direct Deaths:</b> 4.0<br><b>Indirect Deaths:</b> Unknown<br><b>Category:</b> Steam Explosion<br><b>INES Level:</b> 1.0<br><b>Latitude:</b> 35.6581<br><b>Longitude:</b> 136.1267",
           35.6581,
           136.1267
          ],
          [
           "<b>Incident:</b> Forsmark Nuclear Power Plant electrical fault<br><b>Location:</b> Forsmark, Sweden<br><b>Date:</b> 25/07/2006<br><b>Direct Deaths:</b> 0.0<br><b>Indirect Deaths:</b> Unknown<br><b>Category:</b> Safety Systems Failure<br><b>INES Level:</b> 2.0<br><b>Latitude:</b> 60.4054<br><b>Longitude:</b> 18.2127",
           60.4054,
           18.2127
          ],
          [
           "<b>Incident:</b> Fukushima nuclear disaster<br><b>Location:</b> Fukushima, Japan<br><b>Date:</b> 11/03/2011<br><b>Direct Deaths:</b> 4.0<br><b>Indirect Deaths:</b> Unknown<br><b>Category:</b> Natural Disaster/Operational Failure<br><b>INES Level:</b> 7.0<br><b>Latitude:</b> 37.7749<br><b>Longitude:</b> 140.4694",
           37.7749,
           140.4694
          ],
          [
           "<b>Incident:</b> Marcoule Nuclear Site blast<br><b>Location:</b> Marcoule, France<br><b>Date:</b> 12/09/2011<br><b>Direct Deaths:</b> 1.0<br><b>Indirect Deaths:</b> Unknown<br><b>Category:</b> Industrial Accident<br><b>INES Level:</b> Unknown<br><b>Latitude:</b> 44.1467<br><b>Longitude:</b> 4.7528",
           44.1467,
           4.7528
          ]
         ],
         "geo": "geo",
         "hovertemplate": "%{customdata[0]}<extra></extra>",
         "hovertext": [
          "Kyshtym disaster",
          "Windscale fire",
          "SL-1 prototype explosion",
          "Fermi 1 Reactor meltdown",
          "Loss-of-Coolant Accident (January 21, 1969)",
          "Greifswald Nuclear Power Plant fire",
          "Fuel Rod Ejection during Fuel Replacement",
          "Partial Core Meltdown (Operator Errors)",
          "Browns Ferry Unit 2 Outage (Six-Year",
          "Browns Ferry Units Startup Malfunction",
          "Pilgrim Nuclear Power Plant Emergency Shutdown",
          "Chernobyl disaster",
          "THTR-300 reactor",
          "Surry Nuclear Power Plant pipe break",
          "Peach Bottom units shutdown",
          "Niagara Mohawk Power Corporation shutdown",
          "Calvert Cliff Units extended shutdown",
          "Vandellòs nuclear power plant accident",
          "Sosnovy Bor nuclear plant accident",
          "Millstone Nuclear Power Plant shutdown",
          "Crystal River Unit 3 shutdown",
          "Tokaimura nuclear accident",
          "Davis-Besse reactor outage",
          "Paks Nuclear Power Plant fuel rod collapse",
          "Mihama Nuclear Power Plant explosion",
          "Forsmark Nuclear Power Plant electrical fault",
          "Fukushima nuclear disaster",
          "Marcoule Nuclear Site blast"
         ],
         "lat": {
          "bdata": "iGNd3EbbS0AhH/RsVjVLQOXQItv5vkVAtTf4wmT6RED0bFZ9rlZHQN/gC5OpCktAYOXQIts5SEBcj8L1KBREQK36XG3FZkFArfpcbcVmQUBCPujZrPpEQEHxY8xdo0lA6Ugu/yHVSUBPHhZqTZNCQGHD0ytl+UNABoGVQ4scRUBnRGlv8C1DQFkXt9EAhkRA6+I2GsDzTUD2l92Th61EQO84RUdy+TxAj8L1KFwnQkBg5dAi28FEQF+YTBWMSkdAsb/snjzUQUAy5q4l5DNOQNDVVuwv40JAXynLEMcSRkA=",
          "dtype": "f8"
         },
         "legendgroup": "",
         "lon": {
          "bdata": "6Ugu/yFtTkAgQfFjzN0LwHQkl/+QAlzAH/RsVn3qVMAAAAAAAIAbQBUdyeU/xCpA/Yf029fRMUAU0ETY8CxTwHxhMlUwvlXAfGEyVTC+VcC7Jw8LtapRwH/7OnDOOD5A/Yf029eBH0AVHcnlPzRTwPjCZKpgJFPAJCh+jLk/U8By+Q/ptxtTwFCNl24Sg+w/uECC4scYPUALRiV1AgpSwLbz/dR4qVTAp3nHKTqKYUDTTWIQWMlUwPCFyVTB2DJA54wo7Q0EYUD129eBczYyQMIXJlMFj2FAF7fRAN4CE0A=",
          "dtype": "f8"
         },
         "marker": {
          "color": "red",
          "size": 10,
          "symbol": "circle"
         },
         "mode": "markers",
         "name": "",
         "showlegend": false,
         "type": "scattergeo"
        }
       ],
       "layout": {
        "geo": {
         "center": {},
         "countrycolor": "Black",
         "domain": {
          "x": [
           0,
           1
          ],
          "y": [
           0,
           1
          ]
         },
         "oceancolor": "LightBlue",
         "projection": {
          "type": "natural earth"
         },
         "showcountries": true,
         "showocean": true
        },
        "height": 600,
        "legend": {
         "tracegroupgap": 0
        },
        "margin": {
         "b": 0,
         "l": 0,
         "r": 0,
         "t": 30
        },
        "template": {
         "data": {
          "bar": [
           {
            "error_x": {
             "color": "#2a3f5f"
            },
            "error_y": {
             "color": "#2a3f5f"
            },
            "marker": {
             "line": {
              "color": "#E5ECF6",
              "width": 0.5
             },
             "pattern": {
              "fillmode": "overlay",
              "size": 10,
              "solidity": 0.2
             }
            },
            "type": "bar"
           }
          ],
          "barpolar": [
           {
            "marker": {
             "line": {
              "color": "#E5ECF6",
              "width": 0.5
             },
             "pattern": {
              "fillmode": "overlay",
              "size": 10,
              "solidity": 0.2
             }
            },
            "type": "barpolar"
           }
          ],
          "carpet": [
           {
            "aaxis": {
             "endlinecolor": "#2a3f5f",
             "gridcolor": "white",
             "linecolor": "white",
             "minorgridcolor": "white",
             "startlinecolor": "#2a3f5f"
            },
            "baxis": {
             "endlinecolor": "#2a3f5f",
             "gridcolor": "white",
             "linecolor": "white",
             "minorgridcolor": "white",
             "startlinecolor": "#2a3f5f"
            },
            "type": "carpet"
           }
          ],
          "choropleth": [
           {
            "colorbar": {
             "outlinewidth": 0,
             "ticks": ""
            },
            "type": "choropleth"
           }
          ],
          "contour": [
           {
            "colorbar": {
             "outlinewidth": 0,
             "ticks": ""
            },
            "colorscale": [
             [
              0,
              "#0d0887"
             ],
             [
              0.1111111111111111,
              "#46039f"
             ],
             [
              0.2222222222222222,
              "#7201a8"
             ],
             [
              0.3333333333333333,
              "#9c179e"
             ],
             [
              0.4444444444444444,
              "#bd3786"
             ],
             [
              0.5555555555555556,
              "#d8576b"
             ],
             [
              0.6666666666666666,
              "#ed7953"
             ],
             [
              0.7777777777777778,
              "#fb9f3a"
             ],
             [
              0.8888888888888888,
              "#fdca26"
             ],
             [
              1,
              "#f0f921"
             ]
            ],
            "type": "contour"
           }
          ],
          "contourcarpet": [
           {
            "colorbar": {
             "outlinewidth": 0,
             "ticks": ""
            },
            "type": "contourcarpet"
           }
          ],
          "heatmap": [
           {
            "colorbar": {
             "outlinewidth": 0,
             "ticks": ""
            },
            "colorscale": [
             [
              0,
              "#0d0887"
             ],
             [
              0.1111111111111111,
              "#46039f"
             ],
             [
              0.2222222222222222,
              "#7201a8"
             ],
             [
              0.3333333333333333,
              "#9c179e"
             ],
             [
              0.4444444444444444,
              "#bd3786"
             ],
             [
              0.5555555555555556,
              "#d8576b"
             ],
             [
              0.6666666666666666,
              "#ed7953"
             ],
             [
              0.7777777777777778,
              "#fb9f3a"
             ],
             [
              0.8888888888888888,
              "#fdca26"
             ],
             [
              1,
              "#f0f921"
             ]
            ],
            "type": "heatmap"
           }
          ],
          "histogram": [
           {
            "marker": {
             "pattern": {
              "fillmode": "overlay",
              "size": 10,
              "solidity": 0.2
             }
            },
            "type": "histogram"
           }
          ],
          "histogram2d": [
           {
            "colorbar": {
             "outlinewidth": 0,
             "ticks": ""
            },
            "colorscale": [
             [
              0,
              "#0d0887"
             ],
             [
              0.1111111111111111,
              "#46039f"
             ],
             [
              0.2222222222222222,
              "#7201a8"
             ],
             [
              0.3333333333333333,
              "#9c179e"
             ],
             [
              0.4444444444444444,
              "#bd3786"
             ],
             [
              0.5555555555555556,
              "#d8576b"
             ],
             [
              0.6666666666666666,
              "#ed7953"
             ],
             [
              0.7777777777777778,
              "#fb9f3a"
             ],
             [
              0.8888888888888888,
              "#fdca26"
             ],
             [
              1,
              "#f0f921"
             ]
            ],
            "type": "histogram2d"
           }
          ],
          "histogram2dcontour": [
           {
            "colorbar": {
             "outlinewidth": 0,
             "ticks": ""
            },
            "colorscale": [
             [
              0,
              "#0d0887"
             ],
             [
              0.1111111111111111,
              "#46039f"
             ],
             [
              0.2222222222222222,
              "#7201a8"
             ],
             [
              0.3333333333333333,
              "#9c179e"
             ],
             [
              0.4444444444444444,
              "#bd3786"
             ],
             [
              0.5555555555555556,
              "#d8576b"
             ],
             [
              0.6666666666666666,
              "#ed7953"
             ],
             [
              0.7777777777777778,
              "#fb9f3a"
             ],
             [
              0.8888888888888888,
              "#fdca26"
             ],
             [
              1,
              "#f0f921"
             ]
            ],
            "type": "histogram2dcontour"
           }
          ],
          "mesh3d": [
           {
            "colorbar": {
             "outlinewidth": 0,
             "ticks": ""
            },
            "type": "mesh3d"
           }
          ],
          "parcoords": [
           {
            "line": {
             "colorbar": {
              "outlinewidth": 0,
              "ticks": ""
             }
            },
            "type": "parcoords"
           }
          ],
          "pie": [
           {
            "automargin": true,
            "type": "pie"
           }
          ],
          "scatter": [
           {
            "fillpattern": {
             "fillmode": "overlay",
             "size": 10,
             "solidity": 0.2
            },
            "type": "scatter"
           }
          ],
          "scatter3d": [
           {
            "line": {
             "colorbar": {
              "outlinewidth": 0,
              "ticks": ""
             }
            },
            "marker": {
             "colorbar": {
              "outlinewidth": 0,
              "ticks": ""
             }
            },
            "type": "scatter3d"
           }
          ],
          "scattercarpet": [
           {
            "marker": {
             "colorbar": {
              "outlinewidth": 0,
              "ticks": ""
             }
            },
            "type": "scattercarpet"
           }
          ],
          "scattergeo": [
           {
            "marker": {
             "colorbar": {
              "outlinewidth": 0,
              "ticks": ""
             }
            },
            "type": "scattergeo"
           }
          ],
          "scattergl": [
           {
            "marker": {
             "colorbar": {
              "outlinewidth": 0,
              "ticks": ""
             }
            },
            "type": "scattergl"
           }
          ],
          "scattermap": [
           {
            "marker": {
             "colorbar": {
              "outlinewidth": 0,
              "ticks": ""
             }
            },
            "type": "scattermap"
           }
          ],
          "scattermapbox": [
           {
            "marker": {
             "colorbar": {
              "outlinewidth": 0,
              "ticks": ""
             }
            },
            "type": "scattermapbox"
           }
          ],
          "scatterpolar": [
           {
            "marker": {
             "colorbar": {
              "outlinewidth": 0,
              "ticks": ""
             }
            },
            "type": "scatterpolar"
           }
          ],
          "scatterpolargl": [
           {
            "marker": {
             "colorbar": {
              "outlinewidth": 0,
              "ticks": ""
             }
            },
            "type": "scatterpolargl"
           }
          ],
          "scatterternary": [
           {
            "marker": {
             "colorbar": {
              "outlinewidth": 0,
              "ticks": ""
             }
            },
            "type": "scatterternary"
           }
          ],
          "surface": [
           {
            "colorbar": {
             "outlinewidth": 0,
             "ticks": ""
            },
            "colorscale": [
             [
              0,
              "#0d0887"
             ],
             [
              0.1111111111111111,
              "#46039f"
             ],
             [
              0.2222222222222222,
              "#7201a8"
             ],
             [
              0.3333333333333333,
              "#9c179e"
             ],
             [
              0.4444444444444444,
              "#bd3786"
             ],
             [
              0.5555555555555556,
              "#d8576b"
             ],
             [
              0.6666666666666666,
              "#ed7953"
             ],
             [
              0.7777777777777778,
              "#fb9f3a"
             ],
             [
              0.8888888888888888,
              "#fdca26"
             ],
             [
              1,
              "#f0f921"
             ]
            ],
            "type": "surface"
           }
          ],
          "table": [
           {
            "cells": {
             "fill": {
              "color": "#EBF0F8"
             },
             "line": {
              "color": "white"
             }
            },
            "header": {
             "fill": {
              "color": "#C8D4E3"
             },
             "line": {
              "color": "white"
             }
            },
            "type": "table"
           }
          ]
         },
         "layout": {
          "annotationdefaults": {
           "arrowcolor": "#2a3f5f",
           "arrowhead": 0,
           "arrowwidth": 1
          },
          "autotypenumbers": "strict",
          "coloraxis": {
           "colorbar": {
            "outlinewidth": 0,
            "ticks": ""
           }
          },
          "colorscale": {
           "diverging": [
            [
             0,
             "#8e0152"
            ],
            [
             0.1,
             "#c51b7d"
            ],
            [
             0.2,
             "#de77ae"
            ],
            [
             0.3,
             "#f1b6da"
            ],
            [
             0.4,
             "#fde0ef"
            ],
            [
             0.5,
             "#f7f7f7"
            ],
            [
             0.6,
             "#e6f5d0"
            ],
            [
             0.7,
             "#b8e186"
            ],
            [
             0.8,
             "#7fbc41"
            ],
            [
             0.9,
             "#4d9221"
            ],
            [
             1,
             "#276419"
            ]
           ],
           "sequential": [
            [
             0,
             "#0d0887"
            ],
            [
             0.1111111111111111,
             "#46039f"
            ],
            [
             0.2222222222222222,
             "#7201a8"
            ],
            [
             0.3333333333333333,
             "#9c179e"
            ],
            [
             0.4444444444444444,
             "#bd3786"
            ],
            [
             0.5555555555555556,
             "#d8576b"
            ],
            [
             0.6666666666666666,
             "#ed7953"
            ],
            [
             0.7777777777777778,
             "#fb9f3a"
            ],
            [
             0.8888888888888888,
             "#fdca26"
            ],
            [
             1,
             "#f0f921"
            ]
           ],
           "sequentialminus": [
            [
             0,
             "#0d0887"
            ],
            [
             0.1111111111111111,
             "#46039f"
            ],
            [
             0.2222222222222222,
             "#7201a8"
            ],
            [
             0.3333333333333333,
             "#9c179e"
            ],
            [
             0.4444444444444444,
             "#bd3786"
            ],
            [
             0.5555555555555556,
             "#d8576b"
            ],
            [
             0.6666666666666666,
             "#ed7953"
            ],
            [
             0.7777777777777778,
             "#fb9f3a"
            ],
            [
             0.8888888888888888,
             "#fdca26"
            ],
            [
             1,
             "#f0f921"
            ]
           ]
          },
          "colorway": [
           "#636efa",
           "#EF553B",
           "#00cc96",
           "#ab63fa",
           "#FFA15A",
           "#19d3f3",
           "#FF6692",
           "#B6E880",
           "#FF97FF",
           "#FECB52"
          ],
          "font": {
           "color": "#2a3f5f"
          },
          "geo": {
           "bgcolor": "white",
           "lakecolor": "white",
           "landcolor": "#E5ECF6",
           "showlakes": true,
           "showland": true,
           "subunitcolor": "white"
          },
          "hoverlabel": {
           "align": "left"
          },
          "hovermode": "closest",
          "mapbox": {
           "style": "light"
          },
          "paper_bgcolor": "white",
          "plot_bgcolor": "#E5ECF6",
          "polar": {
           "angularaxis": {
            "gridcolor": "white",
            "linecolor": "white",
            "ticks": ""
           },
           "bgcolor": "#E5ECF6",
           "radialaxis": {
            "gridcolor": "white",
            "linecolor": "white",
            "ticks": ""
           }
          },
          "scene": {
           "xaxis": {
            "backgroundcolor": "#E5ECF6",
            "gridcolor": "white",
            "gridwidth": 2,
            "linecolor": "white",
            "showbackground": true,
            "ticks": "",
            "zerolinecolor": "white"
           },
           "yaxis": {
            "backgroundcolor": "#E5ECF6",
            "gridcolor": "white",
            "gridwidth": 2,
            "linecolor": "white",
            "showbackground": true,
            "ticks": "",
            "zerolinecolor": "white"
           },
           "zaxis": {
            "backgroundcolor": "#E5ECF6",
            "gridcolor": "white",
            "gridwidth": 2,
            "linecolor": "white",
            "showbackground": true,
            "ticks": "",
            "zerolinecolor": "white"
           }
          },
          "shapedefaults": {
           "line": {
            "color": "#2a3f5f"
           }
          },
          "ternary": {
           "aaxis": {
            "gridcolor": "white",
            "linecolor": "white",
            "ticks": ""
           },
           "baxis": {
            "gridcolor": "white",
            "linecolor": "white",
            "ticks": ""
           },
           "bgcolor": "#E5ECF6",
           "caxis": {
            "gridcolor": "white",
            "linecolor": "white",
            "ticks": ""
           }
          },
          "title": {
           "x": 0.05
          },
          "xaxis": {
           "automargin": true,
           "gridcolor": "white",
           "linecolor": "white",
           "ticks": "",
           "title": {
            "standoff": 15
           },
           "zerolinecolor": "white",
           "zerolinewidth": 2
          },
          "yaxis": {
           "automargin": true,
           "gridcolor": "white",
           "linecolor": "white",
           "ticks": "",
           "title": {
            "standoff": 15
           },
           "zerolinecolor": "white",
           "zerolinewidth": 2
          }
         }
        },
        "title": {
         "text": "Nuclear Incidents Worldwide"
        }
       }
      }
     },
     "metadata": {},
     "output_type": "display_data"
    }
   ],
   "source": [
    "\n",
    "df = pd.read_csv(\"nuclear_data/Nuclear Incidents - Sheet3.csv\")\n",
    "\n",
    "df.columns = df.columns.str.strip()\n",
    "\n",
    "df.columns.values[6] = \"INES level\"\n",
    "\n",
    "df['Numbers of Direct Deaths'] = df['Numbers of Direct Deaths'].replace('', pd.NA).fillna('Unknown')\n",
    "df['Numbers of InDirect Deaths'] = df['Numbers of InDirect Deaths'].replace('', pd.NA).fillna('Unknown')\n",
    "df['INES level'] = df['INES level'].replace('', pd.NA).fillna('Unknown')\n",
    "\n",
    "df['hover_text'] = (\n",
    "    \"<b>Incident:</b> \" + df['Incident'] + \"<br>\" +\n",
    "    \"<b>Location:</b> \" + df['Location'] + \"<br>\" +\n",
    "    \"<b>Date:</b> \" + df['Date'] + \"<br>\" +\n",
    "    \"<b>Direct Deaths:</b> \" + df['Numbers of Direct Deaths'].astype(str) + \"<br>\" +\n",
    "    \"<b>Indirect Deaths:</b> \" + df['Numbers of InDirect Deaths'].astype(str) + \"<br>\" +\n",
    "    \"<b>Category:</b> \" + df['Category'] + \"<br>\" +\n",
    "    \"<b>INES Level:</b> \" + df['INES level'].astype(str) + \"<br>\" +\n",
    "    \"<b>Latitude:</b> \" + df['Latitude'].astype(str) + \"<br>\" +\n",
    "    \"<b>Longitude:</b> \" + df['Longitude'].astype(str)\n",
    ")\n",
    "\n",
    "fig = px.scatter_geo(df,\n",
    "                     lat='Latitude',\n",
    "                     lon='Longitude',\n",
    "                     hover_name='Incident',\n",
    "                     hover_data={'Latitude': False, 'Longitude': False},\n",
    "                     custom_data=['hover_text'],\n",
    "                     color_discrete_sequence=['red'],\n",
    "                     title='Nuclear Incidents Worldwide')\n",
    "\n",
    "fig.update_traces(hovertemplate=\"%{customdata[0]}<extra></extra>\",\n",
    "                  marker=dict(size=10))\n",
    "\n",
    "fig.update_geos(projection_type=\"natural earth\",\n",
    "                showcountries=True,\n",
    "                countrycolor=\"Black\",\n",
    "                showocean=True,\n",
    "                oceancolor=\"LightBlue\")\n",
    "\n",
    "fig.update_layout(height=600, margin={\"r\":0,\"t\":30,\"l\":0,\"b\":0})\n",
    "\n",
    "fig.show()"
   ]
  },
  {
   "cell_type": "markdown",
   "id": "0fe48ad5",
   "metadata": {},
   "source": [
    "We see that a lot of incidents have occured worldwide. A lot of these incidents where from a while back (40+ years). This implies that safety regulations have gotten better over time. However, the risk of nuclear incidents is still very serious."
   ]
  },
  {
   "cell_type": "markdown",
   "id": "f8e23541",
   "metadata": {},
   "source": [
    "## Nuclear energy death-rate\n",
    "\n",
    "In this section we analyse the total death-rate of different energy sources. This section ties into perspective 2. Consider the following bar graph:"
   ]
  },
  {
   "cell_type": "code",
   "execution_count": 9,
   "id": "fd0e066c",
   "metadata": {},
   "outputs": [
    {
     "data": {
      "text/html": [
       "<div>\n",
       "<style scoped>\n",
       "    .dataframe tbody tr th:only-of-type {\n",
       "        vertical-align: middle;\n",
       "    }\n",
       "\n",
       "    .dataframe tbody tr th {\n",
       "        vertical-align: top;\n",
       "    }\n",
       "\n",
       "    .dataframe thead th {\n",
       "        text-align: right;\n",
       "    }\n",
       "</style>\n",
       "<table border=\"1\" class=\"dataframe\">\n",
       "  <thead>\n",
       "    <tr style=\"text-align: right;\">\n",
       "      <th></th>\n",
       "      <th>Entity</th>\n",
       "      <th>Deaths per TWh of electricity production</th>\n",
       "      <th>Year</th>\n",
       "    </tr>\n",
       "  </thead>\n",
       "  <tbody>\n",
       "    <tr>\n",
       "      <th>1</th>\n",
       "      <td>Brown coal</td>\n",
       "      <td>32.720</td>\n",
       "      <td>2021</td>\n",
       "    </tr>\n",
       "    <tr>\n",
       "      <th>2</th>\n",
       "      <td>Coal</td>\n",
       "      <td>24.620</td>\n",
       "      <td>2021</td>\n",
       "    </tr>\n",
       "    <tr>\n",
       "      <th>6</th>\n",
       "      <td>Oil</td>\n",
       "      <td>18.430</td>\n",
       "      <td>2021</td>\n",
       "    </tr>\n",
       "    <tr>\n",
       "      <th>0</th>\n",
       "      <td>Biomass</td>\n",
       "      <td>4.630</td>\n",
       "      <td>2021</td>\n",
       "    </tr>\n",
       "    <tr>\n",
       "      <th>3</th>\n",
       "      <td>Gas</td>\n",
       "      <td>2.821</td>\n",
       "      <td>2021</td>\n",
       "    </tr>\n",
       "  </tbody>\n",
       "</table>\n",
       "</div>"
      ],
      "text/plain": [
       "       Entity  Deaths per TWh of electricity production  Year\n",
       "1  Brown coal                                    32.720  2021\n",
       "2        Coal                                    24.620  2021\n",
       "6         Oil                                    18.430  2021\n",
       "0     Biomass                                     4.630  2021\n",
       "3         Gas                                     2.821  2021"
      ]
     },
     "execution_count": 9,
     "metadata": {},
     "output_type": "execute_result"
    }
   ],
   "source": [
    "deaths_df = pd.read_csv('nuclear_data/rates_death_from_energy_production_per_twh.csv')\n",
    "deaths_df = deaths_df.sort_values(by='Deaths per TWh of electricity production', ascending=False)\n",
    "deaths_df.head()"
   ]
  },
  {
   "cell_type": "code",
   "execution_count": 10,
   "id": "b346ad11",
   "metadata": {},
   "outputs": [
    {
     "data": {
      "application/vnd.plotly.v1+json": {
       "config": {
        "plotlyServerURL": "https://plot.ly"
       },
       "data": [
        {
         "hovertemplate": "Entity=%{x}<br>Deaths per TWh of electricity production=%{marker.color}<extra></extra>",
         "legendgroup": "",
         "marker": {
          "color": {
           "bdata": "XI/C9ShcQEAfhetRuJ44QK5H4XoUbjJAhetRuB6FEkDFILByaJEGQM3MzMzMzPQ/7FG4HoXroT+4HoXrUbieP9v5fmq8dJM/",
           "dtype": "f8"
          },
          "coloraxis": "coloraxis",
          "pattern": {
           "shape": ""
          }
         },
         "name": "",
         "orientation": "v",
         "showlegend": false,
         "textposition": "auto",
         "type": "bar",
         "x": [
          "Brown coal",
          "Coal",
          "Oil",
          "Biomass",
          "Gas",
          "Hydropower",
          "Wind",
          "Nuclear",
          "Solar"
         ],
         "xaxis": "x",
         "y": {
          "bdata": "XI/C9ShcQEAfhetRuJ44QK5H4XoUbjJAhetRuB6FEkDFILByaJEGQM3MzMzMzPQ/7FG4HoXroT+4HoXrUbieP9v5fmq8dJM/",
          "dtype": "f8"
         },
         "yaxis": "y"
        }
       ],
       "layout": {
        "barmode": "relative",
        "coloraxis": {
         "colorbar": {
          "title": {
           "text": "Deaths per TWh of electricity production"
          }
         },
         "colorscale": [
          [
           0,
           "rgb(0,104,55)"
          ],
          [
           0.1,
           "rgb(26,152,80)"
          ],
          [
           0.2,
           "rgb(102,189,99)"
          ],
          [
           0.3,
           "rgb(166,217,106)"
          ],
          [
           0.4,
           "rgb(217,239,139)"
          ],
          [
           0.5,
           "rgb(255,255,191)"
          ],
          [
           0.6,
           "rgb(254,224,139)"
          ],
          [
           0.7,
           "rgb(253,174,97)"
          ],
          [
           0.8,
           "rgb(244,109,67)"
          ],
          [
           0.9,
           "rgb(215,48,39)"
          ],
          [
           1,
           "rgb(165,0,38)"
          ]
         ],
         "showscale": false
        },
        "legend": {
         "tracegroupgap": 0
        },
        "margin": {
         "t": 60
        },
        "template": {
         "data": {
          "bar": [
           {
            "error_x": {
             "color": "#2a3f5f"
            },
            "error_y": {
             "color": "#2a3f5f"
            },
            "marker": {
             "line": {
              "color": "#E5ECF6",
              "width": 0.5
             },
             "pattern": {
              "fillmode": "overlay",
              "size": 10,
              "solidity": 0.2
             }
            },
            "type": "bar"
           }
          ],
          "barpolar": [
           {
            "marker": {
             "line": {
              "color": "#E5ECF6",
              "width": 0.5
             },
             "pattern": {
              "fillmode": "overlay",
              "size": 10,
              "solidity": 0.2
             }
            },
            "type": "barpolar"
           }
          ],
          "carpet": [
           {
            "aaxis": {
             "endlinecolor": "#2a3f5f",
             "gridcolor": "white",
             "linecolor": "white",
             "minorgridcolor": "white",
             "startlinecolor": "#2a3f5f"
            },
            "baxis": {
             "endlinecolor": "#2a3f5f",
             "gridcolor": "white",
             "linecolor": "white",
             "minorgridcolor": "white",
             "startlinecolor": "#2a3f5f"
            },
            "type": "carpet"
           }
          ],
          "choropleth": [
           {
            "colorbar": {
             "outlinewidth": 0,
             "ticks": ""
            },
            "type": "choropleth"
           }
          ],
          "contour": [
           {
            "colorbar": {
             "outlinewidth": 0,
             "ticks": ""
            },
            "colorscale": [
             [
              0,
              "#0d0887"
             ],
             [
              0.1111111111111111,
              "#46039f"
             ],
             [
              0.2222222222222222,
              "#7201a8"
             ],
             [
              0.3333333333333333,
              "#9c179e"
             ],
             [
              0.4444444444444444,
              "#bd3786"
             ],
             [
              0.5555555555555556,
              "#d8576b"
             ],
             [
              0.6666666666666666,
              "#ed7953"
             ],
             [
              0.7777777777777778,
              "#fb9f3a"
             ],
             [
              0.8888888888888888,
              "#fdca26"
             ],
             [
              1,
              "#f0f921"
             ]
            ],
            "type": "contour"
           }
          ],
          "contourcarpet": [
           {
            "colorbar": {
             "outlinewidth": 0,
             "ticks": ""
            },
            "type": "contourcarpet"
           }
          ],
          "heatmap": [
           {
            "colorbar": {
             "outlinewidth": 0,
             "ticks": ""
            },
            "colorscale": [
             [
              0,
              "#0d0887"
             ],
             [
              0.1111111111111111,
              "#46039f"
             ],
             [
              0.2222222222222222,
              "#7201a8"
             ],
             [
              0.3333333333333333,
              "#9c179e"
             ],
             [
              0.4444444444444444,
              "#bd3786"
             ],
             [
              0.5555555555555556,
              "#d8576b"
             ],
             [
              0.6666666666666666,
              "#ed7953"
             ],
             [
              0.7777777777777778,
              "#fb9f3a"
             ],
             [
              0.8888888888888888,
              "#fdca26"
             ],
             [
              1,
              "#f0f921"
             ]
            ],
            "type": "heatmap"
           }
          ],
          "histogram": [
           {
            "marker": {
             "pattern": {
              "fillmode": "overlay",
              "size": 10,
              "solidity": 0.2
             }
            },
            "type": "histogram"
           }
          ],
          "histogram2d": [
           {
            "colorbar": {
             "outlinewidth": 0,
             "ticks": ""
            },
            "colorscale": [
             [
              0,
              "#0d0887"
             ],
             [
              0.1111111111111111,
              "#46039f"
             ],
             [
              0.2222222222222222,
              "#7201a8"
             ],
             [
              0.3333333333333333,
              "#9c179e"
             ],
             [
              0.4444444444444444,
              "#bd3786"
             ],
             [
              0.5555555555555556,
              "#d8576b"
             ],
             [
              0.6666666666666666,
              "#ed7953"
             ],
             [
              0.7777777777777778,
              "#fb9f3a"
             ],
             [
              0.8888888888888888,
              "#fdca26"
             ],
             [
              1,
              "#f0f921"
             ]
            ],
            "type": "histogram2d"
           }
          ],
          "histogram2dcontour": [
           {
            "colorbar": {
             "outlinewidth": 0,
             "ticks": ""
            },
            "colorscale": [
             [
              0,
              "#0d0887"
             ],
             [
              0.1111111111111111,
              "#46039f"
             ],
             [
              0.2222222222222222,
              "#7201a8"
             ],
             [
              0.3333333333333333,
              "#9c179e"
             ],
             [
              0.4444444444444444,
              "#bd3786"
             ],
             [
              0.5555555555555556,
              "#d8576b"
             ],
             [
              0.6666666666666666,
              "#ed7953"
             ],
             [
              0.7777777777777778,
              "#fb9f3a"
             ],
             [
              0.8888888888888888,
              "#fdca26"
             ],
             [
              1,
              "#f0f921"
             ]
            ],
            "type": "histogram2dcontour"
           }
          ],
          "mesh3d": [
           {
            "colorbar": {
             "outlinewidth": 0,
             "ticks": ""
            },
            "type": "mesh3d"
           }
          ],
          "parcoords": [
           {
            "line": {
             "colorbar": {
              "outlinewidth": 0,
              "ticks": ""
             }
            },
            "type": "parcoords"
           }
          ],
          "pie": [
           {
            "automargin": true,
            "type": "pie"
           }
          ],
          "scatter": [
           {
            "fillpattern": {
             "fillmode": "overlay",
             "size": 10,
             "solidity": 0.2
            },
            "type": "scatter"
           }
          ],
          "scatter3d": [
           {
            "line": {
             "colorbar": {
              "outlinewidth": 0,
              "ticks": ""
             }
            },
            "marker": {
             "colorbar": {
              "outlinewidth": 0,
              "ticks": ""
             }
            },
            "type": "scatter3d"
           }
          ],
          "scattercarpet": [
           {
            "marker": {
             "colorbar": {
              "outlinewidth": 0,
              "ticks": ""
             }
            },
            "type": "scattercarpet"
           }
          ],
          "scattergeo": [
           {
            "marker": {
             "colorbar": {
              "outlinewidth": 0,
              "ticks": ""
             }
            },
            "type": "scattergeo"
           }
          ],
          "scattergl": [
           {
            "marker": {
             "colorbar": {
              "outlinewidth": 0,
              "ticks": ""
             }
            },
            "type": "scattergl"
           }
          ],
          "scattermap": [
           {
            "marker": {
             "colorbar": {
              "outlinewidth": 0,
              "ticks": ""
             }
            },
            "type": "scattermap"
           }
          ],
          "scattermapbox": [
           {
            "marker": {
             "colorbar": {
              "outlinewidth": 0,
              "ticks": ""
             }
            },
            "type": "scattermapbox"
           }
          ],
          "scatterpolar": [
           {
            "marker": {
             "colorbar": {
              "outlinewidth": 0,
              "ticks": ""
             }
            },
            "type": "scatterpolar"
           }
          ],
          "scatterpolargl": [
           {
            "marker": {
             "colorbar": {
              "outlinewidth": 0,
              "ticks": ""
             }
            },
            "type": "scatterpolargl"
           }
          ],
          "scatterternary": [
           {
            "marker": {
             "colorbar": {
              "outlinewidth": 0,
              "ticks": ""
             }
            },
            "type": "scatterternary"
           }
          ],
          "surface": [
           {
            "colorbar": {
             "outlinewidth": 0,
             "ticks": ""
            },
            "colorscale": [
             [
              0,
              "#0d0887"
             ],
             [
              0.1111111111111111,
              "#46039f"
             ],
             [
              0.2222222222222222,
              "#7201a8"
             ],
             [
              0.3333333333333333,
              "#9c179e"
             ],
             [
              0.4444444444444444,
              "#bd3786"
             ],
             [
              0.5555555555555556,
              "#d8576b"
             ],
             [
              0.6666666666666666,
              "#ed7953"
             ],
             [
              0.7777777777777778,
              "#fb9f3a"
             ],
             [
              0.8888888888888888,
              "#fdca26"
             ],
             [
              1,
              "#f0f921"
             ]
            ],
            "type": "surface"
           }
          ],
          "table": [
           {
            "cells": {
             "fill": {
              "color": "#EBF0F8"
             },
             "line": {
              "color": "white"
             }
            },
            "header": {
             "fill": {
              "color": "#C8D4E3"
             },
             "line": {
              "color": "white"
             }
            },
            "type": "table"
           }
          ]
         },
         "layout": {
          "annotationdefaults": {
           "arrowcolor": "#2a3f5f",
           "arrowhead": 0,
           "arrowwidth": 1
          },
          "autotypenumbers": "strict",
          "coloraxis": {
           "colorbar": {
            "outlinewidth": 0,
            "ticks": ""
           }
          },
          "colorscale": {
           "diverging": [
            [
             0,
             "#8e0152"
            ],
            [
             0.1,
             "#c51b7d"
            ],
            [
             0.2,
             "#de77ae"
            ],
            [
             0.3,
             "#f1b6da"
            ],
            [
             0.4,
             "#fde0ef"
            ],
            [
             0.5,
             "#f7f7f7"
            ],
            [
             0.6,
             "#e6f5d0"
            ],
            [
             0.7,
             "#b8e186"
            ],
            [
             0.8,
             "#7fbc41"
            ],
            [
             0.9,
             "#4d9221"
            ],
            [
             1,
             "#276419"
            ]
           ],
           "sequential": [
            [
             0,
             "#0d0887"
            ],
            [
             0.1111111111111111,
             "#46039f"
            ],
            [
             0.2222222222222222,
             "#7201a8"
            ],
            [
             0.3333333333333333,
             "#9c179e"
            ],
            [
             0.4444444444444444,
             "#bd3786"
            ],
            [
             0.5555555555555556,
             "#d8576b"
            ],
            [
             0.6666666666666666,
             "#ed7953"
            ],
            [
             0.7777777777777778,
             "#fb9f3a"
            ],
            [
             0.8888888888888888,
             "#fdca26"
            ],
            [
             1,
             "#f0f921"
            ]
           ],
           "sequentialminus": [
            [
             0,
             "#0d0887"
            ],
            [
             0.1111111111111111,
             "#46039f"
            ],
            [
             0.2222222222222222,
             "#7201a8"
            ],
            [
             0.3333333333333333,
             "#9c179e"
            ],
            [
             0.4444444444444444,
             "#bd3786"
            ],
            [
             0.5555555555555556,
             "#d8576b"
            ],
            [
             0.6666666666666666,
             "#ed7953"
            ],
            [
             0.7777777777777778,
             "#fb9f3a"
            ],
            [
             0.8888888888888888,
             "#fdca26"
            ],
            [
             1,
             "#f0f921"
            ]
           ]
          },
          "colorway": [
           "#636efa",
           "#EF553B",
           "#00cc96",
           "#ab63fa",
           "#FFA15A",
           "#19d3f3",
           "#FF6692",
           "#B6E880",
           "#FF97FF",
           "#FECB52"
          ],
          "font": {
           "color": "#2a3f5f"
          },
          "geo": {
           "bgcolor": "white",
           "lakecolor": "white",
           "landcolor": "#E5ECF6",
           "showlakes": true,
           "showland": true,
           "subunitcolor": "white"
          },
          "hoverlabel": {
           "align": "left"
          },
          "hovermode": "closest",
          "mapbox": {
           "style": "light"
          },
          "paper_bgcolor": "white",
          "plot_bgcolor": "#E5ECF6",
          "polar": {
           "angularaxis": {
            "gridcolor": "white",
            "linecolor": "white",
            "ticks": ""
           },
           "bgcolor": "#E5ECF6",
           "radialaxis": {
            "gridcolor": "white",
            "linecolor": "white",
            "ticks": ""
           }
          },
          "scene": {
           "xaxis": {
            "backgroundcolor": "#E5ECF6",
            "gridcolor": "white",
            "gridwidth": 2,
            "linecolor": "white",
            "showbackground": true,
            "ticks": "",
            "zerolinecolor": "white"
           },
           "yaxis": {
            "backgroundcolor": "#E5ECF6",
            "gridcolor": "white",
            "gridwidth": 2,
            "linecolor": "white",
            "showbackground": true,
            "ticks": "",
            "zerolinecolor": "white"
           },
           "zaxis": {
            "backgroundcolor": "#E5ECF6",
            "gridcolor": "white",
            "gridwidth": 2,
            "linecolor": "white",
            "showbackground": true,
            "ticks": "",
            "zerolinecolor": "white"
           }
          },
          "shapedefaults": {
           "line": {
            "color": "#2a3f5f"
           }
          },
          "ternary": {
           "aaxis": {
            "gridcolor": "white",
            "linecolor": "white",
            "ticks": ""
           },
           "baxis": {
            "gridcolor": "white",
            "linecolor": "white",
            "ticks": ""
           },
           "bgcolor": "#E5ECF6",
           "caxis": {
            "gridcolor": "white",
            "linecolor": "white",
            "ticks": ""
           }
          },
          "title": {
           "x": 0.05
          },
          "xaxis": {
           "automargin": true,
           "gridcolor": "white",
           "linecolor": "white",
           "ticks": "",
           "title": {
            "standoff": 15
           },
           "zerolinecolor": "white",
           "zerolinewidth": 2
          },
          "yaxis": {
           "automargin": true,
           "gridcolor": "white",
           "linecolor": "white",
           "ticks": "",
           "title": {
            "standoff": 15
           },
           "zerolinecolor": "white",
           "zerolinewidth": 2
          }
         }
        },
        "title": {
         "text": "Death-rate per TWh produced per energy source"
        },
        "xaxis": {
         "anchor": "y",
         "domain": [
          0,
          1
         ],
         "title": {
          "text": "Energy production method"
         }
        },
        "yaxis": {
         "anchor": "x",
         "domain": [
          0,
          1
         ],
         "title": {
          "text": "Deaths per TWh"
         }
        }
       }
      }
     },
     "metadata": {},
     "output_type": "display_data"
    }
   ],
   "source": [
    "fig = px.bar(\n",
    "    deaths_df,\n",
    "    x='Entity',\n",
    "    y='Deaths per TWh of electricity production',\n",
    "    color='Deaths per TWh of electricity production',\n",
    "    color_continuous_scale='RdYlGn_r'  # correcte naam\n",
    ")\n",
    "\n",
    "fig.update_layout(\n",
    "    title=\"Death-rate per TWh produced per energy source\",\n",
    "    xaxis_title=\"Energy production method\",\n",
    "    yaxis_title=\"Deaths per TWh\",\n",
    "    coloraxis_showscale=False,\n",
    ")\n",
    "\n",
    "fig.show()"
   ]
  },
  {
   "cell_type": "markdown",
   "id": "ce819d01",
   "metadata": {},
   "source": [
    "We see that the death rate for nuclear (and also wind and solar) energy is gigantically smaller than that of fossil fuels. This could be because the work safety regulations are far worse for fossil fuels. This means that overal nuclear energy is far saver than fossil fuels."
   ]
  },
  {
   "cell_type": "markdown",
   "id": "546fd8d0",
   "metadata": {},
   "source": [
    "## Nuclear Waste\n",
    "\n",
    "An important aspect of nuclear energy is nuclear waste. Nuclear reactors produce highly radioactive waste that needs to be stored for decades on end. In this section we will focus on radioactive waste and how the creation of radioactive waste is increasing. The data in this section is from the **U.S. Energy Information Administration**. This means that this section does not represent the whole globe but only the **U.S.**.\n",
    "\n",
    "This section is linked to perspective 2.\n",
    "\n",
    "### Average Burnup\n",
    "\n",
    "The 'burnup' of a nuclear reactor is a term for the efficiency of a reactor in GigaWatt days per metric ton of uranium (GWd / MTU). The first graph shows the average burnup of powerplants in the U.S. through time."
   ]
  },
  {
   "cell_type": "code",
   "execution_count": 11,
   "id": "4d903a27",
   "metadata": {},
   "outputs": [],
   "source": [
    "# data from https://www.eia.gov/nuclear/spent_fuel/ussnftab3.php\n",
    "waste_df = pd.read_csv('nuclear_data/nuclear_spent_fuel.csv')"
   ]
  },
  {
   "cell_type": "code",
   "execution_count": 12,
   "id": "2bf3e387",
   "metadata": {},
   "outputs": [],
   "source": [
    "# calulate average burnup per year\n",
    "waste_df['total_average_burnup'] = (\n",
    "    (\n",
    "        (waste_df['bwr_average_burnup'] * waste_df['bwr_tons_uranium']) +\n",
    "        (waste_df['pwr_average_burnup'] * waste_df['pwr_tons_uranium'])\n",
    "    ) /\n",
    "    (waste_df['bwr_tons_uranium'] + waste_df['pwr_tons_uranium'])\n",
    ")"
   ]
  },
  {
   "cell_type": "code",
   "execution_count": 13,
   "id": "e62b1797",
   "metadata": {},
   "outputs": [
    {
     "data": {
      "application/vnd.plotly.v1+json": {
       "config": {
        "plotlyServerURL": "https://plot.ly"
       },
       "data": [
        {
         "line": {
          "color": "#7fc97f"
         },
         "mode": "lines+markers",
         "name": "Boiling water reactor",
         "type": "scatter",
         "x": {
          "bdata": "sAexB7IHswe0B7UHtge3B7gHuQe6B7sHvAe9B74HvwfAB8EHwgfDB8QHxQfGB8cHyAfJB8oHywfMB80HzgfPB9AH0QfSB9MH1AfVB9YH1wfYB9kH2gfbB9wH3QfeB98H4AfhBw==",
          "dtype": "i2"
         },
         "y": {
          "bdata": "AAAAAAAAAAAzMzMzM7MwQDMzMzMzM9M/mpmZmZmZIEAzMzMzMzMbQGZmZmZmZipAMzMzMzMzKkCamZmZmRkxQDMzMzMzMytAAAAAAAAAMUDNzMzMzMwzQAAAAAAAgDZAAAAAAACANkCamZmZmRk4QGZmZmZm5jhAmpmZmZkZO0BmZmZmZuY5QJqZmZmZmTdAmpmZmZkZNUAzMzMzM7M2QAAAAAAAgDhAZmZmZmZmNkBmZmZmZmY5QDMzMzMzMzxAZmZmZmbmPEDNzMzMzEw+QJqZmZmZmUBAZmZmZmZmQECamZmZmZlBQAAAAAAAwEFAmpmZmZkZQkCamZmZmdlBQGZmZmZmJkNAzczMzMwMRECamZmZmRlEQAAAAAAAwENAZmZmZmZmRUBmZmZmZmZFQM3MzMzMjEVAZmZmZmamRUDNzMzMzIxFQM3MzMzMjEZAZmZmZmYmRkDNzMzMzIxGQAAAAAAAgEZAZmZmZmZmRkDNzMzMzAxGQDMzMzMz80ZAmpmZmZmZRkAzMzMzMzNHQA==",
          "dtype": "f8"
         }
        },
        {
         "line": {
          "color": "#fdc086"
         },
         "mode": "lines+markers",
         "name": "Presurised water reactor",
         "type": "scatter",
         "x": {
          "bdata": "sAexB7IHswe0B7UHtge3B7gHuQe6B7sHvAe9B74HvwfAB8EHwgfDB8QHxQfGB8cHyAfJB8oHywfMB80HzgfPB9AH0QfSB9MH1AfVB9YH1wfYB9kH2gfbB9wH3QfeB98H4AfhBw==",
          "dtype": "i2"
         },
         "y": {
          "bdata": "AAAAAAAAAAAAAAAAAAAAAGZmZmZmZjJAMzMzMzOzOUDNzMzMzEw3QJqZmZmZGThAZmZmZmZmMkAzMzMzMzMyQGZmZmZmZjZAMzMzMzMzOUDNzMzMzEw6QJqZmZmZGTtAzczMzMzMPUDNzMzMzEw+QDMzMzMzsz1AzczMzMxMPkAAAAAAAIA9QAAAAAAAAEBAzczMzMzMPkAAAAAAAIA/QJqZmZmZ2UBAmpmZmZlZQEDNzMzMzExBQJqZmZmZ2UFAZmZmZmZmQkCamZmZmZlDQDMzMzMzM0RAMzMzMzNzREDNzMzMzIxDQM3MzMzMTERAzczMzMwMRkCamZmZmRlGQDMzMzMzc0ZAAAAAAADARkAAAAAAAABHQDMzMzMzM0dAMzMzMzNzR0DNzMzMzExHQDMzMzMzc0dAMzMzMzNzR0CamZmZmZlHQAAAAAAAQEdAZmZmZmZmR0BmZmZmZmZHQM3MzMzMTEZAzczMzMzMRkAAAAAAAIBHQJqZmZmZWUdAZmZmZmYmR0CamZmZmRlHQA==",
          "dtype": "f8"
         }
        },
        {
         "line": {
          "color": "#beaed4"
         },
         "mode": "lines+markers",
         "name": "Total",
         "type": "scatter",
         "x": {
          "bdata": "sAexB7IHswe0B7UHtge3B7gHuQe6B7sHvAe9B74HvwfAB8EHwgfDB8QHxQfGB8cHyAfJB8oHywfMB80HzgfPB9AH0QfSB9MH1AfVB9YH1wfYB9kH2gfbB9wH3QfeB98H4AfhBw==",
          "dtype": "i2"
         },
         "y": {
          "bdata": "AAAAAAAA+P8zMzMzM7MwQGoX7kmaIDBAF1nQ9Mj2LUCWZBNJaUkqQF6G869T3jFAgE3CDSEZL0BeOk2ye74xQMEADU8UoDJAnjiqJb55NUArsbDltf43QIvq8IrqcDlAa2Z60KkkOkBO37W9AsE7QJOn+i59+ztAks+3VEYRPUAwBsRj6ig8QKOQIyqyvzxAQKN3v9+1O0BATc/BbWY8QED1AT9QrT5AM1A0WQ3nPEDRLPkggbM/QCqo6Fq8t0BAEelUVMEmQUD1xawoMDNCQBlJIVnO4kJA3m0H1uciQ0DIGf7LR9xCQG1H4OMtgENAPlF6kU1nREA21TSj7rZEQMDVmApeO0VApqqNOyjcRUD96I1VER1GQMDo4wIVC0ZAjed2GjejRkBypItVZrlGQFjIAVMu20ZAG2M9I7G8RkCcHeytCedGQNJglyrNBUdASArtthrnRkB+PNhc7CFHQJvJFBe1XUZAyq8ohpSlRkCNw+l3af1GQGi/ltuIOEdAW32d/9LwRkCWIHoIBSJHQA==",
          "dtype": "f8"
         }
        }
       ],
       "layout": {
        "template": {
         "data": {
          "bar": [
           {
            "error_x": {
             "color": "#2a3f5f"
            },
            "error_y": {
             "color": "#2a3f5f"
            },
            "marker": {
             "line": {
              "color": "#E5ECF6",
              "width": 0.5
             },
             "pattern": {
              "fillmode": "overlay",
              "size": 10,
              "solidity": 0.2
             }
            },
            "type": "bar"
           }
          ],
          "barpolar": [
           {
            "marker": {
             "line": {
              "color": "#E5ECF6",
              "width": 0.5
             },
             "pattern": {
              "fillmode": "overlay",
              "size": 10,
              "solidity": 0.2
             }
            },
            "type": "barpolar"
           }
          ],
          "carpet": [
           {
            "aaxis": {
             "endlinecolor": "#2a3f5f",
             "gridcolor": "white",
             "linecolor": "white",
             "minorgridcolor": "white",
             "startlinecolor": "#2a3f5f"
            },
            "baxis": {
             "endlinecolor": "#2a3f5f",
             "gridcolor": "white",
             "linecolor": "white",
             "minorgridcolor": "white",
             "startlinecolor": "#2a3f5f"
            },
            "type": "carpet"
           }
          ],
          "choropleth": [
           {
            "colorbar": {
             "outlinewidth": 0,
             "ticks": ""
            },
            "type": "choropleth"
           }
          ],
          "contour": [
           {
            "colorbar": {
             "outlinewidth": 0,
             "ticks": ""
            },
            "colorscale": [
             [
              0,
              "#0d0887"
             ],
             [
              0.1111111111111111,
              "#46039f"
             ],
             [
              0.2222222222222222,
              "#7201a8"
             ],
             [
              0.3333333333333333,
              "#9c179e"
             ],
             [
              0.4444444444444444,
              "#bd3786"
             ],
             [
              0.5555555555555556,
              "#d8576b"
             ],
             [
              0.6666666666666666,
              "#ed7953"
             ],
             [
              0.7777777777777778,
              "#fb9f3a"
             ],
             [
              0.8888888888888888,
              "#fdca26"
             ],
             [
              1,
              "#f0f921"
             ]
            ],
            "type": "contour"
           }
          ],
          "contourcarpet": [
           {
            "colorbar": {
             "outlinewidth": 0,
             "ticks": ""
            },
            "type": "contourcarpet"
           }
          ],
          "heatmap": [
           {
            "colorbar": {
             "outlinewidth": 0,
             "ticks": ""
            },
            "colorscale": [
             [
              0,
              "#0d0887"
             ],
             [
              0.1111111111111111,
              "#46039f"
             ],
             [
              0.2222222222222222,
              "#7201a8"
             ],
             [
              0.3333333333333333,
              "#9c179e"
             ],
             [
              0.4444444444444444,
              "#bd3786"
             ],
             [
              0.5555555555555556,
              "#d8576b"
             ],
             [
              0.6666666666666666,
              "#ed7953"
             ],
             [
              0.7777777777777778,
              "#fb9f3a"
             ],
             [
              0.8888888888888888,
              "#fdca26"
             ],
             [
              1,
              "#f0f921"
             ]
            ],
            "type": "heatmap"
           }
          ],
          "histogram": [
           {
            "marker": {
             "pattern": {
              "fillmode": "overlay",
              "size": 10,
              "solidity": 0.2
             }
            },
            "type": "histogram"
           }
          ],
          "histogram2d": [
           {
            "colorbar": {
             "outlinewidth": 0,
             "ticks": ""
            },
            "colorscale": [
             [
              0,
              "#0d0887"
             ],
             [
              0.1111111111111111,
              "#46039f"
             ],
             [
              0.2222222222222222,
              "#7201a8"
             ],
             [
              0.3333333333333333,
              "#9c179e"
             ],
             [
              0.4444444444444444,
              "#bd3786"
             ],
             [
              0.5555555555555556,
              "#d8576b"
             ],
             [
              0.6666666666666666,
              "#ed7953"
             ],
             [
              0.7777777777777778,
              "#fb9f3a"
             ],
             [
              0.8888888888888888,
              "#fdca26"
             ],
             [
              1,
              "#f0f921"
             ]
            ],
            "type": "histogram2d"
           }
          ],
          "histogram2dcontour": [
           {
            "colorbar": {
             "outlinewidth": 0,
             "ticks": ""
            },
            "colorscale": [
             [
              0,
              "#0d0887"
             ],
             [
              0.1111111111111111,
              "#46039f"
             ],
             [
              0.2222222222222222,
              "#7201a8"
             ],
             [
              0.3333333333333333,
              "#9c179e"
             ],
             [
              0.4444444444444444,
              "#bd3786"
             ],
             [
              0.5555555555555556,
              "#d8576b"
             ],
             [
              0.6666666666666666,
              "#ed7953"
             ],
             [
              0.7777777777777778,
              "#fb9f3a"
             ],
             [
              0.8888888888888888,
              "#fdca26"
             ],
             [
              1,
              "#f0f921"
             ]
            ],
            "type": "histogram2dcontour"
           }
          ],
          "mesh3d": [
           {
            "colorbar": {
             "outlinewidth": 0,
             "ticks": ""
            },
            "type": "mesh3d"
           }
          ],
          "parcoords": [
           {
            "line": {
             "colorbar": {
              "outlinewidth": 0,
              "ticks": ""
             }
            },
            "type": "parcoords"
           }
          ],
          "pie": [
           {
            "automargin": true,
            "type": "pie"
           }
          ],
          "scatter": [
           {
            "fillpattern": {
             "fillmode": "overlay",
             "size": 10,
             "solidity": 0.2
            },
            "type": "scatter"
           }
          ],
          "scatter3d": [
           {
            "line": {
             "colorbar": {
              "outlinewidth": 0,
              "ticks": ""
             }
            },
            "marker": {
             "colorbar": {
              "outlinewidth": 0,
              "ticks": ""
             }
            },
            "type": "scatter3d"
           }
          ],
          "scattercarpet": [
           {
            "marker": {
             "colorbar": {
              "outlinewidth": 0,
              "ticks": ""
             }
            },
            "type": "scattercarpet"
           }
          ],
          "scattergeo": [
           {
            "marker": {
             "colorbar": {
              "outlinewidth": 0,
              "ticks": ""
             }
            },
            "type": "scattergeo"
           }
          ],
          "scattergl": [
           {
            "marker": {
             "colorbar": {
              "outlinewidth": 0,
              "ticks": ""
             }
            },
            "type": "scattergl"
           }
          ],
          "scattermap": [
           {
            "marker": {
             "colorbar": {
              "outlinewidth": 0,
              "ticks": ""
             }
            },
            "type": "scattermap"
           }
          ],
          "scattermapbox": [
           {
            "marker": {
             "colorbar": {
              "outlinewidth": 0,
              "ticks": ""
             }
            },
            "type": "scattermapbox"
           }
          ],
          "scatterpolar": [
           {
            "marker": {
             "colorbar": {
              "outlinewidth": 0,
              "ticks": ""
             }
            },
            "type": "scatterpolar"
           }
          ],
          "scatterpolargl": [
           {
            "marker": {
             "colorbar": {
              "outlinewidth": 0,
              "ticks": ""
             }
            },
            "type": "scatterpolargl"
           }
          ],
          "scatterternary": [
           {
            "marker": {
             "colorbar": {
              "outlinewidth": 0,
              "ticks": ""
             }
            },
            "type": "scatterternary"
           }
          ],
          "surface": [
           {
            "colorbar": {
             "outlinewidth": 0,
             "ticks": ""
            },
            "colorscale": [
             [
              0,
              "#0d0887"
             ],
             [
              0.1111111111111111,
              "#46039f"
             ],
             [
              0.2222222222222222,
              "#7201a8"
             ],
             [
              0.3333333333333333,
              "#9c179e"
             ],
             [
              0.4444444444444444,
              "#bd3786"
             ],
             [
              0.5555555555555556,
              "#d8576b"
             ],
             [
              0.6666666666666666,
              "#ed7953"
             ],
             [
              0.7777777777777778,
              "#fb9f3a"
             ],
             [
              0.8888888888888888,
              "#fdca26"
             ],
             [
              1,
              "#f0f921"
             ]
            ],
            "type": "surface"
           }
          ],
          "table": [
           {
            "cells": {
             "fill": {
              "color": "#EBF0F8"
             },
             "line": {
              "color": "white"
             }
            },
            "header": {
             "fill": {
              "color": "#C8D4E3"
             },
             "line": {
              "color": "white"
             }
            },
            "type": "table"
           }
          ]
         },
         "layout": {
          "annotationdefaults": {
           "arrowcolor": "#2a3f5f",
           "arrowhead": 0,
           "arrowwidth": 1
          },
          "autotypenumbers": "strict",
          "coloraxis": {
           "colorbar": {
            "outlinewidth": 0,
            "ticks": ""
           }
          },
          "colorscale": {
           "diverging": [
            [
             0,
             "#8e0152"
            ],
            [
             0.1,
             "#c51b7d"
            ],
            [
             0.2,
             "#de77ae"
            ],
            [
             0.3,
             "#f1b6da"
            ],
            [
             0.4,
             "#fde0ef"
            ],
            [
             0.5,
             "#f7f7f7"
            ],
            [
             0.6,
             "#e6f5d0"
            ],
            [
             0.7,
             "#b8e186"
            ],
            [
             0.8,
             "#7fbc41"
            ],
            [
             0.9,
             "#4d9221"
            ],
            [
             1,
             "#276419"
            ]
           ],
           "sequential": [
            [
             0,
             "#0d0887"
            ],
            [
             0.1111111111111111,
             "#46039f"
            ],
            [
             0.2222222222222222,
             "#7201a8"
            ],
            [
             0.3333333333333333,
             "#9c179e"
            ],
            [
             0.4444444444444444,
             "#bd3786"
            ],
            [
             0.5555555555555556,
             "#d8576b"
            ],
            [
             0.6666666666666666,
             "#ed7953"
            ],
            [
             0.7777777777777778,
             "#fb9f3a"
            ],
            [
             0.8888888888888888,
             "#fdca26"
            ],
            [
             1,
             "#f0f921"
            ]
           ],
           "sequentialminus": [
            [
             0,
             "#0d0887"
            ],
            [
             0.1111111111111111,
             "#46039f"
            ],
            [
             0.2222222222222222,
             "#7201a8"
            ],
            [
             0.3333333333333333,
             "#9c179e"
            ],
            [
             0.4444444444444444,
             "#bd3786"
            ],
            [
             0.5555555555555556,
             "#d8576b"
            ],
            [
             0.6666666666666666,
             "#ed7953"
            ],
            [
             0.7777777777777778,
             "#fb9f3a"
            ],
            [
             0.8888888888888888,
             "#fdca26"
            ],
            [
             1,
             "#f0f921"
            ]
           ]
          },
          "colorway": [
           "#636efa",
           "#EF553B",
           "#00cc96",
           "#ab63fa",
           "#FFA15A",
           "#19d3f3",
           "#FF6692",
           "#B6E880",
           "#FF97FF",
           "#FECB52"
          ],
          "font": {
           "color": "#2a3f5f"
          },
          "geo": {
           "bgcolor": "white",
           "lakecolor": "white",
           "landcolor": "#E5ECF6",
           "showlakes": true,
           "showland": true,
           "subunitcolor": "white"
          },
          "hoverlabel": {
           "align": "left"
          },
          "hovermode": "closest",
          "mapbox": {
           "style": "light"
          },
          "paper_bgcolor": "white",
          "plot_bgcolor": "#E5ECF6",
          "polar": {
           "angularaxis": {
            "gridcolor": "white",
            "linecolor": "white",
            "ticks": ""
           },
           "bgcolor": "#E5ECF6",
           "radialaxis": {
            "gridcolor": "white",
            "linecolor": "white",
            "ticks": ""
           }
          },
          "scene": {
           "xaxis": {
            "backgroundcolor": "#E5ECF6",
            "gridcolor": "white",
            "gridwidth": 2,
            "linecolor": "white",
            "showbackground": true,
            "ticks": "",
            "zerolinecolor": "white"
           },
           "yaxis": {
            "backgroundcolor": "#E5ECF6",
            "gridcolor": "white",
            "gridwidth": 2,
            "linecolor": "white",
            "showbackground": true,
            "ticks": "",
            "zerolinecolor": "white"
           },
           "zaxis": {
            "backgroundcolor": "#E5ECF6",
            "gridcolor": "white",
            "gridwidth": 2,
            "linecolor": "white",
            "showbackground": true,
            "ticks": "",
            "zerolinecolor": "white"
           }
          },
          "shapedefaults": {
           "line": {
            "color": "#2a3f5f"
           }
          },
          "ternary": {
           "aaxis": {
            "gridcolor": "white",
            "linecolor": "white",
            "ticks": ""
           },
           "baxis": {
            "gridcolor": "white",
            "linecolor": "white",
            "ticks": ""
           },
           "bgcolor": "#E5ECF6",
           "caxis": {
            "gridcolor": "white",
            "linecolor": "white",
            "ticks": ""
           }
          },
          "title": {
           "x": 0.05
          },
          "xaxis": {
           "automargin": true,
           "gridcolor": "white",
           "linecolor": "white",
           "ticks": "",
           "title": {
            "standoff": 15
           },
           "zerolinecolor": "white",
           "zerolinewidth": 2
          },
          "yaxis": {
           "automargin": true,
           "gridcolor": "white",
           "linecolor": "white",
           "ticks": "",
           "title": {
            "standoff": 15
           },
           "zerolinecolor": "white",
           "zerolinewidth": 2
          }
         }
        },
        "title": {
         "text": "Average Burnup per reactor method"
        },
        "xaxis": {
         "title": {
          "text": "Year"
         }
        },
        "yaxis": {
         "title": {
          "text": "Burnup (GWd/MTU)"
         }
        }
       }
      }
     },
     "metadata": {},
     "output_type": "display_data"
    }
   ],
   "source": [
    "fig = go.Figure()\n",
    "\n",
    "fig.add_trace(\n",
    "    go.Scatter(\n",
    "        x=waste_df['year'],\n",
    "        y=waste_df['bwr_average_burnup'],\n",
    "        name='Boiling water reactor',\n",
    "        mode='lines+markers',\n",
    "        line=dict(\n",
    "            color=\"#7fc97f\"\n",
    "        ),\n",
    "    )\n",
    ")\n",
    "\n",
    "fig.add_trace(\n",
    "    go.Scatter(\n",
    "        x=waste_df['year'],\n",
    "        y=waste_df['pwr_average_burnup'],\n",
    "        name='Presurised water reactor',\n",
    "        mode='lines+markers',\n",
    "        line=dict(\n",
    "            color=\"#fdc086\"\n",
    "        ),\n",
    "    )\n",
    ")\n",
    "\n",
    "fig.add_trace(\n",
    "    go.Scatter(\n",
    "        x=waste_df['year'],\n",
    "        y=waste_df['total_average_burnup'],\n",
    "        name='Total',\n",
    "        mode='lines+markers',\n",
    "        line=dict(\n",
    "            color=\"#beaed4\"\n",
    "        ),\n",
    "    )\n",
    ")\n",
    "\n",
    "fig.update_layout(\n",
    "    title=\"Average Burnup per reactor method\",\n",
    "    xaxis_title=\"Year\",\n",
    "    yaxis_title=\"Burnup (GWd/MTU)\",\n",
    ")\n",
    "\n",
    "fig.show()"
   ]
  },
  {
   "cell_type": "markdown",
   "id": "9d38c0ea",
   "metadata": {},
   "source": [
    "We see that the efficiency of the reactors increases from the 1970s tot the mid 2000s. In the mid 2000s however, the efficiency seems to plateu around 45 GWd/MTU\n",
    "\n",
    "### Amount of Uranium consumed\n",
    "\n",
    "The following two graphs show the amount of uranium used in the U.S. per year and the total amount of uranium in containment in the U.S."
   ]
  },
  {
   "cell_type": "code",
   "execution_count": 14,
   "id": "50680eb6",
   "metadata": {},
   "outputs": [
    {
     "data": {
      "application/vnd.plotly.v1+json": {
       "config": {
        "plotlyServerURL": "https://plot.ly"
       },
       "data": [
        {
         "line": {
          "color": "#298f0d"
         },
         "mode": "lines+markers",
         "type": "scatter",
         "x": {
          "bdata": "sAexB7IHswe0B7UHtge3B7gHuQe6B7sHvAe9B74HvwfAB8EHwgfDB8QHxQfGB8cHyAfJB8oHywfMB80HzgfPB9AH0QfSB9MH1AfVB9YH1wfYB9kH2gfbB9wH3QfeB98H4AfhBw==",
          "dtype": "i2"
         },
         "y": {
          "bdata": "AAAAAAAAAAAzMzMzMzMjQM3MzMzMTEZAmpmZmZn5WUDNzMzMzJxsQAAAAAAAsGNAZmZmZmbee0BmZmZmZgKBQGZmZmZmroVAZmZmZmZWikAAAAAAAOiQQGZmZmZmUpFAAAAAAABWk0AAAAAAAHSRQM3MzMzMKI9AMzMzMzOLk0DNzMzMzOSUQAAAAAAA6JVAmpmZmZlzlkAAAAAAAHKaQGZmZmZmdJlAmpmZmZlRnUCamZmZmeKgQDMzMzMzR5tAzczMzMyfoUAzMzMzM9agQAAAAAAA8JxAAAAAAADNokDNzMzMzEeiQJqZmZmZyqBAZmZmZmbwmECamZmZmQeiQM3MzMzM8KBAZmZmZmaQnUAAAAAAAFeiQM3MzMzMeaJAMzMzMzMrnkAAAAAAADqiQDMzMzMzdaFAAAAAAADKn0AAAAAAAESiQGZmZmZmq6JAMzMzMzMdoEBmZmZmZhOiQJqZmZmZ1aJAzczMzMxSnkDNzMzMzEaiQAAAAAAAwaFAzczMzMzEnkAzMzMzM8WhQA==",
          "dtype": "f8"
         }
        }
       ],
       "layout": {
        "template": {
         "data": {
          "bar": [
           {
            "error_x": {
             "color": "#2a3f5f"
            },
            "error_y": {
             "color": "#2a3f5f"
            },
            "marker": {
             "line": {
              "color": "#E5ECF6",
              "width": 0.5
             },
             "pattern": {
              "fillmode": "overlay",
              "size": 10,
              "solidity": 0.2
             }
            },
            "type": "bar"
           }
          ],
          "barpolar": [
           {
            "marker": {
             "line": {
              "color": "#E5ECF6",
              "width": 0.5
             },
             "pattern": {
              "fillmode": "overlay",
              "size": 10,
              "solidity": 0.2
             }
            },
            "type": "barpolar"
           }
          ],
          "carpet": [
           {
            "aaxis": {
             "endlinecolor": "#2a3f5f",
             "gridcolor": "white",
             "linecolor": "white",
             "minorgridcolor": "white",
             "startlinecolor": "#2a3f5f"
            },
            "baxis": {
             "endlinecolor": "#2a3f5f",
             "gridcolor": "white",
             "linecolor": "white",
             "minorgridcolor": "white",
             "startlinecolor": "#2a3f5f"
            },
            "type": "carpet"
           }
          ],
          "choropleth": [
           {
            "colorbar": {
             "outlinewidth": 0,
             "ticks": ""
            },
            "type": "choropleth"
           }
          ],
          "contour": [
           {
            "colorbar": {
             "outlinewidth": 0,
             "ticks": ""
            },
            "colorscale": [
             [
              0,
              "#0d0887"
             ],
             [
              0.1111111111111111,
              "#46039f"
             ],
             [
              0.2222222222222222,
              "#7201a8"
             ],
             [
              0.3333333333333333,
              "#9c179e"
             ],
             [
              0.4444444444444444,
              "#bd3786"
             ],
             [
              0.5555555555555556,
              "#d8576b"
             ],
             [
              0.6666666666666666,
              "#ed7953"
             ],
             [
              0.7777777777777778,
              "#fb9f3a"
             ],
             [
              0.8888888888888888,
              "#fdca26"
             ],
             [
              1,
              "#f0f921"
             ]
            ],
            "type": "contour"
           }
          ],
          "contourcarpet": [
           {
            "colorbar": {
             "outlinewidth": 0,
             "ticks": ""
            },
            "type": "contourcarpet"
           }
          ],
          "heatmap": [
           {
            "colorbar": {
             "outlinewidth": 0,
             "ticks": ""
            },
            "colorscale": [
             [
              0,
              "#0d0887"
             ],
             [
              0.1111111111111111,
              "#46039f"
             ],
             [
              0.2222222222222222,
              "#7201a8"
             ],
             [
              0.3333333333333333,
              "#9c179e"
             ],
             [
              0.4444444444444444,
              "#bd3786"
             ],
             [
              0.5555555555555556,
              "#d8576b"
             ],
             [
              0.6666666666666666,
              "#ed7953"
             ],
             [
              0.7777777777777778,
              "#fb9f3a"
             ],
             [
              0.8888888888888888,
              "#fdca26"
             ],
             [
              1,
              "#f0f921"
             ]
            ],
            "type": "heatmap"
           }
          ],
          "histogram": [
           {
            "marker": {
             "pattern": {
              "fillmode": "overlay",
              "size": 10,
              "solidity": 0.2
             }
            },
            "type": "histogram"
           }
          ],
          "histogram2d": [
           {
            "colorbar": {
             "outlinewidth": 0,
             "ticks": ""
            },
            "colorscale": [
             [
              0,
              "#0d0887"
             ],
             [
              0.1111111111111111,
              "#46039f"
             ],
             [
              0.2222222222222222,
              "#7201a8"
             ],
             [
              0.3333333333333333,
              "#9c179e"
             ],
             [
              0.4444444444444444,
              "#bd3786"
             ],
             [
              0.5555555555555556,
              "#d8576b"
             ],
             [
              0.6666666666666666,
              "#ed7953"
             ],
             [
              0.7777777777777778,
              "#fb9f3a"
             ],
             [
              0.8888888888888888,
              "#fdca26"
             ],
             [
              1,
              "#f0f921"
             ]
            ],
            "type": "histogram2d"
           }
          ],
          "histogram2dcontour": [
           {
            "colorbar": {
             "outlinewidth": 0,
             "ticks": ""
            },
            "colorscale": [
             [
              0,
              "#0d0887"
             ],
             [
              0.1111111111111111,
              "#46039f"
             ],
             [
              0.2222222222222222,
              "#7201a8"
             ],
             [
              0.3333333333333333,
              "#9c179e"
             ],
             [
              0.4444444444444444,
              "#bd3786"
             ],
             [
              0.5555555555555556,
              "#d8576b"
             ],
             [
              0.6666666666666666,
              "#ed7953"
             ],
             [
              0.7777777777777778,
              "#fb9f3a"
             ],
             [
              0.8888888888888888,
              "#fdca26"
             ],
             [
              1,
              "#f0f921"
             ]
            ],
            "type": "histogram2dcontour"
           }
          ],
          "mesh3d": [
           {
            "colorbar": {
             "outlinewidth": 0,
             "ticks": ""
            },
            "type": "mesh3d"
           }
          ],
          "parcoords": [
           {
            "line": {
             "colorbar": {
              "outlinewidth": 0,
              "ticks": ""
             }
            },
            "type": "parcoords"
           }
          ],
          "pie": [
           {
            "automargin": true,
            "type": "pie"
           }
          ],
          "scatter": [
           {
            "fillpattern": {
             "fillmode": "overlay",
             "size": 10,
             "solidity": 0.2
            },
            "type": "scatter"
           }
          ],
          "scatter3d": [
           {
            "line": {
             "colorbar": {
              "outlinewidth": 0,
              "ticks": ""
             }
            },
            "marker": {
             "colorbar": {
              "outlinewidth": 0,
              "ticks": ""
             }
            },
            "type": "scatter3d"
           }
          ],
          "scattercarpet": [
           {
            "marker": {
             "colorbar": {
              "outlinewidth": 0,
              "ticks": ""
             }
            },
            "type": "scattercarpet"
           }
          ],
          "scattergeo": [
           {
            "marker": {
             "colorbar": {
              "outlinewidth": 0,
              "ticks": ""
             }
            },
            "type": "scattergeo"
           }
          ],
          "scattergl": [
           {
            "marker": {
             "colorbar": {
              "outlinewidth": 0,
              "ticks": ""
             }
            },
            "type": "scattergl"
           }
          ],
          "scattermap": [
           {
            "marker": {
             "colorbar": {
              "outlinewidth": 0,
              "ticks": ""
             }
            },
            "type": "scattermap"
           }
          ],
          "scattermapbox": [
           {
            "marker": {
             "colorbar": {
              "outlinewidth": 0,
              "ticks": ""
             }
            },
            "type": "scattermapbox"
           }
          ],
          "scatterpolar": [
           {
            "marker": {
             "colorbar": {
              "outlinewidth": 0,
              "ticks": ""
             }
            },
            "type": "scatterpolar"
           }
          ],
          "scatterpolargl": [
           {
            "marker": {
             "colorbar": {
              "outlinewidth": 0,
              "ticks": ""
             }
            },
            "type": "scatterpolargl"
           }
          ],
          "scatterternary": [
           {
            "marker": {
             "colorbar": {
              "outlinewidth": 0,
              "ticks": ""
             }
            },
            "type": "scatterternary"
           }
          ],
          "surface": [
           {
            "colorbar": {
             "outlinewidth": 0,
             "ticks": ""
            },
            "colorscale": [
             [
              0,
              "#0d0887"
             ],
             [
              0.1111111111111111,
              "#46039f"
             ],
             [
              0.2222222222222222,
              "#7201a8"
             ],
             [
              0.3333333333333333,
              "#9c179e"
             ],
             [
              0.4444444444444444,
              "#bd3786"
             ],
             [
              0.5555555555555556,
              "#d8576b"
             ],
             [
              0.6666666666666666,
              "#ed7953"
             ],
             [
              0.7777777777777778,
              "#fb9f3a"
             ],
             [
              0.8888888888888888,
              "#fdca26"
             ],
             [
              1,
              "#f0f921"
             ]
            ],
            "type": "surface"
           }
          ],
          "table": [
           {
            "cells": {
             "fill": {
              "color": "#EBF0F8"
             },
             "line": {
              "color": "white"
             }
            },
            "header": {
             "fill": {
              "color": "#C8D4E3"
             },
             "line": {
              "color": "white"
             }
            },
            "type": "table"
           }
          ]
         },
         "layout": {
          "annotationdefaults": {
           "arrowcolor": "#2a3f5f",
           "arrowhead": 0,
           "arrowwidth": 1
          },
          "autotypenumbers": "strict",
          "coloraxis": {
           "colorbar": {
            "outlinewidth": 0,
            "ticks": ""
           }
          },
          "colorscale": {
           "diverging": [
            [
             0,
             "#8e0152"
            ],
            [
             0.1,
             "#c51b7d"
            ],
            [
             0.2,
             "#de77ae"
            ],
            [
             0.3,
             "#f1b6da"
            ],
            [
             0.4,
             "#fde0ef"
            ],
            [
             0.5,
             "#f7f7f7"
            ],
            [
             0.6,
             "#e6f5d0"
            ],
            [
             0.7,
             "#b8e186"
            ],
            [
             0.8,
             "#7fbc41"
            ],
            [
             0.9,
             "#4d9221"
            ],
            [
             1,
             "#276419"
            ]
           ],
           "sequential": [
            [
             0,
             "#0d0887"
            ],
            [
             0.1111111111111111,
             "#46039f"
            ],
            [
             0.2222222222222222,
             "#7201a8"
            ],
            [
             0.3333333333333333,
             "#9c179e"
            ],
            [
             0.4444444444444444,
             "#bd3786"
            ],
            [
             0.5555555555555556,
             "#d8576b"
            ],
            [
             0.6666666666666666,
             "#ed7953"
            ],
            [
             0.7777777777777778,
             "#fb9f3a"
            ],
            [
             0.8888888888888888,
             "#fdca26"
            ],
            [
             1,
             "#f0f921"
            ]
           ],
           "sequentialminus": [
            [
             0,
             "#0d0887"
            ],
            [
             0.1111111111111111,
             "#46039f"
            ],
            [
             0.2222222222222222,
             "#7201a8"
            ],
            [
             0.3333333333333333,
             "#9c179e"
            ],
            [
             0.4444444444444444,
             "#bd3786"
            ],
            [
             0.5555555555555556,
             "#d8576b"
            ],
            [
             0.6666666666666666,
             "#ed7953"
            ],
            [
             0.7777777777777778,
             "#fb9f3a"
            ],
            [
             0.8888888888888888,
             "#fdca26"
            ],
            [
             1,
             "#f0f921"
            ]
           ]
          },
          "colorway": [
           "#636efa",
           "#EF553B",
           "#00cc96",
           "#ab63fa",
           "#FFA15A",
           "#19d3f3",
           "#FF6692",
           "#B6E880",
           "#FF97FF",
           "#FECB52"
          ],
          "font": {
           "color": "#2a3f5f"
          },
          "geo": {
           "bgcolor": "white",
           "lakecolor": "white",
           "landcolor": "#E5ECF6",
           "showlakes": true,
           "showland": true,
           "subunitcolor": "white"
          },
          "hoverlabel": {
           "align": "left"
          },
          "hovermode": "closest",
          "mapbox": {
           "style": "light"
          },
          "paper_bgcolor": "white",
          "plot_bgcolor": "#E5ECF6",
          "polar": {
           "angularaxis": {
            "gridcolor": "white",
            "linecolor": "white",
            "ticks": ""
           },
           "bgcolor": "#E5ECF6",
           "radialaxis": {
            "gridcolor": "white",
            "linecolor": "white",
            "ticks": ""
           }
          },
          "scene": {
           "xaxis": {
            "backgroundcolor": "#E5ECF6",
            "gridcolor": "white",
            "gridwidth": 2,
            "linecolor": "white",
            "showbackground": true,
            "ticks": "",
            "zerolinecolor": "white"
           },
           "yaxis": {
            "backgroundcolor": "#E5ECF6",
            "gridcolor": "white",
            "gridwidth": 2,
            "linecolor": "white",
            "showbackground": true,
            "ticks": "",
            "zerolinecolor": "white"
           },
           "zaxis": {
            "backgroundcolor": "#E5ECF6",
            "gridcolor": "white",
            "gridwidth": 2,
            "linecolor": "white",
            "showbackground": true,
            "ticks": "",
            "zerolinecolor": "white"
           }
          },
          "shapedefaults": {
           "line": {
            "color": "#2a3f5f"
           }
          },
          "ternary": {
           "aaxis": {
            "gridcolor": "white",
            "linecolor": "white",
            "ticks": ""
           },
           "baxis": {
            "gridcolor": "white",
            "linecolor": "white",
            "ticks": ""
           },
           "bgcolor": "#E5ECF6",
           "caxis": {
            "gridcolor": "white",
            "linecolor": "white",
            "ticks": ""
           }
          },
          "title": {
           "x": 0.05
          },
          "xaxis": {
           "automargin": true,
           "gridcolor": "white",
           "linecolor": "white",
           "ticks": "",
           "title": {
            "standoff": 15
           },
           "zerolinecolor": "white",
           "zerolinewidth": 2
          },
          "yaxis": {
           "automargin": true,
           "gridcolor": "white",
           "linecolor": "white",
           "ticks": "",
           "title": {
            "standoff": 15
           },
           "zerolinecolor": "white",
           "zerolinewidth": 2
          }
         }
        },
        "title": {
         "text": "Tons of Uranium Used per Year"
        },
        "xaxis": {
         "title": {
          "text": "Year"
         }
        },
        "yaxis": {
         "title": {
          "text": "MTU"
         }
        }
       }
      }
     },
     "metadata": {},
     "output_type": "display_data"
    }
   ],
   "source": [
    "fig = go.Figure(\n",
    "    go.Scatter(\n",
    "        x=waste_df['year'],\n",
    "        y=waste_df['total_tons_uranium'],\n",
    "        mode='lines+markers',\n",
    "        line=dict(\n",
    "            color=\"#298f0d\"\n",
    "        ),\n",
    "    )\n",
    ")\n",
    "\n",
    "fig.update_layout(\n",
    "    title=\"Tons of Uranium Used per Year\",\n",
    "    xaxis_title=\"Year\",\n",
    "    yaxis_title=\"MTU\",\n",
    ")\n",
    "\n",
    "fig.show()"
   ]
  },
  {
   "cell_type": "code",
   "execution_count": 15,
   "id": "791cbf21",
   "metadata": {},
   "outputs": [
    {
     "data": {
      "application/vnd.plotly.v1+json": {
       "config": {
        "plotlyServerURL": "https://plot.ly"
       },
       "data": [
        {
         "line": {
          "color": "#298f0d"
         },
         "mode": "lines+markers",
         "type": "scatter",
         "x": {
          "bdata": "sAexB7IHswe0B7UHtge3B7gHuQe6B7sHvAe9B74HvwfAB8EHwgfDB8QHxQfGB8cHyAfJB8oHywfMB80HzgfPB9AH0QfSB9MH1AfVB9YH1wfYB9kH2gfbB9wH3QfeB98H4AfhBw==",
          "dtype": "i2"
         },
         "y": {
          "bdata": "AAAAAAAAAAAzMzMzMzMjQJqZmZmZGUtANDMzMzPDY0AAAAAAADB4QAAAAAAABIFAMzMzMzPzjkDMzMzMzPqXQAAAAAAAaaFAmpmZmZn+p0DNzMzMTDmwQGZmZmbmjbRAZmZmZmZjuUBmZmZmZsC9QAAAAADA0sBAZmZmZiZEw0AAAAAAwODFQAAAAADAnchAMzMzMzNsy0AzMzMzc7rOQAAAAACA9NBAmpmZmZnJ0kDNzMzM7OXUQAAAAABgmtZAmpmZmVnO2EAAAAAAIOnaQAAAAAAguNxAAAAAAMAR30DNzMzMXK3gQGdmZmYGuuFAmpmZmYmB4kA0MzMzA6LjQAEAAAAQseRANDMzM5Od5UA0MzMzA8PmQAEAAACg6udAm5mZmfnb6ECbmZmZmf/pQM7MzMzsFutAzszMzDwV7EDOzMzMfDntQDQzMzMzZO5AZ2ZmZgZm70BnZmZmnkPwQDQzMzNL2vBAZ2ZmZpZT8UDNzMzMzOXxQM3MzMzUc/JAAAAAAOju8kCamZmZEX3zQA==",
          "dtype": "f8"
         }
        }
       ],
       "layout": {
        "template": {
         "data": {
          "bar": [
           {
            "error_x": {
             "color": "#2a3f5f"
            },
            "error_y": {
             "color": "#2a3f5f"
            },
            "marker": {
             "line": {
              "color": "#E5ECF6",
              "width": 0.5
             },
             "pattern": {
              "fillmode": "overlay",
              "size": 10,
              "solidity": 0.2
             }
            },
            "type": "bar"
           }
          ],
          "barpolar": [
           {
            "marker": {
             "line": {
              "color": "#E5ECF6",
              "width": 0.5
             },
             "pattern": {
              "fillmode": "overlay",
              "size": 10,
              "solidity": 0.2
             }
            },
            "type": "barpolar"
           }
          ],
          "carpet": [
           {
            "aaxis": {
             "endlinecolor": "#2a3f5f",
             "gridcolor": "white",
             "linecolor": "white",
             "minorgridcolor": "white",
             "startlinecolor": "#2a3f5f"
            },
            "baxis": {
             "endlinecolor": "#2a3f5f",
             "gridcolor": "white",
             "linecolor": "white",
             "minorgridcolor": "white",
             "startlinecolor": "#2a3f5f"
            },
            "type": "carpet"
           }
          ],
          "choropleth": [
           {
            "colorbar": {
             "outlinewidth": 0,
             "ticks": ""
            },
            "type": "choropleth"
           }
          ],
          "contour": [
           {
            "colorbar": {
             "outlinewidth": 0,
             "ticks": ""
            },
            "colorscale": [
             [
              0,
              "#0d0887"
             ],
             [
              0.1111111111111111,
              "#46039f"
             ],
             [
              0.2222222222222222,
              "#7201a8"
             ],
             [
              0.3333333333333333,
              "#9c179e"
             ],
             [
              0.4444444444444444,
              "#bd3786"
             ],
             [
              0.5555555555555556,
              "#d8576b"
             ],
             [
              0.6666666666666666,
              "#ed7953"
             ],
             [
              0.7777777777777778,
              "#fb9f3a"
             ],
             [
              0.8888888888888888,
              "#fdca26"
             ],
             [
              1,
              "#f0f921"
             ]
            ],
            "type": "contour"
           }
          ],
          "contourcarpet": [
           {
            "colorbar": {
             "outlinewidth": 0,
             "ticks": ""
            },
            "type": "contourcarpet"
           }
          ],
          "heatmap": [
           {
            "colorbar": {
             "outlinewidth": 0,
             "ticks": ""
            },
            "colorscale": [
             [
              0,
              "#0d0887"
             ],
             [
              0.1111111111111111,
              "#46039f"
             ],
             [
              0.2222222222222222,
              "#7201a8"
             ],
             [
              0.3333333333333333,
              "#9c179e"
             ],
             [
              0.4444444444444444,
              "#bd3786"
             ],
             [
              0.5555555555555556,
              "#d8576b"
             ],
             [
              0.6666666666666666,
              "#ed7953"
             ],
             [
              0.7777777777777778,
              "#fb9f3a"
             ],
             [
              0.8888888888888888,
              "#fdca26"
             ],
             [
              1,
              "#f0f921"
             ]
            ],
            "type": "heatmap"
           }
          ],
          "histogram": [
           {
            "marker": {
             "pattern": {
              "fillmode": "overlay",
              "size": 10,
              "solidity": 0.2
             }
            },
            "type": "histogram"
           }
          ],
          "histogram2d": [
           {
            "colorbar": {
             "outlinewidth": 0,
             "ticks": ""
            },
            "colorscale": [
             [
              0,
              "#0d0887"
             ],
             [
              0.1111111111111111,
              "#46039f"
             ],
             [
              0.2222222222222222,
              "#7201a8"
             ],
             [
              0.3333333333333333,
              "#9c179e"
             ],
             [
              0.4444444444444444,
              "#bd3786"
             ],
             [
              0.5555555555555556,
              "#d8576b"
             ],
             [
              0.6666666666666666,
              "#ed7953"
             ],
             [
              0.7777777777777778,
              "#fb9f3a"
             ],
             [
              0.8888888888888888,
              "#fdca26"
             ],
             [
              1,
              "#f0f921"
             ]
            ],
            "type": "histogram2d"
           }
          ],
          "histogram2dcontour": [
           {
            "colorbar": {
             "outlinewidth": 0,
             "ticks": ""
            },
            "colorscale": [
             [
              0,
              "#0d0887"
             ],
             [
              0.1111111111111111,
              "#46039f"
             ],
             [
              0.2222222222222222,
              "#7201a8"
             ],
             [
              0.3333333333333333,
              "#9c179e"
             ],
             [
              0.4444444444444444,
              "#bd3786"
             ],
             [
              0.5555555555555556,
              "#d8576b"
             ],
             [
              0.6666666666666666,
              "#ed7953"
             ],
             [
              0.7777777777777778,
              "#fb9f3a"
             ],
             [
              0.8888888888888888,
              "#fdca26"
             ],
             [
              1,
              "#f0f921"
             ]
            ],
            "type": "histogram2dcontour"
           }
          ],
          "mesh3d": [
           {
            "colorbar": {
             "outlinewidth": 0,
             "ticks": ""
            },
            "type": "mesh3d"
           }
          ],
          "parcoords": [
           {
            "line": {
             "colorbar": {
              "outlinewidth": 0,
              "ticks": ""
             }
            },
            "type": "parcoords"
           }
          ],
          "pie": [
           {
            "automargin": true,
            "type": "pie"
           }
          ],
          "scatter": [
           {
            "fillpattern": {
             "fillmode": "overlay",
             "size": 10,
             "solidity": 0.2
            },
            "type": "scatter"
           }
          ],
          "scatter3d": [
           {
            "line": {
             "colorbar": {
              "outlinewidth": 0,
              "ticks": ""
             }
            },
            "marker": {
             "colorbar": {
              "outlinewidth": 0,
              "ticks": ""
             }
            },
            "type": "scatter3d"
           }
          ],
          "scattercarpet": [
           {
            "marker": {
             "colorbar": {
              "outlinewidth": 0,
              "ticks": ""
             }
            },
            "type": "scattercarpet"
           }
          ],
          "scattergeo": [
           {
            "marker": {
             "colorbar": {
              "outlinewidth": 0,
              "ticks": ""
             }
            },
            "type": "scattergeo"
           }
          ],
          "scattergl": [
           {
            "marker": {
             "colorbar": {
              "outlinewidth": 0,
              "ticks": ""
             }
            },
            "type": "scattergl"
           }
          ],
          "scattermap": [
           {
            "marker": {
             "colorbar": {
              "outlinewidth": 0,
              "ticks": ""
             }
            },
            "type": "scattermap"
           }
          ],
          "scattermapbox": [
           {
            "marker": {
             "colorbar": {
              "outlinewidth": 0,
              "ticks": ""
             }
            },
            "type": "scattermapbox"
           }
          ],
          "scatterpolar": [
           {
            "marker": {
             "colorbar": {
              "outlinewidth": 0,
              "ticks": ""
             }
            },
            "type": "scatterpolar"
           }
          ],
          "scatterpolargl": [
           {
            "marker": {
             "colorbar": {
              "outlinewidth": 0,
              "ticks": ""
             }
            },
            "type": "scatterpolargl"
           }
          ],
          "scatterternary": [
           {
            "marker": {
             "colorbar": {
              "outlinewidth": 0,
              "ticks": ""
             }
            },
            "type": "scatterternary"
           }
          ],
          "surface": [
           {
            "colorbar": {
             "outlinewidth": 0,
             "ticks": ""
            },
            "colorscale": [
             [
              0,
              "#0d0887"
             ],
             [
              0.1111111111111111,
              "#46039f"
             ],
             [
              0.2222222222222222,
              "#7201a8"
             ],
             [
              0.3333333333333333,
              "#9c179e"
             ],
             [
              0.4444444444444444,
              "#bd3786"
             ],
             [
              0.5555555555555556,
              "#d8576b"
             ],
             [
              0.6666666666666666,
              "#ed7953"
             ],
             [
              0.7777777777777778,
              "#fb9f3a"
             ],
             [
              0.8888888888888888,
              "#fdca26"
             ],
             [
              1,
              "#f0f921"
             ]
            ],
            "type": "surface"
           }
          ],
          "table": [
           {
            "cells": {
             "fill": {
              "color": "#EBF0F8"
             },
             "line": {
              "color": "white"
             }
            },
            "header": {
             "fill": {
              "color": "#C8D4E3"
             },
             "line": {
              "color": "white"
             }
            },
            "type": "table"
           }
          ]
         },
         "layout": {
          "annotationdefaults": {
           "arrowcolor": "#2a3f5f",
           "arrowhead": 0,
           "arrowwidth": 1
          },
          "autotypenumbers": "strict",
          "coloraxis": {
           "colorbar": {
            "outlinewidth": 0,
            "ticks": ""
           }
          },
          "colorscale": {
           "diverging": [
            [
             0,
             "#8e0152"
            ],
            [
             0.1,
             "#c51b7d"
            ],
            [
             0.2,
             "#de77ae"
            ],
            [
             0.3,
             "#f1b6da"
            ],
            [
             0.4,
             "#fde0ef"
            ],
            [
             0.5,
             "#f7f7f7"
            ],
            [
             0.6,
             "#e6f5d0"
            ],
            [
             0.7,
             "#b8e186"
            ],
            [
             0.8,
             "#7fbc41"
            ],
            [
             0.9,
             "#4d9221"
            ],
            [
             1,
             "#276419"
            ]
           ],
           "sequential": [
            [
             0,
             "#0d0887"
            ],
            [
             0.1111111111111111,
             "#46039f"
            ],
            [
             0.2222222222222222,
             "#7201a8"
            ],
            [
             0.3333333333333333,
             "#9c179e"
            ],
            [
             0.4444444444444444,
             "#bd3786"
            ],
            [
             0.5555555555555556,
             "#d8576b"
            ],
            [
             0.6666666666666666,
             "#ed7953"
            ],
            [
             0.7777777777777778,
             "#fb9f3a"
            ],
            [
             0.8888888888888888,
             "#fdca26"
            ],
            [
             1,
             "#f0f921"
            ]
           ],
           "sequentialminus": [
            [
             0,
             "#0d0887"
            ],
            [
             0.1111111111111111,
             "#46039f"
            ],
            [
             0.2222222222222222,
             "#7201a8"
            ],
            [
             0.3333333333333333,
             "#9c179e"
            ],
            [
             0.4444444444444444,
             "#bd3786"
            ],
            [
             0.5555555555555556,
             "#d8576b"
            ],
            [
             0.6666666666666666,
             "#ed7953"
            ],
            [
             0.7777777777777778,
             "#fb9f3a"
            ],
            [
             0.8888888888888888,
             "#fdca26"
            ],
            [
             1,
             "#f0f921"
            ]
           ]
          },
          "colorway": [
           "#636efa",
           "#EF553B",
           "#00cc96",
           "#ab63fa",
           "#FFA15A",
           "#19d3f3",
           "#FF6692",
           "#B6E880",
           "#FF97FF",
           "#FECB52"
          ],
          "font": {
           "color": "#2a3f5f"
          },
          "geo": {
           "bgcolor": "white",
           "lakecolor": "white",
           "landcolor": "#E5ECF6",
           "showlakes": true,
           "showland": true,
           "subunitcolor": "white"
          },
          "hoverlabel": {
           "align": "left"
          },
          "hovermode": "closest",
          "mapbox": {
           "style": "light"
          },
          "paper_bgcolor": "white",
          "plot_bgcolor": "#E5ECF6",
          "polar": {
           "angularaxis": {
            "gridcolor": "white",
            "linecolor": "white",
            "ticks": ""
           },
           "bgcolor": "#E5ECF6",
           "radialaxis": {
            "gridcolor": "white",
            "linecolor": "white",
            "ticks": ""
           }
          },
          "scene": {
           "xaxis": {
            "backgroundcolor": "#E5ECF6",
            "gridcolor": "white",
            "gridwidth": 2,
            "linecolor": "white",
            "showbackground": true,
            "ticks": "",
            "zerolinecolor": "white"
           },
           "yaxis": {
            "backgroundcolor": "#E5ECF6",
            "gridcolor": "white",
            "gridwidth": 2,
            "linecolor": "white",
            "showbackground": true,
            "ticks": "",
            "zerolinecolor": "white"
           },
           "zaxis": {
            "backgroundcolor": "#E5ECF6",
            "gridcolor": "white",
            "gridwidth": 2,
            "linecolor": "white",
            "showbackground": true,
            "ticks": "",
            "zerolinecolor": "white"
           }
          },
          "shapedefaults": {
           "line": {
            "color": "#2a3f5f"
           }
          },
          "ternary": {
           "aaxis": {
            "gridcolor": "white",
            "linecolor": "white",
            "ticks": ""
           },
           "baxis": {
            "gridcolor": "white",
            "linecolor": "white",
            "ticks": ""
           },
           "bgcolor": "#E5ECF6",
           "caxis": {
            "gridcolor": "white",
            "linecolor": "white",
            "ticks": ""
           }
          },
          "title": {
           "x": 0.05
          },
          "xaxis": {
           "automargin": true,
           "gridcolor": "white",
           "linecolor": "white",
           "ticks": "",
           "title": {
            "standoff": 15
           },
           "zerolinecolor": "white",
           "zerolinewidth": 2
          },
          "yaxis": {
           "automargin": true,
           "gridcolor": "white",
           "linecolor": "white",
           "ticks": "",
           "title": {
            "standoff": 15
           },
           "zerolinecolor": "white",
           "zerolinewidth": 2
          }
         }
        },
        "title": {
         "text": "Tons of Uranium in Containment"
        },
        "xaxis": {
         "title": {
          "text": "Year"
         }
        },
        "yaxis": {
         "title": {
          "text": "MTU"
         }
        }
       }
      }
     },
     "metadata": {},
     "output_type": "display_data"
    }
   ],
   "source": [
    "\n",
    "waste_values = waste_df['total_tons_uranium']\n",
    "total_uranium = []\n",
    "uranium_used = 0\n",
    "for datapoint in waste_values:\n",
    "    uranium_used += datapoint\n",
    "    total_uranium.append(uranium_used)\n",
    "\n",
    "waste_df['uranium_used'] = total_uranium\n",
    "\n",
    "fig = go.Figure(\n",
    "    go.Scatter(\n",
    "        x=waste_df['year'],\n",
    "        y=waste_df['uranium_used'],\n",
    "        mode='lines+markers',\n",
    "        line=dict(\n",
    "            color=\"#298f0d\"\n",
    "        ),\n",
    "    )\n",
    ")\n",
    "\n",
    "fig.update_layout(\n",
    "    title=\"Tons of Uranium in Containment\",\n",
    "    xaxis_title=\"Year\",\n",
    "    yaxis_title=\"MTU\",\n",
    ")\n",
    "\n",
    "fig.show()"
   ]
  },
  {
   "cell_type": "markdown",
   "id": "69bc4d86",
   "metadata": {},
   "source": [
    "We see that the amount of uranium that is used per year is not increasing in recent times, as nuclear energy is not expanding rapidly in the U.S. The amount of total nuclear waste is likely to keep increasing by around 45k MTU yearly.\n",
    "\n",
    "As nuclear energy is not yet the most prevelant form of energy in the U.S. and as the amount of nuclear energy is already quite high, the creation and storage of nuclear waste remains a significant challange in the nuclear energy sector"
   ]
  },
  {
   "cell_type": "markdown",
   "id": "b663be93",
   "metadata": {},
   "source": [
    "## The Costs of Nuclear Energy\n",
    "\n",
    "Nuclear Energy is often seen as a good alternative due to its potential lower long-term costs. In this section we will look into the economic costs of nuclear energy relative to other forms of energy production. This ties directly into Perspective 1.\n",
    "\n",
    "To do this we will use the Levelised Cost of Electricity (LCOE) which is a method that represents the cost of energy production in dollars per MWh of a power plant. It takes the whole lifetime of a power plant into account, such as capital costs, operation, maintenance, fuel and other expenses.\n",
    "\n"
   ]
  },
  {
   "cell_type": "code",
   "execution_count": null,
   "id": "d5a04798",
   "metadata": {},
   "outputs": [
    {
     "data": {
      "application/vnd.plotly.v1+json": {
       "config": {
        "plotlyServerURL": "https://plot.ly"
       },
       "data": [
        {
         "customdata": [
          [
           "Absolute Difference: $44.0/MWh"
          ]
         ],
         "hovertemplate": "%{customdata[0]}<extra></extra>",
         "legendgroup": "Wind",
         "marker": {
          "color": "#4C72B0",
          "line": {
           "color": "white",
           "width": 1.5
          },
          "pattern": {
           "shape": ""
          }
         },
         "name": "Wind",
         "opacity": 0.8,
         "orientation": "v",
         "showlegend": true,
         "text": {
          "bdata": "HnIdH6x0R0A=",
          "dtype": "f8"
         },
         "textposition": "outside",
         "texttemplate": "%{text:.1f}%",
         "type": "bar",
         "x": [
          "Wind"
         ],
         "xaxis": "x",
         "y": {
          "bdata": "HnIdH6x0R0A=",
          "dtype": "f8"
         },
         "yaxis": "y"
        },
        {
         "customdata": [
          [
           "Absolute Difference: $49.1/MWh"
          ]
         ],
         "hovertemplate": "%{customdata[0]}<extra></extra>",
         "legendgroup": "Solar",
         "marker": {
          "color": "#55A868",
          "line": {
           "color": "white",
           "width": 1.5
          },
          "pattern": {
           "shape": ""
          }
         },
         "name": "Solar",
         "opacity": 0.8,
         "orientation": "v",
         "showlegend": true,
         "text": {
          "bdata": "+mavI+7NSEA=",
          "dtype": "f8"
         },
         "textposition": "outside",
         "texttemplate": "%{text:.1f}%",
         "type": "bar",
         "x": [
          "Solar"
         ],
         "xaxis": "x",
         "y": {
          "bdata": "+mavI+7NSEA=",
          "dtype": "f8"
         },
         "yaxis": "y"
        },
        {
         "customdata": [
          [
           "Absolute Difference: $31.7/MWh"
          ]
         ],
         "hovertemplate": "%{customdata[0]}<extra></extra>",
         "legendgroup": "Gas",
         "marker": {
          "color": "#C44E52",
          "line": {
           "color": "white",
           "width": 1.5
          },
          "pattern": {
           "shape": ""
          }
         },
         "name": "Gas",
         "opacity": 0.8,
         "orientation": "v",
         "showlegend": true,
         "text": {
          "bdata": "Vcm0z9RyQ0A=",
          "dtype": "f8"
         },
         "textposition": "outside",
         "texttemplate": "%{text:.1f}%",
         "type": "bar",
         "x": [
          "Gas"
         ],
         "xaxis": "x",
         "y": {
          "bdata": "Vcm0z9RyQ0A=",
          "dtype": "f8"
         },
         "yaxis": "y"
        },
        {
         "customdata": [
          [
           "Absolute Difference: $52.7/MWh"
          ]
         ],
         "hovertemplate": "%{customdata[0]}<extra></extra>",
         "legendgroup": "Coal",
         "marker": {
          "color": "#8172B2",
          "line": {
           "color": "white",
           "width": 1.5
          },
          "pattern": {
           "shape": ""
          }
         },
         "name": "Coal",
         "opacity": 0.8,
         "orientation": "v",
         "showlegend": true,
         "text": {
          "bdata": "RiwuJ+KzSUA=",
          "dtype": "f8"
         },
         "textposition": "outside",
         "texttemplate": "%{text:.1f}%",
         "type": "bar",
         "x": [
          "Coal"
         ],
         "xaxis": "x",
         "y": {
          "bdata": "RiwuJ+KzSUA=",
          "dtype": "f8"
         },
         "yaxis": "y"
        }
       ],
       "layout": {
        "barmode": "relative",
        "height": 600,
        "hoverlabel": {
         "bgcolor": "white",
         "font": {
          "family": "Arial",
          "size": 15
         }
        },
        "hovermode": "closest",
        "legend": {
         "title": {
          "text": "Technology"
         },
         "tracegroupgap": 0
        },
        "margin": {
         "b": 80,
         "l": 40,
         "r": 40,
         "t": 100
        },
        "plot_bgcolor": "rgba(0,0,0,0)",
        "shapes": [
         {
          "line": {
           "color": "black",
           "width": 2
          },
          "type": "line",
          "x0": 0,
          "x1": 1,
          "xref": "x domain",
          "y0": 0,
          "y1": 0,
          "yref": "y"
         }
        ],
        "showlegend": false,
        "template": {
         "data": {
          "bar": [
           {
            "error_x": {
             "color": "#2a3f5f"
            },
            "error_y": {
             "color": "#2a3f5f"
            },
            "marker": {
             "line": {
              "color": "#E5ECF6",
              "width": 0.5
             },
             "pattern": {
              "fillmode": "overlay",
              "size": 10,
              "solidity": 0.2
             }
            },
            "type": "bar"
           }
          ],
          "barpolar": [
           {
            "marker": {
             "line": {
              "color": "#E5ECF6",
              "width": 0.5
             },
             "pattern": {
              "fillmode": "overlay",
              "size": 10,
              "solidity": 0.2
             }
            },
            "type": "barpolar"
           }
          ],
          "carpet": [
           {
            "aaxis": {
             "endlinecolor": "#2a3f5f",
             "gridcolor": "white",
             "linecolor": "white",
             "minorgridcolor": "white",
             "startlinecolor": "#2a3f5f"
            },
            "baxis": {
             "endlinecolor": "#2a3f5f",
             "gridcolor": "white",
             "linecolor": "white",
             "minorgridcolor": "white",
             "startlinecolor": "#2a3f5f"
            },
            "type": "carpet"
           }
          ],
          "choropleth": [
           {
            "colorbar": {
             "outlinewidth": 0,
             "ticks": ""
            },
            "type": "choropleth"
           }
          ],
          "contour": [
           {
            "colorbar": {
             "outlinewidth": 0,
             "ticks": ""
            },
            "colorscale": [
             [
              0,
              "#0d0887"
             ],
             [
              0.1111111111111111,
              "#46039f"
             ],
             [
              0.2222222222222222,
              "#7201a8"
             ],
             [
              0.3333333333333333,
              "#9c179e"
             ],
             [
              0.4444444444444444,
              "#bd3786"
             ],
             [
              0.5555555555555556,
              "#d8576b"
             ],
             [
              0.6666666666666666,
              "#ed7953"
             ],
             [
              0.7777777777777778,
              "#fb9f3a"
             ],
             [
              0.8888888888888888,
              "#fdca26"
             ],
             [
              1,
              "#f0f921"
             ]
            ],
            "type": "contour"
           }
          ],
          "contourcarpet": [
           {
            "colorbar": {
             "outlinewidth": 0,
             "ticks": ""
            },
            "type": "contourcarpet"
           }
          ],
          "heatmap": [
           {
            "colorbar": {
             "outlinewidth": 0,
             "ticks": ""
            },
            "colorscale": [
             [
              0,
              "#0d0887"
             ],
             [
              0.1111111111111111,
              "#46039f"
             ],
             [
              0.2222222222222222,
              "#7201a8"
             ],
             [
              0.3333333333333333,
              "#9c179e"
             ],
             [
              0.4444444444444444,
              "#bd3786"
             ],
             [
              0.5555555555555556,
              "#d8576b"
             ],
             [
              0.6666666666666666,
              "#ed7953"
             ],
             [
              0.7777777777777778,
              "#fb9f3a"
             ],
             [
              0.8888888888888888,
              "#fdca26"
             ],
             [
              1,
              "#f0f921"
             ]
            ],
            "type": "heatmap"
           }
          ],
          "histogram": [
           {
            "marker": {
             "pattern": {
              "fillmode": "overlay",
              "size": 10,
              "solidity": 0.2
             }
            },
            "type": "histogram"
           }
          ],
          "histogram2d": [
           {
            "colorbar": {
             "outlinewidth": 0,
             "ticks": ""
            },
            "colorscale": [
             [
              0,
              "#0d0887"
             ],
             [
              0.1111111111111111,
              "#46039f"
             ],
             [
              0.2222222222222222,
              "#7201a8"
             ],
             [
              0.3333333333333333,
              "#9c179e"
             ],
             [
              0.4444444444444444,
              "#bd3786"
             ],
             [
              0.5555555555555556,
              "#d8576b"
             ],
             [
              0.6666666666666666,
              "#ed7953"
             ],
             [
              0.7777777777777778,
              "#fb9f3a"
             ],
             [
              0.8888888888888888,
              "#fdca26"
             ],
             [
              1,
              "#f0f921"
             ]
            ],
            "type": "histogram2d"
           }
          ],
          "histogram2dcontour": [
           {
            "colorbar": {
             "outlinewidth": 0,
             "ticks": ""
            },
            "colorscale": [
             [
              0,
              "#0d0887"
             ],
             [
              0.1111111111111111,
              "#46039f"
             ],
             [
              0.2222222222222222,
              "#7201a8"
             ],
             [
              0.3333333333333333,
              "#9c179e"
             ],
             [
              0.4444444444444444,
              "#bd3786"
             ],
             [
              0.5555555555555556,
              "#d8576b"
             ],
             [
              0.6666666666666666,
              "#ed7953"
             ],
             [
              0.7777777777777778,
              "#fb9f3a"
             ],
             [
              0.8888888888888888,
              "#fdca26"
             ],
             [
              1,
              "#f0f921"
             ]
            ],
            "type": "histogram2dcontour"
           }
          ],
          "mesh3d": [
           {
            "colorbar": {
             "outlinewidth": 0,
             "ticks": ""
            },
            "type": "mesh3d"
           }
          ],
          "parcoords": [
           {
            "line": {
             "colorbar": {
              "outlinewidth": 0,
              "ticks": ""
             }
            },
            "type": "parcoords"
           }
          ],
          "pie": [
           {
            "automargin": true,
            "type": "pie"
           }
          ],
          "scatter": [
           {
            "fillpattern": {
             "fillmode": "overlay",
             "size": 10,
             "solidity": 0.2
            },
            "type": "scatter"
           }
          ],
          "scatter3d": [
           {
            "line": {
             "colorbar": {
              "outlinewidth": 0,
              "ticks": ""
             }
            },
            "marker": {
             "colorbar": {
              "outlinewidth": 0,
              "ticks": ""
             }
            },
            "type": "scatter3d"
           }
          ],
          "scattercarpet": [
           {
            "marker": {
             "colorbar": {
              "outlinewidth": 0,
              "ticks": ""
             }
            },
            "type": "scattercarpet"
           }
          ],
          "scattergeo": [
           {
            "marker": {
             "colorbar": {
              "outlinewidth": 0,
              "ticks": ""
             }
            },
            "type": "scattergeo"
           }
          ],
          "scattergl": [
           {
            "marker": {
             "colorbar": {
              "outlinewidth": 0,
              "ticks": ""
             }
            },
            "type": "scattergl"
           }
          ],
          "scattermap": [
           {
            "marker": {
             "colorbar": {
              "outlinewidth": 0,
              "ticks": ""
             }
            },
            "type": "scattermap"
           }
          ],
          "scattermapbox": [
           {
            "marker": {
             "colorbar": {
              "outlinewidth": 0,
              "ticks": ""
             }
            },
            "type": "scattermapbox"
           }
          ],
          "scatterpolar": [
           {
            "marker": {
             "colorbar": {
              "outlinewidth": 0,
              "ticks": ""
             }
            },
            "type": "scatterpolar"
           }
          ],
          "scatterpolargl": [
           {
            "marker": {
             "colorbar": {
              "outlinewidth": 0,
              "ticks": ""
             }
            },
            "type": "scatterpolargl"
           }
          ],
          "scatterternary": [
           {
            "marker": {
             "colorbar": {
              "outlinewidth": 0,
              "ticks": ""
             }
            },
            "type": "scatterternary"
           }
          ],
          "surface": [
           {
            "colorbar": {
             "outlinewidth": 0,
             "ticks": ""
            },
            "colorscale": [
             [
              0,
              "#0d0887"
             ],
             [
              0.1111111111111111,
              "#46039f"
             ],
             [
              0.2222222222222222,
              "#7201a8"
             ],
             [
              0.3333333333333333,
              "#9c179e"
             ],
             [
              0.4444444444444444,
              "#bd3786"
             ],
             [
              0.5555555555555556,
              "#d8576b"
             ],
             [
              0.6666666666666666,
              "#ed7953"
             ],
             [
              0.7777777777777778,
              "#fb9f3a"
             ],
             [
              0.8888888888888888,
              "#fdca26"
             ],
             [
              1,
              "#f0f921"
             ]
            ],
            "type": "surface"
           }
          ],
          "table": [
           {
            "cells": {
             "fill": {
              "color": "#EBF0F8"
             },
             "line": {
              "color": "white"
             }
            },
            "header": {
             "fill": {
              "color": "#C8D4E3"
             },
             "line": {
              "color": "white"
             }
            },
            "type": "table"
           }
          ]
         },
         "layout": {
          "annotationdefaults": {
           "arrowcolor": "#2a3f5f",
           "arrowhead": 0,
           "arrowwidth": 1
          },
          "autotypenumbers": "strict",
          "coloraxis": {
           "colorbar": {
            "outlinewidth": 0,
            "ticks": ""
           }
          },
          "colorscale": {
           "diverging": [
            [
             0,
             "#8e0152"
            ],
            [
             0.1,
             "#c51b7d"
            ],
            [
             0.2,
             "#de77ae"
            ],
            [
             0.3,
             "#f1b6da"
            ],
            [
             0.4,
             "#fde0ef"
            ],
            [
             0.5,
             "#f7f7f7"
            ],
            [
             0.6,
             "#e6f5d0"
            ],
            [
             0.7,
             "#b8e186"
            ],
            [
             0.8,
             "#7fbc41"
            ],
            [
             0.9,
             "#4d9221"
            ],
            [
             1,
             "#276419"
            ]
           ],
           "sequential": [
            [
             0,
             "#0d0887"
            ],
            [
             0.1111111111111111,
             "#46039f"
            ],
            [
             0.2222222222222222,
             "#7201a8"
            ],
            [
             0.3333333333333333,
             "#9c179e"
            ],
            [
             0.4444444444444444,
             "#bd3786"
            ],
            [
             0.5555555555555556,
             "#d8576b"
            ],
            [
             0.6666666666666666,
             "#ed7953"
            ],
            [
             0.7777777777777778,
             "#fb9f3a"
            ],
            [
             0.8888888888888888,
             "#fdca26"
            ],
            [
             1,
             "#f0f921"
            ]
           ],
           "sequentialminus": [
            [
             0,
             "#0d0887"
            ],
            [
             0.1111111111111111,
             "#46039f"
            ],
            [
             0.2222222222222222,
             "#7201a8"
            ],
            [
             0.3333333333333333,
             "#9c179e"
            ],
            [
             0.4444444444444444,
             "#bd3786"
            ],
            [
             0.5555555555555556,
             "#d8576b"
            ],
            [
             0.6666666666666666,
             "#ed7953"
            ],
            [
             0.7777777777777778,
             "#fb9f3a"
            ],
            [
             0.8888888888888888,
             "#fdca26"
            ],
            [
             1,
             "#f0f921"
            ]
           ]
          },
          "colorway": [
           "#636efa",
           "#EF553B",
           "#00cc96",
           "#ab63fa",
           "#FFA15A",
           "#19d3f3",
           "#FF6692",
           "#B6E880",
           "#FF97FF",
           "#FECB52"
          ],
          "font": {
           "color": "#2a3f5f"
          },
          "geo": {
           "bgcolor": "white",
           "lakecolor": "white",
           "landcolor": "#E5ECF6",
           "showlakes": true,
           "showland": true,
           "subunitcolor": "white"
          },
          "hoverlabel": {
           "align": "left"
          },
          "hovermode": "closest",
          "mapbox": {
           "style": "light"
          },
          "paper_bgcolor": "white",
          "plot_bgcolor": "#E5ECF6",
          "polar": {
           "angularaxis": {
            "gridcolor": "white",
            "linecolor": "white",
            "ticks": ""
           },
           "bgcolor": "#E5ECF6",
           "radialaxis": {
            "gridcolor": "white",
            "linecolor": "white",
            "ticks": ""
           }
          },
          "scene": {
           "xaxis": {
            "backgroundcolor": "#E5ECF6",
            "gridcolor": "white",
            "gridwidth": 2,
            "linecolor": "white",
            "showbackground": true,
            "ticks": "",
            "zerolinecolor": "white"
           },
           "yaxis": {
            "backgroundcolor": "#E5ECF6",
            "gridcolor": "white",
            "gridwidth": 2,
            "linecolor": "white",
            "showbackground": true,
            "ticks": "",
            "zerolinecolor": "white"
           },
           "zaxis": {
            "backgroundcolor": "#E5ECF6",
            "gridcolor": "white",
            "gridwidth": 2,
            "linecolor": "white",
            "showbackground": true,
            "ticks": "",
            "zerolinecolor": "white"
           }
          },
          "shapedefaults": {
           "line": {
            "color": "#2a3f5f"
           }
          },
          "ternary": {
           "aaxis": {
            "gridcolor": "white",
            "linecolor": "white",
            "ticks": ""
           },
           "baxis": {
            "gridcolor": "white",
            "linecolor": "white",
            "ticks": ""
           },
           "bgcolor": "#E5ECF6",
           "caxis": {
            "gridcolor": "white",
            "linecolor": "white",
            "ticks": ""
           }
          },
          "title": {
           "x": 0.05
          },
          "xaxis": {
           "automargin": true,
           "gridcolor": "white",
           "linecolor": "white",
           "ticks": "",
           "title": {
            "standoff": 15
           },
           "zerolinecolor": "white",
           "zerolinewidth": 2
          },
          "yaxis": {
           "automargin": true,
           "gridcolor": "white",
           "linecolor": "white",
           "ticks": "",
           "title": {
            "standoff": 15
           },
           "zerolinecolor": "white",
           "zerolinewidth": 2
          }
         }
        },
        "title": {
         "text": "<b>Nuclear Cost Advantage Over Other Forms Of Energy Production</b>",
         "x": 0.5
        },
        "width": 800,
        "xaxis": {
         "anchor": "y",
         "categoryarray": [
          "Wind",
          "Solar",
          "Gas",
          "Coal"
         ],
         "categoryorder": "array",
         "domain": [
          0,
          1
         ],
         "title": {
          "text": ""
         }
        },
        "yaxis": {
         "anchor": "x",
         "domain": [
          0,
          1
         ],
         "gridcolor": "lightgray",
         "title": {
          "text": "Percent Cheaper Than Competitor"
         },
         "zerolinecolor": "black",
         "zerolinewidth": 2
        }
       }
      }
     },
     "metadata": {},
     "output_type": "display_data"
    }
   ],
   "source": [
    "import pandas as pd\n",
    "import plotly.express as px\n",
    "\n",
    "df = pd.read_csv(\"nuclear_data/levelised_cost_of_electricity.csv\").drop(index=0)\n",
    "df = df.rename(columns={\n",
    "    'Capital costs': 'Capital',\n",
    "    'O&M': 'OM',\n",
    "    'Fuel (th)': 'Fuel_th',\n",
    "    'Fuel (el)': 'Fuel_el',\n",
    "    'Carbon': 'Carbon',\n",
    "    'CHP heat revenues': 'CHP_revenue',\n",
    "    'LCOE': 'LCOE',\n",
    "    'Category': 'Category',\n",
    "    'Country': 'Country'\n",
    "})\n",
    "df['LCOE'] = pd.to_numeric(df['LCOE'], errors='coerce')\n",
    "df = df.dropna(subset=['Category', 'LCOE'])\n",
    "\n",
    "nuclear_mean = df[df['Category'] == 'Nuclear']['LCOE'].mean()\n",
    "competitors = ['Wind', 'Solar', 'Gas', 'Coal']\n",
    "savings = {\n",
    "    comp: ((df[df['Category'] == comp]['LCOE'].mean() - nuclear_mean) / \n",
    "           df[df['Category'] == comp]['LCOE'].mean() * 100)\n",
    "    for comp in competitors\n",
    "}\n",
    "\n",
    "def create_hover_text(tech, nuclear_mean):\n",
    "    tech_mean = df[df['Category'] == tech]['LCOE'].mean()\n",
    "    abs_diff = tech_mean - nuclear_mean\n",
    "    return f\"Absolute Difference: ${abs_diff:.1f}/MWh\"\n",
    "\n",
<<<<<<< HEAD
    "labels = ['Nuclear'] + competitors\n",
    "values = [nuclear_mean] + [comp_means[c] for c in competitors]\n",
    "\n",
    "plt.figure(figsize=(8, 6))\n",
    "bars = plt.bar(labels, values, color=['green'] + ['gray']*len(competitors))\n",
    "plt.ylabel(\"Average LCOE (USD/MWh)\")\n",
    "plt.title(\"Average LCOE by Energy Source\")\n",
    "plt.grid(False)\n",
    "for bar in bars:\n",
    "    yval = bar.get_height()\n",
    "    plt.text(bar.get_x() + bar.get_width()/2, yval + 1, f\"${yval:.1f}\", ha='center')\n",
    "plt.ylim(0, max(values) + 20)\n",
    "plt.tight_layout()\n",
    "plt.show()\n",
    "\n",
    "plt.figure(figsize=(8, 6))\n",
    "bars2 = plt.bar(savings.keys(), savings.values(), color='green')\n",
    "plt.ylabel(\"Percent Cheaper Than Competitor\")\n",
    "plt.title(\"Nuclear Cost Advantage Over Other Technologies\")\n",
    "plt.grid(False)\n",
    "\n",
    "for bar in bars2:\n",
    "    yval = bar.get_height()\n",
    "    plt.text(bar.get_x() + bar.get_width()/2, yval + 1, f\"{yval:.1f}%\", ha='center')\n",
    "plt.ylim(0, max(savings.values()) + 10)\n",
    "plt.axhline(0, color='black', linewidth=0.8)\n",
    "plt.tight_layout()\n",
    "plt.show()"
   ]
  },
  {
   "cell_type": "code",
   "execution_count": 17,
   "id": "108c34c8",
   "metadata": {},
   "outputs": [
    {
     "name": "stderr",
     "output_type": "stream",
     "text": [
      "/tmp/ipykernel_7594/4028945921.py:28: FutureWarning:\n",
      "\n",
      "\n",
      "\n",
      "Passing `palette` without assigning `hue` is deprecated and will be removed in v0.14.0. Assign the `y` variable to `hue` and set `legend=False` for the same effect.\n",
      "\n",
      "\n"
     ]
    },
    {
     "data": {
      "image/png": "iVBORw0KGgoAAAANSUhEUgAAA9gAAAJICAYAAACaO0yGAAAAOnRFWHRTb2Z0d2FyZQBNYXRwbG90bGliIHZlcnNpb24zLjEwLjMsIGh0dHBzOi8vbWF0cGxvdGxpYi5vcmcvZiW1igAAAAlwSFlzAAAPYQAAD2EBqD+naQAAeoZJREFUeJzt3XdclfX///HnYQoqIq5c5YREQYFy4sKVqWmWac5y5bbSzLJMzdI0G6Jlabk1yz3KnWiW9kmszJU7t6SiICjr+v3Rl/PzCOoRLzhHfdxvN283z3W9z3W9rvPiAp5cy2IYhiEAAAAAAHBXXBxdAAAAAAAA9wMCNgAAAAAAJiBgAwAAAABgAgI2AAAAAAAmIGADAAAAAGACAjYAAAAAACYgYAMAAAAAYAICNgAAAAAAJiBgAwAAAABgAgI2AACwGjp0qEJCQhxdhmm2b9+ugIAArV692iHrDwgIUGRkpEPWDQDIeW6OLgAAcG+ZO3euRo0apeDgYH333XeOLsepREREqHz58vriiy9uO3b79u2aPXu2du7cqUuXLilv3ryqXLmyWrdurcaNG9uMvXjxor788ktt3LhRp06dkpeXl4KCgtSxY0fVr1/fZuyJEyfUoEGDm6530KBB6tmzZ9Y20ASRkZGaNGnSbcdVrVpVs2fPzoGKIN3Z1+PtJCYmatq0aapataqqVauWTRUDgHMiYAMA7siKFStUvHhx/fnnnzp27JgeeeQRR5d0z5k4caImT56sUqVKqW3btipWrJhiY2MVFRWl/v3768MPP1SLFi0kSYcPH9YLL7ygCxcuqHXr1goKCtLly5e1YsUK9erVS127dtXrr7+eYR3NmzdXnTp1MkwPDAzM9u27lUaNGunhhx+2vk5ISNCIESPUqFEjNWrUyDq9YMGCjijvgXQnX4/2SExM1KRJk9SvXz8CNoAHDgEbAGC348ePa+fOnZo0aZKGDx+uFStWqF+/fjlaQ1pampKTk+Xp6Zmj6zXL6tWrNXnyZDVp0kQTJkyQu7u7dV737t21ZcsWpaSkSJKSk5M1cOBAXb58WXPnzlXlypWtY1944QUNHjxYX3/9tYKCgvTkk0/arCcwMFAtW7bMmY26A48++qgeffRR6+sLFy5oxIgRCggIcMp673d38vV4P0pMTJSXl5ejywBwH+EabACA3VasWKF8+fKpbt26atKkiVasWGGdl5ycrKpVq+qNN97I8L74+HgFBQXpgw8+sE5LSkrSxIkT1ahRI1WqVEl169bVuHHjlJSUZPPegIAAjRo1SsuXL1ezZs0UFBSkLVu2SJK++uortWvXTtWqVVNwcLBat26d6bW2V69e1ejRo1WtWjWFhISoV69eOnv2bKbXx549e1ZvvPGGatasqUqVKqlZs2ZauHDhXX1u1/v000/l6+ur999/3ybMpKtdu7b1tO+1a9fq77//Vo8ePWzCtSS5urpq1KhR8vHxyZZrfI8fP65u3bqpSpUqCg8P16RJk2QYhiTJMAxFRESod+/eGd537do1hYWFafjw4Xe1/kOHDmnAgAGqWrWqgoKC1Lp1a23YsCHDuMuXL+v9999XRESEKlWqpDp16mjIkCG6cOGCzbi0tDR9/vnnqlOnjoKCgtSlSxcdO3bMZkynTp3UvHlzHTx4UJ06dVLlypVVu3ZtTZ06NcN6z58/rzfffFM1a9ZUUFCQnnrqKS1ZssSubduzZ4+6d++u0NBQhYSEqEuXLvr9998zjNu3b586duyo4OBg1alTR5999pkWLVqkgIAAnThxQpL0+uuvq1q1akpOTs7w/q5du6pJkya3rOVOvh6TkpL06aefqnXr1goLC1OVKlXUvn17bdu2zTr+xIkTqlGjhiRp0qRJCggIyLCf2dtbe7Y/3dy5c9WsWTNVqlRJ4eHhGjlypC5fvmwzJr2/f/31lzp06KDKlSvro48+uuvPEACuxxFsAIDdVqxYoUaNGsnDw0PNmzfX/Pnz9eeffyo4OFju7u5q2LCh1q1bp5EjR8rDw8P6vvXr1yspKcl6lDUtLU29e/fWjh079Nxzz6ls2bL6+++/NXPmTB09elSfffaZzXq3bdumH374QR06dFD+/PlVvHhxSdKsWbMUERGhFi1aKDk5WatWrdLAgQP1xRdfqF69etb3Dx06VD/88INatmypypUr63//+1+m1yH/+++/eu6552SxWNShQwf5+flp8+bNGjZsmOLj4/XCCy/c1ed39OhRHT58WM8884zy5Mlz2/EbN26UJLVq1SrT+Xnz5lWDBg20ZMmSDKfrJyYmZgiZkuTj4yM3t1v/+E9NTVX37t1VuXJlvfbaa9qyZYsiIyOVmpqqgQMHymKxqEWLFvrqq68UGxsrX19fm5rj4+P11FNP3Xb7bubAgQN6/vnnVaRIEfXo0UPe3t764Ycf1LdvX0VGRlpPJb9y5Yo6dOigQ4cO6ZlnnlFgYKAuXryojRs36uzZs/Lz87Muc+rUqbJYLOratavi4+M1bdo0DR48OMN9BC5duqTu3burUaNGatq0qdasWaMPP/xQ/v7+qlu3rqT//mDTqVMn/fPPP+rQoYNKlCih1atXa+jQobp8+bK6dOlyy23r0KGDcufOre7du8vNzU0LFixQp06dNGfOHOsfUs6ePWtdTs+ePeXt7a3vvvvOZr+SpJYtW2rp0qX66aefbK7Hj4mJ0bZt29S3b9+b1nKnX4/x8fH67rvv1Lx5c7Vp00ZXrlzRwoUL1b17d3333XeqUKGC/Pz8NGLEiAyn/QcEBFi3357e2rv90v+/rr9mzZp6/vnndeTIEc2fP1+7du3S/Pnzbf5wEBsbqx49eqhZs2Z66qmnVKBAAXl7e2f5MwSADAwAAOywa9cuw9/f39i6dathGIaRlpZm1KlTxxg9erR1zJYtWwx/f39j48aNNu/t0aOH0aBBA+vrpUuXGo8++qjxv//9z2bc/PnzDX9/f2PHjh3Waf7+/sajjz5qHDhwIENNiYmJNq+TkpKM5s2bG507d7ZO++uvvwx/f3/jvffesxk7dOhQw9/f35g4caJ12ptvvmnUqlXLuHDhgs3YV155xQgLC8uwvhvVr1/f6Nmz503nr1+/3vD39zemT59+y+Wka9mypREWFnbLMdOnTzf8/f2NDRs2GIZhGMePHzf8/f1v+m/nzp23XN7rr79u+Pv7G++++651WlpamtGzZ0+jYsWKxvnz5w3DMIzDhw8b/v7+xrx582ze36tXL6N+/fpGWlqaXdt4/vz5DH3o0qWL0bx5c+PatWs2NbRt29Zo3Lixddqnn35q+Pv7G2vXrs2w3PT1b9u2zfD39zeaNm1qs7yZM2ca/v7+xv79+63TOnbsaPj7+xtLliyxTrt27ZpRq1Yto3///tZpM2bMMPz9/Y1ly5ZZpyUlJRlt27Y1qlSpYsTFxVmn37htffr0MSpWrGj8888/1mlnz541QkJCjA4dOlinvfvuu0ZAQICxZ88e67SLFy8aVatWNfz9/Y3jx48bhmEYqampRp06dYyXX37ZZvunT59uBAQE2KznRnf69ZiSkmLzGRqGYVy6dMmoWbOm8cYbb1inZdbTdPb21t7tP3/+vFGxYkWja9euRmpqqnXsnDlzDH9/f2PhwoXWaen9nT9/vk1Nd/MZAsCNOEUcAGCXFStWqGDBgtabFlksFj355JP6/vvvlZqaKkmqXr268ufPr++//976vkuXLunnn3+2uUZ49erVKlu2rMqUKaMLFy5Y/1WvXl3Sf3c0vt7jjz+ucuXKZagpV65cNuuJi4tTWFiY9uzZY52efjp5+/btbd7bsWNHm9eGYWjt2rWKiIiQYRg2dYWHhysuLk67d++2/wPLRHx8vCQpd+7cdo2/cuXKbcemz09fdrq2bdtq+vTpGf5l9jlmpkOHDtb/px/RT05O1i+//CJJKl26tCpXrmxzmUBsbKy2bNmiFi1ayGKx2LWeG8XGxmrbtm1q2rSp4uPjrT24ePGiwsPDdfToUZ09e1bSf6fQP/roozY3R7u+5uu1bt3a5ujnY489Jum/U+Gv5+3tbXMtuIeHh4KCgmzGbd68WYUKFVLz5s2t09zd3dWpUyclJCTof//7X6bblpqaqq1bt6phw4YqWbKkdXrhwoXVvHlz7dixw9rHLVu2qEqVKqpQoYJ1nK+vb4abjbm4uKhFixbWMwfSLV++XCEhITbrudGdfj26urpaP8O0tDTFxsYqJSVFlSpVstnnbuZOemvv9v/8889KTk5W586d5eLy/3+tbdOmjfLkyaOoqCib8R4eHmrdurXNtLv5DAHgRpwiDgC4rdTUVK1atUrVqlWzufYxODhYX3/9tX755ReFh4fLzc1NjRs31sqVK5WUlCQPDw+tXbtWycnJNgH72LFjOnTokPVazRudP3/e5nWJEiUyHffjjz/q888/1969e22u3b4+XJ06dUouLi4ZlnHj3c8vXLigy5cva8GCBVqwYEGm68vslOs7kX4a7pUrV+wanzt3bl28ePGWY9KXdWNIeuSRR1SzZs0sVPlf4LgxVJQuXVqSdPLkSeu0li1b6t1339XJkydVvHhxrV69WsnJyXd1s7J//vlHhmHo008/1aeffprpmPPnz6tIkSL6559/7H6EVLFixWxe+/j4SFKG63QfeuihDOE8X7582r9/v/X1yZMn9cgjj9gEOkkqW7aspP++5jJz4cIFJSYmWj/LG9+blpam06dPq3z58jp58qSqVKmSYdz1d2BP16pVK02dOlXr169Xq1atdPjwYe3evVsjR47MtI50d/r1KElLlizR119/rSNHjthcs3yzffR6d9Jbe7c//bMuU6aMzXQPDw+VLFnS5utVkooUKZLpaeZZ/QwB4EYEbADAbW3btk0xMTFatWqVVq1alWH+ihUrFB4eLklq1qyZFixYoM2bN6thw4ZavXq1ypQpY3Pn6LS0NPn7+2d6QzTpv5BzveuPVKf77bff1Lt3bz3++ON65513VKhQIbm7u2vRokVauXLlHW9jWlqaJOmpp57S008/nemY9OtIsyo9BPz99992jS9btqz27t2rU6dOZQiI6dKDn71Hps3UrFkzjRkzxvrIsOXLl6tSpUoZws6dSO9D165dVbt27UzHZBYyb+fGMJzO+L8bt6VzdXW942U7Wrly5VSxYkUtX75crVq10vLly+Xu7q6mTZve8n13+vW4bNkyDR06VA0bNlS3bt1UoEABubq66osvvshwJkBmsqu3dyKz7yVS1j9DALgRARsAcFsrVqxQgQIFMr0z9Lp166w3NsuVK5cef/xxFSpUSN9//71CQ0O1bds29erVy+Y9Dz/8sPbt26caNWpk+VTiNWvWyNPTU1999ZXNEalFixbZjCtWrJjS0tJ04sQJlSpVyjr9xjtI+/n5KXfu3EpLS8vykd/bKV26tEqXLq0NGzbYdfp3vXr1tHLlSi1dulR9+vTJMD8+Pl4bNmxQmTJlTH0eeVpamo4fP25zpPXIkSOSZL3BnPTfKbv16tXTihUr1KJFC0VHR+vNN9+8q3WnHzl3d3e/bR8efvhhHThw4K7WlxXFixfX/v37lZaWZhPcDx8+LCnj0fJ0fn5+8vLysn6W1zt8+LBcXFxUtGhR6zpu/BqV/jsKnJlWrVpp7NixOnfunFauXKl69eopX758t9yOO/16XLNmjUqWLKlJkybZ7LcTJ060GXezffpOemvv9qd/1ocPH7Y56yIpKUknTpy4o305K58hANyIa7ABALd09epVrV27VvXq1dMTTzyR4V+HDh105coV6x2vXVxc9MQTT+jHH3/U8uXLlZKSkuEZzU2bNtXZs2f17bffZrq+hISE29bl6uoqi8Vivf5b+u8RQTc+7if9yPq8efNsps+ZMyfD8po0aaI1a9ZkekTvbk8PTzdgwADFxsbqrbfeyvT5wj/99JN+/PFHSVKTJk1Urlw5TZ06Vbt27bIZl5aWpnfeeUeXLl3KlmeRz5071/p/wzA0d+5cubu7Zzitv2XLljp48KDGjRsnV1dXNWvW7K7WW6BAAVWtWlULFizQuXPnMsy/vg+NGzfWvn37tG7dugzjbjwybaY6deooJibG5l4DKSkpmj17try9vfX4449n+j5XV1fVqlVLGzZssLnU4t9//9XKlSsVFhZmPW07PDxcv//+u/bu3WsdFxsba3PN+/WaN28ui8Wi9957T8ePH7f7Lu538vWYfnT/+s/2jz/+yPCIsfTnSt94+v2d9Nbe7a9Zs6bc3d01e/Zsm7oWLlyouLg4653f7ZHVzxAArscRbADALW3cuFFXrlxRREREpvOrVKkiPz8/LV++3BqkmzZtqtmzZ2vixIny9/e3XpuarmXLlvrhhx/0zjvvaPv27QoNDVVqaqoOHz6s1atXa9q0aQoKCrplXXXr1tX06dPVvXt3NW/eXOfPn9e8efP08MMP21wvW6lSJTVp0kQzZ85UbGys9TFdR48elWR7tG3QoEHavn27nnvuObVp00blypXTpUuXtHv3bv3yyy/69ddfb/t5HTt2LMNjxiQpMDBQ9erV05NPPqn9+/drypQp2rNnj5o3b65ixYpZbxD2yy+/aMKECZL+u4504sSJ6tKli9q3b6/WrVurUqVKiouL08qVK7V792517do101C7Z88eLVu2LMP0hx9+WCEhIbfcBk9PT23ZskWvv/66goODtWXLFm3atEm9evWyefSV9F8ffH19tXr1atWpU0cFChS47Wd0O++8847at2+vFi1a6LnnnlPJkiX177//6vfff9eZM2e0fPlySVK3bt20Zs0aDRw4UM8884wqVqyoS5cuaePGjRo5cqTNZQlmatu2rRYsWKChQ4dq9+7dKl68uNasWWM9gn+rR169/PLL+vnnn9W+fXu1b99erq6uWrBggZKSkvTaa69Zx3Xv3l3Lly/Xiy++qI4dO1ofU1W0aFHFxsZmOErs5+en2rVra/Xq1fLx8bF5TN2t3MnXY7169bR27Vr17dtX9erV04kTJ/TNN9+oXLlyNn8Uy5Url8qVK6cffvhBpUqVkq+vr8qXLy9/f3+7e2vv9vv5+emll17SpEmT1L17d0VEROjIkSOaN2+e9fnk9srqZwgA1yNgAwBuafny5fL09FStWrUyne/i4mI9TfjixYvKnz+/QkNDVbRoUZ0+fTrD0ev090yePFkzZszQsmXLtG7dOnl5ealEiRLq1KlTpjeBulGNGjX03nvvaerUqXr//fdVokQJDR48WCdPnrQJ2JL0wQcfqGDBglq1apXWrVunmjVr6uOPP9YTTzxhc3p5wYIF9d1332ny5Mlat26d5s+fL19fX5UrV06DBw+26/M6cuRIpjdwevbZZ62/sL/yyiuqXr26Zs+erfnz5+vSpUvy8fFR5cqV9dlnn6lBgwbW95UtW1bLly/Xl19+qY0bN2rx4sXKlSuXKlWqpM8///ymf/hYuXJlpteiP/3007cN2K6urpo2bZpGjBih8ePHK3fu3OrXr1+mzwP28PDQk08+qXnz5t3Vzc2uV65cOS1atEiTJk3SkiVLFBsbKz8/PwUGBtrUkDt3bs2dO1eRkZFat26dlixZogIFCqhGjRoqUqSIKbVkJleuXJo9e7Y+/PBDLVmyRPHx8SpdurTGjBmT4Q7VNypfvrzmzp2rCRMm6IsvvpBhGAoODtb48eOtz8CWpKJFi2rWrFkaPXq0vvjiC/n5+alDhw7y8vLS6NGj5enpmWHZLVu21I8//qimTZtmeiOvm7H367F169b6999/tWDBAv30008qV66cxo8fr9WrV2f449Po0aP17rvvasyYMUpOTla/fv3k7+9vd2/vZPv79+8vPz8/zZkzR2PGjFG+fPn03HPP6dVXX7V5BrY9svoZAkA6i5Gd51ABAOCk9u7dq1atWmn8+PGcCnqX3n//fS1cuFBbt261nh6M7PHee+9pwYIF2rlzZ4Ybsq1fv159+/bV3LlzrY8hu9/cavvN8CB8hgCyF9dgAwDue1evXs0wbebMmXJxcbnp9bKwz7Vr17R8+XI1adKEcG2yG79uL168qOXLlyssLCzTcPndd9+pZMmSCgsLy6kSs9Wdbr8Z7rfPEEDO4xRxAMB9b9q0afrrr79UvXp1ubq6avPmzdq8ebPatm1rvWsz7sz58+f1888/a82aNYqNjVXnzp0dXdJ9p23btqpatarKli2rf//9V4sWLVJ8fHyGO8qvWrVK+/fv16ZNmzRs2LAs35nf2di7/Wa4Xz9DADmPU8QBAPe9rVu3atKkSTp06JASEhJUtGhRtWzZUr169ZKbG39rzort27erc+fOKlCggPr06aOOHTs6uqT7zkcffaQ1a9bozJkzslgsCgwMVL9+/TI8eiogIEDe3t568sknNXLkyPvma9re7TfD/foZAsh5BGwAAAAAAEzANdgAAAAAAJiAgA0AAAAAgAm4wAS3tHPnThmGccfPkQQAAACA+0FycrIsFotCQkJuO5Yj2LglwzCs/+A8DMNQUlISfXEy9MU50RfnRF+cDz1xTvTFOdEX55RdfbmTPMQRbNySu7u7kpKSVK5cOXl7ezu6HPyfhIQE7d27l744GfrinOiLc6IvzoeeOCf64pzoi3PKrr7s2rXL7rEcwQYAAAAAwAQEbAAAAAAATEDAhl0sFoujS8B1LBaLvLy86IuToR8AAAAPNq7Bxm15eHjIy8vL0WXgOl5eXgoMDHR0GbiBh6cHd9wHAAB4gBGwYZdBiyfoUMxxR5cBOK2yhUpqQutBcnPj2yoAAMCDit8EYZdDMce158xhR5cBAAAAAE6La7ABAAAAADABARsAAAAAABMQsAEAAAAAMAEBGwAAAAAAExCwAQAAAAAwAQEbAAAAAAATELABAAAAADABARsAAAAAABMQsAEAAAAAMAEB+zqRkZEKCAhQhw4dMsx77733FBERYer6Tpw4oYCAAK1evdrU5QIAAAAAch4BOxO//fabtm/f7ugyAAAAAAD3EAL2Dby9vRUcHKzPPvvM0aWY7urVq44uAQAAAADuWwTsTPTp00fbtm1TdHR0pvMXL16sgIAAXbhwwWZ6y5YtNXToUJtpO3fuVNeuXRUaGqqQkBC1adNGW7duveX6Fy9erBYtWigoKEi1a9fWxx9/rNTUVOv8c+fO6Y033lCDBg0UHBysxo0b66OPPlJSUpLNcgICAvTll19q/PjxqlWrlmrUqHEnHwMAAAAA4A64OboAZ1S/fn0FBgZq8uTJ+uqrr7K8nB07dqhLly6qUqWKRo8eLR8fH/311186derUTd8zffp0jR8/Xl26dNHQoUN16NAha8AePHiwJOnixYvy9fXVG2+8IR8fHx09elSRkZGKiYnRmDFjbJY3a9YsVa5cWe+9955SUlKyvC0AAAAAgFsjYN9E79691b9/f/35558KDg7O0jLGjx+vRx55RDNnzpSrq6skKTw8/Kbj4+PjNXHiRHXv3l2vvvqqJKlWrVpyd3fX2LFj1a1bN+XPn18BAQF6/fXXre8LDQ2Vl5eXhg4dquHDh8vLy8s6L1++fJo0aZIsFkuWtgEAAAAAYB9OEb+JRo0ayd/fX5MnT87S+xMTE/XHH3+oVatW1nB9Ozt37lRCQoKeeOIJpaSkWP/VrFlTV69e1YEDByRJhmFoxowZevLJJxUcHKyKFStq8ODBSklJ0fHjx22WWadOHcI1AAAAAOQAjmDfhMViUa9evfTqq69q9+7dd/z+y5cvKy0tTYULF7b7PRcvXpQkPf3005nOP336tCRp5syZ+uCDD9S9e3dVq1ZNPj4+2rVrl0aNGqVr167ZvKdAgQJ3XDsAAAAA4M4RsG+hadOmioyM1GeffaZixYpZp3t6ekqSkpOTbcZfvnzZ+v+8efPKxcVF586ds3t9+fLlkyRNmjRJDz30UIb5JUqUkCStXr1aERERGjRokHXeoUOHMl0mR68BAAAAIGdwivgtuLi4qFevXtqwYYP2799vnV6kSBFJ0uHDh63TDh06ZD3CLP33uK8qVapo2bJlNncAv5WQkBB5eXnpzJkzCgoKyvAvf/78kv573Ja7u7vNe1esWJHl7QQAAAAA3D2OYN9GixYtNHnyZG3fvl3FixeXJFWuXFlFixbV+++/r0GDBik+Pl5ffvmlfH19bd47aNAgvfDCC3rhhRfUvn175cuXT7t371b+/Pn17LPPZliXj4+PBgwYoPHjx+vMmTOqWrWqXF1ddfz4cW3YsEGRkZHy8vJSzZo1NWvWLM2ZM0elSpXS8uXLdezYsZz4OAAAAAAAN8ER7NtwdXVVz549baa5u7tr0qRJ8vT01MCBA/XFF1/ojTfesB7ZTvfYY49p1qxZslgseuONN9SvXz+tX7/eGtQz07VrV40ZM0bbt2/XgAEDNHDgQH377bcKCgqyHrXu27evWrRooYkTJ+rVV1+Vp6en3nrrLfM3HgAAAABgN4thGIaji4Dz2rVrlyTp7Z+/0p4zh28zGnhwBT5URktf+kR79uxRqVKl5O3t7eiS8H8SEhK0d+9eVahQgb44EfrifOiJc6Ivzom+OKfs6kt6JgoKCrrtWI5gAwAAAABgAgI2AAAAAAAmIGADAAAAAGACAjYAAAAAACYgYAMAAAAAYAICNgAAAAAAJiBgAwAAAABgAgI2AAAAAAAmIGADAAAAAGACN0cXgHtD2UIlHV0C4NTYRwAAAEDAhl0mtB7k6BIAp5ealqqUlBRHlwEAAAAH4RRx3FZSUpISExMdXQauk5iYqD179tAXJ5N0LUnJycmOLgMAAAAOQsCGXQzDcHQJuI5hGEpMTKQvToZ+AAAAPNgI2AAAAAAAmICADQAAAACACQjYAAAAAACYgIANAAAAAIAJCNgAAAAAAJiAgA27WCwWR5eA61gsFnl5edEXJ0NfnBN9AQAAOcXN0QXA+Xl4eMjLy8vRZeA6Xl5eCgwMdHQZuAF9cU453Ze0tDS5uPD3awAAHkQEbNhl0k/TdPLyGUeXAQBOrbjPQ+oX3t3RZQAAAAchYMMuJy+f0dEL/zi6DAAAAABwWpzDBgAAAACACQjYAAAAAACYgIANAAAAAIAJCNgAAAAAAJiAgA0AAAAAgAkI2AAAAAAAmICADQAAAACACQjYAAAAAACYgIANAAAAAIAJ3BxdAP6/qKgozZkzR7t27VJcXJzy5cunSpUq6amnntKTTz4pFxf+HgIAAAAAzoqA7SQ++ugjffHFF2rUqJGGDx+uQoUK6d9//9X69ev12muvKV++fKpdu7ajywQAAAAA3AQB2wls2rRJX3zxhfr166f+/fvbzGvatKm6dOkiNzdaBQAAAADOjNTmBKZPn65ChQqpd+/emc4PDg62/n/Tpk2aOXOm9u3bp2vXrqls2bLq37+/6tSpYx1z+fJljRs3TlFRUYqNjZWfn59CQ0P18ccfZ/u2AAAAAMCDioDtYCkpKYqOjlaTJk3sOkp94sQJ1a9fX127dpWLi4s2b96snj17aubMmapWrZokacyYMdqyZYsGDRqk4sWLKyYmRps3b87uTQEAAACABxoB28FiY2OVlJSkokWL2kw3DEOpqanW1y4uLnJxcVHHjh2t09LS0lStWjUdPHhQ3377rTVg79q1S82bN9fTTz9tHdusWbNs3hIAAAAAeLARsJ2ExWKxeb1mzRoNHDjQ+rpDhw4aPny4zpw5o48//lg///yzYmJiZBiGJKlixYrWsYGBgVqyZIkKFSqk2rVry9/fP2c2AgAAAAAeYARsB/P19ZWHh4fOnDljM71GjRpauHChJFmvzU5LS1Pv3r0VFxenAQMG6JFHHpGXl5cmTpyo06dPW9/79ttvK1++fJo+fbrGjRunokWLqmfPnmrfvn3ObRgAAAAAPGAI2A7m5uam0NBQ/fLLL0pNTZWrq6skKV++fAoKCpIkeXh4SJKOHTumPXv2aPLkyWrYsKF1GVevXrVZZt68eTVs2DANGzZM+/fv16xZszRy5Ej5+/vrsccey6EtAwAAAIAHi4ujC4D04osv6ty5c5oyZcotx127dk2S5O7ubp128uRJ7dy586bvCQgI0BtvvCFJOnTokAnVAgAAAAAywxFsJ1CvXj317NlTEydO1L59+9S0aVMVLlxYcXFx+u233xQTE6PcuXOrTJkyeuihhzRhwgSlpaUpISFBEydOVOHChW2W165dOzVq1Ejly5eXq6urli5dKnd3d45eAwAAAEA2ImA7iUGDBiksLExz587VyJEjFR8fr3z58qlixYp6//331axZM7m4uCgyMlKjRo3SwIEDVbRoUfXu3Vvbtm3TX3/9ZV1WaGioli5dqhMnTsjFxUX+/v6aMmWKypYt68AtBAAAAID7GwHbidSrV0/16tW75Zjg4GDrzc/StWrVyub1kCFDNGTIEJOrAwAAAADcCtdgAwAAAABgAgI2AAAAAAAmIGADAAAAAGACAjYAAAAAACYgYAMAAAAAYAICNgAAAAAAJiBgAwAAAABgAgI2AAAAAAAmIGADAAAAAGACAjYAAAAAACZwc3QBuDcU93nI0SUAgNPjeyUAAA82Ajbs0i+8u6NLAIB7QlpamlxcOEEMAIAHEb8B4LaSkpKUmJjo6DJwncTERO3Zs4e+OBn64pxyui+EawAAHlz8FgC7GIbh6BJwHcMwlJiYSF+cDH1xTvQFAADkFAI2AAAAAAAmIGADAAAAAGACAjYAAAAAACYgYAMAAAAAYAICNgAAAAAAJiBgwy4Wi8XRJeA6FotFXl5e9MXJ0BfnRF8AAEBOcXN0AXB+Hh4e8vLycnQZuI6Xl5cCAwMdXQZuQF+cE33JmjQjTS4W/g4PAMCdIGDDLqv2zNX5hHOOLgMAkAMKeBdWs8AOji4DAIB7DgEbdjmfcE7n4k86ugwAAAAAcFqc+wUAAAAAgAkI2AAAAAAAmICADQAAAACACQjYAAAAAACYgIANAAAAAIAJCNgAAAAAAJiAgA0AAAAAgAkI2AAAAAAAmICADQAAAACACQjY2WThwoUKCAjQ0aNHbabPnj1bAQEBmjhxos302NhYPfroo5o6daoiIiI0atQoU+qYMWOGAgICTFkWAAAAAODm3BxdwP0qNDRUkrRz506VKlXKOj06OlpeXl7auXOnzfidO3fKMAyFhYWpVq1a8vHxyclyAQAAAAB3iSPY2aRMmTLy8/NTdHS0zfTo6Gg9/fTT+v3335Wammoz3dPTU5UqVVJgYKBKlCiR0yUDAAAAAO4CATsbhYaG2gTsU6dO6cyZM+rcubOSkpK0f/9+67zo6GhVqlRJHh4eGU4RHzp0qJo3b67t27erVatWqlKlip599ln99ddfNuuLj4/XkCFDFBISourVq2vcuHE2IR4AAAAAkH0I2NkoNDRUhw4d0qVLlyT9F6KLFi2q0qVLKyAgwBq+k5OTtWvXLoWFhd10WTExMRo9erS6deumTz75RNeuXVO/fv2UnJxsHfPmm29q3bp1Gjx4sD744AMdOnRIM2fOzN6NBAAAAABI4hrsbBUWFibDMPT777+rbt262rlzp0JCQiT9F7537typjh07as+ePbp27dotA/alS5c0Z84clS9fXpLk5eWlzp07648//tBjjz2mgwcPau3atRo9erSeffZZSVJ4eLgaN26c/RsKAAAAAOAIdnaqWLGicuXKZT1SHR0dbQ3YVapUsZlusVis8zJTuHBha7iWpHLlykmSzp49K0natWuXDMNQo0aNrGNcXV3VsGFDczcKAAAAAJApAnY2cnd3V1BQkKKjo3XlyhXt37/fGqJDQkKs12RHR0erXLlyypcv302XdeNdxd3d3SVJ165dk/TfKeTu7u4ZllGgQAEzNwkAAAAAcBME7GwWFhamXbt2aceOHfLw8FCFChUkScWLF1ehQoUUHR2tnTt3Wh/rlVWFChVScnKy9XrvdOfPn7+r5QIAAAAA7EPAzmahoaFKTEzU3LlzFRQUJDc3N5t5y5YtU0xMzF0H7KCgIEnSunXrrNNSU1O1fv36u1ouAAAAAMA+3OQsm4WEhMjFxUVRUVHq2bOnzbwqVapo3LhxknTLG5zZo1y5cmrUqJHef/99Xbt2TSVKlNC8efNs7jIOAAAAAMg+HMHOZj4+PipXrpwMw8hwE7OQkBAZhqHChQurZMmSd72u999/XxEREfrwww81ZMgQlS5dWl26dLnr5QIAAAAAbo8j2DlgxYoVmU4PCQnR/v37M0zfuHGjzeuxY8dmGOPj45PhvT4+Pvrwww8zjO3WrdudlAsAAAAAyAKOYAMAAAAAYAICNgAAAAAAJiBgAwAAAABgAgI2AAAAAAAmIGADAAAAAGACAjYAAAAAACYgYAMAAAAAYAICNgAAAAAAJiBgAwAAAABgAjdHF4B7QwHvwo4uAQCQQ/ieDwBA1hCwYZdmgR0cXQIAIAelGWlysXCiGwAAd4KfnLitpKQkJSYmOroMXCcxMVF79uyhL06Gvjgn+pI1hGsAAO4cPz1hF8MwHF0CrmMYhhITE+mLk6Evzom+AACAnELABgAAAADABARsAAAAAABMQMAGAAAAAMAEBGwAAAAAAExAwAYAAAAAwAQEbNjFYrE4ugRcx2KxyMvLi744GfrinOgLAADIKW6OLgDOz8PDQ15eXo4uA9fx8vJSYGCgo8vADeiLc6IvzsEw0mTh2doAgPscARt22Xl8ieKv/evoMgAA96A8ngUVUvJpR5cBAEC2I2DDLvHX/tXlq2ccXQYAAAAAOC3O1QIAAAAAwAQEbAAAAAAATEDABgAAAADABARsAAAAAABMQMAGAAAAAMAEBGwAAAAAAExAwAYAAAAAwAQEbAAAAAAATEDABgAAAADABATsbLR8+XI9++yzCgsLU2hoqJo2baphw4bp/Pnzd7ScyMhIhYSEZFOVAAAAAAAzuDm6gPvV1KlTNWHCBL3wwgsaMGCADMPQgQMHtGLFCp07d04FChRwdIkAAAAAABMRsLPJ7Nmz9fTTT2vo0KHWaXXr1lX37t2VlpbmkJqSkpLk5uYmFxdOXAAAAAAAsxGws8nly5dVuHDhTOddH3DT0tI0ZcoULVy4UOfOnVOJEiX0wgsvqF27djdddkJCgj788ENt3bpVZ86cUYECBRQeHq7XXntNefPmtY6LiIhQvXr1VLRoUc2bN0+nT5/Wzz//LD8/P/M2FAAAAAAgiYCdbSpWrKhvvvlGJUqUUL169VSoUKFMx40bN06zZs1S7969FRISok2bNumdd95RSkqKOnbsmOl7rl69qtTUVL3yyivy8/PT6dOnNWXKFPXp00ezZ8+2Gbt27Vo98sgjGjZsmFxcXOTt7W36tgIAAAAACNjZ5p133lG/fv301ltvSZJKlCih+vXr64UXXlCJEiUkSRcuXNCcOXPUrVs39e/fX5IUHh6uixcvavLkyXr++efl6uqaYdl+fn4aOXKk9XVKSopKlCih9u3b68iRIypdurR1XnJysqZOnUqwBgAAAIBsxsW42cTf318rV67Ul19+qc6dOytv3ryaPXu2nnrqKe3du1eS9Oeffyo5OVlPPPGEzXubNm2qCxcu6OjRozdd/tKlS9WqVSuFhISoYsWKat++vSRleE+1atUI1wAAAACQAwjY2cjDw0N169bVsGHDtHTpUk2bNk1Xr17V5MmTJUmXLl2SJBUsWNDmfemvY2NjM13uunXr9Prrrys4OFiffPKJvv32W+syr127ZjOWu5UDAAAAQM7gFPEcVLt2bT366KM6dOiQJMnX11eSdP78eRUpUsQ67t9//7WZf6PVq1erQoUKGjVqlHXar7/+mulYi8ViQuUAAAAAgNvhCHY2SQ/J17t69apOnz5tPUIdFBQkd3d3rV692mbcDz/8oAIFCqhUqVKZLvvq1atyd3e3mbZixQpzCgcAAAAAZAlHsLNJixYtVL9+fYWHh6tw4cI6e/as5syZo4sXL6pLly6S/rtZWceOHfXVV1/Jw8NDVapUUVRUlFauXKm333470xucSVLNmjU1atQoTZ48WSEhIYqKitIvv/ySk5sHAAAAALgBATub9OvXTz/++KPGjh2rCxcuKH/+/AoICNCMGTNUvXp167ghQ4Yob968WrhwoaZMmaLixYtr5MiRt3wOdrt27XTixAnNmTNHX331lcLDwzVhwgQ999xzObFpAAAAAIBMWAzDMBxdBJzXrl27JEmxXtt0+eoZB1cDALgX+eR6SLXL9bCZlpCQoL1796pChQo87cJJ0BPnRF+cE31xTtnVl/RMFBQUdNuxXIMNAAAAAIAJCNgAAAAAAJiAgA0AAAAAgAkI2AAAAAAAmICADQAAAACACQjYAAAAAACYgIANAAAAAIAJCNgAAAAAAJiAgA0AAAAAgAkI2AAAAAAAmMDN0QXg3pDHs6CjSwAA3KP4GQIAeFAQsGGXkJJPO7oEAMA9zDDSZLFw4hwA4P7GTzrcVlJSkhITEx1dBq6TmJioPXv20BcnQ1+cE31xDoRrAMCDgJ92sIthGI4uAdcxDEOJiYn0xcnQF+dEXwAAQE4hYAMAAAAAYAICNgAAAAAAJiBgAwAAAABgAgI2AAAAAAAmIGADAAAAAGACAjbsYrFYHF0CrmOxWOTl5UVfnAx9cU70xTnRFwDA/cjN0QXA+Xl4eMjLy8vRZeA6Xl5eCgwMdHQZuAF9cU70xTld3xfDSOM52QCA+wIBG3Y5dXGzklJiHV0GAOA+4+Hmq2L56zi6DAAATEHAhl2SUmJ1LeWCo8sAAAAAAKfF+VgAAAAAAJiAgA0AAAAAgAkI2AAAAAAAmICADQAAAACACQjYAAAAAACYgIANAAAAAIAJCNgAAAAAAJiAgA0AAAAAgAkI2AAAAAAAmICA7QQ2bNigrl27qmrVqqpUqZIiIiI0fPhwHTlyRJIUERGhUaNGZfreG+ctXrxYAQEB1n+PPfaY2rZtq/Xr1+fItgAAAADAg4qA7WAffvih+vTpozx58ujdd9/V9OnT1bdvXx08eFCvvPJKlpc7bdo0LViwQOPGjZOHh4f69u2rLVu2mFg5AAAAAOB6bo4u4EEWFRWlqVOnqk+fPho4cKB1+uOPP65nnnlGP/74Y5aXXbFiRfn5+UmSqlatqnr16mnOnDmqXbv2XdcNAAAAAMiII9gO9PXXX6tgwYLq06dPpvPr169vynry5Mmj0qVL68SJE6YsDwAAAACQEQHbQVJSUhQdHa3q1avL3d39tuMNw1BKSkqGf/ZITU3V6dOnVbhw4bstGwAAAABwE5wi7iCxsbFKSkpSsWLF7Bo/b948zZs3z+7lp6WlKSUlRRcuXNDnn3+umJgY9e/fP6vlAgAAAABug4DtYBaLxa5xTZs2Vbdu3TJM7927d6bja9WqZf1/rly51Lt3bz333HNZKxIAAAAAcFsEbAfx9fWVp6enTp06Zdd4Pz8/BQUFZZju4eGR6fgZM2YoT548ypcvn4oVKyY3N1oNAAAAANmJ1OUgbm5uCg0N1bZt25SSkmJ6AA4ICLDeRRwAAAAAkP24yZkDvfjii4qJidGUKVMynR8VFZXDFQEAAAAAsooj2A5Ut25dde/eXZGRkTp48KCaNWum/Pnz68SJE1q0aJHi4uJUt25dR5cJAAAAALADAdvBXnvtNYWEhGju3Ll68803lZiYqMKFCys8PDzTm5oBAAAAAJwTAdsJNGzYUA0bNrzp/I0bN9o9r3Xr1mrdurVptQEAAAAA7MM12AAAAAAAmCDLAfvcuXNm1gEAAAAAwD0tywG7Xr166tq1q5YuXaqEhAQzawIAAAAA4J6T5YA9YMAAnTt3TkOHDlWtWrU0ePBgbd68WWlpaWbWBwAAAADAPSHLNznr1auXevXqpT179mjFihVatWqVVq5cqQIFCqhZs2Zq0aKFgoKCzKwVAAAAAACnddd3EQ8MDFRgYKCGDBmibdu2acWKFVq8eLFmz56t0qVL66mnntJTTz2lYsWKmVEvAAAAAABOybS7iFssFoWFhalu3bqqXLmyDMPQsWPHNGnSJDVs2NB6SjkAAAAAAPcjU56DnX7keu3atYqPj5e/v79ef/11tWjRQq6urlq8eLG++OILDRkyRDNmzDBjlQAAAAAAOJUsB+x9+/Zp+fLlWrVqlc6dO6eCBQvq2WefVatWrRQQEGAztlu3bvL09NQHH3xw1wUDAAAAAOCMshywW7VqpVy5cqlBgwZq1aqVatWqJReXm59xXq5cOVWpUiWrqwMAAAAAwKllOWC///77atKkiXLnzm3X+OrVq6t69epZXR0czMPN19ElAADuQ/x8AQDcT7IUsBMTEzVnzhxdu3ZNzz//vNk1wQkVy1/H0SUAAO5ThpEmi8W0+64CAOAwWfpp5uXlpRMnTshisZhdD5xQUlKSEhMTHV0GrpOYmKg9e/bQFydDX5wTfXFO1/eFcA0AuF9k+Sda7dq19dNPP5lZC5yYYRiOLgHXMQxDiYmJ9MXJ0BfnRF+cE30BANyPshyw+/Tpo6NHj+q1117Tb7/9prNnzyo2NjbDPwAAAAAAHgRZvslZs2bNJEkHDx7UypUrbzpu7969WV0FAAAAAAD3jCwH7L59+3INNgAAAAAA/yfLAbt///5m1gEAAAAAwD3NtNt2Xr16VVevXjVrcXAynK3gXCwWi7y8vOiLk6Evzom+OCf6AgC4H2X5CLYknTp1SpGRkYqKitLFixclSfnz51fdunXVr18/FS9e3JQi4VgeHh7y8vJydBm4jpeXlwIDAx1dBm5AX5wTfXFOt+uLYRiEbwDAPSfLAfvQoUNq37694uLiVLNmTZUtW1aSdPjwYS1btkw//vij5s2bpzJlyphWLBwnKemAjDSeIQsAyH4WFy95eJR3dBkAANyxLAfsCRMmyMXFRUuWLFFAQIDNvL///lsvvPCCJkyYoMmTJ991kXA8Iy1RhnHF0WUAAB4EaY4uAACArMnyNdj/+9//1KlTpwzhWpL8/f3VoUMH/frrr3dVHAAAAAAA94osB+yUlBTlypXrpvO9vLyUkpKS1cUDAAAAAHBPyXLArlChgr777jvFxcVlmBcfH6+FCxdyUxkAAAAAwAPjrp6D3aNHDzVt2lStW7dWqVKlJElHjhzRkiVLFBsbq+HDh5tVJwAAAAAATi3LAbtGjRr68ssvNW7cOH355Zc28ypUqKDx48erevXqd10gAAAAAAD3grt6DnbNmjW1dOlSxcTE6NSpU5KkYsWKqVChQqYUBwAAAADAveKuAna6QoUKEaoBAAAAAA+0LAfspUuX3naMp6enHnroIVWsWFEeHh5ZXRUAAAAAAE4vywF76NChslgskiTDMGzmXT/dYrEoT5486tmzp3r06HEXpQIAAAAA4Lyy/JiupUuXKiAgQNWqVVNkZKSWLVumZcuWaeLEiapataoqVKig+fPnKzIyUoGBgfroo480b948M2vPUZGRkQoJCcl03okTJxQQEKDVq1fnyLpPnDihyMhInT17NlvWBwAAAAC4c1kO2DNnzlSBAgU0Y8YMNWrUSAEBAQoICFDjxo01Y8YM5c+fXwsXLlTDhg01ffp0Va5cWfPnzzezdqdRuHBhLViwINvumt6mTRvNnDnT+vrkyZOaNGmSzp07ly3rAwAAAADcuSwH7PXr16tBgwaZzrNYLIqIiNC6dev+W4mLi5o0aaJjx45ldXVOzcPDQ1WqVJGvr2+2LP+hhx5ScHBwtiwbAAAAAGCOLAfstLQ0HTly5Kbzjxw5orS0NOtrDw8PeXp6ZnV1Ti2zU8STkpI0evRoVa1aVY899piGDx+uFStWKCAgQCdOnLB537JlyzRq1Cg9/vjjCg8P1wcffKCUlBTrsq4/RXz79u3q3LmzJOnZZ5+1njmQ7vLlyxoxYoTCw8NVqVIltW7dWj/99FNOfAwAAAAA8EDLcsCOiIjQ/PnzNWfOHF27ds06/dq1a5o9e7a++eYb1a9f3zp9586devjhh++u2nvIhAkT9M0336h79+76+OOPlZaWpgkTJmQ69pNPPpGLi4s++eQTtWvXTl9//bW+++67TMdWrFhRw4cPlySNGTNGCxYs0IIFCyT9F+pffPFFbdq0SS+//LI+//xzlS1bVi+99JL279+fPRsKAAAAAJB0F3cRHzZsmI4fP67Ro0frgw8+sD4HOyYmRsnJyQoODtawYcMk/Re6c+XKpRdffNGcqp1cbGys5s+fr969e6tnz56SpNq1a+uFF17Q6dOnM4wPDg7WW2+9JUmqVauWtm/frjVr1uj555/PMDZPnjwqV66cJKl8+fIKCgqyzluxYoX27dunZcuWWcfUrl1bx44d02effaZPP/3U9G0FAAAAAPwnywHb19dX8+fP17p167RlyxadOnVKkhQeHq7w8HA1bNhQLi7/HSD39PTU6NGjzan4HvD333/r2rVrGa5Rb9CggX755ZcM48PDw21ely1bVtu2bbvj9W7dulX+/v4qVaqUzSnmNWvW1PLly+94eQAAAAAA+2U5YEv/3cyscePGaty4sVn13BdiYmIkSfnz57eZXqBAgUzH582b1+a1u7u7kpKS7ni9Fy9e1J49e1SxYsUM81xdXe94eQAAAAAA+91VwJaks2fP6n//+5/Onz+vJk2a6KGHHlJaWpouX76svHnzPpDBLv10+YsXL6pIkSLW6efPn8/W9ebLl08BAQF67733snU9AAAAAICMshywDcPQ2LFjNXfuXKWkpMhiscjf318PPfSQrly5ooiICA0YMEAvvPCCieXeG8qXLy9PT0+tX79ejz76qHX6+vXrTVm+u7u7JNncXE7671TwqKgoFS5c2CbYAwAAAACyX5YD9rRp0zRr1iz16NFDNWrUsLmBWd68edW4cWOtXbv2vgrYqampNo/iSnfjqd/58+fX888/rylTpsjT01MVKlTQ6tWrdfToUUmyXpueVaVKlZKrq6sWLVokNzc3ubq6KigoSK1atdI333yjzp07q2vXripVqpTi4uK0Z88eJScna9CgQXe1XgAAAADAzWU5YH/33Xdq1aqVXn31VV28eDHD/ICAAG3evPmuinM2165d08CBAzNMz2zaoEGDlJKSoi+//FJpaWlq1KiRevbsqVGjRmW45vpO+fn5afjw4Zo2bZqWL1+ulJQU7d+/Xx4eHpo1a5YiIyM1ZcoUxcTEyNfXV4GBgWrfvv1drRMAAAAAcGsWwzCMrLwxKChIb7/9tp577jldvHhRNWrU0PTp01WjRg1J0jfffKP3339ff/75p6kF38tee+017dixQxs3bnR0KXbbtWuXJMm/vCHDuOLgagAADwKLJbc8cwU7uowHTkJCgvbu3asKFSrI29vb0eXg/9AX50RfnFN29SU9E13/iOSbyfIR7AIFCmT6TOd0u3fvVtGiRbO6+Hver7/+qujoaFWsWFFpaWnatGmTVqxYoaFDhzq6NAAAAABANshywG7UqJG++eYbtW7dWnny5JH032O7JOmnn37SkiVL1K1bN3OqvAd5e3tr06ZNmjp1qq5du6bixYtr6NCh99U16QAAAACA/y/LAXvAgAHavn27WrZsqccee0wWi0VTp07Vp59+qt9//10VKlRQr169zKz1nlKpUiV98803ji4DAAAAAJBDsnw767x58+rbb79V9+7ddfbsWXl6eup///uf4uLi1LdvX82bN09eXl5m1goAAAAAgNPK8hFsScqVK5f69OmjPn36mFUPAAAAAAD3pCwfwe7cubN++eWXm87ftm2bOnfunNXFAwAAAABwT8lywP7111/177//3nT+hQsX9L///S+riwcAAAAA4J6S5YAt/f+7hmfm2LFjyp07990sHgAAAACAe8YdXYO9ZMkSLVmyxPr6888/17fffpthXFxcnPbv3686dercfYUAAAAAANwD7ihgJyYm6uLFi9bXV65ckYtLxoPg3t7eateunfr27Xv3FQIAAAAAcA+4o4Ddvn17tW/fXpIUERGhYcOGqUGDBtlSGJyLxcVLSnN0FQCAB4HFhcd8AgDuTVl+TNfGjRvNrANOzsOjvKNLAAA8QAzDuOW9XgAAcEZ39RzsdPHx8YqPj1daWsZDnMWKFTNjFXCgpKQkJSYmysuLIwrOIjExUUeOHFHp0qXpixOhL86Jvjin2/WFcA0AuBfdVcCeN2+eZsyYoePHj990zN69e+9mFXAShmE4ugRcxzAMJSYm0hcnQ1+cE31xTvQFAHA/yvJjuubPn69Ro0bp4Ycf1ssvvyzDMNSlSxf17NlTBQsW1KOPPqr33nvPzFoBAAAAAHBaWQ7Yc+bMUXh4uKZNm6bnnntOklS3bl298sor+v7773XlyhXFxsaaVScAAAAAAE4tywH7n3/+Uf369SVJ7u7ukqTk5GRJUt68efXss89q3rx5JpQIAAAAAIDzy3LAzps3r1JTUyVJefLkkZeXl86cOWOdnzt3bv377793XyEAAAAAAPeALAfs8uXLa9++fdbXlStX1vz583X27FmdPn1aCxYsUKlSpcyoEQAAAAAAp5flgP3UU0/pwIEDSkpKkiT1799fhw4dUr169RQREaEjR47o5ZdfNqtOOBiPS3EuFotFXl5e9MXJ0BfnRF+cE30BANyPsvyYrmeeeUbPPPOM9XVYWJhWrVqljRs3ytXVVbVq1VLp0qVNKRKO5eHhwbNjnYyXl5cCAwMdXQZuQF+cE31xTnfSF8NIk8WS5WMCAADkmDsK2NeuXdN7772n8uXLq1OnThnmlyxZUl26dNGsWbM0c+ZMDRs2zHoDNNzbEs5tUVryJUeXAQB4wLi455N34dqOLgMAALvcUcBesGCBlixZou+///6W4+rXr6/x48fL399f7du3v6sC4RzSki8pLemCo8sAAAAAAKd1R+db/fDDD2rcuLFKlix5y3ElS5ZUkyZNtGrVqrsqDgAAAACAe8UdBey///5bYWFhdo0NDQ3V/v37s1QUAAAAAAD3mjsK2MnJyXZfU+3u7m69wzgAAAAAAPe7OwrYhQsX1oEDB+wae+DAARUuXDhLRQEAAAAAcK+5o4Bds2ZNLVu2TOfPn7/luPPnz2vZsmWqWbPmXRUHAAAAAMC94o4Cdo8ePXTt2jV16dJFf/zxR6Zj/vjjD73wwgu6du2aunfvbkqRAAAAAAA4uzt6TFfJkiX1ySef6NVXX1W7du1UsmRJ+fv7K3fu3Lpy5YoOHDigf/75R7ly5dJHH32khx9+OLvqBgAAAADAqdxRwJakevXqafny5Zo6dao2bdqk9evXW+cVLlxYbdq0UY8ePW77KC8AAAAAAO4ndxywJalEiRIaOXKkJCk+Pl5XrlxR7ty5lSdPHlOLAwAAAADgXnFH12BnJk+ePCpSpIip4ToqKko9evRQ9erVVbFiRdWsWVM9e/bUypUrlZaWZtp60s2YMUNRUVEZpkdERGjUqFGmry8nLV68WAEBAbpw4YKjSwEAAACA+9pdB2yzffTRR+rZs6c8PT01fPhwzZgxQ2+//bby5s2r1157TVu3bjV9nbNmzco0YAMAAAAAYK8snSKeXTZt2qQvvvhC/fr1U//+/W3mNW3aVF26dJGbm1OVnGWpqalKS0uTu7u7o0sBAAAAAJjAqY5gT58+XYUKFVLv3r0znR8cHKzAwEDr602bNqlNmzYKDg5W9erV9c477yghIcHmPSdPntSAAQMUFhamKlWqqFu3btq/f791fkREhE6ePKm5c+cqICBAAQEBWrx4sc0y5s6dq/r16yssLEx9+vTJcLr15cuXNWLECIWHh6tSpUpq3bq1fvrpJ5sxnTp10ksvvaQlS5aoSZMmCgoK0r59+zR06FA1b95cP//8s1q0aKHg4GB17NhRJ06cUGxsrAYOHKjQ0FA1bNhQ33//vc0yN23apBdffFE1atRQaGio2rRpo82bN9v/gQMAAAAATOM0h4NTUlIUHR2tJk2a2HWUevXq1XrllVfUunVr9e/fXzExMZowYYIuX76sjz/+WNJ/N2Dr1KmTXFxcNHLkSHl6eurzzz9Xx44dtXz5chUtWlSTJk1Sz549FRoaqq5du0qSzePFNm7cqGPHjmn48OG6ePGixowZo3fffde6jqSkJL344os6f/68Xn75ZRUpUkTLly/XSy+9ZL3+Od1ff/2lkydPauDAgfLx8VHRokUlSTExMRo7dqx69+4tNzc3jR49WoMHD5aXl5cee+wxPffcc/r222/12muvqXLlyipevLgk6cSJE6pfv766du0qFxcXbd68WT179tTMmTNVrVo1cxoDAAAAALCL0wTs2NhYJSUlWUNnOsMwlJqaan3t4uIii8WicePG6cknn9R7771nnVeoUCH17NlTffr0Ufny5bV48WKdOnVKq1atUtmyZSVJjz/+uOrXr6+ZM2dq6NChCgwMlIeHhwoWLKgqVapkqMswDH3++efy8PCQ9N8R8S+++EJpaWlycXHRihUrtG/fPi1btkzlypWTJNWuXVvHjh3TZ599pk8//dS6rEuXLmnhwoUZtvHSpUuaM2eOypcvL0k6d+6c3n33XfXo0UN9+/aVJAUFBWndunVav369unTpIknq2LGjdRlpaWmqVq2aDh48qG+//ZaADQAAAAA5zKlOEZcki8Vi83rNmjWqWLGi9d/o0aN15MgRnTx5Uk2bNlVKSor1X9WqVeXi4qK//vpLkvTbb7+pfPny1nAtSb6+vqpZs6Z27NhhVz2PP/64NVxLUtmyZZWcnKzz589LkrZu3Sp/f3+VKlXKppaaNWtq165dNsvy9/fPEK6l/54fnh6uJalUqVKSpJo1a1qn+fj4yM/PT2fOnLFOO3PmjF5//XXVrl1bgYGBqlixon766ScdOXLErm0DAAAAAJjHaY5g+/r6ysPDwyZASlKNGjW0cOFCSbJem33x4kVJsh7dvdHp06cl/XdtdMGCBTPML1CggA4cOGBXXT4+Pjav08P2tWvXrLXs2bNHFStWzPBeV1dXm9eZ1ZLZOtJvfJY3b94M605fb1pamnr37q24uDgNGDBAjzzyiLy8vDRx4kTr9gMAAAAAco7TBGw3NzeFhobql19+UWpqqjWc5suXT0FBQZL+f7j19fWVJA0fPlzBwcEZllW4cGHrezM7mnv+/Hnly5fPlLrz5cungIAAm1PVb+bGo/N349ixY9qzZ48mT56shg0bWqdfvXrVtHUAAAAAAOznNAFbkl588UW99NJLmjJlyk2PTktSmTJl9NBDD+n48ePq0KHDTceFhYVpzZo1Onz4sMqUKSPpv+udf/75Z7Vt29Y6zt3d3Xpk+E7VrFlTUVFRKly4sIoUKZKlZWRFer3XP+br5MmT2rlzp/UUcwAAAABAznGqgF2vXj317NlTEydO1L59+9S0aVMVLlxYcXFx+u233xQTE6PcuXPLYrFo6NChGjx4sBISElSvXj15eXnp1KlTioqK0iuvvKLSpUurdevWmjFjhl566SW9/PLL1ruIu7m5WW8UJv0X2Ldt26atW7fKx8dHJUqUUP78+e2quVWrVvrmm2/UuXNnde3aVaVKlVJcXJz27Nmj5ORkDRo0KFs+q/Q/MkyYMEFpaWlKSEjQxIkTrUfvAQAAAAA5y6kCtiQNGjRIYWFhmjt3rkaOHKn4+Hjly5dPFStW1Pvvv69mzZpJkpo2bSofHx9NmTJFK1askCQVL15ctWvXtl7rnCdPHs2ePVtjx47V22+/rbS0NIWGhmrOnDk2Nxt79dVXNWLECPXv319XrlzRmDFj1Lp1a7vq9fDw0KxZsxQZGakpU6YoJiZGvr6+CgwMVPv27U3+dGzXGxkZqVGjRmngwIEqWrSoevfurW3btllv8gYAAAAAyDkWwzAMRxcB55V+J/TSfseUlnTBwdUAAB40Lh5+ylO8uaPLeCAkJCRo7969qlChgry9vR1dDv4PfXFO9MU5ZVdf0jNR+r3BbsXpHtMFAAAAAMC9iIANAAAAAIAJCNgAAAAAAJiAgA0AAAAAgAkI2AAAAAAAmICADQAAAACACQjYAAAAAACYgIANAAAAAIAJCNgAAAAAAJiAgA0AAAAAgAncHF0A7g0u7vkcXQIA4AHEzx8AwL2EgA27eBeu7egSAAAPKMNIk8XCSXcAAOfHTyvcVlJSkhITEx1dBq6TmJioPXv20BcnQ1+cE31xTnfSF8I1AOBewU8s2MUwDEeXgOsYhqHExET64mToi3OiL86JvgAA7kcEbAAAAAAATEDABgAAAADABARsAAAAAABMQMAGAAAAAMAEBGwAAAAAAExAwIZdLBaLo0vAdSwWi7y8vOiLk6Evzom+OCf6AgC4H7k5ugA4Pw8PD3l5eTm6DFzHy8tLgYGBji4DN6Avzom+OKc76YthpPEsbADAPYGADbvE7V6s1Cv/OroMAMADxjV3QeWt2NrRZQAAYBcCNuySeuVfpcafcXQZAAAAAOC0ON8KAAAAAAATELABAAAAADABARsAAAAAABMQsAEAAAAAMAEBGwAAAAAAExCwAQAAAAAwAQEbAAAAAAATELABAAAAADABAdtBNmzYoK5du6pq1aqqVKmSIiIiNHz4cB05csTU9Wzfvl0BAQHatWuXqcsFAAAAANgiYDvAhx9+qD59+ihPnjx69913NX36dPXt21cHDx7UK6+84ujyAAAAAABZ4OboAh40UVFRmjp1qvr06aOBAwdapz/++ON65pln9OOPPzqwOgAAAABAVnEEO4d9/fXXKliwoPr06ZPp/Pr160uSrl27pjFjxig8PFxBQUFq2bKl1q1bZzN2586d6tWrl8LDw1WlShW1bNlSS5cuze5NAAAAAABkgiPYOSglJUXR0dFq3Lix3N3dbzl28ODB2rJli15++WWVKVNGy5YtU//+/TV58mQ1aNBAknTq1CmFhobq+eefl4eHh6Kjo/XWW2/JMAw9/fTTObFJAAAAAID/Q8DOQbGxsUpKSlKxYsVuOW7fvn1au3atRo4cqXbt2kmS6tSpo5MnT9oE7GbNmlnfYxiGHn/8cZ09e1YLFiwgYAMAAABADiNgO4DFYrnl/B07dkiSnnjiCZvpTZs21ZgxY5SQkCBvb29dunRJkZGR2rBhg86ePavU1FRJkq+vb7bUDQAAAAC4OQJ2DvL19ZWnp6dOnTp1y3GXLl2Su7t7hqBcsGBBGYahuLg4eXt7a+jQodq5c6f69u2rcuXKKU+ePJo/f75++OGHbNwKAAAAAEBmuMlZDnJzc1NoaKi2bdumlJSUm47Lly+fkpOTdenSJZvp//77rywWi/Lmzatr165p06ZN6t27tzp16qQaNWooKChIhmFk92YAAAAAADJBwM5hL774omJiYjRlypRM50dFRSksLEyStHr1apt5q1evVmBgoLy9vZWUlKS0tDSbm6XFx8dr48aN2Vc8AAAAAOCmOEU8h9WtW1fdu3dXZGSkDh48qGbNmil//vw6ceKEFi1apLi4OC1dulSNGzfW2LFjdfXqVZUuXVrLly/Xzp079dlnn0mS8ubNq6CgIE2dOlV+fn5yc3PTl19+qTx58ujChQsO3koAAAAAePAQsB3gtddeU0hIiObOnas333xTiYmJKly4sMLDw9WtWzdJ0vjx4/XRRx9p6tSpio2NVZkyZTRx4kRFRERYlzNhwgQNHz5cQ4cOla+vrzp16qSEhAR9/fXXjto0AAAAAHhgWQwu2sUt7Nq1S5JUMvEXpcafcXA1AIAHjWueh+Rbtaejy3ggJCQkaO/evapQoYK8vb0dXQ7+D31xTvTFOWVXX9IzUVBQ0G3Hcg02AAAAAAAmIGADAAAAAGACAjYAAAAAACYgYAMAAAAAYAICNgAAAAAAJiBgAwAAAABgAgI2AAAAAAAmIGADAAAAAGACAjYAAAAAACYgYAMAAAAAYAI3RxeAe4Nr7oKOLgEA8ADi5w8A4F5CwIZd8lZs7egSAAAPKMNIk8XCSXcAAOfHTyvcVlJSkhITEx1dBq6TmJioPXv20BcnQ1+cE31xTnfSF8I1AOBewU8s2MUwDEeXgOsYhqHExET64mToi3OiL86JvgAA7kcEbAAAAAAATEDABgAAAADABARsAAAAAABMQMAGAAAAAMAEBGwAAAAAAExAwIZdLBaLo0vAdSwWi7y8vOiLk6Evzom+OCf6AgC4H7k5ugA4Pw8PD3l5eTm6DFzHy8tLgYGBji4DN6Avzom+OCdn6ouRliaLC8ccAAB3j4ANu5xf85VSLp52dBkAAJjKLX9RFWjSzdFlAADuEwRs2CXl4mklxxx3dBkAAAAA4LQ4HwoAAAAAABMQsAEAAAAAMAEBGwAAAAAAExCwAQAAAAAwAQEbAAAAAAATELABAAAAADABARsAAAAAABMQsAEAAAAAMAEBGwAAAAAAExCw71JkZKRCQkLueN6deO+99xQREXHXywEAAAAAZB8CNgAAAAAAJiBg3yeuXr3q6BIAAAAA4IFGwM4hrVu31qBBgzJMHz9+vMLDw5WamipJOnv2rHr16qXKlSurdu3amjp1aob3LF68WAEBAdq5c6defPFFValSRePGjZMk7d+/X926dVOVKlUUFhamAQMG6NSpU9m7cQAAAAAAuTm6gPtFSkpKhmlpaWnW/7dp00Zjx45VXFyc8ubNK0lKTU3VsmXL9PTTT8vV1VWS1KdPH509e1YjRoxQ3rx5NXXqVJ0+fVpubhlbNWjQILVt21YvvfSSvLy8dPr0aXXs2FElS5bU+PHjde3aNX388cfq2LGjli9frjx58mTT1gMAAAAACNgmSEhIUMWKFTOd5+3tLUlq0aKFPvjgA61YsULt27eXJEVFRSkmJkbPPPOMJGnz5s3666+/NGPGDNWoUUOSVK1aNdWtW1e+vr4Zlt2uXTv17NnT+nrMmDFKSUnR119/bR1foUIFNWvWTEuWLFGnTp3M2mQAAAAAwA0I2CbIlSuX5syZk2H6t99+q5UrV0qS8uTJo6ZNm2rRokXWgL148WI99thjKlWqlCTpzz//VN68ea3hWpLy5s2rmjVras+ePRmWX69ePZvXv/32m6pVq2YTxsuWLatHH31UO3bsIGADAAAAQDYiYJvAxcVFQUFBGaZv2rTJ5vVzzz2ndu3aad++fSpcuLA2bdqkUaNGWeefO3dOfn5+GZZToECBTNdbsGBBm9eXL19WhQoVMn3/pUuX7NkUAAAAAEAWEbBzUEhIiMqXL69FixapWLFi8vDw0BNPPGGdX7hwYV24cCHD+86fP2/X8vPly5fp2PPnz1uPkgMAAAAAsgd3Ec9hbdq00YoVK7Rw4UI9+eST1mu0JSkoKEhxcXH65ZdfrNPi4uL0888/27XssLAwbdu2zeZo9eHDh7V//36FhYWZtxEAAAAAgAwI2DmsZcuWunLlig4ePKhnn33WZl6dOnVUsWJFvfbaa1q6dKk2bNig7t2723337xdeeEFubm7q2rWr1q9fr1WrVumll15S0aJF9fTTT2fH5gAAAAAA/g8BO4f5+vqqatWqKleunKpUqWIzz2Kx6LPPPlPFihU1fPhwvfPOO4qIiFCTJk3sWnbRokU1e/Zs5cuXT4MHD9bbb7+tRx99VLNnz+YRXQAAAACQzSyGYRiOLuJBEh8fr9q1a6t///7q2rWro8u5rV27dkmSCu9epuSY4w6uBgAAc7kXKqki7d5ydBlOISEhQXv37lWFChVsLmGDY9EX50RfnFN29SU9E2V2Y+sbcZOzHBIfH69Dhw5p3rx5slgsat26taNLAgAAAACYiICdQ3bv3q3OnTuraNGi+uCDD2yeVQ0AAAAAuPcRsHNItWrVtH//fkeXAQAAAADIJtzkDAAAAAAAExCwAQAAAAAwAQEbAAAAAAATELABAAAAADABARsAAAAAABMQsAEAAAAAMAEBGwAAAAAAE/AcbNjFLX9RR5cAAIDp+PkGADATARt2KdCkm6NLAAAgWxhpabK4cFIfAODu8dMEt5WUlKTExERHl4HrJCYmas+ePfTFydAX50RfnJMz9YVwDQAwCz9RYBfDMBxdAq5jGIYSExPpi5OhL86Jvjgn+gIAuB8RsAEAAAAAMAEBGwAAAAAAExCwAQAAAAAwAQEbAAAAAAATELABAAAAADABARt2sVgsji4B17FYLPLy8qIvToa+OCf64pzoi/OhJwBw99wcXQCcn4eHh7y8vBxdBq7j5eWlwMBAR5eBG9AX50RfnBN9cT7O2hMjLY1nlQO4ZxCwYZcTX32ka6dPOLoMAADwAPEsWkIlur3q6DIAwG4EbNjl2ukTunr8sKPLAAAAAACnxfk2AAAAAACYgIANAAAAAIAJCNgAAAAAAJiAgA0AAAAAgAkI2AAAAAAAmICADQAAAACACQjYAAAAAACYgIANAAAAAIAJCNhOKDIyUgEBAdZ/QUFBatq0qaZOnaq0tDRJ0okTJxQQEKDVq1c7uFoAAAAAgCS5OboAZC5XrlyaOXOmJOnq1avavn27JkyYIMMw1LNnTxUuXFgLFixQqVKlHFsoAAAAAEASAdtpubi4qEqVKtbX1atX199//621a9eqZ8+e8vDwsJkPAAAAAHAsThG/h+TOnVspKSmSMj9FPC0tTZ999pkiIiJUqVIlPfHEE/rmm28cVS4AAAAAPFA4gu3E0sN0+inia9eu1UsvvXTT8ePGjdOsWbPUu3dvhYSEaNOmTXrnnXeUkpKijh075lTZAAAAAPBAImA7qYSEBFWsWNFm2pNPPqmePXtmOv7ChQuaM2eOunXrpv79+0uSwsPDdfHiRU2ePFnPP/+8XF1ds71uAAAAAHhQcYq4k8qVK5cWLlyohQsXat68eRo2bJi2bNmit956K9Pxf/75p5KTk/XEE0/YTG/atKkuXLigo0eP5kDVAAAAAPDg4gi2k3JxcVFQUJD1dVhYmFJTUzV27Fi9+OKL8vb2thl/6dIlSVLBggVtpqe/jo2Nzd6CAQAAAOABxxHse0iZMmUkSQcPHswwz9fXV5J0/vx5m+n//vuvzXwAAAAAQPYgYN9DDhw4IEnKnz9/hnlBQUFyd3e3uau4JP3www8qUKAAz8sGAAAAgGzGKeJOKi0tTb///rskKTk5Wbt379bnn3+ucuXK6bHHHtPZs2dtxvv5+aljx4766quvrM/IjoqK0sqVK/X2229zgzMAAAAAyGYEbCd19epVtW3bVpLk5uamhx56SE899ZT69esnd3f3TN8zZMgQ5c2bVwsXLtSUKVNUvHhxjRw5Uu3atcvJ0gEAAADggUTAdkL9+/e3PmrrZkqUKKH9+/fbTHNxcVHfvn3Vt2/f7CwPAAAAAJAJrsEGAAAAAMAEBGwAAAAAAExAwAYAAAAAwAQEbAAAAAAATEDABgAAAADABARsAAAAAABMQMAGAAAAAMAEBGwAAAAAAExAwAYAAAAAwAQEbAAAAAAATODm6AJwb/AsWsLRJQAAgAcMv38AuNcQsGGXEt1edXQJAADgAWSkpcniwkmXAO4NfLfCbSUlJSkxMdHRZeA6iYmJ2rNnD31xMvTFOdEX50RfnI+z9oRwDeBewncs2MUwDEeXgOsYhqHExET64mToi3OiL86JvjgfegIAd4+ADQAAAACACQjYAAAAAACYgIANAAAAAIAJCNgAAAAAAJiAgA0AAAAAgAkI2LCLxWJxdAm4jsVikZeXF31xMvTFOdEX50RfnA89cU70xTnRF9yMxeBZDLiFXbt2SZKCgoIcXAkAAACA+5WRmiqLq+tdLSMhIUF79+5VhQoV5O3tbVJld5aJ3ExbK+5rf44apSvHjjm6DAAAAAD3mdyPPKLg4cMdXYYpCNiwy5VjxxT399+OLgMAAAAAnBbXYAMAAAAAYAICNgAAAAAAJiBgAwAAAABgAgI2AAAAAAAmIGADAAAAAGACAjYAAAAAACYgYAMAAAAAYAICNgAAAAAAJiBgAwAAAABgggc2YEdGRiogICDDv+bNm5u+rqFDh2bLcjMTGRmpkJAQ6+vt27crICBAu3btypH1AwAAAMCDys3RBThSrly5NHPmzAzTAAAAAAC4Uw90wHZxcVGVKlUcXQYAAAAA4D7wwJ4ifjsREREaNWqUzbT169crICBAJ06csE5LSkrSRx99pPr166tSpUpq2rSpVqxYkaV1Hjp0SP369VPVqlVVuXJlPfXUU1q5cqV1vmEY+uqrr9SkSRNVqlRJDRo00IwZM7K0LgAAAACAuR7oI9iSlJKSYvPa1dVVFovF7vcPHDhQ0dHR6tu3r8qWLauoqCi99tpr8vHxUd26de1eztGjR9W2bVsVLVpUw4YNU6FChfT333/r1KlT1jHvvfeevvvuO/Xq1UuVK1dWdHS0PvzwQ3l6eur555+3e10AAAAAAPM90AE7ISFBFStWtJk2btw4tWzZ0q73b9u2TRs3btRXX32l8PBwSVKtWrUUExOjyMjIOwrYkZGRcnd31/z585UnTx5JUs2aNa3z//nnH82ZM0cjR45U27ZtrfOvXr2qyZMnq23btnJx4YQEAAAAAHCUBzpg58qVS3PmzLGZVrJkSbvfv3XrVvn6+qp69eo2R8Jr1qypESNGKDU1Va6urnYta9u2bWrSpIk1XN/o559/liQ1btw4w7qmTp2q06dPq3jx4nbXDgAAAAAw1wMdsF1cXBQUFJTl91+8eFGxsbEZjoKni4mJ0UMPPWTXsmJjY1W4cOFbrsswDFWvXj3T+QRsAAAAAHCsBzpg34qHh4eSk5Ntpl26dMnmdb58+eTn56cvv/wy02X4+fnZvT5fX1+dO3fupvPz5csni8WiefPmyd3dPcP80qVL270uAAAAAID5CNg38dBDD+nQoUM207Zu3WrzumbNmpo2bZrc3d316KOP3tX6atSooTVr1mjw4MGZniZeo0YNSf8d6Y6IiLirdQEAAAAAzEfAvokmTZpoxIgRmjRpkkJCQhQVFaXff//dZkytWrVUv359de/eXd27d1dAQIASExN18OBBHTt2TO+9957d6+vXr582bdqk9u3bq3v37ipUqJAOHTqkxMRE9ejRQ6VLl1aHDh00ZMgQdevWTZUrV1ZycrKOHj2q7du367PPPjP5EwAAAAAA3AkC9k20adNG//zzj+bPn68ZM2boySef1KuvvqpBgwbZjJs4caK+/PJLzZ8/XydPnlTevHlVvnx5tW7d+o7WV6pUKX3zzTeaMGGCRo4cqdTUVJUqVUo9e/a0jnnrrbdUunRpLViwQJMnT1bu3LlVunRpPfHEE6ZsMwAAAAAg6yyGYRiOLgLOa9euXZKk+E8+Udzffzu4GgAAAAD3m7z+/qrx1Vd3vZyEhATt3btXFSpUkLe3twmV/Sc9E9lzg2wenAwAAAAAgAkI2AAAAAAAmICADQAAAACACQjYAAAAAACYgIANAAAAAIAJCNgAAAAAAJiAgA0AAAAAgAkI2AAAAAAAmICADQAAAACACQjYAAAAAACYwM3RBeDekPuRRxxdAgAAAID70P2UNQjYsEvw8OGOLgEAAADAfcpITZXF1dXRZdw1ThHHbSUlJSkxMdHRZeA6iYmJ2rNnD31xMvTFOdEX50RfnA89cU70xTnRF/PdD+FaImDDToZhOLoEXMcwDCUmJtIXJ0NfnBN9cU70xfnQE+dEX5wTfcHNWAy+KnAL0dHRMgxD7u7uslgsji4H/8cwDCUnJ9MXJ0NfnBN9cU70xfnQE+dEX5wTfXFO2dWXpKQkWSwWhYaG3nYs12DjltK/MPnG4VwsFos8PDwcXQZuQF+cE31xTvTF+dAT50RfnBN9cU7Z1ReLxWJ3HuIINgAAAAAAJuAabAAAAAAATEDABgAAAADABARsAAAAAABMQMAGAAAAAMAEBGwAAAAAAExAwAYAAAAAwAQEbAAAAAAATEDABgAAAADABARsAAAAAABMQMAGAAAAAMAEBGwAAAAAAEzg5ugC4JwOHTqk0aNHa+fOncqdO7datmypl19+WR4eHo4u7YHxww8/aPny5dq9e7cuX76sRx55RJ06ddIzzzwji8UiSerUqZN+/fXXDO/9/vvvVbZs2Zwu+b63ePFivfHGGxmm9+jRQ4MHD7a+/u677zRt2jSdOnVKpUuX1iuvvKL69evnZKkPlJvtB5L00UcfqVmzZuwrOeDYsWP66quv9Mcff+jAgQMqU6aMVq5cmWGcPftHXFycxowZo/Xr1ys5OVm1a9fWW2+9pcKFC+fU5tw3bteX+Ph4TZ8+XVFRUTp69Kg8PDwUHBysV155RQEBAdZxJ06cUIMGDTIsv3Llyvr2229zZFvuF/bsK/Z+z2JfMc/t+nKzfUCSPDw8tGvXrluOY1/JGnt+H5ac62cLARsZXLp0SV26dFGpUqUUGRmps2fPauzYsbp69aqGDx/u6PIeGDNmzFDx4sU1dOhQ5c+fXz///LPefvttnTlzRv369bOOCw0N1euvv27z3hIlSuR0uQ+UadOmKW/evNbXRYoUsf5/1apVevvtt9WrVy9Vr15d33//vfr166e5c+eqSpUqDqj2/vfOO+8oPj7eZtrMmTO1du1a1ahRwzqNfSV7HThwQFFRUapcubLS0tJkGEaGMfbuHy+//LIOHjyoESNGyNPTU5988ol69OihRYsWyc2NX13uxO36curUKS1YsEDPPPOMXn75ZV27dk1ff/212rZtq0WLFmX4A9Srr76qatWqWV/nzp07R7bjfmLPviLZ9z2LfcU8t+tL4cKFtWDBAptphmGoe/fuql69eoblsa+Yw57fh53uZ4sB3GDKlClGlSpVjIsXL1qnffPNN0aFChWMM2fOOK6wB8z58+czTHvrrbeM0NBQIzU11TAMw+jYsaPRs2fPnC7tgbVo0SLD398/096ka9y4sfHqq6/aTGvbtq3RvXv37C4P14mIiDB69Ohhfc2+kv3Svy8ZhmG8/vrrRrNmzTKMsWf/iI6ONvz9/Y0tW7ZYpx06dMgICAgwVq1alQ2V399u15crV64YCQkJNtPi4+ONqlWrGqNGjbJOO378uOHv72/88MMP2VvwA8CefcWe71nsK+aypy832rZtm+Hv7298//331mnsK+ay5/dhZ/vZwjXYyGDz5s2qUaOGfH19rdOaNm2qtLQ0bd261XGFPWD8/PwyTKtQoYLi4+OVkJDggIpwO8ePH9fRo0fVtGlTm+lPPvmkfvnlFyUlJTmosgdLdHS0Tpw4oRYtWji6lAeKi8utf6Wwd//YvHmzfHx8VKtWLeuYMmXKqEKFCtq8ebP5hd/nbtcXb29veXl52UzLnTu3Hn74YZ07dy47S3tg3a4n9mJfMVdW+rJy5UrlyZNHERER2VARpNv/PuyMP1sI2Mjg8OHDKlOmjM00Hx8fFSpUSIcPH3ZQVZCkHTt2qEiRIsqTJ4912q+//qoqVaooKChIHTt21P/+9z8HVvhgaN68uSpUqKAGDRroiy++UGpqqiRZ94/SpUvbjC9btqySk5N1/PjxHK/1QbRy5Up5e3tnuAaOfcWx7N0/Dh8+rNKlS9tcWyf994sQP4NyxuXLl63XoN5oxIgRqlChgmrUqKG33npLsbGxOV/gA+J237PYVxwrOTlZa9euVaNGjeTp6ZlhPvtK9rn+92Fn/NnCxRnI4PLly/Lx8ckwPV++fLp06ZIDKoIk/fbbb/r+++9trsd6/PHH1bJlS5UqVUrnzp3TV199pRdffFGzZ89WSEiIA6u9PxUqVEj9+/dX5cqVZbFYtHHjRn3yySc6e/ashg8fbt0/btx/0l+z/2S/lJQU/fDDD4qIiJC3t7d1OvuK49m7f1y+fNnmHgfp8uXLp7/++iubq4QkjR8/XhaLRc8//7x1moeHh55//nmFh4fLx8dHf/zxh6ZMmaK//vpL3333ndzd3R1Y8f3Hnu9Z7CuOtXnzZsXGxqp58+Y209lXsteNvw87488WAjZwDzhz5oxeeeUVVatWTZ07d7ZOHzBggM24evXqqXnz5vrss880derUnC7zvle7dm3Vrl3b+jo8PFyenp6aOXOmevXq5cDKkG7r1q26cOFChl942FcA+yxatEjffvutxo4dq4ceesg6vXDhwhoxYoT1ddWqVVW+fHm99NJLWrdunZ588kkHVHv/4nuW81uxYoUKFixoczNNiX0lO93s92FnwyniyMDHx0dxcXEZpl+6dEn58uVzQEUPtsuXL6tHjx7y9fVVZGTkLa8R8vb2Vt26dbV79+4crPDB1rRpU6Wmpmrv3r3W/ePG/efy5cuSxP6TA1auXClfX1+Fh4ffchz7Ss6zd//w8fHJcFd4iZ9BOSEqKkrDhw9Xnz599PTTT992fN26deXt7c1+lAMy+57FvuI4V65c0Y8//qimTZvK1dX1tuPZV+7ezX4fdsafLQRsZJDZtQhxcXGKiYnJ9HosZJ+rV6/qpZdeUlxcXIZHQ8H5pO8fN+4/hw8flru7u0qWLOmIsh4YV69e1fr16/XEE09wCp4Tsnf/KFOmjI4cOZLhETlHjhzhZ1A2+v333zVw4EC1atVKAwcOdHQ5sAP7iuOsW7dOV69e5WaaOeRWvw87488WAjYyqFOnjn7++WfrX34kafXq1XJxcbG58x6yV0pKil5++WUdPnxY06ZNs3nW8s0kJCRo06ZNCgoKyoEKIUnff/+9XF1dFRgYqJIlS6pUqVJavXp1hjE1atSQh4eHg6p8MGzcuFEJCQl2/cLDvpLz7N0/6tSpo0uXLumXX36xjjly5Ij27NmjOnXq5GjND4qDBw/qpZdeUvXq1TVy5Ei73/fjjz8qISGB/SgHZPY9i33FcVauXKmHH35YlStXtms8+0rW3e73YWf82cI12MigXbt2mj17tvr27auXXnpJZ8+e1bhx49SuXTu7Qh7MMXLkSP34448aOnSo4uPj9fvvv1vnBQYG6s8//9S0adPUqFEjFS9eXOfOndP06dMVExOjTz/91HGF38e6deumatWqKSAgQJK0YcMGffvtt+rcubMKFSokSerfv78GDx6shx9+WNWqVdP333+vP//8U3PmzHFk6Q+EFStWqFixYgoLC7OZ/ttvv7Gv5IDExERFRUVJkk6ePKn4+HjrLzxVq1aVn5+fXftHSEiIwsPD9eabb+r111+Xp6enPv74YwUEBKhx48YO2bZ72e36YhiGunXrJk9PT3Xp0sXmZj958uRRuXLlJEljx46VxWJRlSpV5OPjoz///FNffPGFKlWqpIYNG+b8ht3DbteT9CBxu+9Z7Cvmsud7mCRduHBBv/zyi3r06JHpcthXzHW734c9PDyc7meLxbjxODkg6dChQ3r33Xe1c+dO5c6dWy1bttQrr7zCEbgcFBERoZMnT2Y6b8OGDUpNTdWoUaO0f/9+xcbGysvLSyEhIerXr5+Cg4NzuNoHw+jRo7VlyxadOXNGaWlpKlWqlNq0aaNOnTrZPPbhu+++09SpU3Xq1CmVLl1ar776qurXr+/Ayu9/ly5dUq1atdSlSxe99tprNvOOHTvGvpIDTpw4keHRaOlmzZqlatWqSbJv/4iLi9OYMWO0bt06paSkKDw8XG+99RZ/5M2C2/VF0k1vFlS1alXNnj1b0n99mz9/vo4dO6arV6+qSJEiatiwoQYMGGDz6Ejc3u168tBDD9n9PYt9xTz2fg+bO3euRo0ape+//15ly5bNMJZ9xVy3+324RIkSkpzrZwsBGwAAAAAAE3ANNgAAAAAAJiBgAwAAAABgAgI2AAAAAAAmIGADAAAAAGACAjYAAAAAACYgYAMAAAAAYAICNgAAAAAAJiBgAwAAAABgAgI2AAAw1enTpxUUFKQdO3Y4upR7xtChQxUSEnLbcRcvXlSVKlUUFRWVA1UBAO4UARsAACewePFiBQQEaNeuXbcdGx8fr0mTJumpp55SSEiIgoOD1bx5c40fP15nz57NMP7HH39Ut27dVK1aNQUFBalJkyb64IMPdPHixQxjhw4dqoCAgEz/BQUF2bUtkydPVuXKlRUWFmad1qlTJzVv3jzT8RcuXFBAQIAiIyNtpu/fv18DBgxQ/fr1FRQUpNq1a+vFF1/U7NmzbcZFRERYa3z00Uf12GOPqUWLFnr77bf1xx9/3LLWsWPH6sknn5T0/3sQEBCg3377LcNYwzBUt25dBQQE6KWXXpIkpaamKjQ0VL17984wfsaMGQoICNDrr7+eYd6nn36qgIAAHTly5Jb13Sh//vx69tln9emnn97R+wAAOcPN0QUAAAD7HT9+XC+88IJOnz6tJ554Qm3btpW7u7v279+vhQsXav369VqzZo11/AcffKCvv/5ajz76qLp37y5fX1/t3r1bc+bM0apVqzRjxgyVKVPGZh0eHh4aPXp0hnW7urretr4LFy5o6dKlGjt27F1tZ3R0tDp37qxixYqpTZs2KlSokE6fPq0//vhDs2bNUqdOnWzGV6hQQS+++KIk6cqVKzp8+LBWr16tb7/9Vi+88ILeeOONTNezadMm1a9f32aap6enVq5cqccee8xm+q+//qozZ87Iw8PDOs3V1VVVqlTRzp07M90GNzc3RUdHZzqvQIECKl26tH0fyHWef/55zZ49W7/88otq1Khxx+8HAGQfAjYAAPeIlJQU9evXT+fPn9esWbMyBMBXXnlFU6dOtb5euXKlvv76az355JP68MMPrQG5TZs2at26tTp37qyBAwdqyZIlcnP7/78SuLm5qWXLllmqcfny5XJ1dc0QWu/UlClTlDdvXi1cuFA+Pj42886fP59hfJEiRTLUPHjwYA0aNEgzZszQI488ovbt29vMP378uI4cOaKRI0faTK9bt65Wr16tt956y+ZzWblypSpWrKjY2Fib8aGhodq6dasOHTqksmXLWqdHR0friSee0MqVKxUTE6NChQpJ+q+Pf/75p2rVqmX/B3KdsmXLyt/fX0uWLCFgA4CT4RRxAADuEWvXrtW+ffvUq1evDOFakvLkyaNXXnnF+nrSpEnKly+f3n333QxHn4ODg9W9e3f9/fffNke879b69esVHBys3Llz39Vy/vnnH5UrVy5DuJakAgUK2LWMXLlyady4cfL19dWUKVNkGIbN/E2bNilv3rw2p7JLUrNmzRQbG6utW7dapyUlJWnNmjVq0aJFhvWkv//6I9XHjx9XTEyMOnbsKE9PT5t5e/fuVUJCQob1StLZs2fVp08fhYSEqHr16vrggw+UmpqaYVzNmjX1448/ZtgmAIBjEbABALhHbNiwQZLsOrp89OhRHTlyRA0aNFCePHkyHdOqVStJ/12jfaMLFy5k+BcfH3/LdSYnJ2vXrl2qWLHibeu7neLFi2v37t36+++/72o5uXPnVsOGDXX27FkdPHjQZl5UVJRq1qxpc5Q6fd1VqlTRqlWrrNM2b96suLg46/Xa16tSpYrc3Nxsbuq2Y8cOeXt7KygoSJUqVbIJ2On/vzFgp6amqlu3bvL19dWQIUNUtWpVff3111qwYEGGdVasWFGXL1/WgQMH7uDTAABkNwI2AAD3iMOHDytv3rwqWrTobcemh8mAgICbjilRooTy5Mmjw4cP20xPSEhQjRo1MvwbOHDgLdd5+vRpXb16VSVKlLBja26ta9euunr1qlq1aqV27dpp/Pjx+umnn5ScnHzHyypfvryk/46Kp0tMTNSvv/6qevXqZfqeFi1aaP369bp69aokacWKFXr88cdVpEiRDGO9vLxUoUIFm4AdHR2toKAgubm5KSQkJEP49vLyUmBgoM1yrl27pqZNm+r999/X888/r4kTJyowMFALFy7MsM6SJUtKUoY/GgAAHIuADQDAPSI+Pt7uU6+vXLkiSbcdnzt37gxHpj09PTV9+vQM/wYPHnzLZaVfm5zZad13qlatWvrmm28UERGhffv2adq0aerWrZvq1KljPZJvr/TPIP0zkaRt27YpKSlJderUyfQ9TZs21bVr1/Tjjz8qPj5emzZtyvT08HRhYWH6559/FBMTI0nauXOn9bFboaGh2rt3rxITEyX9F76Dg4MzHDmX/ruB2Y3LPXHiRIZx6Z9xZneCBwA4Djc5AwDgHpEnTx4dP37crrGZhcrMXLlyJcM1za6urqpZs2bWipSyfF2wxWKxeR0cHKxJkyYpKSlJ+/bt0/r16zVjxgwNHDhQS5cuVbly5exabmZ/bNi0aZMqVaqkggULZvoePz8/1ahRQytXrtTVq1eVmpqqJk2a3HQdYWFhmjFjhqKjo1WjRg0dOHDA+geJkJAQ643NihUrppiYGLVp0ybDMjw9PeXn52czLV++fLp06dJN13vjZwYAcCyOYAMAcI8oU6aM4uLidPr06duOTb+b9f79+2865uTJk4qPj7e58/Xd8PX1lSRdvnw5wzwPDw/r6dY3Sp9+/eOvbnxvcHCwXn31VY0YMULJyclavXq13XWlX6f8yCOPWKdt3rxZdevWveX7mjdvrs2bN+ubb75RnTp1bnlkPv166h07dlgf2ZV+BNvPz0+lSpXSjh07rKeKZ3aDM3seg5YuPXTnz5/f7vcAALIfARsAgHtE+qOvli9fftuxpUuXVqlSpbRhw4ab3pxs6dKlNsu9W0WLFlWuXLkyPaW5ePHiOnPmTKYh+8iRI9Yxt1OpUiVJ0rlz5+yq6cqVK1q/fr2KFi1q/UPC33//rVOnTt02YDdq1EguLi76/fff1bx581uOLVCggDVER0dHZ7gDekhIiKKjoxUdHW19dvbdSP+MzfrjCADAHARsAADuEU2aNJG/v7+mTJliPUp6vfj4eH388cfW13379tWlS5f0zjvvZHjU019//aVp06bJ399fjRs3NqU+d3d3VapUSX/99VeGeXXq1FFycrK++eYbm+lpaWmaP3++3N3dbZ7pvG3btkxPNY+KipL039H827l69aqGDBmi2NhY9erVy3o6dVRUlAoWLKigoKBbvj937twaMWKE+vfvr4iIiNuuLzQ0VPv27dPWrVutR6/ThYSE6Pfff9eOHTsUEBBw0zu722v37t3Kmzev9QZuAADnwDXYAAA4kUWLFmnLli0Zpnfu3Fl58uTRpEmT9OKLL6pjx4564oknFBoaKnd3dx04cEArV66Uj4+P9VnYTz31lHbt2qVZs2bp0KFDatGihXx8fLRnzx4tWrRIvr6++vTTT+Xu7m6zrpSUFC1btizT+ho1aiRvb++b1t+gQQN9/PHHio+PtwmRERERCg8P15gxY7Rr1y6FhIQoMTFRGzduVHR0tF5++WWb649Hjx6txMRENWrUSGXKlFFycrKio6P1ww8/qHjx4mrdurXNes+ePWutOSEhQYcOHdLq1asVExOjrl27ql27dtaxUVFRqlOnjl3XLz/99NO3HZMuLCxMixcv1q5du9ShQwebeSEhIYqLi1NcXJw6depk9zJv5ueff1b9+vW5BhsAnAwBGwAAJzJ//vxMp7du3Vp58uTRI488oqVLl2rGjBlat26dNmzYoLS0ND3yyCNq06ZNhvA2bNgwVatWTfPmzdMXX3yhxMREFS1aVB06dFCPHj0y3FRLkpKSkjRkyJBM69iwYcMtA3bLli01YcIEbdiwweZ53S4uLvr888/15ZdfatWqVVq7dq3c3Nzk7++v8ePH66mnnrJZzpAhQ7R69WpFRUVpwYIFSk5OVrFixdS+fXv17t07w/XQe/fu1ZAhQ2SxWJQ7d24VLVpU9evXV5s2bRQcHGwdFxcXp507d2YIwGa4/rrqG49gly9fXj4+Prp8+bJCQ0Pvaj2HDh3S33//rTfffPOulgMAMJ/FyOqtPgEAADLx5ptv6ujRo5o3b56jS8ng+++/12uvvaZt27Ypb968ji4nS9577z399ttvWrx4MUewAcDJcA02AAAwVb9+/bRr1y7rHbOdiY+Pj4YNG3bPhuuLFy9q4cKFevnllwnXAOCEOIINAAAAAIAJOIINAAAAAIAJCNgAAAAAAJiAgA0AAAAAgAkI2AAAAAAAmICADQAAAACACQjYAAAAAACYgIANAAAAAIAJCNgAAAAAAJiAgA0AAAAAgAkI2AAAAAAAmICADQAAAACACf4fJWYPa7r5HwoAAAAASUVORK5CYII=",
      "text/plain": [
       "<Figure size 1000x600 with 1 Axes>"
      ]
     },
     "metadata": {},
     "output_type": "display_data"
    }
   ],
   "source": [
    "df = pd.read_csv(\"nuclear_data/levelised_cost_of_electricity.csv\").drop(index=0)\n",
    "\n",
    "df = df.rename(columns={\n",
    "    'Capital costs': 'Capital',\n",
    "    'O&M': 'OM',\n",
    "    'Fuel (th)': 'Fuel_th',\n",
    "    'Fuel (el)': 'Fuel_el',\n",
    "    'Carbon': 'Carbon',\n",
    "    'CHP heat revenues': 'CHP_revenue',\n",
    "    'LCOE': 'LCOE',\n",
    "    'Category': 'Category',\n",
    "    'Country': 'Country'\n",
=======
    "savings_df = pd.DataFrame({\n",
    "    'Technology': list(savings.keys()),\n",
    "    'Savings (%)': list(savings.values()),\n",
    "    'Hover Text': [create_hover_text(tech, nuclear_mean) for tech in savings.keys()]\n",
>>>>>>> origin/simonabranch
    "})\n",
    "\n",
    "fig = px.bar(savings_df, \n",
    "             x='Technology', \n",
    "             y='Savings (%)',\n",
    "             text='Savings (%)',\n",
    "             color='Technology',\n",
    "             color_discrete_sequence=['#4C72B0', '#55A868', '#C44E52', '#8172B2'],\n",
    "             title='<b>Nuclear Cost Advantage Over Other Forms Of Energy Production</b>',\n",
    "             hover_data={'Technology': False, 'Savings (%)': False, 'Hover Text': True},\n",
    "             labels={'Savings (%)': 'Percent Cheaper Than Competitor'})\n",
    "\n",
    "fig.update_traces(\n",
    "    texttemplate='%{text:.1f}%', \n",
    "    textposition='outside',\n",
    "    marker_line_color='white',\n",
    "    marker_line_width=1.5,\n",
    "    opacity=0.8,\n",
    "    hovertemplate='%{customdata[0]}<extra></extra>'  # Custom hover template\n",
    ")\n",
    "\n",
    "fig.update_layout(\n",
    "    yaxis_title=\"Percent Cheaper Than Competitor\",\n",
    "    xaxis_title=\"\",\n",
    "    hoverlabel=dict(\n",
    "        bgcolor=\"white\",\n",
    "        font_size=15,\n",
    "        font_family=\"Arial\"\n",
    "    ),\n",
    "    showlegend=False,\n",
    "    plot_bgcolor='rgba(0,0,0,0)',\n",
    "    yaxis=dict(\n",
    "        gridcolor='lightgray',\n",
    "        zerolinecolor='black',\n",
    "        zerolinewidth=2\n",
    "    ),\n",
    "    hovermode=\"closest\",\n",
    "    title_x=0.5,\n",
    "    height=600,\n",
    "    width=800,\n",
    "    margin=dict(t=100, b=80, l=40, r=40)\n",
    ")\n",
    "\n",
    "fig.add_hline(y=0, line_width=2, line_color='black')\n",
    "\n",
    "fig.show()"
   ]
  },
  {
   "cell_type": "markdown",
   "id": "4aedb5ce",
   "metadata": {},
   "source": [
    "The graph shows the percentage cost advantage of nuclear energy compared to four common electricity generation sources: Wind, Solar, Gas and Coal. Each bar represents how much cheaper nuclear energy is on avarage compared to the other technology, based on their Levelised Cost of Electricity(LCOE). \n",
    "\n",
    "The graph is defided by y-axis and x-axis, where the y-axis shows the percentage by which nuclear is cheaper, while the x-asis shows the different energy sources.\n",
    "\n",
    "While looking at the graph we can see that nuclear energy is consistently more affortable than the other energy types. The greatest cost advantage is compared coal, with nuclear being 51.4% cheaper on avarage. The smallest cost advantage is compared to gas, where nuclear is still 38.9% cheaper. \n",
    "\n",
    "We see that nuclear energy is by far the cheapest form of electricity and has a significant advantage over all other forms of energy production. This means that it is an econimically viable alternative to fossil fuels."
   ]
  },
  {
   "cell_type": "code",
   "execution_count": 101,
   "id": "379f7589",
   "metadata": {},
   "outputs": [
    {
     "data": {
      "application/vnd.plotly.v1+json": {
       "config": {
        "plotlyServerURL": "https://plot.ly"
       },
       "data": [
        {
         "hovertemplate": "<b>%{y}</b><br>LCOE: %{x:.2f} USD/MWh<extra></extra>",
         "marker": {
          "color": [
           "#15904c",
           "#4bb05c",
           "#87cb67",
           "#b7e075",
           "#dff293",
           "#fffebe",
           "#fee593",
           "#fdbf6f",
           "#f88c51",
           "#ea5739",
           "#ce2827"
          ]
         },
         "orientation": "h",
         "type": "bar",
         "x": {
          "bdata": "H4XrUbjsSEDVSq3USmVUQCE0GEKDeVdArZY3RjC7WEC1gU4b6ChZQOtRuB6Fe1lAH4XrUbieWUBpke18P6VZQOpFUjv4HVtAhetRuB7BYEDXo3A9CnVoQA==",
          "dtype": "f8"
         },
         "y": [
          "Nuclear",
          "Gas",
          "Wind",
          "Solar",
          "CHP",
          "Lignite",
          "Geothermal",
          "Coal",
          "Hydro",
          "Bio",
          "Fuel cell"
         ]
        }
       ],
       "layout": {
        "bargap": 0.05,
        "plot_bgcolor": "white",
        "showlegend": false,
        "template": {
         "data": {
          "bar": [
           {
            "error_x": {
             "color": "#2a3f5f"
            },
            "error_y": {
             "color": "#2a3f5f"
            },
            "marker": {
             "line": {
              "color": "#E5ECF6",
              "width": 0.5
             },
             "pattern": {
              "fillmode": "overlay",
              "size": 10,
              "solidity": 0.2
             }
            },
            "type": "bar"
           }
          ],
          "barpolar": [
           {
            "marker": {
             "line": {
              "color": "#E5ECF6",
              "width": 0.5
             },
             "pattern": {
              "fillmode": "overlay",
              "size": 10,
              "solidity": 0.2
             }
            },
            "type": "barpolar"
           }
          ],
          "carpet": [
           {
            "aaxis": {
             "endlinecolor": "#2a3f5f",
             "gridcolor": "white",
             "linecolor": "white",
             "minorgridcolor": "white",
             "startlinecolor": "#2a3f5f"
            },
            "baxis": {
             "endlinecolor": "#2a3f5f",
             "gridcolor": "white",
             "linecolor": "white",
             "minorgridcolor": "white",
             "startlinecolor": "#2a3f5f"
            },
            "type": "carpet"
           }
          ],
          "choropleth": [
           {
            "colorbar": {
             "outlinewidth": 0,
             "ticks": ""
            },
            "type": "choropleth"
           }
          ],
          "contour": [
           {
            "colorbar": {
             "outlinewidth": 0,
             "ticks": ""
            },
            "colorscale": [
             [
              0,
              "#0d0887"
             ],
             [
              0.1111111111111111,
              "#46039f"
             ],
             [
              0.2222222222222222,
              "#7201a8"
             ],
             [
              0.3333333333333333,
              "#9c179e"
             ],
             [
              0.4444444444444444,
              "#bd3786"
             ],
             [
              0.5555555555555556,
              "#d8576b"
             ],
             [
              0.6666666666666666,
              "#ed7953"
             ],
             [
              0.7777777777777778,
              "#fb9f3a"
             ],
             [
              0.8888888888888888,
              "#fdca26"
             ],
             [
              1,
              "#f0f921"
             ]
            ],
            "type": "contour"
           }
          ],
          "contourcarpet": [
           {
            "colorbar": {
             "outlinewidth": 0,
             "ticks": ""
            },
            "type": "contourcarpet"
           }
          ],
          "heatmap": [
           {
            "colorbar": {
             "outlinewidth": 0,
             "ticks": ""
            },
            "colorscale": [
             [
              0,
              "#0d0887"
             ],
             [
              0.1111111111111111,
              "#46039f"
             ],
             [
              0.2222222222222222,
              "#7201a8"
             ],
             [
              0.3333333333333333,
              "#9c179e"
             ],
             [
              0.4444444444444444,
              "#bd3786"
             ],
             [
              0.5555555555555556,
              "#d8576b"
             ],
             [
              0.6666666666666666,
              "#ed7953"
             ],
             [
              0.7777777777777778,
              "#fb9f3a"
             ],
             [
              0.8888888888888888,
              "#fdca26"
             ],
             [
              1,
              "#f0f921"
             ]
            ],
            "type": "heatmap"
           }
          ],
          "histogram": [
           {
            "marker": {
             "pattern": {
              "fillmode": "overlay",
              "size": 10,
              "solidity": 0.2
             }
            },
            "type": "histogram"
           }
          ],
          "histogram2d": [
           {
            "colorbar": {
             "outlinewidth": 0,
             "ticks": ""
            },
            "colorscale": [
             [
              0,
              "#0d0887"
             ],
             [
              0.1111111111111111,
              "#46039f"
             ],
             [
              0.2222222222222222,
              "#7201a8"
             ],
             [
              0.3333333333333333,
              "#9c179e"
             ],
             [
              0.4444444444444444,
              "#bd3786"
             ],
             [
              0.5555555555555556,
              "#d8576b"
             ],
             [
              0.6666666666666666,
              "#ed7953"
             ],
             [
              0.7777777777777778,
              "#fb9f3a"
             ],
             [
              0.8888888888888888,
              "#fdca26"
             ],
             [
              1,
              "#f0f921"
             ]
            ],
            "type": "histogram2d"
           }
          ],
          "histogram2dcontour": [
           {
            "colorbar": {
             "outlinewidth": 0,
             "ticks": ""
            },
            "colorscale": [
             [
              0,
              "#0d0887"
             ],
             [
              0.1111111111111111,
              "#46039f"
             ],
             [
              0.2222222222222222,
              "#7201a8"
             ],
             [
              0.3333333333333333,
              "#9c179e"
             ],
             [
              0.4444444444444444,
              "#bd3786"
             ],
             [
              0.5555555555555556,
              "#d8576b"
             ],
             [
              0.6666666666666666,
              "#ed7953"
             ],
             [
              0.7777777777777778,
              "#fb9f3a"
             ],
             [
              0.8888888888888888,
              "#fdca26"
             ],
             [
              1,
              "#f0f921"
             ]
            ],
            "type": "histogram2dcontour"
           }
          ],
          "mesh3d": [
           {
            "colorbar": {
             "outlinewidth": 0,
             "ticks": ""
            },
            "type": "mesh3d"
           }
          ],
          "parcoords": [
           {
            "line": {
             "colorbar": {
              "outlinewidth": 0,
              "ticks": ""
             }
            },
            "type": "parcoords"
           }
          ],
          "pie": [
           {
            "automargin": true,
            "type": "pie"
           }
          ],
          "scatter": [
           {
            "fillpattern": {
             "fillmode": "overlay",
             "size": 10,
             "solidity": 0.2
            },
            "type": "scatter"
           }
          ],
          "scatter3d": [
           {
            "line": {
             "colorbar": {
              "outlinewidth": 0,
              "ticks": ""
             }
            },
            "marker": {
             "colorbar": {
              "outlinewidth": 0,
              "ticks": ""
             }
            },
            "type": "scatter3d"
           }
          ],
          "scattercarpet": [
           {
            "marker": {
             "colorbar": {
              "outlinewidth": 0,
              "ticks": ""
             }
            },
            "type": "scattercarpet"
           }
          ],
          "scattergeo": [
           {
            "marker": {
             "colorbar": {
              "outlinewidth": 0,
              "ticks": ""
             }
            },
            "type": "scattergeo"
           }
          ],
          "scattergl": [
           {
            "marker": {
             "colorbar": {
              "outlinewidth": 0,
              "ticks": ""
             }
            },
            "type": "scattergl"
           }
          ],
          "scattermap": [
           {
            "marker": {
             "colorbar": {
              "outlinewidth": 0,
              "ticks": ""
             }
            },
            "type": "scattermap"
           }
          ],
          "scattermapbox": [
           {
            "marker": {
             "colorbar": {
              "outlinewidth": 0,
              "ticks": ""
             }
            },
            "type": "scattermapbox"
           }
          ],
          "scatterpolar": [
           {
            "marker": {
             "colorbar": {
              "outlinewidth": 0,
              "ticks": ""
             }
            },
            "type": "scatterpolar"
           }
          ],
          "scatterpolargl": [
           {
            "marker": {
             "colorbar": {
              "outlinewidth": 0,
              "ticks": ""
             }
            },
            "type": "scatterpolargl"
           }
          ],
          "scatterternary": [
           {
            "marker": {
             "colorbar": {
              "outlinewidth": 0,
              "ticks": ""
             }
            },
            "type": "scatterternary"
           }
          ],
          "surface": [
           {
            "colorbar": {
             "outlinewidth": 0,
             "ticks": ""
            },
            "colorscale": [
             [
              0,
              "#0d0887"
             ],
             [
              0.1111111111111111,
              "#46039f"
             ],
             [
              0.2222222222222222,
              "#7201a8"
             ],
             [
              0.3333333333333333,
              "#9c179e"
             ],
             [
              0.4444444444444444,
              "#bd3786"
             ],
             [
              0.5555555555555556,
              "#d8576b"
             ],
             [
              0.6666666666666666,
              "#ed7953"
             ],
             [
              0.7777777777777778,
              "#fb9f3a"
             ],
             [
              0.8888888888888888,
              "#fdca26"
             ],
             [
              1,
              "#f0f921"
             ]
            ],
            "type": "surface"
           }
          ],
          "table": [
           {
            "cells": {
             "fill": {
              "color": "#EBF0F8"
             },
             "line": {
              "color": "white"
             }
            },
            "header": {
             "fill": {
              "color": "#C8D4E3"
             },
             "line": {
              "color": "white"
             }
            },
            "type": "table"
           }
          ]
         },
         "layout": {
          "annotationdefaults": {
           "arrowcolor": "#2a3f5f",
           "arrowhead": 0,
           "arrowwidth": 1
          },
          "autotypenumbers": "strict",
          "coloraxis": {
           "colorbar": {
            "outlinewidth": 0,
            "ticks": ""
           }
          },
          "colorscale": {
           "diverging": [
            [
             0,
             "#8e0152"
            ],
            [
             0.1,
             "#c51b7d"
            ],
            [
             0.2,
             "#de77ae"
            ],
            [
             0.3,
             "#f1b6da"
            ],
            [
             0.4,
             "#fde0ef"
            ],
            [
             0.5,
             "#f7f7f7"
            ],
            [
             0.6,
             "#e6f5d0"
            ],
            [
             0.7,
             "#b8e186"
            ],
            [
             0.8,
             "#7fbc41"
            ],
            [
             0.9,
             "#4d9221"
            ],
            [
             1,
             "#276419"
            ]
           ],
           "sequential": [
            [
             0,
             "#0d0887"
            ],
            [
             0.1111111111111111,
             "#46039f"
            ],
            [
             0.2222222222222222,
             "#7201a8"
            ],
            [
             0.3333333333333333,
             "#9c179e"
            ],
            [
             0.4444444444444444,
             "#bd3786"
            ],
            [
             0.5555555555555556,
             "#d8576b"
            ],
            [
             0.6666666666666666,
             "#ed7953"
            ],
            [
             0.7777777777777778,
             "#fb9f3a"
            ],
            [
             0.8888888888888888,
             "#fdca26"
            ],
            [
             1,
             "#f0f921"
            ]
           ],
           "sequentialminus": [
            [
             0,
             "#0d0887"
            ],
            [
             0.1111111111111111,
             "#46039f"
            ],
            [
             0.2222222222222222,
             "#7201a8"
            ],
            [
             0.3333333333333333,
             "#9c179e"
            ],
            [
             0.4444444444444444,
             "#bd3786"
            ],
            [
             0.5555555555555556,
             "#d8576b"
            ],
            [
             0.6666666666666666,
             "#ed7953"
            ],
            [
             0.7777777777777778,
             "#fb9f3a"
            ],
            [
             0.8888888888888888,
             "#fdca26"
            ],
            [
             1,
             "#f0f921"
            ]
           ]
          },
          "colorway": [
           "#636efa",
           "#EF553B",
           "#00cc96",
           "#ab63fa",
           "#FFA15A",
           "#19d3f3",
           "#FF6692",
           "#B6E880",
           "#FF97FF",
           "#FECB52"
          ],
          "font": {
           "color": "#2a3f5f"
          },
          "geo": {
           "bgcolor": "white",
           "lakecolor": "white",
           "landcolor": "#E5ECF6",
           "showlakes": true,
           "showland": true,
           "subunitcolor": "white"
          },
          "hoverlabel": {
           "align": "left"
          },
          "hovermode": "closest",
          "mapbox": {
           "style": "light"
          },
          "paper_bgcolor": "white",
          "plot_bgcolor": "#E5ECF6",
          "polar": {
           "angularaxis": {
            "gridcolor": "white",
            "linecolor": "white",
            "ticks": ""
           },
           "bgcolor": "#E5ECF6",
           "radialaxis": {
            "gridcolor": "white",
            "linecolor": "white",
            "ticks": ""
           }
          },
          "scene": {
           "xaxis": {
            "backgroundcolor": "#E5ECF6",
            "gridcolor": "white",
            "gridwidth": 2,
            "linecolor": "white",
            "showbackground": true,
            "ticks": "",
            "zerolinecolor": "white"
           },
           "yaxis": {
            "backgroundcolor": "#E5ECF6",
            "gridcolor": "white",
            "gridwidth": 2,
            "linecolor": "white",
            "showbackground": true,
            "ticks": "",
            "zerolinecolor": "white"
           },
           "zaxis": {
            "backgroundcolor": "#E5ECF6",
            "gridcolor": "white",
            "gridwidth": 2,
            "linecolor": "white",
            "showbackground": true,
            "ticks": "",
            "zerolinecolor": "white"
           }
          },
          "shapedefaults": {
           "line": {
            "color": "#2a3f5f"
           }
          },
          "ternary": {
           "aaxis": {
            "gridcolor": "white",
            "linecolor": "white",
            "ticks": ""
           },
           "baxis": {
            "gridcolor": "white",
            "linecolor": "white",
            "ticks": ""
           },
           "bgcolor": "#E5ECF6",
           "caxis": {
            "gridcolor": "white",
            "linecolor": "white",
            "ticks": ""
           }
          },
          "title": {
           "x": 0.05
          },
          "xaxis": {
           "automargin": true,
           "gridcolor": "white",
           "linecolor": "white",
           "ticks": "",
           "title": {
            "standoff": 15
           },
           "zerolinecolor": "white",
           "zerolinewidth": 2
          },
          "yaxis": {
           "automargin": true,
           "gridcolor": "white",
           "linecolor": "white",
           "ticks": "",
           "title": {
            "standoff": 15
           },
           "zerolinecolor": "white",
           "zerolinewidth": 2
          }
         }
        },
        "title": {
         "text": "Average LCOE by Energy Category",
         "x": 0.5
        },
        "xaxis": {
         "title": {
          "text": "LCOE (USD/MWh)"
         }
        },
        "yaxis": {
         "categoryarray": [
          "Fuel cell",
          "Bio",
          "Hydro",
          "Coal",
          "Geothermal",
          "Lignite",
          "CHP",
          "Solar",
          "Wind",
          "Gas",
          "Nuclear"
         ],
         "categoryorder": "array"
        }
       }
      }
     },
     "metadata": {},
     "output_type": "display_data"
    }
   ],
   "source": [
    "import pandas as pd\n",
    "import plotly.graph_objects as go\n",
    "import seaborn as sns\n",
    "\n",
    "# Load CSV from uploaded file\n",
    "df = pd.read_csv(\"nuclear_data/levelised_cost_of_electricity.csv\").drop(index=0)\n",
    "\n",
    "# Rename columns for consistency\n",
    "df = df.rename(columns={\n",
    "    'Capital costs': 'Capital',\n",
    "    'O&M': 'OM',\n",
    "    'Fuel (th)': 'Fuel_th',\n",
    "    'Fuel (el)': 'Fuel_el',\n",
    "    'Carbon': 'Carbon',\n",
    "    'CHP heat revenues': 'CHP_revenue',\n",
    "    'LCOE': 'LCOE',\n",
    "    'Category': 'Category',\n",
    "    'Country': 'Country'\n",
    "})\n",
    "\n",
    "# Clean numeric columns\n",
    "cols = ['Capital', 'OM', 'Fuel_th', 'Fuel_el', 'Carbon', 'CHP_revenue', 'LCOE']\n",
    "df[cols] = df[cols].apply(pd.to_numeric, errors='coerce')\n",
    "df = df.dropna(subset=['Category', 'LCOE'])\n",
    "\n",
    "# Compute average LCOE by category and sort ascending\n",
    "avg_lcoe = df.groupby('Category')['LCOE'].mean().sort_values()\n",
    "categories = avg_lcoe.index.tolist()\n",
    "values = avg_lcoe.values\n",
    "\n",
    "# Use Seaborn color palette\n",
    "palette = sns.color_palette(\"RdYlGn_r\", len(values)).as_hex()\n",
    "\n",
    "# Create interactive Plotly bar chart\n",
    "fig = go.Figure(go.Bar(\n",
    "    x=values,\n",
    "    y=categories,\n",
    "    orientation='h',\n",
    "    marker_color=palette,\n",
    "    hovertemplate='<b>%{y}</b><br>LCOE: %{x:.2f} USD/MWh<extra></extra>',\n",
    "))\n",
    "\n",
    "fig.update_layout(\n",
    "    title='Average LCOE by Energy Category',\n",
    "    xaxis_title='LCOE (USD/MWh)',\n",
    "    yaxis=dict(\n",
    "        categoryorder='array',\n",
    "        categoryarray=categories[::-1]\n",
    "    ),\n",
    "    plot_bgcolor='white',\n",
    "    showlegend=False,\n",
    "    title_x=0.5,\n",
    "    bargap=0.05  # Makes bars thicker (lower gap)\n",
    ")\n",
    "\n",
    "fig.show()\n",
    "\n"
   ]
  }
 ],
 "metadata": {
  "kernelspec": {
   "display_name": "jupyterbook",
   "language": "python",
   "name": "python3"
  },
  "language_info": {
   "codemirror_mode": {
    "name": "ipython",
    "version": 3
   },
   "file_extension": ".py",
   "mimetype": "text/x-python",
   "name": "python",
   "nbconvert_exporter": "python",
   "pygments_lexer": "ipython3",
   "version": "3.10.16"
  }
 },
 "nbformat": 4,
 "nbformat_minor": 5
}
