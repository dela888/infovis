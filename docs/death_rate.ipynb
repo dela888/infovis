{
 "cells": [
  {
   "cell_type": "code",
   "execution_count": null,
   "id": "a2d69f91",
   "metadata": {},
   "outputs": [],
   "source": [
    "\n",
    "import pandas as pd\n",
    "import plotly.express as px\n",
    "\n",
    "deaths_df = pd.read_csv('nuclear_data/rates_death_from_energy_production_per_twh.csv')\n",
    "deaths_df = deaths_df.sort_values(by='Deaths per TWh of electricity production', ascending=False)\n",
    "\n",
    "fig = px.bar(\n",
    "    deaths_df,\n",
    "    x='Entity',\n",
    "    y='Deaths per TWh of electricity production',\n",
    "    color='Deaths per TWh of electricity production',\n",
    "    color_continuous_scale='RdYlGn_r'  # correcte naam\n",
    ")\n",
    "\n",
    "fig.update_layout(\n",
    "    title=\"Death-rate per TWh produced per energy source\",\n",
    "    xaxis_title=\"Energy production method\",\n",
    "    yaxis_title=\"Deaths per TWh\",\n",
    "    coloraxis_showscale=False,\n",
    ")\n",
    "\n",
    "fig.show()"
   ]
  }
 ],
 "metadata": {
  "language_info": {
   "name": "python"
  }
 },
 "nbformat": 4,
 "nbformat_minor": 5
}
