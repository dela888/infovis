{
 "cells": [
  {
   "cell_type": "code",
   "execution_count": null,
   "id": "c2ffdce3",
   "metadata": {},
   "outputs": [],
   "source": [
    "import pandas as pd\n",
    "import plotly.express as px\n",
    "import plotly.graph_objects as go"
   ]
  },
  {
   "cell_type": "markdown",
   "id": "f8e23541",
   "metadata": {},
   "source": [
    "## Nuclear energy related deaths"
   ]
  },
  {
   "cell_type": "code",
   "execution_count": null,
   "id": "fd0e066c",
   "metadata": {},
   "outputs": [],
   "source": [
    "deaths_df = pd.read_csv('nuclear_data/rates_death_from_energy_production_per_twh.csv')\n",
    "deaths_df = deaths_df.sort_values(by='Deaths per TWh of electricity production', ascending=False)\n",
    "deaths_df.head()"
   ]
  },
  {
   "cell_type": "code",
   "execution_count": null,
   "id": "b346ad11",
   "metadata": {},
   "outputs": [],
   "source": [
    "fig = px.bar(\n",
    "    deaths_df,\n",
    "    x='Entity',\n",
    "    y='Deaths per TWh of electricity production',\n",
    "    color='Deaths per TWh of electricity production',\n",
    "    color_continuous_scale='RdYlGn_r'  # correcte naam\n",
    ")\n",
    "\n",
    "fig.update_layout(\n",
    "    title=\"Death-rate per TWh produced per energy source\",\n",
    "    xaxis_title=\"Energy production method\",\n",
    "    yaxis_title=\"Deaths per TWh\",\n",
    "    coloraxis_showscale=False,\n",
    ")\n",
    "\n",
    "fig.show()"
   ]
  },
  {
   "cell_type": "markdown",
   "id": "546fd8d0",
   "metadata": {},
   "source": [
    "## Nuclear Waste\n",
    "\n",
    "An important aspect of nuclear energy is nuclear waste. Nuclear reactors produce highly radioactive waste that needs to be stored for decades on end"
   ]
  },
  {
   "cell_type": "code",
   "execution_count": null,
   "id": "4d903a27",
   "metadata": {},
   "outputs": [],
   "source": [
    "# data from https://www.eia.gov/nuclear/spent_fuel/ussnftab3.php\n",
    "waste_df = pd.read_csv('nuclear_data/nuclear_spent_fuel.csv')"
   ]
  },
  {
   "cell_type": "code",
   "execution_count": null,
   "id": "2bf3e387",
   "metadata": {},
   "outputs": [],
   "source": [
    "# calulate average burnup per year\n",
    "waste_df['total_average_burnup'] = (\n",
    "    (\n",
    "        (waste_df['bwr_average_burnup'] * waste_df['bwr_tons_uranium']) +\n",
    "        (waste_df['pwr_average_burnup'] * waste_df['pwr_tons_uranium'])\n",
    "    ) /\n",
    "    (waste_df['bwr_tons_uranium'] + waste_df['pwr_tons_uranium'])\n",
    ")"
   ]
  },
  {
   "cell_type": "code",
   "execution_count": null,
   "id": "e62b1797",
   "metadata": {},
   "outputs": [],
   "source": [
    "fig = go.Figure()\n",
    "\n",
    "fig.add_trace(\n",
    "    go.Scatter(\n",
    "        x=waste_df['year'],\n",
    "        y=waste_df['bwr_average_burnup'],\n",
    "        name='Boiling water reactor',\n",
    "        mode='lines+markers',\n",
    "        line=dict(\n",
    "            color=\"#7fc97f\"\n",
    "        ),\n",
    "    )\n",
    ")\n",
    "\n",
    "fig.add_trace(\n",
    "    go.Scatter(\n",
    "        x=waste_df['year'],\n",
    "        y=waste_df['pwr_average_burnup'],\n",
    "        name='Presurised water reactor',\n",
    "        mode='lines+markers',\n",
    "        line=dict(\n",
    "            color=\"#fdc086\"\n",
    "        ),\n",
    "    )\n",
    ")\n",
    "\n",
    "fig.add_trace(\n",
    "    go.Scatter(\n",
    "        x=waste_df['year'],\n",
    "        y=waste_df['total_average_burnup'],\n",
    "        name='Total',\n",
    "        mode='lines+markers',\n",
    "        line=dict(\n",
    "            color=\"#beaed4\"\n",
    "        ),\n",
    "    )\n",
    ")\n",
    "\n",
    "fig.update_layout(\n",
    "    title=\"Average Burnup per reactor method\",\n",
    "    xaxis_title=\"Year\",\n",
    "    yaxis_title=\"Burnup (GWd/MTU)\",\n",
    ")\n",
    "\n",
    "fig.show()"
   ]
  },
  {
   "cell_type": "code",
   "execution_count": null,
   "id": "50680eb6",
   "metadata": {},
   "outputs": [],
   "source": [
    "fig = go.Figure(\n",
    "    go.Scatter(\n",
    "        x=waste_df['year'],\n",
    "        y=waste_df['total_tons_uranium'],\n",
    "        mode='lines+markers',\n",
    "        line=dict(\n",
    "            color=\"#298f0d\"\n",
    "        ),\n",
    "    )\n",
    ")\n",
    "\n",
    "fig.update_layout(\n",
    "    title=\"Total Tons of Uranium Used\",\n",
    "    xaxis_title=\"Year\",\n",
    "    yaxis_title=\"MTU\",\n",
    ")\n",
    "fig.show()"
   ]
  }
 ],
 "metadata": {
  "kernelspec": {
   "display_name": "global-dev",
   "language": "python",
   "name": "python3"
  },
  "language_info": {
   "codemirror_mode": {
    "name": "ipython",
    "version": 3
   },
   "file_extension": ".py",
   "mimetype": "text/x-python",
   "name": "python",
   "nbconvert_exporter": "python",
   "pygments_lexer": "ipython3",
   "version": "3.12.5"
  }
 },
 "nbformat": 4,
 "nbformat_minor": 5
}
