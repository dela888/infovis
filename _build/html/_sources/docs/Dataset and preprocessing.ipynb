{
 "cells": [
  {
   "cell_type": "markdown",
   "id": "49144ead",
   "metadata": {},
   "source": [
    "# Introduction\n",
    "\n",
    "Nuclear energy has been on the rise in the current decade, as there has been a growing interest in a more sustainable energy source. This is due to the fact that nuclear energy's ability to generate large amounts of energy with a minimal carbon footprint. However, it is still quite a controversial form of power generation.\n",
    "\n",
    "Due to historical accidents, such as Chernobyl, concerns over radioactive waste management and other issues, public opinion has become divided on whether nuclear energy should be used as a primary energy source. It could be seen as a powerful source of clean energy but also as one with potential safety risks.\n",
    "\n",
    "In a time with increasing demand for global energy and urgent climate goals, nuclear energy is gaining attention again as a possible solution to the problems. Our data story aims to explore and show the two sides of nuclear energy and to demonstrate that nuclear energy could be the start of a cleaner power \n",
    "generation, while also showing the challenges of receiving the energy.\n",
    "\n",
    "NONONONONO"
   ]
  }
 ],
 "metadata": {
  "language_info": {
   "name": "python"
  }
 },
 "nbformat": 4,
 "nbformat_minor": 5
}
